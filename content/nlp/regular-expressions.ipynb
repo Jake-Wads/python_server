{
 "cells": [
  {
   "cell_type": "markdown",
   "metadata": {},
   "source": [
    "# Regular Expressions\n",
    "\n",
    "A regular expression is a sort of meta-language that can be used to describe\n",
    "patterns in text.\n",
    "\n",
    "Regexes are most commonly used in one of two ways:\n",
    "\n",
    "- To find/extract text that matches a pattern.\n",
    "- To replace/substitute text that matches a pattern.\n",
    "\n",
    "## The `re` module\n",
    "\n",
    "To demonstrate regular expressions, we'll be using the `re` module from the\n",
    "python standard library, and its `findall` function. Many other libraries also\n",
    "work with regular expressions.\n",
    "\n",
    "This function will accept a string that is a regular expression, the `pattern`,\n",
    "and another string that is the string to be searched. `findall` will return a\n",
    "list of all of the times the given regular expression matches the string.\n",
    "\n",
    "!!!note \"Raw Strings\"\n",
    "    Any string in python prefixed with a `r` is a **raw string**. This means\n",
    "    that backslashes will be included in the string verbatim, and don't carry\n",
    "    special meaning. It is very common to use raw strings when creating a\n",
    "    regular expression.\n",
    "\n",
    "## Basic Regexes \n",
    "    \n",
    "At it's most basic, any alpha numeric character is a valid regular expression."
   ]
  },
  {
   "cell_type": "code",
   "execution_count": 1,
   "metadata": {},
   "outputs": [
    {
     "data": {
      "text/plain": [
       "['b']"
      ]
     },
     "execution_count": 1,
     "metadata": {},
     "output_type": "execute_result"
    }
   ],
   "source": [
    "import re\n",
    "\n",
    "re.findall(r'b', 'abcd')"
   ]
  },
  {
   "cell_type": "markdown",
   "metadata": {},
   "source": [
    "We'll define a function here to simplify the process of showing many results from regular expressions."
   ]
  },
  {
   "cell_type": "code",
   "execution_count": 2,
   "metadata": {},
   "outputs": [],
   "source": [
    "def show_all_matches(regexes, subject, re_length=6):\n",
    "    print('Sentence:')\n",
    "    print()\n",
    "    print('    {}'.format(subject))\n",
    "    print()\n",
    "    print(' regexp{} | matches'.format(' ' * (re_length - 6)))\n",
    "    print(' ------{} | -------'.format(' ' * (re_length - 6)))\n",
    "    for regexp in regexes:\n",
    "        fmt = ' {:<%d} | {!r}' % re_length\n",
    "        matches = re.findall(regexp, subject)\n",
    "        if len(matches) > 8:\n",
    "            matches = matches[:8] + ['...']\n",
    "        print(fmt.format(regexp, matches))"
   ]
  },
  {
   "cell_type": "code",
   "execution_count": 3,
   "metadata": {},
   "outputs": [
    {
     "name": "stdout",
     "output_type": "stream",
     "text": [
      "Sentence:\n",
      "\n",
      "    Mary had a little lamb. 1 little lamb. Not 10, not 12, not 22, just one.\n",
      "\n",
      " regexp | matches\n",
      " ------ | -------\n",
      " a      | ['a', 'a', 'a', 'a', 'a']\n",
      " m      | ['m', 'm']\n",
      " M      | ['M']\n",
      " Mary   | ['Mary']\n",
      " little | ['little', 'little']\n",
      " 1      | ['1', '1', '1']\n",
      " 10     | ['10']\n",
      " 22     | ['22']\n"
     ]
    }
   ],
   "source": [
    "sentence = 'Mary had a little lamb. 1 little lamb. Not 10, not 12, not 22, just one.'\n",
    "\n",
    "show_all_matches([\n",
    "    r'a',\n",
    "    r'm',\n",
    "    r'M',\n",
    "    r'Mary',\n",
    "    r'little',\n",
    "    r'1',\n",
    "    r'10',\n",
    "    r'22'\n",
    "], sentence)"
   ]
  },
  {
   "cell_type": "markdown",
   "metadata": {},
   "source": [
    "## Metacharacters and Character Classes\n",
    "\n",
    "In addition to letters and numbers, there are special **metacharacters** in\n",
    "regular expressions. These are characters that match several different kinds of\n",
    "characters, but don't match the character itself literally like others.\n",
    "Metacharacters must be **escaped** to match the character itself.\n",
    "\n",
    "Here are several metacharacters that represent various **character classes**.\n",
    "\n",
    "| metacharacter | matches                                |\n",
    "| ------------- | -------                                |\n",
    "| `.`           | anything                               |\n",
    "| `\\w`          | any letter or number                   |\n",
    "| `\\W`          | anything that's not a letter or number |\n",
    "| `\\d`          | any digit                              |\n",
    "| `\\D`          | anything that's not a digit            |\n",
    "| `\\s`          | any whitespace character               |\n"
   ]
  },
  {
   "cell_type": "code",
   "execution_count": 4,
   "metadata": {},
   "outputs": [
    {
     "name": "stdout",
     "output_type": "stream",
     "text": [
      "Sentence:\n",
      "\n",
      "    Mary had a little lamb. 1 little lamb. Not 10, not 12, not 22, just one.\n",
      "\n",
      " regexp | matches\n",
      " ------ | -------\n",
      " \\w     | ['M', 'a', 'r', 'y', 'h', 'a', 'd', 'a', '...']\n",
      " \\d     | ['1', '1', '0', '1', '2', '2', '2']\n",
      " \\s     | [' ', ' ', ' ', ' ', ' ', ' ', ' ', ' ', '...']\n",
      " .      | ['M', 'a', 'r', 'y', ' ', 'h', 'a', 'd', '...']\n",
      " \\.     | ['.', '.', '.']\n"
     ]
    }
   ],
   "source": [
    "res = [\n",
    "    r'\\w',\n",
    "    r'\\d',\n",
    "    r'\\s',\n",
    "    r'.', # matches every character\n",
    "    r'\\.', # a literal period\n",
    "]\n",
    "show_all_matches(res, sentence)"
   ]
  },
  {
   "cell_type": "markdown",
   "metadata": {},
   "source": [
    "These can be combined together."
   ]
  },
  {
   "cell_type": "code",
   "execution_count": 5,
   "metadata": {},
   "outputs": [
    {
     "name": "stdout",
     "output_type": "stream",
     "text": [
      "Sentence:\n",
      "\n",
      "    Mary had a little lamb. 1 little lamb. Not 10, not 12, not 22, just one.\n",
      "\n",
      " regexp    | matches\n",
      " ------    | -------\n",
      " l\\w\\w\\w\\W | ['lamb.', 'lamb.']\n",
      " \\d\\d      | ['10', '12', '22']\n"
     ]
    }
   ],
   "source": [
    "show_all_matches([r'l\\w\\w\\w\\W', r'\\d\\d'], sentence, re_length=9)"
   ]
  },
  {
   "cell_type": "markdown",
   "metadata": {},
   "source": [
    "## Repeating\n",
    "\n",
    "All of the metacharacters in the table below will match the previous character a\n",
    "repeated number of times.\n",
    "\n",
    "| metacharacter | matches                         | \n",
    "| ------------- | -------                         | \n",
    "| `*`           | zero or more                    |\n",
    "| `+`           | one or more                     |\n",
    "| `{n}`         | exactly `n` repititions         |\n",
    "| `{n,}`        | `n` or more repititions         |\n",
    "| `{n,m}`       | between `n` and `m` repititions |\n",
    "| `?`           | an optional character           |\n"
   ]
  },
  {
   "cell_type": "code",
   "execution_count": 6,
   "metadata": {},
   "outputs": [
    {
     "name": "stdout",
     "output_type": "stream",
     "text": [
      "Sentence:\n",
      "\n",
      "    Mary had a little lamb. 1 little lamb. Not 10, not 12, not 22, just one.\n",
      "\n",
      " regexp | matches\n",
      " ------ | -------\n",
      " \\d+    | ['1', '10', '12', '22']\n",
      "\n",
      "---\n",
      "\n",
      "Sentence:\n",
      "\n",
      "    aabbaaaa\n",
      "\n",
      " regexp | matches\n",
      " ------ | -------\n",
      " a{2,}  | ['aa', 'aaaa']\n",
      " a{2}   | ['aa', 'aa', 'aa']\n",
      " a{3,4} | ['aaaa']\n"
     ]
    }
   ],
   "source": [
    "show_all_matches([\n",
    "    r'\\d+'\n",
    "], sentence)\n",
    "\n",
    "print('\\n---\\n')\n",
    "\n",
    "show_all_matches([\n",
    "    r'a{2,}',\n",
    "    r'a{2}',\n",
    "    r'a{3,4}'\n",
    "], 'aabbaaaa')"
   ]
  },
  {
   "cell_type": "markdown",
   "metadata": {},
   "source": [
    "## Any of or None of\n",
    "\n",
    "The square brackets in a regular expression represent a single character that\n",
    "will match any of the values within the square brackets. For example, `[ab]`\n",
    "will match either an 'a' or a 'b'.\n",
    "\n",
    "If the first character inside of the square brackets is a caret, `^`, then\n",
    "anything that is *not* inside of the square brackets will be matched. For\n",
    "example, `[^ab]` will match any character that is neither 'a' nor 'b'.\n",
    "\n",
    "Inside of square brackets, ranges of letters and numbers can be abbreviated with\n",
    "a hyphen."
   ]
  },
  {
   "cell_type": "code",
   "execution_count": 7,
   "metadata": {},
   "outputs": [
    {
     "name": "stdout",
     "output_type": "stream",
     "text": [
      "Sentence:\n",
      "\n",
      "    Mary had a little lamb. 1 little lamb. Not 10, not 12, not 22, just one.\n",
      "\n",
      " regexp       | matches\n",
      " ------       | -------\n",
      " [lt]         | ['l', 't', 't', 'l', 'l', 'l', 't', 't', '...']\n",
      " [lt]+        | ['l', 'ttl', 'l', 'l', 'ttl', 'l', 't', 't', '...']\n",
      " [^aeiou\\s\\.] | ['M', 'r', 'y', 'h', 'd', 'l', 't', 't', '...']\n",
      " [a-d]        | ['a', 'a', 'd', 'a', 'a', 'b', 'a', 'b']\n"
     ]
    }
   ],
   "source": [
    "show_all_matches([\n",
    "    r'[lt]',\n",
    "    r'[lt]+',\n",
    "    r'[^aeiou\\s\\.]', # any letter that's not a vowel\n",
    "    r'[a-d]'\n",
    "], sentence, re_length=12)"
   ]
  },
  {
   "cell_type": "markdown",
   "metadata": {},
   "source": [
    "## Anchors\n",
    "\n",
    "There are several special metacharacters that don't match any individual\n",
    "characters, but serve as an \"anchor\" for the rest of the regular expression.\n",
    "\n",
    "| metacharacter | matches                      |\n",
    "| ------------- | -------                      |\n",
    "| `^`           | The start of the string/line |\n",
    "| `$`           | The end of the string/line   |\n",
    "| `\\b`          | A word boundary              |"
   ]
  },
  {
   "cell_type": "code",
   "execution_count": 8,
   "metadata": {},
   "outputs": [
    {
     "name": "stdout",
     "output_type": "stream",
     "text": [
      "Sentence:\n",
      "\n",
      "    Mary had a little lamb. 1 little lamb. Not 10, not 12, not 22, just one.\n",
      "\n",
      " regexp | matches\n",
      " ------ | -------\n",
      " \\bo\\w+ | ['one']\n",
      " ^\\s    | []\n",
      " ^M     | ['M']\n",
      " \\.$    | ['.']\n"
     ]
    }
   ],
   "source": [
    "show_all_matches([\n",
    "    r'\\bo\\w+', # any word that starts with an 'o'\n",
    "    r'^\\s', # starts with a space\n",
    "    r'^M', # starts with 'M'\n",
    "    r'\\.$', # ends with a period\n",
    "], sentence)"
   ]
  },
  {
   "cell_type": "markdown",
   "metadata": {},
   "source": [
    "## Other Common Functions\n",
    "\n",
    "- `match`: Matches from the start of the string.\n",
    "- `search`: Find the first instance of the regular expression.\n",
    "- `sub`: Make substitutions with a regular expression.\n",
    "- `compile`: Prepare a regular expression for use ahead of time.\n",
    "\n",
    "Now we'll take a look at using `search` and `sub` in more detail."
   ]
  },
  {
   "cell_type": "markdown",
   "metadata": {},
   "source": [
    "## Capture Groups\n",
    "\n",
    "We can define groups in our regular expressions called **capture groups**. This allows us to reference the groups later on in the regular expression, or apply repitition to the group as a whole.\n",
    "\n",
    "Note that when we include capture groups in our regular expressions, `findall` will return only the matched groups, not the entire text that was matched."
   ]
  },
  {
   "cell_type": "code",
   "execution_count": 9,
   "metadata": {},
   "outputs": [],
   "source": [
    "sentence = '''\n",
    "You can find us on the web at https://codeup.com. Our ip address is 123.123.123.123 (maybe).\n",
    "'''.strip()"
   ]
  },
  {
   "cell_type": "code",
   "execution_count": 10,
   "metadata": {},
   "outputs": [
    {
     "data": {
      "text/plain": [
       "'123.123.123.123'"
      ]
     },
     "execution_count": 10,
     "metadata": {},
     "output_type": "execute_result"
    }
   ],
   "source": [
    "ip_re = r'\\d+(\\.\\d+){3}'\n",
    "\n",
    "match = re.search(ip_re, sentence)\n",
    "match[0]"
   ]
  },
  {
   "cell_type": "code",
   "execution_count": 11,
   "metadata": {},
   "outputs": [
    {
     "name": "stdout",
     "output_type": "stream",
     "text": [
      "\n",
      "protocol: https\n",
      "domain:   codeup\n",
      "tld:      com\n",
      "\n"
     ]
    }
   ],
   "source": [
    "# simplified for demonstration, a real url to parse urls would be much more\n",
    "# complex\n",
    "url_re = r'(https?)://(\\w+)\\.(\\w+)'\n",
    "\n",
    "protocol, domain, tld = re.search(url_re, sentence).groups()\n",
    "\n",
    "print(f'''\n",
    "protocol: {protocol}\n",
    "domain:   {domain}\n",
    "tld:      {tld}\n",
    "''')"
   ]
  },
  {
   "cell_type": "markdown",
   "metadata": {},
   "source": [
    "You can create *non-capturing* (aka shy) groups by adding `?:` to the beginning of the group, and groups can be named by adding `?P<name>`."
   ]
  },
  {
   "cell_type": "code",
   "execution_count": 12,
   "metadata": {},
   "outputs": [
    {
     "name": "stdout",
     "output_type": "stream",
     "text": [
      "\n",
      "groups: ('https', 'com')\n",
      "referencing a group by name: com\n",
      "group dictionary: {'protocol': 'https', 'tld': 'com'}\n",
      "\n"
     ]
    }
   ],
   "source": [
    "url_re = r'(?P<protocol>https?)://(?:\\w+)\\.(?P<tld>\\w+)'\n",
    "\n",
    "match = re.search(url_re, sentence)\n",
    "\n",
    "print(f'''\n",
    "groups: {match.groups()}\n",
    "referencing a group by name: {match.group('tld')}\n",
    "group dictionary: {match.groupdict()}\n",
    "''')"
   ]
  },
  {
   "cell_type": "markdown",
   "metadata": {},
   "source": [
    "## Substitution\n",
    "\n",
    "We can use a regular expression to replace or remove parts of a string. In addition, if the supplied regular expression has capture groups in it, the text captured can be referenced when making the substitution."
   ]
  },
  {
   "cell_type": "code",
   "execution_count": 13,
   "metadata": {},
   "outputs": [
    {
     "data": {
      "text/plain": [
       "'123'"
      ]
     },
     "execution_count": 13,
     "metadata": {},
     "output_type": "execute_result"
    }
   ],
   "source": [
    "# remove anything that's not a digit\n",
    "re.sub(r'\\D', '', 'abc 123')"
   ]
  },
  {
   "cell_type": "code",
   "execution_count": 14,
   "metadata": {},
   "outputs": [
    {
     "data": {
      "text/plain": [
       "'abc'"
      ]
     },
     "execution_count": 14,
     "metadata": {},
     "output_type": "execute_result"
    }
   ],
   "source": [
    "# remove anything that's not a letter\n",
    "re.sub(r'[^a-z]', '', 'abc 123')"
   ]
  },
  {
   "cell_type": "code",
   "execution_count": 15,
   "metadata": {},
   "outputs": [
    {
     "data": {
      "text/plain": [
       "'b'"
      ]
     },
     "execution_count": 15,
     "metadata": {},
     "output_type": "execute_result"
    }
   ],
   "source": [
    "re.sub(r'.(.).', r'\\1', 'abc')"
   ]
  },
  {
   "cell_type": "code",
   "execution_count": 16,
   "metadata": {},
   "outputs": [
    {
     "data": {
      "text/plain": [
       "'cba'"
      ]
     },
     "execution_count": 16,
     "metadata": {},
     "output_type": "execute_result"
    }
   ],
   "source": [
    "re.sub(r'(.)(.)(.)', r'\\3\\2\\1', 'abc')"
   ]
  },
  {
   "cell_type": "code",
   "execution_count": 17,
   "metadata": {},
   "outputs": [
    {
     "data": {
      "text/plain": [
       "'aX'"
      ]
     },
     "execution_count": 17,
     "metadata": {},
     "output_type": "execute_result"
    }
   ],
   "source": [
    "re.sub(r'.{2}$', 'X', 'abc')"
   ]
  },
  {
   "cell_type": "markdown",
   "metadata": {},
   "source": [
    "## Regex Flags\n",
    "\n",
    "Include any of the flags below as the last argument to any of the regular\n",
    "expressions method mentioned in this lesson, and that behavior will be enabled\n",
    "for that use of the regular expression.\n",
    "\n",
    "- `re.MULTILINE`: The `^` and `$` anchors will apply line by line, instead of\n",
    "  applying to start and end of the string.\n",
    "\n",
    "- `re.IGNORECASE`: Ignore character casing when matching.\n",
    "\n",
    "- `re.VERBOSE`: Ignore any whitespace in the regular expression. This can be\n",
    "  useful to make more readable regular expressions, especially when combined\n",
    "  with non-capturing comment groups.\n",
    "\n",
    "    ```python\n",
    "    regexp = r'''\n",
    "    [aeiou] (?# any vowel)\n",
    "    [^aeiou] (?# followed by a non-vowel)\n",
    "    '''\n",
    "    ```\n",
    "\n",
    "    The above is equivalent to the following.\n",
    "\n",
    "    ```python\n",
    "    regexp = r'[aeiou][^aeiou]'\n",
    "    ```\n",
    "\n",
    "    When the `VERBOSE` flag is set."
   ]
  },
  {
   "cell_type": "markdown",
   "metadata": {},
   "source": [
    "## Further Reading\n",
    "\n",
    "- [RegExr: test out regexes in your browser](https://regexr.com/)\n",
    "- [RegexOne: learn regular expressions](https://regexone.com/)\n",
    "- [Python docs on the `re` module](https://docs.python.org/3/library/re.html)"
   ]
  },
  {
   "cell_type": "markdown",
   "metadata": {},
   "source": [
    "## Exercises\n",
    "\n",
    "Using the [repo setup directions](https://ds.codeup.com/fundamentals/git/), setup a new local and remote repository named `natural-language-processing-exercises`. The local version of your repo should live inside of `~/codeup-data-science`. This repo should be named `natural-language-processing-exercises`\n",
    "\n",
    "Save this work in your `natural-language-processing-exercises` repo. Then add, commit, and push your changes.\n",
    "\n",
    "Unless a specific file extension is specified, you may do your work either in a\n",
    "python script (`.py`) or a jupyter notebook (`.ipynb`).\n",
    "\n",
    "Do your work for this exercise in a file named `regex_exercises`.\n",
    "\n",
    "1. Write a function named `is_vowel`. It should accept a string as input and use\n",
    "   a regular expression to determine if the passed string is a vowel. While not\n",
    "   explicity mentioned in the lesson, you can treat the result of `re.search` as\n",
    "   a boolean value that indicates whether or not the regular expression matches\n",
    "   the given string.\n",
    "\n",
    "1. Write a function named `is_valid_username` that accepts a string as input. A\n",
    "   valid username starts with a lowercase letter, and only consists of lowercase\n",
    "   letters, numbers, or the `_` character. It should also be no longer than 32\n",
    "   characters. The function should return either `True` or `False` depending on\n",
    "   whether the passed string is a valid username.\n",
    "\n",
    "        >>> is_valid_username('aaaaaaaaaaaaaaaaaaaaaaaaaaaaaaaaa')\n",
    "        False\n",
    "        >>> is_valid_username('codeup')\n",
    "        True\n",
    "        >>> is_valid_username('Codeup')\n",
    "        False\n",
    "        >>> is_valid_username('codeup123')\n",
    "        True\n",
    "        >>> is_valid_username('1codeup')\n",
    "        False\n",
    "\n",
    "1. Write a regular expression to capture phone numbers. It should match all of\n",
    "   the following:\n",
    "\n",
    "        (210) 867 5309\n",
    "        +1 210.867.5309\n",
    "        867-5309\n",
    "        210-867-5309\n",
    "\n",
    "1. Use regular expressions to convert the dates below to the standardized year-month-day format.\n",
    "\n",
    "        02/04/19\n",
    "        02/05/19\n",
    "        02/06/19\n",
    "        02/07/19\n",
    "        02/08/19\n",
    "        02/09/19\n",
    "        02/10/19\n",
    "\n",
    "1. Write a regex to extract the various parts of these logfile lines:\n",
    "\n",
    "        GET /api/v1/sales?page=86 [16/Apr/2019:193452+0000] HTTP/1.1 {200} 510348 \"python-requests/2.21.0\" 97.105.19.58\n",
    "        POST /users_accounts/file-upload [16/Apr/2019:193452+0000] HTTP/1.1 {201} 42 \"User-Agent: Mozilla/5.0 (X11; Fedora; Fedora; Linux x86_64) AppleWebKit/537.36 (KHTML, like Gecko) Chrome/73.0.3683.86 Safari/537.36\" 97.105.19.58\n",
    "        GET /api/v1/items?page=3 [16/Apr/2019:193453+0000] HTTP/1.1 {429} 3561 \"python-requests/2.21.0\" 97.105.19.58\n",
    "\n",
    "\n",
    "**Bonus Exercise**\n",
    "\n",
    "You can find a list of words on your mac at `/usr/share/dict/words`. Use this\n",
    "   file to answer the following questions:\n",
    "\n",
    "    - How many words have at least 3 vowels?\n",
    "    - How many words have at least 3 vowels in a row?\n",
    "    - How many words have at least 4 consonants in a row?\n",
    "    - How many words start and end with the same letter?\n",
    "    - How many words start and end with a vowel?\n",
    "    - How many words contain the same letter 3 times in a row?\n",
    "    - What other interesting patterns in words can you find?"
   ]
  },
  {
   "cell_type": "code",
   "execution_count": null,
   "metadata": {},
   "outputs": [],
   "source": []
  }
 ],
 "metadata": {
  "jupytext": {
   "cell_metadata_filter": "-all",
   "main_language": "python",
   "notebook_metadata_filter": "-all"
  },
  "kernelspec": {
   "display_name": "Python 3 (ipykernel)",
   "language": "python",
   "name": "python3"
  },
  "language_info": {
   "codemirror_mode": {
    "name": "ipython",
    "version": 3
   },
   "file_extension": ".py",
   "mimetype": "text/x-python",
   "name": "python",
   "nbconvert_exporter": "python",
   "pygments_lexer": "ipython3",
   "version": "3.8.12"
  }
 },
 "nbformat": 4,
 "nbformat_minor": 2
}
