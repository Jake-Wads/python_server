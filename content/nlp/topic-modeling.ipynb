{
 "cells": [
  {
   "cell_type": "markdown",
   "metadata": {},
   "source": [
    "# *IN PROGRESS*\n",
    "\n",
    "# Topic Modeling\n",
    "\n",
    "\n",
    "https://www.surveymonkey.com/mp/natural-language-processing/\n",
    "\n",
    "\n",
    "Topic modeling uses algorithms to identify the main themes or ideas (topics) in a large amount of text data. Topic modeling algorithms examine text to look for clusters of similar words and then group them based on the statistics of how often the words appear and what the balance of topics is.\n",
    "\n",
    "As a result, topic modeling helps you understand the key themes from your survey responses as well as the relative importance of each theme.\n",
    "\n",
    "#### Common Use Cases\n",
    "\n",
    "#### Data Types\n",
    "1. Input:\n",
    "2. Output:\n",
    "\n",
    "#### Common Evaluation Metrics\n",
    "\n",
    "#### Pros\n",
    "1. Identifies key topics that drive the respondent’s sentiment in a certain direction\n",
    "2. Helps you understand each topic’s level of influence\n",
    "3. Produces an intuitive and easy to understand visual\n",
    "\n",
    "#### Cons\n",
    "1. Doesn’t account for the significance of each topic in and of itself\n",
    "2. The survey creator specifies the number of topics they’d like to have in advance. This easily leads to human error; choosing an excessive number of topics creates less valuable ones while choosing an insufficient number leaves out potentially important topics\n",
    "3. Becomes overwhelming and less meaningful if too many key topics are chosen\n"
   ]
  },
  {
   "cell_type": "code",
   "execution_count": null,
   "metadata": {},
   "outputs": [],
   "source": []
  }
 ],
 "metadata": {
  "kernelspec": {
   "display_name": "Python 3",
   "language": "python",
   "name": "python3"
  },
  "language_info": {
   "codemirror_mode": {
    "name": "ipython",
    "version": 3
   },
   "file_extension": ".py",
   "mimetype": "text/x-python",
   "name": "python",
   "nbconvert_exporter": "python",
   "pygments_lexer": "ipython3",
   "version": "3.7.1"
  }
 },
 "nbformat": 4,
 "nbformat_minor": 2
}
