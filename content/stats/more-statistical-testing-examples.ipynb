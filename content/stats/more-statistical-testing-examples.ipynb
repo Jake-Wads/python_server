{
 "cells": [
  {
   "cell_type": "markdown",
   "metadata": {},
   "source": [
    "# Statistical Testing Examples in Python\n",
    "\n",
    "In this lesson, we'll take a look at some examples of using statistical testing to analyze a dataset.\n",
    "\n",
    "We'll be using the `tips` dataset, which contains information about each tip a waiter received while working in a restauraunt.\n",
    "\n",
    "We'll focus on three tests for these specific purposes:\n",
    "\n",
    "- **chi2**: to compare two categorical variables\n",
    "- **pearson r**: to compare two continuous variables\n",
    "- **t-test**: to compare one categorical and one continuous variable\n",
    "\n",
    "Before we begin we will load in the data set and take a quick glance at it."
   ]
  },
  {
   "cell_type": "code",
   "execution_count": 1,
   "metadata": {},
   "outputs": [],
   "source": [
    "%matplotlib inline\n",
    "import pandas as pd\n",
    "from scipy import stats\n",
    "from pydataset import data\n",
    "import viz\n",
    "\n",
    "tips = data('tips')"
   ]
  },
  {
   "cell_type": "code",
   "execution_count": 2,
   "metadata": {},
   "outputs": [
    {
     "data": {
      "text/plain": [
       "(244, 7)"
      ]
     },
     "execution_count": 2,
     "metadata": {},
     "output_type": "execute_result"
    }
   ],
   "source": [
    "tips.shape"
   ]
  },
  {
   "cell_type": "code",
   "execution_count": 3,
   "metadata": {},
   "outputs": [
    {
     "data": {
      "text/html": [
       "<div>\n",
       "<style scoped>\n",
       "    .dataframe tbody tr th:only-of-type {\n",
       "        vertical-align: middle;\n",
       "    }\n",
       "\n",
       "    .dataframe tbody tr th {\n",
       "        vertical-align: top;\n",
       "    }\n",
       "\n",
       "    .dataframe thead th {\n",
       "        text-align: right;\n",
       "    }\n",
       "</style>\n",
       "<table border=\"1\" class=\"dataframe\">\n",
       "  <thead>\n",
       "    <tr style=\"text-align: right;\">\n",
       "      <th></th>\n",
       "      <th>total_bill</th>\n",
       "      <th>tip</th>\n",
       "      <th>sex</th>\n",
       "      <th>smoker</th>\n",
       "      <th>day</th>\n",
       "      <th>time</th>\n",
       "      <th>size</th>\n",
       "    </tr>\n",
       "  </thead>\n",
       "  <tbody>\n",
       "    <tr>\n",
       "      <th>1</th>\n",
       "      <td>16.99</td>\n",
       "      <td>1.01</td>\n",
       "      <td>Female</td>\n",
       "      <td>No</td>\n",
       "      <td>Sun</td>\n",
       "      <td>Dinner</td>\n",
       "      <td>2</td>\n",
       "    </tr>\n",
       "    <tr>\n",
       "      <th>2</th>\n",
       "      <td>10.34</td>\n",
       "      <td>1.66</td>\n",
       "      <td>Male</td>\n",
       "      <td>No</td>\n",
       "      <td>Sun</td>\n",
       "      <td>Dinner</td>\n",
       "      <td>3</td>\n",
       "    </tr>\n",
       "    <tr>\n",
       "      <th>3</th>\n",
       "      <td>21.01</td>\n",
       "      <td>3.50</td>\n",
       "      <td>Male</td>\n",
       "      <td>No</td>\n",
       "      <td>Sun</td>\n",
       "      <td>Dinner</td>\n",
       "      <td>3</td>\n",
       "    </tr>\n",
       "    <tr>\n",
       "      <th>4</th>\n",
       "      <td>23.68</td>\n",
       "      <td>3.31</td>\n",
       "      <td>Male</td>\n",
       "      <td>No</td>\n",
       "      <td>Sun</td>\n",
       "      <td>Dinner</td>\n",
       "      <td>2</td>\n",
       "    </tr>\n",
       "    <tr>\n",
       "      <th>5</th>\n",
       "      <td>24.59</td>\n",
       "      <td>3.61</td>\n",
       "      <td>Female</td>\n",
       "      <td>No</td>\n",
       "      <td>Sun</td>\n",
       "      <td>Dinner</td>\n",
       "      <td>4</td>\n",
       "    </tr>\n",
       "  </tbody>\n",
       "</table>\n",
       "</div>"
      ],
      "text/plain": [
       "   total_bill   tip     sex smoker  day    time  size\n",
       "1       16.99  1.01  Female     No  Sun  Dinner     2\n",
       "2       10.34  1.66    Male     No  Sun  Dinner     3\n",
       "3       21.01  3.50    Male     No  Sun  Dinner     3\n",
       "4       23.68  3.31    Male     No  Sun  Dinner     2\n",
       "5       24.59  3.61  Female     No  Sun  Dinner     4"
      ]
     },
     "execution_count": 3,
     "metadata": {},
     "output_type": "execute_result"
    }
   ],
   "source": [
    "tips.head()"
   ]
  },
  {
   "cell_type": "markdown",
   "metadata": {},
   "source": [
    "## chi2\n",
    "\n",
    "We use a chi2 test to compare two categorical variables. For this example, we will compare the `sex` variable with the `smoker` column. Our null hypothesis is that membership in these groups is independent, more formally:\n",
    "\n",
    "$H_0$: sex is indep of whether or not someone is a smoker\n",
    "\n",
    "First we need to generate a *contingency table*, which is another word for a cross tabulation, and can easily be generated with pandas."
   ]
  },
  {
   "cell_type": "code",
   "execution_count": 4,
   "metadata": {},
   "outputs": [
    {
     "data": {
      "text/html": [
       "<div>\n",
       "<style scoped>\n",
       "    .dataframe tbody tr th:only-of-type {\n",
       "        vertical-align: middle;\n",
       "    }\n",
       "\n",
       "    .dataframe tbody tr th {\n",
       "        vertical-align: top;\n",
       "    }\n",
       "\n",
       "    .dataframe thead th {\n",
       "        text-align: right;\n",
       "    }\n",
       "</style>\n",
       "<table border=\"1\" class=\"dataframe\">\n",
       "  <thead>\n",
       "    <tr style=\"text-align: right;\">\n",
       "      <th>smoker</th>\n",
       "      <th>No</th>\n",
       "      <th>Yes</th>\n",
       "    </tr>\n",
       "    <tr>\n",
       "      <th>sex</th>\n",
       "      <th></th>\n",
       "      <th></th>\n",
       "    </tr>\n",
       "  </thead>\n",
       "  <tbody>\n",
       "    <tr>\n",
       "      <th>Female</th>\n",
       "      <td>54</td>\n",
       "      <td>33</td>\n",
       "    </tr>\n",
       "    <tr>\n",
       "      <th>Male</th>\n",
       "      <td>97</td>\n",
       "      <td>60</td>\n",
       "    </tr>\n",
       "  </tbody>\n",
       "</table>\n",
       "</div>"
      ],
      "text/plain": [
       "smoker  No  Yes\n",
       "sex            \n",
       "Female  54   33\n",
       "Male    97   60"
      ]
     },
     "execution_count": 4,
     "metadata": {},
     "output_type": "execute_result"
    }
   ],
   "source": [
    "contingency_table = pd.crosstab(tips.sex, tips.smoker)\n",
    "contingency_table"
   ]
  },
  {
   "cell_type": "markdown",
   "metadata": {},
   "source": [
    "The way the chi2 test works is to compare the actual contingency table of the actual values against the table that we would predict to be the case if group membership is independent. When we perform the test, one of the returned values will be the expected values in the contingency table.\n",
    "\n",
    "To perform the test, we simply pass the contingency table that we created with pandas to the `chi2_contingency` function from scipy."
   ]
  },
  {
   "cell_type": "code",
   "execution_count": 5,
   "metadata": {},
   "outputs": [
    {
     "data": {
      "text/plain": [
       "(0.008763290531773594, 0.925417020494423, 1, array([[53.84016393, 33.15983607],\n",
       "        [97.15983607, 59.84016393]]))"
      ]
     },
     "execution_count": 5,
     "metadata": {},
     "output_type": "execute_result"
    }
   ],
   "source": [
    "test_results = stats.chi2_contingency(contingency_table)\n",
    "test_results"
   ]
  },
  {
   "cell_type": "markdown",
   "metadata": {},
   "source": [
    "The function returns several values:\n",
    "\n",
    "- the chi2 test statistic\n",
    "- the p value\n",
    "- the degrees of freedom\n",
    "- the matrix of expected values\n",
    "\n",
    "We'll focus in on the p value and the matrix of expected values:"
   ]
  },
  {
   "cell_type": "code",
   "execution_count": 6,
   "metadata": {},
   "outputs": [],
   "source": [
    "_, p, _, expected = test_results"
   ]
  },
  {
   "cell_type": "markdown",
   "metadata": {},
   "source": [
    "Now we can look at p to decide whether to reject / fail to reject H0."
   ]
  },
  {
   "cell_type": "code",
   "execution_count": 7,
   "metadata": {},
   "outputs": [
    {
     "data": {
      "text/plain": [
       "0.925417020494423"
      ]
     },
     "execution_count": 7,
     "metadata": {},
     "output_type": "execute_result"
    }
   ],
   "source": [
    "p"
   ]
  },
  {
   "cell_type": "markdown",
   "metadata": {},
   "source": [
    "With such a high p-value, we fail to reject the null hypothesis.\n",
    "\n",
    "Less formally, it seems as though two groups are independent of each other. We can see an intuitive proof of this by comparing the expected values agains what we actually observed:"
   ]
  },
  {
   "cell_type": "code",
   "execution_count": 8,
   "metadata": {},
   "outputs": [
    {
     "data": {
      "text/html": [
       "<div>\n",
       "<style scoped>\n",
       "    .dataframe tbody tr th:only-of-type {\n",
       "        vertical-align: middle;\n",
       "    }\n",
       "\n",
       "    .dataframe tbody tr th {\n",
       "        vertical-align: top;\n",
       "    }\n",
       "\n",
       "    .dataframe thead th {\n",
       "        text-align: right;\n",
       "    }\n",
       "</style>\n",
       "<table border=\"1\" class=\"dataframe\">\n",
       "  <thead>\n",
       "    <tr style=\"text-align: right;\">\n",
       "      <th></th>\n",
       "      <th></th>\n",
       "      <th>Non-Smoker</th>\n",
       "      <th>Smoker</th>\n",
       "    </tr>\n",
       "    <tr>\n",
       "      <th>group</th>\n",
       "      <th>sex</th>\n",
       "      <th></th>\n",
       "      <th></th>\n",
       "    </tr>\n",
       "  </thead>\n",
       "  <tbody>\n",
       "    <tr>\n",
       "      <th rowspan=\"2\" valign=\"top\">Actual</th>\n",
       "      <th>Female</th>\n",
       "      <td>54.000000</td>\n",
       "      <td>33.000000</td>\n",
       "    </tr>\n",
       "    <tr>\n",
       "      <th>Male</th>\n",
       "      <td>97.000000</td>\n",
       "      <td>60.000000</td>\n",
       "    </tr>\n",
       "    <tr>\n",
       "      <th rowspan=\"2\" valign=\"top\">Expected</th>\n",
       "      <th>Female</th>\n",
       "      <td>53.840164</td>\n",
       "      <td>33.159836</td>\n",
       "    </tr>\n",
       "    <tr>\n",
       "      <th>Male</th>\n",
       "      <td>97.159836</td>\n",
       "      <td>59.840164</td>\n",
       "    </tr>\n",
       "  </tbody>\n",
       "</table>\n",
       "</div>"
      ],
      "text/plain": [
       "                 Non-Smoker     Smoker\n",
       "group    sex                          \n",
       "Actual   Female   54.000000  33.000000\n",
       "         Male     97.000000  60.000000\n",
       "Expected Female   53.840164  33.159836\n",
       "         Male     97.159836  59.840164"
      ]
     },
     "execution_count": 8,
     "metadata": {},
     "output_type": "execute_result"
    }
   ],
   "source": [
    "# Here we'll do some data frame manipulation with pandas to get the two tables\n",
    "# into a more comparable form\n",
    "expected = pd.DataFrame(expected, index=['Female', 'Male'], columns=['Non-Smoker', 'Smoker'])\n",
    "\n",
    "contingency_table.columns = ['Non-Smoker', 'Smoker']\n",
    "contingency_table.index.name = ''\n",
    "\n",
    "contingency_table['group'] = 'Actual'\n",
    "expected['group'] = 'Expected'\n",
    "\n",
    "(pd.concat([contingency_table, expected])\n",
    " .reset_index()\n",
    " .rename({'index': 'sex'}, axis=1)\n",
    " .set_index(['group', 'sex']))"
   ]
  },
  {
   "cell_type": "markdown",
   "metadata": {},
   "source": [
    "The table above shows us that the actual values are very close to the expected values, thus our failure to reject the null hypothesis."
   ]
  },
  {
   "cell_type": "markdown",
   "metadata": {},
   "source": [
    "## Pearson R\n",
    "\n",
    "We can use the pearson r test to compare two continuous variables and see if they are linearly correlated, and the strength of the correlation. We will use the only two continuous variables from our dataset, `total_bill` and `tip`. Our null hypothesis for this test is that there is no correlation between the two variables, more formally:\n",
    "\n",
    "$H_0$: There is not linear correlation between the total bill and the tip amount.\n",
    "\n",
    "To perform the test, we can pass the two `Series` that contain the values we are looking at to the `pearsonr` function form scipy's `stats` module."
   ]
  },
  {
   "cell_type": "code",
   "execution_count": 9,
   "metadata": {},
   "outputs": [
    {
     "data": {
      "text/plain": [
       "(0.6757341092113645, 6.692470646863477e-34)"
      ]
     },
     "execution_count": 9,
     "metadata": {},
     "output_type": "execute_result"
    }
   ],
   "source": [
    "test_results = stats.pearsonr(tips.total_bill, tips.tip)\n",
    "test_results"
   ]
  },
  {
   "cell_type": "markdown",
   "metadata": {},
   "source": [
    "This test gives us back two pieces of information:\n",
    "    \n",
    "- the test statistic, in this case, the r value\n",
    "- the p value"
   ]
  },
  {
   "cell_type": "code",
   "execution_count": 10,
   "metadata": {},
   "outputs": [
    {
     "name": "stdout",
     "output_type": "stream",
     "text": [
      "p is 0.0000000000\n"
     ]
    }
   ],
   "source": [
    "r, p = test_results\n",
    "\n",
    "print(f'p is {p:.10f}')"
   ]
  },
  {
   "cell_type": "markdown",
   "metadata": {},
   "source": [
    "Since p is 0 within 10 decimal places, we can safely reject the null hypothesis of no linear correlation. Less formally, it seems as though the total bill and tip amount are very related.\n",
    "\n",
    "The test statistic for this test is the r value, which tells us how strongly correlated the two variables are.\n",
    "\n",
    "We can see this with a visualization:"
   ]
  },
  {
   "cell_type": "code",
   "execution_count": 11,
   "metadata": {},
   "outputs": [
    {
     "data": {
      "image/png": "[encoded data removed]",
      "text/plain": [
       "<Figure size 648x432 with 1 Axes>"
      ]
     },
     "metadata": {
      "needs_background": "light"
     },
     "output_type": "display_data"
    }
   ],
   "source": [
    "viz.more_examples_example1()"
   ]
  },
  {
   "cell_type": "markdown",
   "metadata": {},
   "source": [
    "## T Test\n",
    "\n",
    "We can use the t-test to compare a categorical feature with a continous feature.\n",
    "\n",
    "We will focus on two kinds of t-tests:\n",
    "\n",
    "- 1 sample: compares the mean for a subgroup against the population mean\n",
    "- 2 sample: compares the means for two subgroups\n",
    "\n",
    "In both cases, our null hypothesis is the same: there is no difference in the means.\n",
    "\n",
    "To demonstrate, we'll try to answer two different questions:\n",
    "\n",
    "- Is the total bill amount different for smokers?\n",
    "- Is the size of the tip different for parties of 2 and parties of 4?\n",
    "\n",
    "### 1 Sample T Test\n",
    "\n",
    "> Is the total bill amount different for smokers?\n",
    "\n",
    "To answer this question, we need two pieces of information, which we will pass along to scipy:\n",
    "\n",
    "- the total bill amounts for all the smokers\n",
    "- the overall total bill mean\n",
    "\n",
    "We will feed both of these into the `ttest_1samp` function from scipy's `stats` module.\n",
    "\n",
    "Our null hypothesis is that there is no difference, more formally:\n",
    "\n",
    "$H_0$: The average bill for smokers is no different than the population mean."
   ]
  },
  {
   "cell_type": "code",
   "execution_count": 12,
   "metadata": {},
   "outputs": [
    {
     "data": {
      "text/plain": [
       "Ttest_1sampResult(statistic=0.951796790928544, pvalue=0.3436939512284921)"
      ]
     },
     "execution_count": 12,
     "metadata": {},
     "output_type": "execute_result"
    }
   ],
   "source": [
    "smokers_total_bills = tips[tips.smoker == 'Yes'].total_bill\n",
    "overall_total_bill_mean = tips.total_bill.mean()\n",
    "\n",
    "test_results = stats.ttest_1samp(smokers_total_bills, overall_total_bill_mean)\n",
    "test_results"
   ]
  },
  {
   "cell_type": "markdown",
   "metadata": {},
   "source": [
    "This function gives us back two pieces of information, the test statstic and the p-value.\n",
    "\n",
    "In this case, because our p-value is so high, we fail to reject our null hypothesis. Less formally, we conclude that smoker might not have a significant difference in their total bill.\n",
    "\n",
    "Again a visualization can be helpful:"
   ]
  },
  {
   "cell_type": "code",
   "execution_count": 13,
   "metadata": {},
   "outputs": [
    {
     "data": {
      "image/png": "[encoded data removed]",
      "text/plain": [
       "<Figure size 648x432 with 1 Axes>"
      ]
     },
     "metadata": {
      "needs_background": "light"
     },
     "output_type": "display_data"
    }
   ],
   "source": [
    "viz.more_examples_example2()"
   ]
  },
  {
   "cell_type": "markdown",
   "metadata": {},
   "source": [
    "### 2 Sample T Test"
   ]
  },
  {
   "cell_type": "markdown",
   "metadata": {},
   "source": [
    "> Is the total bill amount different for parties of 2 vs 4?\n",
    "\n",
    "$H_0$: The average size of the tip left by parties of 2 and parties of 4 is the same.\n",
    "\n",
    "For this example, we'll need to create two seperate datasets that contain the values for the continuous variable for each subgroup. In our case, this means we need all the tip values for parties of 2 and the tip values for parties of 4.\n",
    "\n",
    "We'll pass these to the `ttest_ind` function from scipy's `stats` module."
   ]
  },
  {
   "cell_type": "code",
   "execution_count": 14,
   "metadata": {},
   "outputs": [
    {
     "data": {
      "text/plain": [
       "Ttest_indResult(statistic=-7.462130391296251, pvalue=2.924028981378475e-12)"
      ]
     },
     "execution_count": 14,
     "metadata": {},
     "output_type": "execute_result"
    }
   ],
   "source": [
    "parties_of_2 = tips[tips['size'] == 2]\n",
    "parties_of_4 = tips[tips['size'] == 4]\n",
    "test_results = stats.ttest_ind(parties_of_2.tip, parties_of_4.tip)\n",
    "test_results"
   ]
  },
  {
   "cell_type": "markdown",
   "metadata": {},
   "source": [
    "Like before, the function returns the test statistic and the p-value. Here, with such a small p-value, we reject the null hypothesis. We think there is a significant difference in the average tip amount left by parties of 2 and parties of 4.\n",
    "\n",
    "Let's visualize this as well:"
   ]
  },
  {
   "cell_type": "code",
   "execution_count": 15,
   "metadata": {},
   "outputs": [
    {
     "data": {
      "image/png": "[encoded data removed]",
      "text/plain": [
       "<Figure size 648x432 with 1 Axes>"
      ]
     },
     "metadata": {
      "needs_background": "light"
     },
     "output_type": "display_data"
    }
   ],
   "source": [
    "viz.more_examples_example3()"
   ]
  },
  {
   "cell_type": "markdown",
   "metadata": {},
   "source": [
    "## Summary of Hypothesis Testing and Distributions\n",
    "\n",
    "![](Selecting_a_hypothesis_test.svg)"
   ]
  },
  {
   "cell_type": "markdown",
   "metadata": {},
   "source": [
    "## Exercise\n",
    "\n",
    "Continue working in your `hypothesis_testing` notebook.\n",
    "\n",
    "Choose several continous and categorical variables that were not covered in the lesson and perform each type of test on them. You may use another data set if you wish."
   ]
  }
 ],
 "metadata": {
  "jupytext": {
   "cell_metadata_filter": "-all",
   "main_language": "python",
   "notebook_metadata_filter": "-all"
  },
  "kernelspec": {
   "display_name": "Python 3",
   "language": "python",
   "name": "python3"
  },
  "language_info": {
   "codemirror_mode": {
    "name": "ipython",
    "version": 3
   },
   "file_extension": ".py",
   "mimetype": "text/x-python",
   "name": "python",
   "nbconvert_exporter": "python",
   "pygments_lexer": "ipython3",
   "version": "3.6.8"
  }
 },
 "nbformat": 4,
 "nbformat_minor": 2
}
