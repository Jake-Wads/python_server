{
 "cells": [
  {
   "cell_type": "markdown",
   "metadata": {},
   "source": [
    "# Sampling \n",
    "\n",
    "## Sample vs. Population\n",
    "\n",
    "- A population data set contains all members of a specified group (the entire list of possible data values)\n",
    "- A sample data set contains a part, or a subset, of a population. \n",
    "- The size of a sample is always less than the size of the population from which it is taken.\n",
    "\n",
    "\n",
    "## Methods\n",
    "\n",
    "- Simple random sample: All possible samples of n objects are equally likely to occur\n",
    "\n",
    "- Stratified sample: The population is divided into groups, based on some characteristic, and within each group a sample (often a simple random sample) is selected.  e.g. stratify customers by service level.\n",
    "\n",
    "- Systematic random sample: Randomly select the first sample element from the first k elements on the population list. Thereafter, we select every kth element on the list.\n",
    "\n",
    "- Voluntary sample: People who self-select into the survey or study.\n",
    "\n",
    "- Convenience sample: People who are easy to reach."
   ]
  },
  {
   "cell_type": "markdown",
   "metadata": {},
   "source": [
    "## Sampling Bias\n",
    "\n",
    "- Awareness of biases helps avoid them.  \n",
    "- Non-response Bias: When respondents differ in meaningful ways from nonrespondents.\n",
    "- Undercoverage Bias: When some members of the population are inadequately represented in the sample.\n",
    "- Voluntary Bias: Occurs when sample members are self-selected volunteers, as in voluntary samples.\n",
    "- Leading Questions Bias: The wording of the question may be loaded in some way to unduly favor one response over another.\n",
    "- Social Desirability Bias: Responses may be biased toward what they believe is socially desirable."
   ]
  },
  {
   "cell_type": "markdown",
   "metadata": {},
   "source": [
    "## Further Reading\n",
    "\n",
    "- [Wikipedia: Sampling Bias](https://en.wikipedia.org/wiki/Sampling_bias)\n",
    "- [Sampling Distribution](http://onlinestatbook.com/stat_sim/sampling_dist/).\n"
   ]
  }
 ],
 "metadata": {
  "jupytext": {
   "main_language": "python",
   "text_representation": {
    "extension": ".md",
    "format_name": "markdown"
   }
  },
  "kernelspec": {
   "display_name": "Python 3",
   "language": "python",
   "name": "python3"
  },
  "language_info": {
   "codemirror_mode": {
    "name": "ipython",
    "version": 3
   },
   "file_extension": ".py",
   "mimetype": "text/x-python",
   "name": "python",
   "nbconvert_exporter": "python",
   "pygments_lexer": "ipython3",
   "version": "3.7.1"
  },
  "toc": {
   "base_numbering": 1,
   "nav_menu": {},
   "number_sections": false,
   "sideBar": false,
   "skip_h1_title": false,
   "title_cell": "Table of Contents",
   "title_sidebar": "Contents",
   "toc_cell": false,
   "toc_position": {},
   "toc_section_display": false,
   "toc_window_display": false
  }
 },
 "nbformat": 4,
 "nbformat_minor": 2
}
