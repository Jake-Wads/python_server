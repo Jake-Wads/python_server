{
 "cells": [
  {
   "cell_type": "markdown",
   "metadata": {},
   "source": [
    "# Event Interactions and Probability\n",
    "\n",
    "## Union & Intersection  \n",
    "\n",
    "- Union:  $P(A \\cup B) \\rightarrow$ Probability of everything in sets A *or* B.\n",
    "- Intersection: $P(A \\cap B) \\rightarrow$ Probability of only those things that are in both sets A *and* B.\n",
    "\n",
    "## Subsets and Supersets\n",
    "- Subset: $A \\subset B \\rightarrow$ everything in set A is also in set B\n",
    "- Superset: $B \\supset A \\rightarrow$ B contains all of A\n",
    "- $A \\subset B == B\\supset A$\n",
    "\n",
    "## Event Exclusivity\n",
    "\n",
    "Mutually Exclusive Events, or Disjoint\n",
    "- $P(A \\cap B) = 0$\n",
    "- $P(A \\cup B) = P(A) + P(B)$\n",
    "\n",
    "Non-Mutually Exclusive Events\n",
    "- There is some overlap in what is in set A and what's in set B\n",
    "- $P(A \\cup B) = P(A) + P(B) - P(A \\cap B)$\n",
    "\n",
    "## Independent Events\n",
    "- probability that one event occurs has no effect on the probability of the other event occurring. \n",
    "- Examples: rolling a die and flipping a coin\n",
    "- $P(A \\cap B) = P(A) \\times P(B)$\n",
    "\n",
    "## Dependent Events\n",
    "\n",
    "- The outcome of the first affects the outcome of the second.\n",
    "- After the first event, the probability of the second event is changed\n",
    "\n",
    "Conditional Probability \n",
    "- Only for dependent events\n",
    "- The probability of A given B\n",
    "- $P(A|B) = \\frac{P(A \\cap B)}{P(B)}$\n",
    "\n",
    "Bayes Rule\n",
    "- A special case of conditional probability\n",
    "- When we have $P(A|B)$ and we want $P(B|A)$\n",
    "- $P(B|A) = \\frac{P(B) \\times P(A|B)}{P(A)}$\n",
    "- Example: Want to find the probability of disease given a positive test, $P(D|+)$, and we have the probability of a positive test given disease, $P(+|D)$\n",
    "\n",
    "![](Probability_Venn.png)"
   ]
  }
 ],
 "metadata": {
  "jupytext": {
   "main_language": "python",
   "text_representation": {
    "extension": ".md",
    "format_name": "markdown"
   }
  },
  "kernelspec": {
   "display_name": "Python 3",
   "language": "python",
   "name": "python3"
  },
  "language_info": {
   "codemirror_mode": {
    "name": "ipython",
    "version": 3
   },
   "file_extension": ".py",
   "mimetype": "text/x-python",
   "name": "python",
   "nbconvert_exporter": "python",
   "pygments_lexer": "ipython3",
   "version": "3.7.1"
  },
  "toc": {
   "base_numbering": 1,
   "nav_menu": {},
   "number_sections": false,
   "sideBar": false,
   "skip_h1_title": false,
   "title_cell": "Table of Contents",
   "title_sidebar": "Contents",
   "toc_cell": false,
   "toc_position": {},
   "toc_section_display": false,
   "toc_window_display": false
  }
 },
 "nbformat": 4,
 "nbformat_minor": 2
}
