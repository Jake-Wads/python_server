{
 "cells": [
  {
   "cell_type": "markdown",
   "metadata": {},
   "source": [
    "# Comparing Means\n",
    "\n",
    "We can compare two groups to see if they differ in some measure (represented by a continuous variable) significantly by comparing each group's mean value of that continuous variable. \n",
    "In other words, we compare subgroups of a categorical value by comparing the mean of a continuous variable across each of those subgroups.\n",
    "\n",
    "The statistical question you are asking: Are these two groups from the same population? \n",
    "\n",
    "A test comparing means can help us answer questions like:\n",
    "\n",
    "- Are the salaries of the marketing department higher than the company average? \n",
    "- Do customers who receive marketing emails spend more money than customers who do not receive marketing emails? \n",
    "- Are sales for product A higher when we run a promotion for it than when we do not run a promotion for it?\n",
    "\n",
    "For a comparing means test, there are different options based on your data. In this lesson we will explore both parametric and non-parametric tests. \n",
    "\n",
    "__________________________________________\n",
    "\n",
    "\n",
    "## Parametric Vs. Non-Parametric\n",
    "\n",
    "The difference between **Parametric** and **Non-Parametric** tests is that parametric tests rely on a distribution. \n",
    "\n",
    "There are other assumptions about the data made when running these tests, but let's talk about this assumption of normality first.If your sample is > 500, you don't need to worry about normality assumption due to the **central limit theorem**. If your sample is < 30 and not at all normal, then use a non-parametric test. In between, \"it depends\". The smaller your sample, the more normal your distribution needs to be. \n",
    "\n",
    "But what is the Central Limit Theorem and why does it matter? \n",
    "\n",
    "__________________________________________\n",
    "\n",
    "## Central Limit Theorem\n",
    "\n",
    "The central limit theorem tells us that the **sampling distribution** for a random variable is normally distributed, even if the underlying random variable is not. In other words, the distribution of the average values of many samples taken of that one sample, is normal. \n",
    "\n",
    "Let's take the example of rolling a dice. We know that rolling a die is a random process, but imagine an experiment where we roll 10 dice and take the average roll. If we performed this experiment many times and plotted the resulting calculated averages of 10 dice rolls, we would expect to see a normal distribution."
   ]
  },
  {
   "cell_type": "code",
   "execution_count": 1,
   "metadata": {},
   "outputs": [
    {
     "data": {
      "text/plain": [
       "array([[6, 3, 5, 3, 2, 4, 3, 4, 2, 2],\n",
       "       [1, 2, 2, 1, 1, 2, 4, 6, 5, 1],\n",
       "       [1, 5, 2, 4, 3, 5, 3, 5, 1, 6],\n",
       "       [1, 2, 4, 5, 5, 5, 2, 6, 4, 3]])"
      ]
     },
     "execution_count": 1,
     "metadata": {},
     "output_type": "execute_result"
    }
   ],
   "source": [
    "import matplotlib.pyplot as plt\n",
    "import numpy as np\n",
    "np.random.seed(123)\n",
    "\n",
    "n_dice_per_experiment = ncols = 10\n",
    "n_experiments = nrows = 100\n",
    "\n",
    "data = np.random.randint(1, 7, (nrows, ncols))\n",
    "\n",
    "data[:4]"
   ]
  },
  {
   "cell_type": "code",
   "execution_count": 2,
   "metadata": {},
   "outputs": [
    {
     "data": {
      "text/plain": [
       "array([3.4, 2.5, 3.5, 3.7, 3.2, 4.7, 3.4, 3.2, 3.4, 3. , 3.7, 3.5, 4. ,\n",
       "       4.5, 2.9, 2.8, 2.9, 3.8, 3.2, 3.6, 3.4, 4. , 3.5, 3.3, 3.6, 3. ,\n",
       "       4.3, 3. , 3.3, 3.2, 4.2, 3.9, 3.2, 3.8, 3.6, 3.4, 2.7, 3.4, 3.2,\n",
       "       3.1, 3.2, 3. , 4.1, 3.3, 3. , 4.1, 3.4, 3.3, 2.9, 3.8, 3.4, 3.6,\n",
       "       3.9, 3.2, 4.7, 3.8, 3.5, 2.8, 3.8, 4.7, 4.1, 3.5, 2.8, 3.7, 3.4,\n",
       "       3.7, 3.6, 4.1, 3.6, 3.5, 2.9, 4. , 3.2, 3.4, 4.4, 2.9, 3.2, 3.9,\n",
       "       1.9, 3. , 3. , 3.5, 3.3, 4.4, 3.4, 4.2, 4.1, 3.2, 3.5, 3.5, 3.8,\n",
       "       3.1, 3.6, 2.9, 2.9, 4. , 3.3, 3.1, 3.4, 3.6])"
      ]
     },
     "execution_count": 2,
     "metadata": {},
     "output_type": "execute_result"
    }
   ],
   "source": [
    "calculated_averages = data.mean(axis=1)\n",
    "calculated_averages"
   ]
  },
  {
   "cell_type": "code",
   "execution_count": 3,
   "metadata": {},
   "outputs": [
    {
     "data": {
      "image/png": "[encoded data removed]",
      "text/plain": [
       "<Figure size 640x480 with 1 Axes>"
      ]
     },
     "metadata": {},
     "output_type": "display_data"
    }
   ],
   "source": [
    "plt.hist(calculated_averages)\n",
    "plt.xlabel(f'Average of {n_dice_per_experiment} dice rolls')\n",
    "plt.ylabel('# of Occurrences')\n",
    "plt.title(f'Outcome of averaging {n_dice_per_experiment} dice rolls {n_experiments} times')\n",
    "plt.show()"
   ]
  },
  {
   "cell_type": "markdown",
   "metadata": {},
   "source": [
    "This concept allows us to make calculations using the normal distribution based on the values we calculate from our samples. \n",
    "\n",
    "__________________________________________\n",
    "\n",
    "\n",
    "## Comparing Tests that Compare Means"
   ]
  },
  {
   "cell_type": "markdown",
   "metadata": {},
   "source": [
    "|Goal|$H_{0}$|Data Needed|Parametric Test|Assumptions*|Non-parametric Test|  \n",
    "|---|---|---|---|---|---|  \n",
    "|Compare observed mean to theoretical one|$\\mu_{obs} = \\mu_{th}$|array-like of observed values & float of theoretical|1 sample t-test (`stats.ttest_1samp`)|Normally Distributed\\*\\*|1 sample Wilcoxon signed rank test (`stats.wilcoxon`)|   \n",
    "|Compare two observed means (independent samples)|$\\mu_{a} = \\mu_{b}$|2 array-like samples| 2 sample t-test (Independent t-test)(`stats.ttest_ind`)|Independent, Normally Distributed\\*\\*, Equal Variances\\*\\*\\*|Mann-Whitney's test (`stats.mannwhitneyu`)|   \n",
    "|Compare several observed means (independent samples)|$\\mu_{a} = \\mu_{b} = \\mu_{n}$|n array-like samples|ANOVA (`stats.f_oneway`)|Independent, Normally Distributed\\*\\*, Equal Variances|Kruskal-Wallis test (`stats.kruskal`)|   \n",
    "\n",
    "\\*If assumptions can't be met, the equivalent non-parametric test can be used.   \n",
    "\\*\\*Normal Distribution assumption can be met by having a large enough sample (due to Central Limit Theorem), or the data can be scaled using a Gaussian Scalar.   \n",
    "\\*\\*\\*The argument in the stats.ttest_ind() method of `equal_var` can be set to `False` to accommodate this assumption. \n",
    "\n",
    "\n",
    "All the comparing means tests will follow the regular process with an additional step:\n",
    "\n",
    "\n",
    "1. Form hypotheses and set a desired confidence level\n",
    "1. **Verify assumptions**\n",
    "1. Calculate the appropriate test statistics and p-value\n",
    "1. Conclude based on the above statistics\n",
    "\n",
    "\n",
    "When concluding based on our p-values, we have to take into account whether it is a 1-tail or 2-tail test (different from 1 sample or 2 sample t-test). A 1-tailed test means our alternative hypothesis is checking if one subgroup is larger than the other OR our alternative hypothesis is checking if one subgroup is smaller than the other. A 2-tail test is checking if there is any difference in subgroups, regardless of direction. \n",
    "\n",
    "Our null hypothesis corresponds to a t-score of 0 (if there is no difference in the means, the numerator in our t calculation would come out to 0). If the null hypothesis is true, our t-scores will follow a normal distribution and will be centered around 0. That is, if the null hypothesis is true, and we ran our experiment many many times, we would expect to get slightly different t-statistics each time. If we plotted the resulting t-statistics we would expect to see an approximately normal curve.\n",
    "\n",
    "Therefore, for a 2-tailed test, we take the p-value as is and compare it to alpha as normal. For a 1-tailed test, we divide our p-value in half (since it is only looking in one direction) **AND** compare our t-statistic to zero (greater than zero to test if it is higher or less than zero to test if it is lower).  \n",
    "\n",
    "__________________________________________\n"
   ]
  },
  {
   "cell_type": "markdown",
   "metadata": {},
   "source": [
    "## One Sample T-Test\n",
    "\n",
    "Goal: Compare observed mean to theoretical one. \n",
    "\n",
    "1. Form hypotheses and set a desired confidence level\n",
    "\n",
    "    ||||  \n",
    "    |-----|-----|---------|  \n",
    "    |Null Hypothesis|$H_{0}$|$\\mu_{obs} = \\mu_{th}$|  \n",
    "    |Alternative Hypothesis (2-tail, significantly different)|$H_{a}$|$\\mu_{obs} != \\mu_{th}$|  \n",
    "    |Alternative Hypothesis (1-tail, significantly smaller)|$H_{a}$|$\\mu_{obs} < \\mu_{th}$|  \n",
    "    |Alternative Hypothesis (1-tail, significantly larger)|$H_{a}$|$\\mu_{obs} > \\mu_{th}$|      \n",
    "\n",
    "2. Verify Assumptions \n",
    "    - Normal Distribution\n",
    "        - Or at least 500 observations (CLT)\n",
    "        - Or at least 30 observations and \"kinda\" normal\n",
    "\n",
    "3. Calculate the appropriate test statistics and p-value\n",
    "    - `scipy.stats.ttest_1samp`\n",
    "        - inputs\n",
    "            - an array of all observed values of the subgroup\n",
    "            - the population mean\n",
    "        - outputs\n",
    "            - t-statistic\n",
    "            - p-value\n",
    "\n",
    "4. Conclude based on the above statistics\n",
    "    - For 2-tail, $p$ compared to $\\alpha$\n",
    "    - For 1-tail higher than, $p$/2 compared to $\\alpha$ and $t$ > 0\n",
    "    - For 1-tail lower than, $p$/2 compared to $\\alpha$ and $t$ < 0\n",
    "    \n",
    "We will use the telco_churn database to work through examples. "
   ]
  },
  {
   "cell_type": "code",
   "execution_count": 4,
   "metadata": {},
   "outputs": [],
   "source": [
    "import pandas as pd\n",
    "import matplotlib.pyplot as plt\n",
    "import seaborn as sns\n",
    "import scipy.stats as stats\n",
    "import env\n",
    "\n",
    "db_url = f'mysql+pymysql://{env.user}:{env.password}@{env.host}/telco_churn'  \n",
    "df = pd.read_sql('SELECT * FROM customers', db_url)  "
   ]
  },
  {
   "cell_type": "code",
   "execution_count": 5,
   "metadata": {},
   "outputs": [
    {
     "data": {
      "text/plain": [
       "Index(['customer_id', 'gender', 'senior_citizen', 'partner', 'dependents',\n",
       "       'tenure', 'phone_service', 'multiple_lines', 'internet_service_type_id',\n",
       "       'online_security', 'online_backup', 'device_protection', 'tech_support',\n",
       "       'streaming_tv', 'streaming_movies', 'contract_type_id',\n",
       "       'paperless_billing', 'payment_type_id', 'monthly_charges',\n",
       "       'total_charges', 'churn'],\n",
       "      dtype='object')"
      ]
     },
     "execution_count": 5,
     "metadata": {},
     "output_type": "execute_result"
    }
   ],
   "source": [
    "df.columns"
   ]
  },
  {
   "cell_type": "markdown",
   "metadata": {},
   "source": [
    "I believe customers who churn are charged more (monthly average) than the overall average monthly charges.  \n",
    "\n",
    "### Example 1\n",
    "\n",
    "Is the mean of monthly charges of customers who churn significantly higher than the mean across all customers? \n",
    "\n",
    "We will use a 1 sample (comparing 1 group to the average), 1-tailed (\"significantly higher\") t-test.  "
   ]
  },
  {
   "cell_type": "markdown",
   "metadata": {},
   "source": [
    "**1. Form hypotheses and set a desired confidence level**"
   ]
  },
  {
   "cell_type": "markdown",
   "metadata": {},
   "source": [
    "$H_{0}$: Mean of monthly charges of churned customers <= Mean of monthly charges of all customers  \n",
    "$H_{a}$: Mean of monthly charges of churned customers > Mean of monthly charges of all customers  "
   ]
  },
  {
   "cell_type": "code",
   "execution_count": 6,
   "metadata": {},
   "outputs": [],
   "source": [
    "alpha = .05"
   ]
  },
  {
   "cell_type": "markdown",
   "metadata": {},
   "source": [
    "**2. Verify assumptions**"
   ]
  },
  {
   "cell_type": "code",
   "execution_count": 7,
   "metadata": {},
   "outputs": [
    {
     "data": {
      "text/plain": [
       "No     5174\n",
       "Yes    1869\n",
       "Name: churn, dtype: int64"
      ]
     },
     "execution_count": 7,
     "metadata": {},
     "output_type": "execute_result"
    }
   ],
   "source": [
    "df.churn.value_counts()"
   ]
  },
  {
   "cell_type": "markdown",
   "metadata": {},
   "source": [
    "Our churn sample is large enough, as is overall count, to meet the assumptions of normal distributions. "
   ]
  },
  {
   "cell_type": "markdown",
   "metadata": {},
   "source": [
    "**3. Calculate the appropriate test statistics and p-value**"
   ]
  },
  {
   "cell_type": "markdown",
   "metadata": {},
   "source": [
    "- scipy.stats.ttest_1samp"
   ]
  },
  {
   "cell_type": "code",
   "execution_count": 8,
   "metadata": {},
   "outputs": [
    {
     "name": "stdout",
     "output_type": "stream",
     "text": [
      "16.96540308050567 1.8703196496911995e-60 0.05\n"
     ]
    }
   ],
   "source": [
    "# an array of all observed values of the subgroup\n",
    "churn_sample = df[df.churn == 'Yes'].monthly_charges\n",
    "\n",
    "# the population mean\n",
    "overall_mean = df.monthly_charges.mean()\n",
    "\n",
    "t, p = stats.ttest_1samp(churn_sample, overall_mean)\n",
    "\n",
    "print(t, p/2, alpha)"
   ]
  },
  {
   "cell_type": "markdown",
   "metadata": {},
   "source": [
    "**4. Conclude based on the above statistics**"
   ]
  },
  {
   "cell_type": "markdown",
   "metadata": {},
   "source": [
    "For a 1-tailed test where our alternative hypothesis is testing for \"greater than\", we evaluate 𝑝/2 < 𝛼  and  𝑡 > 0. "
   ]
  },
  {
   "cell_type": "code",
   "execution_count": 9,
   "metadata": {},
   "outputs": [
    {
     "name": "stdout",
     "output_type": "stream",
     "text": [
      "We reject the null hypothesis.\n"
     ]
    }
   ],
   "source": [
    "if p/2 > alpha:\n",
    "    print(\"We fail to reject the null hypothesis.\")\n",
    "elif t < 0:\n",
    "    print(\"We fail to reject null hypothesis.\")\n",
    "else:\n",
    "    print(\"We reject the null hypothesis.\")"
   ]
  },
  {
   "cell_type": "markdown",
   "metadata": {},
   "source": [
    "### Example 2\n",
    "\n",
    "Is there any difference in monthly charges for customers who churned and customers who don't churn?\n",
    "\n",
    "We will use a 1 sample (comparing 1 group to the average), 2-tailed (significantly different) t-test. "
   ]
  },
  {
   "cell_type": "markdown",
   "metadata": {},
   "source": [
    "**1. Form hypotheses and set a desired confidence level**"
   ]
  },
  {
   "cell_type": "markdown",
   "metadata": {},
   "source": [
    "$H_{0}$: Mean of monthly charges of churned customers = Mean of monthly charges of all customers  \n",
    "$H_{a}$: Mean of monthly charges of churned customers != Mean of monthly charges of all customers  \n",
    "\n",
    "$\\alpha$: See above"
   ]
  },
  {
   "cell_type": "markdown",
   "metadata": {},
   "source": [
    "**2. Verify assumptions**"
   ]
  },
  {
   "cell_type": "markdown",
   "metadata": {},
   "source": [
    "See above"
   ]
  },
  {
   "cell_type": "markdown",
   "metadata": {},
   "source": [
    "**3. Calculate the appropriate test statistics and p-value**"
   ]
  },
  {
   "cell_type": "code",
   "execution_count": 10,
   "metadata": {},
   "outputs": [
    {
     "data": {
      "text/plain": [
       "(16.96540308050567, 3.740639299382399e-60)"
      ]
     },
     "execution_count": 10,
     "metadata": {},
     "output_type": "execute_result"
    }
   ],
   "source": [
    "t, p = stats.ttest_1samp(churn_sample, overall_mean)\n",
    "t, p"
   ]
  },
  {
   "cell_type": "markdown",
   "metadata": {},
   "source": [
    "**4. Conclude based on the above statistics**"
   ]
  },
  {
   "cell_type": "markdown",
   "metadata": {},
   "source": [
    "Since we are looking at any difference in monthly charges (regardless of higher or lower), we will use a 2-tail test. Is p-value less than alpha?"
   ]
  },
  {
   "cell_type": "code",
   "execution_count": 11,
   "metadata": {},
   "outputs": [
    {
     "data": {
      "text/plain": [
       "True"
      ]
     },
     "execution_count": 11,
     "metadata": {},
     "output_type": "execute_result"
    }
   ],
   "source": [
    "p < alpha"
   ]
  },
  {
   "cell_type": "markdown",
   "metadata": {},
   "source": [
    "We reject the null hypothesis."
   ]
  },
  {
   "cell_type": "markdown",
   "metadata": {},
   "source": [
    "### Example 3\n",
    "\n",
    "The mean monthly charges of customers who have turned is less than the mean monthly charges of all customers.\n",
    "\n",
    "We will use a 1 sample (comparing 1 group to the average), 1-tailed (significantly lower) t-test. "
   ]
  },
  {
   "cell_type": "markdown",
   "metadata": {},
   "source": [
    "**1. Form hypotheses and set a desired confidence level**"
   ]
  },
  {
   "cell_type": "markdown",
   "metadata": {},
   "source": [
    "\n",
    "$H_{0}$: Mean of monthly charges of churned customers >= Mean of monthly charges of all customers  \n",
    "$H_{a}$: Mean of monthly charges of churned customers < Mean of monthly charges of all customers  \n",
    "\n",
    "$\\alpha$: See above"
   ]
  },
  {
   "cell_type": "markdown",
   "metadata": {},
   "source": [
    "**2. Verify assumptions**"
   ]
  },
  {
   "cell_type": "markdown",
   "metadata": {},
   "source": [
    "See above"
   ]
  },
  {
   "cell_type": "markdown",
   "metadata": {},
   "source": [
    "**3. Calculate the appropriate test statistics and p-value**"
   ]
  },
  {
   "cell_type": "code",
   "execution_count": 12,
   "metadata": {},
   "outputs": [
    {
     "data": {
      "text/plain": [
       "(16.96540308050567, 3.740639299382399e-60)"
      ]
     },
     "execution_count": 12,
     "metadata": {},
     "output_type": "execute_result"
    }
   ],
   "source": [
    "t, p = stats.ttest_1samp(churn_sample, overall_mean)\n",
    "t, p"
   ]
  },
  {
   "cell_type": "markdown",
   "metadata": {},
   "source": [
    "**4. Conclude based on the above statistics**\n",
    "\n",
    "Is 1/2 of p-value < alpha AND t-stat < 0? "
   ]
  },
  {
   "cell_type": "code",
   "execution_count": 13,
   "metadata": {},
   "outputs": [
    {
     "name": "stdout",
     "output_type": "stream",
     "text": [
      "True\n",
      "False\n"
     ]
    }
   ],
   "source": [
    "print(p/2 < alpha)\n",
    "print(t < 0)"
   ]
  },
  {
   "cell_type": "markdown",
   "metadata": {},
   "source": [
    "We fail to reject the null hypothesis."
   ]
  },
  {
   "cell_type": "markdown",
   "metadata": {},
   "source": [
    "__________________________________________\n",
    "\n",
    "\n",
    "## Independent T-Test (a.k.a. Two Sample T-Test)\n",
    "\n",
    "Goal: Compare mean of group a to mean of group b. \n",
    "\n",
    "\n",
    "1. Form hypotheses and set a desired confidence level\n",
    "\n",
    "    ||||  \n",
    "    |-----|-----|---------|  \n",
    "    |Null Hypothesis|$H_{0}$|$\\mu_{a} == \\mu_{b}$|  \n",
    "    |Alternative Hypothesis (2-tail, significantly different)|$H_{a}$|$\\mu_{a} != \\mu_{b}$|  \n",
    "    |Alternative Hypothesis (1-tail, a is significantly smaller than b)|$H_{a}$|$\\mu_{a} < \\mu_{b}$|  \n",
    "    |Alternative Hypothesis (1-tail, a is significantly larger than b)|$H_{a}$|$\\mu_{a} < \\mu_{b}$|      \n",
    "\n",
    "2. Verify Assumptions:  \n",
    "    - Normal Distribution\n",
    "        - Or at least 500 observations (CLT)\n",
    "        - Or at least 30 observations and \"kinda\" normal\n",
    "    - Independent samples  \n",
    "    - Equal Variances (or set method argument to False when not)  \n",
    "\n",
    "3. Calculate the appropriate test statistics and p-value\n",
    "    - `scipy.stats.ttest_ind`\n",
    "        - inputs\n",
    "            - an array of observed values from one subgroup\n",
    "            - an array of observed values from the other subgroup\n",
    "        - outputs\n",
    "            - t-statistic\n",
    "            - p-value\n",
    "\n",
    "4. Conclude based on the above statistics\n",
    "    - For 2-tail, $p$ compared to $\\alpha$\n",
    "    - For 1-tail higher than, $p$/2 compared to $\\alpha$ and $t$ > 0\n",
    "    - For 1-tail lower than, $p$/2 compared to $\\alpha$ and $t$ < 0"
   ]
  },
  {
   "cell_type": "markdown",
   "metadata": {},
   "source": [
    "### Example 1\n",
    "\n",
    "I believe customers who churn are charged more (monthly average) than customers who don't churn. \n",
    "Is the mean of monthly charges of customers who churn significantly higher than the mean of those who don't churn? \n",
    "\n",
    "We will use a 2 sample (comparing 2 groups to each other), 1-tailed (significantly higher) t-test.  "
   ]
  },
  {
   "cell_type": "code",
   "execution_count": 14,
   "metadata": {},
   "outputs": [],
   "source": [
    "#an array for each subgroup\n",
    "churn_sample = df[df.churn == 'Yes'].monthly_charges\n",
    "no_churn_sample = df[df.churn == 'No'].monthly_charges"
   ]
  },
  {
   "cell_type": "markdown",
   "metadata": {},
   "source": [
    "**1. Form hypotheses and set a desired confidence level**"
   ]
  },
  {
   "cell_type": "markdown",
   "metadata": {},
   "source": [
    "$H_{0}$: Mean of monthly charges of churned customers <= Mean of monthly charges of customers who haven't churned  \n",
    "$H_{a}$: Mean of monthly charges of churned customers > Mean of monthly charges of customers who haven't churned  "
   ]
  },
  {
   "cell_type": "code",
   "execution_count": 15,
   "metadata": {},
   "outputs": [],
   "source": [
    "alpha = .05"
   ]
  },
  {
   "cell_type": "markdown",
   "metadata": {},
   "source": [
    "**2. Verify Assumptions**"
   ]
  },
  {
   "cell_type": "markdown",
   "metadata": {},
   "source": [
    "1. Independent Samples? \n",
    "    - YES! No observations in the churn sample exist in the no-churn sample. \n",
    "\n",
    "2. Normal Distribution?\n",
    "    - YES! Plenty of observations\n",
    "\n",
    "3. Equal Variances (the scipy methods we will use has an argument to handle when variances aren't equal)?"
   ]
  },
  {
   "cell_type": "code",
   "execution_count": 16,
   "metadata": {},
   "outputs": [
    {
     "name": "stdout",
     "output_type": "stream",
     "text": [
      "608.4141833954315\n",
      "966.7527670734293\n"
     ]
    }
   ],
   "source": [
    "print(churn_sample.var())\n",
    "print(no_churn_sample.var())"
   ]
  },
  {
   "cell_type": "markdown",
   "metadata": {},
   "source": [
    "- NO! So we will set the argument of equal_var to False. "
   ]
  },
  {
   "cell_type": "markdown",
   "metadata": {},
   "source": [
    "**3. Calculate the appropriate test statistics and p-value**"
   ]
  },
  {
   "cell_type": "code",
   "execution_count": 17,
   "metadata": {},
   "outputs": [
    {
     "data": {
      "text/plain": [
       "(18.407526676414673, 8.59244933154705e-73)"
      ]
     },
     "execution_count": 17,
     "metadata": {},
     "output_type": "execute_result"
    }
   ],
   "source": [
    "t, p = stats.ttest_ind(churn_sample, no_churn_sample, equal_var=False)\n",
    "t, p"
   ]
  },
  {
   "cell_type": "markdown",
   "metadata": {},
   "source": [
    "**4. Conclude based on the above statistics**"
   ]
  },
  {
   "cell_type": "code",
   "execution_count": 18,
   "metadata": {},
   "outputs": [
    {
     "name": "stdout",
     "output_type": "stream",
     "text": [
      "is p/2 < alpha?  True\n",
      "is t > 0?  True\n"
     ]
    }
   ],
   "source": [
    "print(\"is p/2 < alpha? \", p / 2 < alpha)\n",
    "print(\"is t > 0? \", t > 0)"
   ]
  },
  {
   "cell_type": "code",
   "execution_count": 19,
   "metadata": {},
   "outputs": [
    {
     "name": "stdout",
     "output_type": "stream",
     "text": [
      "We reject the null hypothesis\n"
     ]
    }
   ],
   "source": [
    "if p / 2 > alpha:\n",
    "    print(\"We fail to reject the null hypothesis\")\n",
    "elif t < 0:\n",
    "    print(\"We fail to reject the null hypothesis\")\n",
    "else:\n",
    "    print(\"We reject the null hypothesis\")"
   ]
  },
  {
   "cell_type": "markdown",
   "metadata": {},
   "source": [
    "### Example 2\n",
    "\n",
    "Are charges of customers who churn *significantly different* than those who do not churn? \n",
    "\n",
    "We will use a 2 sample (comparing 2 groups to each other), 2-tailed (significantly different) t-test.  "
   ]
  },
  {
   "cell_type": "markdown",
   "metadata": {},
   "source": [
    "**1. Form hypotheses and set a desired confidence level**"
   ]
  },
  {
   "cell_type": "markdown",
   "metadata": {},
   "source": [
    "$H_{0}$: charges of customers who churn equals that of those who don't churn.   \n",
    "\n",
    "$H_{a}$: charges of customers who churn is not equal to that of those who don't churn. \n",
    "\n",
    "alpha = See above"
   ]
  },
  {
   "cell_type": "markdown",
   "metadata": {},
   "source": [
    "**2. Verify assumptions**"
   ]
  },
  {
   "cell_type": "markdown",
   "metadata": {},
   "source": [
    "See above"
   ]
  },
  {
   "cell_type": "markdown",
   "metadata": {},
   "source": [
    "**3. Calculate the appropriate test statistics and p-value**"
   ]
  },
  {
   "cell_type": "code",
   "execution_count": 20,
   "metadata": {},
   "outputs": [
    {
     "data": {
      "text/plain": [
       "(18.407526676414673, 8.59244933154705e-73)"
      ]
     },
     "execution_count": 20,
     "metadata": {},
     "output_type": "execute_result"
    }
   ],
   "source": [
    "t, p = stats.ttest_ind(churn_sample, no_churn_sample, equal_var=False)\n",
    "t, p"
   ]
  },
  {
   "cell_type": "markdown",
   "metadata": {},
   "source": [
    "**4. Conclude based on the above statistics**"
   ]
  },
  {
   "cell_type": "markdown",
   "metadata": {},
   "source": [
    "Is the p-value less than alpha?"
   ]
  },
  {
   "cell_type": "code",
   "execution_count": 21,
   "metadata": {},
   "outputs": [
    {
     "name": "stdout",
     "output_type": "stream",
     "text": [
      "Reject null hypothesis?  True\n"
     ]
    }
   ],
   "source": [
    "print(\"Reject null hypothesis? \", p < alpha)"
   ]
  },
  {
   "cell_type": "markdown",
   "metadata": {},
   "source": [
    "### Example 3\n",
    "\n",
    "Are charges of customers who churn *significantly less* than those who do not churn? \n",
    "\n",
    "We will use a 2 sample (comparing 2 groups to each other), 1-tailed (significantly lower) t-test.  "
   ]
  },
  {
   "cell_type": "markdown",
   "metadata": {},
   "source": [
    "**1. Form hypotheses and set a desired confidence level**"
   ]
  },
  {
   "cell_type": "markdown",
   "metadata": {},
   "source": [
    "$H_{0}$: charges of customers who churn equals or greater than that of those who don't churn.   \n",
    "\n",
    "$H_{a}$: charges of customers who churn is less than that of those who don't churn. \n",
    "\n",
    "alpha: See above"
   ]
  },
  {
   "cell_type": "markdown",
   "metadata": {},
   "source": [
    "**2. Verify assumptions**"
   ]
  },
  {
   "cell_type": "markdown",
   "metadata": {},
   "source": [
    "See above"
   ]
  },
  {
   "cell_type": "markdown",
   "metadata": {},
   "source": [
    "**3. Calculate the appropriate test statistics and p-value**"
   ]
  },
  {
   "cell_type": "code",
   "execution_count": 22,
   "metadata": {},
   "outputs": [
    {
     "data": {
      "text/plain": [
       "(18.407526676414673, 8.59244933154705e-73)"
      ]
     },
     "execution_count": 22,
     "metadata": {},
     "output_type": "execute_result"
    }
   ],
   "source": [
    "t, p = stats.ttest_ind(churn_sample, no_churn_sample, equal_var=False)\n",
    "t, p"
   ]
  },
  {
   "cell_type": "markdown",
   "metadata": {},
   "source": [
    "**4. Conclude based on the above statistics**"
   ]
  },
  {
   "cell_type": "markdown",
   "metadata": {},
   "source": [
    "Is p/2 < alpha AND is t < 0?"
   ]
  },
  {
   "cell_type": "code",
   "execution_count": 23,
   "metadata": {},
   "outputs": [
    {
     "name": "stdout",
     "output_type": "stream",
     "text": [
      "Is p/2 < alpha?  True\n",
      "Is t < 0?  False\n"
     ]
    }
   ],
   "source": [
    "print(\"Is p/2 < alpha? \", p / 2 < alpha)\n",
    "print(\"Is t < 0? \", t < 0)"
   ]
  },
  {
   "cell_type": "markdown",
   "metadata": {},
   "source": [
    "We fail to reject the null hypothesis."
   ]
  },
  {
   "cell_type": "markdown",
   "metadata": {},
   "source": [
    "__________________________________________\n",
    "\n",
    "\n",
    "## ANOVA Analysis of Variance\n",
    "\n",
    "Goal: Compare means of groups a, b & c. \n",
    "\n",
    "\n",
    "1. Form hypotheses and set a desired confidence level\n",
    "\n",
    "    ||||  \n",
    "    |-----|-----|---------|  \n",
    "    |Null Hypothesis|$H_{0}$|$\\mu_{a} == \\mu_{b} == \\mu_{c}$|  \n",
    "    |Alternative Hypothesis (significantly different)|$H_{a}$|$\\mu_{a} != \\mu_{b} != \\mu_{c}$|  \n",
    "\n",
    "2. Verify Assumptions:  \n",
    "    - Normal Distribution\n",
    "        - Or at least 500 samples (CLT) \n",
    "        - Or at least 30 observations and \"kinda\" normal\n",
    "    - Independent samples  \n",
    "    - Equal Variances\n",
    "\n",
    "3. Calculate the appropriate test statistics and p-value\n",
    "    - `scipy.stats.f_oneway`\n",
    "        - inputs\n",
    "            - an array of observed values for every subgroup\n",
    "        - outputs\n",
    "            - f-statistic\n",
    "            - p-value\n",
    "\n",
    "4. Conclude based on the above statistics"
   ]
  },
  {
   "cell_type": "markdown",
   "metadata": {},
   "source": [
    "### Example 1\n",
    "\n",
    "Is the sepal length significantly different across the different species of iris? \n",
    "\n",
    "Since there are three different species of iris, there are three subgroups that we are comparing and will use the ANOVA test. "
   ]
  },
  {
   "cell_type": "code",
   "execution_count": 24,
   "metadata": {},
   "outputs": [
    {
     "data": {
      "text/plain": [
       "setosa        50\n",
       "versicolor    50\n",
       "virginica     50\n",
       "Name: species, dtype: int64"
      ]
     },
     "execution_count": 24,
     "metadata": {},
     "output_type": "execute_result"
    }
   ],
   "source": [
    "df = sns.load_dataset('iris')\n",
    "df.species.value_counts()"
   ]
  },
  {
   "cell_type": "code",
   "execution_count": 25,
   "metadata": {},
   "outputs": [
    {
     "data": {
      "text/plain": [
       "count    150.000000\n",
       "mean       5.843333\n",
       "std        0.828066\n",
       "min        4.300000\n",
       "25%        5.100000\n",
       "50%        5.800000\n",
       "75%        6.400000\n",
       "max        7.900000\n",
       "Name: sepal_length, dtype: float64"
      ]
     },
     "execution_count": 25,
     "metadata": {},
     "output_type": "execute_result"
    }
   ],
   "source": [
    "df.sepal_length.describe()"
   ]
  },
  {
   "cell_type": "markdown",
   "metadata": {},
   "source": [
    "**1. Form hypotheses and set a desired confidence level**"
   ]
  },
  {
   "cell_type": "markdown",
   "metadata": {},
   "source": [
    "$H_{0}$: population means of the sepal length for the three species, versicolor, virginica & setosa, are all equal.  \n",
    "\n",
    "$H_{a}$: population means of the sepal length for the three species, versicolor, virginica & setosa, are NOT all equal. "
   ]
  },
  {
   "cell_type": "code",
   "execution_count": 26,
   "metadata": {},
   "outputs": [],
   "source": [
    "alpha = .05"
   ]
  },
  {
   "cell_type": "markdown",
   "metadata": {},
   "source": [
    "**2. Verify assumptions**"
   ]
  },
  {
   "cell_type": "code",
   "execution_count": 27,
   "metadata": {},
   "outputs": [],
   "source": [
    "versicolor_sepal_length = df[df.species == 'versicolor'].sepal_length\n",
    "virginica_sepal_length = df[df.species == 'virginica'].sepal_length\n",
    "setosa_sepal_length = df[df.species == 'setosa'].sepal_length"
   ]
  },
  {
   "cell_type": "markdown",
   "metadata": {},
   "source": [
    "Independent samples? YES!  "
   ]
  },
  {
   "cell_type": "markdown",
   "metadata": {},
   "source": [
    "Normal Distribution? "
   ]
  },
  {
   "cell_type": "code",
   "execution_count": 28,
   "metadata": {},
   "outputs": [
    {
     "data": {
      "image/png": "[encoded data removed]",
      "text/plain": [
       "<Figure size 640x480 with 1 Axes>"
      ]
     },
     "metadata": {},
     "output_type": "display_data"
    }
   ],
   "source": [
    "versicolor_sepal_length.plot.hist();"
   ]
  },
  {
   "cell_type": "code",
   "execution_count": 29,
   "metadata": {},
   "outputs": [
    {
     "data": {
      "image/png": "[encoded data removed]",
      "text/plain": [
       "<Figure size 640x480 with 1 Axes>"
      ]
     },
     "metadata": {},
     "output_type": "display_data"
    }
   ],
   "source": [
    "virginica_sepal_length.plot.hist();"
   ]
  },
  {
   "cell_type": "code",
   "execution_count": 30,
   "metadata": {},
   "outputs": [
    {
     "data": {
      "image/png": "[encoded data removed]",
      "text/plain": [
       "<Figure size 640x480 with 1 Axes>"
      ]
     },
     "metadata": {},
     "output_type": "display_data"
    }
   ],
   "source": [
    "setosa_sepal_length.plot.hist();"
   ]
  },
  {
   "cell_type": "markdown",
   "metadata": {},
   "source": [
    "- YES! The distributions are mostly normal  "
   ]
  },
  {
   "cell_type": "markdown",
   "metadata": {},
   "source": [
    "Equal Variances? "
   ]
  },
  {
   "cell_type": "code",
   "execution_count": 31,
   "metadata": {},
   "outputs": [
    {
     "name": "stdout",
     "output_type": "stream",
     "text": [
      "0.2664326530612246\n",
      "0.40434285714285706\n",
      "0.12424897959183666\n"
     ]
    }
   ],
   "source": [
    "print(versicolor_sepal_length.var())\n",
    "print(virginica_sepal_length.var())\n",
    "print(setosa_sepal_length.var())"
   ]
  },
  {
   "cell_type": "markdown",
   "metadata": {},
   "source": [
    "- YES! The variance is very small so the differences are minor. "
   ]
  },
  {
   "cell_type": "markdown",
   "metadata": {},
   "source": [
    "**3. Calculate the appropriate test statistics and p-value**"
   ]
  },
  {
   "cell_type": "code",
   "execution_count": 32,
   "metadata": {},
   "outputs": [
    {
     "data": {
      "text/plain": [
       "(119.26450218450472, 1.6696691907693648e-31)"
      ]
     },
     "execution_count": 32,
     "metadata": {},
     "output_type": "execute_result"
    }
   ],
   "source": [
    "f, p = stats.f_oneway(versicolor_sepal_length, virginica_sepal_length, setosa_sepal_length)\n",
    "f, p"
   ]
  },
  {
   "cell_type": "markdown",
   "metadata": {},
   "source": [
    "**4. Conclude based on the above statistics**"
   ]
  },
  {
   "cell_type": "code",
   "execution_count": 33,
   "metadata": {},
   "outputs": [
    {
     "name": "stdout",
     "output_type": "stream",
     "text": [
      "We reject the null hypothesis\n"
     ]
    }
   ],
   "source": [
    "if p < alpha:\n",
    "    print(\"We reject the null hypothesis\")\n",
    "else:\n",
    "    print(\"We fail to reject the null hypothesis\")"
   ]
  },
  {
   "cell_type": "markdown",
   "metadata": {},
   "source": [
    "### Example 2"
   ]
  },
  {
   "cell_type": "markdown",
   "metadata": {},
   "source": [
    "Is the horsepower of a car different in cars from different origins?"
   ]
  },
  {
   "cell_type": "code",
   "execution_count": 34,
   "metadata": {},
   "outputs": [
    {
     "data": {
      "text/plain": [
       "usa       249\n",
       "japan      79\n",
       "europe     70\n",
       "Name: origin, dtype: int64"
      ]
     },
     "execution_count": 34,
     "metadata": {},
     "output_type": "execute_result"
    }
   ],
   "source": [
    "df = sns.load_dataset('mpg')\n",
    "df.origin.value_counts()"
   ]
  },
  {
   "cell_type": "code",
   "execution_count": 35,
   "metadata": {},
   "outputs": [
    {
     "name": "stdout",
     "output_type": "stream",
     "text": [
      "<class 'pandas.core.frame.DataFrame'>\n",
      "RangeIndex: 398 entries, 0 to 397\n",
      "Data columns (total 9 columns):\n",
      " #   Column        Non-Null Count  Dtype  \n",
      "---  ------        --------------  -----  \n",
      " 0   mpg           398 non-null    float64\n",
      " 1   cylinders     398 non-null    int64  \n",
      " 2   displacement  398 non-null    float64\n",
      " 3   horsepower    392 non-null    float64\n",
      " 4   weight        398 non-null    int64  \n",
      " 5   acceleration  398 non-null    float64\n",
      " 6   model_year    398 non-null    int64  \n",
      " 7   origin        398 non-null    object \n",
      " 8   name          398 non-null    object \n",
      "dtypes: float64(4), int64(3), object(2)\n",
      "memory usage: 28.1+ KB\n"
     ]
    }
   ],
   "source": [
    "df.head()\n",
    "df.info()"
   ]
  },
  {
   "cell_type": "markdown",
   "metadata": {},
   "source": [
    "Drop nulls"
   ]
  },
  {
   "cell_type": "code",
   "execution_count": 36,
   "metadata": {},
   "outputs": [],
   "source": [
    "df = df[~df['horsepower'].isna()]"
   ]
  },
  {
   "cell_type": "code",
   "execution_count": 37,
   "metadata": {},
   "outputs": [],
   "source": [
    "usa_hp = df[df.origin == 'usa'].horsepower\n",
    "japan_hp = df[df.origin == 'japan'].horsepower\n",
    "eu_hp = df[df.origin == 'europe'].horsepower"
   ]
  },
  {
   "cell_type": "markdown",
   "metadata": {},
   "source": [
    "**1. Form hypotheses and set a desired confidence level**\n",
    "\n",
    "$H_{0}$: hp is the same across all origins\n",
    "\n",
    "$H_{a}$: hp is not the same across all origins\n",
    "\n",
    "$\\alpha$ is already set to .05"
   ]
  },
  {
   "cell_type": "markdown",
   "metadata": {},
   "source": [
    "**2. Verify assumptions**"
   ]
  },
  {
   "cell_type": "markdown",
   "metadata": {},
   "source": [
    "Independent: YES!"
   ]
  },
  {
   "cell_type": "markdown",
   "metadata": {},
   "source": [
    "Normal: YES!"
   ]
  },
  {
   "cell_type": "code",
   "execution_count": 38,
   "metadata": {},
   "outputs": [
    {
     "data": {
      "image/png": "[encoded data removed]",
      "text/plain": [
       "<Figure size 640x480 with 1 Axes>"
      ]
     },
     "metadata": {},
     "output_type": "display_data"
    }
   ],
   "source": [
    "usa_hp.hist();"
   ]
  },
  {
   "cell_type": "code",
   "execution_count": 39,
   "metadata": {},
   "outputs": [
    {
     "data": {
      "image/png": "[encoded data removed]",
      "text/plain": [
       "<Figure size 640x480 with 1 Axes>"
      ]
     },
     "metadata": {},
     "output_type": "display_data"
    }
   ],
   "source": [
    "japan_hp.hist();"
   ]
  },
  {
   "cell_type": "code",
   "execution_count": 40,
   "metadata": {},
   "outputs": [
    {
     "data": {
      "image/png": "[encoded data removed]",
      "text/plain": [
       "<Figure size 640x480 with 1 Axes>"
      ]
     },
     "metadata": {},
     "output_type": "display_data"
    }
   ],
   "source": [
    "eu_hp.hist();"
   ]
  },
  {
   "cell_type": "markdown",
   "metadata": {},
   "source": [
    "Equal Variance: no"
   ]
  },
  {
   "cell_type": "code",
   "execution_count": 41,
   "metadata": {},
   "outputs": [
    {
     "data": {
      "text/plain": [
       "1591.8336567413864"
      ]
     },
     "execution_count": 41,
     "metadata": {},
     "output_type": "execute_result"
    }
   ],
   "source": [
    "usa_hp.var()"
   ]
  },
  {
   "cell_type": "code",
   "execution_count": 42,
   "metadata": {},
   "outputs": [
    {
     "data": {
      "text/plain": [
       "317.5238558909445"
      ]
     },
     "execution_count": 42,
     "metadata": {},
     "output_type": "execute_result"
    }
   ],
   "source": [
    "japan_hp.var()"
   ]
  },
  {
   "cell_type": "code",
   "execution_count": 43,
   "metadata": {},
   "outputs": [
    {
     "data": {
      "text/plain": [
       "406.3397717295875"
      ]
     },
     "execution_count": 43,
     "metadata": {},
     "output_type": "execute_result"
    }
   ],
   "source": [
    "eu_hp.var()"
   ]
  },
  {
   "cell_type": "markdown",
   "metadata": {},
   "source": [
    "**3. Calculate the appropriate test statistics and p-value**"
   ]
  },
  {
   "cell_type": "code",
   "execution_count": 44,
   "metadata": {},
   "outputs": [
    {
     "data": {
      "text/plain": [
       "KruskalResult(statistic=105.59475799843663, pvalue=1.1759521262123952e-23)"
      ]
     },
     "execution_count": 44,
     "metadata": {},
     "output_type": "execute_result"
    }
   ],
   "source": [
    "stats.kruskal(usa_hp, japan_hp, eu_hp)"
   ]
  },
  {
   "cell_type": "markdown",
   "metadata": {},
   "source": [
    "**4. Conclude based on the above statistics**"
   ]
  },
  {
   "cell_type": "code",
   "execution_count": 45,
   "metadata": {},
   "outputs": [
    {
     "name": "stdout",
     "output_type": "stream",
     "text": [
      "We reject the null hypothesis\n"
     ]
    }
   ],
   "source": [
    "if p < alpha:\n",
    "    print('We reject the null hypothesis')\n",
    "else:\n",
    "    print('We fail to reject the null hypothesis')"
   ]
  },
  {
   "cell_type": "markdown",
   "metadata": {},
   "source": [
    "Using Kruskal-Wallis test, non-parametric test for ANOVA, shows us that the mean HP of the cars from the 3 origins is significantly different. "
   ]
  },
  {
   "cell_type": "markdown",
   "metadata": {},
   "source": [
    "## Exercises\n",
    "\n",
    "Continue working in your `hypothesis_testing` notebook.\n",
    "\n",
    "1. Answer with the type of test you would use (assume normal distribution): \n",
    "    - Is there a difference in grades of students on the second floor compared to grades of all students? \n",
    "    - Are adults who drink milk taller than adults who don't drink milk? \n",
    "    - Is the price of gas higher in Texas or in New Mexico? \n",
    "    - Are there differences in stress levels between students who take data science vs students who take web development vs students who take cloud academy?\n",
    "\n",
    "2. Ace Realty wants to determine whether the average time it takes to sell homes is different for its two offices.  A sample of 40 sales from office #1 revealed a mean of 90 days and a standard  deviation of 15 days. A sample of 50 sales from office #2 revealed  a mean of 100 days and a standard deviation of 20 days. Use a .05 level of significance.\n",
    "\n",
    "3. Load the `mpg` dataset and use it to answer the following questions:\n",
    "\n",
    "    - Is there a difference in fuel-efficiency in cars from 2008 vs 1999?\n",
    "    - Are compact cars more fuel-efficient than the average car?\n",
    "    - Do manual cars get better gas mileage than automatic cars?"
   ]
  }
 ],
 "metadata": {
  "kernelspec": {
   "display_name": "Python 3 (ipykernel)",
   "language": "python",
   "name": "python3"
  },
  "language_info": {
   "codemirror_mode": {
    "name": "ipython",
    "version": 3
   },
   "file_extension": ".py",
   "mimetype": "text/x-python",
   "name": "python",
   "nbconvert_exporter": "python",
   "pygments_lexer": "ipython3",
   "version": "3.9.12"
  }
 },
 "nbformat": 4,
 "nbformat_minor": 4
}
