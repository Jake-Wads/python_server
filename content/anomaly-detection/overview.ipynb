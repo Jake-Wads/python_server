{
 "cells": [
  {
   "cell_type": "markdown",
   "metadata": {},
   "source": [
    "# Anomaly Detection\n",
    "\n",
    "Anomaly Detection is the practice of identifying data points, items, observations or events that do not conform to the expected pattern of a given group.\n",
    "\n",
    "![AnomalyDetectionCartoon.jpeg](AnomalyDetectionCartoon.jpeg)\n",
    "\n",
    "## What are Anomalies?\n",
    "- **Anomaly** - Anomalies are the unusual, unexpected, surprising patterns in the observed world. An anomalous data point is a deviation from a rule or from what is regarded as normal; an outlier. An anomaly is any event or measurement that is out of the ordinary regardless of whether it is exceptional or not.\n",
    "- **Outlier** - An outlier is an observation that lies an abnormal distance from other values in a random sample from a population. In a sense, this definition leaves it up to the analyst (or a consensus process) to decide what will be considered abnormal. Before abnormal observations can be singled out, it is necessary to characterize normal observations. - [NIST/SEMATECH e-Handbook of Statistical Methods](https://www.itl.nist.gov/div898/handbook/prc/section1/prc16.htm)\n",
    "- The terms \"outlier\" and \"anomaly\" are frequently used interchangeably.\n",
    "- In some cases, statisticians sometimes use the term 'outlier' to mean \"something I should remove from the dataset so that it doesn't skew my model I'm building\".\n",
    "- In other cases, we may reserve the word 'anomaly' for data points we want to keep because they are valuable if caught or costly if missed. It's also possible to have an anomaly that is an inlier, meaning that the data is anomalous in nature but is close (in distance) to the mean, mode, or expected grouping(s).\n",
    "\n",
    "## Examples  of Anomaly Detection in Data Science\n",
    "- Fraud detection for financial companies\n",
    "- Medical scans like XRays, ultrasounds, and MRIs seeking abnormalities in location, density, growth, etc..\n",
    "- Detecting and preventing cyber-crime\n",
    "- Malware detection\n",
    "- Intelligence and Defense applications\n",
    "- Analytical Marketing looking for new trends in business or household purchases\n",
    "\n",
    "## The **best** way to detect anomalies is to _know your domain_\n",
    "- For example, knowing that there is nothing colder than absolute zero degrees Kelvin informs how we approach an observation below 0 degrees Kelvin. It may mean that there is something wrong with the measuring tool or a clerical error like a typo (more likely).\n",
    "- What determines if a data point is an outlier is a function of **who** determines if that data point is anomalous and **why**. \n",
    "- One person's noise is another person's signal, depending on their goals and the costs and benefits to be gained/avoided from identifying that data point.\n",
    "    - To one analyst aiming for a clean model of 50/50 chance, observing a flipped coin that lands exactly on its side is an anomaly may be noise that they should ignore from their model. \n",
    "    - To another practitioner, the anomaly may be an observation of very high value that they want to catch, like early detection of a rare disease. \n",
    "- Recall the [e-Handbook of Statistical Methods](https://www.itl.nist.gov/div898/handbook/prc/section1/prc16.htm) definition an outlier: \"an observation that lies an abnormal distance from other values in a random sample from a population. *In a sense, this definition leaves it up to the analyst (or a consensus process) to decide what will be considered abnormal\"*. \n",
    "- It's important to define the criteria, the decision rule, for what makes an observation an inlier or an outlier.\n",
    "- Usually, the deciding factor is cost/benefit analysis:\n",
    "    - Is our goal to hunt for anomalies at all costs because lives are on the line?\n",
    "    - Or do we do more good for people by producing a model that treats outliers as noise?\n",
    "    - What is the cost of a false positive or a false negative?\n",
    "    - What is the benefit of a true positive or a true negative?\n",
    "    "
   ]
  },
  {
   "cell_type": "markdown",
   "metadata": {},
   "source": [
    "## Outliers may contain important information\t\n",
    "\n",
    "Outliers should be investigated carefully. \n",
    "\n",
    "Often they contain valuable information about the process under investigation or the data gathering and recording process. Before considering the possible elimination of these points from the data, one should try to understand why they appeared and whether it is likely similar values will continue to appear. Of course, outliers are often bad data points."
   ]
  },
  {
   "cell_type": "markdown",
   "metadata": {},
   "source": [
    "## Types of Anomalies\n",
    "- **Use Cases:** Response times (longer than usual), error rates (more than usual), network load, cyber intrusions, fraud.\n",
    "\n",
    "- **Point Anomalies:**  A single instance of data is anomalous if it's too far off from the rest. For example, detecting data exfiltration based on gigabytes leaving the network, detecting credit card fraud based on \"amount spent\", etc.\n",
    "\n",
    "- **Contextual Anomalies:** The abnormality is context specific. This type of anomaly is common in time-series data. For example, accessing confidential files during work hours is normal, but in the middle of the night is odd.\n",
    "\n",
    "- **Collective Anomalies:**  A set of data instances collectively helps in detecting anomalies. For example, someone is trying to copy data form a remote machine to a local host unexpectedly, an anomaly that would be flagged as a potential cyber attack. The combination of the event from the remote machine and the event from the local host combine to detect the anomaly.\n",
    "\n",
    "- **Anomalies vs. Noise Removal vs. Novelty Detection:** Novelty detection is concerned with identifying an unobserved pattern in new observations not included in training data — for instance, a sudden interest in a new channel on YouTube during Christmas. Noise Removal (NR) is the process of immunizing analysis from the occurrence of unwanted observations; in other words, removing noise from an otherwise meaningful signal.\n",
    "\n",
    "https://www.datascience.com/blog/python-anomaly-detection"
   ]
  },
  {
   "cell_type": "markdown",
   "metadata": {},
   "source": [
    "## Specific Techniques for Identifying/Detecting Anomalies\n",
    "\n",
    "### Statistical Methods\n",
    "\n",
    "- Flag the data points that deviate from the expected, based on the statistical properties, such as mean, median, mode, and quantiles. \n",
    "\n",
    "- You could define an anomalous data point as one that deviates by a certain standard deviation from the mean. \n",
    "\n",
    "- You could use a simple or exponential moving average to smooth short-term fluctuations and highlight long-term ones.\n",
    "\n",
    "- This method is challenging with really noisy data. \n",
    "\n",
    "\n",
    "### Clustering-Based Anomaly Detection\n",
    "\n",
    "- Assumption: Data points that are similar tend to belong to similar groups or clusters, as determined by their distance from local centroids.\n",
    "\n",
    "- K-means creates 'k' similar clusters of data points. Data instances that fall into abnormally small clusters could potentially be marked as anomalies.\n",
    "\n",
    "- With density based clustering, like `DBSCAN`, we can design the model such that the data points that do not fall into a cluster are the anomalies. Assumption: Normal data points occur around a dense neighborhood and abnormalities are far away.\n",
    "\n",
    "\n",
    "## Remember\n",
    "- There is not a magic algorithm that takes away our responsibility to think clearly and critically about *why* an observation is anomalous.\n",
    "- There are no hard fast rules for whether or not an outlier should be ignored or investigated.\n",
    "- The answer is \"it depends\", and the important part is identifying what that depends on, specifically."
   ]
  },
  {
   "cell_type": "markdown",
   "metadata": {},
   "source": [
    "## Advice from Practitioners\n",
    "\n",
    "> \"None of these methods will deliver the objective truth about which of a dataset’s observations are outliers, simply because there is no objective way of knowing whether something is truly an outlier or an honest-to-goodness data point your model should account for.\" - [Colin Gorrie](http://colingorrie.github.io/outlier-detection.html)\n",
    "\n",
    "> \"In my view, the more formal statistical tests and calculations are overkill because they can’t definitively identify outliers. Ultimately, analysts must investigate unusual values and use their expertise to determine whether they are legitimate data points.\" - [Jim Frost](https://statisticsbyjim.com/basics/outliers/)\n",
    "\n",
    "> \"One important reason to look into outliers is to correct errors in your data. There are two things we should never do with outliers. The first is to silently leave an outlier in place and proceed as if nothing were unusual. The other is to drop an outlier from the analysis without comment just because it's unusual.\" - [K. Barkdo](http://wp.lps.org/kbarkdo/files/2014/07/Chapter.5.Reading.Guide_.doc)\n",
    "\n"
   ]
  },
  {
   "cell_type": "markdown",
   "metadata": {},
   "source": [
    "## Further Resources\n",
    "- [Video overview of anomaly detection from Andrew Ng](https://www.youtube.com/watch?v=086OcT-5DYI)\n",
    "- [SKLearn Examples of Outlier Detection](https://scikit-learn.org/stable/modules/outlier_detection.html)\n",
    "- Additional [Anomaly Detection Resources](https://github.com/yzhao062/anomaly-detection-resources)\n",
    "- [Python Toolbox for Scalable Outlier Detection](https://github.com/yzhao062/pyod)"
   ]
  },
  {
   "cell_type": "markdown",
   "metadata": {},
   "source": [
    "## Exercise\n",
    "\n",
    "- Take a few minutes and jot down some example applications, specific problems, or domains where detecting anomalies is super valuable and impactful.\n",
    "- Identify a few example applications, specific problems, or domains where the outliers can skew the data in a negative way and those outliers may be safely avoided for producing a model."
   ]
  }
 ],
 "metadata": {
  "kernelspec": {
   "display_name": "Python 3 (ipykernel)",
   "language": "python",
   "name": "python3"
  },
  "language_info": {
   "codemirror_mode": {
    "name": "ipython",
    "version": 3
   },
   "file_extension": ".py",
   "mimetype": "text/x-python",
   "name": "python",
   "nbconvert_exporter": "python",
   "pygments_lexer": "ipython3",
   "version": "3.9.7"
  }
 },
 "nbformat": 4,
 "nbformat_minor": 2
}
