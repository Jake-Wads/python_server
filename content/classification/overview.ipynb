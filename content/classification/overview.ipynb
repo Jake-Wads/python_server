{
 "cells": [
  {
   "cell_type": "markdown",
   "metadata": {},
   "source": [
    "# Classification"
   ]
  },
  {
   "cell_type": "markdown",
   "metadata": {},
   "source": [
    "[What is Machine Learning](https://www.youtube.com/watch?v=iLu9XyZ55oI)\n",
    "\n",
    "## Questions that data science methods can answer\n",
    "\n",
    "- **Is this new observation A or B (or C, D, or E)  (Classification)**\n",
    "- How many or how much of something (Regression)\n",
    "- What groupings exist in the data already (Clustering)\n",
    "- What should we expect to happen next? (Time Series Analysis)\n",
    "- Is this weird? (Anomaly Detection)\n",
    "\n",
    "\n",
    "## Predicting categorical outcomes\n",
    "\n",
    "Classification is a technique for labeling the class of an observation. This is done through the modeling of the patterns in the related data which drive the outcome.\n",
    "\n",
    "The primary goal of developing a classification model is to generalize patterns. This is done so that the category/class of new data can be identified with a high degree of certainty. Classification can be performed on structured or unstructured data. It can be used to predict binary classes (2 classes) or multi-classes (>2 classes).\n",
    "\n",
    "In this module, we will explore **supervised** (the data is labeled) machine learning related to **classification** (the target variable is categorical) using **structured** (the data can be naturally stored in rows and columns) data. We will work through the data science pipeline, as well as improving our knowledge of the python programming language."
   ]
  },
  {
   "cell_type": "markdown",
   "metadata": {},
   "source": [
    "## Vocabulary\n",
    "\n",
    "- Classifier:  An algorithm that maps the input data to a specific category.\n",
    "\n",
    "- Classification Model: A series of steps that takes the patterns of input variables, generalizes those patterns, and applies them to new data in order to predict the class. \n",
    "\n",
    "- Feature:  A feature, aka input/independent variable, is an individual measurable property of a phenomenon being observed.\n",
    "\n",
    "- Binary Classification: Classification with two possible outcomes, e.g. pass/fail.\n",
    "\n",
    "- Multiclass Classification:  Classification with more than two classes, where each sample is assigned to one and only one target label, e.g. Grade levels of students in school (1st-12th).\n",
    "    "
   ]
  },
  {
   "cell_type": "markdown",
   "metadata": {},
   "source": [
    "## Main ideas\n",
    "\n",
    "\n",
    "- Train on data with answers and labels (supervised).\n",
    "- This training will produce a `decision rule` that will be used to classify future data.\n",
    "- Using a boundary between points or a distance between points, we classify new data points into A or B (or C or D or E)\n",
    "\n",
    "\n",
    "\n",
    "\n",
    "![](classify_apples_oranges.png)"
   ]
  },
  {
   "cell_type": "markdown",
   "metadata": {},
   "source": [
    "## Process\n",
    "\n",
    "### Planning\n",
    "\n",
    "- Clearly define your goals, your timeline, and how you plan to get there. \n",
    "\n",
    "- Understand what your MVP will be and set milestones. \n",
    "\n",
    "- Know who your stakeholders are and understand the final delivery product. \n",
    "\n",
    "- Set some initial questions that you plan to investigate. \n",
    "\n",
    "\n",
    "### Acquire\n",
    "\n",
    "- Acquire structured data from a clipboard, excel, Google sheets, or SQL and read it into pandas. \n",
    "\n",
    "- Understand and summarize the data through aggregates, descriptive stats and distribution plots.\n",
    "\n",
    "\n",
    "### Prepare\n",
    "\n",
    "- Clean the data by converting datatypes and handling missing values.\n",
    "\n",
    "- Split our observations into 3 samples - train, validate, test.\n",
    "\n",
    "\n",
    "### Explore\n",
    "\n",
    "- Univariate analysis: Look at the distribution of your variables individually. \n",
    "\n",
    "- Bivariate/multivariate analysis: Look at the relationship of two or more variables. \n",
    "    - We will discuss the meaning of \"drivers\", variables vs. features, and the target variable. We will discuss the importance of documenting questions and hypotheses.\n",
    "    - Visualize the interaction of variables, especially independent variables with the dependent variable using charts such as scatterplots, jointplots, pairgrids, and heatmaps to identify drivers.\n",
    "    - Run statistical tests to verify relationships. Test hypotheses that involve a categorical variable are t-tests and chi-squared tests.\n",
    "    - Conclude with documenting answers for those questions, and documenting takeaways and findings at each step of exploration.\n",
    "\n",
    "### Model\n",
    "\n",
    "- Preprocessing: We will prepare our data specifically for modeling. In this module, we will focus on encoding our values. Machine learning models can not accept string values, therefore, we will turn them all into numbers. Scaling our data is also important for distance-based algorithms. Scaling will be discussed in the regression module. \n",
    "\n",
    "- Establish Baseline: We will learn about the importance of establishing a \"baseline model\" or baseline score and ways to complete this task. The baseline for classification is typically the mode of the dependent variable.\n",
    "\n",
    "- Build Models: We will build classification models. What does that mean? We will use well established algorithms to extract the patterns in the data. This will create a model that will allow us to compute predictions for each observation. \n",
    "\n",
    "- Model Evaluation: We will compare classification models by computing evaluation metrics. These metrics will measure how well a model did at predicting the target variable, based on different priorities. \n",
    "\n",
    "- Model Selection and Testing: We will evaluate the model on the unseen data (the out-of-sample validate and test datasets). We will use validate to tune hyperparameters, and then test on our best model. \n",
    "\n",
    "\n",
    "**Common Classification Algorithms**\n",
    "\n",
    "- Logistic Regression (sklearn.linear_model.LogisticRegression)\n",
    "- Decision Tree (sklearn.tree.DecisionTreeClassifier)\n",
    "- Naive Bayes (sklearn.naive_bayes.BernoulliNB)\n",
    "- K-Nearest Neighbors (sklearn.neighbors.KNeighborsClassifier)\n",
    "- Random Forest (sklearn.ensemble.RandomForestClassifier)\n",
    "- Support Vector Machine (sklearn.svm.SVC)\n",
    "- Stochastic Gradient Descent (sklearn.linear_model.SGDClassifier)\n",
    "- AdaBoost (sklearn.ensemble.AdaBoostClassifier)\n",
    "- Bagging (sklearn.ensemble.BaggingClassifier)\n",
    "- Gradient Boosting (sklearn.ensemble.GradientBoostingClassifier)\n",
    "\n",
    "See [the sklearn docs on supervised methods](https://scikit-learn.org/stable/supervised_learning.html#supervised-learning) for more."
   ]
  },
  {
   "cell_type": "code",
   "execution_count": null,
   "metadata": {},
   "outputs": [],
   "source": []
  }
 ],
 "metadata": {
  "kernelspec": {
   "display_name": "Python 3 (ipykernel)",
   "language": "python",
   "name": "python3"
  },
  "language_info": {
   "codemirror_mode": {
    "name": "ipython",
    "version": 3
   },
   "file_extension": ".py",
   "mimetype": "text/x-python",
   "name": "python",
   "nbconvert_exporter": "python",
   "pygments_lexer": "ipython3",
   "version": "3.9.12"
  },
  "toc": {
   "base_numbering": 1,
   "nav_menu": {},
   "number_sections": false,
   "sideBar": false,
   "skip_h1_title": false,
   "title_cell": "Table of Contents",
   "title_sidebar": "Contents",
   "toc_cell": false,
   "toc_position": {},
   "toc_section_display": false,
   "toc_window_display": false
  }
 },
 "nbformat": 4,
 "nbformat_minor": 2
}
