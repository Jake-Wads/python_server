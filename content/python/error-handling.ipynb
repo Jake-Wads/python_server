{
 "cells": [
  {
   "cell_type": "markdown",
   "metadata": {},
   "source": [
    "# Error Handling\n",
    "\n",
    "In Python, (almost) all errors are represented as **exceptions**. As the name implies, an exception is a programttic way to represent that something exceptional (usually an error) has occured.\n",
    "\n",
    "For example, if we were to try to divide by 0, python would produce a `ZeroDivisionError`.\n",
    "\n",
    "```python\n",
    "1 / 0\n",
    "```\n",
    "\n",
    "\n",
    "A `ZeroDivisionError` is a specific type of exception that represents the error of trying to divide by 0.\n",
    "\n",
    "You have probably seen errors when trying to work with variables of different types. For example, the code below will produce a `TypeError`.\n",
    "\n",
    "```python\n",
    "1 + '1'\n",
    "```\n",
    "\n",
    "Python provides us a way to handle errors that occur in our code through the keywords `try` and `except`. We can put the code that could produce an error that we want to handle inside of the `try` block, and the `except` block will contain code that will handle the error."
   ]
  }
 ],
 "metadata": {
  "jupytext": {
   "main_language": "python",
   "text_representation": {
    "extension": ".md",
    "format_name": "markdown"
   }
  },
  "kernelspec": {
   "display_name": "Python 3",
   "language": "python",
   "name": "python3"
  },
  "language_info": {
   "codemirror_mode": {
    "name": "ipython",
    "version": 3
   },
   "file_extension": ".py",
   "mimetype": "text/x-python",
   "name": "python",
   "nbconvert_exporter": "python",
   "pygments_lexer": "ipython3",
   "version": "3.7.1"
  }
 },
 "nbformat": 4,
 "nbformat_minor": 2
}
