{
 "cells": [
  {
   "cell_type": "markdown",
   "metadata": {},
   "source": [
    "# Imports\n",
    "\n",
    "\n",
    "We **import** libraries or modules into our current Python session in order to use the functions, methods, or variables within it. We can also directly import specific functions, methods or variables, as opposed to the entire module. The goal is to avoid reinventing the wheel. Practitioners use imports all the time.\n",
    "\n",
    "## Goals\n",
    "\n",
    "Following this lesson you should be able to:\n",
    "\n",
    "1. Understand the differences between Modules, Libraries & Packages. \n",
    "2. Install a new package, taking adequate safety measures. \n",
    "3. Import a base python or pypi module, with and without an alias, and run a function that exists in that module. \n",
    "4. Import a module you created, and run a function that exists in that module. \n",
    "5. Import a function from a module, with and without an alias, and run that function. "
   ]
  },
  {
   "cell_type": "markdown",
   "metadata": {},
   "source": [
    "## Terminology\n",
    "\n",
    "Before going into imports, let's discuss some terminology:\n",
    "\n",
    "- A **Module** is a python file with a `.py` extension.\n",
    "\n",
    "    Modules contain functions and variables. A module can exist in:\n",
    "\n",
    "    - The python standard library\n",
    "    - Community developed packages\n",
    "    - Your working directory as a file that you have created. For example, [this capstone project from the Darden cohort](https://github.com/SpotiScryers/SpotiScry) has modules named `acquire`, `prepare`, `explore`, `preprocessing`, and `model` that are imported into their jupyter notebook.\n",
    "\n",
    "- A **Package** is a directory that contains modules.\n",
    "\n",
    "    It can also consist of other packages, or 'sub-packages'. Packages are a way to distribute one or more modules. We *install* packages in order to be able to *import* modules or libraries for use. \n",
    "\n",
    "- A **Library** is a collection of code, data, documentation, and configuration, usually purpose built for specific tasks.\n",
    "\n",
    "    Libraries can be very large in scope like [numpy](https://numpy.org), a library the forms the base for most other scientific packages in python, or [matplotlib](https://matplotlib.org), the library we'll use for data visualization. Other libraries are smaller in scope, like [requests](https://docs.python-requests.org/en/master/), a library for sending HTTP requests.\n",
    "\n",
    "\n",
    "- The **Python Package Index**, PyPI, https://pypi.org/, is a repository of community developed Python packages. \n",
    "\n",
    "- Anaconda's **Conda** product is a package manager. It helps you find and install 3rd party packages."
   ]
  },
  {
   "cell_type": "markdown",
   "metadata": {},
   "source": [
    "## Import Sources\n",
    "\n",
    "There are 3 main sources from imports:\n",
    "\n",
    "1. The [Python standard library](https://docs.python.org/3/library/)\n",
    "\n",
    "    This comes with the Python language, and no special installation is needed in order to use it. \n",
    "\n",
    "2. 3rd party packages\n",
    "\n",
    "    3rd party packages are typically installed with a *package manger*, usually either `conda` or `pip`.\n",
    "    \n",
    "    `pip` is the package manager that comes with the python language. You can use `pip install` to install packages from [the Python Package Index](https://pypi.org/).\n",
    "    \n",
    "    `conda` is an alternative package management tool used by anaconda. You can use `conda install` to install packages published on through anaconda.\n",
    "    \n",
    "    `conda` is generally preferred as it ensures that the versions of all installed libraries are compatible with each other, and the packages it makes available are all vetted by anaconda. While very rare, packages on pypi can by contain malicious code, as anyone can publish a package.\n",
    "    \n",
    "    In general, you should research the libraries you are considering using before installing them. Visiting the project's github page, looking over the documentation, and seeing how active the community is are all good ideas.\n",
    "    \n",
    "3. Our own code\n",
    "\n",
    "    We can break our code into separate files and use imports to use code from one file in another python file, or in a jupyter notebook. For this course, we will store imported modules in the same directory as the file that is importing them."
   ]
  },
  {
   "cell_type": "markdown",
   "metadata": {},
   "source": [
    "## Installing Packages\n",
    "\n",
    "We can only import the libraries and modules of packages that have been installed. In other words, in order to import a library or a module we have to install a package that contains it. Because we installed python with anaconda, we already have many 3rd party packages commonly used in data science work installed."
   ]
  },
  {
   "cell_type": "markdown",
   "metadata": {},
   "source": [
    "To install additional packages, we run commands in the shell in our terminal application (**not** within a python session). For example:\n",
    "\n",
    "```\n",
    "conda install somepackage\n",
    "```\n",
    "\n",
    "or\n",
    "\n",
    "```\n",
    "pip install somepackage\n",
    "```"
   ]
  },
  {
   "cell_type": "markdown",
   "metadata": {},
   "source": [
    "## Importing\n",
    "\n",
    "We can either import an entire module (or library) or just pieces of it, such as a specific function or variable. We can give **aliases** to anything we import.\n",
    "\n",
    "To import an entire module:\n",
    "\n",
    "```python\n",
    "import somemodule\n",
    "\n",
    "# ... later on in the code\n",
    "\n",
    "somemodule.somefunction()\n",
    "```\n",
    "\n",
    "To reference variables or functions within the module we prefix the variable or function name with the name of the module and a period.\n",
    "\n",
    "To import a module with an alias:\n",
    "\n",
    "```python\n",
    "import somemodule as sm\n",
    "\n",
    "# ... later on in the code\n",
    "\n",
    "sm.somefunction()\n",
    "```\n",
    "\n",
    "Usually aliases are used to shorten longer module names, and to reference variables and functions within the module we prefix them with the alias and a period.\n",
    "\n",
    "To import specific parts of a module:\n",
    "\n",
    "```python\n",
    "# import a single function from somemodule\n",
    "from somemodule import somefunction\n",
    "# import multiple functions from anothermodule\n",
    "from anothermodule import anotherfunction, yetanotherfunction\n",
    "\n",
    "# ... later on in the code\n",
    "somefunction()\n",
    "anotherfunction()\n",
    "yetanotherfunction()\n",
    "```\n",
    "\n",
    "Like modules, we can give aliases to the specific pieces we import:\n",
    "\n",
    "```python\n",
    "from somemodule import somefunction as some_func\n",
    "from anothermodule import anotherfunction as another_func, yetanotherfunction as yaf\n",
    "\n",
    "# ... later on in the code\n",
    "\n",
    "some_func()\n",
    "another_func()\n",
    "yaf()\n",
    "```"
   ]
  },
  {
   "cell_type": "markdown",
   "metadata": {},
   "source": [
    "### Importing Your Own Code\n",
    "\n",
    "When importing your own code, reference the name of the file without the `.py` extension.\n",
    "\n",
    "!!!warning \"Naming Conventions\"\n",
    "    In order to import from another file, that file's name (everything before the `.py` file extension) must be a valid python identifier, that is, you could use it as a variable name."
   ]
  },
  {
   "cell_type": "markdown",
   "metadata": {},
   "source": [
    "## Examples\n",
    "\n",
    "**Example 1: Importing a module from the python standard library**\n",
    "\n",
    "In this example, we'll use several functions from [python's `math` module](https://docs.python.org/3/library/math.html).\n",
    "\n",
    "- `sqrt`: to take the square root of a number\n",
    "- `ceil`: to round a number up\n",
    "- `pow`: to raise a number to a power.\n",
    "\n",
    "Remember that when we import a module as a whole we need to prefix any referenced functions with the module name and a `.`."
   ]
  },
  {
   "cell_type": "code",
   "execution_count": 1,
   "metadata": {},
   "outputs": [
    {
     "data": {
      "text/plain": [
       "2.0"
      ]
     },
     "execution_count": 1,
     "metadata": {},
     "output_type": "execute_result"
    }
   ],
   "source": [
    "import math\n",
    "\n",
    "x = 4\n",
    "math.sqrt(x)"
   ]
  },
  {
   "cell_type": "markdown",
   "metadata": {},
   "source": [
    "Using an alias:"
   ]
  },
  {
   "cell_type": "code",
   "execution_count": 2,
   "metadata": {},
   "outputs": [
    {
     "data": {
      "text/plain": [
       "4.0"
      ]
     },
     "execution_count": 2,
     "metadata": {},
     "output_type": "execute_result"
    }
   ],
   "source": [
    "import math as m\n",
    "\n",
    "x = 16\n",
    "m.sqrt(x)"
   ]
  },
  {
   "cell_type": "code",
   "execution_count": 3,
   "metadata": {},
   "outputs": [
    {
     "data": {
      "text/plain": [
       "5"
      ]
     },
     "execution_count": 3,
     "metadata": {},
     "output_type": "execute_result"
    }
   ],
   "source": [
    "x = 4.3\n",
    "m.ceil(4.3) # return the ceiling of x, i.e. round UP!"
   ]
  },
  {
   "cell_type": "markdown",
   "metadata": {},
   "source": [
    "When we import functions directly, we don't need to prefix the function name with the module name anymore. This also means we don't have access to the other functions within the module."
   ]
  },
  {
   "cell_type": "code",
   "execution_count": 4,
   "metadata": {},
   "outputs": [
    {
     "data": {
      "text/plain": [
       "2.0"
      ]
     },
     "execution_count": 4,
     "metadata": {},
     "output_type": "execute_result"
    }
   ],
   "source": [
    "from math import sqrt\n",
    "\n",
    "sqrt(4)"
   ]
  },
  {
   "cell_type": "code",
   "execution_count": 5,
   "metadata": {},
   "outputs": [
    {
     "name": "stdout",
     "output_type": "stream",
     "text": [
      "The square root of 2 is ≅ 1.414\n",
      "pi squared is about 9.86\n"
     ]
    }
   ],
   "source": [
    "from math import sqrt, pow\n",
    "\n",
    "print('The square root of 2 is ≅ %.3f' % sqrt(2))\n",
    "print('pi squared is about %.2f' % pow(3.14, 2))"
   ]
  },
  {
   "cell_type": "markdown",
   "metadata": {},
   "source": [
    "**Example 2: A Third Party Library**\n",
    "\n",
    "For this example, we will use Pandas, a third party library that was included in our installation of Anaconda. `pd` is the well-accepted alias for Pandas, and you will discover others as we move into the lessons covering the data science libraries. \n",
    "\n",
    "Here we will import all of pandas and create a pandas `Series`. A series is a one-dimensional array with axis (row) labels. (We'll learn much more about pandas in future lessons.)"
   ]
  },
  {
   "cell_type": "code",
   "execution_count": 6,
   "metadata": {},
   "outputs": [
    {
     "data": {
      "text/plain": [
       "0       a\n",
       "1       1\n",
       "2    True\n",
       "dtype: object"
      ]
     },
     "execution_count": 6,
     "metadata": {},
     "output_type": "execute_result"
    }
   ],
   "source": [
    "import pandas as pd\n",
    "\n",
    "pd.Series([\"a\", 1, True])"
   ]
  },
  {
   "cell_type": "markdown",
   "metadata": {},
   "source": [
    "**Example 3: A local file that contains imports**\n",
    "\n",
    "Imagine we have a file named `util.py` stored in the `~/codeup-data-science` directory with the following contents:\n",
    "\n",
    "```python\n",
    "import math\n",
    "\n",
    "def rounded_sqrt(x):\n",
    "    return math.ceil(math.sqrt(x))\n",
    "```\n",
    "\n",
    "We can demonstrate importing from this file py starting an interactive python session in the same directory as our file:\n",
    "\n",
    "```\n",
    "cd ~/codeup-data-science\n",
    "python\n",
    "```\n",
    "\n",
    "From within our python session:\n",
    "\n",
    "```\n",
    ">>> from util import rounded_sqrt\n",
    ">>> rounded_sqrt(10)\n",
    "4\n",
    "```\n",
    "\n",
    "Note that in this example the module we are importing itself contains imports. We do not have to import the `math` module wherever we use the `util.py` file."
   ]
  },
  {
   "cell_type": "markdown",
   "metadata": {},
   "source": [
    "## Code Execution of Imported Files\n",
    "\n",
    "When a module is imported, all the code in that file is executed. Sometimes this\n",
    "can produce some undesired side effects, so a best practice is to only have\n",
    "*definitions* inside of a module. If the module contains *procedural code*, that\n",
    "is, code that does something, we can place it inside of an `if` statement like\n",
    "this:\n",
    "\n",
    "```python\n",
    "if __name__ == '__main__':\n",
    "    print('Hello, World!')\n",
    "```\n",
    "\n",
    "    Hello, World!\n",
    "\n",
    "\n",
    "The `__name__` variable is a special variable that is set by python. It's value\n",
    "will be `__main__` when the module is being run directly, but *not* when the\n",
    "module is being imported. This way you can write files that do something when\n",
    "you run them directly, but can also be imported from without producing side\n",
    "effects.\n",
    "\n",
    "!!!tip \"Working With Imported Files\"\n",
    "    The code inside of an imported file is only executed *once*, even if it is imported multiple times. This can improve performance if, for example, multiple libraries all need to reference another more basic library. However this can be inconvenient when we are developing code that imports from another file.\n",
    "    \n",
    "    Imagine you are working in a notebook named `main.ipynb`. Within `main` you import a function named `helper_function` from the `util` module. You discover a bug in the `helper_function` function and go fix it in `util.py`. However, upon running the code in your notebook again, you notice the bug is still present! This is because of the behavior discussed above, and the notebook's kernel will need to be restarted in order to import the fixed version of the `helper` module.\n",
    "    \n",
    "    In summary, if you make changes in a file that is being imported, you should restart your notebook / python session to see those changes take effect."
   ]
  },
  {
   "cell_type": "markdown",
   "metadata": {},
   "source": [
    "## Further Reading\n",
    "\n",
    "- [Python reference: the import system](https://docs.python.org/3/reference/import.html)\n",
    "- [List of packages come pre-installed with anaconda](https://docs.anaconda.com/anaconda/packages/py3.7_osx-64/)\n",
    "- [Table comparing `conda` and `pip` commands](https://conda.io/projects/conda/en/latest/commands.html#conda-vs-pip-vs-virtualenv-commands)"
   ]
  },
  {
   "cell_type": "markdown",
   "metadata": {},
   "source": [
    "## Exercises\n",
    "\n",
    "You will need to use imports to complete each exercise. These exercises will also strengthen your problem solving and python coding skills.\n",
    "\n",
    "You will be directed to create specific files in part 1, for the rest you may do your work in either `import_exercises.py` or `import_exercises.ipynb`.\n",
    "\n",
    "1. Import and test 3 of the functions from your functions exercise file. Import each function in a different way:\n",
    "\n",
    "    1. Run an interactive python session and import the module. Call the `is_vowel` function using the `.` syntax.\n",
    "    1. Create a file named `import_exercises.py`. Within this file, use `from` to import the `calculate_tip` function directly. Call this function with values you choose and print the result.\n",
    "    1. Create a jupyter notebook named `import_exercises.ipynb`. Use `from` to import the `get_letter_grade` function and give it an alias. Test this function in your notebook.\n",
    "    \n",
    "    Make sure your code that tests the function imports is run from the same directory that your functions exercise file is in.\n",
    "\n",
    "2. Read about and use the [`itertools` module](https://docs.python.org/3/library/itertools.html) from the python standard library to help you solve the following problems. Note: Many of these functions in this library return an object, to see the results of the function, cast this object as a list. \n",
    "\n",
    "    - How many different ways can you combine a single letter from \"abc\" with either 1, 2, or 3?\n",
    "    - How many different *combinations* are there of 2 letters from \"abcd\"?\n",
    "    - How many different *permutations* are there of 2 letters from \"abcd\"?\n",
    "\n",
    "3. Save [this file](https://gist.githubusercontent.com/misty-garcia/bf100f7418eb26446507166b4f50a18a/raw/a48b7071dabf32991ff5de3c91b633ecd1a95e42/profiles.json) as `profiles.json` inside of your exercises directory (right click -> save file as...).\n",
    "\n",
    "    Use the `load` function from [the `json` module](https://docs.python.org/3/library/json.html) to open this file.\n",
    "    \n",
    "    ```python\n",
    "    import json\n",
    "    \n",
    "    json.load(open('profiles.json'))\n",
    "    ```\n",
    "    \n",
    "    Your code should produce a list of dictionaries. Using this data, write some code that calculates and outputs the following information:\n",
    "\n",
    "    - Total number of users\n",
    "    - Number of active users\n",
    "    - Number of inactive users\n",
    "    - Grand total of balances for all users\n",
    "    - Average balance per user\n",
    "    - User with the lowest balance\n",
    "    - User with the highest balance\n",
    "    - Most common favorite fruit\n",
    "    - Least most common favorite fruit\n",
    "    - Total number of unread messages for all users"
   ]
  },
  {
   "cell_type": "markdown",
   "metadata": {},
   "source": [
    "**BONUS**\n",
    "\n",
    "Continue to use the list of dictionaries. \n",
    "\n",
    "- Find out how many total unique tags there are for all users\n",
    "- Display a user's name and all of their respective friends"
   ]
  }
 ],
 "metadata": {
  "kernelspec": {
   "display_name": "Python 3 (ipykernel)",
   "language": "python",
   "name": "python3"
  },
  "language_info": {
   "codemirror_mode": {
    "name": "ipython",
    "version": 3
   },
   "file_extension": ".py",
   "mimetype": "text/x-python",
   "name": "python",
   "nbconvert_exporter": "python",
   "pygments_lexer": "ipython3",
   "version": "3.9.12"
  }
 },
 "nbformat": 4,
 "nbformat_minor": 2
}
