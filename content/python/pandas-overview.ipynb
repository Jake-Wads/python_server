{
 "cells": [
  {
   "cell_type": "markdown",
   "metadata": {},
   "source": [
    "# Pandas\n",
    "\n",
    "In this module we will be learning about pandas, the python library for representing *dataframes*, tabular, 2-d structures that represent datasets.\n",
    "\n",
    "We will talk about\n",
    "\n",
    "- Series: 1-dimensional representations of data\n",
    "- Dataframes: Basic concepts and manipulation of pandas 2-d data structures\n",
    "- Advanced dataframes: more advanced data frame manipulation\n",
    "\n",
    "As we go through the curriculum, be sure to read [the official pandas documentation][1] as well.\n",
    "\n",
    "[1]: https://pandas.pydata.org/\n",
    "\n",
    "!!!tip \"There's not just one way to do it\"\n",
    "    As we go through the pandas lessons, you will undoubtedly find different ways to accomplish the same tasks that we are doing as you search the internet. For the sake of simplicty we will just present one way to do things, but keep in mind you will see other variations, and the pandas library has more depth to it than what we present here."
   ]
  },
  {
   "cell_type": "markdown",
   "metadata": {},
   "source": [
    "## Further Reading\n",
    "\n",
    "- [pandas tutorial recomendations from the official pandas docs](https://pandas.pydata.org/pandas-docs/stable/getting_started/tutorials.html)\n",
    "- [pandas compared to SQL](https://pandas.pydata.org/pandas-docs/stable/getting_started/comparison/comparison_with_sql.html)\n",
    "- [pandas cheat sheet](http://pandas.pydata.org/Pandas_Cheat_Sheet.pdf)\n",
    "- [10 minutes to pandas (this one is extremely dense, but provides an overview of *all* of the functionality of pandas)](https://pandas.pydata.org/pandas-docs/stable/getting_started/10min.html#min)"
   ]
  }
 ],
 "metadata": {
  "kernelspec": {
   "display_name": "Python 3 (ipykernel)",
   "language": "python",
   "name": "python3"
  },
  "language_info": {
   "codemirror_mode": {
    "name": "ipython",
    "version": 3
   },
   "file_extension": ".py",
   "mimetype": "text/x-python",
   "name": "python",
   "nbconvert_exporter": "python",
   "pygments_lexer": "ipython3",
   "version": "3.9.12"
  }
 },
 "nbformat": 4,
 "nbformat_minor": 2
}
