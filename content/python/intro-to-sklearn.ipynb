{
 "cells": [
  {
   "cell_type": "markdown",
   "metadata": {},
   "source": [
    "# Sci-Kit Learn\n",
    "\n",
    "Sci-Kit Learn, or `sklearn` is a library that provides classes that implement the most common machine learning algorithms.\n",
    "\n",
    "In general, we use sklearn like this:\n",
    "\n",
    "0. Split the data into train and test samples\n",
    "\n",
    "    ```python\n",
    "    from sklearn.model_selection import train_test_split\n",
    "    x_train, y_train, x_test, y_test = train_test_split(features, target)\n",
    "    ```\n",
    "\n",
    "1. Import the class that represents the machine learning algorithm you wish to use\n",
    "\n",
    "    ```python\n",
    "    from sklearn.tree import DecisionTreeClassifier\n",
    "    ```\n",
    "\n",
    "1. Create an instance of the class, setting any hyperparameters\n",
    "\n",
    "    ```python\n",
    "    tree = DecisionTreeClassifier(max_depth=4)\n",
    "    ```\n",
    "\n",
    "1. Fit the model on the train sample\n",
    "\n",
    "    ```python\n",
    "    tree.fit(x_train, y_train)\n",
    "    ```\n",
    "\n",
    "1. Use the trained model to make predictions on the test sample\n",
    "\n",
    "    ```python\n",
    "    actual = y_test\n",
    "    predictions = tree.predict(x_test)\n",
    "    ```\n",
    "\n",
    "1. Evaluate the model's performance\n",
    "\n",
    "    ```python\n",
    "    from sklearn.metrics import accuracy_score\n",
    "\n",
    "    accuracy_score(actual, predictions)\n",
    "    ```\n",
    "\n",
    "Sci-Kit Learn provides a standardized API for interacting with it's functions and classes, meaning that most of the functions and classes are used the same way. For example, regardless of if we are using a decision tree classifier, a ridge regression, or a k-neighbors classifier, we will still import the class, create an instance of while setting any model hyperparameters, call the `fit` method, and make predictions with the `predict` method.\n",
    "\n",
    "The functions for computing metrics for model performance operate the same way, that is, they all accept the arguments in the same order, first the true values, then the predictions to be evaluated.\n",
    "\n",
    "## Further Reading\n",
    "\n",
    "- [sklearn tutorial](https://github.com/jakevdp/sklearn_tutorial)"
   ]
  }
 ],
 "metadata": {
  "jupytext": {
   "main_language": "python",
   "text_representation": {
    "extension": ".md",
    "format_name": "markdown"
   }
  },
  "kernelspec": {
   "display_name": "Python 3",
   "language": "python",
   "name": "python3"
  },
  "language_info": {
   "codemirror_mode": {
    "name": "ipython",
    "version": 3
   },
   "file_extension": ".py",
   "mimetype": "text/x-python",
   "name": "python",
   "nbconvert_exporter": "python",
   "pygments_lexer": "ipython3",
   "version": "3.8.5"
  }
 },
 "nbformat": 4,
 "nbformat_minor": 2
}
