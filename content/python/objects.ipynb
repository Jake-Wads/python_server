{
 "cells": [
  {
   "cell_type": "markdown",
   "metadata": {},
   "source": [
    "# Objects\n",
    "\n",
    "This whole time we have been using python's built-in objects (e.g. int, str, list), but python also provides the ability to create our own objects. We say that python is an *object-oriented* langauge because everything in python is an object.\n",
    "\n",
    "!!!tip \"Code Style\"\n",
    "    Convention is to name classes in PascalCase, that is, the first letter of the identifier is capitalized, and words are separated by capitalization.\n",
    "\n",
    "    Whenever you are working with a library and see something in PascalCase, it is probably a class.\n",
    "\n",
    "For the rest of this course, we won't really be diving deep into object-oriented programming, but rather, we will be using objects that have already been defined in other libraries. Regardless, it is always good to get some knowledge of how things work under the hood.\n",
    "\n",
    "Objects provide us a way to formally group state and behavior. That is, objects can store some sort of data, and perform actions on or with that data.\n",
    "\n",
    "Objects have many uses, we will see objects and classes that represent:\n",
    "\n",
    "- columns of data\n",
    "- \"Data Frames\", collections of columns\n",
    "- database connection\n",
    "- statistical models\n",
    "- machine learning algorithms\n"
   ]
  },
  {
   "cell_type": "code",
   "execution_count": 1,
   "metadata": {},
   "outputs": [
    {
     "name": "stdout",
     "output_type": "stream",
     "text": [
      "Bob Slydell is 43 years old!\n",
      "Bob Porter is 41 years old!\n",
      "\n",
      "Aging...\n",
      "\n",
      "Bob Slydell is 44 years old!\n",
      "Bob Porter is 42 years old!\n"
     ]
    }
   ],
   "source": [
    "class Person:\n",
    "    # a special method that is called when an object is created\n",
    "    def __init__(self, name, age):\n",
    "        self.name = name\n",
    "        self.age = age\n",
    "    def getinfo(self):\n",
    "        return '{} is {} years old!'.format(self.name, self.age)\n",
    "    def getolder(self):\n",
    "        self.age += 1\n",
    "\n",
    "bob1 = Person('Bob Slydell', 43)\n",
    "bob2 = Person('Bob Porter', 41)\n",
    "\n",
    "print(bob1.getinfo())\n",
    "print(bob2.getinfo())\n",
    "\n",
    "print('\\nAging...\\n')\n",
    "bob1.getolder()\n",
    "bob2.getolder()\n",
    "\n",
    "print(bob1.getinfo())\n",
    "print(bob2.getinfo())"
   ]
  }
 ],
 "metadata": {
  "jupytext": {
   "main_language": "python",
   "text_representation": {
    "extension": ".md",
    "format_name": "markdown"
   }
  },
  "language_info": {
   "codemirror_mode": {
    "name": "ipython",
    "version": 3
   },
   "file_extension": ".py",
   "mimetype": "text/x-python",
   "name": "python",
   "nbconvert_exporter": "python",
   "pygments_lexer": "ipython3",
   "version": "3.7.1"
  }
 },
 "nbformat": 4,
 "nbformat_minor": 2
}
