{
 "cells": [
  {
   "cell_type": "markdown",
   "metadata": {},
   "source": [
    "# Acquire Data\n",
    "\n",
    "In this lesson, we'll explore a REST API that returns JSON data."
   ]
  },
  {
   "cell_type": "markdown",
   "metadata": {},
   "source": [
    "## Definitions\n",
    "\n",
    "REST, referring to *Representational State Transfer*, is a set of guidelines for structuring urls. Often times you will encounter the phrase RESTful to describe web sites or web services that follow REST guidelines. [More on REST](https://en.wikipedia.org/wiki/Representational_state_transfer)\n",
    "\n",
    "API stands for *Application Programming Interface*. It is a way that either developers interact with a program, or one program interacts with another.\n",
    "\n",
    "JSON stands for *JavaScript Object Notation*. All JSON is technically valid JavaScript code; JSON is very commonly used as a data representation format, and is commonly used as a data interchange format. In fact, if you were to open up a jupyter notebook in a plain text editor, you would see a big JSON object. JSON data structures consist of arrays (analogous to lists in python), objects (dictionaries), strings, booleans, and numbers.\n",
    "\n",
    "Here is an example json data structure that represents students:\n",
    "\n",
    "```json\n",
    "[\n",
    "    {\"id\": 1, \"name\": \"billy\", \"grades\": [90, 79, 80, 81]},\n",
    "    {\"id\": 2, \"name\": \"sally\", \"grades\": [90, 96, 91, 88]},\n",
    "    {\"id\": 3, \"name\": \"margaret\", \"grades\": [78, 91, 99, 86]}\n",
    "]\n",
    "```\n",
    "\n",
    "In this example, the outermost element is an array, and the elements in the array are objects, each of which represents a student. Each student has an id, name, and grades property.\n",
    "\n",
    "A REST (or RESTful) JSON API is one in which the urls follow a RESTful convention, and all the data sent to/from the server is JSON. "
   ]
  },
  {
   "cell_type": "markdown",
   "metadata": {},
   "source": [
    "## Making HTTP Requests\n",
    "\n",
    "The way we interact with web sites and web servers (including RESTful JSON APIs) is through HTTP **requests** and **responses**.\n",
    "\n",
    "We can use the `requests` library to make http requests. This is somewhat the same as visiting a url in your browser, except that we can interact with the responses programatically in python."
   ]
  },
  {
   "cell_type": "code",
   "execution_count": 1,
   "metadata": {},
   "outputs": [],
   "source": [
    "import requests"
   ]
  },
  {
   "cell_type": "markdown",
   "metadata": {},
   "source": [
    "We will use the `get` function from `requests` and pass it a url:"
   ]
  },
  {
   "cell_type": "code",
   "execution_count": 2,
   "metadata": {},
   "outputs": [
    {
     "data": {
      "text/plain": [
       "<Response [200]>"
      ]
     },
     "execution_count": 2,
     "metadata": {},
     "output_type": "execute_result"
    }
   ],
   "source": [
    "# https://aphorisms.glitch.me returns a random quotation\n",
    "response = requests.get('http://aphorisms.glitch.me/')\n",
    "response"
   ]
  },
  {
   "cell_type": "markdown",
   "metadata": {},
   "source": [
    "We get back a python object that represents an HTTP response.\n",
    "\n",
    "The response object has several interesting properties:\n",
    "\n",
    "- `.ok`: a boolean that indicates that the response was successful (the server sent back a 200 response code)\n",
    "- `.status_code`: a number indicating the HTTP response status code \n",
    "- `.text`: the raw response text"
   ]
  },
  {
   "cell_type": "code",
   "execution_count": 3,
   "metadata": {},
   "outputs": [
    {
     "data": {
      "text/plain": [
       "True"
      ]
     },
     "execution_count": 3,
     "metadata": {},
     "output_type": "execute_result"
    }
   ],
   "source": [
    "response.ok"
   ]
  },
  {
   "cell_type": "code",
   "execution_count": 4,
   "metadata": {},
   "outputs": [
    {
     "data": {
      "text/plain": [
       "200"
      ]
     },
     "execution_count": 4,
     "metadata": {},
     "output_type": "execute_result"
    }
   ],
   "source": [
    "response.status_code"
   ]
  },
  {
   "cell_type": "code",
   "execution_count": 5,
   "metadata": {},
   "outputs": [
    {
     "data": {
      "text/plain": [
       "'{\"quote\":\"We cannot direct the wind, but we can adjust the sails.\",\"author\":\"Dolly Parton\"}'"
      ]
     },
     "execution_count": 5,
     "metadata": {},
     "output_type": "execute_result"
    }
   ],
   "source": [
    "response.text"
   ]
  },
  {
   "cell_type": "markdown",
   "metadata": {},
   "source": [
    "## Example JSON API\n",
    "\n",
    "For an example of a JSON api, we'll interact with the [Star Wars API](https://swapi.dev/)."
   ]
  },
  {
   "cell_type": "code",
   "execution_count": 6,
   "metadata": {},
   "outputs": [
    {
     "name": "stdout",
     "output_type": "stream",
     "text": [
      "{\"name\":\"Leia Organa\",\"height\":\"150\",\"mass\":\"49\",\"hair_color\":\"brown\",\"skin_color\":\"light\",\"eye_color\":\"brown\",\"birth_year\":\"19BBY\",\"gender\":\"female\",\"homeworld\":\"https://swapi.dev/api/planets/2/\",\"films\":[\"https://swapi.dev/api/films/1/\",\"https://swapi.dev/api/films/2/\",\"https://swapi.dev/api/films/3/\",\"https://swapi.dev/api/films/6/\"],\"species\":[],\"vehicles\":[\"https://swapi.dev/api/vehicles/30/\"],\"starships\":[],\"created\":\"2014-12-10T15:20:09.791000Z\",\"edited\":\"2014-12-20T21:17:50.315000Z\",\"url\":\"https://swapi.dev/api/people/5/\"}\n"
     ]
    }
   ],
   "source": [
    "url = 'https://swapi.dev/api/people/5'\n",
    "response = requests.get(url)\n",
    "print(response.text)"
   ]
  },
  {
   "cell_type": "markdown",
   "metadata": {},
   "source": [
    "Here we see that the repsonse we got back contains a JSON object (we could also verify this by visiting the URL in a web browser).\n",
    "\n",
    "Since the response is JSON, we can use the `.json` method on the response object to get a data structure we can work with:"
   ]
  },
  {
   "cell_type": "code",
   "execution_count": 7,
   "metadata": {},
   "outputs": [
    {
     "name": "stdout",
     "output_type": "stream",
     "text": [
      "<class 'dict'>\n"
     ]
    },
    {
     "data": {
      "text/plain": [
       "{'name': 'Leia Organa',\n",
       " 'height': '150',\n",
       " 'mass': '49',\n",
       " 'hair_color': 'brown',\n",
       " 'skin_color': 'light',\n",
       " 'eye_color': 'brown',\n",
       " 'birth_year': '19BBY',\n",
       " 'gender': 'female',\n",
       " 'homeworld': 'https://swapi.dev/api/planets/2/',\n",
       " 'films': ['https://swapi.dev/api/films/1/',\n",
       "  'https://swapi.dev/api/films/2/',\n",
       "  'https://swapi.dev/api/films/3/',\n",
       "  'https://swapi.dev/api/films/6/'],\n",
       " 'species': [],\n",
       " 'vehicles': ['https://swapi.dev/api/vehicles/30/'],\n",
       " 'starships': [],\n",
       " 'created': '2014-12-10T15:20:09.791000Z',\n",
       " 'edited': '2014-12-20T21:17:50.315000Z',\n",
       " 'url': 'https://swapi.dev/api/people/5/'}"
      ]
     },
     "execution_count": 7,
     "metadata": {},
     "output_type": "execute_result"
    }
   ],
   "source": [
    "data = response.json()\n",
    "print(type(data))\n",
    "data"
   ]
  },
  {
   "cell_type": "markdown",
   "metadata": {},
   "source": [
    "Now we have a dictionary that we can work with."
   ]
  },
  {
   "cell_type": "markdown",
   "metadata": {},
   "source": [
    "This API provides the availabe resources when we call the root url, so let's make a request so that we can take a look at it."
   ]
  },
  {
   "cell_type": "code",
   "execution_count": 8,
   "metadata": {},
   "outputs": [
    {
     "name": "stdout",
     "output_type": "stream",
     "text": [
      "<Response [200]>\n"
     ]
    },
    {
     "data": {
      "text/plain": [
       "{'people': 'https://swapi.dev/api/people/',\n",
       " 'planets': 'https://swapi.dev/api/planets/',\n",
       " 'films': 'https://swapi.dev/api/films/',\n",
       " 'species': 'https://swapi.dev/api/species/',\n",
       " 'vehicles': 'https://swapi.dev/api/vehicles/',\n",
       " 'starships': 'https://swapi.dev/api/starships/'}"
      ]
     },
     "execution_count": 8,
     "metadata": {},
     "output_type": "execute_result"
    }
   ],
   "source": [
    "root_url = 'https://swapi.dev/api/'\n",
    "response = requests.get(root_url)\n",
    "print(response)\n",
    "response.json()"
   ]
  },
  {
   "cell_type": "markdown",
   "metadata": {},
   "source": [
    "Based on this, let's take a look at the people. We'll make our request, and explore the shape of the response that we get back."
   ]
  },
  {
   "cell_type": "code",
   "execution_count": 9,
   "metadata": {},
   "outputs": [
    {
     "data": {
      "text/plain": [
       "dict_keys(['count', 'next', 'previous', 'results'])"
      ]
     },
     "execution_count": 9,
     "metadata": {},
     "output_type": "execute_result"
    }
   ],
   "source": [
    "response = requests.get('https://swapi.dev/api/people/')\n",
    "\n",
    "data = response.json()\n",
    "data.keys()"
   ]
  },
  {
   "cell_type": "code",
   "execution_count": 10,
   "metadata": {
    "scrolled": true
   },
   "outputs": [
    {
     "name": "stdout",
     "output_type": "stream",
     "text": [
      "number_of_people: 82\n",
      "next_page: https://swapi.dev/api/people/?page=2\n",
      "previous_page: None\n"
     ]
    }
   ],
   "source": [
    "number_of_people = data['count']\n",
    "next_page = data['next']\n",
    "previous_page = data['previous']\n",
    "\n",
    "print(f'number_of_people: {number_of_people}')\n",
    "print(f'next_page: {next_page}')\n",
    "print(f'previous_page: {previous_page}')"
   ]
  },
  {
   "cell_type": "markdown",
   "metadata": {},
   "source": [
    "Here the response has some built-in properties that tell us how to get the next page and the previous one. We can see that this API uses an addon to the end of the url that allows us to pick which page of results we want to look at."
   ]
  },
  {
   "cell_type": "markdown",
   "metadata": {},
   "source": [
    "Once we've drilled down into the data structure, we'll find that the entire response is a sort of wrapper around the `results` property:"
   ]
  },
  {
   "cell_type": "code",
   "execution_count": 11,
   "metadata": {},
   "outputs": [
    {
     "data": {
      "text/plain": [
       "[{'name': 'Luke Skywalker',\n",
       "  'height': '172',\n",
       "  'mass': '77',\n",
       "  'hair_color': 'blond',\n",
       "  'skin_color': 'fair',\n",
       "  'eye_color': 'blue',\n",
       "  'birth_year': '19BBY',\n",
       "  'gender': 'male',\n",
       "  'homeworld': 'https://swapi.dev/api/planets/1/',\n",
       "  'films': ['https://swapi.dev/api/films/1/',\n",
       "   'https://swapi.dev/api/films/2/',\n",
       "   'https://swapi.dev/api/films/3/',\n",
       "   'https://swapi.dev/api/films/6/'],\n",
       "  'species': [],\n",
       "  'vehicles': ['https://swapi.dev/api/vehicles/14/',\n",
       "   'https://swapi.dev/api/vehicles/30/'],\n",
       "  'starships': ['https://swapi.dev/api/starships/12/',\n",
       "   'https://swapi.dev/api/starships/22/'],\n",
       "  'created': '2014-12-09T13:50:51.644000Z',\n",
       "  'edited': '2014-12-20T21:17:56.891000Z',\n",
       "  'url': 'https://swapi.dev/api/people/1/'},\n",
       " {'name': 'C-3PO',\n",
       "  'height': '167',\n",
       "  'mass': '75',\n",
       "  'hair_color': 'n/a',\n",
       "  'skin_color': 'gold',\n",
       "  'eye_color': 'yellow',\n",
       "  'birth_year': '112BBY',\n",
       "  'gender': 'n/a',\n",
       "  'homeworld': 'https://swapi.dev/api/planets/1/',\n",
       "  'films': ['https://swapi.dev/api/films/1/',\n",
       "   'https://swapi.dev/api/films/2/',\n",
       "   'https://swapi.dev/api/films/3/',\n",
       "   'https://swapi.dev/api/films/4/',\n",
       "   'https://swapi.dev/api/films/5/',\n",
       "   'https://swapi.dev/api/films/6/'],\n",
       "  'species': ['https://swapi.dev/api/species/2/'],\n",
       "  'vehicles': [],\n",
       "  'starships': [],\n",
       "  'created': '2014-12-10T15:10:51.357000Z',\n",
       "  'edited': '2014-12-20T21:17:50.309000Z',\n",
       "  'url': 'https://swapi.dev/api/people/2/'}]"
      ]
     },
     "execution_count": 11,
     "metadata": {},
     "output_type": "execute_result"
    }
   ],
   "source": [
    "data['results'][:2]"
   ]
  },
  {
   "cell_type": "markdown",
   "metadata": {},
   "source": [
    "So we should be able to use the count of people and number of results to calculate what the last page number would be."
   ]
  },
  {
   "cell_type": "code",
   "execution_count": 12,
   "metadata": {},
   "outputs": [
    {
     "name": "stdout",
     "output_type": "stream",
     "text": [
      "number_of_results: 10\n",
      "max_page: 9\n"
     ]
    }
   ],
   "source": [
    "import math\n",
    "\n",
    "number_of_results = len(data['results'])\n",
    "max_page = math.ceil(number_of_people / number_of_results)\n",
    "\n",
    "print(f'number_of_results: {number_of_results}')\n",
    "print(f'max_page: {max_page}')"
   ]
  },
  {
   "cell_type": "markdown",
   "metadata": {},
   "source": [
    "We can also turn `results` data into a pandas dataframe:"
   ]
  },
  {
   "cell_type": "code",
   "execution_count": 13,
   "metadata": {
    "scrolled": true
   },
   "outputs": [
    {
     "data": {
      "text/html": [
       "<div>\n",
       "<style scoped>\n",
       "    .dataframe tbody tr th:only-of-type {\n",
       "        vertical-align: middle;\n",
       "    }\n",
       "\n",
       "    .dataframe tbody tr th {\n",
       "        vertical-align: top;\n",
       "    }\n",
       "\n",
       "    .dataframe thead th {\n",
       "        text-align: right;\n",
       "    }\n",
       "</style>\n",
       "<table border=\"1\" class=\"dataframe\">\n",
       "  <thead>\n",
       "    <tr style=\"text-align: right;\">\n",
       "      <th></th>\n",
       "      <th>name</th>\n",
       "      <th>height</th>\n",
       "      <th>mass</th>\n",
       "      <th>hair_color</th>\n",
       "      <th>skin_color</th>\n",
       "      <th>eye_color</th>\n",
       "      <th>birth_year</th>\n",
       "      <th>gender</th>\n",
       "      <th>homeworld</th>\n",
       "      <th>films</th>\n",
       "      <th>species</th>\n",
       "      <th>vehicles</th>\n",
       "      <th>starships</th>\n",
       "      <th>created</th>\n",
       "      <th>edited</th>\n",
       "      <th>url</th>\n",
       "    </tr>\n",
       "  </thead>\n",
       "  <tbody>\n",
       "    <tr>\n",
       "      <th>0</th>\n",
       "      <td>Luke Skywalker</td>\n",
       "      <td>172</td>\n",
       "      <td>77</td>\n",
       "      <td>blond</td>\n",
       "      <td>fair</td>\n",
       "      <td>blue</td>\n",
       "      <td>19BBY</td>\n",
       "      <td>male</td>\n",
       "      <td>https://swapi.dev/api/planets/1/</td>\n",
       "      <td>[https://swapi.dev/api/films/1/, https://swapi...</td>\n",
       "      <td>[]</td>\n",
       "      <td>[https://swapi.dev/api/vehicles/14/, https://s...</td>\n",
       "      <td>[https://swapi.dev/api/starships/12/, https://...</td>\n",
       "      <td>2014-12-09T13:50:51.644000Z</td>\n",
       "      <td>2014-12-20T21:17:56.891000Z</td>\n",
       "      <td>https://swapi.dev/api/people/1/</td>\n",
       "    </tr>\n",
       "    <tr>\n",
       "      <th>1</th>\n",
       "      <td>C-3PO</td>\n",
       "      <td>167</td>\n",
       "      <td>75</td>\n",
       "      <td>n/a</td>\n",
       "      <td>gold</td>\n",
       "      <td>yellow</td>\n",
       "      <td>112BBY</td>\n",
       "      <td>n/a</td>\n",
       "      <td>https://swapi.dev/api/planets/1/</td>\n",
       "      <td>[https://swapi.dev/api/films/1/, https://swapi...</td>\n",
       "      <td>[https://swapi.dev/api/species/2/]</td>\n",
       "      <td>[]</td>\n",
       "      <td>[]</td>\n",
       "      <td>2014-12-10T15:10:51.357000Z</td>\n",
       "      <td>2014-12-20T21:17:50.309000Z</td>\n",
       "      <td>https://swapi.dev/api/people/2/</td>\n",
       "    </tr>\n",
       "    <tr>\n",
       "      <th>2</th>\n",
       "      <td>R2-D2</td>\n",
       "      <td>96</td>\n",
       "      <td>32</td>\n",
       "      <td>n/a</td>\n",
       "      <td>white, blue</td>\n",
       "      <td>red</td>\n",
       "      <td>33BBY</td>\n",
       "      <td>n/a</td>\n",
       "      <td>https://swapi.dev/api/planets/8/</td>\n",
       "      <td>[https://swapi.dev/api/films/1/, https://swapi...</td>\n",
       "      <td>[https://swapi.dev/api/species/2/]</td>\n",
       "      <td>[]</td>\n",
       "      <td>[]</td>\n",
       "      <td>2014-12-10T15:11:50.376000Z</td>\n",
       "      <td>2014-12-20T21:17:50.311000Z</td>\n",
       "      <td>https://swapi.dev/api/people/3/</td>\n",
       "    </tr>\n",
       "    <tr>\n",
       "      <th>3</th>\n",
       "      <td>Darth Vader</td>\n",
       "      <td>202</td>\n",
       "      <td>136</td>\n",
       "      <td>none</td>\n",
       "      <td>white</td>\n",
       "      <td>yellow</td>\n",
       "      <td>41.9BBY</td>\n",
       "      <td>male</td>\n",
       "      <td>https://swapi.dev/api/planets/1/</td>\n",
       "      <td>[https://swapi.dev/api/films/1/, https://swapi...</td>\n",
       "      <td>[]</td>\n",
       "      <td>[]</td>\n",
       "      <td>[https://swapi.dev/api/starships/13/]</td>\n",
       "      <td>2014-12-10T15:18:20.704000Z</td>\n",
       "      <td>2014-12-20T21:17:50.313000Z</td>\n",
       "      <td>https://swapi.dev/api/people/4/</td>\n",
       "    </tr>\n",
       "    <tr>\n",
       "      <th>4</th>\n",
       "      <td>Leia Organa</td>\n",
       "      <td>150</td>\n",
       "      <td>49</td>\n",
       "      <td>brown</td>\n",
       "      <td>light</td>\n",
       "      <td>brown</td>\n",
       "      <td>19BBY</td>\n",
       "      <td>female</td>\n",
       "      <td>https://swapi.dev/api/planets/2/</td>\n",
       "      <td>[https://swapi.dev/api/films/1/, https://swapi...</td>\n",
       "      <td>[]</td>\n",
       "      <td>[https://swapi.dev/api/vehicles/30/]</td>\n",
       "      <td>[]</td>\n",
       "      <td>2014-12-10T15:20:09.791000Z</td>\n",
       "      <td>2014-12-20T21:17:50.315000Z</td>\n",
       "      <td>https://swapi.dev/api/people/5/</td>\n",
       "    </tr>\n",
       "  </tbody>\n",
       "</table>\n",
       "</div>"
      ],
      "text/plain": [
       "             name height mass hair_color   skin_color eye_color birth_year  \\\n",
       "0  Luke Skywalker    172   77      blond         fair      blue      19BBY   \n",
       "1           C-3PO    167   75        n/a         gold    yellow     112BBY   \n",
       "2           R2-D2     96   32        n/a  white, blue       red      33BBY   \n",
       "3     Darth Vader    202  136       none        white    yellow    41.9BBY   \n",
       "4     Leia Organa    150   49      brown        light     brown      19BBY   \n",
       "\n",
       "   gender                         homeworld  \\\n",
       "0    male  https://swapi.dev/api/planets/1/   \n",
       "1     n/a  https://swapi.dev/api/planets/1/   \n",
       "2     n/a  https://swapi.dev/api/planets/8/   \n",
       "3    male  https://swapi.dev/api/planets/1/   \n",
       "4  female  https://swapi.dev/api/planets/2/   \n",
       "\n",
       "                                               films  \\\n",
       "0  [https://swapi.dev/api/films/1/, https://swapi...   \n",
       "1  [https://swapi.dev/api/films/1/, https://swapi...   \n",
       "2  [https://swapi.dev/api/films/1/, https://swapi...   \n",
       "3  [https://swapi.dev/api/films/1/, https://swapi...   \n",
       "4  [https://swapi.dev/api/films/1/, https://swapi...   \n",
       "\n",
       "                              species  \\\n",
       "0                                  []   \n",
       "1  [https://swapi.dev/api/species/2/]   \n",
       "2  [https://swapi.dev/api/species/2/]   \n",
       "3                                  []   \n",
       "4                                  []   \n",
       "\n",
       "                                            vehicles  \\\n",
       "0  [https://swapi.dev/api/vehicles/14/, https://s...   \n",
       "1                                                 []   \n",
       "2                                                 []   \n",
       "3                                                 []   \n",
       "4               [https://swapi.dev/api/vehicles/30/]   \n",
       "\n",
       "                                           starships  \\\n",
       "0  [https://swapi.dev/api/starships/12/, https://...   \n",
       "1                                                 []   \n",
       "2                                                 []   \n",
       "3              [https://swapi.dev/api/starships/13/]   \n",
       "4                                                 []   \n",
       "\n",
       "                       created                       edited  \\\n",
       "0  2014-12-09T13:50:51.644000Z  2014-12-20T21:17:56.891000Z   \n",
       "1  2014-12-10T15:10:51.357000Z  2014-12-20T21:17:50.309000Z   \n",
       "2  2014-12-10T15:11:50.376000Z  2014-12-20T21:17:50.311000Z   \n",
       "3  2014-12-10T15:18:20.704000Z  2014-12-20T21:17:50.313000Z   \n",
       "4  2014-12-10T15:20:09.791000Z  2014-12-20T21:17:50.315000Z   \n",
       "\n",
       "                               url  \n",
       "0  https://swapi.dev/api/people/1/  \n",
       "1  https://swapi.dev/api/people/2/  \n",
       "2  https://swapi.dev/api/people/3/  \n",
       "3  https://swapi.dev/api/people/4/  \n",
       "4  https://swapi.dev/api/people/5/  "
      ]
     },
     "execution_count": 13,
     "metadata": {},
     "output_type": "execute_result"
    }
   ],
   "source": [
    "import pandas as pd\n",
    "\n",
    "df = pd.DataFrame(data['results'])\n",
    "df.head()"
   ]
  },
  {
   "cell_type": "code",
   "execution_count": 14,
   "metadata": {},
   "outputs": [
    {
     "data": {
      "text/plain": [
       "(10, 16)"
      ]
     },
     "execution_count": 14,
     "metadata": {},
     "output_type": "execute_result"
    }
   ],
   "source": [
    "df.shape"
   ]
  },
  {
   "cell_type": "markdown",
   "metadata": {},
   "source": [
    "Now that we've gotten the data from the first page, we can extract the data from the next page (as indicated by the API's response), and add it onto our dataframe:"
   ]
  },
  {
   "cell_type": "code",
   "execution_count": 15,
   "metadata": {},
   "outputs": [
    {
     "name": "stdout",
     "output_type": "stream",
     "text": [
      "number_of_people: 82\n",
      "next_page: https://swapi.dev/api/people/?page=3\n",
      "previous_page: https://swapi.dev/api/people/?page=1\n",
      "number_of_results: 10\n",
      "max_page: 9\n"
     ]
    }
   ],
   "source": [
    "response = requests.get(data['next'])\n",
    "data = response.json()\n",
    "\n",
    "number_of_people = data['count']\n",
    "next_page = data['next']\n",
    "previous_page = data['previous']\n",
    "number_of_results = len(data['results'])\n",
    "max_page = math.ceil(number_of_people / number_of_results)\n",
    "\n",
    "print(f'number_of_people: {number_of_people}')\n",
    "print(f'next_page: {next_page}')\n",
    "print(f'previous_page: {previous_page}')\n",
    "print(f'number_of_results: {number_of_results}')\n",
    "print(f'max_page: {max_page}')\n",
    "\n",
    "df = pd.concat([df, pd.DataFrame(data['results'])]).reset_index()"
   ]
  },
  {
   "cell_type": "markdown",
   "metadata": {},
   "source": [
    "We'll repeat the process one more time:"
   ]
  },
  {
   "cell_type": "code",
   "execution_count": 16,
   "metadata": {},
   "outputs": [
    {
     "name": "stdout",
     "output_type": "stream",
     "text": [
      "number_of_people: 82\n",
      "next_page: https://swapi.dev/api/people/?page=4\n",
      "previous_page: https://swapi.dev/api/people/?page=2\n",
      "number_of_results: 10\n",
      "max_page: 9\n"
     ]
    }
   ],
   "source": [
    "response = requests.get(data['next'])\n",
    "data = response.json()\n",
    "\n",
    "number_of_people = data['count']\n",
    "next_page = data['next']\n",
    "previous_page = data['previous']\n",
    "number_of_results = len(data['results'])\n",
    "max_page = math.ceil(number_of_people / number_of_results)\n",
    "\n",
    "print(f'number_of_people: {number_of_people}')\n",
    "print(f'next_page: {next_page}')\n",
    "print(f'previous_page: {previous_page}')\n",
    "print(f'number_of_results: {number_of_results}')\n",
    "print(f'max_page: {max_page}')\n",
    "\n",
    "df = pd.concat([df, pd.DataFrame(data['results'])]).reset_index()"
   ]
  },
  {
   "cell_type": "code",
   "execution_count": 17,
   "metadata": {},
   "outputs": [
    {
     "data": {
      "text/plain": [
       "(30, 18)"
      ]
     },
     "execution_count": 17,
     "metadata": {},
     "output_type": "execute_result"
    }
   ],
   "source": [
    "df.shape"
   ]
  },
  {
   "cell_type": "markdown",
   "metadata": {},
   "source": [
    "Let's look ahead and see what the last page looks like."
   ]
  },
  {
   "cell_type": "code",
   "execution_count": 18,
   "metadata": {},
   "outputs": [
    {
     "name": "stdout",
     "output_type": "stream",
     "text": [
      "number_of_people: 82\n",
      "next_page: None\n",
      "previous_page: https://swapi.dev/api/people/?page=8\n",
      "number_of_results: 2\n"
     ]
    }
   ],
   "source": [
    "url = 'https://swapi.dev/api/people/?page=9'\n",
    "response = requests.get(url)\n",
    "data = response.json()\n",
    "\n",
    "number_of_people = data['count']\n",
    "next_page = data['next']\n",
    "previous_page = data['previous']\n",
    "number_of_results = len(data['results'])\n",
    "\n",
    "print(f'number_of_people: {number_of_people}')\n",
    "print(f'next_page: {next_page}')\n",
    "print(f'previous_page: {previous_page}')\n",
    "print(f'number_of_results: {number_of_results}')"
   ]
  },
  {
   "cell_type": "markdown",
   "metadata": {},
   "source": [
    "Now that the API says that the next_page is None, we know we can stop making requests, and assume that we have all of the people data."
   ]
  },
  {
   "cell_type": "markdown",
   "metadata": {},
   "source": [
    "## Further Reading\n",
    "\n",
    "- [Using APIs in Python](https://www.dataquest.io/blog/python-api-tutorial/)\n",
    "- [Understand and using REST APIs](https://www.smashingmagazine.com/2018/01/understanding-using-rest-api/)"
   ]
  },
  {
   "cell_type": "markdown",
   "metadata": {},
   "source": [
    "## Exercises\n",
    "\n",
    "Create a new local git repository and remote repository on github named `time-series-exercises`. Save this work for this module in your `time-series-exercises` repo.\n",
    "\n",
    "The end result of this exercise should be a file named `acquire.py`.\n",
    "\n",
    "1. Using the code from the lesson as a guide and the REST API from https://swapi.dev/ as we did in the lesson, create a dataframe named `people` that has all of the data for people.\n",
    "1. Do the same thing, but for `planets`.\n",
    "1. Extract the data for `starships`.\n",
    "1. Save the data in your files to local csv files so that it will be faster to access in the future.\n",
    "1. Combine the data from your three separate dataframes into one large dataframe.\n",
    "1. Acquire the Open Power Systems Data for Germany, which has been rapidly expanding its renewable energy production in recent years. The data set includes country-wide totals of electricity consumption, wind power production, and solar power production for 2006-2017. You can get the data here: https://raw.githubusercontent.com/jenfly/opsd/master/opsd_germany_daily.csv\n",
    "1. Make sure all the work that you have done above is reproducible. That is, you should put the code above into separate functions in the `acquire.py` file and be able to re-run the functions and get the same data."
   ]
  },
  {
   "cell_type": "code",
   "execution_count": null,
   "metadata": {},
   "outputs": [],
   "source": []
  }
 ],
 "metadata": {
  "jupytext": {
   "main_language": "python"
  },
  "kernelspec": {
   "display_name": "Python 3 (ipykernel)",
   "language": "python",
   "name": "python3"
  },
  "language_info": {
   "codemirror_mode": {
    "name": "ipython",
    "version": 3
   },
   "file_extension": ".py",
   "mimetype": "text/x-python",
   "name": "python",
   "nbconvert_exporter": "python",
   "pygments_lexer": "ipython3",
   "version": "3.9.12"
  },
  "toc": {
   "base_numbering": 1,
   "nav_menu": {},
   "number_sections": false,
   "sideBar": false,
   "skip_h1_title": false,
   "title_cell": "Table of Contents",
   "title_sidebar": "Contents",
   "toc_cell": false,
   "toc_position": {},
   "toc_section_display": false,
   "toc_window_display": false
  }
 },
 "nbformat": 4,
 "nbformat_minor": 2
}
