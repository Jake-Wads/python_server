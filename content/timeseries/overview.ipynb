{
 "cells": [
  {
   "cell_type": "markdown",
   "metadata": {},
   "source": [
    "# Time Series: Analyzing, Modeling, Forecasting Temporal Events\n",
    "\n",
    "> It's tough to make predictions, especially about the future.\n",
    ">\n",
    "> \\- Yogi Berra"
   ]
  },
  {
   "cell_type": "markdown",
   "metadata": {},
   "source": [
    "## About Time Series\n",
    "\n",
    "Time series analysis is about finding patterns in temporal data and making predictions, or *forecasting*, based on those patterns.\n",
    "\n",
    "Why is this different from basic regression? In short, time is dependent. This means that each feature, that is, each new point in time, is dependent on the previous features. In time series, the previous features are the historical points in time.\n",
    "\n",
    "### Time series use cases\n",
    "\n",
    "A common use cases and domains where time series is common include sales and revenue, signal processing, speech & chatbots, economics, healthcare, stock values, census analysis, supply chain, and staffing. Examples of questions or requests that might arise related to sales and revenue include:\n",
    "\n",
    "- Given historical customer invoices, calculate a firm's SaaS metrics, perform a cohort analysis on growth & churn, and develop a basic per-product line revenue forecast.\n",
    "- Given historical customer invoices, determine predictors of growth. How does this change over time?\n",
    "- Based on usage & support data, are there any unlikely predictors of growth or churn? Which customers are the most interesting?\n",
    "- Which customers are expected to grow at least 20% over the next few months?\n",
    "\n",
    "### Time series vocabulary\n",
    "\n",
    "- Temporal: Relating to time\n",
    "- Periodic:  Occurring at intervals\n",
    "- Resampling in Time Sereis: Changing the frequency of your data points\n",
    "- Stationary Process: Distribution does not change over time\n",
    "- Trend: Long term progression (increasing or decreasing, for example)\n",
    "- Seasonality: Changes in patterns due to seasonal factors\n",
    "- Heteroskedasticity: Changes in variance over time\n",
    "- Autocorrelation: A correlation coefficient, but instead of between two different variables, it is between the values of the same variable at two different times\n",
    "\n",
    "### Skills specific to time series\n",
    "\n",
    "- Working with datetimes\n",
    "- Resampling methods\n",
    "- Test/Train Split [sklearn.model_selection.TimeSeriesSplit](https://scikit-learn.org/stable/modules/generated/sklearn.model_selection.TimeSeriesSplit.html).\n",
    "- Identifying seasonality\n",
    "- Maintaining a time series model: We can predict using new data as input as you move along, or we can use the predictions themselves which leads to much less stable predictions.\n",
    "- Visualizing Time Series Data: Line Charts, Stacked Area Chart, Scatter Plot, Stream Graph, Heat Map, Polar Area Diagram"
   ]
  },
  {
   "cell_type": "markdown",
   "metadata": {},
   "source": [
    "### Modeling time series data\n",
    "\n",
    "Stats-based methods for forecasting are based on statistical models and require underlying assumptions of the data to be upheld. Pros of going with stats-based methods are that they are SIC - Simple, Interpretable, Capture the trend. Cons include limitations in seasonality, high risk of overfitting, reliance on underlying assumptions about the time series. Common stats-based methods include:\n",
    "\n",
    "- Persistence or Naive Model: Use the last n-observations assigned to the test set to make n-forecasts using a walk-forward validation model.\n",
    "- Simple Average: Use the average as the prediction for the next value.\n",
    "- Moving Average: Use the average over the last n-time periods only, when the most recent values are what matter the most. This will create a moving window of n-time periods. This could be done for the same month over each year, or in other ways that are not continuous.\n",
    "- Time Series Decomposition: De-trending by differencing, i.e. just looking at whether it's going up or down.\n",
    "- Variance Stabilization: Transform using log, square root, or box-cox transformations. The noise is reduced and the data gets much more uniform.\n",
    "- Exponential Smoothing: Apply larger weights to the more recent values, but not eliminate the earlier values totally (like in moving average). This uses weighted averages to forecast.\n",
    "- Holt's Linear Trend Method: Exponential smoothing applied to both the average and the trend (slope).\n",
    "- Holt-Winters Method: Exponential smoothing applied to both the average and the trend (slope) WITH seasonality. Extract a combination of patterns at varying frequencies, such as daily, weekly, seasonally, and yearly, along with an overall trend so that we can then use linear regression.\n",
    "- Autoregressive Models: Forecasting based on regression models. These models predict the time series based on itself (it's own previous values). Meaning that we use past values of Y ($Y_{t–1}, Y_{t–2},…, Y_{t-n}$) to forecast $Y_{t}$. In other words, it is a regression model in which $Y_{t}$ is regressed against its own lagged values. The number of lags used as regressors is called the order of the autoregression. First order autoregression, $Y_{t}$ is regressed against $Y_{t–1}.$ In a $p^{th}$ order autoregression, $Y_{t}$ is regressed against $Y_{t–1}, Y_{t–2},… , Y_{t–p}$\n",
    "\n",
    "## Futher Reading\n",
    "\n",
    "- [An end-to-end project on TSA and forecasting](https://towardsdatascience.com/an-end-to-end-project-on-time-series-analysis-and-forecasting-with-python-4835e6bf050b)\n",
    "- [Facebook Prophet: A forecasting library](https://facebook.github.io/prophet/)"
   ]
  }
 ],
 "metadata": {
  "jupytext": {
   "main_language": "python"
  },
  "kernelspec": {
   "display_name": "Python 3 (ipykernel)",
   "language": "python",
   "name": "python3"
  },
  "language_info": {
   "codemirror_mode": {
    "name": "ipython",
    "version": 3
   },
   "file_extension": ".py",
   "mimetype": "text/x-python",
   "name": "python",
   "nbconvert_exporter": "python",
   "pygments_lexer": "ipython3",
   "version": "3.9.7"
  }
 },
 "nbformat": 4,
 "nbformat_minor": 2
}
