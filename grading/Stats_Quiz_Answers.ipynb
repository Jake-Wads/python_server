{
 "cells": [
  {
   "cell_type": "markdown",
   "metadata": {},
   "source": [
    "# Stats Quiz"
   ]
  },
  {
   "cell_type": "markdown",
   "metadata": {},
   "source": [
    "1. The clerks at the Walgreens on Houston Street have to tell every customer to take the survey that's printed on their receipt. Walgreens knows that only 10% of customers complete the survey. If Walgreens has 618 customers today, what is the likelihood that 70 or more people take the survey? Give your answer to 3 decimal places."
   ]
  },
  {
   "cell_type": "code",
   "execution_count": 3,
   "metadata": {},
   "outputs": [
    {
     "data": {
      "text/plain": [
       "0.151"
      ]
     },
     "execution_count": 3,
     "metadata": {},
     "output_type": "execute_result"
    }
   ],
   "source": [
    "import scipy.stats as stats\n",
    "\n",
    "round(stats.binom(618, .10).sf(69),3)"
   ]
  },
  {
   "cell_type": "markdown",
   "metadata": {},
   "source": [
    "2. When working with probability distributions, which is the function that gives us the probability of a specific outcome of a discrete random variable? (Write out the full name of the function, not the abbreviation)\n",
    "\n",
    "> Probability Mass Function\n",
    "\n",
    "3. When working with probability distributions, which is the function that gives us a value at which a given percentage of values are higher than that value?\n",
    "\n",
    "> Inverse Survival Function \n",
    "\n",
    "4. Give an example (one that is NOT in the stats curriculum at ds.codeup.com) of a real-world event or process that could be modeled by each of the following distributions.  Briefly explain how it fits that distribution.  \n",
    "    a. Uniform\n",
    "    b. Poisson\n",
    "    c. Binomial\n",
    "    d. Normal \n",
    "    \n",
    "> Answer: \n",
    "\n",
    "5. Which distribution best represents choosing a data science student at random to give a presentation?\n",
    "\n",
    "> Uniform\n",
    "\n",
    "6. Which distribution best represents the number of pots of coffee that will be brewed on the 6th floor at Codeup over one day if we know how many are brewed on average? (Assume we have an unlimited supply of coffee)\n",
    "\n",
    "> Poisson\n",
    "\n",
    "7. Which distribution best represents the number of students in a class of 20 that will arrive on time to the classroom after a break if we know that there is a 90% chance a given student will arrive on time?\n",
    "\n",
    "> Binomial\n",
    "\n",
    "8. We want to see if the web dev students are significantly younger than the data science students.  What type of test would you use? (be specific)\n",
    "\n",
    "> 1-tail 2-sample (or independent) t-test\n",
    "\n",
    "9. (continuing the scenario...) We want to see if the web dev students are significantly younger than the data science students.  What is your null hypothesis?\n",
    "\n",
    "> $H_{0}: \\mu_{wd}(Age) >= \\mu_{ds}(Age)$\n",
    "\n",
    "10. (continuing the scenario...) We want to see if the web dev students are significantly younger than the data science students.  What is your alternative hypothesis?\n",
    "\n",
    "> $H_{a}: \\mu_{wd}(Age) < \\mu_{ds}(Age)$\n",
    "\n",
    "11. (continuing the scenario...) We want to see if the web dev students are significantly younger than the data science students.   What 3 primary assumptions are you making of the data when running this test? \n",
    "\n",
    "> 1. Independence of the samples, 2. Normal Distribution (if sample size >30 and distribution is not too skewed from normal, assumption should hold), 3. Equal Variance. \n",
    "\n",
    "12. (continuing the scenario...) We want to see if the web dev students are significantly younger than the data science students.  What statistic do we use to come to a conclusion?\n",
    "\n",
    "> t-statistic & p-value\n",
    "\n",
    "13. (continuing the scenario...) We want to see if the web dev students are significantly younger than the data science students.  If our significance level is .05, under what circumstances would we reject our null hypothesis? \n",
    "\n",
    "> t-statistic < 0 & p-value/2 < .05\n",
    "\n",
    "14. (continuing the scenario...) We want to see if the web dev students are significantly younger than the data science students.  If our significance level is .05, under what circumstances would we fail to reject our null hypothesis? \n",
    "\n",
    "> t-statistic >= 0 OR p-value/2 >= .05\n",
    "\n",
    "15. Codeup wants to know if Data Science students are more likely to have a bachelors degree or beyond than Web Dev students. What test could we use to answer that question? \n",
    "\n",
    "> chi-square test\n",
    "\n",
    "16. (continuing the scenario...) Codeup wants to know if Data Science students are more likely to have a bachelors degree or beyond than Web Dev students. What is the the null hypothesis?\n",
    "\n",
    "> $H_{0}: p_{wd}(BS) >= p_{ds}(BS)$\n",
    "\n",
    "17. (continuing the scenario...) Codeup wants to know if Data Science students are more likely to have a bachelors degree or beyond than Web Dev students. What is the alternative hypotheses? \n",
    "\n",
    "> $H_{a}: p_{wd}(BS) < p_{ds}(BS)$\n",
    "\n",
    "18. (continuing the scenario...) Codeup wants to know if Data Science students are more likely to have a bachelors degree or beyond than Web Dev students.  What term best describes the scenario in which we conclude that data science students are more likely to have a bachelor's degree, and as we collect more data, we find our conclusion was correct? \n",
    "\n",
    "> True Positive\n",
    "\n",
    "19. (continuing the scenario...) Codeup wants to know if Data Science students are more likely to have a bachelors degree or beyond than Web Dev students.  What term best describes the scenario in which we conclude that data science students are not more likely to have a bachelor's degree, but as we collect more data, we realize our conclusion was incorrect? \n",
    "\n",
    "> False Negative, Type II Error\n",
    "\n",
    "20. Assume that the time it takes to order and eat the burger special at the Esquire is normally distributed with a mean of 40 minutes and a standard deviation of 15 minutes. If it takes 5 minutes to walk from Codeup to the restaurant,  what is the likelihood that you can go eat at The Esquire during your lunch hour and not be late back to class?"
   ]
  },
  {
   "cell_type": "code",
   "execution_count": 5,
   "metadata": {},
   "outputs": [
    {
     "data": {
      "text/plain": [
       "0.748"
      ]
     },
     "execution_count": 5,
     "metadata": {},
     "output_type": "execute_result"
    }
   ],
   "source": [
    "# mean = 40+10 = 50,  stdev = 15  \n",
    "# probability of <= 60\n",
    "\n",
    "import scipy.stats as stats\n",
    "\n",
    "μ = 50\n",
    "σ = 15\n",
    "\n",
    "round(1 - stats.norm(μ, σ).sf(60), 3)"
   ]
  }
 ],
 "metadata": {
  "kernelspec": {
   "display_name": "Python 3",
   "language": "python",
   "name": "python3"
  },
  "language_info": {
   "codemirror_mode": {
    "name": "ipython",
    "version": 3
   },
   "file_extension": ".py",
   "mimetype": "text/x-python",
   "name": "python",
   "nbconvert_exporter": "python",
   "pygments_lexer": "ipython3",
   "version": "3.6.8"
  }
 },
 "nbformat": 4,
 "nbformat_minor": 2
}
