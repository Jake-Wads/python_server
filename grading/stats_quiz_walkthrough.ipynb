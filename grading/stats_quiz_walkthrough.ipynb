{
 "cells": [
  {
   "cell_type": "markdown",
   "id": "5da6fa20",
   "metadata": {},
   "source": [
    "# Stats Quiz scratchpad"
   ]
  },
  {
   "cell_type": "code",
   "execution_count": 1,
   "id": "4fb86594",
   "metadata": {},
   "outputs": [],
   "source": [
    "import pandas as pd\n",
    "import numpy as np\n",
    "from scipy import stats\n",
    "np.random.seed(123)"
   ]
  },
  {
   "cell_type": "markdown",
   "id": "f7978e9c",
   "metadata": {},
   "source": [
    "## Question 1\n",
    "\n",
    "There's 10% chance of survey response.\n",
    "\n",
    "Of 619 customers, what's the % of 70 or more people taking the survey?\n",
    "\n",
    "P(greater than x) is survival function\n",
    "\n",
    "P(greater than or equal to x) is survival function of (x - 1)"
   ]
  },
  {
   "cell_type": "code",
   "execution_count": 2,
   "id": "be389205",
   "metadata": {},
   "outputs": [
    {
     "data": {
      "text/plain": [
       "0.154317732281241"
      ]
     },
     "execution_count": 2,
     "metadata": {},
     "output_type": "execute_result"
    }
   ],
   "source": [
    "# Option 1\n",
    "n_surveys = 619\n",
    "p_survey = 0.1\n",
    "\n",
    "stats.binom(619, .1).sf(69)"
   ]
  },
  {
   "cell_type": "code",
   "execution_count": 3,
   "id": "1b89ac06",
   "metadata": {},
   "outputs": [
    {
     "data": {
      "text/html": [
       "<div>\n",
       "<style scoped>\n",
       "    .dataframe tbody tr th:only-of-type {\n",
       "        vertical-align: middle;\n",
       "    }\n",
       "\n",
       "    .dataframe tbody tr th {\n",
       "        vertical-align: top;\n",
       "    }\n",
       "\n",
       "    .dataframe thead th {\n",
       "        text-align: right;\n",
       "    }\n",
       "</style>\n",
       "<table border=\"1\" class=\"dataframe\">\n",
       "  <thead>\n",
       "    <tr style=\"text-align: right;\">\n",
       "      <th></th>\n",
       "      <th>0</th>\n",
       "      <th>1</th>\n",
       "      <th>2</th>\n",
       "      <th>3</th>\n",
       "      <th>4</th>\n",
       "      <th>5</th>\n",
       "      <th>6</th>\n",
       "      <th>7</th>\n",
       "      <th>8</th>\n",
       "      <th>9</th>\n",
       "      <th>...</th>\n",
       "      <th>609</th>\n",
       "      <th>610</th>\n",
       "      <th>611</th>\n",
       "      <th>612</th>\n",
       "      <th>613</th>\n",
       "      <th>614</th>\n",
       "      <th>615</th>\n",
       "      <th>616</th>\n",
       "      <th>617</th>\n",
       "      <th>618</th>\n",
       "    </tr>\n",
       "  </thead>\n",
       "  <tbody>\n",
       "    <tr>\n",
       "      <th>0</th>\n",
       "      <td>0</td>\n",
       "      <td>0</td>\n",
       "      <td>0</td>\n",
       "      <td>0</td>\n",
       "      <td>0</td>\n",
       "      <td>0</td>\n",
       "      <td>1</td>\n",
       "      <td>0</td>\n",
       "      <td>0</td>\n",
       "      <td>0</td>\n",
       "      <td>...</td>\n",
       "      <td>0</td>\n",
       "      <td>0</td>\n",
       "      <td>0</td>\n",
       "      <td>0</td>\n",
       "      <td>1</td>\n",
       "      <td>0</td>\n",
       "      <td>0</td>\n",
       "      <td>0</td>\n",
       "      <td>1</td>\n",
       "      <td>1</td>\n",
       "    </tr>\n",
       "    <tr>\n",
       "      <th>1</th>\n",
       "      <td>0</td>\n",
       "      <td>1</td>\n",
       "      <td>0</td>\n",
       "      <td>0</td>\n",
       "      <td>1</td>\n",
       "      <td>0</td>\n",
       "      <td>0</td>\n",
       "      <td>0</td>\n",
       "      <td>0</td>\n",
       "      <td>0</td>\n",
       "      <td>...</td>\n",
       "      <td>0</td>\n",
       "      <td>0</td>\n",
       "      <td>0</td>\n",
       "      <td>0</td>\n",
       "      <td>0</td>\n",
       "      <td>1</td>\n",
       "      <td>1</td>\n",
       "      <td>1</td>\n",
       "      <td>0</td>\n",
       "      <td>0</td>\n",
       "    </tr>\n",
       "    <tr>\n",
       "      <th>2</th>\n",
       "      <td>0</td>\n",
       "      <td>0</td>\n",
       "      <td>0</td>\n",
       "      <td>0</td>\n",
       "      <td>0</td>\n",
       "      <td>0</td>\n",
       "      <td>0</td>\n",
       "      <td>0</td>\n",
       "      <td>0</td>\n",
       "      <td>0</td>\n",
       "      <td>...</td>\n",
       "      <td>0</td>\n",
       "      <td>0</td>\n",
       "      <td>1</td>\n",
       "      <td>0</td>\n",
       "      <td>0</td>\n",
       "      <td>0</td>\n",
       "      <td>0</td>\n",
       "      <td>0</td>\n",
       "      <td>0</td>\n",
       "      <td>0</td>\n",
       "    </tr>\n",
       "    <tr>\n",
       "      <th>3</th>\n",
       "      <td>0</td>\n",
       "      <td>0</td>\n",
       "      <td>0</td>\n",
       "      <td>0</td>\n",
       "      <td>0</td>\n",
       "      <td>0</td>\n",
       "      <td>1</td>\n",
       "      <td>0</td>\n",
       "      <td>0</td>\n",
       "      <td>0</td>\n",
       "      <td>...</td>\n",
       "      <td>0</td>\n",
       "      <td>0</td>\n",
       "      <td>0</td>\n",
       "      <td>0</td>\n",
       "      <td>0</td>\n",
       "      <td>1</td>\n",
       "      <td>0</td>\n",
       "      <td>0</td>\n",
       "      <td>0</td>\n",
       "      <td>0</td>\n",
       "    </tr>\n",
       "    <tr>\n",
       "      <th>4</th>\n",
       "      <td>0</td>\n",
       "      <td>0</td>\n",
       "      <td>0</td>\n",
       "      <td>0</td>\n",
       "      <td>0</td>\n",
       "      <td>0</td>\n",
       "      <td>0</td>\n",
       "      <td>0</td>\n",
       "      <td>0</td>\n",
       "      <td>1</td>\n",
       "      <td>...</td>\n",
       "      <td>0</td>\n",
       "      <td>1</td>\n",
       "      <td>0</td>\n",
       "      <td>0</td>\n",
       "      <td>0</td>\n",
       "      <td>0</td>\n",
       "      <td>0</td>\n",
       "      <td>1</td>\n",
       "      <td>0</td>\n",
       "      <td>0</td>\n",
       "    </tr>\n",
       "  </tbody>\n",
       "</table>\n",
       "<p>5 rows × 619 columns</p>\n",
       "</div>"
      ],
      "text/plain": [
       "   0    1    2    3    4    5    6    7    8    9    ...  609  610  611  612  \\\n",
       "0    0    0    0    0    0    0    1    0    0    0  ...    0    0    0    0   \n",
       "1    0    1    0    0    1    0    0    0    0    0  ...    0    0    0    0   \n",
       "2    0    0    0    0    0    0    0    0    0    0  ...    0    0    1    0   \n",
       "3    0    0    0    0    0    0    1    0    0    0  ...    0    0    0    0   \n",
       "4    0    0    0    0    0    0    0    0    0    1  ...    0    1    0    0   \n",
       "\n",
       "   613  614  615  616  617  618  \n",
       "0    1    0    0    0    1    1  \n",
       "1    0    1    1    1    0    0  \n",
       "2    0    0    0    0    0    0  \n",
       "3    0    1    0    0    0    0  \n",
       "4    0    0    0    1    0    0  \n",
       "\n",
       "[5 rows x 619 columns]"
      ]
     },
     "execution_count": 3,
     "metadata": {},
     "output_type": "execute_result"
    }
   ],
   "source": [
    "# Option 2\n",
    "# What if you forgot all the distribution functions?\n",
    "# That's right, crank out a simulation!\n",
    "\n",
    "n_trials = 100_000\n",
    "n_surveys = 619\n",
    "\n",
    "surveys = np.random.choice([0, 1], p=[0.9, 0.1], size=(n_trials, n_surveys))\n",
    "surveys = pd.DataFrame(surveys)\n",
    "surveys.head()"
   ]
  },
  {
   "cell_type": "code",
   "execution_count": 4,
   "id": "cfccf83d",
   "metadata": {},
   "outputs": [
    {
     "data": {
      "text/html": [
       "<div>\n",
       "<style scoped>\n",
       "    .dataframe tbody tr th:only-of-type {\n",
       "        vertical-align: middle;\n",
       "    }\n",
       "\n",
       "    .dataframe tbody tr th {\n",
       "        vertical-align: top;\n",
       "    }\n",
       "\n",
       "    .dataframe thead th {\n",
       "        text-align: right;\n",
       "    }\n",
       "</style>\n",
       "<table border=\"1\" class=\"dataframe\">\n",
       "  <thead>\n",
       "    <tr style=\"text-align: right;\">\n",
       "      <th></th>\n",
       "      <th>0</th>\n",
       "      <th>1</th>\n",
       "      <th>2</th>\n",
       "      <th>3</th>\n",
       "      <th>4</th>\n",
       "      <th>5</th>\n",
       "      <th>6</th>\n",
       "      <th>7</th>\n",
       "      <th>8</th>\n",
       "      <th>9</th>\n",
       "      <th>...</th>\n",
       "      <th>610</th>\n",
       "      <th>611</th>\n",
       "      <th>612</th>\n",
       "      <th>613</th>\n",
       "      <th>614</th>\n",
       "      <th>615</th>\n",
       "      <th>616</th>\n",
       "      <th>617</th>\n",
       "      <th>618</th>\n",
       "      <th>n_surveys</th>\n",
       "    </tr>\n",
       "  </thead>\n",
       "  <tbody>\n",
       "    <tr>\n",
       "      <th>0</th>\n",
       "      <td>0</td>\n",
       "      <td>0</td>\n",
       "      <td>0</td>\n",
       "      <td>0</td>\n",
       "      <td>0</td>\n",
       "      <td>0</td>\n",
       "      <td>1</td>\n",
       "      <td>0</td>\n",
       "      <td>0</td>\n",
       "      <td>0</td>\n",
       "      <td>...</td>\n",
       "      <td>0</td>\n",
       "      <td>0</td>\n",
       "      <td>0</td>\n",
       "      <td>1</td>\n",
       "      <td>0</td>\n",
       "      <td>0</td>\n",
       "      <td>0</td>\n",
       "      <td>1</td>\n",
       "      <td>1</td>\n",
       "      <td>64</td>\n",
       "    </tr>\n",
       "    <tr>\n",
       "      <th>1</th>\n",
       "      <td>0</td>\n",
       "      <td>1</td>\n",
       "      <td>0</td>\n",
       "      <td>0</td>\n",
       "      <td>1</td>\n",
       "      <td>0</td>\n",
       "      <td>0</td>\n",
       "      <td>0</td>\n",
       "      <td>0</td>\n",
       "      <td>0</td>\n",
       "      <td>...</td>\n",
       "      <td>0</td>\n",
       "      <td>0</td>\n",
       "      <td>0</td>\n",
       "      <td>0</td>\n",
       "      <td>1</td>\n",
       "      <td>1</td>\n",
       "      <td>1</td>\n",
       "      <td>0</td>\n",
       "      <td>0</td>\n",
       "      <td>67</td>\n",
       "    </tr>\n",
       "    <tr>\n",
       "      <th>2</th>\n",
       "      <td>0</td>\n",
       "      <td>0</td>\n",
       "      <td>0</td>\n",
       "      <td>0</td>\n",
       "      <td>0</td>\n",
       "      <td>0</td>\n",
       "      <td>0</td>\n",
       "      <td>0</td>\n",
       "      <td>0</td>\n",
       "      <td>0</td>\n",
       "      <td>...</td>\n",
       "      <td>0</td>\n",
       "      <td>1</td>\n",
       "      <td>0</td>\n",
       "      <td>0</td>\n",
       "      <td>0</td>\n",
       "      <td>0</td>\n",
       "      <td>0</td>\n",
       "      <td>0</td>\n",
       "      <td>0</td>\n",
       "      <td>63</td>\n",
       "    </tr>\n",
       "    <tr>\n",
       "      <th>3</th>\n",
       "      <td>0</td>\n",
       "      <td>0</td>\n",
       "      <td>0</td>\n",
       "      <td>0</td>\n",
       "      <td>0</td>\n",
       "      <td>0</td>\n",
       "      <td>1</td>\n",
       "      <td>0</td>\n",
       "      <td>0</td>\n",
       "      <td>0</td>\n",
       "      <td>...</td>\n",
       "      <td>0</td>\n",
       "      <td>0</td>\n",
       "      <td>0</td>\n",
       "      <td>0</td>\n",
       "      <td>1</td>\n",
       "      <td>0</td>\n",
       "      <td>0</td>\n",
       "      <td>0</td>\n",
       "      <td>0</td>\n",
       "      <td>51</td>\n",
       "    </tr>\n",
       "    <tr>\n",
       "      <th>4</th>\n",
       "      <td>0</td>\n",
       "      <td>0</td>\n",
       "      <td>0</td>\n",
       "      <td>0</td>\n",
       "      <td>0</td>\n",
       "      <td>0</td>\n",
       "      <td>0</td>\n",
       "      <td>0</td>\n",
       "      <td>0</td>\n",
       "      <td>1</td>\n",
       "      <td>...</td>\n",
       "      <td>1</td>\n",
       "      <td>0</td>\n",
       "      <td>0</td>\n",
       "      <td>0</td>\n",
       "      <td>0</td>\n",
       "      <td>0</td>\n",
       "      <td>1</td>\n",
       "      <td>0</td>\n",
       "      <td>0</td>\n",
       "      <td>65</td>\n",
       "    </tr>\n",
       "  </tbody>\n",
       "</table>\n",
       "<p>5 rows × 620 columns</p>\n",
       "</div>"
      ],
      "text/plain": [
       "   0  1  2  3  4  5  6  7  8  9  ...  610  611  612  613  614  615  616  617  \\\n",
       "0  0  0  0  0  0  0  1  0  0  0  ...    0    0    0    1    0    0    0    1   \n",
       "1  0  1  0  0  1  0  0  0  0  0  ...    0    0    0    0    1    1    1    0   \n",
       "2  0  0  0  0  0  0  0  0  0  0  ...    0    1    0    0    0    0    0    0   \n",
       "3  0  0  0  0  0  0  1  0  0  0  ...    0    0    0    0    1    0    0    0   \n",
       "4  0  0  0  0  0  0  0  0  0  1  ...    1    0    0    0    0    0    1    0   \n",
       "\n",
       "   618  n_surveys  \n",
       "0    1         64  \n",
       "1    0         67  \n",
       "2    0         63  \n",
       "3    0         51  \n",
       "4    0         65  \n",
       "\n",
       "[5 rows x 620 columns]"
      ]
     },
     "execution_count": 4,
     "metadata": {},
     "output_type": "execute_result"
    }
   ],
   "source": [
    "surveys['n_surveys'] = surveys.sum(axis=1)\n",
    "surveys.head()"
   ]
  },
  {
   "cell_type": "code",
   "execution_count": 5,
   "id": "4224b99a",
   "metadata": {},
   "outputs": [
    {
     "data": {
      "text/plain": [
       "0.15237"
      ]
     },
     "execution_count": 5,
     "metadata": {},
     "output_type": "execute_result"
    }
   ],
   "source": [
    "(surveys.n_surveys >= 70).mean()"
   ]
  },
  {
   "cell_type": "markdown",
   "id": "38743e17",
   "metadata": {},
   "source": [
    "## Question 2\n",
    "\n",
    "Probability mass function is the funciton that gives the p(specific outcome) of a discrete random variable"
   ]
  },
  {
   "cell_type": "markdown",
   "id": "4ab63833",
   "metadata": {},
   "source": [
    "## Question 3\n",
    "\n",
    "Which distribution best represents choosing a data science student at random to give a presentation?\n",
    "\n",
    "Uniform since the probabilities are equally likely"
   ]
  },
  {
   "cell_type": "markdown",
   "id": "53583325",
   "metadata": {},
   "source": [
    "## Question 4\n",
    "What kind of distribution best represents pots of coffee per day brewed on average?\n",
    "\n",
    "Poisson"
   ]
  },
  {
   "cell_type": "markdown",
   "id": "9b50ea1e",
   "metadata": {},
   "source": [
    "## Question 5\n",
    "\n",
    "Which distribution best represents the number of students in a class of 20 that will arrive on time to the classroom after a break if we know that there is a 90% chance a given student will arrive on time?\n",
    "\n",
    "Binomial, since it's a binary outcome"
   ]
  },
  {
   "cell_type": "markdown",
   "id": "c64c8694",
   "metadata": {},
   "source": [
    "## Question 6\n",
    "We want to see if the web dev students are significantly younger than the data science students. What type of test would you use?\n",
    "\n",
    "2 sample since we're comparing two populations\n",
    "\n",
    "1 tail since we're measuring p(x greater than y)"
   ]
  },
  {
   "cell_type": "markdown",
   "id": "b5bb6dda",
   "metadata": {},
   "source": [
    "## Question 7\n",
    "\n",
    "(continuing the scenario...) We want to see if the web dev students are significantly younger than the data science students. What is your null hypothesis?\n",
    "\n",
    "Our null hypothesis = web_dev ages are >= data science ages"
   ]
  },
  {
   "cell_type": "markdown",
   "id": "68a68d96",
   "metadata": {},
   "source": [
    "## Question 8\n",
    "(continuing the scenario...) We want to see if the web dev students are significantly younger than the data science students. What is your alternative hypothesis?\n",
    "\n",
    "web dev ages < data science ages"
   ]
  },
  {
   "cell_type": "markdown",
   "id": "376ae773",
   "metadata": {},
   "source": [
    "## Question 9\n",
    "(continuing the scenario...) We want to see if the web dev students are significantly younger than the data science students. What 3 primary assumptions are you making of the data when running this test?\n",
    "\n",
    "1. The data follows the normal probability distribution. (normal-ish)\n",
    "2. The variances of the two populations are equal.\n",
    "3. The two samples are independent. There is no relationship between the individuals in one sample as compared to the other."
   ]
  },
  {
   "cell_type": "markdown",
   "id": "329e26f9",
   "metadata": {},
   "source": [
    "## Question 10\n",
    "\n",
    "(continuing the scenario...) We want to see if the web dev students are significantly younger than the data science students. What 2 statistics do we use from our hypothesis test to come to a conclusion? Select 2.\n",
    "\n",
    "1. P value to measure how rediculous the null hypothesis is\n",
    "2. T-statistic to measure direction"
   ]
  },
  {
   "cell_type": "markdown",
   "id": "345d7461",
   "metadata": {},
   "source": [
    "## Question 11\n",
    "Codeup wants to know if there is a difference in the proportion of students who hold bachelors degrees web dev to data science students. What test could we use to answer that question?\n",
    "\n",
    "The magic word is \"proportion\", so $\\chi^2$"
   ]
  },
  {
   "cell_type": "markdown",
   "id": "e8c84be6",
   "metadata": {},
   "source": [
    "## Question 12\n",
    "(continuing the scenario...) Codeup wants to know if there is a difference in the proportion of students who hold bachelors degrees web dev to data science students. What term best describes the error made when we conclude that having a bachelor's degree is independent of class, but as we collect more data, we find our conclusion was incorrect?\n",
    "\n",
    "- Believing\n",
    "\n",
    "- Remind people of the Boy Who Cried Wolf\n",
    "- The type 1 errors go in order.\n",
    "- From the villager's standpoint, the null hypothesis is there's no wolf.\n",
    "- Boy cries wolf, so villagers buy into the alternative hypothesis (Type 1)\n",
    "- After some false alarms, the villagers finally buy into only the null hypothesis, that's Type 2"
   ]
  },
  {
   "cell_type": "markdown",
   "id": "817db9b2",
   "metadata": {},
   "source": [
    "## Question 13\n",
    "\n",
    "Assume that the time it takes to order and eat the burger special at the Esquire is normally distributed with a mean of 40 minutes and a standard deviation of 15 minutes. If it takes 5 minutes to walk from Codeup to the restaurant, what is the likelihood that you can go eat at The Esquire during your lunch hour and not be late back to class?\n",
    "\n",
    "One option is to answer w/ a probability distribution and function\n",
    "\n",
    "Another option is to run a simulation. "
   ]
  },
  {
   "cell_type": "code",
   "execution_count": 6,
   "id": "bb16e0d2",
   "metadata": {},
   "outputs": [
    {
     "data": {
      "text/plain": [
       "50"
      ]
     },
     "execution_count": 6,
     "metadata": {},
     "output_type": "execute_result"
    }
   ],
   "source": [
    "lunch_time = 60\n",
    "commute_time = 10\n",
    "time_to_eat = lunch_time - commute_time\n",
    "time_to_eat"
   ]
  },
  {
   "cell_type": "markdown",
   "id": "5b884353",
   "metadata": {},
   "source": [
    "### Option 1 is to use .cdf since we have the value (time to eat) and need the probability "
   ]
  },
  {
   "cell_type": "code",
   "execution_count": 9,
   "id": "149e7723",
   "metadata": {},
   "outputs": [
    {
     "data": {
      "text/plain": [
       "0.7475074624530771"
      ]
     },
     "execution_count": 9,
     "metadata": {},
     "output_type": "execute_result"
    }
   ],
   "source": [
    "# Less than or equal to, if we have the value = .cdf\n",
    "stats.norm(mean, std).cdf(time_to_eat)"
   ]
  },
  {
   "cell_type": "markdown",
   "id": "a507b996",
   "metadata": {},
   "source": [
    "### Option 2 is to run a simulation"
   ]
  },
  {
   "cell_type": "code",
   "execution_count": 8,
   "id": "22d8f111",
   "metadata": {
    "scrolled": true
   },
   "outputs": [
    {
     "data": {
      "text/plain": [
       "array([45.12538989, 24.4429887 , 47.77461517, ..., 54.54106495,\n",
       "       49.27494155, 44.01011631])"
      ]
     },
     "execution_count": 8,
     "metadata": {},
     "output_type": "execute_result"
    }
   ],
   "source": [
    "# Normal distribution\n",
    "mean = 40\n",
    "std = 15\n",
    "\n",
    "lunch_times = stats.norm(mean, std).rvs(100_000)\n",
    "lunch_times"
   ]
  },
  {
   "cell_type": "code",
   "execution_count": 10,
   "id": "0fae13bb",
   "metadata": {},
   "outputs": [
    {
     "data": {
      "text/plain": [
       "0.74848"
      ]
     },
     "execution_count": 10,
     "metadata": {},
     "output_type": "execute_result"
    }
   ],
   "source": [
    "(lunch_times <= time_to_eat).mean()"
   ]
  },
  {
   "cell_type": "code",
   "execution_count": null,
   "id": "f64a7153",
   "metadata": {},
   "outputs": [],
   "source": []
  }
 ],
 "metadata": {
  "kernelspec": {
   "display_name": "Python 3",
   "language": "python",
   "name": "python3"
  },
  "language_info": {
   "codemirror_mode": {
    "name": "ipython",
    "version": 3
   },
   "file_extension": ".py",
   "mimetype": "text/x-python",
   "name": "python",
   "nbconvert_exporter": "python",
   "pygments_lexer": "ipython3",
   "version": "3.8.8"
  }
 },
 "nbformat": 4,
 "nbformat_minor": 5
}
