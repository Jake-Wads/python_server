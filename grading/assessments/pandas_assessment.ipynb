{
 "cells": [
  {
   "cell_type": "markdown",
   "metadata": {},
   "source": [
    "# Python/Pandas Assessment\n",
    "\n",
    "### Setup\n",
    "- Download this notebook to your Desktop folder.\n",
    "- Be sure to keep these questions and your answers away from GitHub.\n",
    "- Do your work.\n",
    "- Upload your completed notebook to the appropriate Google Classroom assignment.\n",
    "\n",
    "### Orientation\n",
    "- There are 10 exercises on this assessment worth 10 points each.\n",
    "- Credit is given for programmatic solutions only; your code shows your work. If the unit tests assert that the answer is `244`, then if your function has `return 244`, for example, that's not going to earn credit. Your code needs to determine the ansswer, not you doing so manually.\n",
    "- Your Python/pandas code should run without errors\n",
    "- After each problem prompt, there is a cell to write your code followed by another cell with a unit test\n",
    "\n",
    "### Troubleshooting\n",
    "If you need a fresh start, go to Kernel and then \"Restart and Clear Output\" in this Jupyter Notebook"
   ]
  },
  {
   "cell_type": "code",
   "execution_count": null,
   "metadata": {},
   "outputs": [],
   "source": [
    "# Required Imports and data acquisition\n",
    "import pandas as pd\n",
    "\n",
    "url = \"https://gist.githubusercontent.com/ryanorsinger/0c702f67dfe59346cd4677cd24f7aec7/raw/429f0d47856670e57b31d1f78a1abc54c889c7ca/tips.csv\"\n",
    "df = pd.read_csv(url)\n",
    "df.head()"
   ]
  },
  {
   "cell_type": "markdown",
   "metadata": {},
   "source": [
    "####  EXAMPLE: Write a function named `exercise0`\n",
    "- This function should accept a dataframe as its input argument\n",
    "- Notice that the example function is returning the appropriate, programmatic code to obtain the solution\n",
    "- The `assert` line checks the exercise solution code to ensure correctness"
   ]
  },
  {
   "cell_type": "code",
   "execution_count": null,
   "metadata": {},
   "outputs": [],
   "source": [
    "# This example function is solved below:\n",
    "def exercise0(df):\n",
    "    return len(df)\n",
    "\n",
    "assert exercise0(df) == 244\n",
    "print(\"Exercise 0 example exercise is complete.\")"
   ]
  },
  {
   "cell_type": "markdown",
   "metadata": {},
   "source": [
    "####  Write a function named `exercise1`\n",
    "- Use the cell below to write your code\n",
    "- This function should accept a dataframe as its input argument\n",
    "- This function should return the highest `total_bill` value from the tips dataframe"
   ]
  },
  {
   "cell_type": "code",
   "execution_count": null,
   "metadata": {},
   "outputs": [],
   "source": [
    "# Write your code for the exercise1 function here\n",
    "\n",
    "\n"
   ]
  },
  {
   "cell_type": "code",
   "execution_count": null,
   "metadata": {},
   "outputs": [],
   "source": [
    "assert exercise1(df) == 50.81\n",
    "print(\"Exercise 1 is complete\") "
   ]
  },
  {
   "cell_type": "markdown",
   "metadata": {},
   "source": [
    "####  Write a function named `exercise2`\n",
    "- Use the cell below to write your code\n",
    "- This function should return the number of different days in the `day` column.\n",
    "- This function should accept a dataframe as its input argument."
   ]
  },
  {
   "cell_type": "code",
   "execution_count": null,
   "metadata": {},
   "outputs": [],
   "source": [
    "# Write your code for the exercise2 function definition here\n",
    "\n",
    "\n"
   ]
  },
  {
   "cell_type": "code",
   "execution_count": null,
   "metadata": {},
   "outputs": [],
   "source": [
    "assert exercise2(df) == 4\n",
    "print(\"Exercise 2 is complete\")"
   ]
  },
  {
   "cell_type": "markdown",
   "metadata": {},
   "source": [
    "####  Write a function named `exercise3`\n",
    "- Use the cell below to write your `exercise3` function definition\n",
    "- This function should return the number of rows that represent \"Lunch\" time tables\n",
    "- A \"table\" in this dataset is a single row, representing one bill, _not_ the number of people at that table\n",
    "- This function should accept a dataframe as its input argument"
   ]
  },
  {
   "cell_type": "code",
   "execution_count": null,
   "metadata": {},
   "outputs": [],
   "source": [
    "# Write your code for the exercise3 function here\n",
    "\n",
    "\n"
   ]
  },
  {
   "cell_type": "code",
   "execution_count": null,
   "metadata": {},
   "outputs": [],
   "source": [
    "assert exercise3(df) == 68\n",
    "print(\"Exercise 3 is correct\")"
   ]
  },
  {
   "cell_type": "markdown",
   "metadata": {},
   "source": [
    "####  Exercise 4 is a one line of pandas code, not a function\n",
    "- Use the cell below to write the code necessary to rename the `size` column to `table_size` on the `df` variable.\n",
    "- Remember that `.size` is a reserved word in Pandas, so it helps to rename this columns that share a reserved word\n",
    "- Exercise 4 code is not a function, but should be 1 line of pandas code. \n",
    "- Be certain to update the `df` variable or mutate it accordingly, so that `df` has the new column name."
   ]
  },
  {
   "cell_type": "code",
   "execution_count": null,
   "metadata": {},
   "outputs": [],
   "source": [
    "# Write your pandas code to rename the \"size\" column to \"table_size\"\n",
    "\n",
    "\n"
   ]
  },
  {
   "cell_type": "code",
   "execution_count": null,
   "metadata": {},
   "outputs": [],
   "source": [
    "assert df.columns.tolist() == ['total_bill', 'tip', 'sex', 'smoker', 'day', 'time', 'table_size']\n",
    "print(\"Exercise 4 is complete\")"
   ]
  },
  {
   "cell_type": "markdown",
   "metadata": {},
   "source": [
    "#### Write a function named `exercise5`\n",
    "- This function should return the proportion of lunch tables out of all tables\n",
    "- A \"table\" in this dataset is a single row, representing one bill, _not_ the number of people at that table\n",
    "- You can use the full decimal or choose to round to 2 decimal places. Either answer will earn credit \n",
    "- This function should accept a dataframe as its input argument"
   ]
  },
  {
   "cell_type": "code",
   "execution_count": null,
   "metadata": {},
   "outputs": [],
   "source": [
    "# Exercise 5 code here\n",
    "\n",
    "\n"
   ]
  },
  {
   "cell_type": "code",
   "execution_count": null,
   "metadata": {},
   "outputs": [],
   "source": [
    "assert round(exercise5(df), 2) ==  0.28\n",
    "print(\"Exercise 5 is correct\")"
   ]
  },
  {
   "cell_type": "markdown",
   "metadata": {},
   "source": [
    "#### Exercise 6\n",
    "- Write a function named `exercise6`\n",
    "- This function should return the number of rows where the `total_bill` is greater than the average of all `total_bill` values.\n",
    "- This function should accept a dataframe as its input argument"
   ]
  },
  {
   "cell_type": "code",
   "execution_count": null,
   "metadata": {},
   "outputs": [],
   "source": [
    "# Exercise 6 code here\n",
    "\n",
    "\n"
   ]
  },
  {
   "cell_type": "code",
   "execution_count": null,
   "metadata": {},
   "outputs": [],
   "source": [
    "assert exercise6(df) == 99\n",
    "print(\"Exercise 6 is correct\")"
   ]
  },
  {
   "cell_type": "markdown",
   "metadata": {},
   "source": [
    "#### Exercise 7\n",
    "- Write a function named `exercise7`\n",
    "- This function should return the highest `total_bill` value for Thursday lunch tables (each row is a table).\n",
    "- This function should accept a dataframe as its input argument"
   ]
  },
  {
   "cell_type": "code",
   "execution_count": null,
   "metadata": {},
   "outputs": [],
   "source": [
    "# Exercise 7 code here\n",
    "\n",
    "\n"
   ]
  },
  {
   "cell_type": "code",
   "execution_count": null,
   "metadata": {},
   "outputs": [],
   "source": [
    "assert exercise7(df) == 41.11\n",
    "print(\"Exercise 7 is correct\")"
   ]
  },
  {
   "cell_type": "markdown",
   "metadata": {},
   "source": [
    "#### Exercise 8\n",
    "- Write a function named `exercise8`\n",
    "- This function should return the highest `total_bill` for tables on Thursday or Friday\n",
    "- This function should accept a dataframe as its input argument"
   ]
  },
  {
   "cell_type": "code",
   "execution_count": null,
   "metadata": {},
   "outputs": [],
   "source": [
    "# Exercise 8 code here\n",
    "\n",
    "\n"
   ]
  },
  {
   "cell_type": "code",
   "execution_count": null,
   "metadata": {},
   "outputs": [],
   "source": [
    "assert exercise8(df) == 43.11\n",
    "print(\"Exercise 8 is correct\")"
   ]
  },
  {
   "cell_type": "markdown",
   "metadata": {},
   "source": [
    "#### Exercise 9\n",
    "- Write a function named `exercise9`\n",
    "- This function should return the average `total_bill` for tables dining on a Saturday or Sunday\n",
    "- This function should accept a dataframe as its input argument"
   ]
  },
  {
   "cell_type": "code",
   "execution_count": null,
   "metadata": {},
   "outputs": [],
   "source": [
    "# Exercise 9 code here:\n",
    "\n",
    "\n"
   ]
  },
  {
   "cell_type": "code",
   "execution_count": null,
   "metadata": {},
   "outputs": [],
   "source": [
    "assert round(exercise9(df), 2) == 20.89\n",
    "print(\"Exercise 9 is correct\")"
   ]
  },
  {
   "cell_type": "markdown",
   "metadata": {},
   "source": [
    "#### Exercise 10\n",
    "- Write a function named `exercise10`\n",
    "- This function should take in the `prices` series as its input argument.\n",
    "- This function should clean these strings and our strings with dollar signs and commas into proper floats.\n",
    "- The `exercise10` function should return a series containing only floats"
   ]
  },
  {
   "cell_type": "code",
   "execution_count": null,
   "metadata": {},
   "outputs": [],
   "source": [
    "prices = pd.Series([\"$1,234.56\", \"$2,345,678.99\", \"$123.45\", \"$3,333,333.99\"])"
   ]
  },
  {
   "cell_type": "code",
   "execution_count": null,
   "metadata": {},
   "outputs": [],
   "source": [
    "# Write your function definition for exercise10 here\n",
    "\n",
    "\n"
   ]
  },
  {
   "cell_type": "code",
   "execution_count": null,
   "metadata": {},
   "outputs": [],
   "source": [
    "assert exercise10(prices).values.tolist() == [1234.56, 2345678.99, 123.45, 3333333.99]\n",
    "print(\"Exercise 10 is correct.\")"
   ]
  }
 ],
 "metadata": {
  "kernelspec": {
   "display_name": "Python 3",
   "language": "python",
   "name": "python3"
  },
  "language_info": {
   "codemirror_mode": {
    "name": "ipython",
    "version": 3
   },
   "file_extension": ".py",
   "mimetype": "text/x-python",
   "name": "python",
   "nbconvert_exporter": "python",
   "pygments_lexer": "ipython3",
   "version": "3.8.8"
  }
 },
 "nbformat": 4,
 "nbformat_minor": 4
}
