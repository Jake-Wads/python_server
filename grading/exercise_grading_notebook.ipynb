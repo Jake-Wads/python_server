{
 "cells": [
  {
   "cell_type": "code",
   "execution_count": 1,
   "metadata": {},
   "outputs": [],
   "source": [
    "from io import StringIO\n",
    "from subprocess import check_output\n",
    "import pandas as pd\n",
    "import numpy as np"
   ]
  },
  {
   "cell_type": "code",
   "execution_count": 2,
   "metadata": {},
   "outputs": [],
   "source": [
    "def get_exercise_grades(cohort, project):\n",
    "    raw_csv_data = check_output(f'python check_exercises.py -c {cohort} -p {project} --format csvdetail'.split())\n",
    "    df = pd.read_csv(StringIO(raw_csv_data.decode()))\n",
    "    return df"
   ]
  },
  {
   "cell_type": "code",
   "execution_count": 3,
   "metadata": {},
   "outputs": [],
   "source": [
    "cohort = 'curie'\n",
    "timestamp = pd.to_datetime('now').strftime('%Y%m%d%H%M%S')\n",
    "\n",
    "db_exercises = get_exercise_grades(cohort, 'database-exercises')\n",
    "python_exercises = get_exercise_grades(cohort, 'python-exercises')\n",
    "\n",
    "db_exercises.to_csv(f'{cohort}-database-exercises-{timestamp}.csv')\n",
    "python_exercises.to_csv(f'{cohort}-python-exercises-{timestamp}.csv')"
   ]
  },
  {
   "cell_type": "code",
   "execution_count": 4,
   "metadata": {},
   "outputs": [
    {
     "data": {
      "text/plain": [
       "file\n",
       "3.11_more_exercises.sql           0.764706\n",
       "3.5.2_order_by_exercises.sql      0.764706\n",
       "3.5.3_limit_exercises.sql         0.823529\n",
       "3.5.1_where_exercises.sql         0.882353\n",
       "3.7_group_by_exercises.sql        0.882353\n",
       "3.1_mysql_introduction.sql        0.941176\n",
       "3.3_tables_exercises.sql          0.941176\n",
       "3.6_functions_exercises.sql       0.941176\n",
       "3.8.2_join_exercises.sql          0.941176\n",
       "3.4_select_exercises.sql          1.000000\n",
       "3.8.3_subqueries_exercises.sql    1.000000\n",
       "3.9_temporary_tables.sql          1.000000\n",
       "Name: present, dtype: float64"
      ]
     },
     "execution_count": 4,
     "metadata": {},
     "output_type": "execute_result"
    }
   ],
   "source": [
    "db_exercises.groupby('file').present.mean().sort_values()"
   ]
  },
  {
   "cell_type": "code",
   "execution_count": 5,
   "metadata": {},
   "outputs": [
    {
     "data": {
      "text/plain": [
       "file\n",
       "4.8.4.2_pandas_series                  0.000000\n",
       "4.8.4.3_dataframes                     0.000000\n",
       "4.8.4.4_advanced_dataframes            0.000000\n",
       "4.8.5_seaborn_exercises.py             0.000000\n",
       "4.8.3_numpy_exercises.py               0.058824\n",
       "4.8.2_matplotlib_exercises             0.529412\n",
       "4.7_working_with_files.py              0.764706\n",
       "4.5_function_exercises.py              0.882353\n",
       "4.1_python_introduction_exercises      0.941176\n",
       "4.4_control_structures_exercises.py    0.941176\n",
       "4.6_import_exercises.py                0.941176\n",
       "Name: present, dtype: float64"
      ]
     },
     "execution_count": 5,
     "metadata": {},
     "output_type": "execute_result"
    }
   ],
   "source": [
    "python_exercises.groupby('file').present.mean().sort_values()"
   ]
  },
  {
   "cell_type": "code",
   "execution_count": 6,
   "metadata": {},
   "outputs": [],
   "source": [
    "python_grades = (python_exercises\n",
    " [~ python_exercises.file.str.startswith('4.8')]\n",
    " .groupby(['id', 'github_username', 'name'])\n",
    " .present\n",
    " .mean())\n",
    "python_grades.name = 'python'"
   ]
  },
  {
   "cell_type": "code",
   "execution_count": 7,
   "metadata": {},
   "outputs": [],
   "source": [
    "sql_grades = (db_exercises\n",
    " [~ db_exercises.file.str.startswith('3.11')]\n",
    " .groupby(['id', 'github_username', 'name'])\n",
    " .present\n",
    " .mean())\n",
    "sql_grades.name = 'SQL'"
   ]
  },
  {
   "cell_type": "code",
   "execution_count": 8,
   "metadata": {},
   "outputs": [
    {
     "data": {
      "text/html": [
       "<div>\n",
       "<style scoped>\n",
       "    .dataframe tbody tr th:only-of-type {\n",
       "        vertical-align: middle;\n",
       "    }\n",
       "\n",
       "    .dataframe tbody tr th {\n",
       "        vertical-align: top;\n",
       "    }\n",
       "\n",
       "    .dataframe thead th {\n",
       "        text-align: right;\n",
       "    }\n",
       "</style>\n",
       "<table border=\"1\" class=\"dataframe\">\n",
       "  <thead>\n",
       "    <tr style=\"text-align: right;\">\n",
       "      <th></th>\n",
       "      <th></th>\n",
       "      <th></th>\n",
       "      <th>SQL</th>\n",
       "      <th>python</th>\n",
       "    </tr>\n",
       "    <tr>\n",
       "      <th>id</th>\n",
       "      <th>github_username</th>\n",
       "      <th>name</th>\n",
       "      <th></th>\n",
       "      <th></th>\n",
       "    </tr>\n",
       "  </thead>\n",
       "  <tbody>\n",
       "    <tr>\n",
       "      <th>940</th>\n",
       "      <th>sunwenliang14</th>\n",
       "      <th>sunwenliang14</th>\n",
       "      <td>1.000000</td>\n",
       "      <td>1.0</td>\n",
       "    </tr>\n",
       "    <tr>\n",
       "      <th>941</th>\n",
       "      <th>noahmelngailis</th>\n",
       "      <th>Noah Melngailis</th>\n",
       "      <td>0.818182</td>\n",
       "      <td>0.8</td>\n",
       "    </tr>\n",
       "    <tr>\n",
       "      <th>942</th>\n",
       "      <th>guedanie</th>\n",
       "      <th>Daniel Guerrero</th>\n",
       "      <td>0.727273</td>\n",
       "      <td>1.0</td>\n",
       "    </tr>\n",
       "    <tr>\n",
       "      <th>943</th>\n",
       "      <th>chasethompson</th>\n",
       "      <th>Chase Thompson</th>\n",
       "      <td>1.000000</td>\n",
       "      <td>1.0</td>\n",
       "    </tr>\n",
       "    <tr>\n",
       "      <th>944</th>\n",
       "      <th>jivemachine</th>\n",
       "      <th>Jeremy  Cobb</th>\n",
       "      <td>0.909091</td>\n",
       "      <td>1.0</td>\n",
       "    </tr>\n",
       "    <tr>\n",
       "      <th>945</th>\n",
       "      <th>RaulCPena</th>\n",
       "      <th>Raul C. Pena</th>\n",
       "      <td>0.909091</td>\n",
       "      <td>1.0</td>\n",
       "    </tr>\n",
       "    <tr>\n",
       "      <th>946</th>\n",
       "      <th>shayaltshue</th>\n",
       "      <th>Shay Altshue</th>\n",
       "      <td>1.000000</td>\n",
       "      <td>1.0</td>\n",
       "    </tr>\n",
       "    <tr>\n",
       "      <th>948</th>\n",
       "      <th>ravinder79</th>\n",
       "      <th>Ravinder Singh</th>\n",
       "      <td>1.000000</td>\n",
       "      <td>0.8</td>\n",
       "    </tr>\n",
       "    <tr>\n",
       "      <th>949</th>\n",
       "      <th>RyanMcCall</th>\n",
       "      <th>Ryan McCall</th>\n",
       "      <td>0.909091</td>\n",
       "      <td>1.0</td>\n",
       "    </tr>\n",
       "    <tr>\n",
       "      <th>950</th>\n",
       "      <th>JadaShipp</th>\n",
       "      <th>Jada L. Shipp</th>\n",
       "      <td>0.909091</td>\n",
       "      <td>1.0</td>\n",
       "    </tr>\n",
       "    <tr>\n",
       "      <th>951</th>\n",
       "      <th>CameronGTaylor</th>\n",
       "      <th>Cameron Taylor</th>\n",
       "      <td>1.000000</td>\n",
       "      <td>1.0</td>\n",
       "    </tr>\n",
       "    <tr>\n",
       "      <th>952</th>\n",
       "      <th>aleclhartman</th>\n",
       "      <th>Alec Hartman</th>\n",
       "      <td>1.000000</td>\n",
       "      <td>1.0</td>\n",
       "    </tr>\n",
       "    <tr>\n",
       "      <th>953</th>\n",
       "      <th>nickjoseph210</th>\n",
       "      <th>Nick Joseph</th>\n",
       "      <td>0.636364</td>\n",
       "      <td>0.0</td>\n",
       "    </tr>\n",
       "    <tr>\n",
       "      <th>954</th>\n",
       "      <th>brandireger</th>\n",
       "      <th>Brandi Reger</th>\n",
       "      <td>1.000000</td>\n",
       "      <td>0.8</td>\n",
       "    </tr>\n",
       "    <tr>\n",
       "      <th>955</th>\n",
       "      <th>davidwederstrandtsr</th>\n",
       "      <th>David Wederstrandt Sr</th>\n",
       "      <td>0.818182</td>\n",
       "      <td>0.8</td>\n",
       "    </tr>\n",
       "    <tr>\n",
       "      <th>956</th>\n",
       "      <th>jiangyipeng718</th>\n",
       "      <th>Yipeng Jiang</th>\n",
       "      <td>1.000000</td>\n",
       "      <td>1.0</td>\n",
       "    </tr>\n",
       "    <tr>\n",
       "      <th>957</th>\n",
       "      <th>yvonneking1</th>\n",
       "      <th>Yvonne King</th>\n",
       "      <td>1.000000</td>\n",
       "      <td>1.0</td>\n",
       "    </tr>\n",
       "  </tbody>\n",
       "</table>\n",
       "</div>"
      ],
      "text/plain": [
       "                                                    SQL  python\n",
       "id  github_username     name                                   \n",
       "940 sunwenliang14       sunwenliang14          1.000000     1.0\n",
       "941 noahmelngailis      Noah Melngailis        0.818182     0.8\n",
       "942 guedanie            Daniel Guerrero        0.727273     1.0\n",
       "943 chasethompson       Chase Thompson         1.000000     1.0\n",
       "944 jivemachine         Jeremy  Cobb           0.909091     1.0\n",
       "945 RaulCPena           Raul C. Pena           0.909091     1.0\n",
       "946 shayaltshue         Shay Altshue           1.000000     1.0\n",
       "948 ravinder79          Ravinder Singh         1.000000     0.8\n",
       "949 RyanMcCall          Ryan McCall            0.909091     1.0\n",
       "950 JadaShipp           Jada L. Shipp          0.909091     1.0\n",
       "951 CameronGTaylor      Cameron Taylor         1.000000     1.0\n",
       "952 aleclhartman        Alec Hartman           1.000000     1.0\n",
       "953 nickjoseph210       Nick Joseph            0.636364     0.0\n",
       "954 brandireger         Brandi Reger           1.000000     0.8\n",
       "955 davidwederstrandtsr David Wederstrandt Sr  0.818182     0.8\n",
       "956 jiangyipeng718      Yipeng Jiang           1.000000     1.0\n",
       "957 yvonneking1         Yvonne King            1.000000     1.0"
      ]
     },
     "execution_count": 8,
     "metadata": {},
     "output_type": "execute_result"
    }
   ],
   "source": [
    "pd.concat([sql_grades, python_grades], axis=1)"
   ]
  }
 ],
 "metadata": {
  "kernelspec": {
   "display_name": "Python 3",
   "language": "python",
   "name": "python3"
  },
  "language_info": {
   "codemirror_mode": {
    "name": "ipython",
    "version": 3
   },
   "file_extension": ".py",
   "mimetype": "text/x-python",
   "name": "python",
   "nbconvert_exporter": "python",
   "pygments_lexer": "ipython3",
   "version": "3.7.3"
  }
 },
 "nbformat": 4,
 "nbformat_minor": 2
}
