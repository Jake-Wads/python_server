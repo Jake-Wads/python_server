{
 "cells": [
  {
   "cell_type": "markdown",
   "id": "c5627fb4",
   "metadata": {},
   "source": [
    "# Create a cohort calendar\n",
    "\n",
    "**Input**\n",
    "- Use the <a href = \"https://docs.google.com/spreadsheets/d/1BZVS8D3Z0jkZxUeQNlGvwn88P9nH2ZM2j8WzdkEC4kc/edit?usp=sharing\">Master Cohort Calendar</a> to confirm:\n",
    "    - Enter in cohort name\n",
    "    - Enter in start and stop dates\n",
    "    - Update `student_holidays.csv`\n",
    "- Enter in Student PD days (with Placement) if known; if not known, enter `NONE`\n",
    "- Enter the filename of lessons days to utilize\n",
    "\n",
    "\n",
    "**Output**\n",
    "\n",
    "- student facing calendar (for syllabus)\n",
    "- cohort-specific holidays (for syllabus)\n",
    "- \"cohort_cal.csv\" (for instructors google calendar)"
   ]
  },
  {
   "cell_type": "markdown",
   "id": "97f23e14",
   "metadata": {},
   "source": [
    "#### Enter in details below"
   ]
  },
  {
   "cell_type": "code",
   "execution_count": 1,
   "id": "62176a64",
   "metadata": {},
   "outputs": [],
   "source": [
    "cohort_name = 'ursula'\n",
    "\n",
    "start_date = '10/03/2023'\n",
    "end_date = '03/18/2024'\n",
    "\n",
    "pd_day1 = None\n",
    "pd_day2 = None\n",
    "\n",
    "lesson_file = 'generic_lessons_days_99.csv'"
   ]
  },
  {
   "cell_type": "markdown",
   "id": "41de8606",
   "metadata": {},
   "source": [
    "#### Run following cells to build  lesson days"
   ]
  },
  {
   "cell_type": "code",
   "execution_count": 2,
   "id": "6e63bd90",
   "metadata": {},
   "outputs": [],
   "source": [
    "#imports\n",
    "import pandas as pd\n",
    "import numpy as np\n",
    "\n",
    "from datetime import datetime, timedelta"
   ]
  },
  {
   "cell_type": "code",
   "execution_count": 6,
   "id": "feadb19e",
   "metadata": {},
   "outputs": [],
   "source": [
    "#turn holidays into a df from csv\n",
    "holiday_df = pd.read_csv('student_holidays.csv')\n",
    "holiday_df.columns = ['date','class_type']\n",
    "holiday_df.date = holiday_df.date.astype('datetime64[ns]')\n",
    "\n",
    "#turn pd days into df from inputs\n",
    "pd_days = [pd_day1, pd_day2]\n",
    "pd_days_df = [day for day in pd_days if day != None]\n",
    "pd_days_df = pd.DataFrame({'date':pd_days_df, 'class_type':'PD Day'})\n",
    "\n",
    "#combine holidays and pddays into noclass df\n",
    "no_class_df = pd.concat([holiday_df, pd_days_df]).reset_index(drop=True)\n",
    "no_class_df.date = no_class_df.date.astype('datetime64[ns]')\n",
    "no_class_df = no_class_df.sort_values('date')\n",
    "\n",
    "#build df with all dates between start and end for this cohort\n",
    "cohort_days = pd.DataFrame([start_date,end_date], columns=['date'])\n",
    "cohort_days.date = cohort_days.astype('datetime64[ns]')\n",
    "cohort_days = cohort_days.set_index('date').asfreq('D')\n",
    "cohort_days = cohort_days.reset_index()\n",
    "cohort_days['weekday'] = cohort_days.date.dt.day_name()\n",
    "\n",
    "#merge no class days into cohort dates\n",
    "cohort_days = cohort_days.merge(no_class_df, how='left', on='date')\n",
    "\n",
    "#remove weekends\n",
    "cohort_days = cohort_days [~cohort_days.weekday.isin(['Saturday','Sunday'])].copy()\n",
    "\n",
    "#determine hours for each day\n",
    "cohort_days['hours'] = np.where(cohort_days.class_type.notnull(), 0,\n",
    "                                np.where(cohort_days.weekday == 'Monday', 6, \n",
    "                                         np.where(cohort_days.weekday == 'Thursday', 6.5, 7)))\n",
    "\n",
    "#count how many class days there are\n",
    "class_days_count = cohort_days [cohort_days.hours != 0].reset_index(drop=True)\n",
    "class_days_count['classday_num'] = class_days_count.index + 1\n",
    "\n",
    "#merge class day count with cohort days\n",
    "cohort_days_all = cohort_days.merge(class_days_count, how='left', \n",
    "                                on=['date','class_type','weekday','hours'])"
   ]
  },
  {
   "cell_type": "code",
   "execution_count": 7,
   "id": "ed1b6b67",
   "metadata": {},
   "outputs": [
    {
     "name": "stdout",
     "output_type": "stream",
     "text": [
      "There are 665.5 hours set for this cohort.\n"
     ]
    }
   ],
   "source": [
    "print(f'There are {cohort_days_all.hours.sum()} hours set for this cohort.')"
   ]
  },
  {
   "cell_type": "markdown",
   "id": "06a59214",
   "metadata": {},
   "source": [
    "#### Verify that there are enough cohort days for all lessons"
   ]
  },
  {
   "cell_type": "code",
   "execution_count": 8,
   "id": "6b9eba48",
   "metadata": {},
   "outputs": [
    {
     "name": "stdout",
     "output_type": "stream",
     "text": [
      "The lesson schedule matches the length of the cohort. Proceed to build calendar\n"
     ]
    }
   ],
   "source": [
    "#pull lesson days\n",
    "lesson_df = pd.read_csv(lesson_file)\n",
    "\n",
    "#count the number of lesson days and the number of cohort days\n",
    "num_lessons = lesson_df.delivery_day_num.nunique()\n",
    "num_days = cohort_days_all.classday_num.nunique()\n",
    "\n",
    "#calculate overlap\n",
    "overlap = num_lessons - num_days\n",
    "\n",
    "#result\n",
    "if num_lessons > num_days:\n",
    "    print('!***************************************************************************************!')\n",
    "    print(f'There are {num_lessons} lesson days, but there are only {num_days} days in the cohort.')\n",
    "    print(f'This is {overlap} extra lesson day(s).')\n",
    "    print(f'Remove that many days from the {lesson_file} to accomodate all lessons and rerun script.')\n",
    "    print('!***************************************************************************************!')\n",
    "elif num_lessons < num_days:\n",
    "    print('!***************************************************************************************!')\n",
    "    print(f'There are only {num_lessons} lesson days, but there are {num_days} days in the cohort.')\n",
    "    print(f'This is {overlap*-1} extra cohort day(s).')\n",
    "    print(f'Add that many days to the {lesson_file} to fill out the schedule and rerun script.')\n",
    "    print('!***************************************************************************************!')\n",
    "else:\n",
    "    print('The lesson schedule matches the length of the cohort. Proceed to build calendar')"
   ]
  },
  {
   "cell_type": "code",
   "execution_count": 6,
   "id": "29e430f3",
   "metadata": {},
   "outputs": [
    {
     "data": {
      "text/html": [
       "<div>\n",
       "<style scoped>\n",
       "    .dataframe tbody tr th:only-of-type {\n",
       "        vertical-align: middle;\n",
       "    }\n",
       "\n",
       "    .dataframe tbody tr th {\n",
       "        vertical-align: top;\n",
       "    }\n",
       "\n",
       "    .dataframe thead th {\n",
       "        text-align: right;\n",
       "    }\n",
       "</style>\n",
       "<table border=\"1\" class=\"dataframe\">\n",
       "  <thead>\n",
       "    <tr style=\"text-align: right;\">\n",
       "      <th></th>\n",
       "      <th>Subject</th>\n",
       "      <th>Start Date</th>\n",
       "    </tr>\n",
       "  </thead>\n",
       "  <tbody>\n",
       "    <tr>\n",
       "      <th>0</th>\n",
       "      <td>welcome L00 welcome day [instr]</td>\n",
       "      <td>2023-10-03</td>\n",
       "    </tr>\n",
       "    <tr>\n",
       "      <th>1</th>\n",
       "      <td>welcome L01 syllabus review [instr]</td>\n",
       "      <td>2023-10-03</td>\n",
       "    </tr>\n",
       "    <tr>\n",
       "      <th>2</th>\n",
       "      <td>welcome L01 environment setup [instr]</td>\n",
       "      <td>2023-10-03</td>\n",
       "    </tr>\n",
       "    <tr>\n",
       "      <th>3</th>\n",
       "      <td>fundamentals L00 python 101 [students]</td>\n",
       "      <td>2023-10-04</td>\n",
       "    </tr>\n",
       "    <tr>\n",
       "      <th>4</th>\n",
       "      <td>fundamentals L00 what is data science [instr]</td>\n",
       "      <td>2023-10-04</td>\n",
       "    </tr>\n",
       "    <tr>\n",
       "      <th>...</th>\n",
       "      <td>...</td>\n",
       "      <td>...</td>\n",
       "    </tr>\n",
       "    <tr>\n",
       "      <th>230</th>\n",
       "      <td>capstone L11 capstone work [instr]</td>\n",
       "      <td>2024-03-12</td>\n",
       "    </tr>\n",
       "    <tr>\n",
       "      <th>231</th>\n",
       "      <td>capstone L12 review panel I [instr]</td>\n",
       "      <td>2024-03-13</td>\n",
       "    </tr>\n",
       "    <tr>\n",
       "      <th>232</th>\n",
       "      <td>capstone L13 review panel II [instr]</td>\n",
       "      <td>2024-03-14</td>\n",
       "    </tr>\n",
       "    <tr>\n",
       "      <th>233</th>\n",
       "      <td>capstone L14 review panel III [instr]</td>\n",
       "      <td>2024-03-15</td>\n",
       "    </tr>\n",
       "    <tr>\n",
       "      <th>234</th>\n",
       "      <td>graduation L01 Graduation</td>\n",
       "      <td>2024-03-18</td>\n",
       "    </tr>\n",
       "  </tbody>\n",
       "</table>\n",
       "<p>235 rows × 2 columns</p>\n",
       "</div>"
      ],
      "text/plain": [
       "                                           Subject Start Date\n",
       "0                  welcome L00 welcome day [instr] 2023-10-03\n",
       "1              welcome L01 syllabus review [instr] 2023-10-03\n",
       "2            welcome L01 environment setup [instr] 2023-10-03\n",
       "3           fundamentals L00 python 101 [students] 2023-10-04\n",
       "4    fundamentals L00 what is data science [instr] 2023-10-04\n",
       "..                                             ...        ...\n",
       "230             capstone L11 capstone work [instr] 2024-03-12\n",
       "231            capstone L12 review panel I [instr] 2024-03-13\n",
       "232           capstone L13 review panel II [instr] 2024-03-14\n",
       "233          capstone L14 review panel III [instr] 2024-03-15\n",
       "234                      graduation L01 Graduation 2024-03-18\n",
       "\n",
       "[235 rows x 2 columns]"
      ]
     },
     "execution_count": 6,
     "metadata": {},
     "output_type": "execute_result"
    }
   ],
   "source": [
    "#merge lesson days with cohort days\n",
    "cohort_days_almost = cohort_days_all.merge(lesson_df, how='left', \n",
    "                      left_on='classday_num',\n",
    "                      right_on='delivery_day_num')\n",
    "\n",
    "#fill non-delivery days with event\n",
    "cohort_days_almost.delivery_name = cohort_days_almost.delivery_name.fillna(cohort_days_almost.class_type)\n",
    "\n",
    "#reduce down to final two columns and export\n",
    "cohort_days_final = cohort_days_almost[['delivery_name','date']]\n",
    "cohort_days_final.columns = ['Subject', 'Start Date']\n",
    "cohort_days_final"
   ]
  },
  {
   "cell_type": "markdown",
   "id": "8a028f39",
   "metadata": {},
   "source": [
    "#### Generate student holidays --> paste into syllabus\n",
    "- Paste in numbers/google sheet and copy formatted version\n",
    "- Paste into cohort syllabus"
   ]
  },
  {
   "cell_type": "code",
   "execution_count": 7,
   "id": "791b1f60-ad1f-470c-b71c-4a8c616dfcba",
   "metadata": {},
   "outputs": [],
   "source": [
    "# Create first and last day rows as DFs to concat to holiday_df\n",
    "firstday = pd.DataFrame({'class_type': 'First Day of Class', 'date': start_date}, index =[0])\n",
    "lastday = pd.DataFrame({'class_type': 'Graduation/Capstone Presentations', 'date': end_date}, index =[0])\n",
    "\n",
    "#convert to datetime fmt\n",
    "firstday.date = firstday.date.astype('datetime64')\n",
    "lastday.date = lastday.date.astype('datetime64')\n",
    "\n",
    "#reorder holiday_df for current cohort dates\n",
    "stuholiday_df = holiday_df[(holiday_df.date > start_date) & (holiday_df.date < end_date)][['class_type', 'date']]\n",
    "\n",
    "#append \"NO CLASS - \" to student holidays\n",
    "stuholiday_df['class_type'] = \"NO CLASS – \" + stuholiday_df['class_type']\n",
    "\n",
    "# Concat all important dates to one df\n",
    "stuholiday_df = pd.concat([firstday, stuholiday_df, lastday])\n",
    "\n",
    "#rename column\n",
    "stuholiday_df = stuholiday_df.rename(columns={'class_type':'event'})"
   ]
  },
  {
   "cell_type": "code",
   "execution_count": 8,
   "id": "046d011f-a93b-4367-8f8f-e63b6317bff4",
   "metadata": {},
   "outputs": [],
   "source": [
    "#export\n",
    "stuholiday_df.to_clipboard(index=False)"
   ]
  },
  {
   "cell_type": "markdown",
   "id": "f5f1cf77",
   "metadata": {},
   "source": [
    "#### Generate student facing calendar --> paste in syllabus\n",
    "- Paste in numbers/google sheet and copy formatted version\n",
    "- Paste into cohort syllabus"
   ]
  },
  {
   "cell_type": "code",
   "execution_count": 9,
   "id": "5fcb11f9",
   "metadata": {},
   "outputs": [],
   "source": [
    "df = cohort_days_almost.rename(columns={'delivery_name':'subject'}).copy()\n",
    "\n",
    "#remove holidays\n",
    "df = df [df.class_type.isnull()]\n",
    "\n",
    "#remove tasks & bonus lessons\n",
    "df = df [~df.subject.str.contains('task')]\n",
    "df = df [~df.subject.str.contains('bonus')]\n",
    "df = df [~df.subject.str.contains('kickoff')]\n",
    "\n",
    "#remove extra pieces \n",
    "df.subject = df.subject.str.replace('\\[.+\\]','', regex=True)\n",
    "df.subject = df.subject.str.replace('\\(.+\\)','', regex=True)\n",
    "\n",
    "#consolidate project lessons & review panels\n",
    "df.subject = df.subject.str.replace('project.*','project', regex=True)\n",
    "df.subject = df.subject.str.replace('review panel.*','capstone work', regex=True)\n",
    "\n",
    "#remove all reviews\n",
    "df = df [~df.subject.str.contains('review')]\n",
    "\n",
    "#remove duplicate lessons\n",
    "df = df.drop_duplicates('subject')\n",
    "\n",
    "#convert date to datetime\n",
    "df.date = df.date.astype('datetime64')  \n",
    "\n",
    "#get the monday of each week\n",
    "def get_monday(start_date):\n",
    "    new = start_date + timedelta(days=-start_date.day_of_week)\n",
    "    return new\n",
    "df['week'] = df.date.apply(get_monday)\n",
    "\n",
    "#group lessons by each week\n",
    "df = df.groupby('week').subject.apply(lambda x: '\\n'.join(x.astype(str).str.strip())).reset_index()"
   ]
  },
  {
   "cell_type": "code",
   "execution_count": 10,
   "id": "5f325431",
   "metadata": {},
   "outputs": [],
   "source": [
    "df.to_clipboard(index=False)"
   ]
  },
  {
   "cell_type": "markdown",
   "id": "a8698700",
   "metadata": {},
   "source": [
    "#### Save cohort calendar --> upload to google calendar \n"
   ]
  },
  {
   "cell_type": "code",
   "execution_count": 11,
   "id": "f18602af",
   "metadata": {},
   "outputs": [],
   "source": [
    "calendar_name = cohort_name + '_cal.csv'\n",
    "cohort_days_final.to_csv(calendar_name)"
   ]
  },
  {
   "cell_type": "markdown",
   "id": "6f2994f2",
   "metadata": {},
   "source": [
    "![newcalendarinstructions](NewClassCalendar.png)"
   ]
  }
 ],
 "metadata": {
  "kernelspec": {
   "display_name": "Python 3 (ipykernel)",
   "language": "python",
   "name": "python3"
  },
  "language_info": {
   "codemirror_mode": {
    "name": "ipython",
    "version": 3
   },
   "file_extension": ".py",
   "mimetype": "text/x-python",
   "name": "python",
   "nbconvert_exporter": "python",
   "pygments_lexer": "ipython3",
   "version": "3.11.2"
  }
 },
 "nbformat": 4,
 "nbformat_minor": 5
}
