{
 "cells": [
  {
   "cell_type": "markdown",
   "metadata": {},
   "source": [
    "# Classification:  Acquire data from a SQL Database\n",
    "\n",
    "## Goals\n",
    "Acquire data needed to achieve project goals from a mySQL database\n",
    "\n",
    "## Skills\n",
    "1. Combining multiple data sets\n",
    "2. Aggregating data\n",
    "2. Creating temp tables  \n",
    "3. Create mySQL table\n",
    "4. Export to CSV\n",
    "5. Direct connection to mySQL through Python using the \"MySQL Connector\" driver\n",
    "6. SQL Query in Python using mysql.connector \n",
    "\n",
    "## Methods & Functions\n",
    "1. select\n",
    "2. group by\n",
    "3. aggregations such as: sum(), count(), distinct()\n",
    "4. where\n",
    "5. having\n",
    "6. joins (inner, outer, left, right)  \n",
    "7. create table\n",
    "4. read_sql(), read_sql_table(), read_sql_query(), sqlalchemy.create_engine?"
   ]
  },
  {
   "cell_type": "markdown",
   "metadata": {},
   "source": [
    "*data:  titanic for examples, telco customer churn for exercises and project*"
   ]
  },
  {
   "cell_type": "markdown",
   "metadata": {},
   "source": [
    "### Download and install \"MySQL Connector\" driver\n",
    "`C:\\Users\\Your Name\\AppData\\Local\\Programs\\Python\\Python36-32\\Scripts>python -m pip install mysql-connector`\n",
    "\n"
   ]
  },
  {
   "cell_type": "code",
   "execution_count": null,
   "metadata": {},
   "outputs": [],
   "source": []
  }
 ],
 "metadata": {
  "kernelspec": {
   "display_name": "Python 3",
   "language": "python",
   "name": "python3"
  },
  "language_info": {
   "codemirror_mode": {
    "name": "ipython",
    "version": 3
   },
   "file_extension": ".py",
   "mimetype": "text/x-python",
   "name": "python",
   "nbconvert_exporter": "python",
   "pygments_lexer": "ipython3",
   "version": "3.6.5"
  }
 },
 "nbformat": 4,
 "nbformat_minor": 2
}
