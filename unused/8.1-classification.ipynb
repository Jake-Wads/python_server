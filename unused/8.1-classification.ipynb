{
 "cells": [
  {
   "cell_type": "markdown",
   "metadata": {},
   "source": [
    "# Modeling: Classification \n",
    "\n",
    "## Introduction\n",
    "\n",
    "### Review of Classification Models\n",
    "\n",
    "- Supervised machine learning algorithm\n",
    "- The inputs are called *features*\n",
    "- The output is called the *label*, *target*, or *dependent variable*\n",
    "- Provides a prediction of a categorical label.\n",
    "- Binary classification - two categories\n",
    "- Multiclass classification - three or more categories\n",
    "\n",
    "### Spark MLlib + Classification\n",
    "\n",
    "- Spark MLlib provides several classification algorithms:\n",
    "    * Logistic Regression (with Elastic Net, Lasso, and Ridge Regression)\n",
    "    * Decision Tree\n",
    "    * Random Forest\n",
    "    * Gradient-Boosted Trees\n",
    "    * Multilayer Perceptron (Neural Network)\n",
    "    * Linear Support Vector Machine (SVM)\n",
    "    * Naive Bayes\n",
    "\n",
    "- Spark MLlib also provides a meta-algorithm for constructing multiclass classification models from binary classification models:\n",
    "    * One-vs-Rest\n",
    "\n",
    "- Spark MLlib requires the features to be assembled into a vector of doubles column.\n",
    "\n",
    "## Lesson\n",
    "\n",
    "### Scenario\n",
    "\n",
    "\n",
    "### Setup"
   ]
  },
  {
   "cell_type": "code",
   "execution_count": 1,
   "metadata": {},
   "outputs": [],
   "source": [
    "from __future__ import print_function\n",
    "import numpy as np\n",
    "import pandas as pd\n",
    "import matplotlib.pyplot as plt\n",
    "%matplotlib inline\n",
    "import seaborn as sns\n",
    "from pyspark.sql.functions import when, col, lower, upper, round, regexp_extract, count, countDistinct\n",
    "from pyspark.sql.types import DoubleType"
   ]
  },
  {
   "cell_type": "markdown",
   "metadata": {},
   "source": [
    "- Start a SparkSession"
   ]
  },
  {
   "cell_type": "code",
   "execution_count": 2,
   "metadata": {},
   "outputs": [],
   "source": [
    "from pyspark.sql import SparkSession\n",
    "spark = SparkSession.builder.\\\n",
    "    master(\"local[*]\").\\\n",
    "    appName(\"classification\").\\\n",
    "    getOrCreate()"
   ]
  },
  {
   "cell_type": "markdown",
   "metadata": {},
   "source": [
    "- Load the data"
   ]
  },
  {
   "cell_type": "code",
   "execution_count": 3,
   "metadata": {},
   "outputs": [],
   "source": [
    "# cases\n",
    "case_data = \"data/case.csv\"\n",
    "df_case = spark.read.csv(case_data, header=True)\n",
    "\n",
    "dept_data = \"data/dept.csv\"\n",
    "df_dept = spark.read.csv(dept_data, header=True)"
   ]
  },
  {
   "cell_type": "code",
   "execution_count": 4,
   "metadata": {},
   "outputs": [],
   "source": [
    "df = df_case.join(df_dept, \"dept_division\", \"left_outer\")"
   ]
  },
  {
   "cell_type": "code",
   "execution_count": 5,
   "metadata": {},
   "outputs": [
    {
     "name": "stdout",
     "output_type": "stream",
     "text": [
      "root\n",
      " |-- dept_division: string (nullable = true)\n",
      " |-- case_id: string (nullable = true)\n",
      " |-- case_opened_date: string (nullable = true)\n",
      " |-- case_closed_date: string (nullable = true)\n",
      " |-- SLA_due_date: string (nullable = true)\n",
      " |-- case_late: string (nullable = true)\n",
      " |-- num_days_late: string (nullable = true)\n",
      " |-- case_closed: string (nullable = true)\n",
      " |-- service_request_type: string (nullable = true)\n",
      " |-- SLA_days: string (nullable = true)\n",
      " |-- case_status: string (nullable = true)\n",
      " |-- source_id: string (nullable = true)\n",
      " |-- request_address: string (nullable = true)\n",
      " |-- council_district: string (nullable = true)\n",
      " |-- dept_name: string (nullable = true)\n",
      " |-- standardized_dept_name: string (nullable = true)\n",
      " |-- dept_subject_to_SLA: string (nullable = true)\n",
      "\n"
     ]
    }
   ],
   "source": [
    "df.printSchema()\n",
    "# df.show(5)"
   ]
  },
  {
   "cell_type": "markdown",
   "metadata": {},
   "source": [
    "- normalize the text data"
   ]
  },
  {
   "cell_type": "code",
   "execution_count": 6,
   "metadata": {},
   "outputs": [],
   "source": [
    "df = df.select(lower(col('dept_division')).alias('dept_division'), \n",
    "          lower(col('service_request_type')).alias('request_type'),\n",
    "          lower(col('dept_name')).alias('dept_name'),\n",
    "          lower(col('standardized_dept_name')).alias('dept_name_std'),\n",
    "          (col('case_closed')=='YES').alias('case_closed'),\n",
    "          when(col('case_late')=='YES', 1).otherwise(0).alias('target'),\n",
    "          (col('dept_subject_to_SLA')=='YES').alias('dept_w_SLA'),\n",
    "          round(col('num_days_late').cast(DoubleType()), 2).alias('days_late'),\n",
    "          round(col('SLA_days').cast(DoubleType()), 2).alias('SLA_days'),\n",
    "          regexp_extract(col('request_address'),\"(\\d{5})$\", 1).\\\n",
    "               alias(\"request_address_zip\")\n",
    "         )"
   ]
  },
  {
   "cell_type": "markdown",
   "metadata": {},
   "source": [
    "- I probably don't want to use both dept_name and dept_name_std...so let's look at unique values to see which is more cleaned up.  "
   ]
  },
  {
   "cell_type": "code",
   "execution_count": 7,
   "metadata": {},
   "outputs": [
    {
     "data": {
      "text/html": [
       "<div>\n",
       "<style scoped>\n",
       "    .dataframe tbody tr th:only-of-type {\n",
       "        vertical-align: middle;\n",
       "    }\n",
       "\n",
       "    .dataframe tbody tr th {\n",
       "        vertical-align: top;\n",
       "    }\n",
       "\n",
       "    .dataframe thead th {\n",
       "        text-align: right;\n",
       "    }\n",
       "</style>\n",
       "<table border=\"1\" class=\"dataframe\">\n",
       "  <thead>\n",
       "    <tr style=\"text-align: right;\">\n",
       "      <th></th>\n",
       "      <th>0</th>\n",
       "    </tr>\n",
       "  </thead>\n",
       "  <tbody>\n",
       "    <tr>\n",
       "      <th>count(DISTINCT dept_division)</th>\n",
       "      <td>39</td>\n",
       "    </tr>\n",
       "    <tr>\n",
       "      <th>count(DISTINCT dept_name)</th>\n",
       "      <td>9</td>\n",
       "    </tr>\n",
       "    <tr>\n",
       "      <th>count(DISTINCT dept_name_std)</th>\n",
       "      <td>8</td>\n",
       "    </tr>\n",
       "    <tr>\n",
       "      <th>count(DISTINCT request_type)</th>\n",
       "      <td>334</td>\n",
       "    </tr>\n",
       "  </tbody>\n",
       "</table>\n",
       "</div>"
      ],
      "text/plain": [
       "                                 0\n",
       "count(DISTINCT dept_division)   39\n",
       "count(DISTINCT dept_name)        9\n",
       "count(DISTINCT dept_name_std)    8\n",
       "count(DISTINCT request_type)   334"
      ]
     },
     "execution_count": 7,
     "metadata": {},
     "output_type": "execute_result"
    }
   ],
   "source": [
    "df.select(countDistinct('dept_division'), \n",
    "          countDistinct('dept_name'),\n",
    "          countDistinct('dept_name_std'),\n",
    "          countDistinct('request_type')).\\\n",
    "          toPandas().transpose()"
   ]
  },
  {
   "cell_type": "markdown",
   "metadata": {},
   "source": [
    "- I will use the standardized department name, given it has fewer distinct values, making me think it is more *standardized*...go figure!"
   ]
  },
  {
   "cell_type": "code",
   "execution_count": 8,
   "metadata": {},
   "outputs": [],
   "source": [
    "df = df.drop('dept_name')"
   ]
  },
  {
   "cell_type": "markdown",
   "metadata": {},
   "source": [
    "### Preprocess the modeling data\n",
    "\n",
    "- Use the [SQLTransformer](http://spark.apache.org/docs/latest/api/python/pyspark.ml.html#pyspark.ml.feature.SQLTransformer) to filter out rows that don't apply:"
   ]
  },
  {
   "cell_type": "code",
   "execution_count": 9,
   "metadata": {},
   "outputs": [],
   "source": [
    "from pyspark.ml.feature import SQLTransformer\n",
    "\n",
    "filterer = SQLTransformer(\n",
    "    statement=\"SELECT * FROM __THIS__ WHERE \\\n",
    "           dept_w_SLA AND case_closed\")\n",
    "\n",
    "filtered = filterer.transform(df)"
   ]
  },
  {
   "cell_type": "markdown",
   "metadata": {},
   "source": [
    "- `__THIS__` is a placeholder for the DataFrame passed into the `transform` method.\n",
    "\n",
    "### Generate label\n",
    "\n",
    "- We can treat `target_var` as a continuous numerical label or an ordered categorical label:"
   ]
  },
  {
   "cell_type": "code",
   "execution_count": 10,
   "metadata": {},
   "outputs": [
    {
     "name": "stdout",
     "output_type": "stream",
     "text": [
      "+------+------+\n",
      "|target| count|\n",
      "+------+------+\n",
      "|     0|735612|\n",
      "|     1| 87978|\n",
      "+------+------+\n",
      "\n"
     ]
    }
   ],
   "source": [
    "filtered.\\\n",
    "    groupBy('target').\\\n",
    "    count().orderBy('target').show()"
   ]
  },
  {
   "cell_type": "code",
   "execution_count": 11,
   "metadata": {},
   "outputs": [
    {
     "name": "stdout",
     "output_type": "stream",
     "text": [
      "root\n",
      " |-- dept_division: string (nullable = true)\n",
      " |-- request_type: string (nullable = true)\n",
      " |-- dept_name_std: string (nullable = true)\n",
      " |-- case_closed: boolean (nullable = true)\n",
      " |-- target: integer (nullable = false)\n",
      " |-- dept_w_SLA: boolean (nullable = true)\n",
      " |-- days_late: double (nullable = true)\n",
      " |-- SLA_days: double (nullable = true)\n",
      " |-- request_address_zip: string (nullable = true)\n",
      "\n"
     ]
    }
   ],
   "source": [
    "filtered.printSchema()"
   ]
  },
  {
   "cell_type": "markdown",
   "metadata": {},
   "source": [
    "### Extract, transform, and select features\n",
    "\n",
    "- Create function to explore features:"
   ]
  },
  {
   "cell_type": "code",
   "execution_count": 12,
   "metadata": {},
   "outputs": [],
   "source": [
    "def explore(df, target, cont1, cont2):\n",
    "    from pyspark.sql.functions import count, mean, corr\n",
    "    aggregated = df.groupby(target).agg(count(cont1), \n",
    "                                      mean(cont1),\n",
    "                                      mean(cont2),\n",
    "                                      corr(cont1,cont2)\n",
    "                                     ).orderBy(target)\n",
    "    aggregated.show()"
   ]
  },
  {
   "cell_type": "code",
   "execution_count": 13,
   "metadata": {},
   "outputs": [
    {
     "name": "stdout",
     "output_type": "stream",
     "text": [
      "+------+---------------+------------------+------------------+-------------------------+\n",
      "|target|count(SLA_days)|     avg(SLA_days)|    avg(days_late)|corr(SLA_days, days_late)|\n",
      "+------+---------------+------------------+------------------+-------------------------+\n",
      "|     0|         735612| 64.44108282626593|-58.57142732854374|      -0.9976264528231221|\n",
      "|     1|          87978|14.202606674395911|22.111734751869783|      0.24758733973851202|\n",
      "+------+---------------+------------------+------------------+-------------------------+\n",
      "\n"
     ]
    }
   ],
   "source": [
    "explore(filtered, 'target','SLA_days','days_late')"
   ]
  },
  {
   "cell_type": "markdown",
   "metadata": {},
   "source": [
    "- Takeaway:  the cases that are past their due date seem to have shorter SLA's"
   ]
  },
  {
   "cell_type": "code",
   "execution_count": 14,
   "metadata": {},
   "outputs": [],
   "source": [
    "sample_pdf = filtered.select('SLA_days', 'days_late', 'target'). \\\n",
    "  sample(False, 0.20, 12345). \\\n",
    "  toPandas()"
   ]
  },
  {
   "cell_type": "code",
   "execution_count": 15,
   "metadata": {},
   "outputs": [
    {
     "data": {
      "image/png": "[encoded data removed]",
      "text/plain": [
       "<Figure size 432x288 with 1 Axes>"
      ]
     },
     "metadata": {
      "needs_background": "light"
     },
     "output_type": "display_data"
    }
   ],
   "source": [
    "sns.scatterplot(x=sample_pdf.SLA_days, \n",
    "                y=sample_pdf.days_late,\n",
    "                hue=sample_pdf.target\n",
    "               )\n",
    "\n",
    "plt.show()"
   ]
  },
  {
   "cell_type": "code",
   "execution_count": 16,
   "metadata": {},
   "outputs": [
    {
     "name": "stdout",
     "output_type": "stream",
     "text": [
      "+--------------------+----------------+\n",
      "|       dept_name_std|dept_name_std_ix|\n",
      "+--------------------+----------------+\n",
      "|animal care services|             2.0|\n",
      "|trans & cap impro...|             3.0|\n",
      "|trans & cap impro...|             3.0|\n",
      "|dsd/code enforcement|             0.0|\n",
      "|animal care services|             2.0|\n",
      "+--------------------+----------------+\n",
      "only showing top 5 rows\n",
      "\n"
     ]
    }
   ],
   "source": [
    "from pyspark.ml.feature import StringIndexer\n",
    "indexer = StringIndexer(inputCol=\"dept_name_std\", outputCol=\"dept_name_std_ix\")\n",
    "indexer_model = indexer.fit(filtered)\n",
    "list(enumerate(indexer_model.labels))\n",
    "indexed = indexer_model.transform(filtered)\n",
    "indexed.select(\"dept_name_std\", \"dept_name_std_ix\").show(5)"
   ]
  },
  {
   "cell_type": "markdown",
   "metadata": {},
   "source": [
    "- Then we use [OneHotEncoder](http://spark.apache.org/docs/latest/api/python/pyspark.ml.html#pyspark.ml.feature.OneHotEncoder) to generate a set of dummy variables:"
   ]
  },
  {
   "cell_type": "code",
   "execution_count": 17,
   "metadata": {},
   "outputs": [
    {
     "name": "stdout",
     "output_type": "stream",
     "text": [
      "+--------------------+----------------+----------------+\n",
      "|       dept_name_std|dept_name_std_ix|dept_name_std_cd|\n",
      "+--------------------+----------------+----------------+\n",
      "|animal care services|             2.0|   (6,[2],[1.0])|\n",
      "|trans & cap impro...|             3.0|   (6,[3],[1.0])|\n",
      "|trans & cap impro...|             3.0|   (6,[3],[1.0])|\n",
      "|dsd/code enforcement|             0.0|   (6,[0],[1.0])|\n",
      "|animal care services|             2.0|   (6,[2],[1.0])|\n",
      "+--------------------+----------------+----------------+\n",
      "only showing top 5 rows\n",
      "\n"
     ]
    }
   ],
   "source": [
    "from pyspark.ml.feature import OneHotEncoder\n",
    "encoder = OneHotEncoder(inputCol=\"dept_name_std_ix\", outputCol=\"dept_name_std_cd\")\n",
    "encoded = encoder.transform(indexed)\n",
    "encoded.select(\"dept_name_std\", \"dept_name_std_ix\", \"dept_name_std_cd\").show(5)"
   ]
  },
  {
   "cell_type": "markdown",
   "metadata": {},
   "source": [
    "- `cat_var1_cd` is stored as a `SparseVector`.\n",
    "\n",
    "- Now we can (manually) select our features and label:"
   ]
  },
  {
   "cell_type": "code",
   "execution_count": 18,
   "metadata": {},
   "outputs": [],
   "source": [
    "selected = encoded.select(\"SLA_days\", \"dept_name_std_cd\", \"target\")\n",
    "features = [\"SLA_days\", \"dept_name_std_cd\"]"
   ]
  },
  {
   "cell_type": "markdown",
   "metadata": {},
   "source": [
    "- The machine learning algorithms in Spark MLlib expect the features to be collected into a single column, so we use [VectorAssembler](http://spark.apache.org/docs/latest/api/python/pyspark.ml.html#pyspark.ml.feature.VectorAssembler) to assemble our feature vector:"
   ]
  },
  {
   "cell_type": "code",
   "execution_count": 19,
   "metadata": {},
   "outputs": [
    {
     "data": {
      "text/plain": [
       "[Row(SLA_days=999.0, dept_name_std_cd=SparseVector(6, {2: 1.0}), target=0, features=SparseVector(7, {0: 999.0, 3: 1.0})),\n",
       " Row(SLA_days=4.32, dept_name_std_cd=SparseVector(6, {3: 1.0}), target=0, features=SparseVector(7, {0: 4.32, 4: 1.0})),\n",
       " Row(SLA_days=4.32, dept_name_std_cd=SparseVector(6, {3: 1.0}), target=0, features=SparseVector(7, {0: 4.32, 4: 1.0})),\n",
       " Row(SLA_days=16.29, dept_name_std_cd=SparseVector(6, {0: 1.0}), target=0, features=SparseVector(7, {0: 16.29, 1: 1.0})),\n",
       " Row(SLA_days=0.13, dept_name_std_cd=SparseVector(6, {2: 1.0}), target=1, features=SparseVector(7, {0: 0.13, 3: 1.0}))]"
      ]
     },
     "execution_count": 19,
     "metadata": {},
     "output_type": "execute_result"
    }
   ],
   "source": [
    "from pyspark.ml.feature import VectorAssembler\n",
    "assembler = VectorAssembler(inputCols=features, outputCol=\"features\")\n",
    "assembled = assembler.transform(selected)\n",
    "assembled.head(5)"
   ]
  },
  {
   "cell_type": "markdown",
   "metadata": {},
   "source": [
    "- `features` is stored as a `SparseVector`.\n",
    "\n",
    "- Save data for subsequent modules:"
   ]
  },
  {
   "cell_type": "code",
   "execution_count": 20,
   "metadata": {},
   "outputs": [],
   "source": [
    "assembled.write.parquet(\"data/assembled\", mode=\"overwrite\")"
   ]
  },
  {
   "cell_type": "markdown",
   "metadata": {},
   "source": [
    "\n",
    "### Create train and test sets\n",
    "\n",
    "- We will fit our model on the train DataFrame and evaluate our model on the test DataFrame:"
   ]
  },
  {
   "cell_type": "code",
   "execution_count": 21,
   "metadata": {},
   "outputs": [],
   "source": [
    "(train, test) = assembled.randomSplit([0.7, 0.3], 12345)"
   ]
  },
  {
   "cell_type": "markdown",
   "metadata": {},
   "source": [
    "- Weights must be doubles.\n",
    "\n",
    "### Specify a logistic regression model\n",
    "\n",
    "- Use the [LogisticRegression](http://spark.apache.org/docs/latest/api/python/pyspark.ml.html#pyspark.ml.classification.LogisticRegression) class to specify a logistic regression model:"
   ]
  },
  {
   "cell_type": "code",
   "execution_count": 22,
   "metadata": {},
   "outputs": [],
   "source": [
    "from pyspark.ml.classification import LogisticRegression\n",
    "log_reg = LogisticRegression(featuresCol=\"features\", labelCol=\"target\")"
   ]
  },
  {
   "cell_type": "markdown",
   "metadata": {},
   "source": [
    "- Use the `explainParams` method to get a full list of hyperparameters:"
   ]
  },
  {
   "cell_type": "code",
   "execution_count": 23,
   "metadata": {},
   "outputs": [
    {
     "name": "stdout",
     "output_type": "stream",
     "text": [
      "aggregationDepth: suggested depth for treeAggregate (>= 2). (default: 2)\n",
      "elasticNetParam: the ElasticNet mixing parameter, in range [0, 1]. For alpha = 0, the penalty is an L2 penalty. For alpha = 1, it is an L1 penalty. (default: 0.0)\n",
      "family: The name of family which is a description of the label distribution to be used in the model. Supported options: auto, binomial, multinomial (default: auto)\n",
      "featuresCol: features column name. (default: features, current: features)\n",
      "fitIntercept: whether to fit an intercept term. (default: True)\n",
      "labelCol: label column name. (default: label, current: target)\n",
      "lowerBoundsOnCoefficients: The lower bounds on coefficients if fitting under bound constrained optimization. The bound matrix must be compatible with the shape (1, number of features) for binomial regression, or (number of classes, number of features) for multinomial regression. (undefined)\n",
      "lowerBoundsOnIntercepts: The lower bounds on intercepts if fitting under bound constrained optimization. The bounds vector size must beequal with 1 for binomial regression, or the number oflasses for multinomial regression. (undefined)\n",
      "maxIter: max number of iterations (>= 0). (default: 100)\n",
      "predictionCol: prediction column name. (default: prediction)\n",
      "probabilityCol: Column name for predicted class conditional probabilities. Note: Not all models output well-calibrated probability estimates! These probabilities should be treated as confidences, not precise probabilities. (default: probability)\n",
      "rawPredictionCol: raw prediction (a.k.a. confidence) column name. (default: rawPrediction)\n",
      "regParam: regularization parameter (>= 0). (default: 0.0)\n",
      "standardization: whether to standardize the training features before fitting the model. (default: True)\n",
      "threshold: Threshold in binary classification prediction, in range [0, 1]. If threshold and thresholds are both set, they must match.e.g. if threshold is p, then thresholds must be equal to [1-p, p]. (default: 0.5)\n",
      "thresholds: Thresholds in multi-class classification to adjust the probability of predicting each class. Array must have length equal to the number of classes, with values > 0, excepting that at most one value may be 0. The class with largest value p/t is predicted, where p is the original probability of that class and t is the class's threshold. (undefined)\n",
      "tol: the convergence tolerance for iterative algorithms (>= 0). (default: 1e-06)\n",
      "upperBoundsOnCoefficients: The upper bounds on coefficients if fitting under bound constrained optimization. The bound matrix must be compatible with the shape (1, number of features) for binomial regression, or (number of classes, number of features) for multinomial regression. (undefined)\n",
      "upperBoundsOnIntercepts: The upper bounds on intercepts if fitting under bound constrained optimization. The bound vector size must be equal with 1 for binomial regression, or the number of classes for multinomial regression. (undefined)\n",
      "weightCol: weight column name. If this is not set or empty, we treat all instance weights as 1.0. (undefined)\n"
     ]
    }
   ],
   "source": [
    "print(log_reg.explainParams())"
   ]
  },
  {
   "cell_type": "markdown",
   "metadata": {},
   "source": [
    "### Fit the logistic regression model\n",
    "\n",
    "- Use the `fit` method to fit the logistic regression model on the train DataFrame:"
   ]
  },
  {
   "cell_type": "code",
   "execution_count": 24,
   "metadata": {},
   "outputs": [],
   "source": [
    "log_reg_model = log_reg.fit(train)"
   ]
  },
  {
   "cell_type": "markdown",
   "metadata": {},
   "source": [
    "- The result is an instance of the [LogisticRegressionModel](http://spark.apache.org/docs/latest/api/python/pyspark.ml.html#pyspark.ml.classification.LogisticRegressionModel) class:"
   ]
  },
  {
   "cell_type": "code",
   "execution_count": 25,
   "metadata": {},
   "outputs": [
    {
     "data": {
      "text/plain": [
       "pyspark.ml.classification.LogisticRegressionModel"
      ]
     },
     "execution_count": 25,
     "metadata": {},
     "output_type": "execute_result"
    }
   ],
   "source": [
    "type(log_reg_model)"
   ]
  },
  {
   "cell_type": "markdown",
   "metadata": {},
   "source": [
    "### Examine the logistic regression model\n",
    "\n",
    "- The model parameters are stored in the `intercept` and `coefficients` attributes:"
   ]
  },
  {
   "cell_type": "code",
   "execution_count": 26,
   "metadata": {},
   "outputs": [
    {
     "data": {
      "text/plain": [
       "DenseVector([-0.0146, -2.1694, -2.2509, -1.3057, -2.8706, -1.59, -1.7526])"
      ]
     },
     "execution_count": 26,
     "metadata": {},
     "output_type": "execute_result"
    }
   ],
   "source": [
    "log_reg_model.intercept\n",
    "log_reg_model.coefficients"
   ]
  },
  {
   "cell_type": "markdown",
   "metadata": {},
   "source": [
    "- The `summary` attribute is an instance of the [BinaryLogisticRegressionTrainingSummary](http://spark.apache.org/docs/latest/api/python/pyspark.ml.html#pyspark.ml.classification.BinaryLogisticRegressionTrainingSummary) class:"
   ]
  },
  {
   "cell_type": "code",
   "execution_count": 27,
   "metadata": {},
   "outputs": [
    {
     "data": {
      "text/plain": [
       "pyspark.ml.classification.BinaryLogisticRegressionTrainingSummary"
      ]
     },
     "execution_count": 27,
     "metadata": {},
     "output_type": "execute_result"
    }
   ],
   "source": [
    "type(log_reg_model.summary)"
   ]
  },
  {
   "cell_type": "markdown",
   "metadata": {},
   "source": [
    "- We can query the iteration history:"
   ]
  },
  {
   "cell_type": "code",
   "execution_count": 28,
   "metadata": {},
   "outputs": [
    {
     "data": {
      "text/plain": [
       "[0.3399275348221984,\n",
       " 0.3342994176368797,\n",
       " 0.3228812631121635,\n",
       " 0.3210527071380191,\n",
       " 0.3203896369570254,\n",
       " 0.319956797088328,\n",
       " 0.319146036266584,\n",
       " 0.31885294027195354,\n",
       " 0.3180349917850978,\n",
       " 0.31753343383402244,\n",
       " 0.3172778162097364,\n",
       " 0.31724120325185523,\n",
       " 0.31715590692424406,\n",
       " 0.31713909560301856,\n",
       " 0.3171168246611397,\n",
       " 0.31697710890441905,\n",
       " 0.3167657133133853,\n",
       " 0.31646820709982504,\n",
       " 0.31643274533676025,\n",
       " 0.31628010678811647,\n",
       " 0.3162444049789159,\n",
       " 0.3162413487378709,\n",
       " 0.3162413366357778,\n",
       " 0.3162413362193149,\n",
       " 0.316241336191268,\n",
       " 0.3162413361879805,\n",
       " 0.31624133618700767]"
      ]
     },
     "execution_count": 28,
     "metadata": {},
     "output_type": "execute_result"
    }
   ],
   "source": [
    "log_reg_model.summary.totalIterations\n",
    "log_reg_model.summary.objectiveHistory"
   ]
  },
  {
   "cell_type": "markdown",
   "metadata": {},
   "source": [
    "- and plot it too:"
   ]
  },
  {
   "cell_type": "code",
   "execution_count": 29,
   "metadata": {},
   "outputs": [],
   "source": [
    "def plot_iterations(summary):\n",
    "  plt.plot(summary.objectiveHistory)\n",
    "  plt.title(\"Training Summary\")\n",
    "  plt.xlabel(\"Iteration\")\n",
    "  plt.ylabel(\"Objective Function\")\n",
    "  plt.show()"
   ]
  },
  {
   "cell_type": "code",
   "execution_count": 30,
   "metadata": {},
   "outputs": [
    {
     "data": {
      "image/png": "[encoded data removed]",
      "text/plain": [
       "<Figure size 432x288 with 1 Axes>"
      ]
     },
     "metadata": {
      "needs_background": "light"
     },
     "output_type": "display_data"
    }
   ],
   "source": [
    "plot_iterations(log_reg_model.summary)"
   ]
  },
  {
   "cell_type": "markdown",
   "metadata": {},
   "source": [
    "#### The AUC-ROC Curve\n",
    "\n",
    "- AUC: Area Under The Curve\n",
    "- ROC: Receiver Operating Characteristics\n",
    "- TPR: True Positive Rate\n",
    "- FPR: False Positive Rate\n",
    "\n",
    "*AUC - ROC curve is a performance measurement for classification problem at various thresholds settings. ROC is a probability curve and AUC represents degree or measure of separability. It tells how much model is capable of distinguishing between classes. Higher the AUC, better the model is at predicting 0s as 0s and 1s as 1s. For example, the higher the AUC, the better the model is at distinguishing between patients with disease and no disease.  The ROC curve is plotted with TPR against the FPR where TPR is on y-axis and FPR is on the x-axis.* \n",
    "\n",
    "![AUC_ROC.png](AUC_ROC.png)\n",
    "\n",
    "[Understanding AUC-ROC Curve](https://towardsdatascience.com/understanding-auc-roc-curve-68b2303cc9c5)\n",
    "\n",
    "\n",
    "- To query the area under the ROC curve to measure the model's performance:"
   ]
  },
  {
   "cell_type": "code",
   "execution_count": 31,
   "metadata": {},
   "outputs": [
    {
     "data": {
      "text/plain": [
       "0.6708001476259692"
      ]
     },
     "execution_count": 31,
     "metadata": {},
     "output_type": "execute_result"
    }
   ],
   "source": [
    "log_reg_model.summary.areaUnderROC"
   ]
  },
  {
   "cell_type": "markdown",
   "metadata": {},
   "source": [
    "- and plot the ROC curve:"
   ]
  },
  {
   "cell_type": "code",
   "execution_count": 32,
   "metadata": {},
   "outputs": [
    {
     "name": "stdout",
     "output_type": "stream",
     "text": [
      "+--------------------+--------------------+\n",
      "|                 FPR|                 TPR|\n",
      "+--------------------+--------------------+\n",
      "|                 0.0|                 0.0|\n",
      "|7.093342557917628E-4|0.009987981940429403|\n",
      "| 0.09160906159936412| 0.27167310877967976|\n",
      "|  0.0931132388979472| 0.27511612044044564|\n",
      "| 0.09454745446171246| 0.27859161334329424|\n",
      "+--------------------+--------------------+\n",
      "only showing top 5 rows\n",
      "\n"
     ]
    }
   ],
   "source": [
    "log_reg_model.summary.roc.show(5)"
   ]
  },
  {
   "cell_type": "code",
   "execution_count": 33,
   "metadata": {},
   "outputs": [],
   "source": [
    "def plot_roc_curve(summary):\n",
    "  roc_curve = summary.roc.toPandas()\n",
    "  plt.plot(roc_curve[\"FPR\"], roc_curve[\"FPR\"], \"k\")\n",
    "  plt.plot(roc_curve[\"FPR\"], roc_curve[\"TPR\"])\n",
    "  plt.title(\"ROC Area: %s\" % summary.areaUnderROC)\n",
    "  plt.xlabel(\"False Positive Rate\")\n",
    "  plt.ylabel(\"True Positive Rate\")\n",
    "  plt.show()"
   ]
  },
  {
   "cell_type": "code",
   "execution_count": 34,
   "metadata": {},
   "outputs": [
    {
     "data": {
      "image/png": "[encoded data removed]",
      "text/plain": [
       "<Figure size 432x288 with 1 Axes>"
      ]
     },
     "metadata": {
      "needs_background": "light"
     },
     "output_type": "display_data"
    }
   ],
   "source": [
    "plot_roc_curve(log_reg_model.summary)"
   ]
  },
  {
   "cell_type": "markdown",
   "metadata": {},
   "source": [
    "### Evaluate model performance on the test set.\n",
    "\n",
    "- We have been assessing the model performance on the train DataFrame.  We really want to assess it on the test DataFrame.\n",
    "\n",
    "- Method 1: Use the `evaluate` method of the `LogisticRegressionModel` class"
   ]
  },
  {
   "cell_type": "code",
   "execution_count": 35,
   "metadata": {},
   "outputs": [],
   "source": [
    "test_summary = log_reg_model.evaluate(test)"
   ]
  },
  {
   "cell_type": "markdown",
   "metadata": {},
   "source": [
    "- The result is an instance of the [BinaryLogisticRegressionSummary](http://spark.apache.org/docs/latest/api/python/pyspark.ml.html#pyspark.ml.classification.BinaryLogisticRegressionSummary) class:"
   ]
  },
  {
   "cell_type": "code",
   "execution_count": 36,
   "metadata": {},
   "outputs": [
    {
     "data": {
      "text/plain": [
       "pyspark.ml.classification.BinaryLogisticRegressionSummary"
      ]
     },
     "execution_count": 36,
     "metadata": {},
     "output_type": "execute_result"
    }
   ],
   "source": [
    "type(test_summary)"
   ]
  },
  {
   "cell_type": "markdown",
   "metadata": {},
   "source": [
    "- It has attributes similar to those of the `BinaryLogisticRegressionTrainingSummary` class:"
   ]
  },
  {
   "cell_type": "code",
   "execution_count": 37,
   "metadata": {},
   "outputs": [
    {
     "data": {
      "image/png": "[encoded data removed]",
      "text/plain": [
       "<Figure size 432x288 with 1 Axes>"
      ]
     },
     "metadata": {
      "needs_background": "light"
     },
     "output_type": "display_data"
    }
   ],
   "source": [
    "test_summary.areaUnderROC\n",
    "plot_roc_curve(test_summary)"
   ]
  },
  {
   "cell_type": "markdown",
   "metadata": {},
   "source": [
    "- Method 2: Use the `evaluate` method of the [BinaryClassificationEvaluator](http://spark.apache.org/docs/latest/api/python/pyspark.ml.html#pyspark.ml.evaluation.BinaryClassificationEvaluator) class.\n",
    "\n",
    "- Generate predictions on the test DataFrame:"
   ]
  },
  {
   "cell_type": "code",
   "execution_count": 38,
   "metadata": {},
   "outputs": [
    {
     "name": "stdout",
     "output_type": "stream",
     "text": [
      "+--------+----------------+------+--------------------+--------------------+--------------------+----------+\n",
      "|SLA_days|dept_name_std_cd|target|            features|       rawPrediction|         probability|prediction|\n",
      "+--------+----------------+------+--------------------+--------------------+--------------------+----------+\n",
      "|    0.13|   (6,[2],[1.0])|     0|(7,[0,3],[0.13,1.0])|[1.00644630053892...|[0.73232410888562...|       0.0|\n",
      "|    0.13|   (6,[2],[1.0])|     0|(7,[0,3],[0.13,1.0])|[1.00644630053892...|[0.73232410888562...|       0.0|\n",
      "|    0.13|   (6,[2],[1.0])|     0|(7,[0,3],[0.13,1.0])|[1.00644630053892...|[0.73232410888562...|       0.0|\n",
      "|    0.13|   (6,[2],[1.0])|     0|(7,[0,3],[0.13,1.0])|[1.00644630053892...|[0.73232410888562...|       0.0|\n",
      "|    0.13|   (6,[2],[1.0])|     0|(7,[0,3],[0.13,1.0])|[1.00644630053892...|[0.73232410888562...|       0.0|\n",
      "+--------+----------------+------+--------------------+--------------------+--------------------+----------+\n",
      "only showing top 5 rows\n",
      "\n"
     ]
    }
   ],
   "source": [
    "test_with_prediction = log_reg_model.transform(test)\n",
    "test_with_prediction.show(5)"
   ]
  },
  {
   "cell_type": "markdown",
   "metadata": {},
   "source": [
    "- The resulting DataFrame includes three types of predictions.  The `rawPrediction` is a vector of log-odds, `prediction` is a vector or probabilities `prediction` is the predicted class based on the probability vector."
   ]
  },
  {
   "cell_type": "markdown",
   "metadata": {},
   "source": [
    "## Exercises\n",
    "\n",
    "In the exercises we add another feature to the classification model and\n",
    "determine if it improves the model performance.\n",
    "\n",
    "1. Determine if `request_address_zip` is a promising feature.\n",
    "\n",
    "2. Reassemble the feature vector and include `request_address_zip`.\n",
    "\n",
    "3. Create new train and test datasets.\n",
    "\n",
    "4. Refit the logistic regression model on the train dataset.\n",
    "\n",
    "5. Apply the refit logistic model to the test dataset.\n",
    "\n",
    "6. Compute the AUC on the test dataset."
   ]
  },
  {
   "cell_type": "markdown",
   "metadata": {},
   "source": [
    "## References\n",
    "\n",
    "[Spark Documentation - Classification and regression](https://spark.apache.org/docs/latest/ml-classification-regression.html)\n",
    "\n",
    "[Spark Python API - pyspark.ml.feature module](http://spark.apache.org/docs/latest/api/python/pyspark.ml.html#module-pyspark.ml.feature)\n",
    "\n",
    "[Spark Python API - pyspark.ml.classification module](http://spark.apache.org/docs/latest/api/python/pyspark.ml.html#module-pyspark.ml.classification)\n",
    "\n",
    "[Spark Python API - pyspark.ml.evaluation module](http://spark.apache.org/docs/latest/api/python/pyspark.ml.html#module-pyspark.ml.evaluation)"
   ]
  }
 ],
 "metadata": {
  "kernelspec": {
   "display_name": "Python 3",
   "language": "python",
   "name": "python3"
  },
  "language_info": {
   "codemirror_mode": {
    "name": "ipython",
    "version": 3
   },
   "file_extension": ".py",
   "mimetype": "text/x-python",
   "name": "python",
   "nbconvert_exporter": "python",
   "pygments_lexer": "ipython3",
   "version": "3.7.3"
  }
 },
 "nbformat": 4,
 "nbformat_minor": 2
}
