{
 "cells": [
  {
   "cell_type": "markdown",
   "metadata": {},
   "source": [
    "# Statistical Testing\n",
    "\n",
    "## Parametric Statistical Hypothesis Tests\n",
    "\n",
    "\n",
    "1. Estimates  \n",
    "2. Sampling\n",
    "3. Power\n",
    "4. Statistical Tests\n",
    "    1. Normality Tests\n",
    "    2. Correlation Tests\n",
    "    3. **Parametric Statistical Hypothesis Tests**\n",
    "    4. Nonparametric Statistical Hypothesis Tests\n",
    "    \n",
    "    \n"
   ]
  },
  {
   "cell_type": "markdown",
   "metadata": {},
   "source": [
    "## Parametric Statistical Hypothesis Tests\n",
    "Statistical tests to use to compare data samples.\n",
    "\n",
    "### 1. Student’s t-test\n",
    "1. Tests whether the means of two independent samples are significantly different.\n",
    "2. Assumptions\n",
    "    - Observations in each sample are independent and identically distributed (iid).\n",
    "    - Observations in each sample are normally distributed.\n",
    "    - Observations in each sample have the same variance.\n",
    "3. Interpretation\n",
    "    - H0: the means of the samples are equal.\n",
    "    - H1: the means of the samples are unequal.\n",
    "4. Python Code  \n",
    "`from scipy.stats import ttest_ind\n",
    "data1, data2 = ...\n",
    "stat, p = ttest_ind(data1, data2)`\n",
    "\n",
    "### 2. Paired Student’s t-test\n",
    "1. Tests whether the means of two paired samples are significantly different.\n",
    "2. Assumptions\n",
    "    - Observations in each sample are independent and identically distributed (iid).\n",
    "    - Observations in each sample are normally distributed.\n",
    "    - Observations in each sample have the same variance.\n",
    "    - Observations across each sample are paired.\n",
    "3. Interpretation\n",
    "    - H0: the means of the samples are equal.\n",
    "    - H1: the means of the samples are unequal.\n",
    "4. Python Code  \n",
    "`from scipy.stats import ttest_rel\n",
    "data1, data2 = ...\n",
    "stat, p = ttest_rel(data1, data2)`\n",
    "\n",
    "### 3. Analysis of Variance Test (ANOVA)\n",
    "1. Tests whether the means of two or more independent samples are significantly different.\n",
    "2. Assumptions\n",
    "    - Observations in each sample are independent and identically distributed (iid).\n",
    "    - Observations in each sample are normally distributed.\n",
    "    - Observations in each sample have the same variance.\n",
    "3. Interpretation\n",
    "    - H0: the means of the samples are equal.\n",
    "    - H1: one or more of the means of the samples are unequal.\n",
    "4. Python Code  \n",
    "`from scipy.stats import f_oneway\n",
    "data1, data2, ... = ...\n",
    "stat, p = f_oneway(data1, data2, ...)`\n",
    "\n",
    "### 4. Repeated Measures ANOVA Test\n",
    "1. Tests whether the means of two or more paired samples are significantly different.\n",
    "2. Assumptions\n",
    "    - Observations in each sample are independent and identically distributed (iid).\n",
    "    - Observations in each sample are normally distributed.\n",
    "    - Observations in each sample have the same variance.\n",
    "    - Observations across each sample are paired.\n",
    "3. Interpretation\n",
    "    - H0: the means of the samples are equal.\n",
    "    - H1: one or more of the means of the samples are unequal.\n",
    "4. Python Code\n",
    "    - Currently not supported in Python.\n"
   ]
  },
  {
   "cell_type": "code",
   "execution_count": null,
   "metadata": {},
   "outputs": [],
   "source": []
  }
 ],
 "metadata": {
  "kernelspec": {
   "display_name": "Python 3",
   "language": "python",
   "name": "python3"
  },
  "language_info": {
   "codemirror_mode": {
    "name": "ipython",
    "version": 3
   },
   "file_extension": ".py",
   "mimetype": "text/x-python",
   "name": "python",
   "nbconvert_exporter": "python",
   "pygments_lexer": "ipython3",
   "version": "3.6.6"
  }
 },
 "nbformat": 4,
 "nbformat_minor": 2
}
