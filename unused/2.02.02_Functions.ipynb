{
 "cells": [
  {
   "cell_type": "markdown",
   "metadata": {},
   "source": [
    "# PROBABILITY\n",
    "## Proabability Functions\n",
    "\n",
    "1. Rules of Probability \n",
    "2. Probability Distributions\n",
    "3. **Probability Functions**\n",
    "    1. **Cumulative Distribution Function (CDF)**\n",
    "    2. **Survival**\n",
    "    3. **Probability Density Function (PDF)**\n",
    "    4. **Probability Mass Function (PMF)**\n",
    "4. Bayes Rule & Conditional Probability"
   ]
  },
  {
   "cell_type": "code",
   "execution_count": 1,
   "metadata": {},
   "outputs": [],
   "source": [
    "from IPython.display import display, Math, Latex"
   ]
  },
  {
   "cell_type": "markdown",
   "metadata": {},
   "source": [
    "## Probability Functions\n",
    "\n",
    "### 1. Cumulative Distribution Function (CDF):\n",
    "- The probability that $x$ will take a value less than or equal to $X$.\n",
    "- For **continuous variables**, a  this is the $P(x \\leq X)$.  \n",
    "- For ordered **discrete variables** or a  this is the sum of all the probabilities of values $\\leq X$.   \n",
    "\n",
    "\n",
    "*need image*\n",
    "*need example*\n",
    "\n",
    "\n",
    "### 2. Survival: \n",
    "- The complement of the CDF.  \n",
    "- It is the probability that $X$ will take a value greater than $X$.  \n",
    "- $P(x > X)$ or $\\sum_{i=1}^{n} P(x_{i})$  \n",
    "\n",
    "*need image*\n",
    "*need example*\n",
    "\n",
    "\n",
    "### 3. Probability Density Function (PDF):\n",
    "- PDF gives us the probability that an outcome lies within a range.  \n",
    "- For **continuous random variable** whose **integral**, i.e. area under the curve, across an **interval** gives the probability that the value of the variable lies within the same interval.  \n",
    "- Examples of experiments with continuous random variables include:\n",
    "    - BMI\n",
    "    - Intelligence quotient\n",
    "    - Temperature\n",
    "    - Income\n",
    "    - Revenue\n",
    "\n",
    "\n",
    "*need image*\n",
    "*need example*\n",
    "\n",
    "\n",
    "### 4. Probability Mass Function (PMF):\n",
    "- Function of a **discrete probability distribution**\n",
    "- gives the probability that a **discrete random variable** takes a certain value.  \n",
    "- $P(x) \\geq 0$   \n",
    "- $\\sum_{i=1}^{n} P(x_{i}) = 1$    \n",
    "- Example:  Rolling a die:  \n",
    "    - $P(1) + P(2) + P(3) + P(4) + P(5) + P(6) = 1$  \n",
    "    - $P(1) = 1/6$  \n",
    "\n",
    "\n",
    "*need image*\n",
    "*need example*"
   ]
  },
  {
   "cell_type": "code",
   "execution_count": null,
   "metadata": {},
   "outputs": [],
   "source": []
  }
 ],
 "metadata": {
  "kernelspec": {
   "display_name": "Python 3",
   "language": "python",
   "name": "python3"
  },
  "language_info": {
   "codemirror_mode": {
    "name": "ipython",
    "version": 3
   },
   "file_extension": ".py",
   "mimetype": "text/x-python",
   "name": "python",
   "nbconvert_exporter": "python",
   "pygments_lexer": "ipython3",
   "version": "3.6.6"
  }
 },
 "nbformat": 4,
 "nbformat_minor": 2
}
