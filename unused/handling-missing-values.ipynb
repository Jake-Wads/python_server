{
 "cells": [
  {
   "cell_type": "markdown",
   "metadata": {},
   "source": [
    "# Complex Handling of Missing Values\n",
    "\n",
    "Handle all missing values so that you are left with a dataset with no missing values"
   ]
  },
  {
   "cell_type": "code",
   "execution_count": null,
   "metadata": {},
   "outputs": [],
   "source": [
    "import pandas as pd\n",
    "from matplotlib import pyplot as plt\n",
    "import numpy as np\n",
    "import seaborn as sns\n",
    "\n",
    "from IPython.core.interactiveshell import InteractiveShell\n",
    "InteractiveShell.ast_node_interactivity = \"all\"\n",
    "\n",
    "# ignore warnings\n",
    "import warnings\n",
    "warnings.filterwarnings(\"ignore\")"
   ]
  },
  {
   "cell_type": "markdown",
   "metadata": {},
   "source": [
    "some of these records have our target value missing for the purpose of predicting without knowing the actual value, so we will remove those for now. "
   ]
  },
  {
   "cell_type": "code",
   "execution_count": null,
   "metadata": {},
   "outputs": [],
   "source": [
    "df = pd.read_csv('data/titanic.csv')"
   ]
  },
  {
   "cell_type": "code",
   "execution_count": null,
   "metadata": {},
   "outputs": [],
   "source": [
    "# df_na.isnull().sum() / len(df_na) * 100\n",
    "\n",
    "df.isnull().sum() / len(df) * 100"
   ]
  },
  {
   "cell_type": "markdown",
   "metadata": {},
   "source": [
    "**Deck**\n",
    "\n",
    "With 77% missing, there is not much we can get from those. "
   ]
  },
  {
   "cell_type": "code",
   "execution_count": null,
   "metadata": {},
   "outputs": [],
   "source": [
    "# df_na = df_na.drop(['Cabin'], axis=1)\n",
    "# df_na.columns.values\n",
    "\n",
    "df = df.drop(['deck'], axis=1)\n",
    "df.columns.values"
   ]
  },
  {
   "cell_type": "code",
   "execution_count": null,
   "metadata": {},
   "outputs": [],
   "source": [
    "cutoff = 18\n",
    "\n",
    "conditions = [\n",
    "    (df['age'] >= cutoff), # adult\n",
    "    (df['age'] < cutoff), # child\n",
    "]\n",
    "choices = ['False', 'True']\n",
    "df['child'] = np.select(conditions, choices, default='NaN')"
   ]
  },
  {
   "cell_type": "code",
   "execution_count": null,
   "metadata": {},
   "outputs": [],
   "source": [
    "sns.heatmap(df.isnull(), cbar=False, yticklabels=False, cmap='viridis')"
   ]
  },
  {
   "cell_type": "markdown",
   "metadata": {},
   "source": [
    "**Embarked and Embark Town**\n",
    "\n",
    "Due to the limited number of missing values in these two columns, we can just drop the rows. "
   ]
  },
  {
   "cell_type": "code",
   "execution_count": null,
   "metadata": {},
   "outputs": [],
   "source": [
    "df = df[~df.embarked.isnull()]"
   ]
  },
  {
   "cell_type": "markdown",
   "metadata": {},
   "source": [
    "**Age** \n",
    "\n",
    "Now, `age` is the only variable showing missing values.\n",
    "\n",
    "However, we computed `child` from `age` so we must have a filler in there indicating an unknown value that is not being identified as missing.  We will fix that so it is accurately represented first. \n",
    "\n",
    "\n",
    "1. Let's see what value is representing null in `child`"
   ]
  },
  {
   "cell_type": "code",
   "execution_count": null,
   "metadata": {},
   "outputs": [],
   "source": [
    "df.child.value_counts()"
   ]
  },
  {
   "cell_type": "markdown",
   "metadata": {},
   "source": [
    "2. Let's change that value to be a true NaN"
   ]
  },
  {
   "cell_type": "code",
   "execution_count": null,
   "metadata": {},
   "outputs": [],
   "source": [
    "df = df.replace('NaN', np.nan)\n",
    "df.isnull().sum()"
   ]
  },
  {
   "cell_type": "markdown",
   "metadata": {},
   "source": [
    "That looks better!"
   ]
  },
  {
   "cell_type": "markdown",
   "metadata": {},
   "source": [
    "**Imputing age through estimation**\n",
    "\n",
    "1. Estimate `child`\n",
    "\n",
    "    Identify the passenger as more likely to be an adult or child based on finding from hypotheses\n",
    "\n",
    "    - if 'Mrs' then adult\n",
    "    - if parch > 2, then the passenger is an adult with children (as opposed to a child with > 2 parents.)\n",
    "    - if name title is 'Miss' and sibsp > 0, then the passenger is a child given that 'Miss' for an adult would indicate no spouse.\n",
    "    - if sibsp > 1 then the passenger is a child, given that the likelihood of an adult traveling with a spouse and a sibling, only siblings, or having 2 spouses is low.\n",
    "    - if sibsp <= 1 and Parch == 0 then the passenger is an adult, traveling alone or with spouse."
   ]
  },
  {
   "cell_type": "code",
   "execution_count": null,
   "metadata": {},
   "outputs": [],
   "source": [
    "df.head()"
   ]
  },
  {
   "cell_type": "markdown",
   "metadata": {},
   "source": [
    "2. Estimate `age` by taking the median age of the `child` class."
   ]
  },
  {
   "cell_type": "code",
   "execution_count": null,
   "metadata": {},
   "outputs": [],
   "source": [
    "df['Title'] = df_na['Name'].str.extract('([A-Za-z]+)\\.')"
   ]
  },
  {
   "cell_type": "code",
   "execution_count": null,
   "metadata": {},
   "outputs": [],
   "source": [
    "# Compare title with age class\n",
    "pd.crosstab(df_na.Title, df_na.IsChild).style.background_gradient(cmap='YlOrRd')\n",
    "\n",
    "df_na.IsChild.value_counts()"
   ]
  },
  {
   "cell_type": "markdown",
   "metadata": {},
   "source": [
    "##### Takeaways:\n",
    "\n",
    "1. Miss: explore more with Sibsp\n",
    "2. if 'Master' => child\n",
    "3. if all others => adult"
   ]
  },
  {
   "cell_type": "markdown",
   "metadata": {},
   "source": [
    "1. Explore Miss with SibSp"
   ]
  },
  {
   "cell_type": "code",
   "execution_count": null,
   "metadata": {},
   "outputs": [],
   "source": [
    "# Explore Miss with SibSp\n",
    "df_na[df_na.Title=='Miss'].groupby(['SibSp','IsChild'])['Age'].agg(['count', 'mean', 'median'])\n",
    "# pd.crosstab(df_na.SibSp, df_na.IsChild).style.background_gradient(cmap='YlOrRd')"
   ]
  },
  {
   "cell_type": "markdown",
   "metadata": {},
   "source": [
    "#### Conclusion\n",
    "\n",
    "1. if `SibSp > 0 & Title=='Miss'`, then we will estimate a child age\n",
    "2. If `Title == 'Master'`, then we will estimate a child age\n",
    "3. Otherwise we estimate an adult age"
   ]
  },
  {
   "cell_type": "code",
   "execution_count": null,
   "metadata": {},
   "outputs": [],
   "source": [
    "# We will need this for pre-processing\n",
    "def estIsChild(df, ix=0):\n",
    "    if ~df.IsChild.isnull()[ix]:\n",
    "        return df.IsChild[ix]\n",
    "    elif (df.Title[ix]=='Miss' and df.SibSp[ix]>0) or (df.Title[ix]=='Master'):\n",
    "        return 'True'\n",
    "    else:\n",
    "        return 'False'\n",
    "\n",
    "def fillIsChild(df):\n",
    "    isChild = []\n",
    "    for i in range(len(df_na)):\n",
    "        isChild.append(estIsChild(df_na, ix=i))\n",
    "    df['IsChild'] = pd.DataFrame(isChild)\n",
    "    return df    "
   ]
  },
  {
   "cell_type": "code",
   "execution_count": null,
   "metadata": {},
   "outputs": [],
   "source": [
    "df_na = fillIsChild(df_na)"
   ]
  },
  {
   "cell_type": "code",
   "execution_count": null,
   "metadata": {},
   "outputs": [],
   "source": [
    "df_na.isnull().sum()"
   ]
  },
  {
   "cell_type": "markdown",
   "metadata": {},
   "source": [
    "#### 2. Estimate 'Age'"
   ]
  },
  {
   "cell_type": "code",
   "execution_count": null,
   "metadata": {},
   "outputs": [],
   "source": [
    "def impute_age(df):\n",
    "    byChild = df.groupby('IsChild')\n",
    "    df.Age = byChild.Age.transform(lambda x: x.fillna(x.median()))\n",
    "    return df\n",
    "\n",
    "df_na = impute_age(df_na)"
   ]
  },
  {
   "cell_type": "code",
   "execution_count": null,
   "metadata": {},
   "outputs": [],
   "source": [
    "df_na.isnull().sum()"
   ]
  },
  {
   "cell_type": "markdown",
   "metadata": {},
   "source": [
    "### Embarked Missing Values\n",
    "\n",
    "We will impute the new values in pre-processing. \n",
    "\n",
    "For now, we will explore without those values, as the 2 missing values are not siginificant enough to affect our exploration and discoveries. "
   ]
  },
  {
   "cell_type": "markdown",
   "metadata": {},
   "source": [
    "## Needed in Final Model"
   ]
  },
  {
   "cell_type": "code",
   "execution_count": null,
   "metadata": {},
   "outputs": [],
   "source": [
    "# We will need this for pre-processing\n",
    "\n",
    "def extractTitle(df, col, newcol = 'Title'):\n",
    "    df[newcol] = df[col].str.extract('([A-Za-z]+)\\.')\n",
    "    return df\n",
    "\n",
    "def getAgeClass(df, col, newcol = 'IsChild', cutoff = 18):\n",
    "    conditions = [\n",
    "        (df[col] >= cutoff), # adult\n",
    "        (df[col] < cutoff), # child\n",
    "    ]\n",
    "    choices = ['False', 'True']\n",
    "    df[newcol]= np.select(conditions, choices, default='NaN')\n",
    "    return df\n",
    "\n",
    "\n",
    "def estIsChild(df, ix=0):\n",
    "    if ~df.IsChild.isnull()[ix]:\n",
    "        return df.IsChild[ix]\n",
    "    elif (df.Title[ix]=='Miss' and df.SibSp[ix]>0) or (df.Title[ix]=='Master'):\n",
    "        return 'True'\n",
    "    else:\n",
    "        return 'False'\n",
    "\n",
    "def fillIsChild(df):\n",
    "    isChild = []\n",
    "    for i in range(len(df_na)):\n",
    "        isChild.append(estIsChild(df_na, ix=i))\n",
    "    df['IsChild'] = pd.DataFrame(isChild)\n",
    "    return df    \n",
    "\n",
    "def impute_age(df):\n",
    "    byChild = df.groupby('IsChild')\n",
    "    df.Age = byChild.Age.transform(lambda x: x.fillna(x.median()))\n",
    "    return df\n"
   ]
  }
 ],
 "metadata": {
  "kernelspec": {
   "display_name": "Python 3",
   "language": "python",
   "name": "python3"
  },
  "language_info": {
   "codemirror_mode": {
    "name": "ipython",
    "version": 3
   },
   "file_extension": ".py",
   "mimetype": "text/x-python",
   "name": "python",
   "nbconvert_exporter": "python",
   "pygments_lexer": "ipython3",
   "version": "3.6.8"
  },
  "toc": {
   "base_numbering": 1,
   "nav_menu": {},
   "number_sections": false,
   "sideBar": false,
   "skip_h1_title": false,
   "title_cell": "Table of Contents",
   "title_sidebar": "Contents",
   "toc_cell": false,
   "toc_position": {},
   "toc_section_display": false,
   "toc_window_display": false
  }
 },
 "nbformat": 4,
 "nbformat_minor": 2
}
