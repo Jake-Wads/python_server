{
 "cells": [
  {
   "cell_type": "markdown",
   "metadata": {},
   "source": [
    "# Inferential Statistics\n",
    "\n",
    "## Statistical Testing\n",
    "\n",
    "1. Estimates\n",
    "    - Point vs. Interval Estimates\n",
    "    - Standard Error\n",
    "    - Confidence Intervals\n",
    "    - Critical Value\n",
    "2. Sampling\n",
    "    - Sampling Methods\n",
    "    - Bias\n",
    "3. Power\n",
    "    - Significance Level, Power, & Power Analysis\n",
    "4. Statistical Tests\n",
    "    - Normality Tests\n",
    "    - Correlation Tests\n",
    "    - Parametric Statistical Hypothesis Tests\n",
    "    - Nonparametric Statistical Hypothesis Tests\n",
    "________________________\n",
    "other \n",
    "1. A/B Testing\n",
    "2. Bayesian Inference"
   ]
  },
  {
   "cell_type": "markdown",
   "metadata": {},
   "source": [
    "\n",
    "*High level summary of the steps we will walk through:*\n",
    "\n"
   ]
  },
  {
   "cell_type": "markdown",
   "metadata": {},
   "source": [
    "\n",
    "## Hypothesis Testing\n",
    "\n",
    "https://en.wikipedia.org/wiki/Statistical_hypothesis_testing  \n",
    "\"Commonly, two statistical data sets are compared, or a data set obtained by sampling is compared against a synthetic data set from an idealized model. A hypothesis is proposed for the statistical relationship between the two data sets, and this is compared as an alternative to an idealized null hypothesis that proposes no relationship between two data sets. The comparison is deemed statistically significant if the relationship between the data sets would be an unlikely realization of the null hypothesis according to a threshold probability—the significance level. Hypothesis tests are used in determining what outcomes of a study would lead to a rejection of the null hypothesis for a pre-specified level of significance. The process of distinguishing between the null hypothesis and the alternative hypothesis is aided by identifying two conceptual types of errors. The first type occurs when the null hypothesis is falsely rejected. The second type of error occurs when the null hypothesis is falsely assumed to be true (type 1 and type 2 errors). By specifying a threshold probability ('alpha') on, e.g., the admissible risk of making a type 1 error, the statistical decision process can be controlled.\""
   ]
  },
  {
   "cell_type": "code",
   "execution_count": null,
   "metadata": {},
   "outputs": [],
   "source": []
  }
 ],
 "metadata": {
  "kernelspec": {
   "display_name": "Python 3",
   "language": "python",
   "name": "python3"
  },
  "language_info": {
   "codemirror_mode": {
    "name": "ipython",
    "version": 3
   },
   "file_extension": ".py",
   "mimetype": "text/x-python",
   "name": "python",
   "nbconvert_exporter": "python",
   "pygments_lexer": "ipython3",
   "version": "3.6.6"
  }
 },
 "nbformat": 4,
 "nbformat_minor": 2
}
