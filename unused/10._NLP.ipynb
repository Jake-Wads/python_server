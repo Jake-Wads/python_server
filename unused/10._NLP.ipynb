{
 "cells": [
  {
   "cell_type": "markdown",
   "metadata": {},
   "source": [
    "# ABOUT NLP"
   ]
  },
  {
   "cell_type": "markdown",
   "metadata": {},
   "source": [
    "## Summary\n",
    "\n",
    "Natural language processing (not to be mistaken for Neuro Linguistic Processing) is essentially the process of \n",
    "using computers through programming and machine learning techniques, to help understand and make use of large amounts of text data."
   ]
  },
  {
   "cell_type": "markdown",
   "metadata": {},
   "source": [
    "## Use Cases\n",
    "\n",
    "- Voice of Customer Analytics\n",
    "\n",
    "    improve products and services through analysis of customer interactions, such as support emails, social media posts, online comments, telephone transcriptions, e.g., to discover what factors drive the most positive and negative experiences.  e.g. extract key phrases and topics by summarizing blocks of text from open-ended survey responses in order to extract the most important and central ideas that can lead to actionable insights.  (Sentiment Analysis)\n",
    "\n",
    "- Semantic Search\n",
    "\n",
    "    Provide a better search experience by enabling your search engine to index key phrases, entities, and sentiment. This enables you to focus the search on the intent and the context of the articles instead of basic keywords. \n",
    "\n",
    "- Knowledge Management & Discovery\n",
    "\n",
    "    Organize and categorize your documents by topic for easier discovery.  You might want to personalize content recommendations for readers by recommending other articles related to the same topic. Or you might want to ensure the security of documents by closely monitoring those documents containing sensitive materials.  (Topic Modeling)\n",
    "\n",
    "    1. Get the data\n",
    "    2. Display the most important text\n",
    "        - find most important words\n",
    "        - calculate a score for sentences containing important words\n",
    "        - select important sentences\n",
    "    3. Classify the documents using k-means\n",
    "        - cluster the documents based on some common attributes, goal is to maximize intracluster similarity\n",
    "        - Use tf-idf to find important words in a document and represent those documents\n",
    "        - apply K-Means\n",
    "\n",
    "- Create a chat bot to automate the first touch with customers and direct appropriately"
   ]
  },
  {
   "cell_type": "markdown",
   "metadata": {},
   "source": [
    "## Skills\n",
    "\n",
    "- Entities:  Identify the type of entity extracted, such as a person, place or organization using Named Entity.\n",
    "- Stemming: Reduce words to their root, or stem.  \n",
    "- Tokenization:  Break text up into tokens for more advanced processing of the data.\n",
    "- Key phrases: summarize blocks of text to extract the most import and central ideas while ignoring irrelevant information.  \n",
    "- Sentiment:  identify the feeling, opinion, or belief of a statement, from very negative, to neutral, to very positive. \n",
    "- Tagging/Topic Modeling: Get keyword topic tags using LDA (Latent Dirichlet Allocation)"
   ]
  },
  {
   "cell_type": "markdown",
   "metadata": {},
   "source": [
    "## Vocabulary\n",
    "\n",
    "- Entity\n",
    "- Document\n",
    "- Tokenize\n",
    "- Stemming\n",
    "- Lemmatization\n",
    "- Tagging\n",
    "- Sentiment\n",
    "- Chatbot\n",
    "- Topic Modeling: Statistical model for discovering the abstract \"topics\" that occur in a collection of documents. Topic modeling is a frequently used text-mining tool for discovery of hidden semantic structures in a text body."
   ]
  },
  {
   "cell_type": "markdown",
   "metadata": {},
   "source": [
    "## NLP Pipeline\n",
    "\n",
    "![](https://cdn-images-1.medium.com/max/2000/1*BiVCmiQtCBIdBNcaOKjurg.png)"
   ]
  },
  {
   "cell_type": "markdown",
   "metadata": {},
   "source": [
    "## NLP Process\n",
    "\n",
    "1. Processing & Understanding Text\n",
    "1. Feature Engineering & Text Representation\n",
    "1. Supervised Learning Models for Text Data\n",
    "1. Unsupervised Learning Models for Text Data\n",
    "1. Advanced Topics\n",
    "\n",
    "## NLP Skills\n",
    "\n",
    "- Data Retrieval with Web Scraping  \n",
    "- Text wrangling and pre-processing  \n",
    "- Parts of Speech Tagging  \n",
    "- Shallow Parsing  \n",
    "- Constituency and Dependency Parsing  \n",
    "- Named Entity Recognition  \n",
    "-  Emotion and Sentiment Analysis  \n",
    "\n",
    "This should give you a good idea of how to get started with analyzing syntax and semantics in text corpora."
   ]
  },
  {
   "cell_type": "markdown",
   "metadata": {},
   "source": [
    "## Further Reading\n",
    "\n",
    "- https://medium.com/createdd-notes/introduction-to-natural-language-processing-with-python-294988dbae56\n",
    "- https://towardsdatascience.com/a-practitioners-guide-to-natural-language-processing-part-i-processing-understanding-text-9f4abfd13e72"
   ]
  }
 ],
 "metadata": {
  "kernelspec": {
   "display_name": "Python 3",
   "language": "python",
   "name": "python3"
  },
  "language_info": {
   "codemirror_mode": {
    "name": "ipython",
    "version": 3
   },
   "file_extension": ".py",
   "mimetype": "text/x-python",
   "name": "python",
   "nbconvert_exporter": "python",
   "pygments_lexer": "ipython3",
   "version": "3.7.1"
  }
 },
 "nbformat": 4,
 "nbformat_minor": 2
}
