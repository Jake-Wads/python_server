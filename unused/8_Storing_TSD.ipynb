{
 "cells": [
  {
   "cell_type": "markdown",
   "metadata": {},
   "source": [
    "# Collecting & Storing Time Series Data\n",
    "\n",
    "Collection:  data is usally collected continually \n",
    "\n",
    "1. classic flat files\n",
    "    - 1 line per data point, but also S3 buckets, etc.\n",
    "    - organize files depending on frequency or date which helps with random access\n",
    "    - cons: not efficient to filter out metrics (within each time pd)\n",
    "    - cons: if data is not reasonably in order, this will not work well. \n",
    "2. sql database\n",
    "    - put metrics in big table, have an index on timestamp\n",
    "    - cons: big overheadm unless you create a new table periodically, inserts will become much slower.\n",
    "    - pros:  aggregations, groupings, etc.\n",
    "3. cassandra\n",
    "    - good fit for timeseries\n",
    "    - fully ditributed, replicated\n",
    "    - datamodel:  tables with fields stored in key spaces\n",
    "    - partition key controls where data is stored, can be a combination of fields\n",
    "    - clustering keys allow you to do range queries in the order defined and compute aggreations.\n",
    "    - metricid, day are the partition key, timestamp is the clustering key\n",
    "    - value the final field\n",
    "4. elasticsearch\n",
    "    - actually a search engine, stores docs with fields and indices on all fields for fast lookup\n",
    "    - clusters and scales out\n",
    "    - range queries and flexible aggreagation and grouping framework\n",
    "    - use kibana for monitoring, dashboards, etc\n",
    "    - cons:  not optimized for huge write volumes\n",
    "    - configuring for time sereis storage data requires good knowledge of data model.\n",
    "5. spark\n",
    "    - excellent workhorse to process time series data stored in flat files on S3, HDFS etc.\n",
    "    - try to reduce data as quickly as possible, store intermediate results to speed up the process. "
   ]
  }
 ],
 "metadata": {
  "kernelspec": {
   "display_name": "Python 3",
   "language": "python",
   "name": "python3"
  },
  "language_info": {
   "codemirror_mode": {
    "name": "ipython",
    "version": 3
   },
   "file_extension": ".py",
   "mimetype": "text/x-python",
   "name": "python",
   "nbconvert_exporter": "python",
   "pygments_lexer": "ipython3",
   "version": "3.6.8"
  }
 },
 "nbformat": 4,
 "nbformat_minor": 2
}
