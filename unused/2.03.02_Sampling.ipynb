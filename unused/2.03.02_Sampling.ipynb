{
 "cells": [
  {
   "cell_type": "markdown",
   "metadata": {},
   "source": [
    "# Statistical Testing\n",
    "\n",
    "1. Estimates  \n",
    "2. **Sampling**\n",
    "3. Significance Level, Power, & Power Analysis\n",
    "4. Statistical Tests  "
   ]
  },
  {
   "cell_type": "markdown",
   "metadata": {},
   "source": [
    "## Sampling Methods\n",
    "1. Sample Size\n",
    "2. Non-Probability Sampling Methods\n",
    "3. Probability Sampling Methods\n",
    "\n",
    "### 1. Sample Size\n",
    "\n",
    "Power analysis is used to estimate the minimum sample size required for an experiment, given a desired significance level, effect size, and statistical power.\n",
    "\n",
    "### 2. Non-Probability Sampling Methods\n",
    "#### Voluntary sample\n",
    "A voluntary sample is made up of people who self-select into the survey. Often, these folks have a strong interest in the main topic of the survey.  Suppose, for example, that a news show asks viewers to participate in an on-line poll. This would be a volunteer sample. The sample is chosen by the viewers, not by the survey administrator.\n",
    "\n",
    "#### Convenience sample\n",
    "A convenience sample is made up of people who are easy to reach.  Consider the following example. A pollster interviews shoppers at a local mall. If the mall was chosen because it was a convenient site from which to solicit survey participants and/or because it was close to the pollster's home or business, this would be a convenience sample.\n",
    "\n",
    "### 3. Probability Sampling Methods\n",
    "The key benefit of probability sampling methods is that they guarantee that the sample chosen is representative of the population. This ensures that the statistical conclusions will be valid.\n",
    "\n",
    "#### Simple random sampling\n",
    "Simple random sampling refers to any sampling method that has the following properties.\n",
    "The population consists of N objects.\n",
    "The sample consists of n objects.\n",
    "If all possible samples of n objects are equally likely to occur, the sampling method is called simple random sampling.\n",
    "\n",
    "#### Stratified sampling\n",
    "With stratified sampling, the population is divided into groups, based on some characteristic. Then, within each group, a probability sample (often a simple random sample) is selected. In stratified sampling, the groups are called strata.  As a example, suppose we conduct a national survey. We might divide the population into groups or strata, based on geography - north, east, south, and west. Then, within each stratum, we might randomly select survey respondents.\n",
    "\n",
    "#### Cluster sampling\n",
    "With cluster sampling, every member of the population is assigned to one, and only one, group. Each group is called a cluster. A sample of clusters is chosen, using a probability method (often simple random sampling). Only individuals within sampled clusters are surveyed.  Note the difference between cluster sampling and stratified sampling. With stratified sampling, the sample includes elements from each stratum. With cluster sampling, in contrast, the sample includes elements only from sampled clusters.\n",
    "\n",
    "#### Multistage sampling\n",
    "With multistage sampling, we select a sample by using combinations of different sampling methods.\n",
    "For example, in Stage 1, we might use cluster sampling to choose clusters from a population. Then, in Stage 2, we might use simple random sampling to select a subset of elements from each chosen cluster for the final sample.\n",
    "\n",
    "#### Systematic random sampling\n",
    "With systematic random sampling, we create a list of every member of the population. From the list, we randomly select the first sample element from the first k elements on the population list. Thereafter, we select every kth element on the list. This method is different from simple random sampling since every possible sample of n elements is not equally likely.\n",
    "\n",
    "### 4. Replacement - With or Without It"
   ]
  },
  {
   "cell_type": "markdown",
   "metadata": {},
   "source": [
    "## Bias\n",
    "\n",
    "\n",
    "### A. Bias Due to Unrepresentative Samples\n",
    "A good sample is representative, meaning that each sample point represents the attributes of a known number of population elements. **Selection bias** is when the survey sample does not accurately represent the population. \n",
    "\n",
    "#### Undercoverage\n",
    "- When some members of the population are inadequately represented in the sample. \n",
    "- Example:  the Literary Digest voter survey, which predicted that Alfred Landon would beat Franklin Roosevelt in the 1936 presidential election. The survey sample suffered from undercoverage of low-income voters, who tended to be Democrats.  How did this happen? The survey relied on a convenience sample, drawn from telephone directories and car registration lists. In 1936, people who owned cars and telephones tended to be more affluent. Undercoverage is often a problem with convenience samples.\n",
    "\n",
    "#### Nonresponse bias\n",
    "- Results when respondents differ in meaningful ways from nonrespondents. \n",
    "- Example: The Literary Digest survey illustrates this problem. Respondents tended to be Landon supporters; and nonrespondents, Roosevelt supporters. Since only 25% of the sampled voters actually completed the mail-in survey, survey results overestimated voter support for Alfred Landon.  The Literary Digest experience illustrates a common problem with mail surveys. Response rate is often low, making mail surveys vulnerable to nonresponse bias.\n",
    "\n",
    "#### Voluntary response bias\n",
    "- Occurs when sample members are self-selected volunteers, as in voluntary samples. \n",
    "- Example: call-in radio shows that solicit audience participation in surveys on controversial topics (abortion, affirmative action, gun control, etc.). The resulting sample tends to overrepresent individuals who have strong opinions.\n",
    "\n",
    "**Random sampling** is a procedure for sampling from a population in which (a) the selection of a sample unit is based on chance and (b) every element of the population has a known, non-zero probability of being selected. Random sampling helps produce representative samples by eliminating voluntary response bias and guarding against undercoverage bias. All probability sampling methods rely on random sampling.\n",
    "\n",
    "### B. Bias Due to Measurement Error\n",
    "A poor measurement process can also lead to bias. In survey research, the measurement process includes the environment in which the survey is conducted, the way that questions are asked, and the state of the survey respondent.  Response bias refers to the bias that results from problems in the measurement process. \n",
    "\n",
    "#### Leading questions\n",
    "The wording of the question may be loaded in some way to unduly favor one response over another. For example, a satisfaction survey may ask the respondent to indicate where she is satisfied, dissatisfied, or very dissatified. By giving the respondent one response option to express satisfaction and two response options to express dissatisfaction, this survey question is biased toward getting a dissatisfied response.\n",
    "\n",
    "#### Social desirability\n",
    "Most people like to present themselves in a favorable light, so they will be reluctant to admit to unsavory attitudes or illegal activities in a survey, particularly if survey results are not confidential. Instead, their responses may be biased toward what they believe is socially desirable.\n",
    "\n",
    "### C. Sampling Error and Survey Bias\n",
    "A survey produces a sample statistic, which is used to estimate a population parameter. If you repeated a survey many times, using different samples each time, you might get a different sample statistic with each replication. And each of the different sample statistics would be an estimate for the same population parameter.\n",
    "\n",
    "If the statistic is unbiased, the average of all the statistics from all possible samples will equal the true population parameter; even though any individual statistic may differ from the population parameter. The variability among statistics from different samples is called sampling error.\n",
    "\n",
    "Increasing the sample size tends to reduce the sampling error; that is, it makes the sample statistic less variable. However, increasing sample size does not affect survey bias. A large sample size cannot correct for the methodological problems (undercoverage, nonresponse bias, etc.) that produce survey bias. The Literary Digest example discussed above illustrates this point. The sample size was very large. Over 2 million surveys were completed; but the large sample size could not overcome problems with the sample - undercoverage and nonresponse bias."
   ]
  },
  {
   "cell_type": "code",
   "execution_count": null,
   "metadata": {},
   "outputs": [],
   "source": []
  }
 ],
 "metadata": {
  "kernelspec": {
   "display_name": "Python 3",
   "language": "python",
   "name": "python3"
  },
  "language_info": {
   "codemirror_mode": {
    "name": "ipython",
    "version": 3
   },
   "file_extension": ".py",
   "mimetype": "text/x-python",
   "name": "python",
   "nbconvert_exporter": "python",
   "pygments_lexer": "ipython3",
   "version": "3.6.6"
  }
 },
 "nbformat": 4,
 "nbformat_minor": 2
}
