{
 "cells": [
  {
   "cell_type": "markdown",
   "metadata": {},
   "source": [
    "# About Tidy Data\n",
    "\n",
    "The best form for modeling data observations is what is known as the 'Tidy' format. This concept is attributed to Hadley Wickham. Tidy data sets are easy to manipulate, model and visualize. The main idea is to arrange data in a way that each variable is a column and each observation (or case) is a row.[1][2]\n",
    "\n",
    "## Definitions\n",
    "\n",
    "1. variable: measurement or attribute\n",
    "2. unit: the actual measurement\n",
    "3. observation: all values measure on the same unit (e.g. person)\n",
    "\n",
    "## Characteristics\n",
    "\n",
    "Jeff Leek in his book *The Elements of Data Analytic Style* summarizes the characteristics of tidy data as the points:[3]\n",
    "\n",
    "1. Each variable you measure should be in one column.\n",
    "2. Each different observation of that variable should be in a different row.\n",
    "3. There should be one table for each \"kind\" of variable.\n",
    "4. If you have multiple tables, they should include a column in the table that allows them to be linked.\n",
    "\n",
    "References\n",
    "\n",
    "[1] Wickham, Hadley (20 February 2013). \"Tidy Data\" (PDF). Journal of Statistical Software.  \n",
    "[2] Wickham, Hadley. \"Tidy data\" (PDF). Journal of Statistical Software. VV (II).  \n",
    "[3] Jeff Leek, The Elements of Data Analytic Style, Leanpub, 2015-03-02  \n",
    "\n",
    "## Messy datasets  \n",
    "\n",
    "1. column headers are values, not variable names\n",
    "2. multiple variables exist in 1 column\n",
    "3. variables are stored in both rows and columns \n",
    "4. multiple observation units in the same table (e.g. 'per person & family' in same table)\n",
    "5. single observation unit in multiple tables (e.g. 'per person' exists across multiple tables)"
   ]
  },
  {
   "cell_type": "code",
   "execution_count": null,
   "metadata": {},
   "outputs": [],
   "source": []
  }
 ],
 "metadata": {
  "kernelspec": {
   "display_name": "Python 3",
   "language": "python",
   "name": "python3"
  },
  "language_info": {
   "codemirror_mode": {
    "name": "ipython",
    "version": 3
   },
   "file_extension": ".py",
   "mimetype": "text/x-python",
   "name": "python",
   "nbconvert_exporter": "python",
   "pygments_lexer": "ipython3",
   "version": "3.6.6"
  }
 },
 "nbformat": 4,
 "nbformat_minor": 2
}
