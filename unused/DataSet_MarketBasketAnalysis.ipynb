{
 "cells": [
  {
   "cell_type": "markdown",
   "metadata": {},
   "source": [
    "# Mall Customer Segmentation Data\n",
    "## Market Basket Analysis\n",
    "\n",
    "Acknowledgements\n",
    "From Udemy's Machine Learning A-Z course.\n",
    "\n",
    "\n",
    "Content\n",
    "You are owing a supermarket mall and through membership cards , you have some basic data about your customers like Customer ID, age, gender, annual income and spending score. Spending Score is something you assign to the customer based on your defined parameters like customer behavior and purchasing data.\n",
    "\n",
    "Problem Statement You own the mall and want to understand the customers like who can be easily converge [Target Customers] so that the sense can be given to marketing team and plan the strategy accordingly.\n",
    "\n",
    "\n",
    "- Segment customers in order to target them with a marketing strategy.  \n",
    "\n",
    "https://www.kaggle.com/vjchoudhary7/customer-segmentation-tutorial-in-python\n",
    "\n",
    "\n",
    "\n",
    "https://toolbox.google.com/datasetsearch/search?query=Mall%20Customer%20Segmentation%20Data&docid=8vc8Vnn8SnNImsl%2BAAAAAA%3D%3D\n",
    "\n",
    "Mall Customer Segmentation Data\n",
    "Market Basket Analysis\n",
    "Authors\n",
    "Vijay Choudhary\n",
    "License \n",
    "Available download formats from providers\n",
    "ZIP , CSV\n",
    "\n",
    "\n",
    "https://github.com/SteffiPeTaffy/machineLearningAZ/blob/master/Machine%20Learning%20A-Z%20Template%20Folder/Part%204%20-%20Clustering/Section%2025%20-%20Hierarchical%20Clustering/Mall_Customers.csv\n",
    "\n"
   ]
  },
  {
   "cell_type": "code",
   "execution_count": null,
   "metadata": {},
   "outputs": [],
   "source": []
  }
 ],
 "metadata": {
  "kernelspec": {
   "display_name": "Python 3",
   "language": "python",
   "name": "python3"
  },
  "language_info": {
   "codemirror_mode": {
    "name": "ipython",
    "version": 3
   },
   "file_extension": ".py",
   "mimetype": "text/x-python",
   "name": "python",
   "nbconvert_exporter": "python",
   "pygments_lexer": "ipython3",
   "version": "3.6.8"
  }
 },
 "nbformat": 4,
 "nbformat_minor": 2
}
