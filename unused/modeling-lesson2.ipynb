{
 "cells": [
  {
   "cell_type": "markdown",
   "metadata": {},
   "source": [
    "# TSA with Prophet\n",
    "\n",
    "[Prophet](https://facebook.github.io/prophet/) is open source software released by Facebook’s Core Data Science team. It is available for download on CRAN and PyPI.\n",
    "\n",
    "Prophet is a procedure for forecasting time series data based on an additive model where non-linear trends are fit with yearly, weekly, and daily seasonality, plus holiday effects. It works best with time series that have strong seasonal effects and several seasons of historical data. Prophet is robust to missing data and shifts in the trend, and typically handles outliers well. According to Facebook, Prophet is \"robust to outliers, missing data, and dramatic changes in your time series.\"\n",
    "\n",
    "[Documentation](https://facebook.github.io/prophet/docs/quick_start.html)\n",
    "\n",
    "## Prophet Quick Start Guide\n",
    "\n",
    "1. [Install](https://facebook.github.io/prophet/docs/installation.html#python) the module.  \n",
    "\n",
    "    - conda install plotly (or pip install plotly)\n",
    "    - conda install pystan (or pip install pystan)\n",
    "    - conda install -c conda-forge fbprophet (or pip install fbprophet)\n",
    "\n",
    "\n",
    "2. Prepare your data: The data you run the Prophet algorithm on must be in a very specific shape with specific column names.  \n",
    "\n",
    "    - dataframe    \n",
    "    - 2 columns ONLY: `ds` and `y`    \n",
    "    - `ds` is a datestamp column formatted as YYYY-MM-DD (date) or YYYY-MM-DD HH:MM:SS (timestamp)  \n",
    "    - `y` must be numeric and represents the measurement we wish to forecast.   \n",
    "\n",
    "\n",
    "3. Build a Prophet model (similary framework to the ML methods in Scikit-Learn). \n",
    "    \n",
    "    - create an instance of the Prophet class\n",
    "    - fit it to the training sample\n",
    "\n",
    "\n",
    "4. Make predictions. \n",
    "\n",
    "    - Predict with with a single split, by creating a \"future\" dataframe with dates for which we want to make a prediction. \n",
    "    - Use cross_validation methods to predict\n",
    "\n",
    "\n",
    "5. Evaluate predictions."
   ]
  },
  {
   "cell_type": "markdown",
   "metadata": {},
   "source": [
    "**Set up environment**"
   ]
  },
  {
   "cell_type": "code",
   "execution_count": 1,
   "metadata": {},
   "outputs": [],
   "source": [
    "import numpy as np\n",
    "import pandas as pd\n",
    "from datetime import datetime\n",
    "from math import sqrt\n",
    "\n",
    "from fbprophet import Prophet\n",
    "from fbprophet.diagnostics import cross_validation\n",
    "from fbprophet.diagnostics import performance_metrics\n",
    "from fbprophet.plot import plot_cross_validation_metric\n",
    "from fbprophet.plot import plot_forecast_component\n",
    "\n",
    "import warnings\n",
    "warnings.filterwarnings(\"ignore\")\n",
    "\n",
    "import matplotlib.pyplot as plt\n",
    "%matplotlib inline\n",
    "pd.plotting.register_matplotlib_converters()\n",
    "import seaborn as sns"
   ]
  },
  {
   "cell_type": "markdown",
   "metadata": {},
   "source": [
    "## Wrangle\n",
    "\n",
    "In general, we need a **dataframe** with **2 columns**, **ds** (**datetime** datatype) and **y** (a **numeric** datatype), and sorted ascending by **ds**. We then need a dataframe for training.\n",
    "\n",
    "Specifically, `ds` will be the `sale_date`, and `y` will represent dollars_sold = sale_amount * item_price. Our values will be resampled (or aggregated, grouped) by day.\n",
    "\n",
    "To conclude our preparation, we will set the index of the dataframe to be `ds`. This is for splitting the data into train/test and visualizing. Note: before feeding the data into Prophet, we will need to reset that index so that `ds` is not the index, as required by Prophet.  "
   ]
  },
  {
   "cell_type": "code",
   "execution_count": 2,
   "metadata": {},
   "outputs": [],
   "source": [
    "# acquire\n",
    "df = pd.read_csv('store_item_demand.csv')"
   ]
  },
  {
   "cell_type": "markdown",
   "metadata": {},
   "source": [
    "1. create our ds column = sale_date in datetime dtype\n",
    "2. sort by date\n",
    "3. create y = dollars sold = sale_amount x item_price\n",
    "4. aggregate: daily sum of y, daily dollars sold across all stores and items."
   ]
  },
  {
   "cell_type": "code",
   "execution_count": 3,
   "metadata": {},
   "outputs": [],
   "source": [
    "# prep\n",
    "def prep_data(df):\n",
    "    return df.\\\n",
    "        assign(ds=pd.to_datetime(df.sale_date)).\\\n",
    "        sort_values('ds').\\\n",
    "        assign(y=df.sale_amount * df.item_price).\\\n",
    "        groupby(['ds'])['y'].sum().\\\n",
    "        reset_index().\\\n",
    "        set_index('ds')\n",
    "\n",
    "df = prep_data(df)"
   ]
  },
  {
   "cell_type": "markdown",
   "metadata": {},
   "source": [
    "Summarize our data"
   ]
  },
  {
   "cell_type": "code",
   "execution_count": 4,
   "metadata": {},
   "outputs": [
    {
     "name": "stdout",
     "output_type": "stream",
     "text": [
      "(1826, 1)\n"
     ]
    },
    {
     "data": {
      "text/html": [
       "<div>\n",
       "<style scoped>\n",
       "    .dataframe tbody tr th:only-of-type {\n",
       "        vertical-align: middle;\n",
       "    }\n",
       "\n",
       "    .dataframe tbody tr th {\n",
       "        vertical-align: top;\n",
       "    }\n",
       "\n",
       "    .dataframe thead th {\n",
       "        text-align: right;\n",
       "    }\n",
       "</style>\n",
       "<table border=\"1\" class=\"dataframe\">\n",
       "  <thead>\n",
       "    <tr style=\"text-align: right;\">\n",
       "      <th></th>\n",
       "      <th>y</th>\n",
       "    </tr>\n",
       "    <tr>\n",
       "      <th>ds</th>\n",
       "      <th></th>\n",
       "    </tr>\n",
       "  </thead>\n",
       "  <tbody>\n",
       "    <tr>\n",
       "      <th>2013-01-01</th>\n",
       "      <td>73844.01</td>\n",
       "    </tr>\n",
       "    <tr>\n",
       "      <th>2013-01-02</th>\n",
       "      <td>73570.58</td>\n",
       "    </tr>\n",
       "    <tr>\n",
       "      <th>2017-12-30</th>\n",
       "      <td>134903.07</td>\n",
       "    </tr>\n",
       "    <tr>\n",
       "      <th>2017-12-31</th>\n",
       "      <td>140905.74</td>\n",
       "    </tr>\n",
       "  </tbody>\n",
       "</table>\n",
       "</div>"
      ],
      "text/plain": [
       "                    y\n",
       "ds                   \n",
       "2013-01-01   73844.01\n",
       "2013-01-02   73570.58\n",
       "2017-12-30  134903.07\n",
       "2017-12-31  140905.74"
      ]
     },
     "execution_count": 4,
     "metadata": {},
     "output_type": "execute_result"
    }
   ],
   "source": [
    "# number of rows\n",
    "print(df.shape)\n",
    "\n",
    "# First and last 2 rows\n",
    "pd.concat([df.head(2), df.tail(2)])"
   ]
  },
  {
   "cell_type": "markdown",
   "metadata": {},
   "source": [
    "## Split Data"
   ]
  },
  {
   "cell_type": "code",
   "execution_count": 5,
   "metadata": {},
   "outputs": [],
   "source": [
    "train = df[:'2015']\n",
    "validate = df['2016']\n",
    "test = df['2017']"
   ]
  },
  {
   "cell_type": "code",
   "execution_count": 6,
   "metadata": {},
   "outputs": [
    {
     "data": {
      "text/plain": [
       "[<matplotlib.lines.Line2D at 0x7fe6f516e160>]"
      ]
     },
     "execution_count": 6,
     "metadata": {},
     "output_type": "execute_result"
    },
    {
     "data": {
      "image/png": "[encoded data removed]",
      "text/plain": [
       "<Figure size 432x288 with 1 Axes>"
      ]
     },
     "metadata": {
      "needs_background": "light"
     },
     "output_type": "display_data"
    }
   ],
   "source": [
    "# verify train and validate dates by plotting\n",
    "plt.plot(train)\n",
    "plt.plot(validate)"
   ]
  },
  {
   "cell_type": "markdown",
   "metadata": {},
   "source": [
    "Verify test dates by looking at dates included, so that we don't accidentally see some future data that may bias our modeling. "
   ]
  },
  {
   "cell_type": "code",
   "execution_count": 7,
   "metadata": {},
   "outputs": [
    {
     "name": "stdout",
     "output_type": "stream",
     "text": [
      "(365, 1)\n"
     ]
    },
    {
     "data": {
      "text/html": [
       "<div>\n",
       "<style scoped>\n",
       "    .dataframe tbody tr th:only-of-type {\n",
       "        vertical-align: middle;\n",
       "    }\n",
       "\n",
       "    .dataframe tbody tr th {\n",
       "        vertical-align: top;\n",
       "    }\n",
       "\n",
       "    .dataframe thead th {\n",
       "        text-align: right;\n",
       "    }\n",
       "</style>\n",
       "<table border=\"1\" class=\"dataframe\">\n",
       "  <thead>\n",
       "    <tr style=\"text-align: right;\">\n",
       "      <th></th>\n",
       "      <th>y</th>\n",
       "    </tr>\n",
       "    <tr>\n",
       "      <th>ds</th>\n",
       "      <th></th>\n",
       "    </tr>\n",
       "  </thead>\n",
       "  <tbody>\n",
       "    <tr>\n",
       "      <th>2017-01-01</th>\n",
       "      <td>127262.71</td>\n",
       "    </tr>\n",
       "    <tr>\n",
       "      <th>2017-01-02</th>\n",
       "      <td>85329.98</td>\n",
       "    </tr>\n",
       "    <tr>\n",
       "      <th>2017-12-30</th>\n",
       "      <td>134903.07</td>\n",
       "    </tr>\n",
       "    <tr>\n",
       "      <th>2017-12-31</th>\n",
       "      <td>140905.74</td>\n",
       "    </tr>\n",
       "  </tbody>\n",
       "</table>\n",
       "</div>"
      ],
      "text/plain": [
       "                    y\n",
       "ds                   \n",
       "2017-01-01  127262.71\n",
       "2017-01-02   85329.98\n",
       "2017-12-30  134903.07\n",
       "2017-12-31  140905.74"
      ]
     },
     "execution_count": 7,
     "metadata": {},
     "output_type": "execute_result"
    }
   ],
   "source": [
    "print(test.shape)\n",
    "pd.concat([test.head(2), test.tail(2)])"
   ]
  },
  {
   "cell_type": "markdown",
   "metadata": {},
   "source": [
    "## Fit a Prophet Model\n",
    "\n",
    "**Useful Hyperparameters** \n",
    "\n",
    "- Daily Seasonality: True/False    \n",
    "- Growth Max: When forecasting growth, there is usually some maximum achievable point, e.g. total market size, total population size, etc. This is called the carrying capacity, and the forecast should saturate at this point. Prophet allows you to make forecasts using a logistic growth trend model, with a specified carrying capacity.    \n",
    "- Saturating Min: The logistic growth model can also handle a saturating minimum, which is specified with a column floor in the same way as the cap column specifies the maximum.  \n",
    "- Holidays: \n",
    "> Create a dataframe (2 columns: holiday, ds) for holidays or other recurring events to be modeled. We can also use the conventient Prophet function `add_country_holidays()` to set holidays. If you are creating a custom holidays dataframe, it must include the dates of all occurrences of the holiday beginning as far as the historical data go and continuing forward as far as the forecast is being made. `lower_window` and `upper_window` will extend the holiday out to [lower_window, upper_window] days around the date. For instance, if you wanted to include Christmas Eve in addition to Christmas you’d include lower_window=-1,upper_window=0."
   ]
  },
  {
   "cell_type": "code",
   "execution_count": 8,
   "metadata": {},
   "outputs": [
    {
     "data": {
      "text/html": [
       "<div>\n",
       "<style scoped>\n",
       "    .dataframe tbody tr th:only-of-type {\n",
       "        vertical-align: middle;\n",
       "    }\n",
       "\n",
       "    .dataframe tbody tr th {\n",
       "        vertical-align: top;\n",
       "    }\n",
       "\n",
       "    .dataframe thead th {\n",
       "        text-align: right;\n",
       "    }\n",
       "</style>\n",
       "<table border=\"1\" class=\"dataframe\">\n",
       "  <thead>\n",
       "    <tr style=\"text-align: right;\">\n",
       "      <th></th>\n",
       "      <th>ds</th>\n",
       "      <th>y</th>\n",
       "      <th>cap</th>\n",
       "      <th>floor</th>\n",
       "    </tr>\n",
       "  </thead>\n",
       "  <tbody>\n",
       "    <tr>\n",
       "      <th>0</th>\n",
       "      <td>2013-01-01</td>\n",
       "      <td>73844.01</td>\n",
       "      <td>250000</td>\n",
       "      <td>25000</td>\n",
       "    </tr>\n",
       "    <tr>\n",
       "      <th>1</th>\n",
       "      <td>2013-01-02</td>\n",
       "      <td>73570.58</td>\n",
       "      <td>250000</td>\n",
       "      <td>25000</td>\n",
       "    </tr>\n",
       "  </tbody>\n",
       "</table>\n",
       "</div>"
      ],
      "text/plain": [
       "          ds         y     cap  floor\n",
       "0 2013-01-01  73844.01  250000  25000\n",
       "1 2013-01-02  73570.58  250000  25000"
      ]
     },
     "execution_count": 8,
     "metadata": {},
     "output_type": "execute_result"
    }
   ],
   "source": [
    "# to use the growth max and saturating min, we add 2 columns, one for each...\n",
    "# 'cap' and 'floor' with the respective values\n",
    "train['cap'] = 250000\n",
    "train['floor'] = 25000\n",
    "\n",
    "# reset index as prophet needs ds to be a column and not an index. \n",
    "train = train.reset_index()\n",
    "validate = validate.reset_index()\n",
    "test = test.reset_index()\n",
    "\n",
    "train.head(2)"
   ]
  },
  {
   "cell_type": "markdown",
   "metadata": {},
   "source": [
    "- Daily seasonality = True\n",
    "- Growth = Logistic (so it won't continue upward or downward indefinitely)\n",
    "- Changepoint Range = .9\n",
    "- Holidays = US holidays"
   ]
  },
  {
   "cell_type": "code",
   "execution_count": 10,
   "metadata": {},
   "outputs": [
    {
     "name": "stdout",
     "output_type": "stream",
     "text": [
      "0.4\n"
     ]
    }
   ],
   "source": [
    "import fbprophet\n",
    "print(fbprophet.__version__)"
   ]
  },
  {
   "cell_type": "code",
   "execution_count": 11,
   "metadata": {},
   "outputs": [],
   "source": [
    "m = Prophet(daily_seasonality = False,\n",
    "            weekly_seasonality = True,\n",
    "            growth = 'logistic',\n",
    "            changepoint_range = 0.9)\n",
    "# m.add_country_holidays(country_name='US')\n",
    "# m.fit(train)\n",
    "\n",
    "# print(m.train_holiday_names)"
   ]
  },
  {
   "cell_type": "markdown",
   "metadata": {},
   "source": [
    "## Predict\n",
    "\n",
    "Two ways to predict:   \n",
    "\n",
    "1. create a `future` dataframe and create predictions for those dates. (This is basically your test dataframe)\n",
    "2. use [Prophet's cross validation](https://facebook.github.io/prophet/docs/diagnostics.html) method to predict.  \n",
    "\n",
    "### Using Future DataFrame\n",
    "\n",
    "For making predictions with a Prophet model, we will use the Prophet function make_future_dataframe(). The argument we will provide is `periods`, the number of periods to make a prediction. In this case, our sampling frequency is daily, so our periods will be in terms of days. The make_future_dataframes() function, by default, will also include the dates from the original training dataset. We will also want our cap and floor included in the future dataframe. "
   ]
  },
  {
   "cell_type": "code",
   "execution_count": 12,
   "metadata": {},
   "outputs": [
    {
     "ename": "Exception",
     "evalue": "Model must be fit before this can be used.",
     "output_type": "error",
     "traceback": [
      "\u001b[0;31m---------------------------------------------------------------------------\u001b[0m",
      "\u001b[0;31mException\u001b[0m                                 Traceback (most recent call last)",
      "\u001b[0;32m<ipython-input-12-e6f808a478f4>\u001b[0m in \u001b[0;36m<module>\u001b[0;34m\u001b[0m\n\u001b[0;32m----> 1\u001b[0;31m \u001b[0mfuture\u001b[0m \u001b[0;34m=\u001b[0m \u001b[0mm\u001b[0m\u001b[0;34m.\u001b[0m\u001b[0mmake_future_dataframe\u001b[0m\u001b[0;34m(\u001b[0m\u001b[0mperiods\u001b[0m \u001b[0;34m=\u001b[0m \u001b[0mlen\u001b[0m\u001b[0;34m(\u001b[0m\u001b[0mvalidate\u001b[0m\u001b[0;34m)\u001b[0m\u001b[0;34m)\u001b[0m\u001b[0;34m\u001b[0m\u001b[0;34m\u001b[0m\u001b[0m\n\u001b[0m\u001b[1;32m      2\u001b[0m \u001b[0mfuture\u001b[0m\u001b[0;34m[\u001b[0m\u001b[0;34m'cap'\u001b[0m\u001b[0;34m]\u001b[0m \u001b[0;34m=\u001b[0m \u001b[0;36m250000\u001b[0m\u001b[0;34m\u001b[0m\u001b[0;34m\u001b[0m\u001b[0m\n\u001b[1;32m      3\u001b[0m \u001b[0mfuture\u001b[0m\u001b[0;34m[\u001b[0m\u001b[0;34m'floor'\u001b[0m\u001b[0;34m]\u001b[0m \u001b[0;34m=\u001b[0m \u001b[0;36m25000\u001b[0m\u001b[0;34m\u001b[0m\u001b[0;34m\u001b[0m\u001b[0m\n",
      "\u001b[0;32m~/anaconda3/lib/python3.6/site-packages/fbprophet/forecaster.py\u001b[0m in \u001b[0;36mmake_future_dataframe\u001b[0;34m(self, periods, freq, include_history)\u001b[0m\n\u001b[1;32m   1448\u001b[0m         \"\"\"\n\u001b[1;32m   1449\u001b[0m         \u001b[0;32mif\u001b[0m \u001b[0mself\u001b[0m\u001b[0;34m.\u001b[0m\u001b[0mhistory_dates\u001b[0m \u001b[0;32mis\u001b[0m \u001b[0;32mNone\u001b[0m\u001b[0;34m:\u001b[0m\u001b[0;34m\u001b[0m\u001b[0;34m\u001b[0m\u001b[0m\n\u001b[0;32m-> 1450\u001b[0;31m             \u001b[0;32mraise\u001b[0m \u001b[0mException\u001b[0m\u001b[0;34m(\u001b[0m\u001b[0;34m'Model must be fit before this can be used.'\u001b[0m\u001b[0;34m)\u001b[0m\u001b[0;34m\u001b[0m\u001b[0;34m\u001b[0m\u001b[0m\n\u001b[0m\u001b[1;32m   1451\u001b[0m         \u001b[0mlast_date\u001b[0m \u001b[0;34m=\u001b[0m \u001b[0mself\u001b[0m\u001b[0;34m.\u001b[0m\u001b[0mhistory_dates\u001b[0m\u001b[0;34m.\u001b[0m\u001b[0mmax\u001b[0m\u001b[0;34m(\u001b[0m\u001b[0;34m)\u001b[0m\u001b[0;34m\u001b[0m\u001b[0;34m\u001b[0m\u001b[0m\n\u001b[1;32m   1452\u001b[0m         dates = pd.date_range(\n",
      "\u001b[0;31mException\u001b[0m: Model must be fit before this can be used."
     ]
    }
   ],
   "source": [
    "# future = m.make_future_dataframe(periods = len(validate))\n",
    "# future['cap'] = 250000\n",
    "# future['floor'] = 25000"
   ]
  },
  {
   "cell_type": "markdown",
   "metadata": {},
   "source": [
    "The futures dataframe will start with the first date in train and end with the last date in validate. Predictions will be made on all the days, but the model only used values of y up to the last date in train. "
   ]
  },
  {
   "cell_type": "code",
   "execution_count": 11,
   "metadata": {},
   "outputs": [
    {
     "data": {
      "text/html": [
       "<div>\n",
       "<style scoped>\n",
       "    .dataframe tbody tr th:only-of-type {\n",
       "        vertical-align: middle;\n",
       "    }\n",
       "\n",
       "    .dataframe tbody tr th {\n",
       "        vertical-align: top;\n",
       "    }\n",
       "\n",
       "    .dataframe thead th {\n",
       "        text-align: right;\n",
       "    }\n",
       "</style>\n",
       "<table border=\"1\" class=\"dataframe\">\n",
       "  <thead>\n",
       "    <tr style=\"text-align: right;\">\n",
       "      <th></th>\n",
       "      <th>ds</th>\n",
       "      <th>cap</th>\n",
       "      <th>floor</th>\n",
       "    </tr>\n",
       "  </thead>\n",
       "  <tbody>\n",
       "    <tr>\n",
       "      <th>0</th>\n",
       "      <td>2013-01-01</td>\n",
       "      <td>250000</td>\n",
       "      <td>25000</td>\n",
       "    </tr>\n",
       "    <tr>\n",
       "      <th>1</th>\n",
       "      <td>2013-01-02</td>\n",
       "      <td>250000</td>\n",
       "      <td>25000</td>\n",
       "    </tr>\n",
       "    <tr>\n",
       "      <th>1459</th>\n",
       "      <td>2016-12-30</td>\n",
       "      <td>250000</td>\n",
       "      <td>25000</td>\n",
       "    </tr>\n",
       "    <tr>\n",
       "      <th>1460</th>\n",
       "      <td>2016-12-31</td>\n",
       "      <td>250000</td>\n",
       "      <td>25000</td>\n",
       "    </tr>\n",
       "  </tbody>\n",
       "</table>\n",
       "</div>"
      ],
      "text/plain": [
       "             ds     cap  floor\n",
       "0    2013-01-01  250000  25000\n",
       "1    2013-01-02  250000  25000\n",
       "1459 2016-12-30  250000  25000\n",
       "1460 2016-12-31  250000  25000"
      ]
     },
     "execution_count": 11,
     "metadata": {},
     "output_type": "execute_result"
    }
   ],
   "source": [
    "# pd.concat([future.head(2), future.tail(2)])"
   ]
  },
  {
   "cell_type": "markdown",
   "metadata": {},
   "source": [
    "The `predict` method will assign each row in `future` a predicted value, `yhat`. If you pass in historical dates, it will provide an in-sample fit. The `forecast` object that is returned is a new dataframe that includes a column yhat with the forecast, as well as columns for components and uncertainty intervals (`yhat_lower` and `yhat_upper`)"
   ]
  },
  {
   "cell_type": "code",
   "execution_count": 12,
   "metadata": {},
   "outputs": [],
   "source": [
    "# forecast = m.predict(future)"
   ]
  },
  {
   "cell_type": "markdown",
   "metadata": {},
   "source": [
    "Take a look at the columns that are returned. "
   ]
  },
  {
   "cell_type": "code",
   "execution_count": 13,
   "metadata": {},
   "outputs": [],
   "source": [
    "# forecast.columns"
   ]
  },
  {
   "cell_type": "markdown",
   "metadata": {},
   "source": [
    "Take a look at the predictions made on holidays. "
   ]
  },
  {
   "cell_type": "code",
   "execution_count": 14,
   "metadata": {},
   "outputs": [
    {
     "data": {
      "text/html": [
       "<div>\n",
       "<style scoped>\n",
       "    .dataframe tbody tr th:only-of-type {\n",
       "        vertical-align: middle;\n",
       "    }\n",
       "\n",
       "    .dataframe tbody tr th {\n",
       "        vertical-align: top;\n",
       "    }\n",
       "\n",
       "    .dataframe thead th {\n",
       "        text-align: right;\n",
       "    }\n",
       "</style>\n",
       "<table border=\"1\" class=\"dataframe\">\n",
       "  <thead>\n",
       "    <tr style=\"text-align: right;\">\n",
       "      <th></th>\n",
       "      <th>ds</th>\n",
       "      <th>Christmas Day</th>\n",
       "      <th>Thanksgiving</th>\n",
       "      <th>New Year's Day</th>\n",
       "    </tr>\n",
       "  </thead>\n",
       "  <tbody>\n",
       "    <tr>\n",
       "      <th>358</th>\n",
       "      <td>2013-12-25</td>\n",
       "      <td>1490.560679</td>\n",
       "      <td>0.000000</td>\n",
       "      <td>0.00000</td>\n",
       "    </tr>\n",
       "    <tr>\n",
       "      <th>365</th>\n",
       "      <td>2014-01-01</td>\n",
       "      <td>0.000000</td>\n",
       "      <td>0.000000</td>\n",
       "      <td>1758.01848</td>\n",
       "    </tr>\n",
       "    <tr>\n",
       "      <th>695</th>\n",
       "      <td>2014-11-27</td>\n",
       "      <td>0.000000</td>\n",
       "      <td>14048.758686</td>\n",
       "      <td>0.00000</td>\n",
       "    </tr>\n",
       "    <tr>\n",
       "      <th>723</th>\n",
       "      <td>2014-12-25</td>\n",
       "      <td>1490.560679</td>\n",
       "      <td>0.000000</td>\n",
       "      <td>0.00000</td>\n",
       "    </tr>\n",
       "    <tr>\n",
       "      <th>730</th>\n",
       "      <td>2015-01-01</td>\n",
       "      <td>0.000000</td>\n",
       "      <td>0.000000</td>\n",
       "      <td>1758.01848</td>\n",
       "    </tr>\n",
       "    <tr>\n",
       "      <th>1059</th>\n",
       "      <td>2015-11-26</td>\n",
       "      <td>0.000000</td>\n",
       "      <td>14048.758686</td>\n",
       "      <td>0.00000</td>\n",
       "    </tr>\n",
       "    <tr>\n",
       "      <th>1088</th>\n",
       "      <td>2015-12-25</td>\n",
       "      <td>1490.560679</td>\n",
       "      <td>0.000000</td>\n",
       "      <td>0.00000</td>\n",
       "    </tr>\n",
       "    <tr>\n",
       "      <th>1095</th>\n",
       "      <td>2016-01-01</td>\n",
       "      <td>0.000000</td>\n",
       "      <td>0.000000</td>\n",
       "      <td>1758.01848</td>\n",
       "    </tr>\n",
       "    <tr>\n",
       "      <th>1423</th>\n",
       "      <td>2016-11-24</td>\n",
       "      <td>0.000000</td>\n",
       "      <td>14048.758686</td>\n",
       "      <td>0.00000</td>\n",
       "    </tr>\n",
       "    <tr>\n",
       "      <th>1454</th>\n",
       "      <td>2016-12-25</td>\n",
       "      <td>1490.560679</td>\n",
       "      <td>0.000000</td>\n",
       "      <td>0.00000</td>\n",
       "    </tr>\n",
       "  </tbody>\n",
       "</table>\n",
       "</div>"
      ],
      "text/plain": [
       "             ds  Christmas Day  Thanksgiving  New Year's Day\n",
       "358  2013-12-25    1490.560679      0.000000         0.00000\n",
       "365  2014-01-01       0.000000      0.000000      1758.01848\n",
       "695  2014-11-27       0.000000  14048.758686         0.00000\n",
       "723  2014-12-25    1490.560679      0.000000         0.00000\n",
       "730  2015-01-01       0.000000      0.000000      1758.01848\n",
       "1059 2015-11-26       0.000000  14048.758686         0.00000\n",
       "1088 2015-12-25    1490.560679      0.000000         0.00000\n",
       "1095 2016-01-01       0.000000      0.000000      1758.01848\n",
       "1423 2016-11-24       0.000000  14048.758686         0.00000\n",
       "1454 2016-12-25    1490.560679      0.000000         0.00000"
      ]
     },
     "execution_count": 14,
     "metadata": {},
     "output_type": "execute_result"
    }
   ],
   "source": [
    "# select the dates for the holidays listed, and extract the sales predictions during those holidays\n",
    "# forecast[(forecast['Christmas Day'] + \n",
    "#           forecast['Thanksgiving'] + \n",
    "#           forecast[\"New Year's Day\"]).abs() > 0]\\\n",
    "#         [['ds', \n",
    "#           'Christmas Day', \n",
    "#           'Thanksgiving', \n",
    "#           \"New Year's Day\"]][-10:]"
   ]
  },
  {
   "cell_type": "markdown",
   "metadata": {},
   "source": [
    "Peek into the last predictions, including the confidence interval. "
   ]
  },
  {
   "cell_type": "code",
   "execution_count": 14,
   "metadata": {},
   "outputs": [],
   "source": [
    "# forecast[['ds', 'yhat', 'yhat_lower', 'yhat_upper']].tail()"
   ]
  },
  {
   "cell_type": "markdown",
   "metadata": {},
   "source": [
    "**Evaluate**\n",
    "\n",
    "We can evaluate by compute the RMSE.  "
   ]
  },
  {
   "cell_type": "code",
   "execution_count": 15,
   "metadata": {},
   "outputs": [],
   "source": [
    "# from sklearn.metrics import mean_squared_error\n",
    "\n",
    "# eval_df = pd.merge(df, forecast[['ds', 'yhat']], how = 'inner', on = 'ds')\n",
    "\n",
    "# rmse = sqrt(mean_squared_error(eval_df.y, eval_df.yhat))\n",
    "# rmse"
   ]
  },
  {
   "cell_type": "markdown",
   "metadata": {},
   "source": [
    "**Visualize Predictions**"
   ]
  },
  {
   "cell_type": "code",
   "execution_count": 16,
   "metadata": {},
   "outputs": [],
   "source": [
    "# fig1 = m.plot(forecast)"
   ]
  },
  {
   "cell_type": "markdown",
   "metadata": {},
   "source": [
    "To see the forecast components, we can call Prophet.plot_components(). By default we'll see the trend, yearly seasonality, and weekly seasonality of the time series. We can opt to include holidays, also."
   ]
  },
  {
   "cell_type": "code",
   "execution_count": 17,
   "metadata": {},
   "outputs": [],
   "source": [
    "# fig2 = m.plot_components(forecast, 'holidays')"
   ]
  },
  {
   "cell_type": "markdown",
   "metadata": {},
   "source": [
    "### Using Cross Validation\n",
    "\n",
    "Use the cross_validation() function on the model and specify the forecast horizon with the horizon parameter. "
   ]
  },
  {
   "cell_type": "code",
   "execution_count": 18,
   "metadata": {},
   "outputs": [],
   "source": [
    "# format for initial, period and horizon should be in format \n",
    "# used by pandas timedelta, which accepts units of days or shorter. \n",
    "\n",
    "# df_cv = cross_validation(m, \n",
    "#                          initial = '730 days', \n",
    "#                          period = '90 days', \n",
    "#                          horizon = '180 days', \n",
    "#                         )\n",
    "# df_cv.head()"
   ]
  },
  {
   "cell_type": "markdown",
   "metadata": {},
   "source": [
    "**What are the cutoff dates?**\n",
    "\n",
    "You will see there are 3 cutoff dates, with 180 observations related to each. The cutoff date respresents the last day of the observation period and the 180 days are the 180 horizon days that follow that cutoff date. Cutoff date 2 will be 90 days (i.e. the \"period\" parameter) beyond cutoff date 1. \n"
   ]
  },
  {
   "cell_type": "code",
   "execution_count": 19,
   "metadata": {},
   "outputs": [],
   "source": [
    "# df_cv.cutoff.value_counts()"
   ]
  },
  {
   "cell_type": "markdown",
   "metadata": {},
   "source": [
    "**Evaluate**"
   ]
  },
  {
   "cell_type": "code",
   "execution_count": 20,
   "metadata": {},
   "outputs": [],
   "source": [
    "# df_p = performance_metrics(df_cv)\n",
    "# df_p.head(5)"
   ]
  },
  {
   "cell_type": "code",
   "execution_count": 21,
   "metadata": {},
   "outputs": [],
   "source": [
    "# df_p[df_p.horizon == \"60 days\"]"
   ]
  },
  {
   "cell_type": "markdown",
   "metadata": {},
   "source": [
    "**Visualize**  \n",
    "\n",
    "We can also plot the Mean Absolute Percent Error (MAPE) over the forecast horizon to determine whether our forecast is trustworthy. Here, we use a percentage error instead of the Mean Squared Error (MSE), simply because it is easier to interpret."
   ]
  },
  {
   "cell_type": "code",
   "execution_count": 22,
   "metadata": {},
   "outputs": [],
   "source": [
    "# plot_forecast_component(m, forecast, 'yhat')"
   ]
  },
  {
   "cell_type": "code",
   "execution_count": 23,
   "metadata": {},
   "outputs": [],
   "source": [
    "# fig3 = plot_cross_validation_metric(df_cv, metric='rmse')"
   ]
  },
  {
   "cell_type": "code",
   "execution_count": 24,
   "metadata": {},
   "outputs": [],
   "source": [
    "# fig3 = plot_cross_validation_metric(df_cv, metric='mape')"
   ]
  },
  {
   "cell_type": "markdown",
   "metadata": {},
   "source": [
    "The blue line represents the metric. \n",
    "In the case of MAPE, the mean is taken over a rolling window of the dots. Here, we are erroring around 5% pretty consistently across the horizon. We can change the size of the rollling window with the arguement rolling_window, which specifies the proportion of forecasts to use in each rolling window. The default is .1, or 10% of the rows from df_cv. A larger rolling window will create a smoother curve. "
   ]
  }
 ],
 "metadata": {
  "kernelspec": {
   "display_name": "Python 3",
   "language": "python",
   "name": "python3"
  },
  "language_info": {
   "codemirror_mode": {
    "name": "ipython",
    "version": 3
   },
   "file_extension": ".py",
   "mimetype": "text/x-python",
   "name": "python",
   "nbconvert_exporter": "python",
   "pygments_lexer": "ipython3",
   "version": "3.6.8"
  }
 },
 "nbformat": 4,
 "nbformat_minor": 2
}
