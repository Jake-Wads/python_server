{
 "cells": [
  {
   "cell_type": "code",
   "execution_count": null,
   "metadata": {},
   "outputs": [],
   "source": [
    "# MIT License\n",
    "# \n",
    "# Copyright (c) 2018 Michael DeFelice\n",
    "# \n",
    "# Permission is hereby granted, free of charge, to any person obtaining a copy\n",
    "# of this software and associated documentation files (the \"Software\"), to deal\n",
    "# in the Software without restriction, including without limitation the rights\n",
    "# to use, copy, modify, merge, publish, distribute, sublicense, and/or sell\n",
    "# copies of the Software, and to permit persons to whom the Software is\n",
    "# furnished to do so, subject to the following conditions:\n",
    "# \n",
    "# The above copyright notice and this permission notice shall be included in all\n",
    "# copies or substantial portions of the Software.\n",
    "# \n",
    "# THE SOFTWARE IS PROVIDED \"AS IS\", WITHOUT WARRANTY OF ANY KIND, EXPRESS OR\n",
    "# IMPLIED, INCLUDING BUT NOT LIMITED TO THE WARRANTIES OF MERCHANTABILITY,\n",
    "# FITNESS FOR A PARTICULAR PURPOSE AND NONINFRINGEMENT. IN NO EVENT SHALL THE\n",
    "# AUTHORS OR COPYRIGHT HOLDERS BE LIABLE FOR ANY CLAIM, DAMAGES OR OTHER\n",
    "# LIABILITY, WHETHER IN AN ACTION OF CONTRACT, TORT OR OTHERWISE, ARISING FROM,\n",
    "# OUT OF OR IN CONNECTION WITH THE SOFTWARE OR THE USE OR OTHER DEALINGS IN THE\n",
    "# SOFTWARE.\n",
    "\n",
    "import numpy as np, pandas as pd\n",
    "import matplotlib.pyplot as plt\n",
    "\n",
    "# ignore warnings\n",
    "import warnings\n",
    "warnings.filterwarnings(\"ignore\")\n",
    "\n",
    "plt.style.use ('ggplot')"
   ]
  },
  {
   "cell_type": "markdown",
   "metadata": {},
   "source": [
    "#### Subscription Prices:\n",
    "Note the first at 0 is a free trial ... As upgrades are considered advancing through this array, please ensure the pricing increases throughout the list."
   ]
  },
  {
   "cell_type": "code",
   "execution_count": null,
   "metadata": {},
   "outputs": [],
   "source": [
    "subscription_prices     = [0,    5,    10,   15,   20  ]"
   ]
  },
  {
   "cell_type": "markdown",
   "metadata": {},
   "source": [
    "#### Subscription Probabilities\n",
    "These need to sum to 1"
   ]
  },
  {
   "cell_type": "code",
   "execution_count": null,
   "metadata": {},
   "outputs": [],
   "source": [
    "subscription_pvals      = [0.80, 0.10, 0.06, 0.02, 0.02]\n",
    "sub_n = len (subscription_pvals)\n",
    "sub_n"
   ]
  },
  {
   "cell_type": "markdown",
   "metadata": {},
   "source": [
    "#### History Time Frame"
   ]
  },
  {
   "cell_type": "code",
   "execution_count": null,
   "metadata": {},
   "outputs": [],
   "source": [
    "start_date = '2014-01-01'\n",
    "periods = 48"
   ]
  },
  {
   "cell_type": "markdown",
   "metadata": {},
   "source": [
    "#### Set Parameters Random Data Generation\n",
    "\n",
    "We may want to tweak these: \n",
    "\n",
    "- start number of subscriptions\n",
    "- monthly upgrade percent\n",
    "- monthly downgrade percent\n",
    "- monthly new subscriptions\n",
    "- monthly churn percent"
   ]
  },
  {
   "cell_type": "code",
   "execution_count": null,
   "metadata": {},
   "outputs": [],
   "source": [
    "start_n = 20000\n",
    "upgrade_p = 0.02\n",
    "downgrade_p = 0.02\n",
    "new_n = 200\n",
    "churn_p = 0.02"
   ]
  },
  {
   "cell_type": "markdown",
   "metadata": {},
   "source": [
    "#### Initial Subscriptions"
   ]
  },
  {
   "cell_type": "code",
   "execution_count": null,
   "metadata": {},
   "outputs": [],
   "source": [
    "df = pd.DataFrame (index = range (start_n), columns = range (periods))\n",
    "df.iloc[:, 0] = np.random.multinomial (1, subscription_pvals, start_n).argmax (axis = 1)\n",
    "\n",
    "df.iloc[:, 0].value_counts()"
   ]
  },
  {
   "cell_type": "markdown",
   "metadata": {},
   "source": [
    "#### New Subscriptions"
   ]
  },
  {
   "cell_type": "code",
   "execution_count": null,
   "metadata": {},
   "outputs": [],
   "source": [
    "for _ in range (1, periods):\n",
    "  subscriptions = np.random.multinomial (1, subscription_pvals, new_n).argmax (axis = 1)\n",
    "  df = pd.concat ([df,\n",
    "                   pd.DataFrame (subscriptions, columns = [_]),\n",
    "                  ], axis = 0)"
   ]
  },
  {
   "cell_type": "code",
   "execution_count": null,
   "metadata": {},
   "outputs": [],
   "source": [
    "# for i in df.columns.values:\n",
    "#    print(df.iloc[:, i].value_counts())"
   ]
  },
  {
   "cell_type": "code",
   "execution_count": null,
   "metadata": {},
   "outputs": [],
   "source": [
    "# Reindex\n",
    "df = df.reset_index (drop = True)"
   ]
  },
  {
   "cell_type": "markdown",
   "metadata": {},
   "source": [
    "#### Upgrades and Downgrades"
   ]
  },
  {
   "cell_type": "code",
   "execution_count": null,
   "metadata": {},
   "outputs": [],
   "source": [
    "# Upgrades & downgrades\n",
    "for _ in range (1, periods):\n",
    "  df.iloc[:, _].update (df.iloc[:, _ - 1].dropna ())\n",
    "  upgrade_candidates = df.iloc[:, _].dropna ()\n",
    "  upgrade_candidates = upgrade_candidates[upgrade_candidates < sub_n - 1]\n",
    "  upgrades = upgrade_candidates.sample (frac = upgrade_p)\n",
    "  upgrades += 1\n",
    "  df.iloc[:, _].update (upgrades)\n",
    "  downgrade_candidates = df[~df.index.isin (upgrades.index)].iloc[:, _].dropna ()\n",
    "  downgrade_candidates = downgrade_candidates[downgrade_candidates > 0]\n",
    "  downgrades = downgrade_candidates.sample (frac = downgrade_p)\n",
    "  downgrades -= 1\n",
    "  df.iloc[:, _].update (downgrades)"
   ]
  },
  {
   "cell_type": "code",
   "execution_count": null,
   "metadata": {},
   "outputs": [],
   "source": [
    "df.head()"
   ]
  },
  {
   "cell_type": "markdown",
   "metadata": {},
   "source": [
    "#### Churn"
   ]
  },
  {
   "cell_type": "code",
   "execution_count": null,
   "metadata": {},
   "outputs": [],
   "source": [
    "for _ in range (1, periods):\n",
    "  churn_candidates = df.iloc[:, _ - 1].dropna ()\n",
    "  churn = churn_candidates.sample (frac = churn_p)\n",
    "  churn = pd.DataFrame (index = churn.index, columns = range (_, periods))\n",
    "  churn = churn.fillna (-1)\n",
    "  df.update (churn)"
   ]
  },
  {
   "cell_type": "code",
   "execution_count": null,
   "metadata": {},
   "outputs": [],
   "source": [
    "print(df.iloc[: ,0].value_counts())\n",
    "print(df.iloc[: ,47].value_counts())"
   ]
  },
  {
   "cell_type": "markdown",
   "metadata": {},
   "source": [
    "#### Add invoice date (column names) and customer id (row names)"
   ]
  },
  {
   "cell_type": "code",
   "execution_count": null,
   "metadata": {},
   "outputs": [],
   "source": [
    "df = df.replace (-1, np.nan)\n",
    "df.columns = pd.DatetimeIndex (start = start_date, periods = periods, freq = 'M')\n",
    "df.columns.name = 'Month_Invoiced'\n",
    "df.index.name = 'Customer_Id'\n",
    "df.index += 1000000"
   ]
  },
  {
   "cell_type": "code",
   "execution_count": null,
   "metadata": {},
   "outputs": [],
   "source": [
    "df.head()"
   ]
  },
  {
   "cell_type": "markdown",
   "metadata": {},
   "source": [
    "#### Add MRR"
   ]
  },
  {
   "cell_type": "code",
   "execution_count": null,
   "metadata": {},
   "outputs": [],
   "source": [
    "cust_mrr = df.applymap (lambda a: subscription_prices[int (a)] if a >= 0 else a)"
   ]
  },
  {
   "cell_type": "code",
   "execution_count": null,
   "metadata": {},
   "outputs": [],
   "source": [
    "cust_mrr.tail()"
   ]
  },
  {
   "cell_type": "code",
   "execution_count": null,
   "metadata": {},
   "outputs": [],
   "source": [
    "cust_invoice = pd.concat ([\n",
    "  df.unstack ().rename ('Subscription_Type'),\n",
    "  cust_mrr.unstack ().rename ('Amount'),\n",
    "], axis = 1).dropna ()"
   ]
  },
  {
   "cell_type": "code",
   "execution_count": null,
   "metadata": {},
   "outputs": [],
   "source": [
    "cust_invoice.head()"
   ]
  },
  {
   "cell_type": "code",
   "execution_count": null,
   "metadata": {},
   "outputs": [],
   "source": [
    "# For better presentation, customer ids start at 1,000,000 and invoice ids at 5,000,000\n",
    "cust_invoice.insert (0, 'Invoice_Id', range (5000000, 5000000 + cust_invoice.shape[0]))\n",
    "cust_invoice = cust_invoice.reset_index ()"
   ]
  },
  {
   "cell_type": "code",
   "execution_count": null,
   "metadata": {},
   "outputs": [],
   "source": [
    "cust_invoice.head()"
   ]
  },
  {
   "cell_type": "code",
   "execution_count": null,
   "metadata": {},
   "outputs": [],
   "source": [
    "# Do stuff now with cust_invoice\n",
    "# ...\n",
    "\n",
    "# Example Plot\n",
    "fig, ax = plt.subplots (1, 1, figsize = (11, 8.5))\n",
    "cust_invoice.groupby (['Month_Invoiced']).agg ({'Amount': np.sum,}).plot (ax = ax, kind = 'line', legend = False, title = 'Total MRR')\n",
    "plt.show ()\n",
    "plt.close ('all')"
   ]
  },
  {
   "cell_type": "markdown",
   "metadata": {},
   "source": [
    "#### Create a DataFrame with Signup Date"
   ]
  },
  {
   "cell_type": "code",
   "execution_count": null,
   "metadata": {},
   "outputs": [],
   "source": [
    "cust_signup = cust_invoice.groupby('Customer_Id')['Month_Invoiced'].min().reset_index()\n",
    "cust_signup = cust_signup.rename({'Month_Invoiced': 'Signup_Month'}, axis='columns')"
   ]
  },
  {
   "cell_type": "markdown",
   "metadata": {},
   "source": [
    "#### Create a DataFrame with Churn Date"
   ]
  },
  {
   "cell_type": "code",
   "execution_count": null,
   "metadata": {},
   "outputs": [],
   "source": [
    "cust_churn = cust_invoice.groupby('Customer_Id')['Month_Invoiced'].max().reset_index()\n",
    "cust_churn = cust_churn.rename({'Month_Invoiced': 'Churn_Month'}, axis='columns')\n",
    "cust_churn = cust_churn[cust_churn['Churn_Month'] != '2017-12-31']"
   ]
  },
  {
   "cell_type": "markdown",
   "metadata": {},
   "source": [
    "#### Subscription Services DataFrame"
   ]
  },
  {
   "cell_type": "code",
   "execution_count": null,
   "metadata": {},
   "outputs": [],
   "source": [
    "d = {'subscription_id': [-1, 0, 1, 2, 3, 4],\n",
    "    'subscription_price': [0, 0, 5, 10, 15, 20],\n",
    "    'subscription_dsc': ['discontinued', 'free_tier', 'basic', 'personal', 'professional', 'premium']}\n",
    "df_sub = pd.DataFrame(data=d)"
   ]
  },
  {
   "cell_type": "markdown",
   "metadata": {},
   "source": [
    "#### Customer DataFrame"
   ]
  },
  {
   "cell_type": "code",
   "execution_count": null,
   "metadata": {},
   "outputs": [],
   "source": [
    "df = pd.read_csv('./OpenAddress/ma.csv')\n",
    "df_address = df.sample(n=len(cust_signup), replace=False, random_state=123)"
   ]
  },
  {
   "cell_type": "code",
   "execution_count": null,
   "metadata": {},
   "outputs": [],
   "source": [
    "cust = pd.concat([cust_signup.iloc[:,0], df_address.reset_index()], axis=1)\n"
   ]
  },
  {
   "cell_type": "code",
   "execution_count": null,
   "metadata": {},
   "outputs": [],
   "source": [
    "cust = cust.drop(columns=['index', 'HASH', 'ID']).rename({'REGION': 'STATE'}, axis='columns')"
   ]
  },
  {
   "cell_type": "code",
   "execution_count": null,
   "metadata": {},
   "outputs": [],
   "source": [
    "cust.head()"
   ]
  },
  {
   "cell_type": "markdown",
   "metadata": {},
   "source": [
    "#### add customer_NPS table\n",
    "\n",
    "where NPS 0-10 will be correlated with churn.  \n",
    "it will have customer_id, NPS, survey_sent, survey_response_date, comments\n",
    "\n",
    "some survey_response_date will be null for those who have not replied.  \n",
    "some will have an nps score but no comments."
   ]
  },
  {
   "cell_type": "markdown",
   "metadata": {},
   "source": [
    "#### Write DataFrames to CSV"
   ]
  },
  {
   "cell_type": "code",
   "execution_count": null,
   "metadata": {},
   "outputs": [],
   "source": [
    "cust_churn.to_csv('customer_churn.csv')\n",
    "cust_signup.to_csv('customer_signup.csv')\n",
    "cust_invoice.to_csv('customer_invoice.csv')\n",
    "cust_mrr.to_csv('customer_mrr.csv')\n",
    "cust.to_csv('customer.csv')\n",
    "df_sub.to_csv('subscription_services.csv')"
   ]
  }
 ],
 "metadata": {
  "jupytext": {
   "text_representation": {
    "extension": ".md",
    "format_name": "markdown",
    "format_version": "1.0",
    "jupytext_version": "0.8.5"
   }
  },
  "kernelspec": {
   "display_name": "Python 3",
   "language": "python",
   "name": "python3"
  },
  "language_info": {
   "codemirror_mode": {
    "name": "ipython",
    "version": 3
   },
   "file_extension": ".py",
   "mimetype": "text/x-python",
   "name": "python",
   "nbconvert_exporter": "python",
   "pygments_lexer": "ipython3",
   "version": "3.6.6"
  }
 },
 "nbformat": 4,
 "nbformat_minor": 2
}
