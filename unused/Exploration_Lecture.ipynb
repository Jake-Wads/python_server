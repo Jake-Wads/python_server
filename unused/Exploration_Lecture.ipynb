{
 "cells": [
  {
   "cell_type": "code",
   "execution_count": 2,
   "metadata": {},
   "outputs": [],
   "source": [
    "import pandas as pd\n",
    "import numpy as np\n",
    "import statsmodels.api as sm\n",
    "import scipy.stats as stats\n",
    "import matplotlib.pyplot as plt\n",
    "from matplotlib import cm\n",
    "import warnings\n",
    "warnings.filterwarnings('ignore')\n",
    "import seaborn as sns\n",
    "from sklearn.model_selection import train_test_split\n",
    "from sklearn.preprocessing import MinMaxScaler\n",
    "from sklearn.preprocessing import StandardScaler\n",
    "\n",
    "from acquire import get_mallcustomer_data\n",
    "from summarize import df_summary\n",
    "from prepare import data_prep\n",
    "seed = 123"
   ]
  },
  {
   "cell_type": "code",
   "execution_count": 3,
   "metadata": {},
   "outputs": [],
   "source": [
    "df = get_mallcustomer_data()\n",
    "df_tips = sns.load_dataset('tips')\n",
    "train, test = train_test_split(df, random_state = seed)"
   ]
  },
  {
   "cell_type": "code",
   "execution_count": 4,
   "metadata": {},
   "outputs": [
    {
     "name": "stdout",
     "output_type": "stream",
     "text": [
      "Scaling age, annual_income, and ['age', 'annual_income']...\n"
     ]
    }
   ],
   "source": [
    "num_vars = list(train.select_dtypes('number').columns)\n",
    "print('Scaling {}, and {}...'.format(', '.join(num_vars[:-1]), num_vars[:-1]))"
   ]
  },
  {
   "cell_type": "code",
   "execution_count": 5,
   "metadata": {},
   "outputs": [
    {
     "name": "stdout",
     "output_type": "stream",
     "text": [
      "              age  annual_income  spending_score\n",
      "count  150.000000     150.000000      150.000000\n",
      "mean     0.398974       0.364426        0.508027\n",
      "std      0.277361       0.221008        0.254235\n",
      "min      0.000000       0.000000        0.000000\n",
      "25%      0.177885       0.204918        0.346939\n",
      "50%      0.336538       0.368852        0.505102\n",
      "75%      0.596154       0.506148        0.732143\n",
      "max      1.000000       1.000000        1.000000\n",
      "             age  annual_income  spending_score\n",
      "count  50.000000      50.000000       50.000000\n",
      "mean    0.406923       0.400492        0.484082\n",
      "std     0.243108       0.196735        0.291561\n",
      "min     0.000000       0.016393        0.000000\n",
      "25%     0.250000       0.241803        0.224490\n",
      "50%     0.355769       0.418033        0.443878\n",
      "75%     0.572115       0.534836        0.732143\n",
      "max     0.961538       0.721311        0.989796\n"
     ]
    }
   ],
   "source": [
    "scaler = MinMaxScaler()\n",
    "train[num_vars] = scaler.fit_transform(train[num_vars])\n",
    "test[num_vars] = scaler.transform(test[num_vars])\n",
    "print(train.describe())\n",
    "print(test.describe())"
   ]
  },
  {
   "cell_type": "code",
   "execution_count": 6,
   "metadata": {},
   "outputs": [
    {
     "data": {
      "image/png": "[encoded data removed]",
      "text/plain": [
       "<Figure size 576x288 with 4 Axes>"
      ]
     },
     "metadata": {},
     "output_type": "display_data"
    }
   ],
   "source": [
    "train.hist(figsize=(8,4), bins=10, log=False)\n",
    "plt.show()"
   ]
  },
  {
   "cell_type": "markdown",
   "metadata": {},
   "source": [
    "Gender"
   ]
  },
  {
   "cell_type": "code",
   "execution_count": 7,
   "metadata": {},
   "outputs": [
    {
     "data": {
      "text/plain": [
       "Female    87\n",
       "Male      63\n",
       "Name: gender, dtype: int64"
      ]
     },
     "execution_count": 7,
     "metadata": {},
     "output_type": "execute_result"
    }
   ],
   "source": [
    "train.gender.value_counts()"
   ]
  },
  {
   "cell_type": "code",
   "execution_count": 8,
   "metadata": {},
   "outputs": [
    {
     "data": {
      "text/plain": [
       "Ttest_indResult(statistic=-0.5668046160788702, pvalue=0.5717055394299067)"
      ]
     },
     "execution_count": 8,
     "metadata": {},
     "output_type": "execute_result"
    }
   ],
   "source": [
    "stats.ttest_ind(\n",
    "    train[train.gender == 'Male'].spending_score.dropna(),\n",
    "    train[train.gender == 'Female'].spending_score.dropna())"
   ]
  },
  {
   "cell_type": "code",
   "execution_count": 9,
   "metadata": {},
   "outputs": [
    {
     "name": "stdout",
     "output_type": "stream",
     "text": [
      "Pearson's R: -0.323429077595316, P-Value: 5.4116776021289656e-05\n"
     ]
    }
   ],
   "source": [
    "r, pval = stats.pearsonr(train.spending_score, train.age)\n",
    "print(\"Pearson's R: {}, P-Value: {}\".format(r, pval))"
   ]
  },
  {
   "cell_type": "markdown",
   "metadata": {},
   "source": [
    "Binning into categorical for testing"
   ]
  },
  {
   "cell_type": "code",
   "execution_count": 10,
   "metadata": {},
   "outputs": [
    {
     "data": {
      "text/plain": [
       "0    39\n",
       "3    38\n",
       "2    37\n",
       "1    36\n",
       "Name: spending_bins, dtype: int64"
      ]
     },
     "execution_count": 10,
     "metadata": {},
     "output_type": "execute_result"
    }
   ],
   "source": [
    "train['spending_bins'] = pd.qcut(train['spending_score'], 4, labels=False)\n",
    "train['spending_bins'].value_counts()"
   ]
  },
  {
   "cell_type": "markdown",
   "metadata": {},
   "source": [
    "## Chi-Squared Testing\n"
   ]
  },
  {
   "cell_type": "code",
   "execution_count": null,
   "metadata": {},
   "outputs": [],
   "source": []
  },
  {
   "cell_type": "code",
   "execution_count": 11,
   "metadata": {},
   "outputs": [
    {
     "data": {
      "text/html": [
       "<div>\n",
       "<style scoped>\n",
       "    .dataframe tbody tr th:only-of-type {\n",
       "        vertical-align: middle;\n",
       "    }\n",
       "\n",
       "    .dataframe tbody tr th {\n",
       "        vertical-align: top;\n",
       "    }\n",
       "\n",
       "    .dataframe thead th {\n",
       "        text-align: right;\n",
       "    }\n",
       "</style>\n",
       "<table border=\"1\" class=\"dataframe\">\n",
       "  <thead>\n",
       "    <tr style=\"text-align: right;\">\n",
       "      <th></th>\n",
       "      <th>total_bill</th>\n",
       "      <th>tip</th>\n",
       "      <th>sex</th>\n",
       "      <th>smoker</th>\n",
       "      <th>day</th>\n",
       "      <th>time</th>\n",
       "      <th>size</th>\n",
       "    </tr>\n",
       "  </thead>\n",
       "  <tbody>\n",
       "    <tr>\n",
       "      <th>0</th>\n",
       "      <td>16.99</td>\n",
       "      <td>1.01</td>\n",
       "      <td>Female</td>\n",
       "      <td>No</td>\n",
       "      <td>Sun</td>\n",
       "      <td>Dinner</td>\n",
       "      <td>2</td>\n",
       "    </tr>\n",
       "    <tr>\n",
       "      <th>1</th>\n",
       "      <td>10.34</td>\n",
       "      <td>1.66</td>\n",
       "      <td>Male</td>\n",
       "      <td>No</td>\n",
       "      <td>Sun</td>\n",
       "      <td>Dinner</td>\n",
       "      <td>3</td>\n",
       "    </tr>\n",
       "    <tr>\n",
       "      <th>2</th>\n",
       "      <td>21.01</td>\n",
       "      <td>3.50</td>\n",
       "      <td>Male</td>\n",
       "      <td>No</td>\n",
       "      <td>Sun</td>\n",
       "      <td>Dinner</td>\n",
       "      <td>3</td>\n",
       "    </tr>\n",
       "    <tr>\n",
       "      <th>3</th>\n",
       "      <td>23.68</td>\n",
       "      <td>3.31</td>\n",
       "      <td>Male</td>\n",
       "      <td>No</td>\n",
       "      <td>Sun</td>\n",
       "      <td>Dinner</td>\n",
       "      <td>2</td>\n",
       "    </tr>\n",
       "    <tr>\n",
       "      <th>4</th>\n",
       "      <td>24.59</td>\n",
       "      <td>3.61</td>\n",
       "      <td>Female</td>\n",
       "      <td>No</td>\n",
       "      <td>Sun</td>\n",
       "      <td>Dinner</td>\n",
       "      <td>4</td>\n",
       "    </tr>\n",
       "  </tbody>\n",
       "</table>\n",
       "</div>"
      ],
      "text/plain": [
       "   total_bill   tip     sex smoker  day    time  size\n",
       "0       16.99  1.01  Female     No  Sun  Dinner     2\n",
       "1       10.34  1.66    Male     No  Sun  Dinner     3\n",
       "2       21.01  3.50    Male     No  Sun  Dinner     3\n",
       "3       23.68  3.31    Male     No  Sun  Dinner     2\n",
       "4       24.59  3.61  Female     No  Sun  Dinner     4"
      ]
     },
     "execution_count": 11,
     "metadata": {},
     "output_type": "execute_result"
    }
   ],
   "source": [
    "df_tips.head()"
   ]
  },
  {
   "cell_type": "code",
   "execution_count": 12,
   "metadata": {},
   "outputs": [
    {
     "data": {
      "text/html": [
       "<div>\n",
       "<style scoped>\n",
       "    .dataframe tbody tr th:only-of-type {\n",
       "        vertical-align: middle;\n",
       "    }\n",
       "\n",
       "    .dataframe tbody tr th {\n",
       "        vertical-align: top;\n",
       "    }\n",
       "\n",
       "    .dataframe thead th {\n",
       "        text-align: right;\n",
       "    }\n",
       "</style>\n",
       "<table border=\"1\" class=\"dataframe\">\n",
       "  <thead>\n",
       "    <tr style=\"text-align: right;\">\n",
       "      <th>smoker</th>\n",
       "      <th>Yes</th>\n",
       "      <th>No</th>\n",
       "      <th>All</th>\n",
       "    </tr>\n",
       "    <tr>\n",
       "      <th>sex</th>\n",
       "      <th></th>\n",
       "      <th></th>\n",
       "      <th></th>\n",
       "    </tr>\n",
       "  </thead>\n",
       "  <tbody>\n",
       "    <tr>\n",
       "      <th>Male</th>\n",
       "      <td>60</td>\n",
       "      <td>97</td>\n",
       "      <td>157</td>\n",
       "    </tr>\n",
       "    <tr>\n",
       "      <th>Female</th>\n",
       "      <td>33</td>\n",
       "      <td>54</td>\n",
       "      <td>87</td>\n",
       "    </tr>\n",
       "    <tr>\n",
       "      <th>All</th>\n",
       "      <td>93</td>\n",
       "      <td>151</td>\n",
       "      <td>244</td>\n",
       "    </tr>\n",
       "  </tbody>\n",
       "</table>\n",
       "</div>"
      ],
      "text/plain": [
       "smoker  Yes   No  All\n",
       "sex                  \n",
       "Male     60   97  157\n",
       "Female   33   54   87\n",
       "All      93  151  244"
      ]
     },
     "execution_count": 12,
     "metadata": {},
     "output_type": "execute_result"
    }
   ],
   "source": [
    "pd.crosstab(df_tips[\"sex\"], df_tips[\"smoker\"], margins=True)"
   ]
  },
  {
   "cell_type": "code",
   "execution_count": 13,
   "metadata": {},
   "outputs": [
    {
     "name": "stdout",
     "output_type": "stream",
     "text": [
      "Independent (fail to reject H0)\n",
      "0.925417020494423\n"
     ]
    }
   ],
   "source": [
    "tbl = pd.crosstab(df_tips[\"sex\"], df_tips[\"smoker\"])\n",
    "stat, p, dof, expected = stats.chi2_contingency(tbl)\n",
    "prob = .95\n",
    "critical = stats.chi2.ppf(prob, dof)\n",
    "if abs(stat) >= critical:\n",
    "    print('Dependent (reject H0)')\n",
    "else:\n",
    "    print('Independent (fail to reject H0)')\n",
    "print(p)"
   ]
  },
  {
   "cell_type": "code",
   "execution_count": 14,
   "metadata": {},
   "outputs": [
    {
     "data": {
      "image/png": "[encoded data removed]",
      "text/plain": [
       "<Figure size 864x432 with 4 Axes>"
      ]
     },
     "metadata": {},
     "output_type": "display_data"
    }
   ],
   "source": [
    "df_tips.hist(figsize=(12,6))\n",
    "plt.show()"
   ]
  },
  {
   "cell_type": "code",
   "execution_count": 15,
   "metadata": {},
   "outputs": [
    {
     "name": "stdout",
     "output_type": "stream",
     "text": [
      "       total_bill         tip        size\n",
      "count  244.000000  244.000000  244.000000\n",
      "mean    -2.227106   -2.171407   -2.707344\n",
      "std      0.112791    0.725706    1.055741\n",
      "min     -2.438893   -3.219487   -4.449713\n",
      "25%     -2.308679   -2.694996   -3.339692\n",
      "50%     -2.252330   -2.222953   -3.339692\n",
      "75%     -2.172099   -1.875478   -2.229671\n",
      "max     -1.834039    1.500936    1.100394\n"
     ]
    }
   ],
   "source": [
    "scaler = StandardScaler()\n",
    "df_tips[['size','tip','total_bill']] = scaler.fit_transform(df_tips[['size','tip','total_bill']])\n",
    "df_tips[['size','tip','total_bill']] = scaler.transform(df_tips[['size','tip','total_bill']])\n",
    "print(df_tips.describe())"
   ]
  },
  {
   "cell_type": "code",
   "execution_count": 16,
   "metadata": {},
   "outputs": [
    {
     "data": {
      "text/plain": [
       "0    78\n",
       "3    61\n",
       "2    61\n",
       "1    44\n",
       "Name: tip, dtype: int64"
      ]
     },
     "execution_count": 16,
     "metadata": {},
     "output_type": "execute_result"
    }
   ],
   "source": [
    "df_tips['tip'] = pd.qcut(df_tips['tip'], 4, labels=False)\n",
    "df_tips['tip'].value_counts()"
   ]
  },
  {
   "cell_type": "code",
   "execution_count": 17,
   "metadata": {},
   "outputs": [
    {
     "name": "stdout",
     "output_type": "stream",
     "text": [
      "Independent (fail to reject H0)\n",
      "0.5524010015985761\n"
     ]
    }
   ],
   "source": [
    "tbl = pd.crosstab(df_tips[\"sex\"], df_tips[\"tip\"])\n",
    "stat, p, dof, expected = stats.chi2_contingency(tbl)\n",
    "prob = .95\n",
    "critical = stats.chi2.ppf(prob, dof)\n",
    "if abs(stat) >= critical:\n",
    "    print('Dependent (reject H0)')\n",
    "else:\n",
    "    print('Independent (fail to reject H0)')\n",
    "print(p)"
   ]
  },
  {
   "cell_type": "code",
   "execution_count": 18,
   "metadata": {},
   "outputs": [
    {
     "name": "stdout",
     "output_type": "stream",
     "text": [
      "Pearson's R: nan, P-Value: 1.0\n"
     ]
    }
   ],
   "source": [
    "r, pval = stats.pearsonr(df_tips.total_bill, df_tips.size)\n",
    "print(\"Pearson's R: {}, P-Value: {}\".format(r, pval))"
   ]
  },
  {
   "cell_type": "code",
   "execution_count": 19,
   "metadata": {},
   "outputs": [
    {
     "data": {
      "text/html": [
       "<div>\n",
       "<style scoped>\n",
       "    .dataframe tbody tr th:only-of-type {\n",
       "        vertical-align: middle;\n",
       "    }\n",
       "\n",
       "    .dataframe tbody tr th {\n",
       "        vertical-align: top;\n",
       "    }\n",
       "\n",
       "    .dataframe thead th {\n",
       "        text-align: right;\n",
       "    }\n",
       "</style>\n",
       "<table border=\"1\" class=\"dataframe\">\n",
       "  <thead>\n",
       "    <tr style=\"text-align: right;\">\n",
       "      <th></th>\n",
       "      <th>bathroomcnt</th>\n",
       "      <th>bedroomcnt</th>\n",
       "      <th>calculatedfinishedsquarefeet</th>\n",
       "      <th>latitude</th>\n",
       "      <th>longitude</th>\n",
       "      <th>regionidcounty</th>\n",
       "      <th>taxvaluedollarcnt</th>\n",
       "      <th>landtaxvaluedollarcnt</th>\n",
       "      <th>logerror</th>\n",
       "    </tr>\n",
       "  </thead>\n",
       "  <tbody>\n",
       "    <tr>\n",
       "      <th>0</th>\n",
       "      <td>2.0</td>\n",
       "      <td>3.0</td>\n",
       "      <td>1684.0</td>\n",
       "      <td>34280990.0</td>\n",
       "      <td>-118488536.0</td>\n",
       "      <td>3101.0</td>\n",
       "      <td>360170.0</td>\n",
       "      <td>237416.0</td>\n",
       "      <td>0.0276</td>\n",
       "    </tr>\n",
       "    <tr>\n",
       "      <th>1</th>\n",
       "      <td>3.0</td>\n",
       "      <td>2.0</td>\n",
       "      <td>2217.0</td>\n",
       "      <td>34136312.0</td>\n",
       "      <td>-118175032.0</td>\n",
       "      <td>3101.0</td>\n",
       "      <td>119906.0</td>\n",
       "      <td>57912.0</td>\n",
       "      <td>-0.0040</td>\n",
       "    </tr>\n",
       "    <tr>\n",
       "      <th>2</th>\n",
       "      <td>2.0</td>\n",
       "      <td>2.0</td>\n",
       "      <td>839.0</td>\n",
       "      <td>33755800.0</td>\n",
       "      <td>-118309000.0</td>\n",
       "      <td>3101.0</td>\n",
       "      <td>244880.0</td>\n",
       "      <td>73362.0</td>\n",
       "      <td>0.0218</td>\n",
       "    </tr>\n",
       "    <tr>\n",
       "      <th>3</th>\n",
       "      <td>4.0</td>\n",
       "      <td>4.0</td>\n",
       "      <td>3067.0</td>\n",
       "      <td>33870089.0</td>\n",
       "      <td>-118402768.0</td>\n",
       "      <td>3101.0</td>\n",
       "      <td>2447951.0</td>\n",
       "      <td>1567301.0</td>\n",
       "      <td>-0.2705</td>\n",
       "    </tr>\n",
       "    <tr>\n",
       "      <th>4</th>\n",
       "      <td>1.0</td>\n",
       "      <td>2.0</td>\n",
       "      <td>1297.0</td>\n",
       "      <td>33899475.0</td>\n",
       "      <td>-118212720.0</td>\n",
       "      <td>3101.0</td>\n",
       "      <td>111521.0</td>\n",
       "      <td>46972.0</td>\n",
       "      <td>0.0440</td>\n",
       "    </tr>\n",
       "  </tbody>\n",
       "</table>\n",
       "</div>"
      ],
      "text/plain": [
       "   bathroomcnt  bedroomcnt  calculatedfinishedsquarefeet    latitude  \\\n",
       "0          2.0         3.0                        1684.0  34280990.0   \n",
       "1          3.0         2.0                        2217.0  34136312.0   \n",
       "2          2.0         2.0                         839.0  33755800.0   \n",
       "3          4.0         4.0                        3067.0  33870089.0   \n",
       "4          1.0         2.0                        1297.0  33899475.0   \n",
       "\n",
       "     longitude  regionidcounty  taxvaluedollarcnt  landtaxvaluedollarcnt  \\\n",
       "0 -118488536.0          3101.0           360170.0               237416.0   \n",
       "1 -118175032.0          3101.0           119906.0                57912.0   \n",
       "2 -118309000.0          3101.0           244880.0                73362.0   \n",
       "3 -118402768.0          3101.0          2447951.0              1567301.0   \n",
       "4 -118212720.0          3101.0           111521.0                46972.0   \n",
       "\n",
       "   logerror  \n",
       "0    0.0276  \n",
       "1   -0.0040  \n",
       "2    0.0218  \n",
       "3   -0.2705  \n",
       "4    0.0440  "
      ]
     },
     "execution_count": 19,
     "metadata": {},
     "output_type": "execute_result"
    }
   ],
   "source": [
    "import env\n",
    "\n",
    "def get_connection(db, user=env.user, host=env.host, password=env.password):\n",
    "    return f'mysql+pymysql://{user}:{password}@{host}/{db}'\n",
    "\n",
    "\n",
    "df = pd.read_sql('''\n",
    "                 SELECT p2.bathroomcnt, p2.bedroomcnt, p2.calculatedfinishedsquarefeet, \n",
    "                 p2.latitude, p2.longitude, p2.regionidcounty, p2.taxvaluedollarcnt, \n",
    "                 p2.landtaxvaluedollarcnt, p1.logerror\n",
    "                    FROM predictions_2016 p1\n",
    "                    LEFT JOIN properties_2016 p2  USING(parcelid)\n",
    "                    WHERE bedroomcnt > 0 AND bathroomcnt > 0 AND unitcnt = 1 \n",
    "                    AND latitude IS NOT NULL AND longitude IS NOT NULL;\n",
    "                    '''\n",
    "                 , get_connection('zillow'))\n",
    "\n",
    "df.head()"
   ]
  },
  {
   "cell_type": "code",
   "execution_count": null,
   "metadata": {},
   "outputs": [],
   "source": [
    "train, test = train_test_split(df, random_state = seed)"
   ]
  },
  {
   "cell_type": "code",
   "execution_count": null,
   "metadata": {},
   "outputs": [],
   "source": [
    "scaler = MinMaxScaler()\n",
    "num_cols = train.drop(columns=['regionidcounty','bathroomcnt','bedroomcnt']).columns\n",
    "\n",
    "train[num_cols] = scaler.fit_transform(train[num_cols])\n",
    "test[num_cols] = scaler.transform(test[num_cols])\n",
    "print(train.describe())"
   ]
  },
  {
   "cell_type": "code",
   "execution_count": null,
   "metadata": {},
   "outputs": [],
   "source": [
    "sns.swarmplot(x=\"regionidcounty\", y=\"logerror\", data=train, palette=\"Set2\")\n",
    "ax = sns.boxplot(x=\"regionidcounty\", y=\"logerror\", data=train,\n",
    "        showcaps=True,boxprops={'facecolor':'None'},\n",
    "        showfliers=True,whiskerprops={'linewidth':0})"
   ]
  },
  {
   "cell_type": "code",
   "execution_count": null,
   "metadata": {},
   "outputs": [],
   "source": [
    "sns.set(style=\"whitegrid\", palette=\"muted\")\n",
    "\n",
    "# \"Melt\" the dataset to \"long-form\" representation\n",
    "df_melt = pd.melt(train_df[['regionidcounty','logerror','calculatedfinishedsquarefeet', 'latitude']], \n",
    "                  \"regionidcounty\", var_name=\"measurement\")\n",
    "\n",
    "plt.figure(figsize=(8,6))\n",
    "# Draw a categorical scatterplot to show each observation\n",
    "p = sns.swarmplot(x=\"measurement\", y=\"value\", hue=\"regionidcounty\",\n",
    "              palette=[\"r\", \"c\", \"y\"], data=df_melt)\n",
    "p.set(yscale=\"log\")\n",
    "\n",
    "plt.show()"
   ]
  },
  {
   "cell_type": "code",
   "execution_count": null,
   "metadata": {},
   "outputs": [],
   "source": [
    "from pandas.tools.plotting import scatter_matrix\n",
    "from matplotlib import cm\n",
    "from matplotlib.ticker import FormatStrFormatter\n",
    "\n",
    "cmap = cm.get_cmap('gnuplot')\n",
    "axes = pd.scatter_matrix(\n",
    "    train[['bedroomcnt','bathroomcnt','calculatedfinishedsquarefeet']], marker='o', s=40,\n",
    "    hist_kwds={'bins':15},  figsize=(9,9), cmap=cmap)\n",
    "for ax in axes.flatten():\n",
    "    ax.yaxis.set_major_formatter(FormatStrFormatter('%.2f'))"
   ]
  }
 ],
 "metadata": {
  "kernelspec": {
   "display_name": "Python 3",
   "language": "python",
   "name": "python3"
  },
  "language_info": {
   "codemirror_mode": {
    "name": "ipython",
    "version": 3
   },
   "file_extension": ".py",
   "mimetype": "text/x-python",
   "name": "python",
   "nbconvert_exporter": "python",
   "pygments_lexer": "ipython3",
   "version": "3.6.8"
  }
 },
 "nbformat": 4,
 "nbformat_minor": 2
}
