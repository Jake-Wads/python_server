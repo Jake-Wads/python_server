{
 "cells": [
  {
   "cell_type": "markdown",
   "metadata": {},
   "source": [
    "https://github.com/magsgiust/ds-python_examples/blob/master/saas_company-data_generator.py"
   ]
  },
  {
   "cell_type": "code",
   "execution_count": 4,
   "metadata": {},
   "outputs": [],
   "source": [
    "# MIT License\n",
    "# \n",
    "# Copyright (c) 2018 Michael DeFelice\n",
    "# \n",
    "# Permission is hereby granted, free of charge, to any person obtaining a copy\n",
    "# of this software and associated documentation files (the \"Software\"), to deal\n",
    "# in the Software without restriction, including without limitation the rights\n",
    "# to use, copy, modify, merge, publish, distribute, sublicense, and/or sell\n",
    "# copies of the Software, and to permit persons to whom the Software is\n",
    "# furnished to do so, subject to the following conditions:\n",
    "# \n",
    "# The above copyright notice and this permission notice shall be included in all\n",
    "# copies or substantial portions of the Software.\n",
    "# \n",
    "# THE SOFTWARE IS PROVIDED \"AS IS\", WITHOUT WARRANTY OF ANY KIND, EXPRESS OR\n",
    "# IMPLIED, INCLUDING BUT NOT LIMITED TO THE WARRANTIES OF MERCHANTABILITY,\n",
    "# FITNESS FOR A PARTICULAR PURPOSE AND NONINFRINGEMENT. IN NO EVENT SHALL THE\n",
    "# AUTHORS OR COPYRIGHT HOLDERS BE LIABLE FOR ANY CLAIM, DAMAGES OR OTHER\n",
    "# LIABILITY, WHETHER IN AN ACTION OF CONTRACT, TORT OR OTHERWISE, ARISING FROM,\n",
    "# OUT OF OR IN CONNECTION WITH THE SOFTWARE OR THE USE OR OTHER DEALINGS IN THE\n",
    "# SOFTWARE.\n",
    "\n",
    "import numpy as np, pandas as pd\n",
    "import matplotlib.pyplot as plt\n",
    "plt.style.use ('ggplot')"
   ]
  },
  {
   "cell_type": "code",
   "execution_count": 5,
   "metadata": {},
   "outputs": [],
   "source": [
    "# Note the first at 0 is a free trial ... As upgrades are considered advancing through this array, please ensure the pricing increases throughout the list\n",
    "subscription_prices     = [0,    5,    10,   15,   20  ]"
   ]
  },
  {
   "cell_type": "code",
   "execution_count": 6,
   "metadata": {},
   "outputs": [],
   "source": [
    "# These need to sum to 1\n",
    "subscription_pvals      = [0.80, 0.10, 0.06, 0.02, 0.02]\n",
    "sub_n = len (subscription_pvals)"
   ]
  },
  {
   "cell_type": "code",
   "execution_count": 7,
   "metadata": {},
   "outputs": [],
   "source": [
    "start_date = '2014-01-01'\n",
    "periods = 48"
   ]
  },
  {
   "cell_type": "code",
   "execution_count": 8,
   "metadata": {},
   "outputs": [],
   "source": [
    "# Tweak these: start number of subscriptions; monthly upgrade percent; monthly downgrade percent; monthly new subscriptions; monthly churn percent\n",
    "start_n = 20000\n",
    "upgrade_p = 0.02\n",
    "downgrade_p = 0.02\n",
    "new_n = 200\n",
    "churn_p = 0.02"
   ]
  },
  {
   "cell_type": "code",
   "execution_count": 9,
   "metadata": {},
   "outputs": [],
   "source": [
    "# Initial subscriptions\n",
    "df = pd.DataFrame (index = range (start_n), columns = range (periods))\n",
    "df.iloc[:, 0] = np.random.multinomial (1, subscription_pvals, start_n).argmax (axis = 1)"
   ]
  },
  {
   "cell_type": "code",
   "execution_count": 10,
   "metadata": {},
   "outputs": [],
   "source": [
    "# New\n",
    "for _ in range (1, periods):\n",
    "  subscriptions = np.random.multinomial (1, subscription_pvals, new_n).argmax (axis = 1)\n",
    "  df = pd.concat ([df,\n",
    "                   pd.DataFrame (subscriptions, columns = [_]),\n",
    "                  ], axis = 0)"
   ]
  },
  {
   "cell_type": "code",
   "execution_count": 11,
   "metadata": {},
   "outputs": [],
   "source": [
    "# Reindex\n",
    "df = df.reset_index (drop = True)"
   ]
  },
  {
   "cell_type": "code",
   "execution_count": 12,
   "metadata": {},
   "outputs": [],
   "source": [
    "# Upgrades & downgrades\n",
    "for _ in range (1, periods):\n",
    "  df.iloc[:, _].update (df.iloc[:, _ - 1].dropna ())\n",
    "  upgrade_candidates = df.iloc[:, _].dropna ()\n",
    "  upgrade_candidates = upgrade_candidates[upgrade_candidates < sub_n - 1]\n",
    "  upgrades = upgrade_candidates.sample (frac = upgrade_p)\n",
    "  upgrades += 1\n",
    "  df.iloc[:, _].update (upgrades)\n",
    "  downgrade_candidates = df[~df.index.isin (upgrades.index)].iloc[:, _].dropna ()\n",
    "  downgrade_candidates = downgrade_candidates[downgrade_candidates > 0]\n",
    "  downgrades = downgrade_candidates.sample (frac = downgrade_p)\n",
    "  downgrades -= 1\n",
    "  df.iloc[:, _].update (downgrades)"
   ]
  },
  {
   "cell_type": "code",
   "execution_count": 13,
   "metadata": {},
   "outputs": [],
   "source": [
    "# Churn\n",
    "for _ in range (1, periods):\n",
    "  churn_candidates = df.iloc[:, _ - 1].dropna ()\n",
    "  churn = churn_candidates.sample (frac = churn_p)\n",
    "  churn = pd.DataFrame (index = churn.index, columns = range (_, periods))\n",
    "  churn = churn.fillna (-1)\n",
    "  df.update (churn)"
   ]
  },
  {
   "cell_type": "code",
   "execution_count": 14,
   "metadata": {},
   "outputs": [],
   "source": [
    "# Cleanup the subscriptions DataFrame\n",
    "df = df.replace (-1, np.nan)\n",
    "df.columns = pd.DatetimeIndex (start = start_date, periods = periods, freq = 'M')\n",
    "df.columns.name = 'Month_Invoiced'\n",
    "df.index.name = 'Customer_Id'\n",
    "df.index += 1000000"
   ]
  },
  {
   "cell_type": "code",
   "execution_count": 15,
   "metadata": {},
   "outputs": [],
   "source": [
    "mrr = df.applymap (lambda a: subscription_prices[int (a)] if a >= 0 else a)"
   ]
  },
  {
   "cell_type": "code",
   "execution_count": 16,
   "metadata": {},
   "outputs": [],
   "source": [
    "invoiced_items = pd.concat ([\n",
    "  df.unstack ().rename ('Subscription_Type'),\n",
    "  mrr.unstack ().rename ('Amount'),\n",
    "], axis = 1).dropna ()"
   ]
  },
  {
   "cell_type": "code",
   "execution_count": 17,
   "metadata": {},
   "outputs": [],
   "source": [
    "# For better presentation, customer ids start at 1,000,000 and invoice ids at 5,000,000\n",
    "invoiced_items.insert (0, 'Invoice_Id', range (5000000, 5000000 + invoiced_items.shape[0]))\n",
    "invoiced_items = invoiced_items.reset_index ()"
   ]
  },
  {
   "cell_type": "code",
   "execution_count": 18,
   "metadata": {},
   "outputs": [],
   "source": [
    "# Do stuff now with invoiced_items\n",
    "# ..."
   ]
  },
  {
   "cell_type": "code",
   "execution_count": 19,
   "metadata": {},
   "outputs": [
    {
     "data": {
      "image/png": "[encoded data removed]",
      "text/plain": [
       "<Figure size 792x612 with 1 Axes>"
      ]
     },
     "metadata": {},
     "output_type": "display_data"
    }
   ],
   "source": [
    "# Example Plot\n",
    "fig, ax = plt.subplots (1, 1, figsize = (11, 8.5))\n",
    "invoiced_items.groupby (['Month_Invoiced']).agg ({'Amount': np.sum,}).plot (ax = ax, kind = 'line', legend = False, title = 'Total MRR')\n",
    "plt.show ()\n",
    "plt.close ('all')"
   ]
  },
  {
   "cell_type": "code",
   "execution_count": null,
   "metadata": {},
   "outputs": [],
   "source": []
  }
 ],
 "metadata": {
  "kernelspec": {
   "display_name": "Python 3",
   "language": "python",
   "name": "python3"
  },
  "language_info": {
   "codemirror_mode": {
    "name": "ipython",
    "version": 3
   },
   "file_extension": ".py",
   "mimetype": "text/x-python",
   "name": "python",
   "nbconvert_exporter": "python",
   "pygments_lexer": "ipython3",
   "version": "3.6.5"
  }
 },
 "nbformat": 4,
 "nbformat_minor": 2
}
