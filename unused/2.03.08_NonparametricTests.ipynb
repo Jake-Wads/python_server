{
 "cells": [
  {
   "cell_type": "markdown",
   "metadata": {},
   "source": [
    "# Statistical Testing\n",
    "\n",
    "## Nonparametric Statistical Hypothesis Tests\n",
    "\n",
    "\n",
    "1. Estimates  \n",
    "2. Sampling\n",
    "3. Power\n",
    "4. Statistical Tests\n",
    "    1. Normality Tests\n",
    "    2. Correlation Tests\n",
    "    3. Parametric Statistical Hypothesis Tests\n",
    "    4. **Nonparametric Statistical Hypothesis Tests**"
   ]
  },
  {
   "cell_type": "markdown",
   "metadata": {},
   "source": [
    "## Nonparametric Statistical Hypothesis Tests\n",
    "### 1. Mann-Whitney U Test\n",
    "1. Tests whether the distributions of two independent samples are equal or not.\n",
    "2. Assumptions\n",
    "    - Observations in each sample are independent and identically distributed (iid).\n",
    "    - Observations in each sample can be ranked.\n",
    "3. Interpretation\n",
    "    - H0: the distributions of both samples are equal.\n",
    "    - H1: the distributions of both samples are not equal.\n",
    "4. Python Code  \n",
    "`from scipy.stats import mannwhitneyu\n",
    "data1, data2 = ...\n",
    "stat, p = mannwhitneyu(data1, data2)`\n",
    "\n",
    "### 2. Wilcoxon Signed-Rank Test\n",
    "1. Tests whether the distributions of two paired samples are equal or not.\n",
    "2. Assumptions\n",
    "    - Observations in each sample are independent and identically distributed (iid).\n",
    "    - Observations in each sample can be ranked.\n",
    "    - Observations across each sample are paired.\n",
    "3. Interpretation\n",
    "    - H0: the distributions of both samples are equal.\n",
    "    - H1: the distributions of both samples are not equal.\n",
    "4. Python Code\n",
    "`from scipy.stats import wilcoxon\n",
    "data1, data2 = ...\n",
    "stat, p = wilcoxon(data1, data2)`\n",
    "\n",
    "### 3. Kruskal-Wallis H Test\n",
    "1. Tests whether the distributions of two or more independent samples are equal or not.\n",
    "2. Assumptions\n",
    "    - Observations in each sample are independent and identically distributed (iid).\n",
    "    - Observations in each sample can be ranked.\n",
    "3. Interpretation\n",
    "    - H0: the distributions of all samples are equal.\n",
    "    - H1: the distributions of one or more samples are not equal.\n",
    "4. Python Code\n",
    "\n",
    "`from scipy.stats import kruskal\n",
    "data1, data2, ... = ...\n",
    "stat, p = kruskal(data1, data2, ...)`\n",
    "\n",
    "### 4. Friedman Test\n",
    "1. Tests whether the distributions of two or more independent samples are equal or not.\n",
    "2. Assumptions\n",
    "    - Observations in each sample are independent and identically distributed (iid).\n",
    "    - Observations in each sample can be ranked.\n",
    "3. Interpretation\n",
    "    - H0: the distributions of all samples are equal.\n",
    "    - H1: the distributions of one or more samples are not equal.\n",
    "4. Python Code\n",
    "`from scipy.stats import kruskal\n",
    "data1, data2, ... = ...\n",
    "stat, p = kruskal(data1, data2, ...)`"
   ]
  },
  {
   "cell_type": "markdown",
   "metadata": {},
   "source": []
  },
  {
   "cell_type": "code",
   "execution_count": null,
   "metadata": {},
   "outputs": [],
   "source": []
  }
 ],
 "metadata": {
  "kernelspec": {
   "display_name": "Python 3",
   "language": "python",
   "name": "python3"
  },
  "language_info": {
   "codemirror_mode": {
    "name": "ipython",
    "version": 3
   },
   "file_extension": ".py",
   "mimetype": "text/x-python",
   "name": "python",
   "nbconvert_exporter": "python",
   "pygments_lexer": "ipython3",
   "version": "3.6.5"
  }
 },
 "nbformat": 4,
 "nbformat_minor": 2
}
