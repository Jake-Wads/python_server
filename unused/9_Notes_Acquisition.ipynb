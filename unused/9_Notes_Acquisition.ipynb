{
 "cells": [
  {
   "cell_type": "markdown",
   "metadata": {},
   "source": [
    "# Anomaly Detection: Acquire Data\n",
    "\n",
    "## About the data\n",
    "\n",
    "https://csr.lanl.gov/data/cyber1/  \n",
    "\n",
    "This data set represents 58 consecutive days of de-identified event data collected from five sources within Los Alamos National Laboratory’s corporate, internal computer network.\n",
    "\n",
    "The data sources include Windows-based authentication events from both individual computers and centralized Active Directory domain controller servers; process start and stop events from individual Windows computers; Domain Name Service (DNS) lookups as collected on internal DNS servers; network flow data as collected on at several key router locations; and a set of well-defined red teaming events that present bad behavior within the 58 days. In total, the data set is approximately 12 gigabytes compressed across the five data elements and presents 1,648,275,307 events in total for 12,425 users, 17,684 computers, and 62,974 processes.\n",
    "\n",
    "To the extent possible under law, Los Alamos National Laboratory has waived all copyright and related or neighboring rights to Comprehensive, Multi-Source Cyber-Security Events. This work is published from: United States.\n",
    "\n",
    "\n",
    "## Skills\n",
    "1. Create a dictionary\n",
    "2. Access keys and values from a dictionary\n",
    "3. Acquire multiple files from a URL\n",
    "4. Unzip files\n",
    "5. Read sample \n",
    "6. Use StringIO to parse the file contents into a delimited file\n",
    "7. Create multiple data frames in a loop using a dictionary"
   ]
  },
  {
   "cell_type": "code",
   "execution_count": 43,
   "metadata": {},
   "outputs": [],
   "source": [
    "import gzip\n",
    "from io import StringIO\n",
    "import pandas as pd\n",
    "from urllib.request import urlopen\n",
    "\n",
    "files = {'auth': ['time', 'source_user_domain', 'destination_user_domain', 'source_computer', \n",
    "                  'destination_computer','authentication_type', 'logon_type', 'authentication_orientation',\n",
    "                  'success_failure'],\n",
    "         'proc': ['time','user_domain','computer','process_name','start_end'],\n",
    "         'flows': ['time', 'duration', 'source_computer', 'source_port', 'destination_computer', \n",
    "                   'destination_port', 'protocol', 'packet_count', 'byte_count'],\n",
    "         'dns': ['time', 'source_computer', 'computer_resolved'],\n",
    "         'redteam': ['time','user_domain', \"source_computer\", \"destination_computer\"]\n",
    "        }"
   ]
  },
  {
   "cell_type": "code",
   "execution_count": 49,
   "metadata": {},
   "outputs": [
    {
     "name": "stdout",
     "output_type": "stream",
     "text": [
      "Auth Values:\n",
      "['time', 'source_user_domain', 'destination_user_domain', 'source_computer', 'destination_computer', 'authentication_type', 'logon_type', 'authentication_orientation', 'success_failure']\n"
     ]
    }
   ],
   "source": [
    "print('Auth Values:')\n",
    "print(names_dict['auth'])"
   ]
  },
  {
   "cell_type": "code",
   "execution_count": 1,
   "metadata": {},
   "outputs": [
    {
     "name": "stdout",
     "output_type": "stream",
     "text": [
      "Dict Keys:\n"
     ]
    },
    {
     "ename": "NameError",
     "evalue": "name 'names_dict' is not defined",
     "output_type": "error",
     "traceback": [
      "\u001b[0;31m---------------------------------------------------------------------------\u001b[0m",
      "\u001b[0;31mNameError\u001b[0m                                 Traceback (most recent call last)",
      "\u001b[0;32m<ipython-input-1-5c2e1c96c0b1>\u001b[0m in \u001b[0;36m<module>\u001b[0;34m()\u001b[0m\n\u001b[1;32m      1\u001b[0m \u001b[0mprint\u001b[0m\u001b[0;34m(\u001b[0m\u001b[0;34m'Dict Keys:'\u001b[0m\u001b[0;34m)\u001b[0m\u001b[0;34m\u001b[0m\u001b[0;34m\u001b[0m\u001b[0m\n\u001b[0;32m----> 2\u001b[0;31m \u001b[0mprint\u001b[0m\u001b[0;34m(\u001b[0m\u001b[0mnames_dict\u001b[0m\u001b[0;34m.\u001b[0m\u001b[0mkeys\u001b[0m\u001b[0;34m(\u001b[0m\u001b[0;34m)\u001b[0m\u001b[0;34m)\u001b[0m\u001b[0;34m\u001b[0m\u001b[0;34m\u001b[0m\u001b[0m\n\u001b[0m",
      "\u001b[0;31mNameError\u001b[0m: name 'names_dict' is not defined"
     ]
    }
   ],
   "source": [
    "print('Dict Keys:')\n",
    "print(names_dict.keys())"
   ]
  },
  {
   "cell_type": "code",
   "execution_count": 51,
   "metadata": {},
   "outputs": [
    {
     "name": "stdout",
     "output_type": "stream",
     "text": [
      "Dict Values:\n",
      "dict_values([['time', 'source_user_domain', 'destination_user_domain', 'source_computer', 'destination_computer', 'authentication_type', 'logon_type', 'authentication_orientation', 'success_failure'], ['time', 'user_domain', 'computer', 'process_name', 'start_end'], ['time', 'duration', 'source_computer', 'source_port', 'destination_computer', 'destination_port', 'protocol', 'packet_count', 'byte_count'], ['time', 'source_computer', 'computer_resolved'], ['time', 'user_domain', 'source_computer', 'destination_computer']])\n"
     ]
    }
   ],
   "source": [
    "print('Dict Values:')\n",
    "print(names_dict.values())"
   ]
  },
  {
   "cell_type": "code",
   "execution_count": 52,
   "metadata": {},
   "outputs": [
    {
     "name": "stdout",
     "output_type": "stream",
     "text": [
      "First Key:\n",
      "auth\n"
     ]
    }
   ],
   "source": [
    "print('First Key:')\n",
    "print(list(names_dict.keys())[0])"
   ]
  },
  {
   "cell_type": "code",
   "execution_count": 61,
   "metadata": {},
   "outputs": [],
   "source": [
    "d = {}\n",
    "for f in list(names_dict.keys()):\n",
    "    resp = urlopen(path+f+'.txt.gz')\n",
    "    with gzip.open(resp, 'rt') as r:\n",
    "        file_content = r.read(200)\n",
    "    d[f] = pd.DataFrame(pd.read_csv(StringIO(file_content), sep=',', header=None, names=names_dict[f]))"
   ]
  },
  {
   "cell_type": "code",
   "execution_count": 62,
   "metadata": {},
   "outputs": [
    {
     "data": {
      "text/plain": [
       "{'auth':    time    source_user_domain destination_user_domain source_computer  \\\n",
       " 0     1  ANONYMOUS LOGON@C586    ANONYMOUS LOGON@C586           C1250   \n",
       " 1     1  ANONYMOUS LOGON@C586    ANONYMOUS LOGON@C586            C586   \n",
       " 2     1            C101$@DOM1              C101$@DOM1            C988   \n",
       " \n",
       "   destination_computer authentication_type logon_type  \\\n",
       " 0                 C586                NTLM    Network   \n",
       " 1                 C586                   ?    Network   \n",
       " 2                 C988                   ?        Net   \n",
       " \n",
       "   authentication_orientation success_failure  \n",
       " 0                      LogOn         Success  \n",
       " 1                     LogOff         Success  \n",
       " 2                        NaN             NaN  ,\n",
       " 'proc':    time  user_domain computer process_name start_end\n",
       " 0     1     C1$@DOM1       C1          P16     Start\n",
       " 1     1  C1001$@DOM1    C1001           P4     Start\n",
       " 2     1  C1002$@DOM1    C1002           P4     Start\n",
       " 3     1  C1004$@DOM1    C1004           P4     Start\n",
       " 4     1  C1017$@DOM1    C1017           P4     Start\n",
       " 5     1  C1018$@DOM1    C1018           P4     Start\n",
       " 6     1  C1020$@DOM1    C1020           P3     Start\n",
       " 7     1          NaN      NaN          NaN       NaN,\n",
       " 'flows':    time  duration source_computer source_port destination_computer  \\\n",
       " 0     1         0           C1065         389                C3799   \n",
       " 1     1         0           C1423       N1136                C1707   \n",
       " 2     1         0           C1423       N1142                C1707   \n",
       " 3     1         0          C14909       N8191                C5720   \n",
       " 4     1         0          C14909       N8192                C5720   \n",
       " 5     1         0          C14909       N8193                C5720   \n",
       " \n",
       "   destination_port  protocol  packet_count  byte_count  \n",
       " 0           N10451       6.0          10.0      5323.0  \n",
       " 1               N1       6.0           5.0       847.0  \n",
       " 2               N1       6.0           5.0       847.0  \n",
       " 3             2049       6.0           1.0        52.0  \n",
       " 4             2049       6.0           1.0        52.0  \n",
       " 5             2049       NaN           NaN         NaN  ,\n",
       " 'dns':     time source_computer computer_resolved\n",
       " 0      2           C4653             C5030\n",
       " 1      2           C5782            C16712\n",
       " 2      6           C1191              C419\n",
       " 3     15           C3380            C22841\n",
       " 4     18           C2436             C5030\n",
       " 5     31            C161             C2109\n",
       " 6     35           C5642              C528\n",
       " 7     38           C3380            C22841\n",
       " 8     42           C2428             C1065\n",
       " 9     42           C2428             C2109\n",
       " 10    42           C2428              C586\n",
       " 11    43           C2428              C528\n",
       " 12    44           C2428             C2109\n",
       " 13    49           C5778                 C,\n",
       " 'redteam':      time user_domain source_computer destination_computer\n",
       " 0  150885   U620@DOM1          C17693                C1003\n",
       " 1  151036   U748@DOM1          C17693                 C305\n",
       " 2  151648   U748@DOM1          C17693                 C728\n",
       " 3  151993  U6115@DOM1          C17693                C1173\n",
       " 4  153792   U636@DOM1          C17693                 C294\n",
       " 5  155219   U748@DOM1          C17693                C5693\n",
       " 6  155399   U748@DOM1           C1769                  NaN}"
      ]
     },
     "execution_count": 62,
     "metadata": {},
     "output_type": "execute_result"
    }
   ],
   "source": [
    "{key: value for key, value in d.items()}"
   ]
  },
  {
   "cell_type": "code",
   "execution_count": 63,
   "metadata": {},
   "outputs": [
    {
     "data": {
      "text/html": [
       "<div>\n",
       "<style scoped>\n",
       "    .dataframe tbody tr th:only-of-type {\n",
       "        vertical-align: middle;\n",
       "    }\n",
       "\n",
       "    .dataframe tbody tr th {\n",
       "        vertical-align: top;\n",
       "    }\n",
       "\n",
       "    .dataframe thead th {\n",
       "        text-align: right;\n",
       "    }\n",
       "</style>\n",
       "<table border=\"1\" class=\"dataframe\">\n",
       "  <thead>\n",
       "    <tr style=\"text-align: right;\">\n",
       "      <th></th>\n",
       "      <th>time</th>\n",
       "      <th>user_domain</th>\n",
       "      <th>computer</th>\n",
       "      <th>process_name</th>\n",
       "      <th>start_end</th>\n",
       "    </tr>\n",
       "  </thead>\n",
       "  <tbody>\n",
       "    <tr>\n",
       "      <th>0</th>\n",
       "      <td>1</td>\n",
       "      <td>C1$@DOM1</td>\n",
       "      <td>C1</td>\n",
       "      <td>P16</td>\n",
       "      <td>Start</td>\n",
       "    </tr>\n",
       "    <tr>\n",
       "      <th>1</th>\n",
       "      <td>1</td>\n",
       "      <td>C1001$@DOM1</td>\n",
       "      <td>C1001</td>\n",
       "      <td>P4</td>\n",
       "      <td>Start</td>\n",
       "    </tr>\n",
       "    <tr>\n",
       "      <th>2</th>\n",
       "      <td>1</td>\n",
       "      <td>C1002$@DOM1</td>\n",
       "      <td>C1002</td>\n",
       "      <td>P4</td>\n",
       "      <td>Start</td>\n",
       "    </tr>\n",
       "    <tr>\n",
       "      <th>3</th>\n",
       "      <td>1</td>\n",
       "      <td>C1004$@DOM1</td>\n",
       "      <td>C1004</td>\n",
       "      <td>P4</td>\n",
       "      <td>Start</td>\n",
       "    </tr>\n",
       "    <tr>\n",
       "      <th>4</th>\n",
       "      <td>1</td>\n",
       "      <td>C1017$@DOM1</td>\n",
       "      <td>C1017</td>\n",
       "      <td>P4</td>\n",
       "      <td>Start</td>\n",
       "    </tr>\n",
       "    <tr>\n",
       "      <th>5</th>\n",
       "      <td>1</td>\n",
       "      <td>C1018$@DOM1</td>\n",
       "      <td>C1018</td>\n",
       "      <td>P4</td>\n",
       "      <td>Start</td>\n",
       "    </tr>\n",
       "    <tr>\n",
       "      <th>6</th>\n",
       "      <td>1</td>\n",
       "      <td>C1020$@DOM1</td>\n",
       "      <td>C1020</td>\n",
       "      <td>P3</td>\n",
       "      <td>Start</td>\n",
       "    </tr>\n",
       "    <tr>\n",
       "      <th>7</th>\n",
       "      <td>1</td>\n",
       "      <td>NaN</td>\n",
       "      <td>NaN</td>\n",
       "      <td>NaN</td>\n",
       "      <td>NaN</td>\n",
       "    </tr>\n",
       "  </tbody>\n",
       "</table>\n",
       "</div>"
      ],
      "text/plain": [
       "   time  user_domain computer process_name start_end\n",
       "0     1     C1$@DOM1       C1          P16     Start\n",
       "1     1  C1001$@DOM1    C1001           P4     Start\n",
       "2     1  C1002$@DOM1    C1002           P4     Start\n",
       "3     1  C1004$@DOM1    C1004           P4     Start\n",
       "4     1  C1017$@DOM1    C1017           P4     Start\n",
       "5     1  C1018$@DOM1    C1018           P4     Start\n",
       "6     1  C1020$@DOM1    C1020           P3     Start\n",
       "7     1          NaN      NaN          NaN       NaN"
      ]
     },
     "execution_count": 63,
     "metadata": {},
     "output_type": "execute_result"
    }
   ],
   "source": [
    "d['proc']"
   ]
  }
 ],
 "metadata": {
  "kernelspec": {
   "display_name": "Python 3",
   "language": "python",
   "name": "python3"
  },
  "language_info": {
   "codemirror_mode": {
    "name": "ipython",
    "version": 3
   },
   "file_extension": ".py",
   "mimetype": "text/x-python",
   "name": "python",
   "nbconvert_exporter": "python",
   "pygments_lexer": "ipython3",
   "version": "3.6.8"
  }
 },
 "nbformat": 4,
 "nbformat_minor": 2
}
