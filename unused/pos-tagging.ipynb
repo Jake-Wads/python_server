{
 "cells": [
  {
   "cell_type": "markdown",
   "metadata": {},
   "source": [
    "# Parts Of Speech Tagging\n",
    "\n",
    "### Use cases include:\n",
    "\n",
    "- Remove all proper names\n",
    "- Find statements where the subject is 'Apple'\n",
    "\n",
    "\n",
    "## Identifing the part of speech for each word"
   ]
  },
  {
   "cell_type": "code",
   "execution_count": 1,
   "metadata": {},
   "outputs": [],
   "source": [
    "import pandas as pd\n",
    "import numpy as np\n",
    "\n",
    "import warnings\n",
    "warnings.filterwarnings(\"ignore\")"
   ]
  },
  {
   "cell_type": "code",
   "execution_count": 2,
   "metadata": {},
   "outputs": [
    {
     "data": {
      "text/plain": [
       "75"
      ]
     },
     "execution_count": 2,
     "metadata": {},
     "output_type": "execute_result"
    }
   ],
   "source": [
    "df = pd.read_csv('data/news.csv')\n",
    "len(df)"
   ]
  },
  {
   "cell_type": "code",
   "execution_count": 3,
   "metadata": {},
   "outputs": [
    {
     "data": {
      "text/html": [
       "<div>\n",
       "<style scoped>\n",
       "    .dataframe tbody tr th:only-of-type {\n",
       "        vertical-align: middle;\n",
       "    }\n",
       "\n",
       "    .dataframe tbody tr th {\n",
       "        vertical-align: top;\n",
       "    }\n",
       "\n",
       "    .dataframe thead th {\n",
       "        text-align: right;\n",
       "    }\n",
       "</style>\n",
       "<table border=\"1\" class=\"dataframe\">\n",
       "  <thead>\n",
       "    <tr style=\"text-align: right;\">\n",
       "      <th></th>\n",
       "      <th>news_headline</th>\n",
       "      <th>news_article</th>\n",
       "      <th>news_category</th>\n",
       "      <th>full_text</th>\n",
       "      <th>clean_text</th>\n",
       "    </tr>\n",
       "  </thead>\n",
       "  <tbody>\n",
       "    <tr>\n",
       "      <th>0</th>\n",
       "      <td>Apple loses $450 billion in market cap in the ...</td>\n",
       "      <td>Shares of the world's first trillion-dollar pu...</td>\n",
       "      <td>technology</td>\n",
       "      <td>Apple loses $450 billion in market cap in the ...</td>\n",
       "      <td>apple lose billion market cap last month share...</td>\n",
       "    </tr>\n",
       "    <tr>\n",
       "      <th>1</th>\n",
       "      <td>US startup makes ₹28,000 cordless 'infrared' h...</td>\n",
       "      <td>US-based startup Volo Beauty showed a ₹28,000 ...</td>\n",
       "      <td>technology</td>\n",
       "      <td>US startup makes ₹28,000 cordless 'infrared' h...</td>\n",
       "      <td>us startup make cordless infrared hair dryer u...</td>\n",
       "    </tr>\n",
       "    <tr>\n",
       "      <th>2</th>\n",
       "      <td>Apple, which never attends CES, puts ad near e...</td>\n",
       "      <td>Apple, which never attends technology event CE...</td>\n",
       "      <td>technology</td>\n",
       "      <td>Apple, which never attends CES, puts ad near e...</td>\n",
       "      <td>apple never attend ce put ad near event troll ...</td>\n",
       "    </tr>\n",
       "    <tr>\n",
       "      <th>3</th>\n",
       "      <td>Billionaire offers ₹6.5 crore to 100 people fo...</td>\n",
       "      <td>A tweet by billionaire and Japan's largest clo...</td>\n",
       "      <td>technology</td>\n",
       "      <td>Billionaire offers ₹6.5 crore to 100 people fo...</td>\n",
       "      <td>billionaire offer crore people retweet tweet t...</td>\n",
       "    </tr>\n",
       "    <tr>\n",
       "      <th>4</th>\n",
       "      <td>Google shifted $22.7 billion to tax haven Berm...</td>\n",
       "      <td>Google moved $22.7 billion through a Dutch she...</td>\n",
       "      <td>technology</td>\n",
       "      <td>Google shifted $22.7 billion to tax haven Berm...</td>\n",
       "      <td>google shift billion tax bermuda google move b...</td>\n",
       "    </tr>\n",
       "  </tbody>\n",
       "</table>\n",
       "</div>"
      ],
      "text/plain": [
       "                                       news_headline  \\\n",
       "0  Apple loses $450 billion in market cap in the ...   \n",
       "1  US startup makes ₹28,000 cordless 'infrared' h...   \n",
       "2  Apple, which never attends CES, puts ad near e...   \n",
       "3  Billionaire offers ₹6.5 crore to 100 people fo...   \n",
       "4  Google shifted $22.7 billion to tax haven Berm...   \n",
       "\n",
       "                                        news_article news_category  \\\n",
       "0  Shares of the world's first trillion-dollar pu...    technology   \n",
       "1  US-based startup Volo Beauty showed a ₹28,000 ...    technology   \n",
       "2  Apple, which never attends technology event CE...    technology   \n",
       "3  A tweet by billionaire and Japan's largest clo...    technology   \n",
       "4  Google moved $22.7 billion through a Dutch she...    technology   \n",
       "\n",
       "                                           full_text  \\\n",
       "0  Apple loses $450 billion in market cap in the ...   \n",
       "1  US startup makes ₹28,000 cordless 'infrared' h...   \n",
       "2  Apple, which never attends CES, puts ad near e...   \n",
       "3  Billionaire offers ₹6.5 crore to 100 people fo...   \n",
       "4  Google shifted $22.7 billion to tax haven Berm...   \n",
       "\n",
       "                                          clean_text  \n",
       "0  apple lose billion market cap last month share...  \n",
       "1  us startup make cordless infrared hair dryer u...  \n",
       "2  apple never attend ce put ad near event troll ...  \n",
       "3  billionaire offer crore people retweet tweet t...  \n",
       "4  google shift billion tax bermuda google move b...  "
      ]
     },
     "execution_count": 3,
     "metadata": {},
     "output_type": "execute_result"
    }
   ],
   "source": [
    "df.head()"
   ]
  },
  {
   "cell_type": "markdown",
   "metadata": {},
   "source": [
    "#### Load the english dictionary"
   ]
  },
  {
   "cell_type": "code",
   "execution_count": 4,
   "metadata": {},
   "outputs": [],
   "source": [
    "import spacy\n",
    "nlp = spacy.load(\"en_core_web_sm\")"
   ]
  },
  {
   "cell_type": "markdown",
   "metadata": {},
   "source": [
    "#### Extract the first document and convert the text to a single string"
   ]
  },
  {
   "cell_type": "code",
   "execution_count": 5,
   "metadata": {},
   "outputs": [
    {
     "name": "stdout",
     "output_type": "stream",
     "text": [
      "Apple loses $450 billion in market cap in the last 3 months. Shares of the world's first trillion-dollar public company, Apple, have fallen over 38% between October 2018 and January 2019, costing it over $450 billion in market capitalisation. CEO Tim Cook recently cut Apple's quarterly revenue forecast for the first time in nearly 20 years, adding the company expects to make $84 billion, lower than the previous estimate of $89-93 billion.\n"
     ]
    }
   ],
   "source": [
    "sentence = str(df.iloc[0].full_text)\n",
    "print(sentence)"
   ]
  },
  {
   "cell_type": "markdown",
   "metadata": {},
   "source": [
    "#### Convert the sentence to a spacy object of tokens"
   ]
  },
  {
   "cell_type": "code",
   "execution_count": 6,
   "metadata": {},
   "outputs": [
    {
     "name": "stdout",
     "output_type": "stream",
     "text": [
      "Apple loses $450 billion in market cap in the last 3 months. Shares of the world's first trillion-dollar public company, Apple, have fallen over 38% between October 2018 and January 2019, costing it over $450 billion in market capitalisation. CEO Tim Cook recently cut Apple's quarterly revenue forecast for the first time in nearly 20 years, adding the company expects to make $84 billion, lower than the previous estimate of $89-93 billion.\n"
     ]
    },
    {
     "data": {
      "text/plain": [
       "spacy.tokens.doc.Doc"
      ]
     },
     "execution_count": 6,
     "metadata": {},
     "output_type": "execute_result"
    }
   ],
   "source": [
    "sentence_nlp = nlp(sentence)\n",
    "print(sentence_nlp)\n",
    "type(sentence_nlp)"
   ]
  },
  {
   "cell_type": "markdown",
   "metadata": {},
   "source": [
    "#### Extract the parts of speech tags"
   ]
  },
  {
   "cell_type": "markdown",
   "metadata": {},
   "source": [
    "**Text:** The original word text.   \n",
    "**Lemma:** The base form of the word.   \n",
    "**POS:** The simple part-of-speech tag.  \n",
    "**Tag:** The detailed part-of-speech tag.  \n",
    "**Dep:** Syntactic dependency, i.e. the relation between tokens.  \n",
    "**Shape:** The word shape – capitalisation, punctuation, digits.  \n",
    "**is alpha:** Is the token an alpha character?  \n",
    "**is stop:** Is the token part of a stop list, i.e. the most common words of the language?  "
   ]
  },
  {
   "cell_type": "code",
   "execution_count": 7,
   "metadata": {},
   "outputs": [
    {
     "data": {
      "text/html": [
       "<div>\n",
       "<style scoped>\n",
       "    .dataframe tbody tr th:only-of-type {\n",
       "        vertical-align: middle;\n",
       "    }\n",
       "\n",
       "    .dataframe tbody tr th {\n",
       "        vertical-align: top;\n",
       "    }\n",
       "\n",
       "    .dataframe thead th {\n",
       "        text-align: right;\n",
       "    }\n",
       "</style>\n",
       "<table border=\"1\" class=\"dataframe\">\n",
       "  <thead>\n",
       "    <tr style=\"text-align: right;\">\n",
       "      <th></th>\n",
       "      <th>doc_id</th>\n",
       "      <th>word</th>\n",
       "      <th>lemma</th>\n",
       "      <th>POS_tag</th>\n",
       "      <th>tag_type</th>\n",
       "      <th>dep</th>\n",
       "      <th>shape</th>\n",
       "      <th>is_alpha</th>\n",
       "      <th>is_stop</th>\n",
       "    </tr>\n",
       "  </thead>\n",
       "  <tbody>\n",
       "    <tr>\n",
       "      <th>0</th>\n",
       "      <td>1</td>\n",
       "      <td>Apple</td>\n",
       "      <td>Apple</td>\n",
       "      <td>PROPN</td>\n",
       "      <td>NNP</td>\n",
       "      <td>nsubj</td>\n",
       "      <td>Xxxxx</td>\n",
       "      <td>True</td>\n",
       "      <td>False</td>\n",
       "    </tr>\n",
       "    <tr>\n",
       "      <th>1</th>\n",
       "      <td>1</td>\n",
       "      <td>loses</td>\n",
       "      <td>lose</td>\n",
       "      <td>VERB</td>\n",
       "      <td>VBZ</td>\n",
       "      <td>ROOT</td>\n",
       "      <td>xxxx</td>\n",
       "      <td>True</td>\n",
       "      <td>False</td>\n",
       "    </tr>\n",
       "    <tr>\n",
       "      <th>2</th>\n",
       "      <td>1</td>\n",
       "      <td>$</td>\n",
       "      <td>$</td>\n",
       "      <td>SYM</td>\n",
       "      <td>$</td>\n",
       "      <td>quantmod</td>\n",
       "      <td>$</td>\n",
       "      <td>False</td>\n",
       "      <td>False</td>\n",
       "    </tr>\n",
       "    <tr>\n",
       "      <th>3</th>\n",
       "      <td>1</td>\n",
       "      <td>450</td>\n",
       "      <td>450</td>\n",
       "      <td>NUM</td>\n",
       "      <td>CD</td>\n",
       "      <td>compound</td>\n",
       "      <td>ddd</td>\n",
       "      <td>False</td>\n",
       "      <td>False</td>\n",
       "    </tr>\n",
       "    <tr>\n",
       "      <th>4</th>\n",
       "      <td>1</td>\n",
       "      <td>billion</td>\n",
       "      <td>billion</td>\n",
       "      <td>NUM</td>\n",
       "      <td>CD</td>\n",
       "      <td>dobj</td>\n",
       "      <td>xxxx</td>\n",
       "      <td>True</td>\n",
       "      <td>False</td>\n",
       "    </tr>\n",
       "    <tr>\n",
       "      <th>5</th>\n",
       "      <td>1</td>\n",
       "      <td>in</td>\n",
       "      <td>in</td>\n",
       "      <td>ADP</td>\n",
       "      <td>IN</td>\n",
       "      <td>prep</td>\n",
       "      <td>xx</td>\n",
       "      <td>True</td>\n",
       "      <td>True</td>\n",
       "    </tr>\n",
       "    <tr>\n",
       "      <th>6</th>\n",
       "      <td>1</td>\n",
       "      <td>market</td>\n",
       "      <td>market</td>\n",
       "      <td>NOUN</td>\n",
       "      <td>NN</td>\n",
       "      <td>compound</td>\n",
       "      <td>xxxx</td>\n",
       "      <td>True</td>\n",
       "      <td>False</td>\n",
       "    </tr>\n",
       "    <tr>\n",
       "      <th>7</th>\n",
       "      <td>1</td>\n",
       "      <td>cap</td>\n",
       "      <td>cap</td>\n",
       "      <td>NOUN</td>\n",
       "      <td>NN</td>\n",
       "      <td>pobj</td>\n",
       "      <td>xxx</td>\n",
       "      <td>True</td>\n",
       "      <td>False</td>\n",
       "    </tr>\n",
       "    <tr>\n",
       "      <th>8</th>\n",
       "      <td>1</td>\n",
       "      <td>in</td>\n",
       "      <td>in</td>\n",
       "      <td>ADP</td>\n",
       "      <td>IN</td>\n",
       "      <td>prep</td>\n",
       "      <td>xx</td>\n",
       "      <td>True</td>\n",
       "      <td>True</td>\n",
       "    </tr>\n",
       "    <tr>\n",
       "      <th>9</th>\n",
       "      <td>1</td>\n",
       "      <td>the</td>\n",
       "      <td>the</td>\n",
       "      <td>DET</td>\n",
       "      <td>DT</td>\n",
       "      <td>det</td>\n",
       "      <td>xxx</td>\n",
       "      <td>True</td>\n",
       "      <td>True</td>\n",
       "    </tr>\n",
       "  </tbody>\n",
       "</table>\n",
       "</div>"
      ],
      "text/plain": [
       "   doc_id     word    lemma POS_tag tag_type       dep  shape  is_alpha  \\\n",
       "0       1    Apple    Apple   PROPN      NNP     nsubj  Xxxxx      True   \n",
       "1       1    loses     lose    VERB      VBZ      ROOT   xxxx      True   \n",
       "2       1        $        $     SYM        $  quantmod      $     False   \n",
       "3       1      450      450     NUM       CD  compound    ddd     False   \n",
       "4       1  billion  billion     NUM       CD      dobj   xxxx      True   \n",
       "5       1       in       in     ADP       IN      prep     xx      True   \n",
       "6       1   market   market    NOUN       NN  compound   xxxx      True   \n",
       "7       1      cap      cap    NOUN       NN      pobj    xxx      True   \n",
       "8       1       in       in     ADP       IN      prep     xx      True   \n",
       "9       1      the      the     DET       DT       det    xxx      True   \n",
       "\n",
       "   is_stop  \n",
       "0    False  \n",
       "1    False  \n",
       "2    False  \n",
       "3    False  \n",
       "4    False  \n",
       "5     True  \n",
       "6    False  \n",
       "7    False  \n",
       "8     True  \n",
       "9     True  "
      ]
     },
     "execution_count": 7,
     "metadata": {},
     "output_type": "execute_result"
    }
   ],
   "source": [
    "df_pos = pd.DataFrame([(1, word.text, word.lemma_, word.pos_, word.tag_, word.dep_,\n",
    "                     word.shape_, word.is_alpha, word.is_stop) for word in sentence_nlp], \n",
    "                   columns=['doc_id', 'word', 'lemma', 'POS_tag', 'tag_type', 'dep', 'shape', 'is_alpha', 'is_stop'])\n",
    "\n",
    "df_pos.head(10)"
   ]
  },
  {
   "cell_type": "code",
   "execution_count": 8,
   "metadata": {},
   "outputs": [
    {
     "data": {
      "text/plain": [
       "NOUN     17\n",
       "NUM      15\n",
       "ADP      10\n",
       "PUNCT     9\n",
       "PROPN     7\n",
       "VERB      7\n",
       "ADJ       7\n",
       "SYM       5\n",
       "DET       5\n",
       "PART      3\n",
       "ADV       2\n",
       "CCONJ     1\n",
       "SCONJ     1\n",
       "AUX       1\n",
       "PRON      1\n",
       "Name: POS_tag, dtype: int64"
      ]
     },
     "execution_count": 8,
     "metadata": {},
     "output_type": "execute_result"
    }
   ],
   "source": [
    "df_pos.POS_tag.value_counts()"
   ]
  },
  {
   "cell_type": "code",
   "execution_count": 9,
   "metadata": {},
   "outputs": [
    {
     "name": "stdout",
     "output_type": "stream",
     "text": [
      "<class 'pandas.core.frame.DataFrame'>\n",
      "RangeIndex: 91 entries, 0 to 90\n",
      "Data columns (total 9 columns):\n",
      " #   Column    Non-Null Count  Dtype \n",
      "---  ------    --------------  ----- \n",
      " 0   doc_id    91 non-null     int64 \n",
      " 1   word      91 non-null     object\n",
      " 2   lemma     91 non-null     object\n",
      " 3   POS_tag   91 non-null     object\n",
      " 4   tag_type  91 non-null     object\n",
      " 5   dep       91 non-null     object\n",
      " 6   shape     91 non-null     object\n",
      " 7   is_alpha  91 non-null     bool  \n",
      " 8   is_stop   91 non-null     bool  \n",
      "dtypes: bool(2), int64(1), object(6)\n",
      "memory usage: 5.3+ KB\n"
     ]
    }
   ],
   "source": [
    "df_pos.info()"
   ]
  }
 ],
 "metadata": {
  "kernelspec": {
   "display_name": "Python 3",
   "language": "python",
   "name": "python3"
  },
  "language_info": {
   "codemirror_mode": {
    "name": "ipython",
    "version": 3
   },
   "file_extension": ".py",
   "mimetype": "text/x-python",
   "name": "python",
   "nbconvert_exporter": "python",
   "pygments_lexer": "ipython3",
   "version": "3.8.5"
  }
 },
 "nbformat": 4,
 "nbformat_minor": 2
}
