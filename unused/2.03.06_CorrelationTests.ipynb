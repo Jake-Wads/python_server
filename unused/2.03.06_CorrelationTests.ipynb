{
 "cells": [
  {
   "cell_type": "markdown",
   "metadata": {},
   "source": [
    "# Statistical Testing\n",
    "\n",
    "## Correlation Tests\n",
    "\n",
    "\n",
    "1. Estimates  \n",
    "2. Sampling\n",
    "3. Power\n",
    "4. Statistical Tests\n",
    "    1. Normality Tests\n",
    "    2. **Correlation Tests**\n",
    "    3. Parametric Statistical Hypothesis Tests\n",
    "    4. Nonparametric Statistical Hypothesis Tests"
   ]
  },
  {
   "cell_type": "markdown",
   "metadata": {},
   "source": [
    "## Correlation Tests\n",
    "\n",
    "1. Pearson's Correlation Coefficient\n",
    "2. Spearman's Rank Correlation\n",
    "3. Kendall's Rank Correlation\n",
    "4. Chi-Squared Test\n",
    "\n",
    "Correlation tests are statistical tests to use to check if two samples are related.\n",
    "They are often used for feature selection and multivariate analysis in data preprocessing and exploration.   \n",
    "Correlation helps us investigate and establish relationships between variables.   \n",
    "This is employed in feature selection before any kind of statistical modelling or data analysis.\n",
    "\n",
    "\n",
    "### 1. Pearson’s Correlation Coefficient\n",
    "1. Tests whether two samples have a linear relationship. \n",
    "    - The correlation coefficient is a numerical measure of the sign and strength of the linear association between two variables.\n",
    "    - It is like covariance, but divides out the standard deviations of both variables.\n",
    "    - It is unitless and always lies between -1 and 1, where 1 = perfect correlation and -1 = perfect negative correlation.\n",
    "    - The correlation coefficient will range between -1.00 (negative correlation) and +1.00 (positive correlation).\n",
    "    - Correlation is not causality. A causal relationship exists when the independent variable is the underlying contributing determinant of the dependent variable. A causal relationship may be suggested by correlation; it is not proof a causal relationship exists however.\n",
    "2. Assumptions\n",
    "    - Observations in each sample are independent and identically distributed (iid).\n",
    "    - Observations in each sample are normally distributed.\n",
    "    - Observations in each sample have the same variance.\n",
    "3. Interpretation\n",
    "    - H0: the two samples are independent.\n",
    "    - H1: there is a dependency between the samples.\n",
    "4. Python Code  \n",
    "`from scipy.stats import pearsonr\n",
    "data1, data2 = ...\n",
    "corr, p = pearsonr(data1, data2)`\n",
    "\n",
    "#### Caveats to Pearson's Correlation\n",
    "\n",
    "##### 1. Simpson's Paradox\n",
    "- states that correlations can be misleading when confounding variables are ignored. (*Data Science from Scratch*).  \n",
    "- Correlation is measuring the relationship between two variables, *with all else being equal*, so you should check for confounding factors before drawing conclusions related to correlation.  \n",
    "\n",
    "Demonstrating the effect of confounding variables: "
   ]
  },
  {
   "cell_type": "code",
   "execution_count": 1,
   "metadata": {},
   "outputs": [
    {
     "data": {
      "text/html": [
       "<div>\n",
       "<style scoped>\n",
       "    .dataframe tbody tr th:only-of-type {\n",
       "        vertical-align: middle;\n",
       "    }\n",
       "\n",
       "    .dataframe tbody tr th {\n",
       "        vertical-align: top;\n",
       "    }\n",
       "\n",
       "    .dataframe thead th {\n",
       "        text-align: right;\n",
       "    }\n",
       "</style>\n",
       "<table border=\"1\" class=\"dataframe\">\n",
       "  <thead>\n",
       "    <tr style=\"text-align: right;\">\n",
       "      <th></th>\n",
       "      <th>region</th>\n",
       "      <th>num_customers</th>\n",
       "      <th>avg_spend</th>\n",
       "    </tr>\n",
       "  </thead>\n",
       "  <tbody>\n",
       "    <tr>\n",
       "      <th>0</th>\n",
       "      <td>SAFD</td>\n",
       "      <td>103,000</td>\n",
       "      <td>$646.80</td>\n",
       "    </tr>\n",
       "    <tr>\n",
       "      <th>1</th>\n",
       "      <td>HFD</td>\n",
       "      <td>101,000</td>\n",
       "      <td>$819.70</td>\n",
       "    </tr>\n",
       "  </tbody>\n",
       "</table>\n",
       "</div>"
      ],
      "text/plain": [
       "  region num_customers avg_spend\n",
       "0   SAFD       103,000   $646.80\n",
       "1    HFD       101,000   $819.70"
      ]
     },
     "execution_count": 1,
     "metadata": {},
     "output_type": "execute_result"
    }
   ],
   "source": [
    "import pandas as pd\n",
    "d = {'region': ['SAFD','HFD'], 'num_customers': ['103,000', '101,000'], 'avg_spend': ['$646.80', '$819.70']}\n",
    "df = pd.DataFrame(data=d)\n",
    "df"
   ]
  },
  {
   "cell_type": "markdown",
   "metadata": {},
   "source": [
    "But when you separate by the class of loyalty, you can see that in both the loyal and non-loyal classes, San Antonio market has a higher average spend.  This is due to the impact of confounding variables.  "
   ]
  },
  {
   "cell_type": "code",
   "execution_count": 2,
   "metadata": {},
   "outputs": [
    {
     "data": {
      "text/html": [
       "<div>\n",
       "<style scoped>\n",
       "    .dataframe tbody tr th:only-of-type {\n",
       "        vertical-align: middle;\n",
       "    }\n",
       "\n",
       "    .dataframe tbody tr th {\n",
       "        vertical-align: top;\n",
       "    }\n",
       "\n",
       "    .dataframe thead th {\n",
       "        text-align: right;\n",
       "    }\n",
       "</style>\n",
       "<table border=\"1\" class=\"dataframe\">\n",
       "  <thead>\n",
       "    <tr style=\"text-align: right;\">\n",
       "      <th></th>\n",
       "      <th>region</th>\n",
       "      <th>loyalty</th>\n",
       "      <th>num_customers</th>\n",
       "      <th>avg_spend</th>\n",
       "    </tr>\n",
       "  </thead>\n",
       "  <tbody>\n",
       "    <tr>\n",
       "      <th>0</th>\n",
       "      <td>SAFD</td>\n",
       "      <td>loyal</td>\n",
       "      <td>33,000</td>\n",
       "      <td>$1340.00</td>\n",
       "    </tr>\n",
       "    <tr>\n",
       "      <th>1</th>\n",
       "      <td>SAFD</td>\n",
       "      <td>non-loyal</td>\n",
       "      <td>70,000</td>\n",
       "      <td>$320.00</td>\n",
       "    </tr>\n",
       "    <tr>\n",
       "      <th>2</th>\n",
       "      <td>HFD</td>\n",
       "      <td>loyal</td>\n",
       "      <td>66,000</td>\n",
       "      <td>$1090.00</td>\n",
       "    </tr>\n",
       "    <tr>\n",
       "      <th>3</th>\n",
       "      <td>HFD</td>\n",
       "      <td>non-loyal</td>\n",
       "      <td>35,000</td>\n",
       "      <td>$310.00</td>\n",
       "    </tr>\n",
       "  </tbody>\n",
       "</table>\n",
       "</div>"
      ],
      "text/plain": [
       "  region    loyalty num_customers avg_spend\n",
       "0   SAFD      loyal        33,000  $1340.00\n",
       "1   SAFD  non-loyal        70,000   $320.00\n",
       "2    HFD      loyal        66,000  $1090.00\n",
       "3    HFD  non-loyal        35,000   $310.00"
      ]
     },
     "execution_count": 2,
     "metadata": {},
     "output_type": "execute_result"
    }
   ],
   "source": [
    "d = {'region': ['SAFD','SAFD','HFD','HFD'], 'loyalty': ['loyal','non-loyal','loyal','non-loyal'],\n",
    "     'num_customers': ['33,000','70,000','66,000','35,000'], 'avg_spend': ['$1340.00','$320.00','$1090.00','$310.00']}\n",
    "df = pd.DataFrame(data=d)\n",
    "df"
   ]
  },
  {
   "cell_type": "markdown",
   "metadata": {},
   "source": [
    "##### 2. Linear Relationship\n",
    "- Correlation measures *linear* relationship between the 2 variables.   \n",
    "- A correlation of 0 indicates there is no *linear* relationship.  \n",
    "- However, there may be other types of relationships, such as a quadratic or absolute value relationship. \n"
   ]
  },
  {
   "cell_type": "code",
   "execution_count": 3,
   "metadata": {},
   "outputs": [
    {
     "data": {
      "text/html": [
       "<div>\n",
       "<style scoped>\n",
       "    .dataframe tbody tr th:only-of-type {\n",
       "        vertical-align: middle;\n",
       "    }\n",
       "\n",
       "    .dataframe tbody tr th {\n",
       "        vertical-align: top;\n",
       "    }\n",
       "\n",
       "    .dataframe thead th {\n",
       "        text-align: right;\n",
       "    }\n",
       "</style>\n",
       "<table border=\"1\" class=\"dataframe\">\n",
       "  <thead>\n",
       "    <tr style=\"text-align: right;\">\n",
       "      <th></th>\n",
       "      <th>x</th>\n",
       "      <th>y</th>\n",
       "    </tr>\n",
       "  </thead>\n",
       "  <tbody>\n",
       "    <tr>\n",
       "      <th>0</th>\n",
       "      <td>-2</td>\n",
       "      <td>2</td>\n",
       "    </tr>\n",
       "    <tr>\n",
       "      <th>1</th>\n",
       "      <td>-1</td>\n",
       "      <td>1</td>\n",
       "    </tr>\n",
       "    <tr>\n",
       "      <th>2</th>\n",
       "      <td>0</td>\n",
       "      <td>0</td>\n",
       "    </tr>\n",
       "    <tr>\n",
       "      <th>3</th>\n",
       "      <td>1</td>\n",
       "      <td>1</td>\n",
       "    </tr>\n",
       "    <tr>\n",
       "      <th>4</th>\n",
       "      <td>2</td>\n",
       "      <td>2</td>\n",
       "    </tr>\n",
       "  </tbody>\n",
       "</table>\n",
       "</div>"
      ],
      "text/plain": [
       "   x  y\n",
       "0 -2  2\n",
       "1 -1  1\n",
       "2  0  0\n",
       "3  1  1\n",
       "4  2  2"
      ]
     },
     "execution_count": 3,
     "metadata": {},
     "output_type": "execute_result"
    }
   ],
   "source": [
    "d = {'x': [-2, -1, 0, 1, 2], 'y': [2, 1, 0, 1, 2]}\n",
    "df = pd.DataFrame(data=d)\n",
    "df"
   ]
  },
  {
   "cell_type": "code",
   "execution_count": 4,
   "metadata": {},
   "outputs": [
    {
     "data": {
      "text/plain": [
       "0.0"
      ]
     },
     "execution_count": 4,
     "metadata": {},
     "output_type": "execute_result"
    }
   ],
   "source": [
    "from scipy.stats import linregress\n",
    "linregress(df)[0]"
   ]
  },
  {
   "cell_type": "markdown",
   "metadata": {},
   "source": [
    "##### 3. Scale of the Relationship\n",
    "Correlation tells you nothing about how large the relationship is.  \n",
    "\n"
   ]
  },
  {
   "cell_type": "code",
   "execution_count": 5,
   "metadata": {},
   "outputs": [
    {
     "data": {
      "text/html": [
       "<div>\n",
       "<style scoped>\n",
       "    .dataframe tbody tr th:only-of-type {\n",
       "        vertical-align: middle;\n",
       "    }\n",
       "\n",
       "    .dataframe tbody tr th {\n",
       "        vertical-align: top;\n",
       "    }\n",
       "\n",
       "    .dataframe thead th {\n",
       "        text-align: right;\n",
       "    }\n",
       "</style>\n",
       "<table border=\"1\" class=\"dataframe\">\n",
       "  <thead>\n",
       "    <tr style=\"text-align: right;\">\n",
       "      <th></th>\n",
       "      <th>x</th>\n",
       "      <th>y</th>\n",
       "    </tr>\n",
       "  </thead>\n",
       "  <tbody>\n",
       "    <tr>\n",
       "      <th>0</th>\n",
       "      <td>-2</td>\n",
       "      <td>99.98</td>\n",
       "    </tr>\n",
       "    <tr>\n",
       "      <th>1</th>\n",
       "      <td>-1</td>\n",
       "      <td>99.99</td>\n",
       "    </tr>\n",
       "    <tr>\n",
       "      <th>2</th>\n",
       "      <td>0</td>\n",
       "      <td>100.00</td>\n",
       "    </tr>\n",
       "    <tr>\n",
       "      <th>3</th>\n",
       "      <td>1</td>\n",
       "      <td>100.01</td>\n",
       "    </tr>\n",
       "    <tr>\n",
       "      <th>4</th>\n",
       "      <td>2</td>\n",
       "      <td>100.02</td>\n",
       "    </tr>\n",
       "  </tbody>\n",
       "</table>\n",
       "</div>"
      ],
      "text/plain": [
       "   x       y\n",
       "0 -2   99.98\n",
       "1 -1   99.99\n",
       "2  0  100.00\n",
       "3  1  100.01\n",
       "4  2  100.02"
      ]
     },
     "execution_count": 5,
     "metadata": {},
     "output_type": "execute_result"
    }
   ],
   "source": [
    "d = {'x': [-2, -1, 0, 1, 2], 'y': [99.98,99.99,100.00,100.01,100.02]}\n",
    "df = pd.DataFrame(data=d)\n",
    "df"
   ]
  },
  {
   "cell_type": "code",
   "execution_count": 6,
   "metadata": {},
   "outputs": [
    {
     "data": {
      "text/plain": [
       "1.0"
      ]
     },
     "execution_count": 6,
     "metadata": {},
     "output_type": "execute_result"
    }
   ],
   "source": [
    "from scipy.stats import linregress\n",
    "linregress(df)[2]\n"
   ]
  },
  {
   "cell_type": "markdown",
   "metadata": {},
   "source": [
    "##### 4. Correlation != Causation\n",
    "*see spurious correlations*  \n",
    "http://www.tylervigen.com/spurious-correlations   \n",
    "https://hbr.org/2015/06/beware-spurious-correlations  "
   ]
  },
  {
   "cell_type": "markdown",
   "metadata": {},
   "source": [
    "### 2. Spearman’s Rank Correlation\n",
    "1. Tests whether two samples have a monotonic relationship.\n",
    "2. Assumptions\n",
    "    - Observations in each sample are independent and identically distributed (iid).\n",
    "    - Observations in each sample can be ranked.\n",
    "3. Interpretation\n",
    "    - H0: the two samples are independent.\n",
    "    - H1: there is a dependency between the samples.\n",
    "4. Python Code  \n",
    "`from scipy.stats import spearmanr\n",
    "data1, data2 = ...\n",
    "corr, p = spearmanr(data1, data2)`"
   ]
  },
  {
   "cell_type": "markdown",
   "metadata": {},
   "source": [
    "### 3. Kendall’s Rank Correlation\n",
    "1. Tests whether two samples have a monotonic relationship.\n",
    "2. Assumptions\n",
    "    - Observations in each sample are independent and identically distributed (iid).\n",
    "    - Observations in each sample can be ranked.\n",
    "3. Interpretation\n",
    "    - H0: the two samples are independent.\n",
    "    - H1: there is a dependency between the samples.\n",
    "4. Python Code  \n",
    "`from scipy.stats import kendalltau\n",
    "data1, data2 = ...\n",
    "corr, p = kendalltau(data1, data2)`"
   ]
  },
  {
   "cell_type": "markdown",
   "metadata": {},
   "source": [
    "### 4. Chi-Squared Test\n",
    "1. Tests whether two categorical variables are related or independent.\n",
    "2. Assumptions\n",
    "    - Observations used in the calculation of the contingency table are independent.\n",
    "    - 25 or more examples in each cell of the contingency table.\n",
    "3. Interpretation\n",
    "    - H0: the two samples are independent.\n",
    "    - H1: there is a dependency between the samples.\n",
    "4. Python Code  \n",
    "`from scipy.stats import chi2_contingency\n",
    "table = ...\n",
    "stat, p, dof, expected = chi2_contingency(table)`"
   ]
  },
  {
   "cell_type": "markdown",
   "metadata": {},
   "source": [
    "### Appendix\n",
    "\n",
    "#### Covariance\n",
    "While variance measures how a single variable deviates from its mean, covariance measures how two variables vary in tandem from their means. \n",
    "- A large positive covariance means that x tends to be large when y is large, and small when y is small.  \n",
    "- A large negative covariance means that x tends to be large when y is small, and vice versa.  \n",
    "- If units are the product of the inputs' units, it can be hard to interpret (e.g. *friend-minutes-per-day...what's a \"friend-minutes-per-day?*) \n",
    "- *If each user had twice as many friends, but the same number of minutes, the covariance would be twice as large.  But in a sense the variables would be just as interrelated...it's hard to say what counts as a \"large\" covariance.*   \n",
    "\n",
    "PCA or Principal Component Analysis is an application of correlation analysis. Do we use a correlation matrix or a covariance matrix? Use the covariance matrix when the variable are on similar scales and the correlation matrix when the scales of the variables differ.\n",
    "\n"
   ]
  },
  {
   "cell_type": "code",
   "execution_count": null,
   "metadata": {},
   "outputs": [],
   "source": []
  }
 ],
 "metadata": {
  "kernelspec": {
   "display_name": "Python 3",
   "language": "python",
   "name": "python3"
  },
  "language_info": {
   "codemirror_mode": {
    "name": "ipython",
    "version": 3
   },
   "file_extension": ".py",
   "mimetype": "text/x-python",
   "name": "python",
   "nbconvert_exporter": "python",
   "pygments_lexer": "ipython3",
   "version": "3.6.6"
  }
 },
 "nbformat": 4,
 "nbformat_minor": 2
}
