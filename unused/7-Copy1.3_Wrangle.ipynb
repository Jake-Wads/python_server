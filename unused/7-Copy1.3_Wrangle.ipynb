{
 "cells": [
  {
   "cell_type": "markdown",
   "metadata": {},
   "source": [
    "# Data Wrangling: Acquisition & Preparation\n",
    "\n",
    "## Example Goals\n",
    "\n",
    "Improve Zestimate log error prediction model by using clusters that include location as a feature for the model.  \n",
    "\n",
    "## Learning Goals\n",
    "    \n",
    "- Acquire a sample of data from SQL\n",
    "- Identify null values, which nulls are 'deal-breakers', i.e. rows removed, which nulls should be represented by 0, and which should be replaced by a value from other methods, such as mean.\t\t\n",
    "- Identify outliers and decide what to do with them, if anything.  (remove, keep as-is, replace)\n",
    "- Data Structure:  Aggregate as needed so that every row is an observation and each column is a variable (1 variable and not a measure). \n",
    "\n",
    "\n",
    "## Demonstrating\n",
    "\n",
    "*information about the examples we will be using*\n",
    "\n",
    "1. Prepare the environment\n",
    "2. Summarize the Data\n",
    "3. Missing Values\n",
    "4. Outliers\n",
    "5. Tidy the data"
   ]
  },
  {
   "cell_type": "markdown",
   "metadata": {},
   "source": [
    "### 1. Prepare the environment"
   ]
  },
  {
   "cell_type": "code",
   "execution_count": 63,
   "metadata": {},
   "outputs": [],
   "source": [
    "# ignore warnings\n",
    "import warnings\n",
    "warnings.filterwarnings(\"ignore\")\n",
    "\n",
    "# Wrangling\n",
    "import pandas as pd\n",
    "import numpy as np\n",
    "\n",
    "# Exploring\n",
    "import scipy.stats as stats\n",
    "\n",
    "# Visualizing\n",
    "%matplotlib inline\n",
    "import matplotlib.pyplot as plt\n",
    "import seaborn as sns\n",
    "\n",
    "# Modeling\n",
    "from sklearn.model_selection import train_test_split\n",
    "\n",
    "pd.options.display.float_format = '{:20,.2f}'.format\n",
    "%matplotlib inline\n",
    "\n",
    "seed = 123"
   ]
  },
  {
   "cell_type": "code",
   "execution_count": 23,
   "metadata": {},
   "outputs": [
    {
     "data": {
      "text/html": [
       "<div>\n",
       "<style scoped>\n",
       "    .dataframe tbody tr th:only-of-type {\n",
       "        vertical-align: middle;\n",
       "    }\n",
       "\n",
       "    .dataframe tbody tr th {\n",
       "        vertical-align: top;\n",
       "    }\n",
       "\n",
       "    .dataframe thead th {\n",
       "        text-align: right;\n",
       "    }\n",
       "</style>\n",
       "<table border=\"1\" class=\"dataframe\">\n",
       "  <thead>\n",
       "    <tr style=\"text-align: right;\">\n",
       "      <th></th>\n",
       "      <th>parcelid</th>\n",
       "      <th>bathroomcnt</th>\n",
       "      <th>bedroomcnt</th>\n",
       "      <th>calculatedfinishedsquarefeet</th>\n",
       "      <th>latitude</th>\n",
       "      <th>longitude</th>\n",
       "      <th>fips</th>\n",
       "      <th>regionidcounty</th>\n",
       "      <th>regionidzip</th>\n",
       "      <th>yearbuilt</th>\n",
       "      <th>taxvaluedollarcnt</th>\n",
       "      <th>landtaxvaluedollarcnt</th>\n",
       "      <th>logerror</th>\n",
       "      <th>transactiondate</th>\n",
       "    </tr>\n",
       "  </thead>\n",
       "  <tbody>\n",
       "    <tr>\n",
       "      <th>0</th>\n",
       "      <td>11016594</td>\n",
       "      <td>2.00</td>\n",
       "      <td>3.00</td>\n",
       "      <td>1,684.00</td>\n",
       "      <td>34,280,990.00</td>\n",
       "      <td>-118,488,536.00</td>\n",
       "      <td>6,037.00</td>\n",
       "      <td>3,101.00</td>\n",
       "      <td>96,370.00</td>\n",
       "      <td>1,959.00</td>\n",
       "      <td>360,170.00</td>\n",
       "      <td>237,416.00</td>\n",
       "      <td>0.03</td>\n",
       "      <td>2016-01-01</td>\n",
       "    </tr>\n",
       "    <tr>\n",
       "      <th>1</th>\n",
       "      <td>12098116</td>\n",
       "      <td>3.00</td>\n",
       "      <td>2.00</td>\n",
       "      <td>2,217.00</td>\n",
       "      <td>34,136,312.00</td>\n",
       "      <td>-118,175,032.00</td>\n",
       "      <td>6,037.00</td>\n",
       "      <td>3,101.00</td>\n",
       "      <td>96,293.00</td>\n",
       "      <td>1,940.00</td>\n",
       "      <td>119,906.00</td>\n",
       "      <td>57,912.00</td>\n",
       "      <td>-0.00</td>\n",
       "      <td>2016-01-01</td>\n",
       "    </tr>\n",
       "    <tr>\n",
       "      <th>2</th>\n",
       "      <td>12643413</td>\n",
       "      <td>2.00</td>\n",
       "      <td>2.00</td>\n",
       "      <td>839.00</td>\n",
       "      <td>33,755,800.00</td>\n",
       "      <td>-118,309,000.00</td>\n",
       "      <td>6,037.00</td>\n",
       "      <td>3,101.00</td>\n",
       "      <td>96,222.00</td>\n",
       "      <td>1,987.00</td>\n",
       "      <td>244,880.00</td>\n",
       "      <td>73,362.00</td>\n",
       "      <td>0.02</td>\n",
       "      <td>2016-01-02</td>\n",
       "    </tr>\n",
       "    <tr>\n",
       "      <th>3</th>\n",
       "      <td>11509835</td>\n",
       "      <td>4.00</td>\n",
       "      <td>4.00</td>\n",
       "      <td>3,067.00</td>\n",
       "      <td>33,870,089.00</td>\n",
       "      <td>-118,402,768.00</td>\n",
       "      <td>6,037.00</td>\n",
       "      <td>3,101.00</td>\n",
       "      <td>96,109.00</td>\n",
       "      <td>1,982.00</td>\n",
       "      <td>2,447,951.00</td>\n",
       "      <td>1,567,301.00</td>\n",
       "      <td>-0.27</td>\n",
       "      <td>2016-01-02</td>\n",
       "    </tr>\n",
       "    <tr>\n",
       "      <th>4</th>\n",
       "      <td>12286022</td>\n",
       "      <td>1.00</td>\n",
       "      <td>2.00</td>\n",
       "      <td>1,297.00</td>\n",
       "      <td>33,899,475.00</td>\n",
       "      <td>-118,212,720.00</td>\n",
       "      <td>6,037.00</td>\n",
       "      <td>3,101.00</td>\n",
       "      <td>96,091.00</td>\n",
       "      <td>1,939.00</td>\n",
       "      <td>111,521.00</td>\n",
       "      <td>46,972.00</td>\n",
       "      <td>0.04</td>\n",
       "      <td>2016-01-02</td>\n",
       "    </tr>\n",
       "  </tbody>\n",
       "</table>\n",
       "</div>"
      ],
      "text/plain": [
       "   parcelid          bathroomcnt           bedroomcnt  \\\n",
       "0  11016594                 2.00                 3.00   \n",
       "1  12098116                 3.00                 2.00   \n",
       "2  12643413                 2.00                 2.00   \n",
       "3  11509835                 4.00                 4.00   \n",
       "4  12286022                 1.00                 2.00   \n",
       "\n",
       "   calculatedfinishedsquarefeet             latitude            longitude  \\\n",
       "0                      1,684.00        34,280,990.00      -118,488,536.00   \n",
       "1                      2,217.00        34,136,312.00      -118,175,032.00   \n",
       "2                        839.00        33,755,800.00      -118,309,000.00   \n",
       "3                      3,067.00        33,870,089.00      -118,402,768.00   \n",
       "4                      1,297.00        33,899,475.00      -118,212,720.00   \n",
       "\n",
       "                  fips       regionidcounty          regionidzip  \\\n",
       "0             6,037.00             3,101.00            96,370.00   \n",
       "1             6,037.00             3,101.00            96,293.00   \n",
       "2             6,037.00             3,101.00            96,222.00   \n",
       "3             6,037.00             3,101.00            96,109.00   \n",
       "4             6,037.00             3,101.00            96,091.00   \n",
       "\n",
       "             yearbuilt    taxvaluedollarcnt  landtaxvaluedollarcnt  \\\n",
       "0             1,959.00           360,170.00             237,416.00   \n",
       "1             1,940.00           119,906.00              57,912.00   \n",
       "2             1,987.00           244,880.00              73,362.00   \n",
       "3             1,982.00         2,447,951.00           1,567,301.00   \n",
       "4             1,939.00           111,521.00              46,972.00   \n",
       "\n",
       "              logerror transactiondate  \n",
       "0                 0.03      2016-01-01  \n",
       "1                -0.00      2016-01-01  \n",
       "2                 0.02      2016-01-02  \n",
       "3                -0.27      2016-01-02  \n",
       "4                 0.04      2016-01-02  "
      ]
     },
     "execution_count": 23,
     "metadata": {},
     "output_type": "execute_result"
    }
   ],
   "source": [
    "import env\n",
    "\n",
    "def get_connection(db, user=env.user, host=env.host, password=env.password):\n",
    "    return f'mysql+pymysql://{user}:{password}@{host}/{db}'\n",
    "\n",
    "\n",
    "df = pd.read_sql('''\n",
    "                 SELECT p2.parcelid, p2.bathroomcnt, p2.bedroomcnt, p2.calculatedfinishedsquarefeet, p2.latitude, \n",
    "                 p2.longitude, p2.fips, p2.regionidcounty, p2.regionidzip, p2.yearbuilt, p2.taxvaluedollarcnt, \n",
    "                 p2.landtaxvaluedollarcnt, p1.logerror, p1.transactiondate\n",
    "                    FROM predictions_2016 p1\n",
    "                    LEFT JOIN properties_2016 p2  USING(parcelid)\n",
    "                    WHERE bedroomcnt > 0 AND bathroomcnt > 0 AND unitcnt = 1 \n",
    "                    AND latitude IS NOT NULL AND longitude IS NOT NULL;\n",
    "                    '''\n",
    "                 , get_connection('zillow'))\n",
    "\n",
    "df.head()"
   ]
  },
  {
   "cell_type": "markdown",
   "metadata": {},
   "source": [
    "_________________________________________\n",
    "\n",
    "### 2. Summarize the Data"
   ]
  },
  {
   "cell_type": "code",
   "execution_count": 24,
   "metadata": {},
   "outputs": [
    {
     "data": {
      "text/plain": [
       "(54233, 14)"
      ]
     },
     "execution_count": 24,
     "metadata": {},
     "output_type": "execute_result"
    }
   ],
   "source": [
    "df.shape"
   ]
  },
  {
   "cell_type": "code",
   "execution_count": 25,
   "metadata": {},
   "outputs": [
    {
     "name": "stdout",
     "output_type": "stream",
     "text": [
      "<class 'pandas.core.frame.DataFrame'>\n",
      "RangeIndex: 54233 entries, 0 to 54232\n",
      "Data columns (total 14 columns):\n",
      "parcelid                        54233 non-null int64\n",
      "bathroomcnt                     54233 non-null float64\n",
      "bedroomcnt                      54233 non-null float64\n",
      "calculatedfinishedsquarefeet    54231 non-null float64\n",
      "latitude                        54233 non-null float64\n",
      "longitude                       54233 non-null float64\n",
      "fips                            54233 non-null float64\n",
      "regionidcounty                  54233 non-null float64\n",
      "regionidzip                     54233 non-null float64\n",
      "yearbuilt                       54221 non-null float64\n",
      "taxvaluedollarcnt               54233 non-null float64\n",
      "landtaxvaluedollarcnt           54233 non-null float64\n",
      "logerror                        54233 non-null float64\n",
      "transactiondate                 54233 non-null object\n",
      "dtypes: float64(12), int64(1), object(1)\n",
      "memory usage: 5.8+ MB\n"
     ]
    }
   ],
   "source": [
    "df.info()"
   ]
  },
  {
   "cell_type": "code",
   "execution_count": 26,
   "metadata": {},
   "outputs": [
    {
     "data": {
      "text/html": [
       "<div>\n",
       "<style scoped>\n",
       "    .dataframe tbody tr th:only-of-type {\n",
       "        vertical-align: middle;\n",
       "    }\n",
       "\n",
       "    .dataframe tbody tr th {\n",
       "        vertical-align: top;\n",
       "    }\n",
       "\n",
       "    .dataframe thead th {\n",
       "        text-align: right;\n",
       "    }\n",
       "</style>\n",
       "<table border=\"1\" class=\"dataframe\">\n",
       "  <thead>\n",
       "    <tr style=\"text-align: right;\">\n",
       "      <th></th>\n",
       "      <th>parcelid</th>\n",
       "      <th>bathroomcnt</th>\n",
       "      <th>bedroomcnt</th>\n",
       "      <th>calculatedfinishedsquarefeet</th>\n",
       "      <th>latitude</th>\n",
       "      <th>longitude</th>\n",
       "      <th>fips</th>\n",
       "      <th>regionidcounty</th>\n",
       "      <th>regionidzip</th>\n",
       "      <th>yearbuilt</th>\n",
       "      <th>taxvaluedollarcnt</th>\n",
       "      <th>landtaxvaluedollarcnt</th>\n",
       "      <th>logerror</th>\n",
       "    </tr>\n",
       "  </thead>\n",
       "  <tbody>\n",
       "    <tr>\n",
       "      <th>count</th>\n",
       "      <td>54,233.00</td>\n",
       "      <td>54,233.00</td>\n",
       "      <td>54,233.00</td>\n",
       "      <td>54,231.00</td>\n",
       "      <td>54,233.00</td>\n",
       "      <td>54,233.00</td>\n",
       "      <td>54,233.00</td>\n",
       "      <td>54,233.00</td>\n",
       "      <td>54,233.00</td>\n",
       "      <td>54,221.00</td>\n",
       "      <td>54,233.00</td>\n",
       "      <td>54,233.00</td>\n",
       "      <td>54,233.00</td>\n",
       "    </tr>\n",
       "    <tr>\n",
       "      <th>mean</th>\n",
       "      <td>11,856,953.30</td>\n",
       "      <td>2.23</td>\n",
       "      <td>2.96</td>\n",
       "      <td>1,689.03</td>\n",
       "      <td>34,108,540.11</td>\n",
       "      <td>-118,260,984.75</td>\n",
       "      <td>6,037.00</td>\n",
       "      <td>3,100.90</td>\n",
       "      <td>96,409.15</td>\n",
       "      <td>1,964.65</td>\n",
       "      <td>439,833.83</td>\n",
       "      <td>263,596.10</td>\n",
       "      <td>0.01</td>\n",
       "    </tr>\n",
       "    <tr>\n",
       "      <th>std</th>\n",
       "      <td>725,031.87</td>\n",
       "      <td>0.99</td>\n",
       "      <td>0.99</td>\n",
       "      <td>889.29</td>\n",
       "      <td>218,609.73</td>\n",
       "      <td>221,959.13</td>\n",
       "      <td>0.16</td>\n",
       "      <td>13.50</td>\n",
       "      <td>4,523.06</td>\n",
       "      <td>24.23</td>\n",
       "      <td>577,136.85</td>\n",
       "      <td>411,424.92</td>\n",
       "      <td>0.16</td>\n",
       "    </tr>\n",
       "    <tr>\n",
       "      <th>min</th>\n",
       "      <td>10,711,738.00</td>\n",
       "      <td>1.00</td>\n",
       "      <td>1.00</td>\n",
       "      <td>66.00</td>\n",
       "      <td>33,339,295.00</td>\n",
       "      <td>-118,908,236.00</td>\n",
       "      <td>6,037.00</td>\n",
       "      <td>1,286.00</td>\n",
       "      <td>95,982.00</td>\n",
       "      <td>1,885.00</td>\n",
       "      <td>22.00</td>\n",
       "      <td>22.00</td>\n",
       "      <td>-4.61</td>\n",
       "    </tr>\n",
       "    <tr>\n",
       "      <th>25%</th>\n",
       "      <td>11,182,713.00</td>\n",
       "      <td>2.00</td>\n",
       "      <td>2.00</td>\n",
       "      <td>1,141.00</td>\n",
       "      <td>33,963,244.00</td>\n",
       "      <td>-118,427,000.00</td>\n",
       "      <td>6,037.00</td>\n",
       "      <td>3,101.00</td>\n",
       "      <td>96,124.00</td>\n",
       "      <td>1,950.00</td>\n",
       "      <td>179,024.00</td>\n",
       "      <td>62,806.00</td>\n",
       "      <td>-0.03</td>\n",
       "    </tr>\n",
       "    <tr>\n",
       "      <th>50%</th>\n",
       "      <td>11,844,716.00</td>\n",
       "      <td>2.00</td>\n",
       "      <td>3.00</td>\n",
       "      <td>1,472.00</td>\n",
       "      <td>34,090,900.00</td>\n",
       "      <td>-118,282,075.00</td>\n",
       "      <td>6,037.00</td>\n",
       "      <td>3,101.00</td>\n",
       "      <td>96,292.00</td>\n",
       "      <td>1,962.00</td>\n",
       "      <td>315,147.00</td>\n",
       "      <td>168,994.00</td>\n",
       "      <td>0.01</td>\n",
       "    </tr>\n",
       "    <tr>\n",
       "      <th>75%</th>\n",
       "      <td>12,519,383.00</td>\n",
       "      <td>3.00</td>\n",
       "      <td>4.00</td>\n",
       "      <td>1,965.00</td>\n",
       "      <td>34,192,600.00</td>\n",
       "      <td>-118,109,487.00</td>\n",
       "      <td>6,037.00</td>\n",
       "      <td>3,101.00</td>\n",
       "      <td>96,424.00</td>\n",
       "      <td>1,984.00</td>\n",
       "      <td>509,000.00</td>\n",
       "      <td>320,760.00</td>\n",
       "      <td>0.04</td>\n",
       "    </tr>\n",
       "    <tr>\n",
       "      <th>max</th>\n",
       "      <td>13,878,705.00</td>\n",
       "      <td>20.00</td>\n",
       "      <td>16.00</td>\n",
       "      <td>20,013.00</td>\n",
       "      <td>34,816,009.00</td>\n",
       "      <td>-117,652,146.00</td>\n",
       "      <td>6,059.00</td>\n",
       "      <td>3,101.00</td>\n",
       "      <td>399,675.00</td>\n",
       "      <td>2,015.00</td>\n",
       "      <td>27,750,000.00</td>\n",
       "      <td>24,500,000.00</td>\n",
       "      <td>4.74</td>\n",
       "    </tr>\n",
       "  </tbody>\n",
       "</table>\n",
       "</div>"
      ],
      "text/plain": [
       "                  parcelid          bathroomcnt           bedroomcnt  \\\n",
       "count            54,233.00            54,233.00            54,233.00   \n",
       "mean         11,856,953.30                 2.23                 2.96   \n",
       "std             725,031.87                 0.99                 0.99   \n",
       "min          10,711,738.00                 1.00                 1.00   \n",
       "25%          11,182,713.00                 2.00                 2.00   \n",
       "50%          11,844,716.00                 2.00                 3.00   \n",
       "75%          12,519,383.00                 3.00                 4.00   \n",
       "max          13,878,705.00                20.00                16.00   \n",
       "\n",
       "       calculatedfinishedsquarefeet             latitude            longitude  \\\n",
       "count                     54,231.00            54,233.00            54,233.00   \n",
       "mean                       1,689.03        34,108,540.11      -118,260,984.75   \n",
       "std                          889.29           218,609.73           221,959.13   \n",
       "min                           66.00        33,339,295.00      -118,908,236.00   \n",
       "25%                        1,141.00        33,963,244.00      -118,427,000.00   \n",
       "50%                        1,472.00        34,090,900.00      -118,282,075.00   \n",
       "75%                        1,965.00        34,192,600.00      -118,109,487.00   \n",
       "max                       20,013.00        34,816,009.00      -117,652,146.00   \n",
       "\n",
       "                      fips       regionidcounty          regionidzip  \\\n",
       "count            54,233.00            54,233.00            54,233.00   \n",
       "mean              6,037.00             3,100.90            96,409.15   \n",
       "std                   0.16                13.50             4,523.06   \n",
       "min               6,037.00             1,286.00            95,982.00   \n",
       "25%               6,037.00             3,101.00            96,124.00   \n",
       "50%               6,037.00             3,101.00            96,292.00   \n",
       "75%               6,037.00             3,101.00            96,424.00   \n",
       "max               6,059.00             3,101.00           399,675.00   \n",
       "\n",
       "                 yearbuilt    taxvaluedollarcnt  landtaxvaluedollarcnt  \\\n",
       "count            54,221.00            54,233.00              54,233.00   \n",
       "mean              1,964.65           439,833.83             263,596.10   \n",
       "std                  24.23           577,136.85             411,424.92   \n",
       "min               1,885.00                22.00                  22.00   \n",
       "25%               1,950.00           179,024.00              62,806.00   \n",
       "50%               1,962.00           315,147.00             168,994.00   \n",
       "75%               1,984.00           509,000.00             320,760.00   \n",
       "max               2,015.00        27,750,000.00          24,500,000.00   \n",
       "\n",
       "                  logerror  \n",
       "count            54,233.00  \n",
       "mean                  0.01  \n",
       "std                   0.16  \n",
       "min                  -4.61  \n",
       "25%                  -0.03  \n",
       "50%                   0.01  \n",
       "75%                   0.04  \n",
       "max                   4.74  "
      ]
     },
     "execution_count": 26,
     "metadata": {},
     "output_type": "execute_result"
    }
   ],
   "source": [
    "# df.describe(include='all')\n",
    "df.describe()"
   ]
  },
  {
   "cell_type": "markdown",
   "metadata": {},
   "source": [
    "### 3. Missing Values\n",
    "\n",
    "1. Missing values by column: Does the attribute have enough information (i.e. enought non-null values) to be useful?\n",
    "\n",
    "2. Missing values by row:  Does the observation have enough information to use in our sample? \n",
    "\n",
    "#### Missing Values by Column"
   ]
  },
  {
   "cell_type": "code",
   "execution_count": 27,
   "metadata": {},
   "outputs": [
    {
     "data": {
      "text/plain": [
       "parcelid                                       0.00\n",
       "bathroomcnt                                    0.00\n",
       "bedroomcnt                                     0.00\n",
       "calculatedfinishedsquarefeet                   0.00\n",
       "latitude                                       0.00\n",
       "longitude                                      0.00\n",
       "fips                                           0.00\n",
       "regionidcounty                                 0.00\n",
       "regionidzip                                    0.00\n",
       "yearbuilt                                      0.02\n",
       "taxvaluedollarcnt                              0.00\n",
       "landtaxvaluedollarcnt                          0.00\n",
       "logerror                                       0.00\n",
       "transactiondate                                0.00\n",
       "dtype: float64"
      ]
     },
     "execution_count": 27,
     "metadata": {},
     "output_type": "execute_result"
    }
   ],
   "source": [
    "df.isnull().sum()/len(df.index)*100"
   ]
  },
  {
   "cell_type": "code",
   "execution_count": 28,
   "metadata": {},
   "outputs": [],
   "source": [
    "# 70% threshold\n",
    "threshold = int(round(.7*len(df.index),0))\n",
    "df.dropna(axis=1, thresh=threshold, inplace=True)"
   ]
  },
  {
   "cell_type": "code",
   "execution_count": 29,
   "metadata": {},
   "outputs": [
    {
     "name": "stdout",
     "output_type": "stream",
     "text": [
      "That leaves us with 14 columns\n"
     ]
    }
   ],
   "source": [
    "print('That leaves us with %.0f columns' % len(df.columns))"
   ]
  },
  {
   "cell_type": "markdown",
   "metadata": {},
   "source": [
    "#### Missing Values by Row"
   ]
  },
  {
   "cell_type": "code",
   "execution_count": 30,
   "metadata": {},
   "outputs": [
    {
     "data": {
      "text/html": [
       "<div>\n",
       "<style scoped>\n",
       "    .dataframe tbody tr th:only-of-type {\n",
       "        vertical-align: middle;\n",
       "    }\n",
       "\n",
       "    .dataframe tbody tr th {\n",
       "        vertical-align: top;\n",
       "    }\n",
       "\n",
       "    .dataframe thead th {\n",
       "        text-align: right;\n",
       "    }\n",
       "</style>\n",
       "<table border=\"1\" class=\"dataframe\">\n",
       "  <thead>\n",
       "    <tr style=\"text-align: right;\">\n",
       "      <th></th>\n",
       "      <th>index</th>\n",
       "    </tr>\n",
       "    <tr>\n",
       "      <th>nulls</th>\n",
       "      <th></th>\n",
       "    </tr>\n",
       "  </thead>\n",
       "  <tbody>\n",
       "    <tr>\n",
       "      <th>0</th>\n",
       "      <td>54219</td>\n",
       "    </tr>\n",
       "    <tr>\n",
       "      <th>1</th>\n",
       "      <td>14</td>\n",
       "    </tr>\n",
       "  </tbody>\n",
       "</table>\n",
       "</div>"
      ],
      "text/plain": [
       "       index\n",
       "nulls       \n",
       "0      54219\n",
       "1         14"
      ]
     },
     "execution_count": 30,
     "metadata": {},
     "output_type": "execute_result"
    }
   ],
   "source": [
    "# number of observations with n missing values: \n",
    "pd.DataFrame({'nulls': df.isnull().sum(axis=1)}).reset_index().groupby(['nulls']).count()"
   ]
  },
  {
   "cell_type": "code",
   "execution_count": 31,
   "metadata": {},
   "outputs": [],
   "source": [
    "# we will set number of columns - 1 as our threshold. Thresh = number of non-null values required\n",
    "\n",
    "threshold = len(df.columns)\n",
    "df.dropna(axis=0, thresh=threshold, inplace=True)"
   ]
  },
  {
   "cell_type": "code",
   "execution_count": 32,
   "metadata": {},
   "outputs": [
    {
     "data": {
      "text/plain": [
       "parcelid                        0\n",
       "bathroomcnt                     0\n",
       "bedroomcnt                      0\n",
       "calculatedfinishedsquarefeet    0\n",
       "latitude                        0\n",
       "longitude                       0\n",
       "fips                            0\n",
       "regionidcounty                  0\n",
       "regionidzip                     0\n",
       "yearbuilt                       0\n",
       "taxvaluedollarcnt               0\n",
       "landtaxvaluedollarcnt           0\n",
       "logerror                        0\n",
       "transactiondate                 0\n",
       "dtype: int64"
      ]
     },
     "execution_count": 32,
     "metadata": {},
     "output_type": "execute_result"
    }
   ],
   "source": [
    "df.isnull().sum()"
   ]
  },
  {
   "cell_type": "markdown",
   "metadata": {},
   "source": [
    "### 4. Data Types"
   ]
  },
  {
   "cell_type": "code",
   "execution_count": 65,
   "metadata": {},
   "outputs": [
    {
     "name": "stdout",
     "output_type": "stream",
     "text": [
      "<class 'pandas.core.frame.DataFrame'>\n",
      "Int64Index: 54183 entries, 0 to 54232\n",
      "Data columns (total 14 columns):\n",
      "parcelid                        54183 non-null int64\n",
      "bathroomcnt                     54183 non-null float64\n",
      "bedroomcnt                      54183 non-null float64\n",
      "calculatedfinishedsquarefeet    54183 non-null float64\n",
      "latitude                        54183 non-null float64\n",
      "longitude                       54183 non-null float64\n",
      "fips                            54183 non-null float64\n",
      "regionidcounty                  54183 non-null float64\n",
      "regionidzip                     54183 non-null float64\n",
      "yearbuilt                       54183 non-null float64\n",
      "taxvaluedollarcnt               54183 non-null float64\n",
      "landtaxvaluedollarcnt           54183 non-null float64\n",
      "logerror                        54183 non-null float64\n",
      "transactiondate                 54183 non-null object\n",
      "dtypes: float64(12), int64(1), object(1)\n",
      "memory usage: 6.2+ MB\n"
     ]
    }
   ],
   "source": [
    "df.info()\n",
    "to_category = ['fips', '']"
   ]
  },
  {
   "cell_type": "markdown",
   "metadata": {},
   "source": [
    "### 4. Outliers"
   ]
  },
  {
   "cell_type": "markdown",
   "metadata": {},
   "source": [
    "#### Look at distribution"
   ]
  },
  {
   "cell_type": "code",
   "execution_count": 33,
   "metadata": {},
   "outputs": [
    {
     "data": {
      "image/png": "[encoded data removed]",
      "text/plain": [
       "<Figure size 1728x720 with 16 Axes>"
      ]
     },
     "metadata": {},
     "output_type": "display_data"
    }
   ],
   "source": [
    "hist = df.hist(figsize = (24,10), bins=20, log=True)"
   ]
  },
  {
   "cell_type": "markdown",
   "metadata": {},
   "source": [
    "##### Remove the extreme outliers\n",
    "\n",
    "1. Error in regionidzip: anything above 99999 should be removed as those are not US zip codes\n",
    "2. Others?"
   ]
  },
  {
   "cell_type": "code",
   "execution_count": null,
   "metadata": {},
   "outputs": [],
   "source": [
    "Data types"
   ]
  },
  {
   "cell_type": "code",
   "execution_count": null,
   "metadata": {},
   "outputs": [],
   "source": [
    "to_object = ['fips','parcelid','regionidcounty']\n",
    "\n",
    "# year built to age"
   ]
  },
  {
   "cell_type": "code",
   "execution_count": 60,
   "metadata": {},
   "outputs": [
    {
     "name": "stdout",
     "output_type": "stream",
     "text": [
      "['bathroomcnt', 'bedroomcnt', 'calculatedfinishedsquarefeet', 'regionidzip', 'taxvaluedollarcnt', 'landtaxvaluedollarcnt']\n",
      "[10.0, 9.0, 13366.454999999907, 399675.0, 13306016.564395674, 10784552.77379539]\n"
     ]
    },
    {
     "data": {
      "image/png": "[encoded data removed]",
      "text/plain": [
       "<Figure size 1728x720 with 16 Axes>"
      ]
     },
     "metadata": {},
     "output_type": "display_data"
    }
   ],
   "source": [
    "outliercols = list(df.drop(columns=['parcelid','fips','regionidcounty','logerror', 'yearbuilt', 'latitude', 'longitude']).select_dtypes('number').columns)\n",
    "\n",
    "l = [None] * len(outliercols)\n",
    "for i, col in enumerate(outliercols):\n",
    "    l[i] = df[col].quantile(.9999)\n",
    "\n",
    "for i, col in enumerate(outliercols):\n",
    "    df = df[df[col] < l[i]]\n",
    "\n",
    "df.hist(figsize = (24,10), bins=20, log=True)\n",
    "plt.show()"
   ]
  },
  {
   "cell_type": "code",
   "execution_count": 64,
   "metadata": {},
   "outputs": [],
   "source": [
    "train, test = train_test_split(df, random_state = seed)\n"
   ]
  },
  {
   "cell_type": "code",
   "execution_count": null,
   "metadata": {},
   "outputs": [],
   "source": [
    "num_vars = list(train.drop(columns=[.select_dtypes('number').columns)\n",
    "print('Scaling {}, and {}...'.format(', '.join(num_vars[:-1]), num_vars[:-1]))"
   ]
  }
 ],
 "metadata": {
  "kernelspec": {
   "display_name": "Python 3",
   "language": "python",
   "name": "python3"
  },
  "language_info": {
   "codemirror_mode": {
    "name": "ipython",
    "version": 3
   },
   "file_extension": ".py",
   "mimetype": "text/x-python",
   "name": "python",
   "nbconvert_exporter": "python",
   "pygments_lexer": "ipython3",
   "version": "3.6.8"
  },
  "toc": {
   "base_numbering": 1,
   "nav_menu": {},
   "number_sections": false,
   "sideBar": false,
   "skip_h1_title": false,
   "title_cell": "Table of Contents",
   "title_sidebar": "Contents",
   "toc_cell": false,
   "toc_position": {},
   "toc_section_display": false,
   "toc_window_display": false
  }
 },
 "nbformat": 4,
 "nbformat_minor": 2
}
