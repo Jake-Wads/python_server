{
 "cells": [
  {
   "cell_type": "markdown",
   "metadata": {},
   "source": [
    "> ### Exercise\n",
    "Extract information from the results of describe in order to compute IQR and range\n",
    "> ```python\n",
    "> IQR = \n",
    "> Range = \n",
    "> ```"
   ]
  },
  {
   "cell_type": "markdown",
   "metadata": {},
   "source": [
    "### 7.1_Exercise\n",
    "\n",
    "1. Write a for loop to plot each of the 3 features with final_grade using a jointplot.\n",
    "2. What can you say about each relationship (using pearson's r and the p-value)"
   ]
  },
  {
   "cell_type": "markdown",
   "metadata": {},
   "source": [
    "#### Histogram + Scatterplots"
   ]
  },
  {
   "cell_type": "markdown",
   "metadata": {},
   "source": [
    "### 7.2_Exercise\n",
    "\n",
    "1. Plot a boxplot and heatmap side by side using subplots"
   ]
  },
  {
   "cell_type": "markdown",
   "metadata": {},
   "source": [
    "### 8. Scipy: Pearson's Correlation\n",
    "\n",
    "#### stats.pearsonr\n",
    "\n",
    "`pearsonr(X_train[['exam1']], y_train)`"
   ]
  },
  {
   "cell_type": "markdown",
   "metadata": {},
   "source": [
    "#### List Comprehension \n",
    "\n",
    "`[[column, pearsonr(train[column], train.final_grade)] for column in X_train] `"
   ]
  },
  {
   "cell_type": "markdown",
   "metadata": {},
   "source": [
    "#### Create Dictionary\n",
    "\n",
    "`column_names = X_train.columns\n",
    "r_and_p_values = [pearsonr(X_train[col], y_train.final_grade) for col in column_names]\n",
    "\n",
    "exam_final_corr_dict = dict(zip(column_names, r_and_p_values))`"
   ]
  },
  {
   "cell_type": "markdown",
   "metadata": {},
   "source": [
    "### 9. Statsmodels: Feature Selection\n",
    "\n",
    "#### Feature selection using statsmodels.OLS (Ordinary Least Squares)\n",
    "\n",
    "`ols_model = sm.OLS(y_train, X_train)\n",
    "fit = ols_model.fit()\n",
    "fit.summary()`"
   ]
  },
  {
   "cell_type": "markdown",
   "metadata": {},
   "source": [
    "#### Conclusion\n",
    "\n",
    "Looking at the p-values of the 3 exams, I am going to remove exam2 from the features as we are not seeing any significance of that with the final grade, our target variable.\n",
    "\n",
    "I will now use sklearn to create a model using exam 1, exam3 and exam 1 & 3 to compare results.\n",
    "\n",
    "(well, I will model exam 1 (lm1) and exam 1 & 3 (lm2), and you will test exam 3 alone (lm3))\n"
   ]
  },
  {
   "cell_type": "markdown",
   "metadata": {},
   "source": [
    "### 10. Scikit-Learn: Fit Linear Regression Models, In-Sample Predictions"
   ]
  },
  {
   "cell_type": "markdown",
   "metadata": {},
   "source": [
    "Generally speaking, we'll use scikit-learn like this:\n",
    "\n",
    "1. Import the class(es) that we intend on using (we've already done this)\n",
    "1. Split the data into training and test (we've already done this)\n",
    "1. Create an instance of the class(es) to use\n",
    "1. Fit the model(s) with the training data\n",
    "1. Use the model(s) to make predictions\n",
    "1. Evaluate the performance of the model(s)"
   ]
  },
  {
   "cell_type": "markdown",
   "metadata": {},
   "source": [
    "### 12. Scikit-Learn: Make any changes needed & repeat 9-10 as needed\n",
    "\n",
    "#### Exercise\n",
    "\n",
    "1. What are your take-aways from the evaluation results above? \n",
    "2. Fit, predict, and evaluate one more model, lm3, using exam 3 only.\n",
    "3. How does the result of the model compare to the other two?  Which should you use, based on these results? "
   ]
  },
  {
   "cell_type": "markdown",
   "metadata": {},
   "source": [
    "### 13. Scikit-Learn: Out-of-sample predictions using best model\n",
    "\n",
    "#### Predict final grades using testing data\n",
    "\n",
    "Make predictions using the testing set\n",
    "`y_pred_lm2 = lm2.predict(X_test[['exam1', 'exam3']])`"
   ]
  },
  {
   "cell_type": "markdown",
   "metadata": {},
   "source": [
    "#### Evaluate performance\n",
    "\n",
    "`mse = mean_squared_error(y_test, y_pred_lm2)\n",
    "print(\"Mean squared error: %.2f\" % mse)\n",
    "r2 = r2_score(y_test, y_pred_lm2)\n",
    "print('{:.2%} of the variance in the student''s final grade can be explained by the grades on the first 3 exams.'\n",
    "      .format(r2))`"
   ]
  },
  {
   "cell_type": "markdown",
   "metadata": {},
   "source": [
    "#### Plot Residuals\n",
    "\n",
    "`plt.scatter(y_pred_lm2, y_pred_lm2 - y_test, c='g', s=40)\n",
    "plt.hlines(y=0, xmin=50, xmax=100)\n",
    "plt.title(\"Residual plot\")\n",
    "plt.ylabel('Residuals')`"
   ]
  },
  {
   "cell_type": "markdown",
   "metadata": {},
   "source": [
    "## Further Reading\n",
    "\n",
    "- [Standardization vs Normalization](https://medium.com/@rrfd/standardize-or-normalize-examples-in-python-e3f174b65dfc)\n",
    "- [Visualization with Seaborn](https://jakevdp.github.io/PythonDataScienceHandbook/04.14-visualization-with-seaborn.html)\n",
    "- [Multiple Regression with `statsmodels`](https://nbviewer.jupyter.org/urls/s3.amazonaws.com/datarobotblog/notebooks/multiple_regression_in_python.ipynb    )"
   ]
  },
  {
   "cell_type": "markdown",
   "metadata": {},
   "source": [
    "## Exercises:\n",
    "\n",
    "1. Using the example data above:\n",
    "\n",
    "    1. Extract information from the results of `.describe` and compute IQR and\n",
    "       range of each exam and the final grade\n",
    "    1. Write a for loop to plot each of the 3 features (exam 1, 2, & 3) with the\n",
    "       final grade using a joint plot.  What can you say about each relationship\n",
    "       (using pearson's r and the p-value)\n",
    "    1. Plot the boxplot & heatmap side by side using 'subplot'\n",
    "    1. What are your take-aways from the evaluation results of `lm1` and `lm2`?\n",
    "    1. Fit, predict, and evaluate one more model, `lm3`, using exam 3 only.\n",
    "    1. How does the result of the model compare to the other two?  Which should\n",
    "       you use, based on these results?\n",
    "    1. Predict final grades of the out-of-sample data (test dataframe) and\n",
    "       evaluate results.\n",
    "    1. Which model performs the best, based on the 2 out-of-sample evaluation\n",
    "       results (the example one, `lm1`, and the exercise one, `lm3`, from the\n",
    "       above exercise).\n",
    "\n",
    "1. Using `telco_churn` database, predict total charges\n",
    "\n",
    "    1. Using the `telco_churn` database, extract a table for each customer *with\n",
    "       a 2-year contract* and include the following information customer id,\n",
    "       tenure, monthly charges, and total charges.\n",
    "    1. Export the table to a csv\n",
    "    1. Create a jupyter notebook titled `regression`\n",
    "    1. Prepare the Environment (do not copy and paste...manually type so that\n",
    "       you remember what you need and why you are importing the things that you\n",
    "       are. You will do this often!)\n",
    "    1. Read the information from the `customers` table into a dataframe.\n",
    "    1. How many rows are in your dataframe?\n",
    "    1. What is the data type of the field containing the customer ids?\n",
    "    1. Print to the notebook the last 10 rows of your dataframe.\n",
    "    1. What is the inner quartile range of tenure? monthly charges? total\n",
    "       charges?\n",
    "    1. How many missing values are in each variable?\n",
    "    1. Fill any missing values with 0.\n",
    "    1. Show the ditribution of monthly charges through a histogram\n",
    "    1. Create a new dataframe that contains tenure, monthly charges, and total\n",
    "       charges, but not the customer id.\n",
    "    1. Create a box plot of each variable in your new dataframe. This should be\n",
    "       a single chart with 3 categorical plots, 1 each for tenure, monthly\n",
    "       charges, total charges.\n",
    "    1. Split your data into a test and train dataset. Set the `random_state` to\n",
    "       `123`.  You should end up with 4 dataframes:  `X_train`, `X_test`,\n",
    "       `y_train`, `y_test`.\n",
    "\n",
    "1. Using the in-sample data (`X_train` and `y_train`)\n",
    "\n",
    "    1. Create a scatterplot for each combination of variables.\n",
    "    1. Create a heatmap containing the 3 variables.\n",
    "    1. Compute pearson's correlation coefficient and print it's value in the\n",
    "       sentence \"Pearson's R is `____` with a significance p-value of `____`\"\n",
    "    1. Train (aka *fit*) a linear regression model, modeling total charges as a\n",
    "       linear function of tenure.\n",
    "    1. What is the y-intercept of the regression line?  Translate the intercept\n",
    "       in plain english, i.e. what is means in the context of the data.\n",
    "    1. What the slope of the regression line?  Translate the slope in plain\n",
    "       english, i.e. what is means in the context of the data.\n",
    "    1. Write the linear function in the form of $y = mx + b$ using the\n",
    "       parameters that were estimated from the algorithm and the variable names\n",
    "       for y and x specific to your data.\n",
    "    1. Test your model on the training sample. That is, use your newly fit model\n",
    "       to predict the total charges using tenure.\n",
    "    1. Evaluate the model's performance using r-squared, mean squared error, and\n",
    "       median absolute error.\n",
    "\n",
    "1. Using the out-of-sample data (`X_test`, `y_test`)\n",
    "\n",
    "    1. Test your model on the test sample.\n",
    "    1. Evaluate your model's performance on test sample.  How do each of the\n",
    "       metrics compare to that of the training sample? How can you explain the\n",
    "       reason for the difference?\n",
    "    1. Calculate the p-value of the regressor for the train and test sample.\n",
    "       Hint: f_regression\n",
    "    1. Create a scatter plot of the predicted values versus the actual values in\n",
    "       the test sample.\n",
    "    1. Create a scatter plot of the actual values of x and y in the test sample\n",
    "       with the regression line layered over.\n",
    "    1. Create a scatter plot of the residuals (x axis: predicted values of final\n",
    "       grade, y axis: the residual values (remember definition of residual from\n",
    "       previous lesson).  Layer over it a horizonal line that represents no\n",
    "       residual.\n"
   ]
  }
 ],
 "metadata": {
  "kernelspec": {
   "display_name": "Python 3",
   "language": "python",
   "name": "python3"
  },
  "language_info": {
   "codemirror_mode": {
    "name": "ipython",
    "version": 3
   },
   "file_extension": ".py",
   "mimetype": "text/x-python",
   "name": "python",
   "nbconvert_exporter": "python",
   "pygments_lexer": "ipython3",
   "version": "3.6.8"
  },
  "toc": {
   "base_numbering": 1,
   "nav_menu": {},
   "number_sections": false,
   "sideBar": false,
   "skip_h1_title": false,
   "title_cell": "Table of Contents",
   "title_sidebar": "Contents",
   "toc_cell": false,
   "toc_position": {},
   "toc_section_display": false,
   "toc_window_display": false
  }
 },
 "nbformat": 4,
 "nbformat_minor": 2
}
