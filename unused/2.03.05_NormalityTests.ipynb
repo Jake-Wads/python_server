{
 "cells": [
  {
   "cell_type": "markdown",
   "metadata": {},
   "source": [
    "# Statistical Testing\n",
    "\n",
    "## Normality Tests\n",
    "\n",
    "1. Estimates  \n",
    "2. Sampling\n",
    "3. Power\n",
    "4. Statistical Tests\n",
    "    1. **Normality Tests**\n",
    "    2. Correlation Tests\n",
    "    3. Parametric Statistical Hypothesis Tests\n",
    "    4. Nonparametric Statistical Hypothesis Tests"
   ]
  },
  {
   "cell_type": "markdown",
   "metadata": {},
   "source": [
    "## Normality Tests\n",
    "statistical tests that you can use to check if your data has a Gaussian distribution.\n",
    "\n",
    "### 1. Shapiro-Wilk Test\n",
    "1. Assumptions: Observations in each sample are independent and identically distributed (iid).  \n",
    "2. Interpretation:  \n",
    "    - H0: the sample has a Gaussian distribution.  \n",
    "    - H1: the sample does not have a Gaussian distribution.  \n",
    "3. Python Code:  \n",
    "`from scipy.stats import shapiro`  \n",
    "`data = ....`  \n",
    "`stat, p = shapiro(data)`  \n",
    "\n",
    "### 2. D’Agostino’s K^2 Test\n",
    "1. Assumptions: Observations in each sample are independent and identically distributed (iid).  \n",
    "2. Interpretation:  \n",
    "    - H0: the sample has a Gaussian distribution.  \n",
    "    - H1: the sample does not have a Gaussian distribution.  \n",
    "3. Python Code:  \n",
    "`from scipy.stats import normaltest`  \n",
    "`data = ....`  \n",
    "`stat, p = normaltest(data)`  \n",
    "\n",
    "### 3. Anderson-Darling Test\n",
    "1. Assumptions: Observations in each sample are independent and identically distributed (iid).  \n",
    "2. Interpretation:  \n",
    "    - H0: the sample has a Gaussian distribution.\n",
    "    - H1: the sample does not have a Gaussian distribution.  \n",
    "3. Python Code:  \n",
    "`from scipy.stats import anderson`  \n",
    "`data = ....`  \n",
    "`result = anderson(data)`  "
   ]
  },
  {
   "cell_type": "code",
   "execution_count": null,
   "metadata": {},
   "outputs": [],
   "source": []
  }
 ],
 "metadata": {
  "kernelspec": {
   "display_name": "Python 3",
   "language": "python",
   "name": "python3"
  },
  "language_info": {
   "codemirror_mode": {
    "name": "ipython",
    "version": 3
   },
   "file_extension": ".py",
   "mimetype": "text/x-python",
   "name": "python",
   "nbconvert_exporter": "python",
   "pygments_lexer": "ipython3",
   "version": "3.6.6"
  }
 },
 "nbformat": 4,
 "nbformat_minor": 2
}
