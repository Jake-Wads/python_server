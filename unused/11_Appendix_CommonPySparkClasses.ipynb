{
 "cells": [
  {
   "cell_type": "markdown",
   "metadata": {},
   "source": [
    "# Important classes of Spark SQL and DataFrames\n",
    "\n",
    "\n",
    "[Pyspark SQL Documentation](https://spark.apache.org/docs/latest/api/python/pyspark.sql.html)\n",
    "\n",
    "\n",
    "- pyspark.sql.SparkSession: Main entry point for DataFrame and SQL functionality.\n",
    "\n",
    "- pyspark.sql.DataFrame: A distributed collection of data grouped into named columns.\n",
    "\n",
    "- pyspark.sql.Column: A column expression in a DataFrame.\n",
    "\n",
    "- pyspark.sql.Row: A row of data in a DataFrame.\n",
    "\n",
    "- pyspark.sql.GroupedData: Aggregation methods, returned by DataFrame.groupBy().\n",
    "\n",
    "- pyspark.sql.DataFrameNaFunctions: Methods for handling missing data (null values).\n",
    "\n",
    "- pyspark.sql.DataFrameStatFunctions: Methods for statistics functionality.\n",
    "\n",
    "- pyspark.sql.functions: List of built-in functions available for DataFrame.\n",
    "\n",
    "- pyspark.sql.types: List of data types available.\n",
    "\n",
    "- pyspark.sql.Window: For working with window functions."
   ]
  },
  {
   "cell_type": "code",
   "execution_count": null,
   "metadata": {},
   "outputs": [],
   "source": []
  }
 ],
 "metadata": {
  "kernelspec": {
   "display_name": "Python 3",
   "language": "python",
   "name": "python3"
  },
  "language_info": {
   "codemirror_mode": {
    "name": "ipython",
    "version": 3
   },
   "file_extension": ".py",
   "mimetype": "text/x-python",
   "name": "python",
   "nbconvert_exporter": "python",
   "pygments_lexer": "ipython3",
   "version": "3.6.8"
  }
 },
 "nbformat": 4,
 "nbformat_minor": 2
}
