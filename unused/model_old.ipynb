{
 "cells": [
  {
   "cell_type": "markdown",
   "metadata": {},
   "source": [
    "# Modeling with Regression Algorithms\n",
    "\n",
    "A quick review of regression concepts from intro lesson:\n",
    "\n",
    "**Regression** is a **supervised machine learning** technique used to model the relationships between one (**simple**) or more (**multiple**) features (independent) and how they contribute to one (**univariate**) or more (**multivariate**) target variables (dependent), represented by a **continuous variable**."
   ]
  },
  {
   "cell_type": "markdown",
   "metadata": {},
   "source": [
    "## About Modeling\n",
    "\n",
    "We want to find a function that 'mimics' or 'models' this relationship, so that when new observations are available, predictions of the target variable can be made by computing the function with the new input feature values.\n",
    "\n",
    "Modeling is an attempt to generalize the information in our sample so that it can be applied to unseen data with similar performance."
   ]
  },
  {
   "cell_type": "markdown",
   "metadata": {},
   "source": [
    "### How it works\n",
    "\n",
    "The algorithm attempts to find the “best” choices of values for the parameters, which in a linear regression model are the coefficients, $b_{i}$, in order to make the formula as “accurate” as possible, i.e. minimize the error. There are different ways to define the error. But whichever evaluation metric is selected, we find the line of best fit by identifying the parameters that minimize that error.  \n",
    "\n",
    "Once estimated, the parameters (intercept and coefficients) allow the value of the target variable to be obtained from the values of the feature variables. \n",
    "\n",
    "In simple linear regression, our parameters are the y-intercept ($b_{0}$) and the coefficient ($b_{1}$) of the line $y = b_{0} + b_{1}x$. \n",
    "\n",
    "In the case we have a quadratic function ($y = b_{0} + b_{1}x^{2}$), we still have a linear model due to the fact that $x^2$ is in fact a feature, and the coefficients/weights associated with that feature is still linear.  \n",
    "To convert the original features into their higher order terms we will use the `PolynomialFeatures` class provided by sklearn. Then, we train the model using Linear Regression.\n",
    "\n",
    "In multiple linear regression case with n features, our parameters are y-intercept ($b_{0}$) and n coefficients ($b_{1},...,b_{n}$) of the line $y = b_{0} + b_{1}x_{1} + b_{2}x_{2} + ... b_{n}x_{n}$. "
   ]
  },
  {
   "cell_type": "markdown",
   "metadata": {},
   "source": [
    "### General Steps in Modeling:\n",
    "\n",
    "1. Identify identify an applicable sklearn machine learning algorithm to use to model our data   \n",
    "\n",
    "2. Define: Initialize the algorithm with the hyperparameters defined in a way that fit our use-case.      \n",
    "\n",
    "3. Fit: Now that we have given a general algorithm the basic \"requirements\" for how to model our data, we will instruct the initialized model object (i.e. the algorithm + our instructions) to model our y as a function of X. That is, the model object will 'fit' to our data. In the case of linear regression, we will provide our features (X) and our target (y) data, and the algorithm will find the linear function that minimize the sum of the squared errors. Given that a linear function is defined by the coefficients and the degrees (if polynomial), the linear model returns the coefficients for the line of best fit. To summarize, `Fit` returns the best model of our data the algorithm could create, given the hyperparameters (or requirements), the features, and the sample we provided the algorithm.   \n",
    "\n",
    "4. Predict: What do you do with this \"model\" now? Well, you can look at the details under the hood, like the coefficients or parameters that were returned. We can also run the newly created model on our in-sample data (train) to predict y based on providing the same features that were provided in the fitting of the model.   \n",
    "\n",
    "5. Evaluate: Compute metric such as RMSE to be used to compare future models.   \n",
    "\n",
    "6. Repeat: Beginning at either step 1 (finding a new algorithm) or step 2 (refining hyperparameters), build another model and evaluate on in-sample data by walking through the steps. (how many times you repeat depends on a number of factors).   \n",
    "\n",
    "7. Select best model -> run on out-of-sample data (test dataset) -> evaluation using same metric.   "
   ]
  },
  {
   "cell_type": "markdown",
   "metadata": {},
   "source": [
    "The python implementation of the steps above looks like this:\n",
    "\n",
    "1. Create an instance of the sklearn class to use.\n",
    "1. Fit the models with the training data.\n",
    "1. Use the models to make predictions.\n",
    "1. Evaluate the models, both seperately and all together."
   ]
  },
  {
   "cell_type": "markdown",
   "metadata": {},
   "source": [
    "## Setup"
   ]
  },
  {
   "cell_type": "code",
   "execution_count": 1,
   "metadata": {},
   "outputs": [],
   "source": [
    "import pandas as pd\n",
    "import numpy as np\n",
    "import matplotlib.pyplot as plt\n",
    "import seaborn as sns\n",
    "from sklearn.model_selection import train_test_split\n",
    "from sklearn.metrics import mean_squared_error, explained_variance_score\n",
    "from sklearn.linear_model import LinearRegression\n",
    "from sklearn.feature_selection import RFE\n",
    "\n",
    "import warnings\n",
    "warnings.filterwarnings(\"ignore\")\n",
    "\n",
    "import wrangle\n",
    "import features"
   ]
  },
  {
   "cell_type": "markdown",
   "metadata": {},
   "source": [
    "## Wrangle\n",
    "\n",
    "Here we will acquire and clean the data, split the data into train and test datasets, and split the data into our X and y. This dataset does not need it, but this is where we might perform scaling as well."
   ]
  },
  {
   "cell_type": "code",
   "execution_count": 2,
   "metadata": {},
   "outputs": [],
   "source": [
    "# acquire data and remove null values \n",
    "df = wrangle.wrangle_grades()"
   ]
  },
  {
   "cell_type": "code",
   "execution_count": 3,
   "metadata": {},
   "outputs": [],
   "source": [
    "# split into train, validate, and test sets\n",
    "train_and_validate, test = train_test_split(df, random_state=123)\n",
    "train, validate = train_test_split(train_and_validate, random_state=123)"
   ]
  },
  {
   "cell_type": "code",
   "execution_count": 4,
   "metadata": {},
   "outputs": [],
   "source": [
    "# Split into X and y\n",
    "X_train = train.drop(columns='final_grade')\n",
    "y_train = train[['final_grade']]\n",
    "\n",
    "# Validate split\n",
    "X_validate = validate.drop(columns=\"final_grade\")\n",
    "y_validate = validate[[\"final_grade\"]]\n",
    "\n",
    "# Test split\n",
    "X_test = test.drop(columns='final_grade')\n",
    "y_test = test[['final_grade']]"
   ]
  },
  {
   "cell_type": "markdown",
   "metadata": {},
   "source": [
    "## Feature Elimination\n",
    "\n",
    "Select the top 2 features using Recursive Feature Elimination\n"
   ]
  },
  {
   "cell_type": "code",
   "execution_count": 5,
   "metadata": {},
   "outputs": [],
   "source": [
    "# Initialize the Linear Regression Object \n",
    "lm = LinearRegression()\n",
    "\n",
    "rfe = RFE(lm, 2)\n",
    "\n",
    "# Transforming data using RFE\n",
    "X_rfe = rfe.fit_transform(X_train,y_train)  "
   ]
  },
  {
   "cell_type": "markdown",
   "metadata": {},
   "source": [
    "Get list of feature names that were selected so that we can have context as we evaluate models we build. "
   ]
  },
  {
   "cell_type": "code",
   "execution_count": 6,
   "metadata": {},
   "outputs": [
    {
     "name": "stdout",
     "output_type": "stream",
     "text": [
      "selected 2 features: exam1, exam3\n"
     ]
    }
   ],
   "source": [
    "# boolean mask for each variable of whether it was selected or not. \n",
    "mask = rfe.support_\n",
    "\n",
    "# select the column names of the features that were selected and convert them to a list for future use. \n",
    "rfe_features = X_train.columns[mask]\n",
    "\n",
    "# print them out here for our reference\n",
    "print(f'selected {len(rfe_features)} features:', ', '.join(rfe_features))"
   ]
  },
  {
   "cell_type": "markdown",
   "metadata": {},
   "source": [
    "## Multiple Linear Regression Model \n",
    "\n",
    "First we initialize the ML Algorithm Object. We already did this above in the feature elimination process, but that won't always be used and sometimes we will want to use a different algorithm, so we will demonstrate this stage of the process here also for consistency. "
   ]
  },
  {
   "cell_type": "code",
   "execution_count": 7,
   "metadata": {},
   "outputs": [
    {
     "data": {
      "text/plain": [
       "LinearRegression()"
      ]
     },
     "execution_count": 7,
     "metadata": {},
     "output_type": "execute_result"
    }
   ],
   "source": [
    "lm = LinearRegression()\n",
    "lm"
   ]
  },
  {
   "cell_type": "markdown",
   "metadata": {},
   "source": [
    "Next we fit the model. This is where we feed the training data into the models, and model parameters are \"learned\".\n",
    "\n",
    "We can return the linear model and the parameters (y_intercept & coefficients) that the model calulated. "
   ]
  },
  {
   "cell_type": "code",
   "execution_count": 8,
   "metadata": {},
   "outputs": [
    {
     "data": {
      "text/plain": [
       "LinearRegression()"
      ]
     },
     "execution_count": 8,
     "metadata": {},
     "output_type": "execute_result"
    }
   ],
   "source": [
    "# Fitting the data to model\n",
    "lm.fit(X_rfe, y_train)"
   ]
  },
  {
   "cell_type": "code",
   "execution_count": 9,
   "metadata": {},
   "outputs": [
    {
     "name": "stdout",
     "output_type": "stream",
     "text": [
      "Linear Model: LinearRegression()\n",
      "intercept:  [12.14476092]\n",
      "features:  Index(['exam1', 'exam3'], dtype='object')\n",
      "coefficients:  [[0.59343236 0.27423512]]\n"
     ]
    }
   ],
   "source": [
    "print(\"Linear Model:\", lm)\n",
    "\n",
    "print(\"intercept: \", lm.intercept_)\n",
    "\n",
    "print(\"features: \", rfe_features)\n",
    "print(\"coefficients: \", lm.coef_)"
   ]
  },
  {
   "cell_type": "markdown",
   "metadata": {},
   "source": [
    "Here we fit the model on our X_rfe (which is X_train with one variable filtered out) and then inspected various properties of the model after it was fit.\n",
    "\n",
    "We can now call `.predict` to get the predicted y-values.\n",
    "\n",
    "We will call the predicted y value `yhat_lm` and append to our `y_train` dataframe for easier evaluation analysis."
   ]
  },
  {
   "cell_type": "code",
   "execution_count": 10,
   "metadata": {},
   "outputs": [
    {
     "data": {
      "text/html": [
       "<div>\n",
       "<style scoped>\n",
       "    .dataframe tbody tr th:only-of-type {\n",
       "        vertical-align: middle;\n",
       "    }\n",
       "\n",
       "    .dataframe tbody tr th {\n",
       "        vertical-align: top;\n",
       "    }\n",
       "\n",
       "    .dataframe thead th {\n",
       "        text-align: right;\n",
       "    }\n",
       "</style>\n",
       "<table border=\"1\" class=\"dataframe\">\n",
       "  <thead>\n",
       "    <tr style=\"text-align: right;\">\n",
       "      <th></th>\n",
       "      <th>final_grade</th>\n",
       "      <th>yhat_lm</th>\n",
       "    </tr>\n",
       "  </thead>\n",
       "  <tbody>\n",
       "    <tr>\n",
       "      <th>10</th>\n",
       "      <td>68</td>\n",
       "      <td>65.760296</td>\n",
       "    </tr>\n",
       "    <tr>\n",
       "      <th>15</th>\n",
       "      <td>87</td>\n",
       "      <td>86.444967</td>\n",
       "    </tr>\n",
       "    <tr>\n",
       "      <th>42</th>\n",
       "      <td>85</td>\n",
       "      <td>84.983867</td>\n",
       "    </tr>\n",
       "    <tr>\n",
       "      <th>51</th>\n",
       "      <td>72</td>\n",
       "      <td>75.075365</td>\n",
       "    </tr>\n",
       "    <tr>\n",
       "      <th>46</th>\n",
       "      <td>76</td>\n",
       "      <td>76.032957</td>\n",
       "    </tr>\n",
       "  </tbody>\n",
       "</table>\n",
       "</div>"
      ],
      "text/plain": [
       "    final_grade    yhat_lm\n",
       "10           68  65.760296\n",
       "15           87  86.444967\n",
       "42           85  84.983867\n",
       "51           72  75.075365\n",
       "46           76  76.032957"
      ]
     },
     "execution_count": 10,
     "metadata": {},
     "output_type": "execute_result"
    }
   ],
   "source": [
    "y_train['yhat_lm'] = lm.predict(X_rfe)\n",
    "\n",
    "y_train.head()"
   ]
  },
  {
   "cell_type": "markdown",
   "metadata": {},
   "source": [
    "Evaluate RMSE"
   ]
  },
  {
   "cell_type": "code",
   "execution_count": 11,
   "metadata": {},
   "outputs": [
    {
     "name": "stdout",
     "output_type": "stream",
     "text": [
      "linear model\n",
      "  Root mean squared error: 1.65\n"
     ]
    }
   ],
   "source": [
    "RMSE_lm = np.sqrt(mean_squared_error(y_train.final_grade, y_train.yhat_lm))\n",
    "RMSE_lm\n",
    "\n",
    "print(\"linear model\\n  Root mean squared error: {:.3}\".format(RMSE_lm))"
   ]
  },
  {
   "cell_type": "markdown",
   "metadata": {},
   "source": [
    "Return the coefficient of determination R^2 of the prediction:"
   ]
  },
  {
   "cell_type": "code",
   "execution_count": 12,
   "metadata": {},
   "outputs": [
    {
     "name": "stdout",
     "output_type": "stream",
     "text": [
      "97.49% of the variance in the students final grade can be explained by the grades on exam 1 and 3.\n"
     ]
    }
   ],
   "source": [
    "r2_lm = lm.score(X_rfe, y_train.final_grade)\n",
    "\n",
    "print(f'{r2_lm:.2%} of the variance in the student''s final grade can be explained by the grades on exam 1 and 3.')"
   ]
  },
  {
   "cell_type": "markdown",
   "metadata": {},
   "source": [
    "Given the intercept and the coefficients, we can write the regression function. "
   ]
  },
  {
   "cell_type": "code",
   "execution_count": 13,
   "metadata": {},
   "outputs": [
    {
     "name": "stdout",
     "output_type": "stream",
     "text": [
      "final_grade = 12.14 + 0.59 * exam1 + 0.274 * exam3\n"
     ]
    }
   ],
   "source": [
    "output = \"{} = {:.4} + {:.2} * {} + {:.3} * {}\".format(\n",
    "    y_train.columns[0],\n",
    "    lm.intercept_[0],\n",
    "    lm.coef_[0][0],\n",
    "    rfe_features[0],\n",
    "    lm.coef_[0][1],\n",
    "    rfe_features[1],\n",
    ")\n",
    "print(output)"
   ]
  },
  {
   "cell_type": "markdown",
   "metadata": {},
   "source": [
    "!!!tip \"sklearn conventions\"\n",
    "    Sklearn uses an underscore suffix to indicate properties which are learned from the data (as opposed to being inherit to the model itself)."
   ]
  },
  {
   "cell_type": "markdown",
   "metadata": {},
   "source": [
    "## Polynomial Regression Model "
   ]
  },
  {
   "cell_type": "code",
   "execution_count": 14,
   "metadata": {},
   "outputs": [
    {
     "data": {
      "text/plain": [
       "['1', 'x0', 'x1', 'x0^2', 'x0 x1', 'x1^2']"
      ]
     },
     "execution_count": 14,
     "metadata": {},
     "output_type": "execute_result"
    }
   ],
   "source": [
    "from sklearn.preprocessing import PolynomialFeatures\n",
    "\n",
    "poly = PolynomialFeatures(degree=2)\n",
    "X_poly = poly.fit_transform(X_rfe)\n",
    "\n",
    "poly.get_feature_names()"
   ]
  },
  {
   "cell_type": "code",
   "execution_count": 15,
   "metadata": {},
   "outputs": [],
   "source": [
    "lm_poly = LinearRegression()\n",
    "lm_poly.fit(X_poly, y_train.final_grade)\n",
    "y_train['yhat_poly'] = lm_poly.predict(X_poly)"
   ]
  },
  {
   "cell_type": "code",
   "execution_count": 16,
   "metadata": {},
   "outputs": [
    {
     "name": "stdout",
     "output_type": "stream",
     "text": [
      "polynomial model\n",
      "  Root mean squared error: 1.28\n"
     ]
    }
   ],
   "source": [
    "RMSE_poly = np.sqrt(mean_squared_error(y_train.final_grade, y_train.yhat_poly))\n",
    "RMSE_poly\n",
    "\n",
    "print(\"polynomial model\\n  Root mean squared error: {:.3}\".format(RMSE_poly)) "
   ]
  },
  {
   "cell_type": "code",
   "execution_count": 17,
   "metadata": {},
   "outputs": [
    {
     "data": {
      "text/html": [
       "<div>\n",
       "<style scoped>\n",
       "    .dataframe tbody tr th:only-of-type {\n",
       "        vertical-align: middle;\n",
       "    }\n",
       "\n",
       "    .dataframe tbody tr th {\n",
       "        vertical-align: top;\n",
       "    }\n",
       "\n",
       "    .dataframe thead th {\n",
       "        text-align: right;\n",
       "    }\n",
       "</style>\n",
       "<table border=\"1\" class=\"dataframe\">\n",
       "  <thead>\n",
       "    <tr style=\"text-align: right;\">\n",
       "      <th></th>\n",
       "      <th>final_grade</th>\n",
       "      <th>yhat_lm</th>\n",
       "      <th>yhat_poly</th>\n",
       "    </tr>\n",
       "  </thead>\n",
       "  <tbody>\n",
       "    <tr>\n",
       "      <th>10</th>\n",
       "      <td>68</td>\n",
       "      <td>65.760296</td>\n",
       "      <td>67.187419</td>\n",
       "    </tr>\n",
       "    <tr>\n",
       "      <th>15</th>\n",
       "      <td>87</td>\n",
       "      <td>86.444967</td>\n",
       "      <td>85.564223</td>\n",
       "    </tr>\n",
       "    <tr>\n",
       "      <th>42</th>\n",
       "      <td>85</td>\n",
       "      <td>84.983867</td>\n",
       "      <td>84.280514</td>\n",
       "    </tr>\n",
       "    <tr>\n",
       "      <th>51</th>\n",
       "      <td>72</td>\n",
       "      <td>75.075365</td>\n",
       "      <td>75.097629</td>\n",
       "    </tr>\n",
       "    <tr>\n",
       "      <th>46</th>\n",
       "      <td>76</td>\n",
       "      <td>76.032957</td>\n",
       "      <td>76.324583</td>\n",
       "    </tr>\n",
       "  </tbody>\n",
       "</table>\n",
       "</div>"
      ],
      "text/plain": [
       "    final_grade    yhat_lm  yhat_poly\n",
       "10           68  65.760296  67.187419\n",
       "15           87  86.444967  85.564223\n",
       "42           85  84.983867  84.280514\n",
       "51           72  75.075365  75.097629\n",
       "46           76  76.032957  76.324583"
      ]
     },
     "execution_count": 17,
     "metadata": {},
     "output_type": "execute_result"
    }
   ],
   "source": [
    "y_train.head()"
   ]
  },
  {
   "cell_type": "markdown",
   "metadata": {},
   "source": [
    "## Baseline Model"
   ]
  },
  {
   "cell_type": "code",
   "execution_count": 18,
   "metadata": {},
   "outputs": [
    {
     "name": "stdout",
     "output_type": "stream",
     "text": [
      "Baseline (ŷ = ȳ)\n",
      "  Root mean squared error: 10.4\n",
      "  0.00% of the variance in the students final grade can be explained by the grades on exam 1 and 3.\n"
     ]
    }
   ],
   "source": [
    "# set predictions to be the mean of all final grades\n",
    "y_train['yhat_baseline'] = df['final_grade'].mean()\n",
    "\n",
    "# compute the RMSE\n",
    "RMSE_bl = np.sqrt(mean_squared_error(y_train.final_grade, y_train.yhat_baseline))\n",
    "print(\"Baseline (ŷ = ȳ)\\n  Root mean squared error: {:.3}\".format(RMSE_bl)) \n",
    "\n",
    "# no need to compute R-2 because it will be a 0! But we will demonstrate here:\n",
    "evs = explained_variance_score(y_train.final_grade, y_train.yhat_baseline)\n",
    "print('  {:.2%} of the variance in the student''s final grade can be explained by the grades on exam 1 and 3.'.format(evs))"
   ]
  },
  {
   "cell_type": "markdown",
   "metadata": {},
   "source": [
    "## Pull them all together\n",
    "\n",
    "At this point, we have a dataframe, `y_train` full of the actual final grade values, as well as all of the predictions our models have made."
   ]
  },
  {
   "cell_type": "code",
   "execution_count": 19,
   "metadata": {},
   "outputs": [
    {
     "data": {
      "text/html": [
       "<div>\n",
       "<style scoped>\n",
       "    .dataframe tbody tr th:only-of-type {\n",
       "        vertical-align: middle;\n",
       "    }\n",
       "\n",
       "    .dataframe tbody tr th {\n",
       "        vertical-align: top;\n",
       "    }\n",
       "\n",
       "    .dataframe thead th {\n",
       "        text-align: right;\n",
       "    }\n",
       "</style>\n",
       "<table border=\"1\" class=\"dataframe\">\n",
       "  <thead>\n",
       "    <tr style=\"text-align: right;\">\n",
       "      <th></th>\n",
       "      <th>final_grade</th>\n",
       "      <th>yhat_lm</th>\n",
       "      <th>yhat_poly</th>\n",
       "      <th>yhat_baseline</th>\n",
       "    </tr>\n",
       "  </thead>\n",
       "  <tbody>\n",
       "    <tr>\n",
       "      <th>10</th>\n",
       "      <td>68</td>\n",
       "      <td>65.760296</td>\n",
       "      <td>67.187419</td>\n",
       "      <td>81.970588</td>\n",
       "    </tr>\n",
       "    <tr>\n",
       "      <th>15</th>\n",
       "      <td>87</td>\n",
       "      <td>86.444967</td>\n",
       "      <td>85.564223</td>\n",
       "      <td>81.970588</td>\n",
       "    </tr>\n",
       "    <tr>\n",
       "      <th>42</th>\n",
       "      <td>85</td>\n",
       "      <td>84.983867</td>\n",
       "      <td>84.280514</td>\n",
       "      <td>81.970588</td>\n",
       "    </tr>\n",
       "    <tr>\n",
       "      <th>51</th>\n",
       "      <td>72</td>\n",
       "      <td>75.075365</td>\n",
       "      <td>75.097629</td>\n",
       "      <td>81.970588</td>\n",
       "    </tr>\n",
       "    <tr>\n",
       "      <th>46</th>\n",
       "      <td>76</td>\n",
       "      <td>76.032957</td>\n",
       "      <td>76.324583</td>\n",
       "      <td>81.970588</td>\n",
       "    </tr>\n",
       "  </tbody>\n",
       "</table>\n",
       "</div>"
      ],
      "text/plain": [
       "    final_grade    yhat_lm  yhat_poly  yhat_baseline\n",
       "10           68  65.760296  67.187419      81.970588\n",
       "15           87  86.444967  85.564223      81.970588\n",
       "42           85  84.983867  84.280514      81.970588\n",
       "51           72  75.075365  75.097629      81.970588\n",
       "46           76  76.032957  76.324583      81.970588"
      ]
     },
     "execution_count": 19,
     "metadata": {},
     "output_type": "execute_result"
    }
   ],
   "source": [
    "y_train.head()"
   ]
  },
  {
   "cell_type": "markdown",
   "metadata": {},
   "source": [
    "It can be helpful to visualize all of the models' predictions:"
   ]
  },
  {
   "cell_type": "code",
   "execution_count": 20,
   "metadata": {},
   "outputs": [
    {
     "data": {
      "text/plain": [
       "Text(0.5, 1.0, 'Predicted vs Actual Final Grade')"
      ]
     },
     "execution_count": 20,
     "metadata": {},
     "output_type": "execute_result"
    },
    {
     "data": {
      "image/png": "[encoded data removed]",
      "text/plain": [
       "<Figure size 648x648 with 1 Axes>"
      ]
     },
     "metadata": {
      "needs_background": "light"
     },
     "output_type": "display_data"
    }
   ],
   "source": [
    "plt.figure(figsize=(9, 9))\n",
    "\n",
    "plt.scatter(y_train.final_grade, y_train.yhat_lm, label='OLS (final_grade ~ exam1 + exam3)', marker='o')\n",
    "plt.scatter(y_train.final_grade, y_train.yhat_poly, label='Model with polynomial features', marker='o')\n",
    "plt.scatter(y_train.final_grade, y_train.yhat_baseline, label=r'Baseline ($\\hat{y} = \\bar{y}$)', marker='o')\n",
    "plt.plot([60, 100], [60, 100], label='Perfect predictions', ls=':', c='grey')\n",
    "\n",
    "plt.legend(title='Model')\n",
    "plt.ylabel('Predicted Final Grade')\n",
    "plt.xlabel('Actual Final Grade')\n",
    "plt.title('Predicted vs Actual Final Grade')"
   ]
  },
  {
   "cell_type": "markdown",
   "metadata": {},
   "source": [
    "## Evaluate models on `validate`, tune, and then evaluate on `train`\n",
    "\n",
    "Once you've produced some models and evaluated their performance on the `train` dataset, it's important to see how they perform on out of sample data.\n",
    "\n",
    "1. Build a handful of models that perform well on `train`. Then evaluate how these models perform on out-of-sample data from the `validate` data set.\n",
    "2. Experiment with your hyperparameters, perform additional feature engineering, and create more refined models that perform well on `validate`. Test how well each model performs on `validate`. \n",
    "    - In this way, we're using out-of-sample data from `validate` to improve our model. \n",
    "    - Because we're using out-of-sample data to improve our models, the validate can no longer be considered out-of-sample. \n",
    "3. Once we have our model that performs the best on `validate`, it's time to see how well it will perform on the fresh out-of-sample data from the `test` set."
   ]
  },
  {
   "cell_type": "markdown",
   "metadata": {},
   "source": [
    "## Exercises\n",
    "\n",
    "Create a notebook named `model.ipynb` for this exercise. \n",
    "\n",
    "---\n",
    "\n",
    "Using the data on student grades from this lesson, complete the following:\n",
    "\n",
    "1. Split the data into train, validate, and test datasets.\n",
    "1. Create a model that uses exam 1 to predict the final grade.\n",
    "1. Create a model that uses exam 2 to predict the final grade.\n",
    "1. Compare your models in the following manner:\n",
    "    - Calculate the mean squared error\n",
    "    - Visualize the residuals. Create a seperate visualization for each model.\n",
    "    - Visualize the actual vs the predicted values. Create a seperate visualization for each model.\n",
    "    - **Bonus**: Combine the seperate visualizations for each model into a single visualization. Is this visual helpful?\n",
    "1. Create a model that uses exam 1 and exam 3 to predict final grade. How does this model compare to your previous ones?\n",
    "1. Take your best preforming model and measure its performance on the `validate` data set. How does the performance differ between train and validate?\n",
    "1. Make a 4th model with a slight difference like one more/less feature or a single hyperparameter that's different to see if you can beat that the last model's performance on validate.\n",
    "1. Tune your models using validate to improve performance. Select the model w/ the best performance and evaluate that one on test, to get a more clear understanding of how it will perform on out-of-sample data.\n",
    "\n",
    "---\n",
    "\n",
    "Our scenario continues:\n",
    "\n",
    "As a customer analyst, I want to know who has spent the most money with us over their lifetime. I have monthly charges and tenure, so I think I will be able to use those two attributes as features to estimate total_charges. I need to do this within an average of $5.00 per customer. \n",
    "\n",
    "1. Run all your previous scripts that acquired, prepared, split, and scaled the telco churn data.\n",
    "1. Fit 3 different linear models to your data, one with just `tenure`, one with just `monthly_charges`, and one with both.\n",
    "1. Evaluate the models and your baseline.\n",
    "1. Select the model that performed the best, and evaluate it with your validate data.\n",
    "1. Make a 4th model with a slight difference like one more feature or a single hyperparameter that's different to see if you can beat that the last model's performance on `validate`.\n",
    "1. Tune your models using `validate` to improve performance. Select the model w/ the best performance and evaluate that one on `test`, to get a more clear understanding of how it will perform on out-of-sample data. \n"
   ]
  },
  {
   "cell_type": "code",
   "execution_count": null,
   "metadata": {},
   "outputs": [],
   "source": []
  }
 ],
 "metadata": {
  "kernelspec": {
   "display_name": "Python 3",
   "language": "python",
   "name": "python3"
  },
  "language_info": {
   "codemirror_mode": {
    "name": "ipython",
    "version": 3
   },
   "file_extension": ".py",
   "mimetype": "text/x-python",
   "name": "python",
   "nbconvert_exporter": "python",
   "pygments_lexer": "ipython3",
   "version": "3.7.3"
  }
 },
 "nbformat": 4,
 "nbformat_minor": 2
}
