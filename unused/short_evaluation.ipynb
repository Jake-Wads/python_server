{
 "cells": [
  {
   "cell_type": "markdown",
   "metadata": {},
   "source": [
    "# Evaluating Regression Models\n",
    "\n",
    "## What\n",
    "- Since models are approximations of reality, we're measuring how closely our linear models approximate reality.\n",
    "- With evaluating regression models, we'll calculate this closeness by measuring the error, which is the distance between the regression line (prediction) and actual data points.\n",
    "\n",
    "## Why\n",
    "Techniques in this lesson answer the following questions:\n",
    "- How do we know if our model is good enough?\n",
    "- How do we evaluate our model?\n",
    "- Is our model valuable?\n",
    "- Are our features valuable?\n",
    "\n",
    "## How - what is our approach?\n",
    "- Prerequisites\n",
    "    1. Establish a baseline (often the average of the target $\\bar{y}$)\n",
    "    2. Build a super simple model (or isolate the model we're evaluating)\n",
    "    3. Calculate baseline and model residuals\n",
    "- Evaluate the model\n",
    "    1. Calculate SSE, MSE, and RMSE (Root Mean Squared Error)\n",
    "    2. Determine if the model is significant\n",
    "    3. Determine if the features are significant\n",
    "\n",
    "## When do we evaluate a model?\n",
    "- As soon as we've got a super basic model, it's important to know if it beats baseline. \n",
    "- If so, we'll keep on modeling, making new models, tuning, etc... \n",
    "- If not, maybe a different model or different feature(s) will help.\n",
    "\n",
    "## Vocabulary\n",
    "- Baseline is often the mean, but could also be the median or \"last year's\" model, in practice.\n",
    "- Line of best fit = regression line == linear model that best fits the data points.\n",
    "- Residuals: for each data point, the vertical distance between each predicted $\\hat{y}$ and actual $y$ values.. This is $\\hat{y} - y$\n",
    "- Linear model = a line that best approximates reality.\n",
    "- $y = mx + b$ is a linear model\n",
    "- SSE = sum of squared errors\n",
    "- MSE = mean squared error\n",
    "- RMSE = root mean squared error = sqrt(MSE)\n",
    "    - Taking the square root means we get same units as y"
   ]
  },
  {
   "cell_type": "code",
   "execution_count": 1,
   "metadata": {},
   "outputs": [],
   "source": [
    "import warnings\n",
    "warnings.filterwarnings(\"ignore\")\n",
    "\n",
    "import pandas as pd\n",
    "import matplotlib.pyplot as plt\n",
    "import seaborn as sns\n",
    "import numpy as np\n",
    "from pydataset import data\n",
    "\n",
    "# Linear Model\n",
    "from statsmodels.formula.api import ols"
   ]
  },
  {
   "cell_type": "markdown",
   "metadata": {},
   "source": [
    "## Predicting Lemonade Sales "
   ]
  },
  {
   "cell_type": "code",
   "execution_count": 2,
   "metadata": {},
   "outputs": [
    {
     "data": {
      "text/html": [
       "<div>\n",
       "<style scoped>\n",
       "    .dataframe tbody tr th:only-of-type {\n",
       "        vertical-align: middle;\n",
       "    }\n",
       "\n",
       "    .dataframe tbody tr th {\n",
       "        vertical-align: top;\n",
       "    }\n",
       "\n",
       "    .dataframe thead th {\n",
       "        text-align: right;\n",
       "    }\n",
       "</style>\n",
       "<table border=\"1\" class=\"dataframe\">\n",
       "  <thead>\n",
       "    <tr style=\"text-align: right;\">\n",
       "      <th></th>\n",
       "      <th>temperature</th>\n",
       "      <th>rainfall</th>\n",
       "      <th>flyers</th>\n",
       "      <th>sales</th>\n",
       "      <th>log_rainfall</th>\n",
       "    </tr>\n",
       "  </thead>\n",
       "  <tbody>\n",
       "    <tr>\n",
       "      <th>0</th>\n",
       "      <td>27.0</td>\n",
       "      <td>2.00</td>\n",
       "      <td>15</td>\n",
       "      <td>10</td>\n",
       "      <td>0.693147</td>\n",
       "    </tr>\n",
       "    <tr>\n",
       "      <th>1</th>\n",
       "      <td>28.9</td>\n",
       "      <td>1.33</td>\n",
       "      <td>15</td>\n",
       "      <td>13</td>\n",
       "      <td>0.285179</td>\n",
       "    </tr>\n",
       "    <tr>\n",
       "      <th>2</th>\n",
       "      <td>34.5</td>\n",
       "      <td>1.33</td>\n",
       "      <td>27</td>\n",
       "      <td>15</td>\n",
       "      <td>0.285179</td>\n",
       "    </tr>\n",
       "    <tr>\n",
       "      <th>3</th>\n",
       "      <td>44.1</td>\n",
       "      <td>1.05</td>\n",
       "      <td>28</td>\n",
       "      <td>17</td>\n",
       "      <td>0.048790</td>\n",
       "    </tr>\n",
       "    <tr>\n",
       "      <th>4</th>\n",
       "      <td>42.4</td>\n",
       "      <td>1.00</td>\n",
       "      <td>33</td>\n",
       "      <td>18</td>\n",
       "      <td>0.000000</td>\n",
       "    </tr>\n",
       "  </tbody>\n",
       "</table>\n",
       "</div>"
      ],
      "text/plain": [
       "   temperature  rainfall  flyers  sales  log_rainfall\n",
       "0         27.0      2.00      15     10      0.693147\n",
       "1         28.9      1.33      15     13      0.285179\n",
       "2         34.5      1.33      27     15      0.285179\n",
       "3         44.1      1.05      28     17      0.048790\n",
       "4         42.4      1.00      33     18      0.000000"
      ]
     },
     "execution_count": 2,
     "metadata": {},
     "output_type": "execute_result"
    }
   ],
   "source": [
    "# Let's work with some sales data!\n",
    "df = pd.read_csv(\"https://gist.githubusercontent.com/ryanorsinger/9867c96ddb56626e9aac94d8e92dabdf/raw/45f9a36a8871ac0e24317704ed0072c9dded1327/lemonade_regression.csv\")\n",
    "df[\"log_rainfall\"] = np.log(df.rainfall)\n",
    "\n",
    "df.head()"
   ]
  },
  {
   "cell_type": "code",
   "execution_count": 3,
   "metadata": {},
   "outputs": [
    {
     "data": {
      "image/png": "[encoded data removed]",
      "text/plain": [
       "<Figure size 432x288 with 1 Axes>"
      ]
     },
     "metadata": {
      "needs_background": "light"
     },
     "output_type": "display_data"
    }
   ],
   "source": [
    "plt.suptitle(\"Adding a Line of Best Fit\")\n",
    "plt.title(\"Plotting Flyers vs. Sales\")\n",
    "\n",
    "sns.regplot(x=\"flyers\", y=\"sales\", data=df)\n",
    "plt.show()"
   ]
  },
  {
   "cell_type": "markdown",
   "metadata": {},
   "source": [
    "## Okay, so .regplot can add a line of best fit\n",
    "- But is this model any good?\n",
    "- Is it better than a baseline?\n",
    "- How do we get a baseline?\n",
    "- And is this this model significant?\n",
    "- What does it mean that the points are spread out from the line? \n",
    "- What does it mean if they're close to the line?"
   ]
  },
  {
   "cell_type": "markdown",
   "metadata": {},
   "source": [
    "## The Evaluation Playbook is here to help!\n",
    "- Prerequisites:\n",
    "    1. Establish a baseline\n",
    "    2. Produce a super simple model\n",
    "    3. Calculate the model and baseline residuals\n",
    "- Evaluation\n",
    "    1. Calculate evaluation metrics from residuals\n",
    "    2. Determine if the model is significant\n",
    "    3. Determine if the features are significant (we'll do this later)"
   ]
  },
  {
   "cell_type": "code",
   "execution_count": 4,
   "metadata": {},
   "outputs": [
    {
     "data": {
      "text/plain": [
       "<matplotlib.axes._subplots.AxesSubplot at 0x7f80a06a2c50>"
      ]
     },
     "execution_count": 4,
     "metadata": {},
     "output_type": "execute_result"
    },
    {
     "data": {
      "image/png": "[encoded data removed]",
      "text/plain": [
       "<Figure size 432x288 with 1 Axes>"
      ]
     },
     "metadata": {
      "needs_background": "light"
     },
     "output_type": "display_data"
    }
   ],
   "source": [
    "df.sales.hist()"
   ]
  },
  {
   "cell_type": "code",
   "execution_count": 5,
   "metadata": {},
   "outputs": [],
   "source": [
    "# Pre-requisite Part 1 - establish a baseline. \n",
    "# Since sales are reasonably normally distributed, the mean will do!\n",
    "baseline = df.sales.mean()"
   ]
  },
  {
   "cell_type": "code",
   "execution_count": 6,
   "metadata": {},
   "outputs": [],
   "source": [
    "# Pre-requisite Part 2 - build/identify a super simple linear model\n",
    "# We'll use statsmodels OLS (ordinary least squares method here)\n",
    "# More on Modeling later.\n",
    "from statsmodels.formula.api import ols\n",
    "\n",
    "# The arguments to the ols function are the column names as strings, separated by ~\n",
    "# ols(\"y ~ x\") \n",
    "# ols(\"target ~ feature\")\n",
    "model = ols('sales ~ flyers', df).fit()"
   ]
  },
  {
   "cell_type": "code",
   "execution_count": 7,
   "metadata": {},
   "outputs": [
    {
     "data": {
      "text/html": [
       "<div>\n",
       "<style scoped>\n",
       "    .dataframe tbody tr th:only-of-type {\n",
       "        vertical-align: middle;\n",
       "    }\n",
       "\n",
       "    .dataframe tbody tr th {\n",
       "        vertical-align: top;\n",
       "    }\n",
       "\n",
       "    .dataframe thead th {\n",
       "        text-align: right;\n",
       "    }\n",
       "</style>\n",
       "<table border=\"1\" class=\"dataframe\">\n",
       "  <thead>\n",
       "    <tr style=\"text-align: right;\">\n",
       "      <th></th>\n",
       "      <th>x</th>\n",
       "      <th>y</th>\n",
       "      <th>baseline</th>\n",
       "      <th>yhat</th>\n",
       "      <th>baseline_residual</th>\n",
       "      <th>model_residual</th>\n",
       "    </tr>\n",
       "  </thead>\n",
       "  <tbody>\n",
       "    <tr>\n",
       "      <th>0</th>\n",
       "      <td>15</td>\n",
       "      <td>10</td>\n",
       "      <td>25.323288</td>\n",
       "      <td>14.673754</td>\n",
       "      <td>15.323288</td>\n",
       "      <td>4.673754</td>\n",
       "    </tr>\n",
       "    <tr>\n",
       "      <th>1</th>\n",
       "      <td>15</td>\n",
       "      <td>13</td>\n",
       "      <td>25.323288</td>\n",
       "      <td>14.673754</td>\n",
       "      <td>12.323288</td>\n",
       "      <td>1.673754</td>\n",
       "    </tr>\n",
       "    <tr>\n",
       "      <th>2</th>\n",
       "      <td>27</td>\n",
       "      <td>15</td>\n",
       "      <td>25.323288</td>\n",
       "      <td>19.727926</td>\n",
       "      <td>10.323288</td>\n",
       "      <td>4.727926</td>\n",
       "    </tr>\n",
       "    <tr>\n",
       "      <th>3</th>\n",
       "      <td>28</td>\n",
       "      <td>17</td>\n",
       "      <td>25.323288</td>\n",
       "      <td>20.149107</td>\n",
       "      <td>8.323288</td>\n",
       "      <td>3.149107</td>\n",
       "    </tr>\n",
       "  </tbody>\n",
       "</table>\n",
       "</div>"
      ],
      "text/plain": [
       "    x   y   baseline       yhat  baseline_residual  model_residual\n",
       "0  15  10  25.323288  14.673754          15.323288        4.673754\n",
       "1  15  13  25.323288  14.673754          12.323288        1.673754\n",
       "2  27  15  25.323288  19.727926          10.323288        4.727926\n",
       "3  28  17  25.323288  20.149107           8.323288        3.149107"
      ]
     },
     "execution_count": 7,
     "metadata": {},
     "output_type": "execute_result"
    }
   ],
   "source": [
    "# Pre-requisite Part 3 - Calculate residuals\n",
    "evaluate = pd.DataFrame()\n",
    "\n",
    "evaluate[\"x\"] = df.flyers\n",
    "\n",
    "# Our y is our dependent variable\n",
    "evaluate[\"y\"] = df.sales\n",
    "evaluate[\"baseline\"] = df.sales.mean()\n",
    "\n",
    "# y-hat is shorthand for \"predicted y\" values\n",
    "evaluate[\"yhat\"] = model.predict()\n",
    "\n",
    "# Calculate the baseline residuals \n",
    "# Residual is predicted minus actual\n",
    "evaluate[\"baseline_residual\"] = evaluate.baseline - evaluate.y\n",
    "\n",
    "# Calculate the model residuals\n",
    "evaluate[\"model_residual\"] = evaluate.yhat - evaluate.y\n",
    "\n",
    "evaluate.head(4)"
   ]
  },
  {
   "cell_type": "markdown",
   "metadata": {},
   "source": [
    "## So how do we answer if the model beats the baseline\n",
    "- Our metric will be the sum of squared errors\n",
    "- We sum up the squares of every residual from baseline\n",
    "- We sum up the squares of every residual from model\n",
    "- Then we compare\n",
    "\n",
    "Here's the quick and easy arithmetic answer:\n",
    "- Square the baseline_residual to get the baseline_sse\n",
    "- Square the model_residual to get the model_sse"
   ]
  },
  {
   "cell_type": "code",
   "execution_count": 8,
   "metadata": {},
   "outputs": [
    {
     "name": "stdout",
     "output_type": "stream",
     "text": [
      "Our model beats the baseline\n",
      "It makes sense to evaluate this model more deeply.\n",
      "Baseline SSE 17297.85205479452\n",
      "Model SSE 6083.326244705024\n"
     ]
    }
   ],
   "source": [
    "# Calculate if the model beats the baseline\n",
    "# Square errors for 2 reasons\n",
    "# 1. Squaring large numbers increases their magnitude (opposite for small)\n",
    "# 2. Squaring removes negative residuals\n",
    "baseline_sse = (evaluate.baseline_residual**2).sum()\n",
    "model_sse = (evaluate.model_residual**2).sum()\n",
    "\n",
    "if model_sse < baseline_sse:\n",
    "    print(\"Our model beats the baseline\")\n",
    "    print(\"It makes sense to evaluate this model more deeply.\")\n",
    "else:\n",
    "    print(\"Our baseline is better than the model.\")\n",
    "\n",
    "print(\"Baseline SSE\", baseline_sse)\n",
    "print(\"Model SSE\", model_sse)"
   ]
  },
  {
   "cell_type": "markdown",
   "metadata": {},
   "source": [
    "## Now let's consider evaluation metrics\n",
    "- Sum of Square Error (SSE)\n",
    "    - Squaring makes larger errors more significant\n",
    "    - Squaring also removes negative residuals\n",
    "- Mean Squared Error (MSE)\n",
    "    - Average of all the squared errors\n",
    "- Root Mean Squared Error (RMSE)\n",
    "    - Super useful\n",
    "    - Converts back to the same units"
   ]
  },
  {
   "cell_type": "code",
   "execution_count": 9,
   "metadata": {},
   "outputs": [
    {
     "name": "stdout",
     "output_type": "stream",
     "text": [
      "SSE is 6083.326244705024  which is the sum sf squared errors\n",
      "MSE is 16.666647245767187  which is the average squared error\n",
      "RMSE is 4.082480526073233  which is the square root of the MSE\n"
     ]
    }
   ],
   "source": [
    "from sklearn.metrics import mean_squared_error\n",
    "from math import sqrt\n",
    "\n",
    "\n",
    "# Sum the squares of the baseline errors\n",
    "model_sse = (evaluate.model_residual**2).sum()\n",
    "\n",
    "# Take the average of the Sum of squared errors\n",
    "# mse = model_sse / len(evaluate)\n",
    "\n",
    "# Or we could calculate this using sklearn's mean_squared_error function\n",
    "mse = mean_squared_error(evaluate.y, evaluate.yhat)\n",
    "\n",
    "# Now we'll take the Square Root of the Sum of Errors\n",
    "# Taking the square root is nice because the units of the error \n",
    "# will be in the same units as the target variable.\n",
    "rmse = sqrt(mse)\n",
    "\n",
    "print(\"SSE is\", model_sse, \" which is the sum sf squared errors\")\n",
    "print(\"MSE is\", mse, \" which is the average squared error\")\n",
    "print(\"RMSE is\", rmse, \" which is the square root of the MSE\")"
   ]
  },
  {
   "cell_type": "markdown",
   "metadata": {},
   "source": [
    "## Evaluating Model Significance\n",
    "$R^2$ tells you how well your model fits the data by measuring the strength of the relationship between your model and the dependent variable. However, it is not a formal test for the relationship. The F-test of overall significance is the hypothesis test for this relationship. It indicates whether your linear regression model provides a better fit to the data than a model that contains no independent variables.\n",
    "\n",
    "If the overall F-test is significant (evident through the p-value of the F statistic), you can conclude that $R^2$ does not equal zero, and the correlation between the model and dependent variable is statistically significant.\n"
   ]
  },
  {
   "cell_type": "code",
   "execution_count": 10,
   "metadata": {},
   "outputs": [
    {
     "name": "stdout",
     "output_type": "stream",
     "text": [
      "R-squared =  0.648\n"
     ]
    }
   ],
   "source": [
    "# The model commented below is our model\n",
    "# model = ols('sales ~ flyers', df).fit()\n",
    "\n",
    "r2 = model.rsquared\n",
    "print('R-squared = ', round(r2,3))"
   ]
  },
  {
   "cell_type": "markdown",
   "metadata": {},
   "source": [
    "We will now compute the p-value to determine if our test is significant, i.e. can we trust that the explained variance means what we think it means? If we have a high $R^2$, does it really mean that there is correlation? If we have only two datapoints, then no"
   ]
  },
  {
   "cell_type": "code",
   "execution_count": 11,
   "metadata": {},
   "outputs": [
    {
     "name": "stdout",
     "output_type": "stream",
     "text": [
      "p-value for model significance =  2.193718738113383e-84\n"
     ]
    }
   ],
   "source": [
    "f_pval = model.f_pvalue\n",
    "print(\"p-value for model significance = \", f_pval)"
   ]
  },
  {
   "cell_type": "code",
   "execution_count": 12,
   "metadata": {},
   "outputs": [
    {
     "data": {
      "text/plain": [
       "True"
      ]
     },
     "execution_count": 12,
     "metadata": {},
     "output_type": "execute_result"
    }
   ],
   "source": [
    "f_pval < .05 "
   ]
  },
  {
   "cell_type": "markdown",
   "metadata": {},
   "source": [
    "- Null hypothesis is that a model not built w/ the independent variables explains the relationship\n",
    "- Alternative hypothesis is that our model built on independent varibles explains the relationship, validates that $R^2$"
   ]
  },
  {
   "cell_type": "markdown",
   "metadata": {},
   "source": [
    "- If `p` is less than 0.05, you're OK to conclude that your regression model fits the data better than the model with no independent variables, meaning the independent variables in your model improve the fit.\n",
    "- If greater than 0.05, it's probably better to stop using this set of features.\n",
    "- Basically, if the `p` is low, we can reject the null hypothesis. \n",
    "- And that means we can accept the model as statistically significant"
   ]
  },
  {
   "cell_type": "code",
   "execution_count": 13,
   "metadata": {},
   "outputs": [],
   "source": [
    "def plot_residuals(actual, predicted):\n",
    "    residuals = actual - predicted\n",
    "    plt.hlines(0, actual.min(), actual.max(), linestyles='dotted')\n",
    "    plt.scatter(actual, residuals)\n",
    "    plt.ylabel('residual ($y - \\hat{y}$)')\n",
    "    plt.xlabel('actual value ($y$)')\n",
    "    plt.title('Actual vs Residual')\n",
    "    return plt.gca()"
   ]
  },
  {
   "cell_type": "code",
   "execution_count": 14,
   "metadata": {},
   "outputs": [
    {
     "data": {
      "text/plain": [
       "<matplotlib.axes._subplots.AxesSubplot at 0x7f80a06c7dd8>"
      ]
     },
     "execution_count": 14,
     "metadata": {},
     "output_type": "execute_result"
    },
    {
     "data": {
      "image/png": "[encoded data removed]",
      "text/plain": [
       "<Figure size 432x288 with 1 Axes>"
      ]
     },
     "metadata": {
      "needs_background": "light"
     },
     "output_type": "display_data"
    }
   ],
   "source": [
    "plot_residuals(evaluate.y, evaluate.yhat)"
   ]
  },
  {
   "cell_type": "markdown",
   "metadata": {},
   "source": [
    "## Exercises\n",
    "\n",
    "Create a new notebook or Python script named `evaluate`.\n",
    "\n",
    "### Evaluating simple linear regressions on lemonade data with other features:\n",
    "1. Create a dataframe from the csv at \n",
    "`https://gist.githubusercontent.com/ryanorsinger/c303a90050d3192773288f7eea97b708/raw/536533b90bb2bf41cea27a2c96a63347cde082a6/lemonade.csv`\n",
    "2. Make a baseline for predicting `sales`. (The mean is a good baseline)\n",
    "3. Create a new dataframe to hold residuals. \n",
    "4. Calculate the baseline residuals. \n",
    "5. Use `ols` from `statsmodels` to create a simple linear regression (1 independent variable, 1 dependent variable) to predict `sales` using `flyers`.\n",
    "\n",
    "```python\n",
    "# the df variable is lemonade data\n",
    "\n",
    "model = ols('sales ~ flyers', data=df).fit()\n",
    "predictions = model.predict(df.x)\n",
    "```\n",
    "\n",
    "6. Use the `.predict` method from `ols` to produce all of our predictions. Add these predictions to the data\n",
    "\n",
    "7. Calculate that model's residuals. \n",
    "8. Evaluate that model's performance and answer if the model is significant.\n",
    "9. Evaluate that model's performance and answer if the feature is significant. \n",
    "\n",
    "### Repetition Improves Performance!\n",
    "- In the next section of your notebook, perform the steps above with the `rainfall` column as the model's feature. Does this model beat the baseline? Would you prefer the `rainfall` model over the `flyers` model?\n",
    "- In the next section of your notebook, perform the steps above with the `log_rainfall` column as the model's feature. Does this model beat the baseline? Would you prefer the `log_rainfall` model over the `flyers` model? Would you prefer the model built with `log_rainfall` over the `rainfall` model from before?\n",
    "- In the next section of your notebook, perform the steps above with the `temperature` column as the model's only feature. Does this model beat the baseline? Would you prefer the `rainfall`, `log_rainfall`, or the `flyers` model?\n",
    "- Which of these 4 single regression models would you want to move forward with?\n",
    "\n",
    "### Tips dataset\n",
    "1. Load the `tips` dataset from `pydataset` or `seaborn`\n",
    "2. Define your baseline for \"tip\". Our goal will be to see if we can make a model that is better than baseline for predicting tips on total_bill.\n",
    "3. Fit a linear regression model (ordinary least squares) and compute yhat, predictions of tip using total_bill.\n",
    "Here is some sample code to get you started:\n",
    "\n",
    "```python\n",
    "from statsmodels.formula.api import ols\n",
    "from pydataset import data\n",
    "\n",
    "df = data(\"tips\")\n",
    "\n",
    "model = ols('tip ~ total_bill', data=df).fit()\n",
    "predictions = model.predict(df.x)\n",
    "```\n",
    "4. Calculate the sum of squared errors, explained sum of squares, total sum of squares, mean squared error, and root mean squared error for your model.\n",
    "\n",
    "5. Calculate the sum of squared errors, mean squared error, and root mean squared error for the baseline model (i.e. a model that always predicts the average tip amount).\n",
    "\n",
    "6. Write python code that compares the sum of squared errors for your model against the sum of squared errors for the baseline model and outputs whether or not your model performs better than the baseline model.\n",
    "\n",
    "7. What is the amount of variance explained in your model?\n",
    "\n",
    "8. Is your model significantly better than the baseline model?\n",
    "\n",
    "9. Plot the residuals for the linear regression model that you made."
   ]
  }
 ],
 "metadata": {
  "kernelspec": {
   "display_name": "Python 3",
   "language": "python",
   "name": "python3"
  },
  "language_info": {
   "codemirror_mode": {
    "name": "ipython",
    "version": 3
   },
   "file_extension": ".py",
   "mimetype": "text/x-python",
   "name": "python",
   "nbconvert_exporter": "python",
   "pygments_lexer": "ipython3",
   "version": "3.6.8"
  }
 },
 "nbformat": 4,
 "nbformat_minor": 4
}
