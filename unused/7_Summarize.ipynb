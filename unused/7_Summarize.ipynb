{
 "cells": [
  {
   "cell_type": "markdown",
   "metadata": {},
   "source": [
    "1. Age\n",
    "\n",
    "    - ~20% missing, use some rules to estimate age.\n",
    "    \n",
    "2. Cabin\n",
    "\n",
    "    - ~77% missing, since the vast majority are missing, and it likely contains much noise, we will remove this feature for now. However, in a later version we may decide to model those with the value and those without the value (2 different models).\n",
    "    \n",
    "3. Embarked\n",
    "\n",
    "    - ~.2% missing, with only 2 values missing, we will remove those rows. Another option would be to see if those that are missing are part of a family where some family members have the value included.\n",
    "    \n",
    "4. Survived\n",
    "\n",
    "    - Those missing are from the test dataset, so no changes to make here"
   ]
  },
  {
   "cell_type": "markdown",
   "metadata": {},
   "source": [
    "## Distrubutions & Outliers\n",
    "\n",
    "### Distributions\n",
    "\n",
    "Viewing the distributions can help with finding data errors and other outliers. It is also important for when using certain statistical tests that make assumptions based on the distributions, as well as intelligently selecting algorithms for modeling the data.  \n",
    "\n",
    "### Outliers\n",
    "\n",
    "Identify the outliers and whether they appear to be a data error or a true outlier. Decide how to handle them. Options include:\n",
    "\n",
    "- Remove the variable\n",
    "- Remove the observations that have the outliers\n",
    "- Replace the outliers with a measure such as mean, median, mode, min or max"
   ]
  },
  {
   "cell_type": "markdown",
   "metadata": {},
   "source": [
    "### Numeric Variables"
   ]
  },
  {
   "cell_type": "code",
   "execution_count": 8,
   "metadata": {},
   "outputs": [],
   "source": [
    "def hist_subplot(x, nrows, ncols, index, title, bins=20, density=False, cumulative=False, log=False):\n",
    "    ax0 = plt.subplot(nrows, ncols, index)\n",
    "    x.hist(bins=bins, density=density, cumulative=cumulative, log=log, ax=ax0)\n",
    "    ax0.set_title(title)\n",
    "    return ax0"
   ]
  },
  {
   "cell_type": "code",
   "execution_count": 9,
   "metadata": {},
   "outputs": [
    {
     "data": {
      "text/plain": [
       "<matplotlib.axes._subplots.AxesSubplot at 0x108f148d0>"
      ]
     },
     "execution_count": 9,
     "metadata": {},
     "output_type": "execute_result"
    },
    {
     "data": {
      "text/plain": [
       "<matplotlib.axes._subplots.AxesSubplot at 0x10e36eef0>"
      ]
     },
     "execution_count": 9,
     "metadata": {},
     "output_type": "execute_result"
    },
    {
     "data": {
      "text/plain": [
       "<matplotlib.axes._subplots.AxesSubplot at 0x10e3c8518>"
      ]
     },
     "execution_count": 9,
     "metadata": {},
     "output_type": "execute_result"
    },
    {
     "data": {
      "text/plain": [
       "<matplotlib.axes._subplots.AxesSubplot at 0x10e434b00>"
      ]
     },
     "execution_count": 9,
     "metadata": {},
     "output_type": "execute_result"
    },
    {
     "data": {
      "image/png": "[encoded data removed]",
      "text/plain": [
       "<Figure size 1152x576 with 4 Axes>"
      ]
     },
     "metadata": {},
     "output_type": "display_data"
    }
   ],
   "source": [
    "# set the frame of a 2x2 matrix to fill 6 plots in\n",
    "fig, ax = plt.subplots(2, 2, sharex='col', sharey='row', figsize=(16,8))\n",
    "\n",
    "for i in range(len(numeric_vars)):\n",
    "    hist_subplot(df_sum[numeric_vars[i]], nrows = 2, ncols = 2, index = i+1, title=numeric_vars[i])"
   ]
  },
  {
   "cell_type": "markdown",
   "metadata": {},
   "source": [
    "## Further Reading\n",
    "\n",
    "- [Outliers: To Drop or not to Drop](https://www.theanalysisfactor.com/outliers-to-drop-or-not-to-drop/)"
   ]
  }
 ],
 "metadata": {
  "kernelspec": {
   "display_name": "Python 3",
   "language": "python",
   "name": "python3"
  },
  "language_info": {
   "codemirror_mode": {
    "name": "ipython",
    "version": 3
   },
   "file_extension": ".py",
   "mimetype": "text/x-python",
   "name": "python",
   "nbconvert_exporter": "python",
   "pygments_lexer": "ipython3",
   "version": "3.6.8"
  },
  "toc": {
   "base_numbering": 1,
   "nav_menu": {},
   "number_sections": false,
   "sideBar": false,
   "skip_h1_title": false,
   "title_cell": "Table of Contents",
   "title_sidebar": "Contents",
   "toc_cell": false,
   "toc_position": {},
   "toc_section_display": false,
   "toc_window_display": false
  }
 },
 "nbformat": 4,
 "nbformat_minor": 2
}
