{
 "cells": [
  {
   "cell_type": "markdown",
   "id": "d34c9171-4364-45dd-9fca-d909f47e7370",
   "metadata": {},
   "source": [
    "### Draw Conclusions\n",
    "\n",
    "We will now compute the p-value to determine if our test is significant, i.e. can we trust that the explained variance means what we think it means? If we have a high $R^2$, does it really mean that there is correlation? If we have only two datapoints, then no! And our p-value should indicate that by giving us a high value. With 2 data points, we should have a VERY high probability of seeing an $R^2$ of 1, but that does not indicate that the two variables are correlated. "
   ]
  },
  {
   "cell_type": "code",
   "execution_count": 27,
   "id": "09f9b6b0-9b43-4521-b392-27c2e044ecee",
   "metadata": {},
   "outputs": [
    {
     "name": "stdout",
     "output_type": "stream",
     "text": [
      "p-value for model significance =  0.0046\n"
     ]
    }
   ],
   "source": [
    "# f_pval = ols_model.f_pvalue\n",
    "\n",
    "# print(\"p-value for model significance = \", round(f_pval,4))"
   ]
  },
  {
   "cell_type": "markdown",
   "id": "833149ea-716b-4d2b-8f7a-e02adc633d7e",
   "metadata": {},
   "source": [
    "The tl;dr:\n",
    "\n",
    "We can conclude that the correlation between the model and the dependent variable is significant. \n",
    "Our model is valuable! \n",
    "\n",
    "The full explanation: \n",
    "\n",
    "For the model with no independent variables, the intercept-only model, all of the model’s predictions equal the mean of the dependent variable. Consequently, if the overall F-test is statistically significant, your model’s predictions are an improvement over using the mean.\n",
    "\n",
    "- If less than 0.05, you're OK => conclude that your regression model fits the data better than the model with no independent variables, meaning the independent variables in your model improve the fit.   \n",
    "- If greater than 0.05, it's probably better to stop using this set of features. \n",
    "\n",
    "If none of your independent variables are statistically significant, you can expect the overall F-test to also not be statistically significant.   \n",
    "\n",
    "Occasionally, however, the tests can produce conflicting results. This disagreement can occur because the F-test of overall significance assesses all of the coefficients jointly whereas the t-test for each coefficient examines them individually. For example, the overall F-test can find that the coefficients are significant jointly while the t-tests can fail to find significance individually.   \n",
    "\n",
    "How can this happen? The F-test sums the predictive power of all independent variables and determines that it is unlikely that all of the coefficients equal zero. However, it’s possible that each variable isn’t predictive enough on its own to be statistically significant. In other words, your sample provides sufficient evidence to conclude that your model is significant, but not enough to conclude that any individual variable is significant."
   ]
  },
  {
   "cell_type": "markdown",
   "id": "f8178fac-8d1c-472b-903f-57f286417d46",
   "metadata": {},
   "source": [
    "## Evaluate Part 3: Feature Significance\n",
    "\n",
    "How important is each feature (independent variable) in predicting the target variable?\n",
    "We use the p-value resulting from the t-test to evaluate that. \n",
    "\n",
    "In the case of univariate regression, we only have 1 variable, so significance from the f-test equates to significance from the independent variable's t-test. \n",
    "\n",
    "For multivariate cases, F-tests can evaluate multiple model terms simultaneously, which allows them to compare the fits of different linear models. In contrast, t-tests can evaluate just one term at a time.  Therefore, we use the results of t-tests to decide which variables are most important or have the strongest relationships with our target. \n",
    "\n",
    "### T-test\n",
    "\n",
    "**The t-test for feature significance**\n",
    "\n",
    "- **The null hypothesis** states that the model without this variable fits the data as well as your model. (Significance  > 0.05)   \n",
    "\n",
    "- **The alternative hypothesis** says that your model fits the data better with that independent variable than the model without that variable (Significance F <= 0.05)  \n",
    "\n",
    "Any independent variable with a p-value of <= 0.05 contributes to a better model than without it.  \n",
    "\n",
    "Let's look at all the metrics the model gives us..."
   ]
  },
  {
   "cell_type": "code",
   "execution_count": 28,
   "id": "ebc32c6e-47ce-4f70-9103-d758be6bc017",
   "metadata": {},
   "outputs": [
    {
     "data": {
      "text/html": [
       "<table class=\"simpletable\">\n",
       "<caption>OLS Regression Results</caption>\n",
       "<tr>\n",
       "  <th>Dep. Variable:</th>            <td>y</td>        <th>  R-squared:         </th> <td>   0.826</td>\n",
       "</tr>\n",
       "<tr>\n",
       "  <th>Model:</th>                   <td>OLS</td>       <th>  Adj. R-squared:    </th> <td>   0.791</td>\n",
       "</tr>\n",
       "<tr>\n",
       "  <th>Method:</th>             <td>Least Squares</td>  <th>  F-statistic:       </th> <td>   23.67</td>\n",
       "</tr>\n",
       "<tr>\n",
       "  <th>Date:</th>             <td>Wed, 01 Apr 2020</td> <th>  Prob (F-statistic):</th>  <td>0.00461</td>\n",
       "</tr>\n",
       "<tr>\n",
       "  <th>Time:</th>                 <td>14:58:26</td>     <th>  Log-Likelihood:    </th> <td> -19.128</td>\n",
       "</tr>\n",
       "<tr>\n",
       "  <th>No. Observations:</th>      <td>     7</td>      <th>  AIC:               </th> <td>   42.26</td>\n",
       "</tr>\n",
       "<tr>\n",
       "  <th>Df Residuals:</th>          <td>     5</td>      <th>  BIC:               </th> <td>   42.15</td>\n",
       "</tr>\n",
       "<tr>\n",
       "  <th>Df Model:</th>              <td>     1</td>      <th>                     </th>     <td> </td>   \n",
       "</tr>\n",
       "<tr>\n",
       "  <th>Covariance Type:</th>      <td>nonrobust</td>    <th>                     </th>     <td> </td>   \n",
       "</tr>\n",
       "</table>\n",
       "<table class=\"simpletable\">\n",
       "<tr>\n",
       "      <td></td>         <th>coef</th>     <th>std err</th>      <th>t</th>      <th>P>|t|</th>  <th>[0.025</th>    <th>0.975]</th>  \n",
       "</tr>\n",
       "<tr>\n",
       "  <th>Intercept</th> <td>   12.5111</td> <td>   14.641</td> <td>    0.855</td> <td> 0.432</td> <td>  -25.124</td> <td>   50.146</td>\n",
       "</tr>\n",
       "<tr>\n",
       "  <th>x</th>         <td>    0.8512</td> <td>    0.175</td> <td>    4.866</td> <td> 0.005</td> <td>    0.402</td> <td>    1.301</td>\n",
       "</tr>\n",
       "</table>\n",
       "<table class=\"simpletable\">\n",
       "<tr>\n",
       "  <th>Omnibus:</th>       <td>   nan</td> <th>  Durbin-Watson:     </th> <td>   0.983</td>\n",
       "</tr>\n",
       "<tr>\n",
       "  <th>Prob(Omnibus):</th> <td>   nan</td> <th>  Jarque-Bera (JB):  </th> <td>   0.776</td>\n",
       "</tr>\n",
       "<tr>\n",
       "  <th>Skew:</th>          <td> 0.124</td> <th>  Prob(JB):          </th> <td>   0.678</td>\n",
       "</tr>\n",
       "<tr>\n",
       "  <th>Kurtosis:</th>      <td> 1.388</td> <th>  Cond. No.          </th> <td>    737.</td>\n",
       "</tr>\n",
       "</table><br/><br/>Warnings:<br/>[1] Standard Errors assume that the covariance matrix of the errors is correctly specified."
      ],
      "text/plain": [
       "<class 'statsmodels.iolib.summary.Summary'>\n",
       "\"\"\"\n",
       "                            OLS Regression Results                            \n",
       "==============================================================================\n",
       "Dep. Variable:                      y   R-squared:                       0.826\n",
       "Model:                            OLS   Adj. R-squared:                  0.791\n",
       "Method:                 Least Squares   F-statistic:                     23.67\n",
       "Date:                Wed, 01 Apr 2020   Prob (F-statistic):            0.00461\n",
       "Time:                        14:58:26   Log-Likelihood:                -19.128\n",
       "No. Observations:                   7   AIC:                             42.26\n",
       "Df Residuals:                       5   BIC:                             42.15\n",
       "Df Model:                           1                                         \n",
       "Covariance Type:            nonrobust                                         \n",
       "==============================================================================\n",
       "                 coef    std err          t      P>|t|      [0.025      0.975]\n",
       "------------------------------------------------------------------------------\n",
       "Intercept     12.5111     14.641      0.855      0.432     -25.124      50.146\n",
       "x              0.8512      0.175      4.866      0.005       0.402       1.301\n",
       "==============================================================================\n",
       "Omnibus:                          nan   Durbin-Watson:                   0.983\n",
       "Prob(Omnibus):                    nan   Jarque-Bera (JB):                0.776\n",
       "Skew:                           0.124   Prob(JB):                        0.678\n",
       "Kurtosis:                       1.388   Cond. No.                         737.\n",
       "==============================================================================\n",
       "\n",
       "Warnings:\n",
       "[1] Standard Errors assume that the covariance matrix of the errors is correctly specified.\n",
       "\"\"\""
      ]
     },
     "execution_count": 28,
     "metadata": {},
     "output_type": "execute_result"
    }
   ],
   "source": [
    "# ols_model.summary()"
   ]
  },
  {
   "cell_type": "markdown",
   "id": "fb2ac9d1-f65d-43c2-8e4d-5118a45b985b",
   "metadata": {},
   "source": [
    "Looking at $P>|t|$ for $x$, we can see a p-value of 0.005. As we would expect in a univariate model, this is basically equivalent to the P(F-statistic), the p-value for the F statistic. "
   ]
  },
  {
   "cell_type": "markdown",
   "id": "0caf52db-3fbc-4371-9e7c-8f58176ef9ef",
   "metadata": {},
   "source": [
    "### Confidence Intervals\n",
    "\n",
    "**Parameters and confidence intervals**\n",
    "\n",
    "We also can see our coefficents (the intercept and the coefficient for x), which are our model parameters in regression. \n",
    "\n",
    "With each parameter, we have an associated confidence interval. How do we make sense of these confidence intervals? \n",
    "\n",
    "As a review of the coefficents in a univariate problem:  \n",
    "\n",
    "1. Coefficient 1 (y-intercept, $b_{0}$): It is where the regression line crosses the y-axis, or the value of y when x = 0. E.g. when trying to predict final grades, if all exams ($X$) have a value of 0, then we would predict $y$ to be 0. \n",
    "\n",
    "2. Coefficient 2 (slope, $m$, $b_{1}$): It is the amount we expect $y$ to increase by when $X$ increases by 1 (or decrease if $b_{1} < 0$).  E.g. If $X$ is exam 1, then for every 1 point increase in exam 1, we would expect $b_{1}$ increase in the final grade.  \n",
    "\n",
    "\n",
    "A 95% confidence interval is the default output and is seen here through the range of [0.025, 0.975]. That range covers 95% of the curve (.975 - .025 = .95).\n",
    "\n",
    "The confidence interval of [.402,1.301] is the interval we would expect the actual value of $b_{1}$ to fall in 95% of future observations.\n",
    "\n",
    "The confidence interval of [-25.124\t50.146] is the interval we would expect the actual value of $b_{0}$ to fall in 95% of future observations.\n",
    "\n",
    "- 95% CI => 95% of the time the indicated parameter will fall in that range.\n",
    "- A narrow interval means more confidence in the value presented.\n",
    "- A wide interval indicates less confidence in the value presented."
   ]
  }
 ],
 "metadata": {
  "kernelspec": {
   "display_name": "Python 3",
   "language": "python",
   "name": "python3"
  },
  "language_info": {
   "codemirror_mode": {
    "name": "ipython",
    "version": 3
   },
   "file_extension": ".py",
   "mimetype": "text/x-python",
   "name": "python",
   "nbconvert_exporter": "python",
   "pygments_lexer": "ipython3",
   "version": "3.8.3"
  }
 },
 "nbformat": 4,
 "nbformat_minor": 5
}
