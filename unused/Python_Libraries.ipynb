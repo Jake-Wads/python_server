{
 "cells": [
  {
   "cell_type": "markdown",
   "metadata": {},
   "source": [
    "# Python"
   ]
  },
  {
   "cell_type": "markdown",
   "metadata": {},
   "source": [
    "1. Jupyter: interactive notebooks - jupyter.org\n",
    "2. pandas: managing data - pandas.pydata.org, data manipulation and analysis, *define dataframe*\n",
    "3. numpy: multi-dimensional arrays - numpy.org\n",
    "4. scikit-learn:  python ml library\n",
    "5. SciPy:  data manipulation and analysis methods, statistical dist, linear algebra, optimization functions, sparse matrices\n",
    "6. matplotlib: plotting library - matplotlib.org, 2d plotting library: pylot, seaborn, graphviz\n",
    "7. statsmodels: statistics and time series library - statsmodels.org"
   ]
  }
 ],
 "metadata": {
  "jupytext": {
   "main_language": "python",
   "text_representation": {
    "extension": ".md",
    "format_name": "markdown"
   }
  },
  "language_info": {
   "codemirror_mode": {
    "name": "ipython",
    "version": 3
   },
   "file_extension": ".py",
   "mimetype": "text/x-python",
   "name": "python",
   "nbconvert_exporter": "python",
   "pygments_lexer": "ipython3",
   "version": "3.6.6"
  }
 },
 "nbformat": 4,
 "nbformat_minor": 2
}
