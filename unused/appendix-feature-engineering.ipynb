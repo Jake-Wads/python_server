{
 "cells": [
  {
   "cell_type": "markdown",
   "metadata": {},
   "source": [
    "# Feature Engineering\n",
    "\n",
    "\"Feature engineering is the process of transforming raw data into features that better represent the underlying problem to the predictive models, resulting in improved model accuracy on unseen data.\"\n",
    "Jason Brownlee, [Machine Learning Mastery](https://machinelearningmastery.com/discover-feature-engineering-how-to-engineer-features-and-how-to-get-good-at-it/)\n",
    "\n",
    "1. Construct new features: Use domain knowledge, creating products of features, etc. \n",
    "1. Use recursive feature elimination to recursively remove attributes to meet the number of required features and then builds a model on those attributes that remain to see if you can you match or improve performance with a smaller subset.   \n",
    "1. Use backward elimination to recursively remove the worst performing features one by one till the overall performance of the model comes in acceptable range.\n",
    "1. Forward selection begins with an empty equation. Predictors are added one at a time beginning with the predictor with the highest correlation with the dependent variable. Variables of greater theoretical importance are entered first. Once in the equation, the variable remains there.\n",
    "1. Compare several of these feature selection methods. Select the best approach with model selection.\n",
    "1. To improve performance and/or understanding, subsample your data and redo your analysis for several samples.\n",
    " "
   ]
  },
  {
   "cell_type": "code",
   "execution_count": 1,
   "metadata": {
    "execution": {
     "iopub.execute_input": "2022-02-03T20:13:15.261747Z",
     "iopub.status.busy": "2022-02-03T20:13:15.260561Z",
     "iopub.status.idle": "2022-02-03T20:13:17.709643Z",
     "shell.execute_reply": "2022-02-03T20:13:17.710328Z"
    }
   },
   "outputs": [],
   "source": [
    "import pandas as pd\n",
    "import numpy as np\n",
    "import matplotlib.pyplot as plt\n",
    "import seaborn as sns\n",
    "from sklearn.model_selection import train_test_split\n",
    "from sklearn.preprocessing import StandardScaler, MinMaxScaler\n",
    "import warnings\n",
    "warnings.filterwarnings(\"ignore\")\n",
    "\n",
    "import env\n",
    "import wrangle\n",
    "import split_scale\n",
    "\n",
    "# acquire data and remove null values \n",
    "df = wrangle.wrangle_grades()\n",
    "\n",
    "# split into train and test\n",
    "train, test = split_scale.split_my_data(df)"
   ]
  },
  {
   "cell_type": "markdown",
   "metadata": {},
   "source": [
    "For the feature engineering methods, we want to use the scaled data:"
   ]
  },
  {
   "cell_type": "code",
   "execution_count": 2,
   "metadata": {
    "execution": {
     "iopub.execute_input": "2022-02-03T20:13:17.729048Z",
     "iopub.status.busy": "2022-02-03T20:13:17.718610Z",
     "iopub.status.idle": "2022-02-03T20:13:17.731765Z",
     "shell.execute_reply": "2022-02-03T20:13:17.732519Z"
    }
   },
   "outputs": [],
   "source": [
    "# scale data using standard scaler\n",
    "scaler, train, test = split_scale.standard_scaler(train, test)\n",
    "\n",
    "# to return to original values\n",
    "# scaler, train, test = scaling.my_inv_transform(scaler, train, test)\n",
    "\n",
    "X_train = train.drop(columns='final_grade')\n",
    "y_train = train[['final_grade']]\n",
    "X_test = test.drop(columns='final_grade')\n",
    "y_test = test[['final_grade']]"
   ]
  },
  {
   "cell_type": "markdown",
   "metadata": {},
   "source": [
    "## Filter Methods\n",
    "\n",
    "- Goals:  You want to keep the attributes with highest correlation to the target variable and of those features, if two are highly correlated with each other, remove one of them. \n",
    "- Filter and take only the subset of the relevant features. \n",
    "- The model is built after selecting the features. \n",
    "\n",
    "### Correlation Thresholds\n",
    "\n",
    "- The filtering can be done using correlation matrix with Pearson correlation.\n",
    "- For example, if you had a real-estate dataset with 'Floor Area (Sq. Ft.)' and 'Floor Area (Sq. Meters)' as separate features, you can safely remove one of them.  Which one should you remove? Well, you'd first calculate all pair-wise correlations. Then, if the correlation between a pair of features is above a given threshold, you'd remove the one that has larger mean absolute correlation with other features.  "
   ]
  },
  {
   "cell_type": "code",
   "execution_count": 3,
   "metadata": {
    "execution": {
     "iopub.execute_input": "2022-02-03T20:13:17.750735Z",
     "iopub.status.busy": "2022-02-03T20:13:17.749754Z",
     "iopub.status.idle": "2022-02-03T20:13:18.086890Z",
     "shell.execute_reply": "2022-02-03T20:13:18.087770Z"
    }
   },
   "outputs": [
    {
     "data": {
      "image/png": "[encoded data removed]",
      "text/plain": [
       "<Figure size 432x360 with 2 Axes>"
      ]
     },
     "metadata": {
      "needs_background": "light"
     },
     "output_type": "display_data"
    }
   ],
   "source": [
    "#Using Pearson Correlation\n",
    "plt.figure(figsize=(6,5))\n",
    "cor = train.corr()\n",
    "sns.heatmap(cor, annot=True, cmap=plt.cm.Reds)\n",
    "plt.show()"
   ]
  },
  {
   "cell_type": "markdown",
   "metadata": {},
   "source": [
    "To view just the correlations of each attribute with the target variable, and filter down to only those above a certain value:"
   ]
  },
  {
   "cell_type": "code",
   "execution_count": 4,
   "metadata": {
    "execution": {
     "iopub.execute_input": "2022-02-03T20:13:18.097392Z",
     "iopub.status.busy": "2022-02-03T20:13:18.096457Z",
     "iopub.status.idle": "2022-02-03T20:13:18.101100Z",
     "shell.execute_reply": "2022-02-03T20:13:18.101959Z"
    }
   },
   "outputs": [
    {
     "data": {
      "text/plain": [
       "exam1          0.984101\n",
       "exam2          0.922598\n",
       "exam3          0.950309\n",
       "final_grade    1.000000\n",
       "Name: final_grade, dtype: float64"
      ]
     },
     "execution_count": 4,
     "metadata": {},
     "output_type": "execute_result"
    }
   ],
   "source": [
    "#Correlation with output variable\n",
    "cor_target = abs(cor[\"final_grade\"])\n",
    "#Selecting highly correlated features\n",
    "relevant_features = cor_target[cor_target>0.5]\n",
    "relevant_features"
   ]
  },
  {
   "cell_type": "markdown",
   "metadata": {},
   "source": [
    "Looking at the correlation of each of these variables, exam 1 is most correlated with final grade and all three exams are correlated with each other.  So using this method, we may decide to only use one exam or we may want to create new features, such as `exam2_delta = exam2 - exam1`"
   ]
  },
  {
   "cell_type": "markdown",
   "metadata": {},
   "source": [
    "### Select K Best\n",
    "\n",
    "- `SelectKBest` removes all but the highest scoring features\n",
    "- Scores are the test statistic for the chosen function or test (Chi-squared, F-regression, etc.)"
   ]
  },
  {
   "cell_type": "code",
   "execution_count": 5,
   "metadata": {
    "execution": {
     "iopub.execute_input": "2022-02-03T20:13:18.107231Z",
     "iopub.status.busy": "2022-02-03T20:13:18.105482Z",
     "iopub.status.idle": "2022-02-03T20:13:18.162907Z",
     "shell.execute_reply": "2022-02-03T20:13:18.163793Z"
    }
   },
   "outputs": [],
   "source": [
    "from sklearn.feature_selection import SelectKBest"
   ]
  },
  {
   "cell_type": "markdown",
   "metadata": {},
   "source": [
    "#### Using f-regression\n",
    "\n",
    "Linear model for testing the individual effect of each of many regressors. This is a scoring function to be used in a feature selection procedure, not a free standing feature selection procedure.\n",
    "\n",
    "This is done in 2 steps:\n",
    "\n",
    "1. The correlation between each regressor and the target is computed.  \n",
    "2. It is converted to an F score then to a p-value.  "
   ]
  },
  {
   "cell_type": "code",
   "execution_count": 6,
   "metadata": {
    "execution": {
     "iopub.execute_input": "2022-02-03T20:13:18.171049Z",
     "iopub.status.busy": "2022-02-03T20:13:18.170108Z",
     "iopub.status.idle": "2022-02-03T20:13:18.179600Z",
     "shell.execute_reply": "2022-02-03T20:13:18.180387Z"
    }
   },
   "outputs": [
    {
     "name": "stdout",
     "output_type": "stream",
     "text": [
      "2 selected features\n",
      "['exam1', 'exam3']\n"
     ]
    }
   ],
   "source": [
    "from sklearn.feature_selection import SelectKBest, f_regression\n",
    "\n",
    "f_selector = SelectKBest(f_regression, k=2)\n",
    "\n",
    "f_selector.fit(X_train, y_train)\n",
    "\n",
    "f_support = f_selector.get_support()\n",
    "f_feature = X_train.loc[:,f_support].columns.tolist()\n",
    "\n",
    "print(str(len(f_feature)), 'selected features')\n",
    "print(f_feature)"
   ]
  },
  {
   "cell_type": "markdown",
   "metadata": {},
   "source": [
    "## Wrapper Methods\n",
    "\n",
    "- A wrapper method needs one machine learning algorithm and uses its performance as evaluation criteria. \n",
    "- You feed the features to the selected Machine Learning algorithm and based on the model performance you add/remove the features. \n",
    "- This is an iterative and computationally expensive process but it is more accurate than the filter method.\n",
    "- Methods include: Backward Elimination, Forward Selection, Bidirectional Elimination and RFE. \n",
    "\n",
    "### Backward Elimination using OLS\n",
    "\n",
    "- We check the performance of the model and then iteratively remove the worst performing features one by one till the overall performance of the model comes in acceptable range.\n",
    "- The performance metric used here to evaluate feature performance is pvalue. If the pvalue is above 0.05 then we remove the feature, else we keep it.\n",
    "- We will first run one iteration here just to get an idea of the concept and then we will run the same code in a loop, which will give the final set of features. \n",
    "- Ordinary Least Squares (OLS) can be used to do this."
   ]
  },
  {
   "cell_type": "code",
   "execution_count": 7,
   "metadata": {
    "execution": {
     "iopub.execute_input": "2022-02-03T20:13:18.185680Z",
     "iopub.status.busy": "2022-02-03T20:13:18.184061Z",
     "iopub.status.idle": "2022-02-03T20:13:18.554157Z",
     "shell.execute_reply": "2022-02-03T20:13:18.555163Z"
    }
   },
   "outputs": [
    {
     "data": {
      "text/html": [
       "<table class=\"simpletable\">\n",
       "<caption>OLS Regression Results</caption>\n",
       "<tr>\n",
       "  <th>Dep. Variable:</th>       <td>final_grade</td>   <th>  R-squared (uncentered):</th>      <td>   0.974</td>\n",
       "</tr>\n",
       "<tr>\n",
       "  <th>Model:</th>                   <td>OLS</td>       <th>  Adj. R-squared (uncentered):</th> <td>   0.972</td>\n",
       "</tr>\n",
       "<tr>\n",
       "  <th>Method:</th>             <td>Least Squares</td>  <th>  F-statistic:       </th>          <td>   711.7</td>\n",
       "</tr>\n",
       "<tr>\n",
       "  <th>Date:</th>             <td>Thu, 03 Feb 2022</td> <th>  Prob (F-statistic):</th>          <td>5.97e-60</td>\n",
       "</tr>\n",
       "<tr>\n",
       "  <th>Time:</th>                 <td>14:13:18</td>     <th>  Log-Likelihood:    </th>          <td>  32.358</td>\n",
       "</tr>\n",
       "<tr>\n",
       "  <th>No. Observations:</th>      <td>    81</td>      <th>  AIC:               </th>          <td>  -56.72</td>\n",
       "</tr>\n",
       "<tr>\n",
       "  <th>Df Residuals:</th>          <td>    77</td>      <th>  BIC:               </th>          <td>  -47.14</td>\n",
       "</tr>\n",
       "<tr>\n",
       "  <th>Df Model:</th>              <td>     4</td>      <th>                     </th>              <td> </td>   \n",
       "</tr>\n",
       "<tr>\n",
       "  <th>Covariance Type:</th>      <td>nonrobust</td>    <th>                     </th>              <td> </td>   \n",
       "</tr>\n",
       "</table>\n",
       "<table class=\"simpletable\">\n",
       "<tr>\n",
       "       <td></td>         <th>coef</th>     <th>std err</th>      <th>t</th>      <th>P>|t|</th>  <th>[0.025</th>    <th>0.975]</th>  \n",
       "</tr>\n",
       "<tr>\n",
       "  <th>student_id</th> <td>    0.0041</td> <td>    0.019</td> <td>    0.217</td> <td> 0.829</td> <td>   -0.034</td> <td>    0.042</td>\n",
       "</tr>\n",
       "<tr>\n",
       "  <th>exam1</th>      <td>    0.8038</td> <td>    0.060</td> <td>   13.288</td> <td> 0.000</td> <td>    0.683</td> <td>    0.924</td>\n",
       "</tr>\n",
       "<tr>\n",
       "  <th>exam2</th>      <td>   -0.0366</td> <td>    0.057</td> <td>   -0.642</td> <td> 0.523</td> <td>   -0.150</td> <td>    0.077</td>\n",
       "</tr>\n",
       "<tr>\n",
       "  <th>exam3</th>      <td>    0.2285</td> <td>    0.063</td> <td>    3.624</td> <td> 0.001</td> <td>    0.103</td> <td>    0.354</td>\n",
       "</tr>\n",
       "</table>\n",
       "<table class=\"simpletable\">\n",
       "<tr>\n",
       "  <th>Omnibus:</th>       <td> 3.132</td> <th>  Durbin-Watson:     </th> <td>   1.848</td>\n",
       "</tr>\n",
       "<tr>\n",
       "  <th>Prob(Omnibus):</th> <td> 0.209</td> <th>  Jarque-Bera (JB):  </th> <td>   2.463</td>\n",
       "</tr>\n",
       "<tr>\n",
       "  <th>Skew:</th>          <td> 0.291</td> <th>  Prob(JB):          </th> <td>   0.292</td>\n",
       "</tr>\n",
       "<tr>\n",
       "  <th>Kurtosis:</th>      <td> 2.374</td> <th>  Cond. No.          </th> <td>    7.19</td>\n",
       "</tr>\n",
       "</table><br/><br/>Notes:<br/>[1] R² is computed without centering (uncentered) since the model does not contain a constant.<br/>[2] Standard Errors assume that the covariance matrix of the errors is correctly specified."
      ],
      "text/plain": [
       "<class 'statsmodels.iolib.summary.Summary'>\n",
       "\"\"\"\n",
       "                                 OLS Regression Results                                \n",
       "=======================================================================================\n",
       "Dep. Variable:            final_grade   R-squared (uncentered):                   0.974\n",
       "Model:                            OLS   Adj. R-squared (uncentered):              0.972\n",
       "Method:                 Least Squares   F-statistic:                              711.7\n",
       "Date:                Thu, 03 Feb 2022   Prob (F-statistic):                    5.97e-60\n",
       "Time:                        14:13:18   Log-Likelihood:                          32.358\n",
       "No. Observations:                  81   AIC:                                     -56.72\n",
       "Df Residuals:                      77   BIC:                                     -47.14\n",
       "Df Model:                           4                                                  \n",
       "Covariance Type:            nonrobust                                                  \n",
       "==============================================================================\n",
       "                 coef    std err          t      P>|t|      [0.025      0.975]\n",
       "------------------------------------------------------------------------------\n",
       "student_id     0.0041      0.019      0.217      0.829      -0.034       0.042\n",
       "exam1          0.8038      0.060     13.288      0.000       0.683       0.924\n",
       "exam2         -0.0366      0.057     -0.642      0.523      -0.150       0.077\n",
       "exam3          0.2285      0.063      3.624      0.001       0.103       0.354\n",
       "==============================================================================\n",
       "Omnibus:                        3.132   Durbin-Watson:                   1.848\n",
       "Prob(Omnibus):                  0.209   Jarque-Bera (JB):                2.463\n",
       "Skew:                           0.291   Prob(JB):                        0.292\n",
       "Kurtosis:                       2.374   Cond. No.                         7.19\n",
       "==============================================================================\n",
       "\n",
       "Notes:\n",
       "[1] R² is computed without centering (uncentered) since the model does not contain a constant.\n",
       "[2] Standard Errors assume that the covariance matrix of the errors is correctly specified.\n",
       "\"\"\""
      ]
     },
     "execution_count": 7,
     "metadata": {},
     "output_type": "execute_result"
    }
   ],
   "source": [
    "import statsmodels.api as sm\n",
    "\n",
    "# create the OLS object:\n",
    "ols_model = sm.OLS(y_train, X_train)\n",
    "\n",
    "# fit the model:\n",
    "fit = ols_model.fit()\n",
    "\n",
    "# summarize:\n",
    "fit.summary()"
   ]
  },
  {
   "cell_type": "markdown",
   "metadata": {},
   "source": [
    "Looking at the summary above, we see that the p-value for exam 2 is very high, while exams 1 and 3 are minimal.\n",
    "\n",
    "Below, we will use OLS for backwards elimation."
   ]
  },
  {
   "cell_type": "code",
   "execution_count": 8,
   "metadata": {
    "execution": {
     "iopub.execute_input": "2022-02-03T20:13:18.567395Z",
     "iopub.status.busy": "2022-02-03T20:13:18.566382Z",
     "iopub.status.idle": "2022-02-03T20:13:18.587697Z",
     "shell.execute_reply": "2022-02-03T20:13:18.588729Z"
    }
   },
   "outputs": [
    {
     "name": "stdout",
     "output_type": "stream",
     "text": [
      "['exam1', 'exam3']\n"
     ]
    }
   ],
   "source": [
    "cols = list(X_train.columns)\n",
    "pmax = 1\n",
    "while (len(cols)>0):\n",
    "    p= []\n",
    "    X_1 = X_train[cols]\n",
    "    X_1 = sm.add_constant(X_1)\n",
    "    model = sm.OLS(y_train,X_1).fit()\n",
    "    p = pd.Series(model.pvalues.values[1:],index = cols)\n",
    "    pmax = max(p)\n",
    "    feature_with_p_max = p.idxmax()\n",
    "    if(pmax>0.05):\n",
    "        cols.remove(feature_with_p_max)\n",
    "    else:\n",
    "        break\n",
    "\n",
    "selected_features_BE = cols\n",
    "print(selected_features_BE)"
   ]
  },
  {
   "cell_type": "markdown",
   "metadata": {},
   "source": [
    "Based on this above, we will want to keep only exam1 and exam3, as we saw in the summary table."
   ]
  },
  {
   "cell_type": "markdown",
   "metadata": {},
   "source": [
    "### Recursive Feature Elimination (RFE) \n",
    "\n",
    "- Recursively removes attributes and then builds a model on those attributes that remain. \n",
    "- It uses accuracy metric to rank the feature according to their importance. \n",
    "- The RFE method takes the model to be used and the number of required features as input. \n",
    "- It returns the ranking of all the variables, 1 being most important, along with its support, True being relevant feature and False being irrelevant feature."
   ]
  },
  {
   "cell_type": "code",
   "execution_count": 9,
   "metadata": {
    "execution": {
     "iopub.execute_input": "2022-02-03T20:13:18.593574Z",
     "iopub.status.busy": "2022-02-03T20:13:18.592550Z",
     "iopub.status.idle": "2022-02-03T20:13:18.621906Z",
     "shell.execute_reply": "2022-02-03T20:13:18.622671Z"
    }
   },
   "outputs": [
    {
     "name": "stdout",
     "output_type": "stream",
     "text": [
      "[False  True False  True]\n",
      "[3 1 2 1]\n"
     ]
    }
   ],
   "source": [
    "from sklearn.linear_model import LinearRegression\n",
    "from sklearn.feature_selection import RFE\n",
    "\n",
    "model = LinearRegression()\n",
    "\n",
    "#Initializing RFE model, with parameter to select top 2 features. \n",
    "rfe = RFE(model, n_features_to_select=2)\n",
    "\n",
    "#Transforming data using RFE\n",
    "X_rfe = rfe.fit_transform(X_train,y_train)  \n",
    "\n",
    "#Fitting the data to model\n",
    "model.fit(X_rfe,y_train)\n",
    "\n",
    "print(rfe.support_)\n",
    "print(rfe.ranking_)"
   ]
  },
  {
   "cell_type": "markdown",
   "metadata": {},
   "source": [
    "- Here we took LinearRegression model with 2 features and RFE gave feature ranking as above, but the selection of number ‘2’ was random. \n",
    "- Now we need to find the optimum number of features, for which the accuracy is the highest. \n",
    "- We do that by using loop starting with 1 feature and going up to 3. We then take the one for which the accuracy is highest."
   ]
  },
  {
   "cell_type": "code",
   "execution_count": 10,
   "metadata": {
    "execution": {
     "iopub.execute_input": "2022-02-03T20:13:18.642387Z",
     "iopub.status.busy": "2022-02-03T20:13:18.641465Z",
     "iopub.status.idle": "2022-02-03T20:13:18.673310Z",
     "shell.execute_reply": "2022-02-03T20:13:18.674362Z"
    }
   },
   "outputs": [
    {
     "name": "stdout",
     "output_type": "stream",
     "text": [
      "Optimum number of features: 2\n",
      "Score with 2 features: 0.965926\n"
     ]
    }
   ],
   "source": [
    "number_of_features_list=np.arange(1,3)\n",
    "high_score=0\n",
    "\n",
    "#Variable to store the optimum features\n",
    "number_of_features=0           \n",
    "score_list =[]\n",
    "\n",
    "for n in range(len(number_of_features_list)):\n",
    "    model = LinearRegression()\n",
    "    rfe = RFE(model, n_features_to_select=number_of_features_list[n])\n",
    "    X_train_rfe = rfe.fit_transform(X_train,y_train)\n",
    "    X_test_rfe = rfe.transform(X_test)\n",
    "    model.fit(X_train_rfe,y_train)\n",
    "    score = model.score(X_test_rfe,y_test)\n",
    "    score_list.append(score)\n",
    "    if(score>high_score):\n",
    "        high_score = score\n",
    "        number_of_features = number_of_features_list[n]\n",
    "\n",
    "print(\"Optimum number of features: %d\" %number_of_features)\n",
    "print(\"Score with %d features: %f\" % (number_of_features, high_score))"
   ]
  },
  {
   "cell_type": "markdown",
   "metadata": {},
   "source": [
    "- As seen from above code, the optimum number of features is 2. \n",
    "- We now feed 2 as number of features to RFE and get the final set of features given by RFE method, as follows:"
   ]
  },
  {
   "cell_type": "code",
   "execution_count": 11,
   "metadata": {
    "execution": {
     "iopub.execute_input": "2022-02-03T20:13:18.690560Z",
     "iopub.status.busy": "2022-02-03T20:13:18.689564Z",
     "iopub.status.idle": "2022-02-03T20:13:18.702355Z",
     "shell.execute_reply": "2022-02-03T20:13:18.703285Z"
    }
   },
   "outputs": [
    {
     "name": "stdout",
     "output_type": "stream",
     "text": [
      "Index(['exam1', 'exam3'], dtype='object')\n"
     ]
    }
   ],
   "source": [
    "cols = list(X_train.columns)\n",
    "model = LinearRegression()\n",
    "\n",
    "#Initializing RFE model\n",
    "rfe = RFE(model, n_features_to_select=2)\n",
    "\n",
    "#Transforming data using RFE\n",
    "X_rfe = rfe.fit_transform(X_train,y_train)  \n",
    "\n",
    "#Fitting the data to model\n",
    "model.fit(X_rfe,y_train)\n",
    "temp = pd.Series(rfe.support_,index = cols)\n",
    "selected_features_rfe = temp[temp==True].index\n",
    "\n",
    "print(selected_features_rfe)"
   ]
  },
  {
   "cell_type": "markdown",
   "metadata": {},
   "source": [
    "## Embedded Methods\n",
    "\n",
    "- Embedded methods are iterative in a sense that takes care of each iteration of the model training process and carefully extract those features which contribute the most to the training for a particular iteration.\n",
    "- Regularization methods are the most commonly used embedded methods which penalize a feature given a coefficient threshold.\n",
    "- E.g. Lasso regularization. If the feature is irrelevant, lasso penalizes it’s coefficient by making it 0. Hence the features with coefficient = 0 are removed and the rest are taken.\n",
    "- Other regularization algorithms: Elastic Net, Ridge Regression, and Regularized Regression.\n"
   ]
  },
  {
   "cell_type": "code",
   "execution_count": 12,
   "metadata": {
    "execution": {
     "iopub.execute_input": "2022-02-03T20:13:18.713532Z",
     "iopub.status.busy": "2022-02-03T20:13:18.712682Z",
     "iopub.status.idle": "2022-02-03T20:13:18.782240Z",
     "shell.execute_reply": "2022-02-03T20:13:18.783038Z"
    }
   },
   "outputs": [
    {
     "name": "stdout",
     "output_type": "stream",
     "text": [
      "Best alpha using built-in LassoCV: 0.013949\n",
      "Best score using built-in LassoCV: 0.973301\n",
      "Lasso picked 2 variables and eliminated the other 2 variables\n"
     ]
    }
   ],
   "source": [
    "from sklearn.linear_model import LassoCV\n",
    "\n",
    "reg = LassoCV()\n",
    "reg.fit(X_train, y_train)\n",
    "\n",
    "print(\"Best alpha using built-in LassoCV: %f\" % reg.alpha_)\n",
    "print(\"Best score using built-in LassoCV: %f\" %reg.score(X_train,y_train))\n",
    "coef = pd.Series(reg.coef_, index = X_train.columns)\n",
    "\n",
    "\n",
    "print(\"Lasso picked \" + str(sum(coef != 0)) + \" variables and eliminated the other \" +  str(sum(coef == 0)) + \" variables\")\n"
   ]
  },
  {
   "cell_type": "markdown",
   "metadata": {},
   "source": [
    "The higher the value of $\\alpha$ the fewer the features have non-zero values, the more features that have zero-values. "
   ]
  },
  {
   "cell_type": "code",
   "execution_count": 13,
   "metadata": {
    "execution": {
     "iopub.execute_input": "2022-02-03T20:13:18.788627Z",
     "iopub.status.busy": "2022-02-03T20:13:18.786211Z",
     "iopub.status.idle": "2022-02-03T20:13:18.949530Z",
     "shell.execute_reply": "2022-02-03T20:13:18.950301Z"
    }
   },
   "outputs": [
    {
     "data": {
      "text/plain": [
       "Text(0.5, 1.0, 'Feature importance using Lasso Model')"
      ]
     },
     "execution_count": 13,
     "metadata": {},
     "output_type": "execute_result"
    },
    {
     "data": {
      "image/png": "[encoded data removed]",
      "text/plain": [
       "<Figure size 288x360 with 1 Axes>"
      ]
     },
     "metadata": {
      "needs_background": "light"
     },
     "output_type": "display_data"
    }
   ],
   "source": [
    "imp_coef = coef.sort_values()\n",
    "\n",
    "import matplotlib\n",
    "\n",
    "matplotlib.rcParams['figure.figsize'] = (4.0, 5.0)\n",
    "imp_coef.plot(kind = \"barh\")\n",
    "plt.title(\"Feature importance using Lasso Model\")"
   ]
  },
  {
   "cell_type": "markdown",
   "metadata": {},
   "source": [
    "## Linear Dimensionality Reduction\n",
    "\n",
    "### Principal component analysis (PCA) \n",
    "\n",
    "- Unsupervised algorithm\n",
    "- Creates linear combinations of the original features\n",
    "- The new features are orthogonal, therefore, uncorrelated. \n",
    "- They are ranked in order of their \"explained variance.\" \n",
    "- PC1 explains the most variance in your dataset, PC2 explains the second-most variance, etc.\n",
    "- You might decide to keep only as many principal components as needed to reach a cumulative explained variance of 90%.\n",
    "- Always normalize your dataset before performing PCA because the transformation is dependent on scale.\n",
    "- Versatile, fast, simple to implement\n",
    "- There exist several variations and extensions (i.e. kernel PCA, sparse PCA, etc.) to tackle specific roadblocks.\n",
    "- The new principal components or features are not interpretable\n",
    "- `sklearn.decomposition.PCA(n_components=None, copy=True, whiten=False, svd_solver=’auto’, tol=0.0, iterated_power=’auto’, random_state=None)`"
   ]
  },
  {
   "cell_type": "code",
   "execution_count": 14,
   "metadata": {
    "execution": {
     "iopub.execute_input": "2022-02-03T20:13:18.960940Z",
     "iopub.status.busy": "2022-02-03T20:13:18.959756Z",
     "iopub.status.idle": "2022-02-03T20:13:18.969298Z",
     "shell.execute_reply": "2022-02-03T20:13:18.970139Z"
    }
   },
   "outputs": [
    {
     "name": "stdout",
     "output_type": "stream",
     "text": [
      "1\n",
      "81\n",
      "[0.72956108]\n",
      "[[-1.4843675 ]\n",
      " [-1.14217214]\n",
      " [-0.04796074]\n",
      " [-0.9912816 ]\n",
      " [-2.32558288]]\n"
     ]
    }
   ],
   "source": [
    "from sklearn.decomposition import PCA\n",
    "\n",
    "pca = PCA(n_components=1, copy=True, whiten=False, svd_solver='auto', random_state=123)\n",
    "pca.fit(X_train)\n",
    "X = pca.transform(X_train)\n",
    "print(pca.n_components_)\n",
    "print(len(X))\n",
    "print(pca.explained_variance_ratio_)\n",
    "print(X[0:5])"
   ]
  },
  {
   "cell_type": "markdown",
   "metadata": {},
   "source": [
    "## Summary\n",
    "\n",
    "- the optimum number of features is 2\n",
    "- exam1 and exam3 were the top performing features\n",
    "- In your exercises, you will use RFE, recursive feature elimination, to write UDF's to identify ideal number of features, find what those are, and create new train and test dataframes with those two features. "
   ]
  },
  {
   "cell_type": "markdown",
   "metadata": {},
   "source": [
    "## Exercises\n",
    "\n",
    "Our scenario continues:  \n",
    "As a customer analyst, I want to know who has spent the most money with us over their lifetime. I have monthly charges and tenure, so I think I will be able to use those two attributes as features to estimate total_charges. I need to do this within an average of $5.00 per customer. \n",
    "\n",
    "1. Write a function, `select_kbest_freg()` that takes X_train, y_train and k as input (X_train and y_train should not be scaled!) and returns a list of the top k features. \n",
    "2. Write a function, `select_kbest_freg()` that takes X_train, y_train (scaled) and k as input and returns a list of the top k features. \n",
    "3. Write a function, `ols_backware_elimination()` that takes X_train and y_train (scaled) as input and returns selected features based on the ols backwards elimination method. \n",
    "4. Write a function, `lasso_cv_coef()` that takes X_train and y_train as input and returns the coefficients for each feature, along with a plot of the features and their weights. \n",
    "5. Write 3 functions, the first computes the number of optimum features (n) using rfe, the second takes n as input and returns the top n features, and the third takes the list of the top n features as input and returns a new X_train and X_test dataframe with those top features , `recursive_feature_elimination()` that computes the optimum number of features (n) and returns the top n features. "
   ]
  }
 ],
 "metadata": {
  "kernelspec": {
   "display_name": "Python 3 (ipykernel)",
   "language": "python",
   "name": "python3"
  },
  "language_info": {
   "codemirror_mode": {
    "name": "ipython",
    "version": 3
   },
   "file_extension": ".py",
   "mimetype": "text/x-python",
   "name": "python",
   "nbconvert_exporter": "python",
   "pygments_lexer": "ipython3",
   "version": "3.8.12"
  }
 },
 "nbformat": 4,
 "nbformat_minor": 2
}
