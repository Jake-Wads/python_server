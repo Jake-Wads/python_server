{
 "cells": [
  {
   "cell_type": "markdown",
   "metadata": {},
   "source": [
    "# Statistical Testing\n",
    "## Estimates\n",
    "\n",
    "1. **Estimates**\n",
    "    1. Point vs. Interval Estimates\n",
    "    2. Standard Error\n",
    "    3. Confidence Intervals\n",
    "    4. Critical Value\n",
    "2. Sampling\n",
    "3. Power\n",
    "3. Statistical Tests"
   ]
  },
  {
   "cell_type": "markdown",
   "metadata": {},
   "source": [
    "## A. Point Estimate vs. Interval Estimate\n",
    "Sample statistics are used to estimate population parameters. For example, sample means are used to estimate population means; sample proportions, to estimate population proportions.\n",
    "\n",
    "#### Point estimate\n",
    "A point estimate of a population parameter is a single value of a statistic. For example, the sample mean x is a point estimate of the population mean μ. Similarly, the sample proportion p is a point estimate of the population proportion P.\n",
    "\n",
    "#### Interval estimate\n",
    "An interval estimate is defined by two numbers, between which a population parameter is said to lie. For example, a < x < b is an interval estimate of the population mean μ. It indicates that the population mean is greater than a but less than b."
   ]
  },
  {
   "cell_type": "markdown",
   "metadata": {},
   "source": [
    "## B. Standard error \n",
    "- An estimate of the standard deviation of a statistic. \n",
    "- It is important because it is used to compute other measures, like confidence intervals and margins of error."
   ]
  },
  {
   "cell_type": "markdown",
   "metadata": {},
   "source": [
    "## C. Confidence Intervals\n",
    "\n",
    "Confidence intervals are used to express the precision and uncertainty associated with a particular sampling method. A confidence interval consists of three parts.\n",
    "\n",
    "#### 1. confidence level\n",
    "- the probability part of a confidence interval\n",
    "- describes the uncertainty of a sampling method\n",
    "- describes the likelihood that a particular sampling method will produce a confidence interval that includes the true population parameter.  \n",
    "- Suppose we collected all possible samples from a given population, and computed confidence intervals for each sample. Some confidence intervals would include the true population parameter; others would not. A 95% confidence level means that 95% of the intervals contain the true population parameter; a 90% confidence level means that 90% of the intervals contain the population parameter; and so on.\n",
    "\n",
    "#### 2. statistic\n",
    "- the sample statistic being estimated\n",
    "- the statistic + the margin of error define an interval estimate that describes the precision of the method.  \n",
    "- interval estimate = sample statistic + margin of error\n",
    "\n",
    "#### 3. margin of error\n",
    "- the range of values in a confidence interval above and below the sample statistic\n",
    "- For example, suppose the local newspaper conducts an election survey and reports that the independent candidate will receive 30% of the vote. The newspaper states that the survey had a 5% margin of error and a confidence level of 95%. These findings result in the following confidence interval: We are 95% confident that the independent candidate will receive between 25% and 35% of the vote.\n",
    "- Note: Many public opinion surveys report interval estimates, but not confidence intervals. They provide the margin of error, but not the confidence level. To clearly interpret survey results you need to know both! We are much more likely to accept survey findings if the confidence level is high (say, 95%) than if it is low (say, 50%)."
   ]
  },
  {
   "cell_type": "markdown",
   "metadata": {},
   "source": [
    "## D. Critical Value\n",
    "- The critical value is a factor used to compute the margin of error. \n",
    "- When the sampling distribution is nearly normal, the critical value can be expressed as a t score or as a z-score. To find the critical value, follow these steps.\n",
    "- To express the critical value as a z-score, find the z-score having a cumulative probability equal to the critical probability (p*). p* = 1 - α/2\n",
    "- To express the critical value as a t statistic: Find the degrees of freedom (DF = sample size - 1). The critical t statistic (t*) is the t statistic having degrees of freedom equal to DF and a cumulative probability equal to the critical probability (p*).\n",
    "\n",
    "#### T-Score vs. Z-Score\n",
    "Should you express the critical value as a t statistic or as a z-score?   \n",
    "One way to answer this question focuses on the population standard deviation.  \n",
    "- If the population standard deviation is known, use the z-score.  \n",
    "- If the population standard deviation is unknown, use the t statistic.  \n",
    "\n",
    "Another approach focuses on sample size.  \n",
    "- If the sample size is large, use the z-score. (The central limit theorem provides a useful basis for determining whether a sample is \"large\".)\n",
    "- If the sample size is small, use the t statistic.\n",
    "\n",
    "*If the sample size is small and the population distribution is not normal, we cannot be confident that the sampling distribution of the statistic will be normal. In this situation, neither the t statistic nor the z-score should be used to compute critical values.*"
   ]
  },
  {
   "cell_type": "code",
   "execution_count": null,
   "metadata": {},
   "outputs": [],
   "source": []
  }
 ],
 "metadata": {
  "kernelspec": {
   "display_name": "Python 3",
   "language": "python",
   "name": "python3"
  },
  "language_info": {
   "codemirror_mode": {
    "name": "ipython",
    "version": 3
   },
   "file_extension": ".py",
   "mimetype": "text/x-python",
   "name": "python",
   "nbconvert_exporter": "python",
   "pygments_lexer": "ipython3",
   "version": "3.6.6"
  }
 },
 "nbformat": 4,
 "nbformat_minor": 2
}
