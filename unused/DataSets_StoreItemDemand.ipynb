{
 "cells": [
  {
   "cell_type": "markdown",
   "metadata": {},
   "source": [
    "# Store Item Demand Forecasting Challenge\n",
    "## Predict 3 months of item sales at different stores\n",
    "\n",
    "### Source\n",
    "https://www.kaggle.com/c/demand-forecasting-kernels-only\n",
    "\n",
    "\n",
    "### Description\n",
    "\n",
    "This competition is provided as a way to explore different time series techniques on a relatively simple and clean dataset.\n",
    "\n",
    "You are given 5 years of store-item sales data, and asked to predict 3 months of sales for 50 different items at 10 different stores.\n",
    "\n",
    "What's the best way to deal with seasonality? Should stores be modeled separately, or can you pool them together? Does deep learning work better than ARIMA? Can either beat xgboost?\n",
    "\n",
    "This is a great competition to explore different models and improve your skills in forecasting.\n",
    "\n",
    "### Evaluation\n",
    "Submissions are evaluated on SMAPE between forecasts and actual values. We define SMAPE = 0 when the actual and predicted values are both 0.\n",
    "\n",
    "Kernel Submissions\n",
    "You can only make submissions directly from Kaggle Kernels. By adding your teammates as collaborators on a kernel, you can share and edit code privately with them.\n",
    "\n",
    "Submission File\n",
    "For each id in the test set, you must predict a probability for the sales variable. The file should contain a header and have the following format:\n",
    "\n",
    "id,sales\n",
    "0,35\n",
    "1,22\n",
    "2,5\n",
    "etc.\n",
    "\n",
    "### Data\n",
    "\n",
    "The objective of this competition is to predict 3 months of item-level sales data at different store locations.\n",
    "\n",
    "File descriptions\n",
    "\n",
    "- train.csv - Training data\n",
    "- test.csv - Test data (Note: the Public/Private split is time based)\n",
    "- sample_submission.csv - a sample submission file in the correct format\n",
    "\n",
    "Data fields\n",
    "\n",
    "- date - Date of the sale data. There are no holiday effects or store closures.\n",
    "- store - Store ID\n",
    "- item - Item ID\n",
    "- sales - Number of items sold at a particular store on a particular date.\n",
    "\n"
   ]
  }
 ],
 "metadata": {
  "kernelspec": {
   "display_name": "Python 3",
   "language": "python",
   "name": "python3"
  },
  "language_info": {
   "codemirror_mode": {
    "name": "ipython",
    "version": 3
   },
   "file_extension": ".py",
   "mimetype": "text/x-python",
   "name": "python",
   "nbconvert_exporter": "python",
   "pygments_lexer": "ipython3",
   "version": "3.6.6"
  },
  "toc": {
   "base_numbering": 1,
   "nav_menu": {},
   "number_sections": false,
   "sideBar": false,
   "skip_h1_title": false,
   "title_cell": "Table of Contents",
   "title_sidebar": "Contents",
   "toc_cell": false,
   "toc_position": {},
   "toc_section_display": false,
   "toc_window_display": false
  }
 },
 "nbformat": 4,
 "nbformat_minor": 2
}
