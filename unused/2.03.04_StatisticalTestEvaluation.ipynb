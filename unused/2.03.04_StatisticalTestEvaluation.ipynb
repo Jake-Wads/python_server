{
 "cells": [
  {
   "cell_type": "markdown",
   "metadata": {},
   "source": [
    "# Statistical Testing\n",
    "\n",
    "## Evaluation of Statistical Tests\n",
    "\n",
    "\n",
    "1. Estimates  \n",
    "2. Sampling\n",
    "3. Power\n",
    "4. **Statistical Tests**\n",
    "    1. Normality Tests\n",
    "    2. Correlation Tests\n",
    "    3. Parametric Statistical Hypothesis Tests\n",
    "    4. Nonparametric Statistical Hypothesis Tests"
   ]
  },
  {
   "cell_type": "markdown",
   "metadata": {},
   "source": [
    "## Statistical Tests\n",
    "\n",
    "https://machinelearningmastery.com/statistical-hypothesis-tests-in-python-cheat-sheet/\n",
    "\n",
    "1. Normality Tests\n",
    "2. Correlation Tests\n",
    "3. Parametric Statistical Hypothesis Tests\n",
    "4. Nonparametric Statistical Hypothesis Tests\n",
    "\n",
    "About assumptions:   \n",
    "- The results of a given test are likely to degrade gracefully rather than become immediately unusable if an assumption is violated.  \n",
    "- Generally, data samples need to be representative of the domain and large enough to expose their distribution to analysis.\n",
    "- The data can sometimes be corrected to meet the assumptions, such as correcting a nearly normal distribution to be normal by removing outliers  \n",
    "\n",
    "About the tests:  \n",
    "- There may be multiple tests for a given concern, e.g. normality, and this is by design.  With statistical tests we get probabilistic answers, thus we can arrive at different answers to the same question by considering the question in different ways."
   ]
  },
  {
   "cell_type": "markdown",
   "metadata": {},
   "source": [
    "## P-Value\n",
    "https://machinelearningmastery.com/statistical-power-and-power-analysis-in-python/\n",
    "\n",
    "The results of each of these tests will include the p-value  \n",
    "\n",
    "Definition: the probability of finding the observed, or more extreme, results when the null hypothesis (H 0) of a study question is true.  The definition of 'extreme' depends on how the hypothesis is being tested.  \n",
    "\n",
    "To interpret the p-value of a significance test, you must specify a significance level, $\\alpha$\n",
    "Common value:  $\\alpha$ = 0.05, or 5%\n",
    "- p <= alpha: reject H0\n",
    "- p > alpha: fail to reject H0\n",
    "\n",
    "### Examples\n",
    "\n",
    "#### Example 1: Normality Tests\n",
    "The probability of finding a non-normal distribution in your sample when the distribution is expected to be normal.\n",
    "\n",
    "#### Example 2: Correlation tests\n",
    "The probability of finding a correlation between two variables when we would expect or assume the two variables to be independent of each other. \n",
    "\n",
    "#### Example 3: Parametric Tests \n",
    "The probability of finding the means of samples unequal when we assume their means to be equal.  \n",
    "What is the probability of finding the average age of a sample of high school students unequal when the average age is actually equal?  This would likely result in a low p-value indicating that this sample of high school students is significantly different from what we would expect.  \n",
    "\n",
    "#### Example 4: Nonparametric Tests\n",
    "The probability of finding distributions of 2 samples different when we would expect the same distribution.   \n",
    "If we assume that standardized test scores from school to school hold the same normal distribution, but then we find a school with a different distribution, we can test to see if this difference is by chance or if indicates significance, meaning there is something truly different about this set of students. "
   ]
  },
  {
   "cell_type": "markdown",
   "metadata": {},
   "source": [
    "## Errors\n",
    "\n",
    "You can think of the p-value as the calculated *probability*, meaning that in actuality the result may be different, leading a Type I Error or a Type II Error\n",
    "\n",
    "### Type I Error\n",
    "Reject the null hypothesis when there is in fact no significant effect (false positive). The p-value is optimistically small. We set our alpha to be the probability of making a Type I Error, or a false positive.  So, if the cost of a false positive is extremely high, then we will want to set a lower $\\alpha$ to accomodate.  \n",
    "\n",
    "### Type II Error\n",
    "Not reject the null hypothesis when there is a significant effect (false negative). The p-value is pessimistically large."
   ]
  },
  {
   "cell_type": "code",
   "execution_count": null,
   "metadata": {},
   "outputs": [],
   "source": []
  }
 ],
 "metadata": {
  "kernelspec": {
   "display_name": "Python 3",
   "language": "python",
   "name": "python3"
  },
  "language_info": {
   "codemirror_mode": {
    "name": "ipython",
    "version": 3
   },
   "file_extension": ".py",
   "mimetype": "text/x-python",
   "name": "python",
   "nbconvert_exporter": "python",
   "pygments_lexer": "ipython3",
   "version": "3.6.6"
  }
 },
 "nbformat": 4,
 "nbformat_minor": 2
}
