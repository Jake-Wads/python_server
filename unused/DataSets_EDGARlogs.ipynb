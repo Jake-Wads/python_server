{
 "cells": [
  {
   "cell_type": "markdown",
   "metadata": {},
   "source": [
    "# EDGAR Log File Data Set\n",
    "\n",
    "The Division of Economic and Risk Analysis (DERA) has assembled information on internet search traffic for EDGAR filings through SEC.gov generally covering the period February 14, 2003 through June 30, 2017.  The data is intended to provide insight into the usage of publicly accessible EDGAR company filings in a simple but extensive manner. \n",
    "\n",
    "DISCLAIMER: The EDGAR Log File Data Set contains information in CSV format extracted from Apache log files that record and store user access statistics for the SEC.gov website.  Due to certain limitations, including the existence of lost or damaged files, the information assembled by DERA may not capture all SEC.gov website traffic.  In addition, it is possible inaccuracies or other errors were introduced into the data during the process of extracting the data and compiling the data.  Given the large size of the data files which can include more than a million entries, for best results users should avoid using software that limits the amount of data that can be read.\n",
    "\n",
    "DERA intends to update this data set on a quarterly basis. Data is posted with a six-month delay.\n",
    "\n",
    "Notes:\n",
    "\n",
    "A revision was posted on December 23, 2015 to include updates to the data from May 1, 2012 through September 30, 2012 (123 files total) which addressed issues with inconsistent IP address formats.\n",
    "On May 16, 2017 the file log20121231.zip was replaced. The replaced file was incomplete.\n",
    "Logfile List (HTML, 57 KB)\n",
    "\n",
    "List of Variables (PDF, 78 kb)\n",
    "\n",
    "EDGAR Log File Data Set FAQs\n",
    "\n",
    "https://www.sec.gov/dera/data/edgar-log-file-data-set.html"
   ]
  },
  {
   "cell_type": "code",
   "execution_count": null,
   "metadata": {},
   "outputs": [],
   "source": []
  }
 ],
 "metadata": {
  "kernelspec": {
   "display_name": "Python 3",
   "language": "python",
   "name": "python3"
  },
  "language_info": {
   "codemirror_mode": {
    "name": "ipython",
    "version": 3
   },
   "file_extension": ".py",
   "mimetype": "text/x-python",
   "name": "python",
   "nbconvert_exporter": "python",
   "pygments_lexer": "ipython3",
   "version": "3.6.5"
  }
 },
 "nbformat": 4,
 "nbformat_minor": 2
}
