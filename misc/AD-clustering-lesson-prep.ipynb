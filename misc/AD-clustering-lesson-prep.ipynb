{
 "cells": [
  {
   "cell_type": "markdown",
   "metadata": {},
   "source": [
    "## Steps\n",
    "\n",
    "1. Select variables you want to cluster: `df = df[[\"col1\", \"col2\"]]`\n",
    "2. Convert to array & dtype float: `np_array = df.values.astype(\"float32\", copy = False)`\n",
    "3. Scale to standard normal:  \n",
    "> `stscaler = StandardScaler().fit(np_array)\n",
    ">  np_array = stscaler.transform(np_array)`\n",
    "4. Create DBSCAN object and fit: `dbsc = DBSCAN(eps = .75, min_samples = 15).fit(np_array)`\n",
    "5. Extract labels: `labels = dbsc.labels_`\n",
    "6. Add labels back to original dataframe: \n",
    "> `df['labels'] = labels`\n",
    "7. Explore:\n",
    "> `df.labels.value_counts()\n",
    ">  sns.scatterplot(df.col1, df.col2, hue=df.labels)`"
   ]
  },
  {
   "cell_type": "markdown",
   "metadata": {},
   "source": [
    "Environment Setup"
   ]
  },
  {
   "cell_type": "code",
   "execution_count": 1,
   "metadata": {},
   "outputs": [],
   "source": [
    "from os import getcwd\n",
    "import pandas as pd\n",
    "import numpy as np\n",
    "import matplotlib.pyplot as plt\n",
    "import seaborn as sns\n",
    "%matplotlib inline\n",
    "from sklearn.preprocessing import MinMaxScaler\n",
    "from sklearn.cluster import DBSCAN\n",
    "\n",
    "from mpl_toolkits.mplot3d import Axes3D\n",
    "\n",
    "pd.options.display.float_format = '{:20,.2f}'.format"
   ]
  },
  {
   "cell_type": "markdown",
   "metadata": {},
   "source": [
    "Acquire Data"
   ]
  },
  {
   "cell_type": "code",
   "execution_count": 2,
   "metadata": {},
   "outputs": [
    {
     "data": {
      "text/plain": [
       "'/Users/maggiegiust/CODEUP/curriculum/misc'"
      ]
     },
     "execution_count": 2,
     "metadata": {},
     "output_type": "execute_result"
    }
   ],
   "source": [
    "# get current working directory to be sure I can access the data folder. \n",
    "getcwd()"
   ]
  },
  {
   "cell_type": "code",
   "execution_count": 3,
   "metadata": {},
   "outputs": [],
   "source": [
    "# read customers.csv\n",
    "df = pd.read_csv('../content/10-anomaly-detection/data/customers.csv')"
   ]
  },
  {
   "cell_type": "code",
   "execution_count": 4,
   "metadata": {},
   "outputs": [
    {
     "data": {
      "text/html": [
       "<div>\n",
       "<style scoped>\n",
       "    .dataframe tbody tr th:only-of-type {\n",
       "        vertical-align: middle;\n",
       "    }\n",
       "\n",
       "    .dataframe tbody tr th {\n",
       "        vertical-align: top;\n",
       "    }\n",
       "\n",
       "    .dataframe thead th {\n",
       "        text-align: right;\n",
       "    }\n",
       "</style>\n",
       "<table border=\"1\" class=\"dataframe\">\n",
       "  <thead>\n",
       "    <tr style=\"text-align: right;\">\n",
       "      <th></th>\n",
       "      <th>Channel</th>\n",
       "      <th>Region</th>\n",
       "      <th>Fresh</th>\n",
       "      <th>Milk</th>\n",
       "      <th>Grocery</th>\n",
       "      <th>Frozen</th>\n",
       "      <th>Detergents_Paper</th>\n",
       "      <th>Delicassen</th>\n",
       "    </tr>\n",
       "  </thead>\n",
       "  <tbody>\n",
       "    <tr>\n",
       "      <th>0</th>\n",
       "      <td>2</td>\n",
       "      <td>3</td>\n",
       "      <td>12669</td>\n",
       "      <td>9656</td>\n",
       "      <td>7561</td>\n",
       "      <td>214</td>\n",
       "      <td>2674</td>\n",
       "      <td>1338</td>\n",
       "    </tr>\n",
       "    <tr>\n",
       "      <th>1</th>\n",
       "      <td>2</td>\n",
       "      <td>3</td>\n",
       "      <td>7057</td>\n",
       "      <td>9810</td>\n",
       "      <td>9568</td>\n",
       "      <td>1762</td>\n",
       "      <td>3293</td>\n",
       "      <td>1776</td>\n",
       "    </tr>\n",
       "    <tr>\n",
       "      <th>2</th>\n",
       "      <td>2</td>\n",
       "      <td>3</td>\n",
       "      <td>6353</td>\n",
       "      <td>8808</td>\n",
       "      <td>7684</td>\n",
       "      <td>2405</td>\n",
       "      <td>3516</td>\n",
       "      <td>7844</td>\n",
       "    </tr>\n",
       "    <tr>\n",
       "      <th>3</th>\n",
       "      <td>1</td>\n",
       "      <td>3</td>\n",
       "      <td>13265</td>\n",
       "      <td>1196</td>\n",
       "      <td>4221</td>\n",
       "      <td>6404</td>\n",
       "      <td>507</td>\n",
       "      <td>1788</td>\n",
       "    </tr>\n",
       "    <tr>\n",
       "      <th>4</th>\n",
       "      <td>2</td>\n",
       "      <td>3</td>\n",
       "      <td>22615</td>\n",
       "      <td>5410</td>\n",
       "      <td>7198</td>\n",
       "      <td>3915</td>\n",
       "      <td>1777</td>\n",
       "      <td>5185</td>\n",
       "    </tr>\n",
       "  </tbody>\n",
       "</table>\n",
       "</div>"
      ],
      "text/plain": [
       "   Channel  Region  Fresh  Milk  Grocery  Frozen  Detergents_Paper  Delicassen\n",
       "0        2       3  12669  9656     7561     214              2674        1338\n",
       "1        2       3   7057  9810     9568    1762              3293        1776\n",
       "2        2       3   6353  8808     7684    2405              3516        7844\n",
       "3        1       3  13265  1196     4221    6404               507        1788\n",
       "4        2       3  22615  5410     7198    3915              1777        5185"
      ]
     },
     "execution_count": 4,
     "metadata": {},
     "output_type": "execute_result"
    }
   ],
   "source": [
    "df.head()"
   ]
  },
  {
   "cell_type": "code",
   "execution_count": 5,
   "metadata": {},
   "outputs": [
    {
     "name": "stdout",
     "output_type": "stream",
     "text": [
      "<class 'pandas.core.frame.DataFrame'>\n",
      "RangeIndex: 440 entries, 0 to 439\n",
      "Data columns (total 8 columns):\n",
      "Channel             440 non-null int64\n",
      "Region              440 non-null int64\n",
      "Fresh               440 non-null int64\n",
      "Milk                440 non-null int64\n",
      "Grocery             440 non-null int64\n",
      "Frozen              440 non-null int64\n",
      "Detergents_Paper    440 non-null int64\n",
      "Delicassen          440 non-null int64\n",
      "dtypes: int64(8)\n",
      "memory usage: 27.6 KB\n"
     ]
    },
    {
     "data": {
      "text/html": [
       "<div>\n",
       "<style scoped>\n",
       "    .dataframe tbody tr th:only-of-type {\n",
       "        vertical-align: middle;\n",
       "    }\n",
       "\n",
       "    .dataframe tbody tr th {\n",
       "        vertical-align: top;\n",
       "    }\n",
       "\n",
       "    .dataframe thead th {\n",
       "        text-align: right;\n",
       "    }\n",
       "</style>\n",
       "<table border=\"1\" class=\"dataframe\">\n",
       "  <thead>\n",
       "    <tr style=\"text-align: right;\">\n",
       "      <th></th>\n",
       "      <th>Channel</th>\n",
       "      <th>Region</th>\n",
       "      <th>Fresh</th>\n",
       "      <th>Milk</th>\n",
       "      <th>Grocery</th>\n",
       "      <th>Frozen</th>\n",
       "      <th>Detergents_Paper</th>\n",
       "      <th>Delicassen</th>\n",
       "    </tr>\n",
       "  </thead>\n",
       "  <tbody>\n",
       "    <tr>\n",
       "      <th>count</th>\n",
       "      <td>440.00</td>\n",
       "      <td>440.00</td>\n",
       "      <td>440.00</td>\n",
       "      <td>440.00</td>\n",
       "      <td>440.00</td>\n",
       "      <td>440.00</td>\n",
       "      <td>440.00</td>\n",
       "      <td>440.00</td>\n",
       "    </tr>\n",
       "    <tr>\n",
       "      <th>mean</th>\n",
       "      <td>1.32</td>\n",
       "      <td>2.54</td>\n",
       "      <td>12,000.30</td>\n",
       "      <td>5,796.27</td>\n",
       "      <td>7,951.28</td>\n",
       "      <td>3,071.93</td>\n",
       "      <td>2,881.49</td>\n",
       "      <td>1,524.87</td>\n",
       "    </tr>\n",
       "    <tr>\n",
       "      <th>std</th>\n",
       "      <td>0.47</td>\n",
       "      <td>0.77</td>\n",
       "      <td>12,647.33</td>\n",
       "      <td>7,380.38</td>\n",
       "      <td>9,503.16</td>\n",
       "      <td>4,854.67</td>\n",
       "      <td>4,767.85</td>\n",
       "      <td>2,820.11</td>\n",
       "    </tr>\n",
       "    <tr>\n",
       "      <th>min</th>\n",
       "      <td>1.00</td>\n",
       "      <td>1.00</td>\n",
       "      <td>3.00</td>\n",
       "      <td>55.00</td>\n",
       "      <td>3.00</td>\n",
       "      <td>25.00</td>\n",
       "      <td>3.00</td>\n",
       "      <td>3.00</td>\n",
       "    </tr>\n",
       "    <tr>\n",
       "      <th>25%</th>\n",
       "      <td>1.00</td>\n",
       "      <td>2.00</td>\n",
       "      <td>3,127.75</td>\n",
       "      <td>1,533.00</td>\n",
       "      <td>2,153.00</td>\n",
       "      <td>742.25</td>\n",
       "      <td>256.75</td>\n",
       "      <td>408.25</td>\n",
       "    </tr>\n",
       "    <tr>\n",
       "      <th>50%</th>\n",
       "      <td>1.00</td>\n",
       "      <td>3.00</td>\n",
       "      <td>8,504.00</td>\n",
       "      <td>3,627.00</td>\n",
       "      <td>4,755.50</td>\n",
       "      <td>1,526.00</td>\n",
       "      <td>816.50</td>\n",
       "      <td>965.50</td>\n",
       "    </tr>\n",
       "    <tr>\n",
       "      <th>75%</th>\n",
       "      <td>2.00</td>\n",
       "      <td>3.00</td>\n",
       "      <td>16,933.75</td>\n",
       "      <td>7,190.25</td>\n",
       "      <td>10,655.75</td>\n",
       "      <td>3,554.25</td>\n",
       "      <td>3,922.00</td>\n",
       "      <td>1,820.25</td>\n",
       "    </tr>\n",
       "    <tr>\n",
       "      <th>max</th>\n",
       "      <td>2.00</td>\n",
       "      <td>3.00</td>\n",
       "      <td>112,151.00</td>\n",
       "      <td>73,498.00</td>\n",
       "      <td>92,780.00</td>\n",
       "      <td>60,869.00</td>\n",
       "      <td>40,827.00</td>\n",
       "      <td>47,943.00</td>\n",
       "    </tr>\n",
       "  </tbody>\n",
       "</table>\n",
       "</div>"
      ],
      "text/plain": [
       "                   Channel               Region                Fresh  \\\n",
       "count               440.00               440.00               440.00   \n",
       "mean                  1.32                 2.54            12,000.30   \n",
       "std                   0.47                 0.77            12,647.33   \n",
       "min                   1.00                 1.00                 3.00   \n",
       "25%                   1.00                 2.00             3,127.75   \n",
       "50%                   1.00                 3.00             8,504.00   \n",
       "75%                   2.00                 3.00            16,933.75   \n",
       "max                   2.00                 3.00           112,151.00   \n",
       "\n",
       "                      Milk              Grocery               Frozen  \\\n",
       "count               440.00               440.00               440.00   \n",
       "mean              5,796.27             7,951.28             3,071.93   \n",
       "std               7,380.38             9,503.16             4,854.67   \n",
       "min                  55.00                 3.00                25.00   \n",
       "25%               1,533.00             2,153.00               742.25   \n",
       "50%               3,627.00             4,755.50             1,526.00   \n",
       "75%               7,190.25            10,655.75             3,554.25   \n",
       "max              73,498.00            92,780.00            60,869.00   \n",
       "\n",
       "          Detergents_Paper           Delicassen  \n",
       "count               440.00               440.00  \n",
       "mean              2,881.49             1,524.87  \n",
       "std               4,767.85             2,820.11  \n",
       "min                   3.00                 3.00  \n",
       "25%                 256.75               408.25  \n",
       "50%                 816.50               965.50  \n",
       "75%               3,922.00             1,820.25  \n",
       "max              40,827.00            47,943.00  "
      ]
     },
     "execution_count": 5,
     "metadata": {},
     "output_type": "execute_result"
    }
   ],
   "source": [
    "df.isnull().sum()\n",
    "df.info()\n",
    "df.describe()"
   ]
  },
  {
   "cell_type": "markdown",
   "metadata": {},
   "source": [
    "Prepare Data\n",
    "\n",
    "1. Select variables you want to cluster: `df = df[[\"col1\", \"col2\"]]`\n",
    "    - we want to cluster all except channel & region\n",
    "    - these 2 variables are numeric but they don't represent a spatial relationship"
   ]
  },
  {
   "cell_type": "code",
   "execution_count": 6,
   "metadata": {},
   "outputs": [],
   "source": [
    "# drop channel, region\n",
    "# df.drop(columns=['Channel', 'Region'], inplace=True)\n",
    "df = df[['Fresh', 'Frozen', 'Detergents_Paper']]"
   ]
  },
  {
   "cell_type": "markdown",
   "metadata": {},
   "source": [
    "2. Convert to array dataframe to numpy array and dtype of all values to float, as that is what is required for DBSCAN. \n",
    "    - we could use df.values or np.array(df) to convert to an array\n",
    "    - us astype() to convert to float32 (given these are all integers and we don't intent to go to precision that would require that of float64, we will converse memory and stick with the float32."
   ]
  },
  {
   "cell_type": "code",
   "execution_count": 7,
   "metadata": {},
   "outputs": [
    {
     "data": {
      "text/plain": [
       "numpy.ndarray"
      ]
     },
     "execution_count": 7,
     "metadata": {},
     "output_type": "execute_result"
    }
   ],
   "source": [
    "type(df.values)\n",
    "type(np.array(df))"
   ]
  },
  {
   "cell_type": "code",
   "execution_count": 8,
   "metadata": {},
   "outputs": [
    {
     "name": "stdout",
     "output_type": "stream",
     "text": [
      "df.values:\n",
      " object type: <class 'numpy.ndarray'> \n",
      " First 5 elements:\n",
      " [[12669   214  2674]\n",
      " [ 7057  1762  3293]\n",
      " [ 6353  2405  3516]\n",
      " [13265  6404   507]\n",
      " [22615  3915  1777]]\n",
      "df.values:\n",
      " object type: <class 'numpy.ndarray'> \n",
      " First 5 elements:\n",
      " [[12669   214  2674]\n",
      " [ 7057  1762  3293]\n",
      " [ 6353  2405  3516]\n",
      " [13265  6404   507]\n",
      " [22615  3915  1777]]\n"
     ]
    }
   ],
   "source": [
    "print(\"df.values:\\n object type: {} \\n First 5 elements:\\n {}\".format(type(df.values), df.values[0:5]))\n",
    "print(\"df.values:\\n object type: {} \\n First 5 elements:\\n {}\".format(type(np.array(df)), np.array(df)[0:5]))"
   ]
  },
  {
   "cell_type": "code",
   "execution_count": 9,
   "metadata": {},
   "outputs": [
    {
     "data": {
      "text/plain": [
       "array([[12669.,   214.,  2674.],\n",
       "       [ 7057.,  1762.,  3293.],\n",
       "       [ 6353.,  2405.,  3516.],\n",
       "       [13265.,  6404.,   507.],\n",
       "       [22615.,  3915.,  1777.]], dtype=float32)"
      ]
     },
     "execution_count": 9,
     "metadata": {},
     "output_type": "execute_result"
    }
   ],
   "source": [
    "np_array = df.values.astype(\"float32\",copy=False)\n",
    "# np_array = np.array(df).astype(\"float32\",copy=False)\n",
    "np_array[0:5]"
   ]
  },
  {
   "cell_type": "markdown",
   "metadata": {},
   "source": [
    "3. Scale to standard normal:  \n",
    "> `stscaler = StandardScaler().fit(np_array)\n",
    ">  np_array = stscaler.transform(np_array)`"
   ]
  },
  {
   "cell_type": "code",
   "execution_count": 10,
   "metadata": {},
   "outputs": [
    {
     "data": {
      "text/plain": [
       "array([[0.11294005, 0.0031063 , 0.0654272 ],\n",
       "       [0.06289903, 0.02854842, 0.08058985],\n",
       "       [0.05662161, 0.03911643, 0.08605233],\n",
       "       [0.11825445, 0.1048419 , 0.01234568],\n",
       "       [0.20162643, 0.063934  , 0.04345483]], dtype=float32)"
      ]
     },
     "execution_count": 10,
     "metadata": {},
     "output_type": "execute_result"
    }
   ],
   "source": [
    "scaler = MinMaxScaler().fit(np_array)\n",
    "np_array = scaler.transform(np_array)\n",
    "np_array[0:5]"
   ]
  },
  {
   "cell_type": "markdown",
   "metadata": {},
   "source": [
    "4. Create DBSCAN object and fit: `dbsc = DBSCAN(eps = .75, min_samples = 15).fit(np_array)`"
   ]
  },
  {
   "cell_type": "code",
   "execution_count": 11,
   "metadata": {},
   "outputs": [],
   "source": [
    "dbsc = DBSCAN(eps = .25, min_samples = 50).fit(np_array)"
   ]
  },
  {
   "cell_type": "markdown",
   "metadata": {},
   "source": [
    "5. Extract labels: `labels = dbsc.labels_`"
   ]
  },
  {
   "cell_type": "code",
   "execution_count": 12,
   "metadata": {},
   "outputs": [],
   "source": [
    "labels = dbsc.labels_"
   ]
  },
  {
   "cell_type": "markdown",
   "metadata": {},
   "source": [
    "6. Add labels back to original dataframe: \n",
    "> `df['labels'] = labels`"
   ]
  },
  {
   "cell_type": "code",
   "execution_count": 13,
   "metadata": {},
   "outputs": [],
   "source": [
    "# df = pd.DataFrame(np_array, columns=df.columns)\n",
    "df['labels'] = labels"
   ]
  },
  {
   "cell_type": "code",
   "execution_count": 14,
   "metadata": {},
   "outputs": [
    {
     "data": {
      "text/html": [
       "<div>\n",
       "<style scoped>\n",
       "    .dataframe tbody tr th:only-of-type {\n",
       "        vertical-align: middle;\n",
       "    }\n",
       "\n",
       "    .dataframe tbody tr th {\n",
       "        vertical-align: top;\n",
       "    }\n",
       "\n",
       "    .dataframe thead th {\n",
       "        text-align: right;\n",
       "    }\n",
       "</style>\n",
       "<table border=\"1\" class=\"dataframe\">\n",
       "  <thead>\n",
       "    <tr style=\"text-align: right;\">\n",
       "      <th></th>\n",
       "      <th>Fresh</th>\n",
       "      <th>Frozen</th>\n",
       "      <th>Detergents_Paper</th>\n",
       "      <th>labels</th>\n",
       "    </tr>\n",
       "  </thead>\n",
       "  <tbody>\n",
       "    <tr>\n",
       "      <th>count</th>\n",
       "      <td>440.00</td>\n",
       "      <td>440.00</td>\n",
       "      <td>440.00</td>\n",
       "      <td>440.00</td>\n",
       "    </tr>\n",
       "    <tr>\n",
       "      <th>mean</th>\n",
       "      <td>12,000.30</td>\n",
       "      <td>3,071.93</td>\n",
       "      <td>2,881.49</td>\n",
       "      <td>-0.02</td>\n",
       "    </tr>\n",
       "    <tr>\n",
       "      <th>std</th>\n",
       "      <td>12,647.33</td>\n",
       "      <td>4,854.67</td>\n",
       "      <td>4,767.85</td>\n",
       "      <td>0.14</td>\n",
       "    </tr>\n",
       "    <tr>\n",
       "      <th>min</th>\n",
       "      <td>3.00</td>\n",
       "      <td>25.00</td>\n",
       "      <td>3.00</td>\n",
       "      <td>-1.00</td>\n",
       "    </tr>\n",
       "    <tr>\n",
       "      <th>25%</th>\n",
       "      <td>3,127.75</td>\n",
       "      <td>742.25</td>\n",
       "      <td>256.75</td>\n",
       "      <td>0.00</td>\n",
       "    </tr>\n",
       "    <tr>\n",
       "      <th>50%</th>\n",
       "      <td>8,504.00</td>\n",
       "      <td>1,526.00</td>\n",
       "      <td>816.50</td>\n",
       "      <td>0.00</td>\n",
       "    </tr>\n",
       "    <tr>\n",
       "      <th>75%</th>\n",
       "      <td>16,933.75</td>\n",
       "      <td>3,554.25</td>\n",
       "      <td>3,922.00</td>\n",
       "      <td>0.00</td>\n",
       "    </tr>\n",
       "    <tr>\n",
       "      <th>max</th>\n",
       "      <td>112,151.00</td>\n",
       "      <td>60,869.00</td>\n",
       "      <td>40,827.00</td>\n",
       "      <td>0.00</td>\n",
       "    </tr>\n",
       "  </tbody>\n",
       "</table>\n",
       "</div>"
      ],
      "text/plain": [
       "                     Fresh               Frozen     Detergents_Paper  \\\n",
       "count               440.00               440.00               440.00   \n",
       "mean             12,000.30             3,071.93             2,881.49   \n",
       "std              12,647.33             4,854.67             4,767.85   \n",
       "min                   3.00                25.00                 3.00   \n",
       "25%               3,127.75               742.25               256.75   \n",
       "50%               8,504.00             1,526.00               816.50   \n",
       "75%              16,933.75             3,554.25             3,922.00   \n",
       "max             112,151.00            60,869.00            40,827.00   \n",
       "\n",
       "                    labels  \n",
       "count               440.00  \n",
       "mean                 -0.02  \n",
       "std                   0.14  \n",
       "min                  -1.00  \n",
       "25%                   0.00  \n",
       "50%                   0.00  \n",
       "75%                   0.00  \n",
       "max                   0.00  "
      ]
     },
     "execution_count": 14,
     "metadata": {},
     "output_type": "execute_result"
    }
   ],
   "source": [
    "df.describe()"
   ]
  },
  {
   "cell_type": "code",
   "execution_count": 15,
   "metadata": {},
   "outputs": [
    {
     "data": {
      "text/plain": [
       " 0    431\n",
       "-1      9\n",
       "Name: labels, dtype: int64"
      ]
     },
     "execution_count": 15,
     "metadata": {},
     "output_type": "execute_result"
    }
   ],
   "source": [
    "df.labels.value_counts()"
   ]
  },
  {
   "cell_type": "markdown",
   "metadata": {},
   "source": [
    "7. Explore:\n",
    "> `df.labels.value_counts()\n",
    ">  sns.scatterplot(df.col1, df.col2, hue=df.labels)`"
   ]
  },
  {
   "cell_type": "code",
   "execution_count": 16,
   "metadata": {},
   "outputs": [
    {
     "data": {
      "text/plain": [
       " 0    431\n",
       "-1      9\n",
       "Name: labels, dtype: int64"
      ]
     },
     "execution_count": 16,
     "metadata": {},
     "output_type": "execute_result"
    }
   ],
   "source": [
    "df.labels.value_counts()"
   ]
  },
  {
   "cell_type": "raw",
   "metadata": {},
   "source": [
    "Fresh, Frozen, Detergents_Paper, labels"
   ]
  },
  {
   "cell_type": "code",
   "execution_count": null,
   "metadata": {},
   "outputs": [],
   "source": [
    "fig, ax = plt.subplots(1, 1, figsize=(7, 7), subplot_kw={'projection': '3d'})\n",
    "\n",
    "ax.scatter(df.Fresh, df.Frozen, df.Detergents_Paper, c=df.labels.astype(\"int32\"), \n",
    "            edgecolor='k', alpha=1)"
   ]
  },
  {
   "cell_type": "code",
   "execution_count": 27,
   "metadata": {},
   "outputs": [
    {
     "data": {
      "text/plain": [
       "<matplotlib.collections.PathCollection at 0x11c8fc630>"
      ]
     },
     "execution_count": 27,
     "metadata": {},
     "output_type": "execute_result"
    },
    {
     "data": {
      "image/png": "[encoded data removed]",
      "text/plain": [
       "<Figure size 864x576 with 3 Axes>"
      ]
     },
     "metadata": {
      "needs_background": "light"
     },
     "output_type": "display_data"
    }
   ],
   "source": [
    "fig, axs = plt.subplots(1,3, figsize = (12,8))\n",
    "\n",
    "data = df\n",
    "# for i in range(0,3):\n",
    "axs[0].scatter(x='Frozen', y='Fresh', data=data, c='labels')\n",
    "axs[1].scatter(df.Frozen, df.Detergents_Paper, c=df.labels)\n",
    "axs[2].scatter(df.Fresh, df.Detergents_Paper, c=df.labels)"
   ]
  },
  {
   "cell_type": "code",
   "execution_count": 28,
   "metadata": {},
   "outputs": [
    {
     "data": {
      "text/html": [
       "<div>\n",
       "<style scoped>\n",
       "    .dataframe tbody tr th:only-of-type {\n",
       "        vertical-align: middle;\n",
       "    }\n",
       "\n",
       "    .dataframe tbody tr th {\n",
       "        vertical-align: top;\n",
       "    }\n",
       "\n",
       "    .dataframe thead th {\n",
       "        text-align: right;\n",
       "    }\n",
       "</style>\n",
       "<table border=\"1\" class=\"dataframe\">\n",
       "  <thead>\n",
       "    <tr style=\"text-align: right;\">\n",
       "      <th></th>\n",
       "      <th>Fresh</th>\n",
       "      <th>Frozen</th>\n",
       "      <th>Detergents_Paper</th>\n",
       "      <th>labels</th>\n",
       "    </tr>\n",
       "  </thead>\n",
       "  <tbody>\n",
       "    <tr>\n",
       "      <th>47</th>\n",
       "      <td>44466</td>\n",
       "      <td>7782</td>\n",
       "      <td>24171</td>\n",
       "      <td>-1</td>\n",
       "    </tr>\n",
       "    <tr>\n",
       "      <th>61</th>\n",
       "      <td>35942</td>\n",
       "      <td>3254</td>\n",
       "      <td>26701</td>\n",
       "      <td>-1</td>\n",
       "    </tr>\n",
       "    <tr>\n",
       "      <th>85</th>\n",
       "      <td>16117</td>\n",
       "      <td>1026</td>\n",
       "      <td>40827</td>\n",
       "      <td>-1</td>\n",
       "    </tr>\n",
       "    <tr>\n",
       "      <th>93</th>\n",
       "      <td>11314</td>\n",
       "      <td>35009</td>\n",
       "      <td>71</td>\n",
       "      <td>-1</td>\n",
       "    </tr>\n",
       "    <tr>\n",
       "      <th>125</th>\n",
       "      <td>76237</td>\n",
       "      <td>16538</td>\n",
       "      <td>778</td>\n",
       "      <td>-1</td>\n",
       "    </tr>\n",
       "    <tr>\n",
       "      <th>181</th>\n",
       "      <td>112151</td>\n",
       "      <td>16745</td>\n",
       "      <td>4948</td>\n",
       "      <td>-1</td>\n",
       "    </tr>\n",
       "    <tr>\n",
       "      <th>183</th>\n",
       "      <td>36847</td>\n",
       "      <td>36534</td>\n",
       "      <td>239</td>\n",
       "      <td>-1</td>\n",
       "    </tr>\n",
       "    <tr>\n",
       "      <th>325</th>\n",
       "      <td>32717</td>\n",
       "      <td>60869</td>\n",
       "      <td>1272</td>\n",
       "      <td>-1</td>\n",
       "    </tr>\n",
       "    <tr>\n",
       "      <th>333</th>\n",
       "      <td>8565</td>\n",
       "      <td>131</td>\n",
       "      <td>38102</td>\n",
       "      <td>-1</td>\n",
       "    </tr>\n",
       "  </tbody>\n",
       "</table>\n",
       "</div>"
      ],
      "text/plain": [
       "      Fresh  Frozen  Detergents_Paper  labels\n",
       "47    44466    7782             24171      -1\n",
       "61    35942    3254             26701      -1\n",
       "85    16117    1026             40827      -1\n",
       "93    11314   35009                71      -1\n",
       "125   76237   16538               778      -1\n",
       "181  112151   16745              4948      -1\n",
       "183   36847   36534               239      -1\n",
       "325   32717   60869              1272      -1\n",
       "333    8565     131             38102      -1"
      ]
     },
     "execution_count": 28,
     "metadata": {},
     "output_type": "execute_result"
    }
   ],
   "source": [
    "df[df.labels==-1]"
   ]
  },
  {
   "cell_type": "code",
   "execution_count": 29,
   "metadata": {},
   "outputs": [
    {
     "data": {
      "text/html": [
       "<div>\n",
       "<style scoped>\n",
       "    .dataframe tbody tr th:only-of-type {\n",
       "        vertical-align: middle;\n",
       "    }\n",
       "\n",
       "    .dataframe tbody tr th {\n",
       "        vertical-align: top;\n",
       "    }\n",
       "\n",
       "    .dataframe thead th {\n",
       "        text-align: right;\n",
       "    }\n",
       "</style>\n",
       "<table border=\"1\" class=\"dataframe\">\n",
       "  <thead>\n",
       "    <tr style=\"text-align: right;\">\n",
       "      <th></th>\n",
       "      <th>Fresh</th>\n",
       "      <th>Frozen</th>\n",
       "      <th>Detergents_Paper</th>\n",
       "    </tr>\n",
       "    <tr>\n",
       "      <th>labels</th>\n",
       "      <th></th>\n",
       "      <th></th>\n",
       "      <th></th>\n",
       "    </tr>\n",
       "  </thead>\n",
       "  <tbody>\n",
       "    <tr>\n",
       "      <th>-1</th>\n",
       "      <td>41,595.11</td>\n",
       "      <td>19,765.33</td>\n",
       "      <td>15,234.33</td>\n",
       "    </tr>\n",
       "    <tr>\n",
       "      <th>0</th>\n",
       "      <td>11,382.31</td>\n",
       "      <td>2,723.35</td>\n",
       "      <td>2,623.55</td>\n",
       "    </tr>\n",
       "  </tbody>\n",
       "</table>\n",
       "</div>"
      ],
      "text/plain": [
       "                      Fresh               Frozen     Detergents_Paper\n",
       "labels                                                               \n",
       "-1                41,595.11            19,765.33            15,234.33\n",
       " 0                11,382.31             2,723.35             2,623.55"
      ]
     },
     "execution_count": 29,
     "metadata": {},
     "output_type": "execute_result"
    }
   ],
   "source": [
    "df.groupby('labels').mean()"
   ]
  },
  {
   "cell_type": "code",
   "execution_count": null,
   "metadata": {},
   "outputs": [],
   "source": []
  }
 ],
 "metadata": {
  "kernelspec": {
   "display_name": "Python 3",
   "language": "python",
   "name": "python3"
  },
  "language_info": {
   "codemirror_mode": {
    "name": "ipython",
    "version": 3
   },
   "file_extension": ".py",
   "mimetype": "text/x-python",
   "name": "python",
   "nbconvert_exporter": "python",
   "pygments_lexer": "ipython3",
   "version": "3.6.8"
  }
 },
 "nbformat": 4,
 "nbformat_minor": 2
}
