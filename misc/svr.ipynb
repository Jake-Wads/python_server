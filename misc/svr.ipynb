{
 "cells": [
  {
   "cell_type": "markdown",
   "metadata": {},
   "source": [
    "# Modeling Time Series using ML Methods\n",
    "\n",
    "## Support Vector Regressor (SVR)\n",
    "\n",
    "### Machine Learning Methods\n",
    "\n",
    "Models with a Machine Learning or Artificial Intelligence foundation Standard algorithms are applied onto the time series data once transformed into features. \n",
    "\n",
    "### Process with sklearn:\n",
    "\n",
    "- prepare data into 2 numpy arrays x and y. \n",
    "- compute training and test data\n",
    "- construct model (SVR)\n",
    "- fit model with m.fit(x_train, y_train)\n",
    "- predict on test data with m.predict(x_test)\n",
    "- evaluate error with one of the metrics in sklearn.metrics\n",
    "\n",
    "### Pros\n",
    "\n",
    "1. Do not require underlying assumptions to be made about the data, such as seasonality\n",
    "2. Robust\n",
    "3. Adaptable\n",
    "\n",
    "### Cons\n",
    "\n",
    "1. Interpretability is often lost\n",
    "2. Necessary to run extensive tests to ensure robustness"
   ]
  },
  {
   "cell_type": "code",
   "execution_count": 1,
   "metadata": {},
   "outputs": [],
   "source": [
    "# data manipulation \n",
    "import numpy as np\n",
    "import pandas as pd\n",
    "\n",
    "import statsmodels.api as sm\n",
    "from sklearn import svm\n",
    "from sklearn import metrics\n",
    "from sklearn.model_selection import TimeSeriesSplit\n",
    "\n",
    "# data visualization \n",
    "import matplotlib.pyplot as plt\n",
    "import matplotlib\n",
    "import seaborn as sns\n",
    "%matplotlib inline\n",
    "\n",
    "from acquire import get_store_data\n",
    "from prepare import prep_store_data\n",
    "\n",
    "# ignore warnings\n",
    "import warnings\n",
    "warnings.filterwarnings(\"ignore\")"
   ]
  },
  {
   "cell_type": "code",
   "execution_count": 2,
   "metadata": {},
   "outputs": [],
   "source": [
    "df = prep_store_data(get_store_data())"
   ]
  },
  {
   "cell_type": "code",
   "execution_count": 3,
   "metadata": {},
   "outputs": [
    {
     "data": {
      "text/html": [
       "<div>\n",
       "<style scoped>\n",
       "    .dataframe tbody tr th:only-of-type {\n",
       "        vertical-align: middle;\n",
       "    }\n",
       "\n",
       "    .dataframe tbody tr th {\n",
       "        vertical-align: top;\n",
       "    }\n",
       "\n",
       "    .dataframe thead th {\n",
       "        text-align: right;\n",
       "    }\n",
       "</style>\n",
       "<table border=\"1\" class=\"dataframe\">\n",
       "  <thead>\n",
       "    <tr style=\"text-align: right;\">\n",
       "      <th></th>\n",
       "      <th>sale_id</th>\n",
       "      <th>store_id</th>\n",
       "      <th>item_id</th>\n",
       "      <th>sale_amount</th>\n",
       "      <th>item_brand</th>\n",
       "      <th>item_name</th>\n",
       "      <th>item_price</th>\n",
       "      <th>store_address</th>\n",
       "      <th>store_zipcode</th>\n",
       "      <th>store_city</th>\n",
       "      <th>store_state</th>\n",
       "    </tr>\n",
       "    <tr>\n",
       "      <th>sale_date</th>\n",
       "      <th></th>\n",
       "      <th></th>\n",
       "      <th></th>\n",
       "      <th></th>\n",
       "      <th></th>\n",
       "      <th></th>\n",
       "      <th></th>\n",
       "      <th></th>\n",
       "      <th></th>\n",
       "      <th></th>\n",
       "      <th></th>\n",
       "    </tr>\n",
       "  </thead>\n",
       "  <tbody>\n",
       "    <tr>\n",
       "      <th>2013-01-01</th>\n",
       "      <td>1</td>\n",
       "      <td>1</td>\n",
       "      <td>1</td>\n",
       "      <td>13</td>\n",
       "      <td>Riceland</td>\n",
       "      <td>Riceland American Jazmine Rice</td>\n",
       "      <td>0.84</td>\n",
       "      <td>12125 Alamo Ranch Pkwy</td>\n",
       "      <td>78253</td>\n",
       "      <td>San Antonio</td>\n",
       "      <td>TX</td>\n",
       "    </tr>\n",
       "    <tr>\n",
       "      <th>2013-01-01</th>\n",
       "      <td>295813</td>\n",
       "      <td>3</td>\n",
       "      <td>17</td>\n",
       "      <td>26</td>\n",
       "      <td>Ducal</td>\n",
       "      <td>Ducal Refried Red Beans</td>\n",
       "      <td>1.16</td>\n",
       "      <td>2118 Fredericksburg Rdj</td>\n",
       "      <td>78201</td>\n",
       "      <td>San Antonio</td>\n",
       "      <td>TX</td>\n",
       "    </tr>\n",
       "    <tr>\n",
       "      <th>2013-01-01</th>\n",
       "      <td>125995</td>\n",
       "      <td>10</td>\n",
       "      <td>7</td>\n",
       "      <td>32</td>\n",
       "      <td>Twinings Of London</td>\n",
       "      <td>Twinings Of London Classics Lady Grey Tea - 20 Ct</td>\n",
       "      <td>9.64</td>\n",
       "      <td>8503 NW Military Hwy</td>\n",
       "      <td>78231</td>\n",
       "      <td>San Antonio</td>\n",
       "      <td>TX</td>\n",
       "    </tr>\n",
       "    <tr>\n",
       "      <th>2013-01-01</th>\n",
       "      <td>314073</td>\n",
       "      <td>3</td>\n",
       "      <td>18</td>\n",
       "      <td>45</td>\n",
       "      <td>Scotch</td>\n",
       "      <td>Scotch Removable Clear Mounting Squares - 35 Ct</td>\n",
       "      <td>4.39</td>\n",
       "      <td>2118 Fredericksburg Rdj</td>\n",
       "      <td>78201</td>\n",
       "      <td>San Antonio</td>\n",
       "      <td>TX</td>\n",
       "    </tr>\n",
       "    <tr>\n",
       "      <th>2013-01-01</th>\n",
       "      <td>332333</td>\n",
       "      <td>3</td>\n",
       "      <td>19</td>\n",
       "      <td>34</td>\n",
       "      <td>Careone</td>\n",
       "      <td>Careone Family Comb Set - 8 Ct</td>\n",
       "      <td>0.74</td>\n",
       "      <td>2118 Fredericksburg Rdj</td>\n",
       "      <td>78201</td>\n",
       "      <td>San Antonio</td>\n",
       "      <td>TX</td>\n",
       "    </tr>\n",
       "  </tbody>\n",
       "</table>\n",
       "</div>"
      ],
      "text/plain": [
       "            sale_id  store_id  item_id  sale_amount          item_brand  \\\n",
       "sale_date                                                                 \n",
       "2013-01-01        1         1        1           13            Riceland   \n",
       "2013-01-01   295813         3       17           26               Ducal   \n",
       "2013-01-01   125995        10        7           32  Twinings Of London   \n",
       "2013-01-01   314073         3       18           45              Scotch   \n",
       "2013-01-01   332333         3       19           34             Careone   \n",
       "\n",
       "                                                    item_name  item_price  \\\n",
       "sale_date                                                                   \n",
       "2013-01-01                     Riceland American Jazmine Rice        0.84   \n",
       "2013-01-01                            Ducal Refried Red Beans        1.16   \n",
       "2013-01-01  Twinings Of London Classics Lady Grey Tea - 20 Ct        9.64   \n",
       "2013-01-01    Scotch Removable Clear Mounting Squares - 35 Ct        4.39   \n",
       "2013-01-01                     Careone Family Comb Set - 8 Ct        0.74   \n",
       "\n",
       "                      store_address  store_zipcode   store_city store_state  \n",
       "sale_date                                                                    \n",
       "2013-01-01   12125 Alamo Ranch Pkwy          78253  San Antonio          TX  \n",
       "2013-01-01  2118 Fredericksburg Rdj          78201  San Antonio          TX  \n",
       "2013-01-01     8503 NW Military Hwy          78231  San Antonio          TX  \n",
       "2013-01-01  2118 Fredericksburg Rdj          78201  San Antonio          TX  \n",
       "2013-01-01  2118 Fredericksburg Rdj          78201  San Antonio          TX  "
      ]
     },
     "execution_count": 3,
     "metadata": {},
     "output_type": "execute_result"
    }
   ],
   "source": [
    "df.head()"
   ]
  },
  {
   "cell_type": "markdown",
   "metadata": {},
   "source": [
    "### Aggregate to preferred period"
   ]
  },
  {
   "cell_type": "code",
   "execution_count": 4,
   "metadata": {},
   "outputs": [],
   "source": [
    "aggregation = 'mean' # we might switch this for sum\n",
    "daily_df = df.sale_amount.resample('D').agg(aggregation)"
   ]
  },
  {
   "cell_type": "markdown",
   "metadata": {},
   "source": [
    "### Split into test/train & convert dataframe to array"
   ]
  },
  {
   "cell_type": "code",
   "execution_count": 5,
   "metadata": {},
   "outputs": [],
   "source": [
    "train = np.array(daily_df[:'2016'])\n",
    "test = np.array(daily_df['2017':])"
   ]
  },
  {
   "cell_type": "markdown",
   "metadata": {},
   "source": [
    "### Create x and y variables with y being the values after n steps"
   ]
  },
  {
   "cell_type": "code",
   "execution_count": 6,
   "metadata": {},
   "outputs": [],
   "source": [
    "def embed_data(x, steps):\n",
    "    n = len(x)\n",
    "    xout = np.zeros((n-steps, steps))\n",
    "    yout = x[steps:]\n",
    "    for i in np.arange(steps, n):\n",
    "        xout[i-steps] = x[i-steps:i]\n",
    "    return xout, yout"
   ]
  },
  {
   "cell_type": "code",
   "execution_count": 7,
   "metadata": {},
   "outputs": [],
   "source": [
    "xtrain,ytrain = embed_data(train, 3)\n",
    "xtest,ytest = embed_data(test, 3)"
   ]
  },
  {
   "cell_type": "code",
   "execution_count": 8,
   "metadata": {},
   "outputs": [
    {
     "name": "stdout",
     "output_type": "stream",
     "text": [
      "[[27.392 27.356 28.976]\n",
      " [27.356 28.976 31.354]\n",
      " [28.976 31.354 32.474]\n",
      " [31.354 32.474 34.582]\n",
      " [32.474 34.582 23.538]]\n",
      "[31.354 32.474 34.582 23.538 27.12 ]\n"
     ]
    }
   ],
   "source": [
    "print(xtrain[0:5])\n",
    "print(ytrain[0:5])"
   ]
  },
  {
   "cell_type": "markdown",
   "metadata": {},
   "source": [
    "### Create the Support Vector Regressor Object"
   ]
  },
  {
   "cell_type": "code",
   "execution_count": 9,
   "metadata": {},
   "outputs": [],
   "source": [
    "m = svm.SVR(kernel='rbf', C=1, gamma=0.1)\n",
    "# C is our regularization constant\n",
    "m_fit = m.fit(xtrain, ytrain)"
   ]
  },
  {
   "cell_type": "markdown",
   "metadata": {},
   "source": [
    "### Predict in-sample/training dataset"
   ]
  },
  {
   "cell_type": "code",
   "execution_count": 10,
   "metadata": {},
   "outputs": [],
   "source": [
    "y_pred = m_fit.predict(xtrain)"
   ]
  },
  {
   "cell_type": "markdown",
   "metadata": {},
   "source": [
    "### Evaluate"
   ]
  },
  {
   "cell_type": "code",
   "execution_count": 11,
   "metadata": {},
   "outputs": [
    {
     "name": "stdout",
     "output_type": "stream",
     "text": [
      "75.20112245606627\n"
     ]
    }
   ],
   "source": [
    "# mean squared error\n",
    "mse = metrics.mean_squared_error(y_pred, ytrain)\n",
    "print(mse)"
   ]
  },
  {
   "cell_type": "code",
   "execution_count": 12,
   "metadata": {},
   "outputs": [
    {
     "name": "stdout",
     "output_type": "stream",
     "text": [
      "8.671858074026943\n"
     ]
    }
   ],
   "source": [
    "# root mean squared error\n",
    "import math\n",
    "rmse = math.sqrt(mse)\n",
    "print(rmse)"
   ]
  },
  {
   "cell_type": "markdown",
   "metadata": {},
   "source": [
    "### Plot the predicted data "
   ]
  },
  {
   "cell_type": "code",
   "execution_count": 13,
   "metadata": {},
   "outputs": [
    {
     "data": {
      "text/plain": [
       "[<matplotlib.lines.Line2D at 0x1c2aae59e8>,\n",
       " <matplotlib.lines.Line2D at 0x1c2aae5be0>]"
      ]
     },
     "execution_count": 13,
     "metadata": {},
     "output_type": "execute_result"
    },
    {
     "data": {
      "image/png": "[encoded data removed]",
      "text/plain": [
       "<Figure size 432x288 with 1 Axes>"
      ]
     },
     "metadata": {
      "needs_background": "light"
     },
     "output_type": "display_data"
    }
   ],
   "source": [
    "plt.plot(y_pred, 'b-', ytrain, 'r-')"
   ]
  },
  {
   "cell_type": "markdown",
   "metadata": {},
   "source": [
    "### Plot the predicted values with the actual values"
   ]
  },
  {
   "cell_type": "code",
   "execution_count": 14,
   "metadata": {},
   "outputs": [
    {
     "data": {
      "image/png": "[encoded data removed]",
      "text/plain": [
       "<Figure size 576x576 with 1 Axes>"
      ]
     },
     "metadata": {
      "needs_background": "light"
     },
     "output_type": "display_data"
    }
   ],
   "source": [
    "plt.figure(figsize=(8,8))\n",
    "ax = plt.subplot(1, 1, 1)\n",
    "ax.plot(y_pred, ytrain, '.')\n",
    "plt.show()"
   ]
  },
  {
   "cell_type": "markdown",
   "metadata": {},
   "source": [
    "### Predict on out-of-sample/test dataset"
   ]
  },
  {
   "cell_type": "code",
   "execution_count": 15,
   "metadata": {},
   "outputs": [],
   "source": [
    "y_pred = m_fit.predict(xtest)"
   ]
  },
  {
   "cell_type": "markdown",
   "metadata": {},
   "source": [
    "### Evaluate"
   ]
  },
  {
   "cell_type": "code",
   "execution_count": 16,
   "metadata": {},
   "outputs": [
    {
     "name": "stdout",
     "output_type": "stream",
     "text": [
      "172.36502608513274\n"
     ]
    }
   ],
   "source": [
    "# mean squared error\n",
    "mse = metrics.mean_squared_error(y_pred, ytest)\n",
    "print(mse)"
   ]
  },
  {
   "cell_type": "code",
   "execution_count": 17,
   "metadata": {},
   "outputs": [
    {
     "name": "stdout",
     "output_type": "stream",
     "text": [
      "13.12878616190898\n"
     ]
    }
   ],
   "source": [
    "# root mean squared error\n",
    "import math\n",
    "rmse = math.sqrt(mse)\n",
    "print(rmse)"
   ]
  },
  {
   "cell_type": "markdown",
   "metadata": {},
   "source": [
    "### Plot Predictions"
   ]
  },
  {
   "cell_type": "code",
   "execution_count": 18,
   "metadata": {},
   "outputs": [
    {
     "data": {
      "text/plain": [
       "[<matplotlib.lines.Line2D at 0x1c2b71c588>,\n",
       " <matplotlib.lines.Line2D at 0x1c2b71c6d8>]"
      ]
     },
     "execution_count": 18,
     "metadata": {},
     "output_type": "execute_result"
    },
    {
     "data": {
      "image/png": "[encoded data removed]",
      "text/plain": [
       "<Figure size 432x288 with 1 Axes>"
      ]
     },
     "metadata": {
      "needs_background": "light"
     },
     "output_type": "display_data"
    }
   ],
   "source": [
    "plt.plot(y_pred, 'b-', ytest, 'r-')"
   ]
  }
 ],
 "metadata": {
  "jupytext": {
   "main_language": "python",
   "text_representation": {
    "extension": ".md",
    "format_name": "markdown"
   }
  },
  "kernelspec": {
   "display_name": "Python 3",
   "language": "python",
   "name": "python3"
  },
  "language_info": {
   "codemirror_mode": {
    "name": "ipython",
    "version": 3
   },
   "file_extension": ".py",
   "mimetype": "text/x-python",
   "name": "python",
   "nbconvert_exporter": "python",
   "pygments_lexer": "ipython3",
   "version": "3.7.1"
  },
  "toc": {
   "base_numbering": 1,
   "nav_menu": {},
   "number_sections": false,
   "sideBar": false,
   "skip_h1_title": false,
   "title_cell": "Table of Contents",
   "title_sidebar": "Contents",
   "toc_cell": false,
   "toc_position": {},
   "toc_section_display": false,
   "toc_window_display": false
  }
 },
 "nbformat": 4,
 "nbformat_minor": 2
}
