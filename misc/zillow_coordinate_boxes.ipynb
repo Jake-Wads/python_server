{
 "cells": [
  {
   "cell_type": "code",
   "execution_count": 289,
   "metadata": {},
   "outputs": [],
   "source": [
    "import pandas as pd\n",
    "import numpy as np\n",
    "from sklearn.model_selection import train_test_split\n",
    "from sklearn.preprocessing import PowerTransformer, LabelEncoder, OneHotEncoder, QuantileTransformer, MinMaxScaler\n",
    "from sklearn.cluster import KMeans\n",
    "import matplotlib.pyplot as plt\n",
    "import seaborn as sns\n",
    "%matplotlib inline\n",
    "from mpl_toolkits.mplot3d import Axes3D\n",
    "import warnings\n",
    "warnings.filterwarnings(\"ignore\")\n",
    "\n",
    "import acquire\n",
    "import summarize\n",
    "import prepare"
   ]
  },
  {
   "cell_type": "code",
   "execution_count": 309,
   "metadata": {},
   "outputs": [],
   "source": [
    "df = acquire.get_zillow_data()"
   ]
  },
  {
   "cell_type": "code",
   "execution_count": 310,
   "metadata": {},
   "outputs": [],
   "source": [
    "df = df[df.propertylandusedesc == 'Single Family Residential']"
   ]
  },
  {
   "cell_type": "code",
   "execution_count": 311,
   "metadata": {},
   "outputs": [],
   "source": [
    "# remove columns with > 99% missing and rows  > 40% missing\n",
    "df = prepare.handle_missing_values(df, prop_required_column = .01, prop_required_row = .40)"
   ]
  },
  {
   "cell_type": "code",
   "execution_count": 312,
   "metadata": {},
   "outputs": [],
   "source": [
    "# aggregate pool information: use all pool and spa columns to compute a single attribute of pool_spa\n",
    "# gather pool columns\n",
    "pool_cols = ['hashottuborspa', 'poolcnt', 'poolsizesum', 'pooltypeid2', 'pooltypeid7']\n",
    "# fill all missing values with 0\n",
    "pool = df[pool_cols].fillna(0)\n",
    "# where there is a value in one or more of the pool attributes, assign a 1 to a new col named 'pool'\n",
    "pool.loc[pool.sum(axis=1)>0, 'has_pool'] = 1\n",
    "# append the new column to our original dataframe and remove the original pool columns \n",
    "df = df.join(pool[['has_pool']])\n",
    "\n",
    "# fill with 0\n",
    "df.loc[df.taxdelinquencyflag == 'Y', 'is_taxdelinquent'] = 1\n",
    "df.loc[df.fireplacecnt > 0, 'has_fireplace'] = 1\n",
    "df.loc[df.garagecarcnt > 0, 'has_garage'] = 1\n",
    "fill_with_0 = ['has_garage', 'has_fireplace', 'has_pool', 'is_taxdelinquent']\n",
    "df[fill_with_0] = df[fill_with_0].fillna(0)\n",
    "\n",
    "# remove columns where > 5% missing and rows where > 99% missing\n",
    "df = prepare.handle_missing_values(df, prop_required_column = .95, prop_required_row = .99)"
   ]
  },
  {
   "cell_type": "code",
   "execution_count": 313,
   "metadata": {},
   "outputs": [
    {
     "data": {
      "text/plain": [
       "(array([], dtype=int64),)"
      ]
     },
     "execution_count": 313,
     "metadata": {},
     "output_type": "execute_result"
    }
   ],
   "source": [
    "np.where((df.taxvaluedollarcnt - (df.landtaxvaluedollarcnt + df.structuretaxvaluedollarcnt)) != 0)\n"
   ]
  },
  {
   "cell_type": "code",
   "execution_count": 314,
   "metadata": {},
   "outputs": [],
   "source": [
    "df['structure_dollar_per_sqft'] = df.structuretaxvaluedollarcnt / df.calculatedfinishedsquarefeet\n",
    "df['land_dollar_per_sqft'] = df.landtaxvaluedollarcnt / df.lotsizesquarefeet\n",
    "df['living_area_sqft'] = df.calculatedfinishedsquarefeet - (\n",
    "    df.bedroomcnt * 121 + df.bathroomcnt * 36)\n",
    "df['tax_rate'] = df.taxvaluedollarcnt / df.taxamount\n",
    "df['bedbath_index'] = df.bedroomcnt * 2 + df.fullbathcnt + .5 * (\n",
    "    df.bathroomcnt - df.fullbathcnt)"
   ]
  },
  {
   "cell_type": "code",
   "execution_count": 315,
   "metadata": {},
   "outputs": [],
   "source": [
    "df['age'] = 2017 - df.yearbuilt"
   ]
  },
  {
   "cell_type": "code",
   "execution_count": 318,
   "metadata": {},
   "outputs": [],
   "source": [
    "# create a reference table of the box coordinates\n",
    "\n",
    "def box_coordinate_reference():\n",
    "    data = {'box': [1, 2, 3, 4, 5, 6, 7, 8, 9, 10, 11, 12, 13, 14, 15], \n",
    "            'lat_max': [34.20554422, 34.04802211, 33.99908439, 33.80387687, 33.78696072, 33.69952829, 33.59712547, \n",
    "                        33.49972314, 34.38229689, 34.00526394, 34.06277594, 33.90355421, 33.80675031, 33.72661788, \n",
    "                        33.63681764], \n",
    "            'lat_min': [34.00187156, 33.97400195, 33.6995076, 33.69879119, 33.60475644, 33.60475644, 33.50224095, \n",
    "                        33.40473173, 34.08712558, 33.80359565, 33.89700744, 33.74602844, 33.64904627, 33.56876661, \n",
    "                        33.47880174], \n",
    "            'lon_max': [-119.1012469, -118.4853365, -118.3643017, -118.010889, -117.995256, -117.8587745, -117.7050516,\n",
    "                        -117.595489, -117.1573461, -118.0072968, -116.7958861, -116.765738, -116.5865933, -116.4174318,\n",
    "                        -116.2908127], \n",
    "            'lon_min': [-119.2668432, -118.5999006, -118.4982449, -118.5063201, -118.1009925, -118.1009925, -117.9472695, \n",
    "                        -117.837707, -118.9924736, -118.3552993, -118.0734651, -118.0401843, -117.8610396, -117.7330499, \n",
    "                        -117.6064309]}\n",
    "    return pd.DataFrame(data)"
   ]
  },
  {
   "cell_type": "code",
   "execution_count": 322,
   "metadata": {},
   "outputs": [],
   "source": [
    "def find_box_id(df):\n",
    "    df2 = df[['latitude', 'longitude', 'logerror', 'parcelid']]\n",
    "    \n",
    "    # divide lat and lon by 1,000,000\n",
    "    df2['latitude'] = df2.latitude / 1e6\n",
    "    df2['longitude'] = df2.longitude / 1e6\n",
    "    \n",
    "    # set lat and lon to be dual indices\n",
    "    df2 = df2.sort_values(['latitude', 'longitude']).set_index(['latitude', 'longitude'])\n",
    "\n",
    "    # create an empty dataframe that all the box_ids will be appended to as we loop through the box coordinates \n",
    "    # to identify each parcel\n",
    "    box_df = pd.DataFrame(columns = ['latitude', 'longitude', 'logerror', 'parcelid', 'box_id'])\n",
    "\n",
    "    for i, row in ref_df.iterrows():\n",
    "        box = df2.query('@row.lat_min <= latitude <= @row.lat_max and @row.lon_min <= longitude <= @row.lon_max')\n",
    "        box['box_id'] = i + 1\n",
    "        box = box.reset_index()\n",
    "        box_df = box_df.append(box)\n",
    "        \n",
    "    # set index to be parcel id for joining the 2 tables. \\\n",
    "    df = df.set_index('parcelid')\n",
    "    box_df = box_df.set_index('parcelid')\n",
    "    box_df = box_df.drop(columns=['latitude', 'longitude', 'logerror'])\n",
    "\n",
    "    # join the box id's to the original dataframe\n",
    "    return df.join(box_df).reset_index()"
   ]
  },
  {
   "cell_type": "code",
   "execution_count": 323,
   "metadata": {},
   "outputs": [],
   "source": [
    "ref_df = box_coordinate_reference()\n",
    "df = find_box_id(df)"
   ]
  },
  {
   "cell_type": "code",
   "execution_count": null,
   "metadata": {},
   "outputs": [],
   "source": []
  }
 ],
 "metadata": {
  "kernelspec": {
   "display_name": "Python 3",
   "language": "python",
   "name": "python3"
  },
  "language_info": {
   "codemirror_mode": {
    "name": "ipython",
    "version": 3
   },
   "file_extension": ".py",
   "mimetype": "text/x-python",
   "name": "python",
   "nbconvert_exporter": "python",
   "pygments_lexer": "ipython3",
   "version": "3.6.8"
  }
 },
 "nbformat": 4,
 "nbformat_minor": 2
}
