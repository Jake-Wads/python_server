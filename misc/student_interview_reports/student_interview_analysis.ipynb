{
 "cells": [
  {
   "cell_type": "markdown",
   "id": "e8c00251",
   "metadata": {},
   "source": [
    "Explore the actual interview questions students are reporting back after their interviews. "
   ]
  },
  {
   "cell_type": "code",
   "execution_count": 1,
   "id": "08f26372",
   "metadata": {},
   "outputs": [],
   "source": [
    "import pandas as pd\n",
    "import matplotlib.pyplot as plt\n",
    "import numpy as np"
   ]
  },
  {
   "cell_type": "code",
   "execution_count": 2,
   "id": "b035b718",
   "metadata": {},
   "outputs": [],
   "source": [
    "df = pd.read_excel(\"student_interview_reports.xlsx\")"
   ]
  },
  {
   "cell_type": "code",
   "execution_count": 3,
   "id": "dbf736de",
   "metadata": {},
   "outputs": [
    {
     "name": "stderr",
     "output_type": "stream",
     "text": [
      "<ipython-input-3-ea8415b8a3ee>:1: FutureWarning: Treating datetime data as categorical rather than numeric in `.describe` is deprecated and will be removed in a future version of pandas. Specify `datetime_is_numeric=True` to silence this warning and adopt the future behavior now.\n",
      "  df.describe()\n"
     ]
    },
    {
     "data": {
      "text/html": [
       "<div>\n",
       "<style scoped>\n",
       "    .dataframe tbody tr th:only-of-type {\n",
       "        vertical-align: middle;\n",
       "    }\n",
       "\n",
       "    .dataframe tbody tr th {\n",
       "        vertical-align: top;\n",
       "    }\n",
       "\n",
       "    .dataframe thead th {\n",
       "        text-align: right;\n",
       "    }\n",
       "</style>\n",
       "<table border=\"1\" class=\"dataframe\">\n",
       "  <thead>\n",
       "    <tr style=\"text-align: right;\">\n",
       "      <th></th>\n",
       "      <th>first_name</th>\n",
       "      <th>last_name</th>\n",
       "      <th>email</th>\n",
       "      <th>cohort</th>\n",
       "      <th>program</th>\n",
       "      <th>interview_date</th>\n",
       "      <th>company_name</th>\n",
       "      <th>interviewer</th>\n",
       "      <th>interview_setting</th>\n",
       "      <th>interview_number</th>\n",
       "      <th>interview_type</th>\n",
       "      <th>interview_questions</th>\n",
       "      <th>next_steps</th>\n",
       "      <th>form_completed_date</th>\n",
       "      <th>position_title</th>\n",
       "    </tr>\n",
       "  </thead>\n",
       "  <tbody>\n",
       "    <tr>\n",
       "      <th>count</th>\n",
       "      <td>799</td>\n",
       "      <td>799</td>\n",
       "      <td>799</td>\n",
       "      <td>799</td>\n",
       "      <td>799</td>\n",
       "      <td>799</td>\n",
       "      <td>799</td>\n",
       "      <td>780</td>\n",
       "      <td>799</td>\n",
       "      <td>799</td>\n",
       "      <td>799</td>\n",
       "      <td>799</td>\n",
       "      <td>797</td>\n",
       "      <td>799</td>\n",
       "      <td>798</td>\n",
       "    </tr>\n",
       "    <tr>\n",
       "      <th>unique</th>\n",
       "      <td>203</td>\n",
       "      <td>230</td>\n",
       "      <td>257</td>\n",
       "      <td>26</td>\n",
       "      <td>2</td>\n",
       "      <td>330</td>\n",
       "      <td>337</td>\n",
       "      <td>609</td>\n",
       "      <td>4</td>\n",
       "      <td>6</td>\n",
       "      <td>4</td>\n",
       "      <td>781</td>\n",
       "      <td>762</td>\n",
       "      <td>799</td>\n",
       "      <td>283</td>\n",
       "    </tr>\n",
       "    <tr>\n",
       "      <th>top</th>\n",
       "      <td>David</td>\n",
       "      <td>Jones</td>\n",
       "      <td>mary.a.white28@gmail.com</td>\n",
       "      <td>Hopper</td>\n",
       "      <td>DS</td>\n",
       "      <td>2021-11-18 00:00:00</td>\n",
       "      <td>CGI</td>\n",
       "      <td>Caitlyn R. Carney</td>\n",
       "      <td>Virtual</td>\n",
       "      <td>First interview</td>\n",
       "      <td>Combination of both</td>\n",
       "      <td>Unknown</td>\n",
       "      <td>Unknown</td>\n",
       "      <td>2021-09-13 11:47:46 AM</td>\n",
       "      <td>Unknown</td>\n",
       "    </tr>\n",
       "    <tr>\n",
       "      <th>freq</th>\n",
       "      <td>26</td>\n",
       "      <td>19</td>\n",
       "      <td>15</td>\n",
       "      <td>81</td>\n",
       "      <td>419</td>\n",
       "      <td>10</td>\n",
       "      <td>53</td>\n",
       "      <td>10</td>\n",
       "      <td>603</td>\n",
       "      <td>248</td>\n",
       "      <td>344</td>\n",
       "      <td>11</td>\n",
       "      <td>9</td>\n",
       "      <td>1</td>\n",
       "      <td>181</td>\n",
       "    </tr>\n",
       "    <tr>\n",
       "      <th>first</th>\n",
       "      <td>NaN</td>\n",
       "      <td>NaN</td>\n",
       "      <td>NaN</td>\n",
       "      <td>NaN</td>\n",
       "      <td>NaN</td>\n",
       "      <td>2020-01-15 00:00:00</td>\n",
       "      <td>NaN</td>\n",
       "      <td>NaN</td>\n",
       "      <td>NaN</td>\n",
       "      <td>NaN</td>\n",
       "      <td>NaN</td>\n",
       "      <td>NaN</td>\n",
       "      <td>NaN</td>\n",
       "      <td>NaN</td>\n",
       "      <td>NaN</td>\n",
       "    </tr>\n",
       "    <tr>\n",
       "      <th>last</th>\n",
       "      <td>NaN</td>\n",
       "      <td>NaN</td>\n",
       "      <td>NaN</td>\n",
       "      <td>NaN</td>\n",
       "      <td>NaN</td>\n",
       "      <td>2023-07-15 00:00:00</td>\n",
       "      <td>NaN</td>\n",
       "      <td>NaN</td>\n",
       "      <td>NaN</td>\n",
       "      <td>NaN</td>\n",
       "      <td>NaN</td>\n",
       "      <td>NaN</td>\n",
       "      <td>NaN</td>\n",
       "      <td>NaN</td>\n",
       "      <td>NaN</td>\n",
       "    </tr>\n",
       "  </tbody>\n",
       "</table>\n",
       "</div>"
      ],
      "text/plain": [
       "       first_name last_name                     email  cohort program  \\\n",
       "count         799       799                       799     799     799   \n",
       "unique        203       230                       257      26       2   \n",
       "top         David     Jones  mary.a.white28@gmail.com  Hopper      DS   \n",
       "freq           26        19                        15      81     419   \n",
       "first         NaN       NaN                       NaN     NaN     NaN   \n",
       "last          NaN       NaN                       NaN     NaN     NaN   \n",
       "\n",
       "             interview_date company_name        interviewer interview_setting  \\\n",
       "count                   799          799                780               799   \n",
       "unique                  330          337                609                 4   \n",
       "top     2021-11-18 00:00:00          CGI  Caitlyn R. Carney           Virtual   \n",
       "freq                     10           53                 10               603   \n",
       "first   2020-01-15 00:00:00          NaN                NaN               NaN   \n",
       "last    2023-07-15 00:00:00          NaN                NaN               NaN   \n",
       "\n",
       "       interview_number       interview_type interview_questions next_steps  \\\n",
       "count               799                  799                 799        797   \n",
       "unique                6                    4                 781        762   \n",
       "top     First interview  Combination of both             Unknown    Unknown   \n",
       "freq                248                  344                  11          9   \n",
       "first               NaN                  NaN                 NaN        NaN   \n",
       "last                NaN                  NaN                 NaN        NaN   \n",
       "\n",
       "           form_completed_date position_title  \n",
       "count                      799            798  \n",
       "unique                     799            283  \n",
       "top     2021-09-13 11:47:46 AM        Unknown  \n",
       "freq                         1            181  \n",
       "first                      NaN            NaN  \n",
       "last                       NaN            NaN  "
      ]
     },
     "execution_count": 3,
     "metadata": {},
     "output_type": "execute_result"
    }
   ],
   "source": [
    "df.describe()"
   ]
  },
  {
   "cell_type": "code",
   "execution_count": 4,
   "id": "ddbcbd7d",
   "metadata": {},
   "outputs": [],
   "source": [
    "df = df[df.program=='DS']"
   ]
  },
  {
   "cell_type": "code",
   "execution_count": 7,
   "id": "2d9aaaab",
   "metadata": {},
   "outputs": [
    {
     "data": {
      "text/plain": [
       "4      She asked me about my experience at Codeup and...\n",
       "5      Things I was not familiar with that he asked a...\n",
       "6       - Tell me about yourself.\\n- Describe your ex...\n",
       "7      What interests you about data science?\\nWhat i...\n",
       "8      Tell me about yourself.\\nExplain to me the day...\n",
       "                             ...                        \n",
       "773                   Experience with SQL and presenting\n",
       "774    What is your experience with SQL like? What is...\n",
       "775    Tell me about specific (superstore) project._x...\n",
       "781    How to join to separate dataframes? How would ...\n",
       "783    Tell me about yourself._x000D_\\nConfirming sal...\n",
       "Name: interview_questions, Length: 419, dtype: object"
      ]
     },
     "execution_count": 7,
     "metadata": {},
     "output_type": "execute_result"
    }
   ],
   "source": [
    "df.interview_questions"
   ]
  },
  {
   "cell_type": "code",
   "execution_count": 6,
   "id": "b2fe93c7",
   "metadata": {},
   "outputs": [
    {
     "data": {
      "text/plain": [
       "Unknown                                         94\n",
       "Data Scientist                                  30\n",
       "Data Engineer                                   29\n",
       "Data Analyst                                    29\n",
       "Business Analyst                                14\n",
       "                                                ..\n",
       "Data engineer                                    1\n",
       "Machine Learning - Environmental Science Lab     1\n",
       "Data & Production Analyst                        1\n",
       "Data Enin                                        1\n",
       "Merchandising Analyst                            1\n",
       "Name: position_title, Length: 133, dtype: int64"
      ]
     },
     "execution_count": 6,
     "metadata": {},
     "output_type": "execute_result"
    }
   ],
   "source": [
    "df.position_title.value_counts()"
   ]
  },
  {
   "cell_type": "code",
   "execution_count": null,
   "id": "55d5e304",
   "metadata": {},
   "outputs": [],
   "source": []
  }
 ],
 "metadata": {
  "kernelspec": {
   "display_name": "Python 3",
   "language": "python",
   "name": "python3"
  },
  "language_info": {
   "codemirror_mode": {
    "name": "ipython",
    "version": 3
   },
   "file_extension": ".py",
   "mimetype": "text/x-python",
   "name": "python",
   "nbconvert_exporter": "python",
   "pygments_lexer": "ipython3",
   "version": "3.8.8"
  }
 },
 "nbformat": 4,
 "nbformat_minor": 5
}
