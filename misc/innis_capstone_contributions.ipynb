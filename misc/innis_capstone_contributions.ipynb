{
 "cells": [
  {
   "cell_type": "markdown",
   "id": "1f0ca743",
   "metadata": {},
   "source": [
    "```\n",
    "pip install pandas parsegitlog plotly\n",
    "```"
   ]
  },
  {
   "cell_type": "code",
   "execution_count": null,
   "id": "aa8e874d",
   "metadata": {},
   "outputs": [],
   "source": [
    "import os\n",
    "import pandas as pd\n",
    "import parsegitlog\n",
    "\n",
    "import plotly.express as px\n",
    "pd.options.display.max_columns = 25"
   ]
  },
  {
   "cell_type": "code",
   "execution_count": null,
   "id": "17803bb4",
   "metadata": {},
   "outputs": [],
   "source": [
    "df = pd.DataFrame([\n",
    "    {'Team': 'Songs', 'Github': 'https://github.com/CBRJ-Lyrical-Metrics/song-lyrics-capstone'},\n",
    "    {'Team': 'Financials', 'Github': 'https://github.com/FinancialForecasters/financial_forecaster'},\n",
    "    {'Team': 'Customers', 'Github': 'https://github.com/InPersonAnalysis/customer_review_capstone'},\n",
    "    {'Team': 'Movies', 'Github': 'https://github.com/Movie-Success-Capstone/Movie-Capstone'},\n",
    "    {'Team': 'Austin', 'Github': 'https://github.com/austin-crime/austin-crime'}\n",
    "])"
   ]
  },
  {
   "cell_type": "code",
   "execution_count": null,
   "id": "bdb48151",
   "metadata": {},
   "outputs": [],
   "source": [
    "# Clones or pulls the repo for each team\n",
    "def update_team_repo_and_get_commits(team):\n",
    "    if os.path.exists(f'repos/{team[\"Team\"]}'):\n",
    "        cmd = f'git -C \"repos/{team[\"Team\"]}\" pull origin'\n",
    "        cmd = f'{cmd} main || {cmd} master'\n",
    "    else:\n",
    "        cmd = f'git clone {team[\"Github\"]} \"repos/{team[\"Team\"]}\"'\n",
    "    print(f'Processing {team[\"Team\"]}')\n",
    "    print(f'  {cmd}')\n",
    "    os.system(cmd)\n",
    "    commits = parsegitlog.get_commits(f'repos/{team[\"Team\"]}')\n",
    "    commits = [{**c, 'team': team[\"Team\"]} for c in commits]\n",
    "    return commits\n",
    "\n",
    "commits = sum([update_team_repo_and_get_commits(team) for team in df.to_dict('records')], [])\n",
    "\n",
    "df = pd.DataFrame(commits)\n",
    "\n",
    "df.authored_at = pd.Index(pd.to_datetime(df.authored_at, utc=True)).tz_convert('America/Chicago')\n",
    "df.committed_at = pd.Index(pd.to_datetime(df.committed_at, utc=True)).tz_convert('America/Chicago')\n",
    "\n",
    "df = df[df.parents.str.count(' ') == 0] # remove merge commits\n",
    "\n",
    "days_off = ['2022-05-27', '2022-05-28', '2022-05-29', '2022-05-30', '2022-06-04', '2022-06-05']\n",
    "df['is_on_day_off'] = df.authored_at.dt.strftime('%Y-%m-%d').isin(days_off)\n",
    "df['after_hours'] = (~df.is_on_day_off) & ((df.authored_at.dt.hour < 9) | (df.authored_at.dt.hour > 17))\n",
    "df['outside_working_hours'] = df.after_hours | df.is_on_day_off"
   ]
  },
  {
   "cell_type": "code",
   "execution_count": null,
   "id": "9e7d2d3f",
   "metadata": {},
   "outputs": [],
   "source": [
    "# df = df[df.authored_at.dt.strftime('%Y-%m-%d') < pd.to_datetime('2022-06-03').strftime('%Y-%m-%d')]"
   ]
  },
  {
   "cell_type": "code",
   "execution_count": null,
   "id": "0326baed",
   "metadata": {},
   "outputs": [],
   "source": [
    "def fill_missing_days(df, start_date='2022-05-24', fmt='%m/%d %a'):\n",
    "    'Given a crosstab with dates as the index in the format fmt, fill missing days between start_date and now'\n",
    "    t = df.transpose()\n",
    "    days = pd.Series(0, index=pd.date_range(start=start_date, end='now', freq='D').strftime(fmt), name='dummy')\n",
    "    t = pd.concat([t, days], axis=1).sort_index()\n",
    "    t = t.drop(columns='dummy').transpose()\n",
    "    t = t.fillna(0).astype(int)\n",
    "    return t"
   ]
  },
  {
   "cell_type": "code",
   "execution_count": null,
   "id": "25347e9f",
   "metadata": {},
   "outputs": [],
   "source": [
    "def categorize_hour(hour):\n",
    "    if hour < 9:\n",
    "        return '1 early morning (00:00 - 8:59)'\n",
    "    elif hour < 13:\n",
    "        return '2 morning (9:00 - 12:59)'\n",
    "    elif hour <= 17:\n",
    "        return '3 afternoon (13:00 - 17:59)'\n",
    "    else:\n",
    "        return '4 evening (18:00 - 23:59)'\n",
    "\n",
    "df['hour'] = df.authored_at.dt.hour\n",
    "df['date'] = df.authored_at.dt.strftime('%m/%d %a')\n",
    "df.hour = df.hour.apply(categorize_hour)"
   ]
  },
  {
   "cell_type": "code",
   "execution_count": null,
   "id": "a0bb7b1f",
   "metadata": {},
   "outputs": [],
   "source": [
    "# ctab = pd.concat([pd.crosstab(subset.hour, subset.day).assign(team=team) for team, subset in df.groupby('team')])\n",
    "ctab = pd.crosstab(df.hour, df.date)\n",
    "\n",
    "fig = px.imshow(ctab, color_continuous_scale=['white', 'green'])\n",
    "fig.update_layout(yaxis_title='', xaxis_title='')\n",
    "fig"
   ]
  },
  {
   "cell_type": "code",
   "execution_count": null,
   "id": "c56efedb",
   "metadata": {},
   "outputs": [],
   "source": [
    "ctab = pd.crosstab(df.hour, df.team)\n",
    "ctab = ctab.apply(lambda col: col / col.sum())\n",
    "px.imshow(ctab, color_continuous_scale=['white', 'green'])"
   ]
  },
  {
   "cell_type": "code",
   "execution_count": null,
   "id": "674bdaa8",
   "metadata": {},
   "outputs": [],
   "source": [
    "t = df.set_index(df.authored_at).groupby('team').resample('D').size().unstack(0)\n",
    "px.line(t)"
   ]
  },
  {
   "cell_type": "code",
   "execution_count": null,
   "id": "f32de95f",
   "metadata": {},
   "outputs": [],
   "source": [
    "t = pd.crosstab(df.date, df.team).reset_index().melt(id_vars='date', value_name='n_commits')\n",
    "px.bar(t, x='date', y='n_commits', facet_col='team', facet_col_wrap=3, title='# of Innis Capstone Team Commits')"
   ]
  },
  {
   "cell_type": "code",
   "execution_count": null,
   "id": "08faeede",
   "metadata": {},
   "outputs": [],
   "source": [
    "t = pd.crosstab([df.date, df.team], df.author_name).reset_index().melt(id_vars=['date', 'team'], value_name='n_commits')\n",
    "t = t.sort_values(by=['team', 'author_name']).reset_index(drop=True)\n",
    "t = t.query('n_commits > 0')\n",
    "\n",
    "orders = {\n",
    "    'author_name': sum(\n",
    "        t.groupby('team').apply(lambda subset: subset.author_name.unique().tolist()).tolist(), []\n",
    "    ),\n",
    "    'date': sorted(t.date.unique()),\n",
    "}\n",
    "px.bar(t, y='n_commits', x='date', facet_col='author_name', facet_col_wrap=4, color='team', height=800, category_orders=orders)"
   ]
  },
  {
   "cell_type": "code",
   "execution_count": null,
   "id": "0d55456d",
   "metadata": {},
   "outputs": [],
   "source": [
    "df.groupby('author_name').outside_working_hours.mean().sort_values()"
   ]
  },
  {
   "cell_type": "code",
   "execution_count": null,
   "id": "c18506ab",
   "metadata": {},
   "outputs": [],
   "source": [
    "t = pd.crosstab(df.author_name, df.authored_at.dt.hour)\n",
    "t = pd.concat([t.transpose(), pd.Series(0, index=range(24), name='dummy')], axis=1)\n",
    "t = t.drop(columns='dummy').transpose()\n",
    "t = t.fillna(0).astype(int)\n",
    "t.style.background_gradient(cmap='Reds', axis=1)"
   ]
  },
  {
   "cell_type": "code",
   "execution_count": null,
   "id": "4bce381a",
   "metadata": {},
   "outputs": [],
   "source": [
    "df[['team', 'author_name', 'date']].value_counts().rename('n_commits').reset_index()"
   ]
  },
  {
   "cell_type": "code",
   "execution_count": null,
   "id": "ccc15787",
   "metadata": {},
   "outputs": [],
   "source": [
    "ctab = pd.crosstab(df.author_name, df.hour).apply(lambda row: row / row.sum(), axis=1)\n",
    "ctab.style.background_gradient(cmap='Blues', axis=1)"
   ]
  },
  {
   "cell_type": "code",
   "execution_count": null,
   "id": "2ee72960",
   "metadata": {},
   "outputs": [],
   "source": [
    "ctab = pd.crosstab(df.author_name, df.hour)\n",
    "ctab.style.highlight_max(axis=0)"
   ]
  },
  {
   "cell_type": "code",
   "execution_count": null,
   "id": "045d5b5b",
   "metadata": {},
   "outputs": [],
   "source": [
    "from jupyter_dash import JupyterDash\n",
    "from dash import dcc, html, Input, Output\n",
    "\n",
    "ctab = pd.crosstab(df.hour, df.date)\n",
    "fig = px.imshow(ctab, color_continuous_scale=['white', 'green'], title='All')\n",
    "\n",
    "app = JupyterDash('time_of_day_heatmap')\n",
    "app.layout = html.Div([\n",
    "    html.Pre(['Test'], id='debug'),\n",
    "    dcc.Dropdown(id='dropdown', options=df.team.unique().tolist() + ['All'], value='All'),\n",
    "    dcc.Graph(id='fig', figure=fig)\n",
    "])\n",
    "\n",
    "@app.callback(Output('debug', 'children'), Output('fig', 'figure'), Input('dropdown', 'value'))\n",
    "def onupdate(selected_team):\n",
    "    if selected_team == 'All':\n",
    "        subset = df.copy()\n",
    "    else:\n",
    "        subset = df.query('team == @selected_team')\n",
    "    ctab = pd.crosstab(subset.hour, subset.date)\n",
    "    ctab = fill_missing_days(ctab)\n",
    "    f = px.imshow(ctab, color_continuous_scale=['white', 'green'], title=selected_team)\n",
    "    return 'test', f\n",
    "\n",
    "\n",
    "app.run_server(mode='inline')"
   ]
  }
 ],
 "metadata": {
  "kernelspec": {
   "display_name": "Python 3 (ipykernel)",
   "language": "python",
   "name": "python3"
  },
  "language_info": {
   "codemirror_mode": {
    "name": "ipython",
    "version": 3
   },
   "file_extension": ".py",
   "mimetype": "text/x-python",
   "name": "python",
   "nbconvert_exporter": "python",
   "pygments_lexer": "ipython3",
   "version": "3.9.7"
  }
 },
 "nbformat": 4,
 "nbformat_minor": 5
}
