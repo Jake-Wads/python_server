{
 "cells": [
  {
   "cell_type": "code",
   "execution_count": 144,
   "metadata": {},
   "outputs": [],
   "source": [
    "import pandas as pd\n",
    "names = ['Joseph', 'Matthew', 'Dd','Jason','Eric','Steven','Nicole','Gary','Sandy','Chad',\n",
    "         'Stacy','Norrick','Michael','Risa','Sean','Jesse','Katie','Cody','Orion','Matt',\n",
    "         'Zach', 'Maggie']\n",
    "location = ['Texas', 'California', 'California', '', 'Greece', 'Texas', 'Texas', '', 'Texas', 'Illinois', '', 'Alaska',\n",
    "           'Texas', 'Texas', '', 'Texas','Texas', 'Kentucky', 'Texas', 'Texas','Texas','Texas']"
   ]
  },
  {
   "cell_type": "code",
   "execution_count": 145,
   "metadata": {},
   "outputs": [
    {
     "data": {
      "text/html": [
       "<div>\n",
       "<style scoped>\n",
       "    .dataframe tbody tr th:only-of-type {\n",
       "        vertical-align: middle;\n",
       "    }\n",
       "\n",
       "    .dataframe tbody tr th {\n",
       "        vertical-align: top;\n",
       "    }\n",
       "\n",
       "    .dataframe thead th {\n",
       "        text-align: right;\n",
       "    }\n",
       "</style>\n",
       "<table border=\"1\" class=\"dataframe\">\n",
       "  <thead>\n",
       "    <tr style=\"text-align: right;\">\n",
       "      <th></th>\n",
       "      <th>name</th>\n",
       "      <th>location</th>\n",
       "    </tr>\n",
       "  </thead>\n",
       "  <tbody>\n",
       "    <tr>\n",
       "      <th>0</th>\n",
       "      <td>Joseph</td>\n",
       "      <td>Texas</td>\n",
       "    </tr>\n",
       "    <tr>\n",
       "      <th>1</th>\n",
       "      <td>Matthew</td>\n",
       "      <td>California</td>\n",
       "    </tr>\n",
       "    <tr>\n",
       "      <th>2</th>\n",
       "      <td>Dd</td>\n",
       "      <td>California</td>\n",
       "    </tr>\n",
       "    <tr>\n",
       "      <th>3</th>\n",
       "      <td>Jason</td>\n",
       "      <td></td>\n",
       "    </tr>\n",
       "    <tr>\n",
       "      <th>4</th>\n",
       "      <td>Eric</td>\n",
       "      <td>Greece</td>\n",
       "    </tr>\n",
       "  </tbody>\n",
       "</table>\n",
       "</div>"
      ],
      "text/plain": [
       "      name    location\n",
       "0   Joseph       Texas\n",
       "1  Matthew  California\n",
       "2       Dd  California\n",
       "3    Jason            \n",
       "4     Eric      Greece"
      ]
     },
     "execution_count": 145,
     "metadata": {},
     "output_type": "execute_result"
    }
   ],
   "source": [
    "d = {'name': names, 'location': location}\n",
    "df = pd.DataFrame(data=d)\n",
    "df.head()"
   ]
  },
  {
   "cell_type": "code",
   "execution_count": 146,
   "metadata": {},
   "outputs": [
    {
     "data": {
      "text/plain": [
       "Texas         144\n",
       "               16\n",
       "California      4\n",
       "Alaska          1\n",
       "Greece          1\n",
       "Kentucky        1\n",
       "Illinois        1\n",
       "Name: location, dtype: int64"
      ]
     },
     "execution_count": 146,
     "metadata": {},
     "output_type": "execute_result"
    }
   ],
   "source": [
    "new_df.location.value_counts()"
   ]
  },
  {
   "cell_type": "code",
   "execution_count": 147,
   "metadata": {},
   "outputs": [],
   "source": [
    "d = {'location': ['Texas', 'California', 'Alaska', 'Greece', 'Kentucky', 'Illinois'], \n",
    "     'color': ['orange', 'green', 'yellow', 'purple', 'blue', 'red']}\n",
    "state_colors = pd.DataFrame(data=d)"
   ]
  },
  {
   "cell_type": "code",
   "execution_count": 148,
   "metadata": {},
   "outputs": [
    {
     "data": {
      "text/html": [
       "<div>\n",
       "<style scoped>\n",
       "    .dataframe tbody tr th:only-of-type {\n",
       "        vertical-align: middle;\n",
       "    }\n",
       "\n",
       "    .dataframe tbody tr th {\n",
       "        vertical-align: top;\n",
       "    }\n",
       "\n",
       "    .dataframe thead th {\n",
       "        text-align: right;\n",
       "    }\n",
       "</style>\n",
       "<table border=\"1\" class=\"dataframe\">\n",
       "  <thead>\n",
       "    <tr style=\"text-align: right;\">\n",
       "      <th></th>\n",
       "      <th>name_x</th>\n",
       "      <th>location</th>\n",
       "      <th>name_y</th>\n",
       "      <th>color</th>\n",
       "    </tr>\n",
       "  </thead>\n",
       "  <tbody>\n",
       "    <tr>\n",
       "      <th>0</th>\n",
       "      <td>Joseph</td>\n",
       "      <td>Texas</td>\n",
       "      <td>Joseph</td>\n",
       "      <td>orange</td>\n",
       "    </tr>\n",
       "    <tr>\n",
       "      <th>1</th>\n",
       "      <td>Joseph</td>\n",
       "      <td>Texas</td>\n",
       "      <td>Steven</td>\n",
       "      <td>orange</td>\n",
       "    </tr>\n",
       "    <tr>\n",
       "      <th>2</th>\n",
       "      <td>Joseph</td>\n",
       "      <td>Texas</td>\n",
       "      <td>Nicole</td>\n",
       "      <td>orange</td>\n",
       "    </tr>\n",
       "    <tr>\n",
       "      <th>3</th>\n",
       "      <td>Joseph</td>\n",
       "      <td>Texas</td>\n",
       "      <td>Sandy</td>\n",
       "      <td>orange</td>\n",
       "    </tr>\n",
       "    <tr>\n",
       "      <th>4</th>\n",
       "      <td>Joseph</td>\n",
       "      <td>Texas</td>\n",
       "      <td>Michael</td>\n",
       "      <td>orange</td>\n",
       "    </tr>\n",
       "  </tbody>\n",
       "</table>\n",
       "</div>"
      ],
      "text/plain": [
       "   name_x location   name_y   color\n",
       "0  Joseph    Texas   Joseph  orange\n",
       "1  Joseph    Texas   Steven  orange\n",
       "2  Joseph    Texas   Nicole  orange\n",
       "3  Joseph    Texas    Sandy  orange\n",
       "4  Joseph    Texas  Michael  orange"
      ]
     },
     "execution_count": 148,
     "metadata": {},
     "output_type": "execute_result"
    }
   ],
   "source": [
    "node_df = pd.merge(df, df, how='left', on='location')\n",
    "df = pd.merge(node_df, state_colors, how='left', on='location')\n",
    "df.head()"
   ]
  },
  {
   "cell_type": "code",
   "execution_count": 149,
   "metadata": {},
   "outputs": [
    {
     "data": {
      "text/plain": [
       "{'topic': 'GettingToKnowYou'}"
      ]
     },
     "execution_count": 149,
     "metadata": {},
     "output_type": "execute_result"
    }
   ],
   "source": [
    "import networkx as nx\n",
    "G=nx.Graph(topic=\"GettingToKnowYou\")\n",
    "G.graph"
   ]
  },
  {
   "cell_type": "code",
   "execution_count": 150,
   "metadata": {},
   "outputs": [],
   "source": [
    "node_a = df.name_x\n",
    "node_b = df.name_y\n",
    "location = df.location\n",
    "color = df.color"
   ]
  },
  {
   "cell_type": "code",
   "execution_count": 152,
   "metadata": {},
   "outputs": [
    {
     "data": {
      "text/plain": [
       "NodeDataView({'Joseph': {}, 'Matthew': {}, 'Dd': {}, 'Jason': {}, 'Eric': {}, 'Steven': {}, 'Nicole': {}, 'Gary': {}, 'Sandy': {}, 'Chad': {}, 'Stacy': {}, 'Norrick': {}, 'Michael': {}, 'Risa': {}, 'Sean': {}, 'Jesse': {}, 'Katie': {}, 'Cody': {}, 'Orion': {}, 'Matt': {}, 'Zach': {}, 'Maggie': {}})"
      ]
     },
     "execution_count": 152,
     "metadata": {},
     "output_type": "execute_result"
    }
   ],
   "source": [
    "G.add_nodes_from(names)\n",
    "G.nodes(data=True)"
   ]
  },
  {
   "cell_type": "code",
   "execution_count": 153,
   "metadata": {},
   "outputs": [
    {
     "data": {
      "text/plain": [
       "EdgeView([('Joseph', 'Joseph'), ('Joseph', 'Steven'), ('Joseph', 'Nicole'), ('Joseph', 'Sandy'), ('Joseph', 'Michael'), ('Joseph', 'Risa'), ('Joseph', 'Jesse'), ('Joseph', 'Katie'), ('Joseph', 'Orion'), ('Joseph', 'Matt'), ('Joseph', 'Zach'), ('Joseph', 'Maggie'), ('Matthew', 'Matthew'), ('Matthew', 'Dd'), ('Dd', 'Dd'), ('Jason', 'Jason'), ('Jason', 'Gary'), ('Jason', 'Stacy'), ('Jason', 'Sean'), ('Eric', 'Eric'), ('Steven', 'Steven'), ('Steven', 'Nicole'), ('Steven', 'Sandy'), ('Steven', 'Michael'), ('Steven', 'Risa'), ('Steven', 'Jesse'), ('Steven', 'Katie'), ('Steven', 'Orion'), ('Steven', 'Matt'), ('Steven', 'Zach'), ('Steven', 'Maggie'), ('Nicole', 'Nicole'), ('Nicole', 'Sandy'), ('Nicole', 'Michael'), ('Nicole', 'Risa'), ('Nicole', 'Jesse'), ('Nicole', 'Katie'), ('Nicole', 'Orion'), ('Nicole', 'Matt'), ('Nicole', 'Zach'), ('Nicole', 'Maggie'), ('Gary', 'Gary'), ('Gary', 'Stacy'), ('Gary', 'Sean'), ('Sandy', 'Sandy'), ('Sandy', 'Michael'), ('Sandy', 'Risa'), ('Sandy', 'Jesse'), ('Sandy', 'Katie'), ('Sandy', 'Orion'), ('Sandy', 'Matt'), ('Sandy', 'Zach'), ('Sandy', 'Maggie'), ('Chad', 'Chad'), ('Stacy', 'Stacy'), ('Stacy', 'Sean'), ('Norrick', 'Norrick'), ('Michael', 'Michael'), ('Michael', 'Risa'), ('Michael', 'Jesse'), ('Michael', 'Katie'), ('Michael', 'Orion'), ('Michael', 'Matt'), ('Michael', 'Zach'), ('Michael', 'Maggie'), ('Risa', 'Risa'), ('Risa', 'Jesse'), ('Risa', 'Katie'), ('Risa', 'Orion'), ('Risa', 'Matt'), ('Risa', 'Zach'), ('Risa', 'Maggie'), ('Sean', 'Sean'), ('Jesse', 'Jesse'), ('Jesse', 'Katie'), ('Jesse', 'Orion'), ('Jesse', 'Matt'), ('Jesse', 'Zach'), ('Jesse', 'Maggie'), ('Katie', 'Katie'), ('Katie', 'Orion'), ('Katie', 'Matt'), ('Katie', 'Zach'), ('Katie', 'Maggie'), ('Cody', 'Cody'), ('Orion', 'Orion'), ('Orion', 'Matt'), ('Orion', 'Zach'), ('Orion', 'Maggie'), ('Matt', 'Matt'), ('Matt', 'Zach'), ('Matt', 'Maggie'), ('Zach', 'Zach'), ('Zach', 'Maggie'), ('Maggie', 'Maggie')])"
      ]
     },
     "execution_count": 153,
     "metadata": {},
     "output_type": "execute_result"
    }
   ],
   "source": [
    "for i in range(len(node_a)):\n",
    "    G.add_edges_from([(node_a[i], node_b[i])], color=color[i])\n",
    "G.edges()"
   ]
  },
  {
   "cell_type": "code",
   "execution_count": 158,
   "metadata": {},
   "outputs": [
    {
     "data": {
      "text/plain": [
       "<networkx.classes.graph.Graph at 0xa23e7c208>"
      ]
     },
     "execution_count": 158,
     "metadata": {},
     "output_type": "execute_result"
    }
   ],
   "source": [
    "petersen = nx.petersen_graph(G)\n",
    "petersen"
   ]
  },
  {
   "cell_type": "code",
   "execution_count": 161,
   "metadata": {},
   "outputs": [
    {
     "name": "stderr",
     "output_type": "stream",
     "text": [
      "/Users/maggiegiust/anaconda3/lib/python3.6/site-packages/networkx/drawing/nx_pylab.py:611: MatplotlibDeprecationWarning: isinstance(..., numbers.Number)\n",
      "  if cb.is_numlike(alpha):\n"
     ]
    },
    {
     "data": {
      "text/plain": [
       "<matplotlib.axes._subplots.AxesSubplot at 0xa242e62b0>"
      ]
     },
     "execution_count": 161,
     "metadata": {},
     "output_type": "execute_result"
    },
    {
     "data": {
      "image/png": "[encoded data removed]",
      "text/plain": [
       "<Figure size 432x288 with 2 Axes>"
      ]
     },
     "metadata": {},
     "output_type": "display_data"
    }
   ],
   "source": [
    "G = nx.petersen_graph(G)\n",
    "import matplotlib.pyplot as plt\n",
    "plt.subplot(121)\n",
    "nx.draw(G, with_labels=True) # , font_weight='bold')\n",
    "plt.subplot(122)"
   ]
  },
  {
   "cell_type": "code",
   "execution_count": 160,
   "metadata": {},
   "outputs": [
    {
     "ename": "ValueError",
     "evalue": "edge_color must be a color or list of one color per edge",
     "output_type": "error",
     "traceback": [
      "\u001b[0;31m---------------------------------------------------------------------------\u001b[0m",
      "\u001b[0;31mValueError\u001b[0m                                Traceback (most recent call last)",
      "\u001b[0;32m<ipython-input-160-9590ee82aeaa>\u001b[0m in \u001b[0;36m<module>\u001b[0;34m()\u001b[0m\n\u001b[1;32m      5\u001b[0m \u001b[0mcolors\u001b[0m \u001b[0;34m=\u001b[0m \u001b[0mcolor\u001b[0m\u001b[0;34m\u001b[0m\u001b[0m\n\u001b[1;32m      6\u001b[0m nx.draw(G, pos, node_color='#A0CBE2', edge_color=color,\n\u001b[0;32m----> 7\u001b[0;31m         width=4, edge_cmap=plt.cm.Blues, with_labels=False)\n\u001b[0m\u001b[1;32m      8\u001b[0m \u001b[0mplt\u001b[0m\u001b[0;34m.\u001b[0m\u001b[0mshow\u001b[0m\u001b[0;34m(\u001b[0m\u001b[0;34m)\u001b[0m\u001b[0;34m\u001b[0m\u001b[0m\n",
      "\u001b[0;32m~/anaconda3/lib/python3.6/site-packages/networkx/drawing/nx_pylab.py\u001b[0m in \u001b[0;36mdraw\u001b[0;34m(G, pos, ax, **kwds)\u001b[0m\n\u001b[1;32m    124\u001b[0m \u001b[0;34m\u001b[0m\u001b[0m\n\u001b[1;32m    125\u001b[0m     \u001b[0;32mtry\u001b[0m\u001b[0;34m:\u001b[0m\u001b[0;34m\u001b[0m\u001b[0m\n\u001b[0;32m--> 126\u001b[0;31m         \u001b[0mdraw_networkx\u001b[0m\u001b[0;34m(\u001b[0m\u001b[0mG\u001b[0m\u001b[0;34m,\u001b[0m \u001b[0mpos\u001b[0m\u001b[0;34m=\u001b[0m\u001b[0mpos\u001b[0m\u001b[0;34m,\u001b[0m \u001b[0max\u001b[0m\u001b[0;34m=\u001b[0m\u001b[0max\u001b[0m\u001b[0;34m,\u001b[0m \u001b[0;34m**\u001b[0m\u001b[0mkwds\u001b[0m\u001b[0;34m)\u001b[0m\u001b[0;34m\u001b[0m\u001b[0m\n\u001b[0m\u001b[1;32m    127\u001b[0m         \u001b[0max\u001b[0m\u001b[0;34m.\u001b[0m\u001b[0mset_axis_off\u001b[0m\u001b[0;34m(\u001b[0m\u001b[0;34m)\u001b[0m\u001b[0;34m\u001b[0m\u001b[0m\n\u001b[1;32m    128\u001b[0m         \u001b[0mplt\u001b[0m\u001b[0;34m.\u001b[0m\u001b[0mdraw_if_interactive\u001b[0m\u001b[0;34m(\u001b[0m\u001b[0;34m)\u001b[0m\u001b[0;34m\u001b[0m\u001b[0m\n",
      "\u001b[0;32m~/anaconda3/lib/python3.6/site-packages/networkx/drawing/nx_pylab.py\u001b[0m in \u001b[0;36mdraw_networkx\u001b[0;34m(G, pos, arrows, with_labels, **kwds)\u001b[0m\n\u001b[1;32m    276\u001b[0m \u001b[0;34m\u001b[0m\u001b[0m\n\u001b[1;32m    277\u001b[0m     \u001b[0mnode_collection\u001b[0m \u001b[0;34m=\u001b[0m \u001b[0mdraw_networkx_nodes\u001b[0m\u001b[0;34m(\u001b[0m\u001b[0mG\u001b[0m\u001b[0;34m,\u001b[0m \u001b[0mpos\u001b[0m\u001b[0;34m,\u001b[0m \u001b[0;34m**\u001b[0m\u001b[0mkwds\u001b[0m\u001b[0;34m)\u001b[0m\u001b[0;34m\u001b[0m\u001b[0m\n\u001b[0;32m--> 278\u001b[0;31m     \u001b[0medge_collection\u001b[0m \u001b[0;34m=\u001b[0m \u001b[0mdraw_networkx_edges\u001b[0m\u001b[0;34m(\u001b[0m\u001b[0mG\u001b[0m\u001b[0;34m,\u001b[0m \u001b[0mpos\u001b[0m\u001b[0;34m,\u001b[0m \u001b[0marrows\u001b[0m\u001b[0;34m=\u001b[0m\u001b[0marrows\u001b[0m\u001b[0;34m,\u001b[0m \u001b[0;34m**\u001b[0m\u001b[0mkwds\u001b[0m\u001b[0;34m)\u001b[0m\u001b[0;34m\u001b[0m\u001b[0m\n\u001b[0m\u001b[1;32m    279\u001b[0m     \u001b[0;32mif\u001b[0m \u001b[0mwith_labels\u001b[0m\u001b[0;34m:\u001b[0m\u001b[0;34m\u001b[0m\u001b[0m\n\u001b[1;32m    280\u001b[0m         \u001b[0mdraw_networkx_labels\u001b[0m\u001b[0;34m(\u001b[0m\u001b[0mG\u001b[0m\u001b[0;34m,\u001b[0m \u001b[0mpos\u001b[0m\u001b[0;34m,\u001b[0m \u001b[0;34m**\u001b[0m\u001b[0mkwds\u001b[0m\u001b[0;34m)\u001b[0m\u001b[0;34m\u001b[0m\u001b[0m\n",
      "\u001b[0;32m~/anaconda3/lib/python3.6/site-packages/networkx/drawing/nx_pylab.py\u001b[0m in \u001b[0;36mdraw_networkx_edges\u001b[0;34m(G, pos, edgelist, width, edge_color, style, alpha, arrowstyle, arrowsize, edge_cmap, edge_vmin, edge_vmax, ax, arrows, label, node_size, nodelist, node_shape, **kwds)\u001b[0m\n\u001b[1;32m    589\u001b[0m         \u001b[0;32melse\u001b[0m\u001b[0;34m:\u001b[0m\u001b[0;34m\u001b[0m\u001b[0m\n\u001b[1;32m    590\u001b[0m             \u001b[0mmsg\u001b[0m \u001b[0;34m=\u001b[0m \u001b[0;34m'edge_color must be a color or list of one color per edge'\u001b[0m\u001b[0;34m\u001b[0m\u001b[0m\n\u001b[0;32m--> 591\u001b[0;31m             \u001b[0;32mraise\u001b[0m \u001b[0mValueError\u001b[0m\u001b[0;34m(\u001b[0m\u001b[0mmsg\u001b[0m\u001b[0;34m)\u001b[0m\u001b[0;34m\u001b[0m\u001b[0m\n\u001b[0m\u001b[1;32m    592\u001b[0m \u001b[0;34m\u001b[0m\u001b[0m\n\u001b[1;32m    593\u001b[0m     \u001b[0;32mif\u001b[0m \u001b[0;34m(\u001b[0m\u001b[0;32mnot\u001b[0m \u001b[0mG\u001b[0m\u001b[0;34m.\u001b[0m\u001b[0mis_directed\u001b[0m\u001b[0;34m(\u001b[0m\u001b[0;34m)\u001b[0m \u001b[0;32mor\u001b[0m \u001b[0;32mnot\u001b[0m \u001b[0marrows\u001b[0m\u001b[0;34m)\u001b[0m\u001b[0;34m:\u001b[0m\u001b[0;34m\u001b[0m\u001b[0m\n",
      "\u001b[0;31mValueError\u001b[0m: edge_color must be a color or list of one color per edge"
     ]
    },
    {
     "data": {
      "image/png": "[encoded data removed]",
      "text/plain": [
       "<Figure size 432x288 with 1 Axes>"
      ]
     },
     "metadata": {},
     "output_type": "display_data"
    }
   ],
   "source": [
    "import matplotlib.pyplot as plt\n",
    "import networkx as nx\n",
    "\n",
    "pos = nx.spring_layout(G)\n",
    "colors = color\n",
    "nx.draw(G, pos, node_color='#A0CBE2', edge_color=color,\n",
    "        width=4, edge_cmap=plt.cm.Blues, with_labels=False)\n",
    "plt.show()"
   ]
  },
  {
   "cell_type": "code",
   "execution_count": 157,
   "metadata": {},
   "outputs": [
    {
     "ename": "AttributeError",
     "evalue": "module 'networkx' has no attribute 'from_pandas_dataframe'",
     "output_type": "error",
     "traceback": [
      "\u001b[0;31m---------------------------------------------------------------------------\u001b[0m",
      "\u001b[0;31mAttributeError\u001b[0m                            Traceback (most recent call last)",
      "\u001b[0;32m<ipython-input-157-812790d1f3fa>\u001b[0m in \u001b[0;36m<module>\u001b[0;34m()\u001b[0m\n\u001b[1;32m      9\u001b[0m \u001b[0;34m\u001b[0m\u001b[0m\n\u001b[1;32m     10\u001b[0m \u001b[0;31m# Build your graph\u001b[0m\u001b[0;34m\u001b[0m\u001b[0;34m\u001b[0m\u001b[0m\n\u001b[0;32m---> 11\u001b[0;31m \u001b[0mG\u001b[0m\u001b[0;34m=\u001b[0m\u001b[0mnx\u001b[0m\u001b[0;34m.\u001b[0m\u001b[0mfrom_pandas_dataframe\u001b[0m\u001b[0;34m(\u001b[0m\u001b[0mdf\u001b[0m\u001b[0;34m,\u001b[0m \u001b[0;34m'from'\u001b[0m\u001b[0;34m,\u001b[0m \u001b[0;34m'to'\u001b[0m\u001b[0;34m)\u001b[0m\u001b[0;34m\u001b[0m\u001b[0m\n\u001b[0m\u001b[1;32m     12\u001b[0m \u001b[0;34m\u001b[0m\u001b[0m\n\u001b[1;32m     13\u001b[0m \u001b[0;31m# Plot it\u001b[0m\u001b[0;34m\u001b[0m\u001b[0;34m\u001b[0m\u001b[0m\n",
      "\u001b[0;31mAttributeError\u001b[0m: module 'networkx' has no attribute 'from_pandas_dataframe'"
     ]
    }
   ],
   "source": [
    "import pandas as pd\n",
    "import numpy as np\n",
    "import networkx as nx\n",
    "import matplotlib.pyplot as plt\n",
    " \n",
    "# Build a dataframe with 4 connections\n",
    "df = pd.DataFrame({ 'from':['A', 'B', 'C','A'], 'to':['D', 'A', 'E','C']})\n",
    "df\n",
    " \n",
    "# Build your graph\n",
    "G = nx.from_pandas_dataframe(df, 'from', 'to')\n",
    " \n",
    "# Plot it\n",
    "nx.draw(G, with_labels=True)\n",
    "plt.show()\n"
   ]
  },
  {
   "cell_type": "code",
   "execution_count": null,
   "metadata": {},
   "outputs": [],
   "source": [
    "G.add_edges_from([()])"
   ]
  },
  {
   "cell_type": "code",
   "execution_count": 39,
   "metadata": {},
   "outputs": [
    {
     "name": "stdout",
     "output_type": "stream",
     "text": [
      "[('Joseph', 'Matthew'), ('Joseph', 'Dd'), ('Joseph', 'Jason'), ('Joseph', 'Eric'), ('Joseph', 'Steven'), ('Joseph', 'Nicole'), ('Joseph', 'Gary'), ('Joseph', 'Sandy'), ('Joseph', 'Chad'), ('Joseph', 'Stacy'), ('Joseph', 'Norrick'), ('Joseph', 'Michael'), ('Joseph', 'Risa'), ('Joseph', 'Sean'), ('Joseph', 'Jesse'), ('Joseph', 'Katie'), ('Joseph', 'Cody'), ('Joseph', 'Orion'), ('Joseph', 'Matt'), ('Joseph', 'Zach'), ('Joseph', 'Maggie'), ('Matthew', 'Dd'), ('Matthew', 'Jason'), ('Matthew', 'Eric'), ('Matthew', 'Steven'), ('Matthew', 'Nicole'), ('Matthew', 'Gary'), ('Matthew', 'Sandy'), ('Matthew', 'Chad'), ('Matthew', 'Stacy'), ('Matthew', 'Norrick'), ('Matthew', 'Michael'), ('Matthew', 'Risa'), ('Matthew', 'Sean'), ('Matthew', 'Jesse'), ('Matthew', 'Katie'), ('Matthew', 'Cody'), ('Matthew', 'Orion'), ('Matthew', 'Matt'), ('Matthew', 'Zach'), ('Matthew', 'Maggie'), ('Dd', 'Jason'), ('Dd', 'Eric'), ('Dd', 'Steven'), ('Dd', 'Nicole'), ('Dd', 'Gary'), ('Dd', 'Sandy'), ('Dd', 'Chad'), ('Dd', 'Stacy'), ('Dd', 'Norrick'), ('Dd', 'Michael'), ('Dd', 'Risa'), ('Dd', 'Sean'), ('Dd', 'Jesse'), ('Dd', 'Katie'), ('Dd', 'Cody'), ('Dd', 'Orion'), ('Dd', 'Matt'), ('Dd', 'Zach'), ('Dd', 'Maggie'), ('Jason', 'Eric'), ('Jason', 'Steven'), ('Jason', 'Nicole'), ('Jason', 'Gary'), ('Jason', 'Sandy'), ('Jason', 'Chad'), ('Jason', 'Stacy'), ('Jason', 'Norrick'), ('Jason', 'Michael'), ('Jason', 'Risa'), ('Jason', 'Sean'), ('Jason', 'Jesse'), ('Jason', 'Katie'), ('Jason', 'Cody'), ('Jason', 'Orion'), ('Jason', 'Matt'), ('Jason', 'Zach'), ('Jason', 'Maggie'), ('Eric', 'Steven'), ('Eric', 'Nicole'), ('Eric', 'Gary'), ('Eric', 'Sandy'), ('Eric', 'Chad'), ('Eric', 'Stacy'), ('Eric', 'Norrick'), ('Eric', 'Michael'), ('Eric', 'Risa'), ('Eric', 'Sean'), ('Eric', 'Jesse'), ('Eric', 'Katie'), ('Eric', 'Cody'), ('Eric', 'Orion'), ('Eric', 'Matt'), ('Eric', 'Zach'), ('Eric', 'Maggie'), ('Steven', 'Nicole'), ('Steven', 'Gary'), ('Steven', 'Sandy'), ('Steven', 'Chad'), ('Steven', 'Stacy'), ('Steven', 'Norrick'), ('Steven', 'Michael'), ('Steven', 'Risa'), ('Steven', 'Sean'), ('Steven', 'Jesse'), ('Steven', 'Katie'), ('Steven', 'Cody'), ('Steven', 'Orion'), ('Steven', 'Matt'), ('Steven', 'Zach'), ('Steven', 'Maggie'), ('Nicole', 'Gary'), ('Nicole', 'Sandy'), ('Nicole', 'Chad'), ('Nicole', 'Stacy'), ('Nicole', 'Norrick'), ('Nicole', 'Michael'), ('Nicole', 'Risa'), ('Nicole', 'Sean'), ('Nicole', 'Jesse'), ('Nicole', 'Katie'), ('Nicole', 'Cody'), ('Nicole', 'Orion'), ('Nicole', 'Matt'), ('Nicole', 'Zach'), ('Nicole', 'Maggie'), ('Gary', 'Sandy'), ('Gary', 'Chad'), ('Gary', 'Stacy'), ('Gary', 'Norrick'), ('Gary', 'Michael'), ('Gary', 'Risa'), ('Gary', 'Sean'), ('Gary', 'Jesse'), ('Gary', 'Katie'), ('Gary', 'Cody'), ('Gary', 'Orion'), ('Gary', 'Matt'), ('Gary', 'Zach'), ('Gary', 'Maggie'), ('Sandy', 'Chad'), ('Sandy', 'Stacy'), ('Sandy', 'Norrick'), ('Sandy', 'Michael'), ('Sandy', 'Risa'), ('Sandy', 'Sean'), ('Sandy', 'Jesse'), ('Sandy', 'Katie'), ('Sandy', 'Cody'), ('Sandy', 'Orion'), ('Sandy', 'Matt'), ('Sandy', 'Zach'), ('Sandy', 'Maggie'), ('Chad', 'Stacy'), ('Chad', 'Norrick'), ('Chad', 'Michael'), ('Chad', 'Risa'), ('Chad', 'Sean'), ('Chad', 'Jesse'), ('Chad', 'Katie'), ('Chad', 'Cody'), ('Chad', 'Orion'), ('Chad', 'Matt'), ('Chad', 'Zach'), ('Chad', 'Maggie'), ('Stacy', 'Norrick'), ('Stacy', 'Michael'), ('Stacy', 'Risa'), ('Stacy', 'Sean'), ('Stacy', 'Jesse'), ('Stacy', 'Katie'), ('Stacy', 'Cody'), ('Stacy', 'Orion'), ('Stacy', 'Matt'), ('Stacy', 'Zach'), ('Stacy', 'Maggie'), ('Norrick', 'Michael'), ('Norrick', 'Risa'), ('Norrick', 'Sean'), ('Norrick', 'Jesse'), ('Norrick', 'Katie'), ('Norrick', 'Cody'), ('Norrick', 'Orion'), ('Norrick', 'Matt'), ('Norrick', 'Zach'), ('Norrick', 'Maggie'), ('Michael', 'Risa'), ('Michael', 'Sean'), ('Michael', 'Jesse'), ('Michael', 'Katie'), ('Michael', 'Cody'), ('Michael', 'Orion'), ('Michael', 'Matt'), ('Michael', 'Zach'), ('Michael', 'Maggie'), ('Risa', 'Sean'), ('Risa', 'Jesse'), ('Risa', 'Katie'), ('Risa', 'Cody'), ('Risa', 'Orion'), ('Risa', 'Matt'), ('Risa', 'Zach'), ('Risa', 'Maggie'), ('Sean', 'Jesse'), ('Sean', 'Katie'), ('Sean', 'Cody'), ('Sean', 'Orion'), ('Sean', 'Matt'), ('Sean', 'Zach'), ('Sean', 'Maggie'), ('Jesse', 'Katie'), ('Jesse', 'Cody'), ('Jesse', 'Orion'), ('Jesse', 'Matt'), ('Jesse', 'Zach'), ('Jesse', 'Maggie'), ('Katie', 'Cody'), ('Katie', 'Orion'), ('Katie', 'Matt'), ('Katie', 'Zach'), ('Katie', 'Maggie'), ('Cody', 'Orion'), ('Cody', 'Matt'), ('Cody', 'Zach'), ('Cody', 'Maggie'), ('Orion', 'Matt'), ('Orion', 'Zach'), ('Orion', 'Maggie'), ('Matt', 'Zach'), ('Matt', 'Maggie'), ('Zach', 'Maggie')]\n"
     ]
    }
   ],
   "source": [
    "for node_r, attributes in G.nodes(data=True):\n",
    "    key_set = set(attributes.keys())\n",
    "    G.add_edges_from([(node_r, node) for node, attributes in G.nodes(data=True)\n",
    "                      if key_set.intersection(set(attributes.keys()))\n",
    "                      and node != node_r])-\n",
    "\n",
    "print(G.edges())"
   ]
  },
  {
   "cell_type": "code",
   "execution_count": 7,
   "metadata": {},
   "outputs": [
    {
     "data": {
      "text/plain": [
       "<networkx.classes.graph.Graph at 0xa20b4b400>"
      ]
     },
     "execution_count": 7,
     "metadata": {},
     "output_type": "execute_result"
    }
   ],
   "source": [
    "G.add_edges_from([(1,2),(1,3),(1,4),(3,4)])\n",
    "G"
   ]
  },
  {
   "cell_type": "code",
   "execution_count": 14,
   "metadata": {},
   "outputs": [
    {
     "data": {
      "text/plain": [
       "NodeDataView({'Joseph': {}, 'Matthew': {}, 'Ednalyn': {}, 'Jason': {}, 'Eric': {}, 'Steven': {}, 'Nicole': {}, 'Gary': {}, 'Sandy': {}, 'Chad': {}, 'Stacy': {}, 'Norrick': {}, 'Michael': {}, 'Risa': {}, 'Sean': {}, 'Jessica': {}, 'Kathryn': {}, 'Cody': {}, 'Orion': {}})"
      ]
     },
     "execution_count": 14,
     "metadata": {},
     "output_type": "execute_result"
    }
   ],
   "source": [
    "G.nodes(data=True)"
   ]
  },
  {
   "cell_type": "code",
   "execution_count": 9,
   "metadata": {},
   "outputs": [
    {
     "data": {
      "text/plain": [
       "NodeDataView({1: {'attribute': 'value'}, 2: {}, 3: {}, 4: {}})"
      ]
     },
     "execution_count": 9,
     "metadata": {},
     "output_type": "execute_result"
    }
   ],
   "source": [
    "G.node[1]['attribute']='value'\n",
    "G.nodes(data=True)"
   ]
  },
  {
   "cell_type": "code",
   "execution_count": 10,
   "metadata": {},
   "outputs": [],
   "source": [
    "nx.write_graphml(G,'so.graphml')"
   ]
  },
  {
   "cell_type": "markdown",
   "metadata": {},
   "source": [
    "Name\n",
    "Where are you from\n",
    "What was the last movie you've seen in theateres?\n",
    "How do you spend your free time?\n",
    "What was the last book you read?\n",
    "What's an interesting fact about yourself\n",
    "\n",
    "Dd\n",
    "military\n",
    "san diego, california\n",
    "Replica\n",
    "gets bored easily\n",
    "\n",
    "stacy johnson\n",
    "teacher\n",
    "aquaman\n",
    "\n",
    "\n",
    "eric\n",
    "meg (shark movie?)\n",
    "2 year old daughter\n",
    "last book data structure\n",
    "born in greece\n",
    "\n",
    "jason dunn\n",
    "military netsec\n",
    "duaghter plays soccer\n",
    "network + last book\n",
    "5 years ago son took first cohort\n",
    "\n",
    "nicole\n",
    "from dallas\n",
    "last movie mary poppins returns\n",
    "netflix binges:  stranger things\n",
    "winter of our discontent last book\n",
    "\n",
    "steven:\n",
    "from san antonio\n",
    "last movie: glass\n",
    "play video games\n",
    "aragon last book read\n",
    "likes cheese:  pepper jack\n",
    "\n",
    "joseph\n",
    "utsa alumnae\n",
    "business\n",
    "from ira ann, texas\n",
    "2 kids\n",
    "last movie hotel transylvania 3\n",
    "last book digital fortress\n",
    "college track\n",
    "\n",
    "matthew (goes by matthew)\n",
    "utsa alum\n",
    "born outside of LA\n",
    "degree in math\n",
    "last movie was the favorite\n",
    "loves music: underground heavy metal\n",
    "book: cabin at the end of the world\n",
    "\n",
    "orion\n",
    "from austin\n",
    "last movie incredibles 3\n",
    "last boook: 12 rules for life, jordan petterson\n",
    "played world of warcraft competitively\n",
    "\n",
    "matt\n",
    "from SA\n",
    "last movie: a dog's way home\n",
    "play video games\n",
    "hikes\n",
    "last book: investmetn book\n",
    "was pursing career to be a vet\n",
    "\n",
    "sean\n",
    "10 years in africa (healthcare) returned in 2016\n",
    "was in peace corp before\n",
    "last movie: widows\n",
    "rode bike to codeup\n",
    "\n",
    "gary\n",
    "father\n",
    "modeling for petroleum resevioirs\n",
    "had own business adn sold it\n",
    "likes drumming\n",
    "last movie:  the meg\n",
    "cabin in idaho\n",
    "rock climbing\n",
    "\n",
    "\n",
    "cody\n",
    "born in kentucky, grew up in south dakota\n",
    "army\n",
    "dragon balsy movie\n",
    "learns about history\n",
    "book on fascism last book\n",
    "has aspergers\n",
    "i can go the distance\n",
    "favorite color purple\n",
    "\n",
    "katie salts\n",
    "from SA\n",
    "last movie: spiderman\n",
    "netflix: free time\n",
    "last book: to all the boys i've loved before\n",
    "allergic to pineapple\n",
    "\n",
    "sandy graham\n",
    "5th gen texan\n",
    "tx a&m\n",
    "taught math and cs in HS\n",
    "it & programming at UTSA\n",
    "homeschooling for years\n",
    "\n",
    "chad\n",
    "born in illinois\n",
    "lived in SA most of life\n",
    "worked at the pentagon\n",
    "college western illinios degree in journalism\n",
    "military\n",
    "MBA\n",
    "last book: stromboli pizza \n",
    "\n",
    "risa\n",
    "from SA\n",
    "utsa: fine arts\n",
    "last movie: spiderman\n",
    "t-shirt printer, linux admin\n",
    "\n",
    "jesse\n",
    "from SA\n",
    "sherlock holmes: last movie\n",
    "artist animals and abstract\n",
    "adjunct at trinity\n",
    "3 books: doing data science, headstrong, pablo escobar\n",
    "\n",
    "norrick\n",
    "from ancorage, alaska\n",
    "trombone, guitar\n",
    "worked in IT\n",
    "just moved here\n",
    "\n",
    "michael\n",
    "lawyer\n",
    "loved coding and wanted to make it a career\n",
    "from SA\n",
    "free time: beer\n"
   ]
  },
  {
   "cell_type": "code",
   "execution_count": null,
   "metadata": {},
   "outputs": [],
   "source": []
  }
 ],
 "metadata": {
  "kernelspec": {
   "display_name": "Python 3",
   "language": "python",
   "name": "python3"
  },
  "language_info": {
   "codemirror_mode": {
    "name": "ipython",
    "version": 3
   },
   "file_extension": ".py",
   "mimetype": "text/x-python",
   "name": "python",
   "nbconvert_exporter": "python",
   "pygments_lexer": "ipython3",
   "version": "3.7.1"
  }
 },
 "nbformat": 4,
 "nbformat_minor": 2
}
