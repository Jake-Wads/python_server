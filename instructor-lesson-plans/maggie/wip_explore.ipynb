{
 "cells": [
  {
   "cell_type": "markdown",
   "metadata": {},
   "source": [
    "### Interaction of Categorical with Quantitative Features\n",
    "\n",
    "**Goal:**\n",
    "Explore the interaction of each categorical feature with each quantitative feature. \n",
    "Ideally, I would like to make this process as repeatable as process, given I will likely want to do this with every project. So, given a list of quant vars and a list of categorical vars, I want to be able to plot each categorical var by each quant var. That sounds complicated! How do I get there? \n",
    "\n",
    "Take it one small step at a time. \n",
    "\n",
    "1. Create one plot with a single categorical variable (x) and a single quantitative variable (y)\n",
    "\n",
    "2. Loop through each categorical variable to create a plot of each with a given a single quantitative variable. \n",
    "\n",
    "3. Add an external loop: loop through each quantitative variable, which will be plotted with each categorical variable. \n",
    "\n",
    "4. *optional:* Account for too many categorical variables to fit on a single row. \n",
    "\n",
    "I already have lists: `cat_vars`, `quant_vars`. "
   ]
  },
  {
   "cell_type": "code",
   "execution_count": null,
   "metadata": {},
   "outputs": [],
   "source": [
    "print(cat_vars)\n",
    "\n",
    "\n",
    "print(quant_vars)"
   ]
  },
  {
   "cell_type": "markdown",
   "metadata": {},
   "source": [
    "So let's start with step 1, a single plot. I will take the first item of each list as my variables to plot. "
   ]
  },
  {
   "cell_type": "code",
   "execution_count": null,
   "metadata": {},
   "outputs": [],
   "source": [
    "cat = cat_vars[0]\n",
    "quant = quant_vars[0]"
   ]
  },
  {
   "cell_type": "code",
   "execution_count": null,
   "metadata": {},
   "outputs": [],
   "source": [
    "# 1. Create one plot with a single categorical variable (x) and \n",
    "# a single quantitative variable (y)\n",
    "\n",
    "plt.figure(figsize=(4,3))\n",
    "sns.swarmplot(x=cat, y=quant, data=train, color='lightseagreen')\n",
    "plt.show()"
   ]
  },
  {
   "cell_type": "markdown",
   "metadata": {},
   "source": [
    "Step 2: Loop through each categorical variable to create a plot of each with a given a single quantitative variable. I will use the same quant variable, quant[0] = 'age'. \n",
    "\n",
    "The number of columns will be the number of categorical variables. *NOTE: if the number of categorical variables gets much higher than a handful, we will need to adjust this to create multiple rows.*"
   ]
  },
  {
   "cell_type": "code",
   "execution_count": null,
   "metadata": {},
   "outputs": [],
   "source": [
    "quant = quant_vars[0]\n",
    "\n",
    "# one column per categorical variable, so get number of cat_vars\n",
    "cols = len(cat_vars)\n",
    "_, ax = plt.subplots(nrows=1, ncols=cols, figsize=(16, 4), sharey=False)\n",
    "\n",
    "# loop through each embark_ variable and create a swarmplot with pclass as the x-axis \n",
    "for i, cat in enumerate(cat_vars):\n",
    "    sns.swarmplot(cat, quant, data=train, ax=ax[i], color='lightseagreen')\n",
    "    ax[i].set_xlabel(cat)\n",
    "    ax[i].set_ylabel(quant)\n",
    "    ax[i].set_title(cat)    "
   ]
  },
  {
   "cell_type": "markdown",
   "metadata": {},
   "source": [
    "3. Add an external loop: loop through each quantitative variable, which will be plotted with each categorical variable. "
   ]
  },
  {
   "cell_type": "code",
   "execution_count": null,
   "metadata": {},
   "outputs": [],
   "source": [
    "\n",
    "# one row per quant var, so we will plot after each run through the outer looop\n",
    "# one column per categorical variable, so get number of cat_vars\n",
    "cols = len(cat_vars)\n",
    "\n",
    "for quant in quant_vars:\n",
    "    _, ax = plt.subplots(nrows=1, ncols=cols, figsize=(16, 4), sharey=False)\n",
    "    for i, cat in enumerate(cat_vars):\n",
    "        sns.swarmplot(cat, quant, data=train, ax=ax[i], color='lightseagreen')\n",
    "        ax[i].set_xlabel('')\n",
    "        ax[i].set_ylabel(quant)\n",
    "        ax[i].set_title(cat)\n",
    "    plt.show()"
   ]
  },
  {
   "cell_type": "code",
   "execution_count": null,
   "metadata": {},
   "outputs": [],
   "source": []
  },
  {
   "cell_type": "markdown",
   "metadata": {},
   "source": [
    "**A little bonus learning**\n",
    "\n",
    "*optional:* Account for too many categorical variables to fit on a single row. \n",
    "\n",
    "Remember in 6th(?) grade math when you were given a table and needed to observe the patterns and come up with the next items? And then in 7th grade(?) you had to come up with the formula that would take in the 'x' and produce the 'y' given that table? Or maybe you just remember the term, \"Systems of Equations\". Well, here is a direct use case of systems of equations in \"real life\". \n",
    "\n",
    "The number of columns will be the number of categorical variables, but if the number of categorical variables gets much higher than a handful, we will want to adjust this to create multiple rows.\n",
    "\n",
    "So, let's say the max in one row is 5. So the max cols will be 5. \n",
    "that means if the number of categorical variables is > 5, we will want to add another row. Let's think through some scenarios to get the patterns:\n",
    "\n",
    "\n",
    "| vars | cols | rows | \n",
    "|------|------|------|\n",
    "| 1    | 1    | 1    |\n",
    "| 5    | 5    | 1    |\n",
    "| 7    | 5    | 2    |\n",
    "| 10   | 5    | 2    |\n",
    "| 12   | 5    | 3    |\n",
    "\n",
    "\n",
    "- cols-formula: min(vars,5) \n",
    "- rows-formula: ceiling(vars/5)\n",
    "\n",
    "| vars | cols-forumla       | rows-formula     | \n",
    "|------|--------------------|------------------|\n",
    "| 1    | min(vars,5) = 1    | ceil(vars/5) = 1 |\n",
    "| 5    | min(vars,5) = 5    | ceil(vars/5) = 1 |\n",
    "| 7    | min(vars,5) = 5    | ceil(vars/5) = 2 |\n",
    "| 10   | min(vars,5) = 5    | ceil(vars/5) = 2 |\n",
    "| 12   | min(vars,5) = 5    | ceil(vars/5) = 3 |\n"
   ]
  },
  {
   "cell_type": "code",
   "execution_count": null,
   "metadata": {},
   "outputs": [],
   "source": [
    "# one row per quant var, so we will plot after each run through the outer looop\n",
    "# one column per categorical variable, so get number of cat_vars\n",
    "import math\n",
    "\n",
    "cols = min(len(cat_vars), 5)\n",
    "rows = math.ceil(len(cat_vars)/5)\n",
    "\n",
    "rows, cols"
   ]
  },
  {
   "cell_type": "code",
   "execution_count": null,
   "metadata": {},
   "outputs": [],
   "source": [
    "# For each quant variable, create number of rows and cols indicated above, plotting each \n",
    "# categorical variable. \n",
    "# show the plots then go to the next quant variable. \n",
    "\n",
    "for quant in quant_vars:\n",
    "    _, ax = plt.subplots(nrows=rows, ncols=cols, figsize=(16, 4), sharey=False)\n",
    "    for i, cat in enumerate(cat_vars):\n",
    "        sns.swarmplot(cat, quant, data=train, ax=ax[i], color='lightseagreen')\n",
    "        ax[i].set_xlabel('')\n",
    "        ax[i].set_ylabel(quant)\n",
    "        ax[i].set_title(cat)\n",
    "    plt.show()"
   ]
  },
  {
   "cell_type": "markdown",
   "metadata": {},
   "source": [
    "**Takeaways**\n",
    "\n",
    "One thing we could do to remove the interdependence, is normalize the fare within each class. In other words, does that fact that a passenger who paid top price within first class matter? Does that passenger have a higher change of survival than the passenger who paid the lowest rate in third class? \n",
    "\n",
    "I will not act on this right now, but I want to document it for later. "
   ]
  },
  {
   "cell_type": "markdown",
   "metadata": {},
   "source": [
    "## Reference\n",
    "\n",
    "### Single Variable Distribution Plots \n",
    "\n",
    "#### Histogram\n",
    "\n",
    "*matplotlib*:  plt.hist(df.x_var)\n",
    "\n",
    "*seaborn*: sns.histplot(data=df, x=x_var, *hue=color_var*)\n",
    "\n",
    "*pandas*: df.x_var.value_counts().plot.bar()\n",
    "\n",
    "#### Boxplot\n",
    "\n",
    "*matplotlib*:  plt.boxplot(df.y_var) \n",
    "\n",
    "*seaborn*: sns.boxplot(*x=x_var,* y=y_var, *hue=color_var*, data=df)\n",
    "\n",
    "\n",
    "### Categorical x Continuous\n",
    "\n",
    "Really, continuous implies quantitative, not necessarily the mathematical definition of continuous. \n",
    "\n",
    "#### Pairplot\n",
    "\n",
    "sns.pairplot(data, hue=cat_var, vars=\\[var1, var2, ...\\], kind=\\{'scatter', 'kde', 'hist', 'reg'\\}, diag_kind=\\{'auto', 'hist', 'kde', None\\})\n",
    "\n",
    "#### Relplot\n",
    "\n",
    "- x = continuous variable (or temporal)\n",
    "- y = continuous variable \n",
    "\n",
    "*optional*\n",
    "\n",
    "- hue = categorical_var (color)\n",
    "- size = continuous_var (width of line, size of dot)\n",
    "- style = categorical_var (style of line, style of dot)\n",
    "- col = categorical_var (for catplots only, split charts into columns by category) \n",
    "- row = categorical_var (for catplots only, split charts into columns by category)\n",
    "\n",
    "Types\n",
    "\n",
    "- scatterplot(), relplot(kind=\"scatter\")\n",
    "- lineplot(), relplot(kind=\"line\")\n",
    "\n",
    "sns.relplot(x=x_var, y=y_var, data=df, kind=\\{\"line\", \"scatter\"\\}, hue=cat_var, col=cat_var)\n",
    "\n",
    "#### Heatmap\n",
    "\n",
    "sns.heatmap(data=df\\[\\['col1', 'col2'\\]\\], annot=False, cmap= fmt=\n",
    "pd.crosstab(train.embark_town, train.survived, margins=True, normalize=True)\n",
    "\n",
    "\n",
    "### Categorical x Continuous\n",
    "\n",
    "#### Catplot\n",
    "\n",
    "- x = categorical_var\n",
    "- y = continuous_var \n",
    "\n",
    "*optional*\n",
    "\n",
    "- hue = categorical_var (color) \n",
    "- size = continuous_var (for categorical scatterplots, size of dots)\n",
    "- style = categorical_var (for categorical scatterplots, style of dots)\n",
    "- col = categorical_var (for catplots only, split charts into columns by category) \n",
    "- row = categorical_var (for catplots only, split charts into columns by category)\n",
    "\n",
    "Categorical Scatterplots\n",
    "\n",
    "- stripplot(), catplot(kind=\"strip\")\n",
    "- swarmplot(), catplot(kind=\"swarm\")\n",
    "\n",
    "Categorical Distribution Plots\n",
    "\n",
    "- boxplot(), catplot(kind=\"box\")\n",
    "- violinplot(), catplot(kind=\"violin\")\n",
    "- boxenplot(), catplot(kind=\"box\")\n",
    "\n",
    "Categorical Estimate Plots\n",
    "\n",
    "- pointplot(), catplot(kind=\"point\")\n",
    "- barplot(), catplot(kind=\"bar\")\n",
    "- countplot(), catplot(kind=\"count\")\n",
    "\n",
    "\n",
    "sns.catplot(x=cat_var, y=cont_var, col=column_cat_var, row=row_cat_var, kind=\n",
    "\n",
    "### Categorical x Categorical\n",
    "\n",
    "\n",
    "#### Catplot\n",
    "\n",
    "If one of the variables, then the catplot is useful. The y-axis will represent the boolean variable and the range will be 0 to 1. \n",
    "\n",
    "\n",
    "\n",
    "#### Heatmap\n",
    "\n",
    "A heatmap can be used with two categorical variables. You can plot proportions by creating a crosstab and then plotting the heatmap from the crosstab. "
   ]
  },
  {
   "cell_type": "markdown",
   "metadata": {},
   "source": [
    "control columns & rows"
   ]
  },
  {
   "cell_type": "code",
   "execution_count": null,
   "metadata": {},
   "outputs": [],
   "source": [
    "\n",
    "# If you have n amount of features and want to produce a pair for each one\n",
    "import itertools\n",
    "\n",
    "# Get our list of continuous features\n",
    "features = ['sepal_length', 'sepal_width', 'petal_length', 'petal_width']\n",
    "\n",
    "# itertools.combinations generates each unique pair of elements\n",
    "# We'll produce a list of each pair, where each pair is a tuple (like a list)\n",
    "pairs = itertools.combinations(features, r=2)\n",
    "pairs = list(pairs)\n",
    "pairs"
   ]
  },
  {
   "cell_type": "code",
   "execution_count": null,
   "metadata": {},
   "outputs": [],
   "source": [
    "# Define our number of rows and columns beforehand\n",
    "nrows = 2\n",
    "ncols = 3\n",
    "\n",
    "# Setup the subplots\n",
    "_, ax = plt.subplots(nrows=nrows, ncols=ncols, figsize=(16, 6), sharey=True)\n",
    "\n",
    "for i, pair in enumerate(pairs):\n",
    "\n",
    "    column = i % ncols    \n",
    "    row = (i - column) // ncols\n",
    "    \n",
    "    sns.scatterplot(x=pair[0], y=pair[1], data=df, hue=\"species\", ax=ax[row][column])"
   ]
  }
 ],
 "metadata": {
  "kernelspec": {
   "display_name": "Python 3",
   "language": "python",
   "name": "python3"
  },
  "language_info": {
   "codemirror_mode": {
    "name": "ipython",
    "version": 3
   },
   "file_extension": ".py",
   "mimetype": "text/x-python",
   "name": "python",
   "nbconvert_exporter": "python",
   "pygments_lexer": "ipython3",
   "version": "3.8.8"
  }
 },
 "nbformat": 4,
 "nbformat_minor": 2
}
