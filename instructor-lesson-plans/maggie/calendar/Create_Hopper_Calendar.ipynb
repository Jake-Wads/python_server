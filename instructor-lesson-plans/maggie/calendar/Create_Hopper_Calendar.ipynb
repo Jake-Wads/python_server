{
 "cells": [
  {
   "cell_type": "markdown",
   "metadata": {},
   "source": [
    "In this notebook, we will use the historical calendar entries from Florence to map to half-day number to identify the dates that those lessons will likely be taught in Hopper. Then put the entries in a generic form associated with Hopper dates to write to a csv that can be imported into a new calendar in google calendar. "
   ]
  },
  {
   "cell_type": "code",
   "execution_count": 1,
   "metadata": {},
   "outputs": [],
   "source": [
    "from csv_ical import Convert\n",
    "import pandas as pd\n",
    "import numpy as np\n",
    "import warnings\n",
    "warnings.filterwarnings(\"ignore\")\n",
    "\n",
    "import cohort_calendar"
   ]
  },
  {
   "cell_type": "code",
   "execution_count": 2,
   "metadata": {},
   "outputs": [],
   "source": [
    "# cohort to base the calendar off of\n",
    "cohort = 'florence'\n",
    "\n",
    "# read the export of florence calendar that is stored in working directory\n",
    "flo_df = cohort_calendar.read_calendar_csv('florence')\n",
    "\n",
    "# get the class days of florence\n",
    "class_days_df = cohort_calendar.get_class_dates('Florence')\n",
    "\n",
    "# clean the old calendar entries and get lesson details\n",
    "flo_df = cohort_calendar.clean_cal(flo_df)\n",
    "flo_df = cohort_calendar.extract_lesson_details(flo_df)\n",
    "\n",
    "# merge the class days with the calendar details on start date and day segment (1 or 2 - half days)\n",
    "flo_df = class_days_df.merge(flo_df, how='left', on=['start', 'day_segment']).drop(columns=('start'))"
   ]
  },
  {
   "cell_type": "code",
   "execution_count": null,
   "metadata": {},
   "outputs": [],
   "source": [
    "# get the class days from hopper\n",
    "hopper_class_days = cohort_calendar.get_class_dates('Hopper')"
   ]
  },
  {
   "cell_type": "code",
   "execution_count": 26,
   "metadata": {},
   "outputs": [],
   "source": [
    "# concatenate hopper class days with florence class days by 1/2 day number on get the lessons that were taught\n",
    "# on those days. \n",
    "cal = pd.concat([flo_df, hopper_class_days], axis=1)\n",
    "cal = cal[['event_name', 'start']]\n",
    "cal.iloc[201, 0] = 'Hopper Graduation'"
   ]
  },
  {
   "cell_type": "code",
   "execution_count": 27,
   "metadata": {},
   "outputs": [],
   "source": [
    "# clean up the calendar before exporting...fill in these with capstone\n",
    "fill_in = [191, 193, 195, 198]\n",
    "for i in fill_in:\n",
    "    cal.iloc[i, 0] = 'Capstone'"
   ]
  },
  {
   "cell_type": "code",
   "execution_count": 28,
   "metadata": {},
   "outputs": [],
   "source": [
    "# drop rows with no event entries\n",
    "cal = cal[cal.event_name.notnull()]\n",
    "\n",
    "# drop the last row, that is past hopper graduation\n",
    "cal = cal.iloc[:-1]\n",
    "\n",
    "# rename columns so that google calendar will know how to import the csv into the calendar. \n",
    "cal.columns = ['Subject', 'Start Date']"
   ]
  },
  {
   "cell_type": "code",
   "execution_count": 29,
   "metadata": {},
   "outputs": [],
   "source": [
    "# write calendar entries to csv. \n",
    "cal.to_csv('hopper_cal.csv')"
   ]
  },
  {
   "cell_type": "markdown",
   "metadata": {},
   "source": [
    "Final step is to create \"Hopper (instructors)\" calendar in google calendar \n",
    "and import \"hopper_cal.csv\" to the calendar. "
   ]
  },
  {
   "cell_type": "code",
   "execution_count": null,
   "metadata": {},
   "outputs": [],
   "source": []
  }
 ],
 "metadata": {
  "kernelspec": {
   "display_name": "Python 3",
   "language": "python",
   "name": "python3"
  },
  "language_info": {
   "codemirror_mode": {
    "name": "ipython",
    "version": 3
   },
   "file_extension": ".py",
   "mimetype": "text/x-python",
   "name": "python",
   "nbconvert_exporter": "python",
   "pygments_lexer": "ipython3",
   "version": "3.8.8"
  }
 },
 "nbformat": 4,
 "nbformat_minor": 2
}
