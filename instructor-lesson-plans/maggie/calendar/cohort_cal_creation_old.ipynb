{
 "cells": [
  {
   "cell_type": "markdown",
   "id": "7a840e14",
   "metadata": {},
   "source": [
    "1. generic lessons by day \n",
    "2. new cohort start stop\n",
    "3. updated holidays"
   ]
  },
  {
   "cell_type": "code",
   "execution_count": 2,
   "id": "c98aeffb",
   "metadata": {},
   "outputs": [],
   "source": [
    "from csv_ical import Convert\n",
    "import pandas as pd\n",
    "import numpy as np\n",
    "import re\n"
   ]
  },
  {
   "cell_type": "code",
   "execution_count": 3,
   "id": "e4c70fd2",
   "metadata": {},
   "outputs": [],
   "source": [
    "# Create dataframe of student holidays\n",
    "holidays_df = pd.read_csv('student_holidays.csv')\n",
    "holidays_df['Date'] = pd.to_datetime(holidays_df.Date)\n",
    "holidays_df.index = pd.to_datetime(holidays_df.Date)"
   ]
  },
  {
   "cell_type": "code",
   "execution_count": 4,
   "id": "ac1b464e",
   "metadata": {},
   "outputs": [
    {
     "data": {
      "text/html": [
       "<div>\n",
       "<style scoped>\n",
       "    .dataframe tbody tr th:only-of-type {\n",
       "        vertical-align: middle;\n",
       "    }\n",
       "\n",
       "    .dataframe tbody tr th {\n",
       "        vertical-align: top;\n",
       "    }\n",
       "\n",
       "    .dataframe thead th {\n",
       "        text-align: right;\n",
       "    }\n",
       "</style>\n",
       "<table border=\"1\" class=\"dataframe\">\n",
       "  <thead>\n",
       "    <tr style=\"text-align: right;\">\n",
       "      <th></th>\n",
       "      <th>cohort</th>\n",
       "      <th>start_date</th>\n",
       "      <th>end_date</th>\n",
       "    </tr>\n",
       "  </thead>\n",
       "  <tbody>\n",
       "    <tr>\n",
       "      <th>4</th>\n",
       "      <td>innis</td>\n",
       "      <td>12/13/2021</td>\n",
       "      <td>06/16/2022</td>\n",
       "    </tr>\n",
       "  </tbody>\n",
       "</table>\n",
       "</div>"
      ],
      "text/plain": [
       "  cohort  start_date    end_date\n",
       "4  innis  12/13/2021  06/16/2022"
      ]
     },
     "execution_count": 4,
     "metadata": {},
     "output_type": "execute_result"
    }
   ],
   "source": [
    "# Create dataframe of Cohorts with Name, Start and End Dates\n",
    "labels = ['cohort', 'start_date', 'end_date']\n",
    "easley = ['easley',  '12/07/2020', '06/11/2021']\n",
    "florence = ['florence', '03/15/2021', '09/03/2021']\n",
    "germain = ['germain', '06/14/2021', '12/07/2021']\n",
    "hopper = ['hopper', '09/07/2021', '03/14/2022']\n",
    "innis = ['innis', '12/13/2021', '06/16/2022']\n",
    "\n",
    "cohorts_start_stop = pd.DataFrame([easley, florence, germain, hopper, innis])\n",
    "cohorts_start_stop.columns = labels\n",
    "\n",
    "new_cohort = 'innis'\n",
    "new_cohort_start_end = cohorts_start_stop[cohorts_start_stop.cohort == new_cohort]\n",
    "new_cohort_start_end"
   ]
  },
  {
   "cell_type": "code",
   "execution_count": 5,
   "id": "870abc22",
   "metadata": {},
   "outputs": [],
   "source": [
    "# df with start and end\n",
    "new_cohort_days = pd.DataFrame({'date': [new_cohort_start_end.start_date.iloc[0], new_cohort_start_end.end_date.iloc[0]]})\n",
    "\n",
    "#convert to datetime\n",
    "new_cohort_days = pd.DataFrame(pd.to_datetime(new_cohort_days.date)).set_index(new_cohort_days.date).asfreq('D')\n",
    "\n",
    "# join on holidays dataframe\n",
    "new_cohort_days = new_cohort_days.join(holidays_df, how='left').drop(columns=['date', 'Date'])\n",
    "\n",
    "# get weekday\n",
    "new_cohort_days['weekday'] = new_cohort_days.index.day_name()\n",
    "\n",
    "# label weekends\n",
    "new_cohort_days.loc[new_cohort_days.weekday == 'Saturday', 'Student Holidays'] = 'Weekend'\n",
    "new_cohort_days.loc[new_cohort_days.weekday == 'Sunday', 'Student Holidays'] = 'Weekend'\n",
    "\n",
    "# new column names\n",
    "new_cohort_days.columns = ['student_holiday', 'weekday']\n",
    "\n",
    "new_cohort_days['is_classday'] = new_cohort_days.student_holiday.isnull().astype(int)"
   ]
  },
  {
   "cell_type": "code",
   "execution_count": 6,
   "id": "4dc1ca57",
   "metadata": {},
   "outputs": [],
   "source": [
    "# create hours dataframe that has default class hours by day of week. \n",
    "hours = pd.DataFrame({'weekday': ['Monday', 'Tuesday', 'Wednesday', 'Thursday', 'Friday', 'Saturday', 'Sunday'],\n",
    "                    'is_classday': [1, 1, 1, 1, 1, 0, 0], 'class_hours': [6, 7, 3.5, 6.5, 7, 0, 0]})"
   ]
  },
  {
   "cell_type": "code",
   "execution_count": 7,
   "id": "5f0ab8d0",
   "metadata": {},
   "outputs": [],
   "source": [
    "# Merge cohort dataframe with the hours dataframe. \n",
    "new_cohort_daily_hours = new_cohort_days.merge(hours, how='left', on=['weekday', 'is_classday'])\n",
    "# give new dataframe the original date index. \n",
    "new_cohort_daily_hours.index = new_cohort_days.index"
   ]
  },
  {
   "cell_type": "code",
   "execution_count": 8,
   "id": "91832160",
   "metadata": {},
   "outputs": [],
   "source": [
    "# get classday number \n",
    "new_cohort_daily_hours['classday_num'] = np.arange(new_cohort_daily_hours.shape[0])\n",
    "\n",
    "new_cohort_daily_hours = pd.concat([\n",
    "    new_cohort_daily_hours[new_cohort_daily_hours.is_classday == 1].classday_num.rank().rename('classday_num2'),\n",
    "    new_cohort_daily_hours\n",
    "], axis=1).drop(columns='classday_num').rename(columns={'classday_num2': 'classday_num'})"
   ]
  },
  {
   "cell_type": "code",
   "execution_count": 9,
   "id": "41da4215",
   "metadata": {},
   "outputs": [],
   "source": [
    "# read csv with generic lesson names by class day number taught\n",
    "generic_lesson_template = pd.read_csv('generic_lessons_days.csv')\n",
    "\n",
    "generic_lesson_template = generic_lesson_template[['classday_num', 'generic_event_name']]"
   ]
  },
  {
   "cell_type": "code",
   "execution_count": 10,
   "id": "0a0d7415",
   "metadata": {},
   "outputs": [],
   "source": [
    "new_cohort_daily_hours = new_cohort_daily_hours.reset_index()"
   ]
  },
  {
   "cell_type": "code",
   "execution_count": null,
   "id": "4d4e7ba3",
   "metadata": {},
   "outputs": [],
   "source": [
    "classdays = new_cohort_daily_hours[new_cohort_daily_hours.is_classday==1].set_index('classday_num').drop(columns=['student_holiday', 'is_classday'])\n",
    "\n",
    "lessons_df = generic_lesson_template[generic_lesson_template.classday_num.notnull()].set_index('classday_num')\n",
    "\n",
    "new_cal = lessons_df.join(classdays, how='left')\n",
    "\n",
    "new_cal['start'] = new_cal['index']\n",
    "\n",
    "new_cal = new_cal[['generic_event_name', 'index']]\n",
    "new_cal.columns = ['Subject', 'Start Date']\n",
    "\n",
    "new_cal.to_csv('innis_cal.csv')"
   ]
  }
 ],
 "metadata": {
  "kernelspec": {
   "display_name": "Python 3",
   "language": "python",
   "name": "python3"
  },
  "language_info": {
   "codemirror_mode": {
    "name": "ipython",
    "version": 3
   },
   "file_extension": ".py",
   "mimetype": "text/x-python",
   "name": "python",
   "nbconvert_exporter": "python",
   "pygments_lexer": "ipython3",
   "version": "3.8.8"
  }
 },
 "nbformat": 4,
 "nbformat_minor": 5
}
