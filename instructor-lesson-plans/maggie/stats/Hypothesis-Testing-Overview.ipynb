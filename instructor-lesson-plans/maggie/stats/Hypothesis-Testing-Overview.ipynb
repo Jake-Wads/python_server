{
 "cells": [
  {
   "cell_type": "markdown",
   "metadata": {},
   "source": [
    "# Welcome to Hypothesis Testing\n",
    "\n",
    "Hypothesis testing is the process of comparing one hypothesis to another, and using statistics to help evaluate the hypothesis. It is part of the branch of statistics known as Inferential Statistics. \n",
    "\n",
    "In this lesson we will introduce some broad concepts related to hypothesis testing, and in future lessons we will dive into a few specific hypothesis tests. \n",
    "\n",
    "![Types of Stats](Stats-types.jpg)\n",
    "\n",
    "\n",
    "![descriptive-and-inferential-statistics](descriptive-and-inferential-statistics.jpeg)\n",
    "\n",
    "\n",
    "\n",
    "We will use some built-in datasets from the pydataset library to review and explore some concepts. \n",
    "\n",
    "1. How distributions help us make inferences\n",
    "\n",
    "2. Understanding the sample vs. population\n",
    "\n",
    "3. Asking interesting and relevant questions of your data\n",
    "\n",
    "4. Ways to answer questions\n",
    "\n",
    "5. How Hypothesis testing helps us make inferences\n",
    "\n",
    "6. Key terms in hypothesis testing\n",
    "\n",
    "**Tangential Lesson & Review** \n",
    "\n",
    "Before we get to the statistics lesson, we will practice the following in a little data wrangling: \n",
    "\n",
    "1. Identifying when a row is NOT an observation. \n",
    "\n",
    "2. Transforming datasets using python to where a row IS an observation. \n",
    "\n",
    "3. Writing a loop without getting lost in errors. \n",
    "\n",
    "4. Experimenting...be the scientist in data scientist and experiment with other ways to accomplish the same goal. \n",
    "\n",
    "So, let's get to it...\n",
    "\n",
    "__________________________________________________\n",
    "\n",
    "## Data Wrangling\n",
    "\n",
    "First, we need data. In this lesson, instead of generating random data, we will use data from the pydataset library which contains 756 datasets available for use. \n",
    "\n",
    "As you will soon get used to, every data science project starts with prject planning followed by acquiring and preparing data, a.k.a. wrangling the data. One non-negotiable to having prepared data ready to explore is that each row represents an observation. Let's take an example. "
   ]
  },
  {
   "cell_type": "code",
   "execution_count": 1,
   "metadata": {},
   "outputs": [],
   "source": [
    "# Using open datasets from pydataset\n",
    "from pydataset import data\n",
    "\n",
    "import pandas as pd\n",
    "import numpy as np\n",
    "\n",
    "from scipy import stats\n",
    "\n",
    "import matplotlib.pyplot as plt"
   ]
  },
  {
   "cell_type": "code",
   "execution_count": 2,
   "metadata": {},
   "outputs": [
    {
     "data": {
      "text/html": [
       "<div>\n",
       "<style scoped>\n",
       "    .dataframe tbody tr th:only-of-type {\n",
       "        vertical-align: middle;\n",
       "    }\n",
       "\n",
       "    .dataframe tbody tr th {\n",
       "        vertical-align: top;\n",
       "    }\n",
       "\n",
       "    .dataframe thead th {\n",
       "        text-align: right;\n",
       "    }\n",
       "</style>\n",
       "<table border=\"1\" class=\"dataframe\">\n",
       "  <thead>\n",
       "    <tr style=\"text-align: right;\">\n",
       "      <th></th>\n",
       "      <th>dataset_id</th>\n",
       "      <th>title</th>\n",
       "    </tr>\n",
       "  </thead>\n",
       "  <tbody>\n",
       "    <tr>\n",
       "      <th>0</th>\n",
       "      <td>AirPassengers</td>\n",
       "      <td>Monthly Airline Passenger Numbers 1949-1960</td>\n",
       "    </tr>\n",
       "    <tr>\n",
       "      <th>1</th>\n",
       "      <td>BJsales</td>\n",
       "      <td>Sales Data with Leading Indicator</td>\n",
       "    </tr>\n",
       "    <tr>\n",
       "      <th>2</th>\n",
       "      <td>BOD</td>\n",
       "      <td>Biochemical Oxygen Demand</td>\n",
       "    </tr>\n",
       "    <tr>\n",
       "      <th>3</th>\n",
       "      <td>Formaldehyde</td>\n",
       "      <td>Determination of Formaldehyde</td>\n",
       "    </tr>\n",
       "    <tr>\n",
       "      <th>4</th>\n",
       "      <td>HairEyeColor</td>\n",
       "      <td>Hair and Eye Color of Statistics Students</td>\n",
       "    </tr>\n",
       "    <tr>\n",
       "      <th>...</th>\n",
       "      <td>...</td>\n",
       "      <td>...</td>\n",
       "    </tr>\n",
       "    <tr>\n",
       "      <th>752</th>\n",
       "      <td>VerbAgg</td>\n",
       "      <td>Verbal Aggression item responses</td>\n",
       "    </tr>\n",
       "    <tr>\n",
       "      <th>753</th>\n",
       "      <td>cake</td>\n",
       "      <td>Breakage Angle of Chocolate Cakes</td>\n",
       "    </tr>\n",
       "    <tr>\n",
       "      <th>754</th>\n",
       "      <td>cbpp</td>\n",
       "      <td>Contagious bovine pleuropneumonia</td>\n",
       "    </tr>\n",
       "    <tr>\n",
       "      <th>755</th>\n",
       "      <td>grouseticks</td>\n",
       "      <td>Data on red grouse ticks from Elston et al. 2001</td>\n",
       "    </tr>\n",
       "    <tr>\n",
       "      <th>756</th>\n",
       "      <td>sleepstudy</td>\n",
       "      <td>Reaction times in a sleep deprivation study</td>\n",
       "    </tr>\n",
       "  </tbody>\n",
       "</table>\n",
       "<p>757 rows × 2 columns</p>\n",
       "</div>"
      ],
      "text/plain": [
       "        dataset_id                                             title\n",
       "0    AirPassengers       Monthly Airline Passenger Numbers 1949-1960\n",
       "1          BJsales                 Sales Data with Leading Indicator\n",
       "2              BOD                         Biochemical Oxygen Demand\n",
       "3     Formaldehyde                     Determination of Formaldehyde\n",
       "4     HairEyeColor         Hair and Eye Color of Statistics Students\n",
       "..             ...                                               ...\n",
       "752        VerbAgg                  Verbal Aggression item responses\n",
       "753           cake                 Breakage Angle of Chocolate Cakes\n",
       "754           cbpp                 Contagious bovine pleuropneumonia\n",
       "755    grouseticks  Data on red grouse ticks from Elston et al. 2001\n",
       "756     sleepstudy       Reaction times in a sleep deprivation study\n",
       "\n",
       "[757 rows x 2 columns]"
      ]
     },
     "execution_count": 2,
     "metadata": {},
     "output_type": "execute_result"
    }
   ],
   "source": [
    "# take a look at available datasets \n",
    "data()"
   ]
  },
  {
   "cell_type": "markdown",
   "metadata": {},
   "source": [
    "We are going to use the **HairEyeColor** dataset. "
   ]
  },
  {
   "cell_type": "code",
   "execution_count": 3,
   "metadata": {},
   "outputs": [
    {
     "data": {
      "text/plain": [
       "dataset_id                                 HairEyeColor\n",
       "title         Hair and Eye Color of Statistics Students\n",
       "Name: 4, dtype: object"
      ]
     },
     "execution_count": 3,
     "metadata": {},
     "output_type": "execute_result"
    }
   ],
   "source": [
    "# Extract just the row that contains the HairEyeColor dataset \n",
    "# using iloc\n",
    "data().iloc[4]"
   ]
  },
  {
   "cell_type": "markdown",
   "metadata": {},
   "source": [
    "> **iloc vs. loc:** the `i` in `iloc` refers to `index` location. When talking about rows, `iloc[0]` is always the first row. `loc` refers to the index `name`. Sometime this is the same as index location (iloc) as in the dataframe of dataset names above. Sometimes they are different, as we will see later. "
   ]
  },
  {
   "cell_type": "markdown",
   "metadata": {},
   "source": [
    "Ok, We are told this dataset contains information about Hair and Eye color of a group of statistics students. \n",
    "Let's take a look. "
   ]
  },
  {
   "cell_type": "code",
   "execution_count": 4,
   "metadata": {},
   "outputs": [
    {
     "data": {
      "text/html": [
       "<div>\n",
       "<style scoped>\n",
       "    .dataframe tbody tr th:only-of-type {\n",
       "        vertical-align: middle;\n",
       "    }\n",
       "\n",
       "    .dataframe tbody tr th {\n",
       "        vertical-align: top;\n",
       "    }\n",
       "\n",
       "    .dataframe thead th {\n",
       "        text-align: right;\n",
       "    }\n",
       "</style>\n",
       "<table border=\"1\" class=\"dataframe\">\n",
       "  <thead>\n",
       "    <tr style=\"text-align: right;\">\n",
       "      <th></th>\n",
       "      <th>Hair</th>\n",
       "      <th>Eye</th>\n",
       "      <th>Sex</th>\n",
       "      <th>Freq</th>\n",
       "    </tr>\n",
       "  </thead>\n",
       "  <tbody>\n",
       "    <tr>\n",
       "      <th>1</th>\n",
       "      <td>Black</td>\n",
       "      <td>Brown</td>\n",
       "      <td>Male</td>\n",
       "      <td>32</td>\n",
       "    </tr>\n",
       "    <tr>\n",
       "      <th>2</th>\n",
       "      <td>Brown</td>\n",
       "      <td>Brown</td>\n",
       "      <td>Male</td>\n",
       "      <td>53</td>\n",
       "    </tr>\n",
       "    <tr>\n",
       "      <th>3</th>\n",
       "      <td>Red</td>\n",
       "      <td>Brown</td>\n",
       "      <td>Male</td>\n",
       "      <td>10</td>\n",
       "    </tr>\n",
       "    <tr>\n",
       "      <th>4</th>\n",
       "      <td>Blond</td>\n",
       "      <td>Brown</td>\n",
       "      <td>Male</td>\n",
       "      <td>3</td>\n",
       "    </tr>\n",
       "    <tr>\n",
       "      <th>5</th>\n",
       "      <td>Black</td>\n",
       "      <td>Blue</td>\n",
       "      <td>Male</td>\n",
       "      <td>11</td>\n",
       "    </tr>\n",
       "  </tbody>\n",
       "</table>\n",
       "</div>"
      ],
      "text/plain": [
       "    Hair    Eye   Sex  Freq\n",
       "1  Black  Brown  Male    32\n",
       "2  Brown  Brown  Male    53\n",
       "3    Red  Brown  Male    10\n",
       "4  Blond  Brown  Male     3\n",
       "5  Black   Blue  Male    11"
      ]
     },
     "execution_count": 4,
     "metadata": {},
     "output_type": "execute_result"
    }
   ],
   "source": [
    "# store that data in a dataframe named df\n",
    "df = data('HairEyeColor')\n",
    "\n",
    "# look at the first 5 rows\n",
    "df.head()"
   ]
  },
  {
   "cell_type": "code",
   "execution_count": 5,
   "metadata": {},
   "outputs": [
    {
     "data": {
      "text/plain": [
       "(32, 4)"
      ]
     },
     "execution_count": 5,
     "metadata": {},
     "output_type": "execute_result"
    }
   ],
   "source": [
    "# look at the numbers of rows and columns\n",
    "df.shape"
   ]
  },
  {
   "cell_type": "markdown",
   "metadata": {},
   "source": [
    "**Question 1:** \n",
    "\n",
    "What do you notice about the structure of this dataset? What does each row represent? \n",
    "\n",
    "\n",
    "*your answer:*\n",
    "\n",
    "\n",
    "\n",
    "_____________________________________________"
   ]
  },
  {
   "cell_type": "markdown",
   "metadata": {},
   "source": [
    " \n",
    " \n",
    " \n",
    " \n",
    " \n",
    " \n",
    " \n",
    " \n",
    " \n",
    "But, is each row \"REALLY\" a unique combination of Hair, Eye, & Sex or are there any duplicates? (Always verify your assumptions!)\n",
    "If we group by Hair, Eye and Sex; count the number of occurrences of each combination; and then sum those counts; we should get a number equal to the number of rows in the original dataframe. "
   ]
  },
  {
   "cell_type": "code",
   "execution_count": 6,
   "metadata": {},
   "outputs": [
    {
     "name": "stdout",
     "output_type": "stream",
     "text": [
      "number of unique combinations:  Freq    32\n",
      "dtype: int64\n",
      "rows in original dataframe:  32\n"
     ]
    }
   ],
   "source": [
    "print(\"number of unique combinations: \", \n",
    "      df.groupby(['Hair', 'Eye', 'Sex']).count().sum())\n",
    "\n",
    "print(\"rows in original dataframe: \", len(df))"
   ]
  },
  {
   "cell_type": "markdown",
   "metadata": {},
   "source": [
    "____________________________________________\n",
    "\n",
    "\n",
    "Our data has been aggregated! UGH! I *strongly dislike* starting with aggregated data, as a data scientist :=| It limits what I can find out. \n",
    "\n",
    "I want my data in the form where one row represents one observation. \n",
    "\n",
    "\n",
    "**Question 2:**\n",
    "\n",
    "In this scenario, based on the description of the dataset, a single observation should be what?  \n",
    "\n",
    "\n",
    "\n",
    "*your answer:*\n",
    "\n",
    "\n",
    "\n",
    "_____________________________________________"
   ]
  },
  {
   "cell_type": "markdown",
   "metadata": {},
   "source": [
    " \n",
    " \n",
    " \n",
    " \n",
    " \n",
    " \n",
    " \n",
    "**Question 3:**\n",
    " \n",
    "So, if each row should be an observartion, and each observation should be a student, how many rows should we have in our dataframe? \n",
    "\n",
    "*your answer:*\n",
    "\n",
    "\n",
    "\n",
    "________________________________"
   ]
  },
  {
   "cell_type": "code",
   "execution_count": null,
   "metadata": {},
   "outputs": [],
   "source": [
    "# the code to determine how many students were surveyed/how many \n",
    "# observations we should have\n",
    "\n",
    "df.Freq.sum()"
   ]
  },
  {
   "cell_type": "markdown",
   "metadata": {},
   "source": [
    "So, we need 32 rows to represent students with Black Hair, Brown Eyes, and are Male; 53 rows of \"Brown, Brown, Male\"; 10 rows of \"Red, Brown, Male\", etc. as you can see below..."
   ]
  },
  {
   "cell_type": "code",
   "execution_count": 8,
   "metadata": {},
   "outputs": [
    {
     "data": {
      "text/html": [
       "<div>\n",
       "<style scoped>\n",
       "    .dataframe tbody tr th:only-of-type {\n",
       "        vertical-align: middle;\n",
       "    }\n",
       "\n",
       "    .dataframe tbody tr th {\n",
       "        vertical-align: top;\n",
       "    }\n",
       "\n",
       "    .dataframe thead th {\n",
       "        text-align: right;\n",
       "    }\n",
       "</style>\n",
       "<table border=\"1\" class=\"dataframe\">\n",
       "  <thead>\n",
       "    <tr style=\"text-align: right;\">\n",
       "      <th></th>\n",
       "      <th>Hair</th>\n",
       "      <th>Eye</th>\n",
       "      <th>Sex</th>\n",
       "      <th>Freq</th>\n",
       "    </tr>\n",
       "  </thead>\n",
       "  <tbody>\n",
       "    <tr>\n",
       "      <th>1</th>\n",
       "      <td>Black</td>\n",
       "      <td>Brown</td>\n",
       "      <td>Male</td>\n",
       "      <td>32</td>\n",
       "    </tr>\n",
       "    <tr>\n",
       "      <th>2</th>\n",
       "      <td>Brown</td>\n",
       "      <td>Brown</td>\n",
       "      <td>Male</td>\n",
       "      <td>53</td>\n",
       "    </tr>\n",
       "    <tr>\n",
       "      <th>3</th>\n",
       "      <td>Red</td>\n",
       "      <td>Brown</td>\n",
       "      <td>Male</td>\n",
       "      <td>10</td>\n",
       "    </tr>\n",
       "    <tr>\n",
       "      <th>4</th>\n",
       "      <td>Blond</td>\n",
       "      <td>Brown</td>\n",
       "      <td>Male</td>\n",
       "      <td>3</td>\n",
       "    </tr>\n",
       "    <tr>\n",
       "      <th>5</th>\n",
       "      <td>Black</td>\n",
       "      <td>Blue</td>\n",
       "      <td>Male</td>\n",
       "      <td>11</td>\n",
       "    </tr>\n",
       "  </tbody>\n",
       "</table>\n",
       "</div>"
      ],
      "text/plain": [
       "    Hair    Eye   Sex  Freq\n",
       "1  Black  Brown  Male    32\n",
       "2  Brown  Brown  Male    53\n",
       "3    Red  Brown  Male    10\n",
       "4  Blond  Brown  Male     3\n",
       "5  Black   Blue  Male    11"
      ]
     },
     "execution_count": 8,
     "metadata": {},
     "output_type": "execute_result"
    }
   ],
   "source": [
    "df.head()"
   ]
  },
  {
   "cell_type": "markdown",
   "metadata": {},
   "source": [
    "There are multiple ways to get there, and we will get there the long round about way of writing a loop to practice the technique of writing a loop without getting lost in errors. We will then demonstrate the slick and simple way of doing it using beautiful pandas methods! \n",
    "\n",
    "When writing a loop, I recommend the following steps:\n",
    "\n",
    "1. Make it work for 1. \n",
    "\n",
    "2. Make it work for 2. \n",
    "\n",
    "3. Make it work for all. \n",
    "\n",
    "First, let's create a single column that concatenates Hair, Eye & Sex so we only have to repeat one dimension or column in this case. "
   ]
  },
  {
   "cell_type": "code",
   "execution_count": null,
   "metadata": {},
   "outputs": [],
   "source": [
    "# concatenating using '+' with strings\n",
    "\n",
    "df['traits'] = df.Hair + \", \" + df.Eye + \", \" + df.Sex\n",
    "df.head(2)"
   ]
  },
  {
   "cell_type": "markdown",
   "metadata": {},
   "source": [
    "**Make it work for 1:**\n",
    "\n",
    "we will use `np.repeat(*what_to_repeat*, *how_many_times*)` to repeat the first combination and we will return it in a list. "
   ]
  },
  {
   "cell_type": "code",
   "execution_count": null,
   "metadata": {},
   "outputs": [],
   "source": [
    "# what_to_repeat*\n",
    "df.traits.iloc[0]"
   ]
  },
  {
   "cell_type": "code",
   "execution_count": 11,
   "metadata": {},
   "outputs": [
    {
     "data": {
      "text/plain": [
       "32"
      ]
     },
     "execution_count": 11,
     "metadata": {},
     "output_type": "execute_result"
    }
   ],
   "source": [
    "#how_many_times\n",
    "df.Freq.iloc[0]"
   ]
  },
  {
   "cell_type": "code",
   "execution_count": null,
   "metadata": {},
   "outputs": [],
   "source": [
    "# use those in np.repeat and return a list\n",
    "row1_observations = list(np.repeat(df.traits.iloc[0], df.Freq.iloc[0]))\n",
    "row1_observations\n"
   ]
  },
  {
   "cell_type": "markdown",
   "metadata": {},
   "source": [
    "**Make it work for 2:**\n",
    "\n",
    "For the second row, we will need to add the task of appending the list to the first list. We will start with an empty list. Then add the first set of observations. Then the second. "
   ]
  },
  {
   "cell_type": "code",
   "execution_count": 13,
   "metadata": {},
   "outputs": [],
   "source": [
    "# start with an empty list to hold all observations\n",
    "observations = []"
   ]
  },
  {
   "cell_type": "code",
   "execution_count": 14,
   "metadata": {},
   "outputs": [
    {
     "data": {
      "text/plain": [
       "['Black, Brown, Male',\n",
       " 'Black, Brown, Male',\n",
       " 'Black, Brown, Male',\n",
       " 'Black, Brown, Male',\n",
       " 'Black, Brown, Male']"
      ]
     },
     "execution_count": 14,
     "metadata": {},
     "output_type": "execute_result"
    }
   ],
   "source": [
    "# observations = observations + row1_observations \n",
    "# is equivalent to :\n",
    "observations += row1_observations\n",
    "\n",
    "observations[0:5]"
   ]
  },
  {
   "cell_type": "code",
   "execution_count": 15,
   "metadata": {},
   "outputs": [
    {
     "data": {
      "text/plain": [
       "32"
      ]
     },
     "execution_count": 15,
     "metadata": {},
     "output_type": "execute_result"
    }
   ],
   "source": [
    "# how many items are in that list:\n",
    "len(observations)"
   ]
  },
  {
   "cell_type": "markdown",
   "metadata": {},
   "source": [
    "Use `np.repeat()` to create the 2nd set. The only difference is the index number used in `iloc[]`"
   ]
  },
  {
   "cell_type": "code",
   "execution_count": 16,
   "metadata": {},
   "outputs": [
    {
     "name": "stdout",
     "output_type": "stream",
     "text": [
      "['Brown, Brown, Male', 'Brown, Brown, Male', 'Brown, Brown, Male', 'Brown, Brown, Male', 'Brown, Brown, Male']\n",
      "53\n"
     ]
    }
   ],
   "source": [
    "row2_observations = list(np.repeat(df.traits.iloc[1], df.Freq.iloc[1]))\n",
    "\n",
    "print(row2_observations[0:5])\n",
    "print(len(row2_observations))"
   ]
  },
  {
   "cell_type": "code",
   "execution_count": 17,
   "metadata": {},
   "outputs": [
    {
     "name": "stdout",
     "output_type": "stream",
     "text": [
      "85\n"
     ]
    }
   ],
   "source": [
    "# add the second row's observations to the list\n",
    "# observations = observations + row2_observations\n",
    "observations += row2_observations\n",
    "\n",
    "print(len(observations))"
   ]
  },
  {
   "cell_type": "code",
   "execution_count": 18,
   "metadata": {},
   "outputs": [
    {
     "name": "stdout",
     "output_type": "stream",
     "text": [
      "['Black, Brown, Male', 'Black, Brown, Male', 'Black, Brown, Male']\n",
      "['Brown, Brown, Male', 'Brown, Brown, Male', 'Brown, Brown, Male']\n"
     ]
    }
   ],
   "source": [
    "print(observations[0:3])\n",
    "print(observations[-3:])"
   ]
  },
  {
   "cell_type": "markdown",
   "metadata": {},
   "source": [
    "**Make it work for all:**"
   ]
  },
  {
   "cell_type": "code",
   "execution_count": 19,
   "metadata": {},
   "outputs": [],
   "source": [
    "# create empty list\n",
    "obs = []\n",
    "\n",
    "# loop through each index in original dataframe from 0 to the \n",
    "# length of the dataframe\n",
    "# repeat \"Freq\" number of times. \n",
    "\n",
    "for i in range(len(df)):\n",
    "    row_obs = list(np.repeat(df.traits.iloc[i], df.Freq.iloc[i]))\n",
    "    obs += row_obs"
   ]
  },
  {
   "cell_type": "markdown",
   "metadata": {},
   "source": [
    "Now, what we have is a list where each item should be a row in our dataframe, and each item represents a student, an observation. So let's convert the list to a dataframe. "
   ]
  },
  {
   "cell_type": "code",
   "execution_count": 20,
   "metadata": {},
   "outputs": [
    {
     "name": "stdout",
     "output_type": "stream",
     "text": [
      "Number of students:  592\n",
      "\n",
      "First 5 observations:  ['Black, Brown, Male', 'Black, Brown, Male', 'Black, Brown, Male', 'Black, Brown, Male', 'Black, Brown, Male']\n",
      "\n",
      "Last 5 observations:  ['Blond, Green, Female', 'Blond, Green, Female', 'Blond, Green, Female', 'Blond, Green, Female', 'Blond, Green, Female']\n"
     ]
    }
   ],
   "source": [
    "print(\"Number of students: \", len(obs))\n",
    "print(\"\\nFirst 5 observations: \", obs[0:5])\n",
    "print(\"\\nLast 5 observations: \", obs[-5:])"
   ]
  },
  {
   "cell_type": "code",
   "execution_count": 21,
   "metadata": {},
   "outputs": [
    {
     "data": {
      "text/html": [
       "<div>\n",
       "<style scoped>\n",
       "    .dataframe tbody tr th:only-of-type {\n",
       "        vertical-align: middle;\n",
       "    }\n",
       "\n",
       "    .dataframe tbody tr th {\n",
       "        vertical-align: top;\n",
       "    }\n",
       "\n",
       "    .dataframe thead th {\n",
       "        text-align: right;\n",
       "    }\n",
       "</style>\n",
       "<table border=\"1\" class=\"dataframe\">\n",
       "  <thead>\n",
       "    <tr style=\"text-align: right;\">\n",
       "      <th></th>\n",
       "      <th>traits</th>\n",
       "    </tr>\n",
       "  </thead>\n",
       "  <tbody>\n",
       "    <tr>\n",
       "      <th>0</th>\n",
       "      <td>Black, Brown, Male</td>\n",
       "    </tr>\n",
       "    <tr>\n",
       "      <th>1</th>\n",
       "      <td>Black, Brown, Male</td>\n",
       "    </tr>\n",
       "    <tr>\n",
       "      <th>2</th>\n",
       "      <td>Black, Brown, Male</td>\n",
       "    </tr>\n",
       "    <tr>\n",
       "      <th>3</th>\n",
       "      <td>Black, Brown, Male</td>\n",
       "    </tr>\n",
       "    <tr>\n",
       "      <th>4</th>\n",
       "      <td>Black, Brown, Male</td>\n",
       "    </tr>\n",
       "  </tbody>\n",
       "</table>\n",
       "</div>"
      ],
      "text/plain": [
       "               traits\n",
       "0  Black, Brown, Male\n",
       "1  Black, Brown, Male\n",
       "2  Black, Brown, Male\n",
       "3  Black, Brown, Male\n",
       "4  Black, Brown, Male"
      ]
     },
     "execution_count": 21,
     "metadata": {},
     "output_type": "execute_result"
    }
   ],
   "source": [
    "obs_df = pd.DataFrame({'traits': obs})\n",
    "obs_df.head()"
   ]
  },
  {
   "cell_type": "markdown",
   "metadata": {},
   "source": [
    "Now we will split these back into the variables we originally had. "
   ]
  },
  {
   "cell_type": "code",
   "execution_count": 22,
   "metadata": {},
   "outputs": [
    {
     "data": {
      "text/html": [
       "<div>\n",
       "<style scoped>\n",
       "    .dataframe tbody tr th:only-of-type {\n",
       "        vertical-align: middle;\n",
       "    }\n",
       "\n",
       "    .dataframe tbody tr th {\n",
       "        vertical-align: top;\n",
       "    }\n",
       "\n",
       "    .dataframe thead th {\n",
       "        text-align: right;\n",
       "    }\n",
       "</style>\n",
       "<table border=\"1\" class=\"dataframe\">\n",
       "  <thead>\n",
       "    <tr style=\"text-align: right;\">\n",
       "      <th></th>\n",
       "      <th>0</th>\n",
       "      <th>1</th>\n",
       "      <th>2</th>\n",
       "    </tr>\n",
       "  </thead>\n",
       "  <tbody>\n",
       "    <tr>\n",
       "      <th>0</th>\n",
       "      <td>Black</td>\n",
       "      <td>Brown</td>\n",
       "      <td>Male</td>\n",
       "    </tr>\n",
       "    <tr>\n",
       "      <th>1</th>\n",
       "      <td>Black</td>\n",
       "      <td>Brown</td>\n",
       "      <td>Male</td>\n",
       "    </tr>\n",
       "    <tr>\n",
       "      <th>2</th>\n",
       "      <td>Black</td>\n",
       "      <td>Brown</td>\n",
       "      <td>Male</td>\n",
       "    </tr>\n",
       "  </tbody>\n",
       "</table>\n",
       "</div>"
      ],
      "text/plain": [
       "       0      1     2\n",
       "0  Black  Brown  Male\n",
       "1  Black  Brown  Male\n",
       "2  Black  Brown  Male"
      ]
     },
     "execution_count": 22,
     "metadata": {},
     "output_type": "execute_result"
    }
   ],
   "source": [
    "# split the traits at the comma into 3 different columns \n",
    "# (n=-1 means ALL, so I could put 3 here since I know there are 3)\n",
    "# expand = True means return to me a dataframe\n",
    "\n",
    "obs_df = obs_df['traits'].str.split(\", \", n=-1, expand=True)\n",
    "obs_df.head(3)"
   ]
  },
  {
   "cell_type": "code",
   "execution_count": 23,
   "metadata": {},
   "outputs": [
    {
     "name": "stdout",
     "output_type": "stream",
     "text": [
      "(592, 3)\n"
     ]
    },
    {
     "data": {
      "text/html": [
       "<div>\n",
       "<style scoped>\n",
       "    .dataframe tbody tr th:only-of-type {\n",
       "        vertical-align: middle;\n",
       "    }\n",
       "\n",
       "    .dataframe tbody tr th {\n",
       "        vertical-align: top;\n",
       "    }\n",
       "\n",
       "    .dataframe thead th {\n",
       "        text-align: right;\n",
       "    }\n",
       "</style>\n",
       "<table border=\"1\" class=\"dataframe\">\n",
       "  <thead>\n",
       "    <tr style=\"text-align: right;\">\n",
       "      <th></th>\n",
       "      <th>hair</th>\n",
       "      <th>eye</th>\n",
       "      <th>sex</th>\n",
       "    </tr>\n",
       "  </thead>\n",
       "  <tbody>\n",
       "    <tr>\n",
       "      <th>0</th>\n",
       "      <td>Black</td>\n",
       "      <td>Brown</td>\n",
       "      <td>Male</td>\n",
       "    </tr>\n",
       "    <tr>\n",
       "      <th>1</th>\n",
       "      <td>Black</td>\n",
       "      <td>Brown</td>\n",
       "      <td>Male</td>\n",
       "    </tr>\n",
       "    <tr>\n",
       "      <th>2</th>\n",
       "      <td>Black</td>\n",
       "      <td>Brown</td>\n",
       "      <td>Male</td>\n",
       "    </tr>\n",
       "    <tr>\n",
       "      <th>3</th>\n",
       "      <td>Black</td>\n",
       "      <td>Brown</td>\n",
       "      <td>Male</td>\n",
       "    </tr>\n",
       "    <tr>\n",
       "      <th>4</th>\n",
       "      <td>Black</td>\n",
       "      <td>Brown</td>\n",
       "      <td>Male</td>\n",
       "    </tr>\n",
       "  </tbody>\n",
       "</table>\n",
       "</div>"
      ],
      "text/plain": [
       "    hair    eye   sex\n",
       "0  Black  Brown  Male\n",
       "1  Black  Brown  Male\n",
       "2  Black  Brown  Male\n",
       "3  Black  Brown  Male\n",
       "4  Black  Brown  Male"
      ]
     },
     "execution_count": 23,
     "metadata": {},
     "output_type": "execute_result"
    }
   ],
   "source": [
    "#rename columns \n",
    "obs_df.columns = ['hair', 'eye', 'sex']\n",
    "\n",
    "print(obs_df.shape)\n",
    "obs_df.head()"
   ]
  },
  {
   "cell_type": "markdown",
   "metadata": {},
   "source": [
    "And just like that, we have a dataframe with 592 rows, 3 columns, where each row represents an observation or a student. You can think of the row index as the student id. \n",
    "\n",
    "\n",
    "Now that we've done it the long way, another way to go about this is the following:\n",
    "1. Use the pandas `repeat` method on the series `df.index`. This method has an argument for the number of times to repeat, which we will provide as the frequency for each item in that series, `df.Freq`. This returns the row names (starting with 1) `Freq` number of times, as seen below. "
   ]
  },
  {
   "cell_type": "code",
   "execution_count": 24,
   "metadata": {},
   "outputs": [
    {
     "data": {
      "text/plain": [
       "Int64Index([ 1,  1,  1,  1,  1,  1,  1,  1,  1,  1,\n",
       "            ...\n",
       "            31, 31, 32, 32, 32, 32, 32, 32, 32, 32],\n",
       "           dtype='int64', length=592)"
      ]
     },
     "execution_count": 24,
     "metadata": {},
     "output_type": "execute_result"
    }
   ],
   "source": [
    "df.index.repeat(df.Freq)"
   ]
  },
  {
   "cell_type": "markdown",
   "metadata": {},
   "source": [
    "2. Use `df.loc` to select the rows by the row name. "
   ]
  },
  {
   "cell_type": "code",
   "execution_count": 25,
   "metadata": {},
   "outputs": [
    {
     "data": {
      "text/html": [
       "<div>\n",
       "<style scoped>\n",
       "    .dataframe tbody tr th:only-of-type {\n",
       "        vertical-align: middle;\n",
       "    }\n",
       "\n",
       "    .dataframe tbody tr th {\n",
       "        vertical-align: top;\n",
       "    }\n",
       "\n",
       "    .dataframe thead th {\n",
       "        text-align: right;\n",
       "    }\n",
       "</style>\n",
       "<table border=\"1\" class=\"dataframe\">\n",
       "  <thead>\n",
       "    <tr style=\"text-align: right;\">\n",
       "      <th></th>\n",
       "      <th>Hair</th>\n",
       "      <th>Eye</th>\n",
       "      <th>Sex</th>\n",
       "      <th>Freq</th>\n",
       "      <th>traits</th>\n",
       "    </tr>\n",
       "  </thead>\n",
       "  <tbody>\n",
       "    <tr>\n",
       "      <th>1</th>\n",
       "      <td>Black</td>\n",
       "      <td>Brown</td>\n",
       "      <td>Male</td>\n",
       "      <td>32</td>\n",
       "      <td>Black, Brown, Male</td>\n",
       "    </tr>\n",
       "    <tr>\n",
       "      <th>1</th>\n",
       "      <td>Black</td>\n",
       "      <td>Brown</td>\n",
       "      <td>Male</td>\n",
       "      <td>32</td>\n",
       "      <td>Black, Brown, Male</td>\n",
       "    </tr>\n",
       "    <tr>\n",
       "      <th>1</th>\n",
       "      <td>Black</td>\n",
       "      <td>Brown</td>\n",
       "      <td>Male</td>\n",
       "      <td>32</td>\n",
       "      <td>Black, Brown, Male</td>\n",
       "    </tr>\n",
       "    <tr>\n",
       "      <th>1</th>\n",
       "      <td>Black</td>\n",
       "      <td>Brown</td>\n",
       "      <td>Male</td>\n",
       "      <td>32</td>\n",
       "      <td>Black, Brown, Male</td>\n",
       "    </tr>\n",
       "    <tr>\n",
       "      <th>1</th>\n",
       "      <td>Black</td>\n",
       "      <td>Brown</td>\n",
       "      <td>Male</td>\n",
       "      <td>32</td>\n",
       "      <td>Black, Brown, Male</td>\n",
       "    </tr>\n",
       "    <tr>\n",
       "      <th>...</th>\n",
       "      <td>...</td>\n",
       "      <td>...</td>\n",
       "      <td>...</td>\n",
       "      <td>...</td>\n",
       "      <td>...</td>\n",
       "    </tr>\n",
       "    <tr>\n",
       "      <th>32</th>\n",
       "      <td>Blond</td>\n",
       "      <td>Green</td>\n",
       "      <td>Female</td>\n",
       "      <td>8</td>\n",
       "      <td>Blond, Green, Female</td>\n",
       "    </tr>\n",
       "    <tr>\n",
       "      <th>32</th>\n",
       "      <td>Blond</td>\n",
       "      <td>Green</td>\n",
       "      <td>Female</td>\n",
       "      <td>8</td>\n",
       "      <td>Blond, Green, Female</td>\n",
       "    </tr>\n",
       "    <tr>\n",
       "      <th>32</th>\n",
       "      <td>Blond</td>\n",
       "      <td>Green</td>\n",
       "      <td>Female</td>\n",
       "      <td>8</td>\n",
       "      <td>Blond, Green, Female</td>\n",
       "    </tr>\n",
       "    <tr>\n",
       "      <th>32</th>\n",
       "      <td>Blond</td>\n",
       "      <td>Green</td>\n",
       "      <td>Female</td>\n",
       "      <td>8</td>\n",
       "      <td>Blond, Green, Female</td>\n",
       "    </tr>\n",
       "    <tr>\n",
       "      <th>32</th>\n",
       "      <td>Blond</td>\n",
       "      <td>Green</td>\n",
       "      <td>Female</td>\n",
       "      <td>8</td>\n",
       "      <td>Blond, Green, Female</td>\n",
       "    </tr>\n",
       "  </tbody>\n",
       "</table>\n",
       "<p>592 rows × 5 columns</p>\n",
       "</div>"
      ],
      "text/plain": [
       "     Hair    Eye     Sex  Freq                traits\n",
       "1   Black  Brown    Male    32    Black, Brown, Male\n",
       "1   Black  Brown    Male    32    Black, Brown, Male\n",
       "1   Black  Brown    Male    32    Black, Brown, Male\n",
       "1   Black  Brown    Male    32    Black, Brown, Male\n",
       "1   Black  Brown    Male    32    Black, Brown, Male\n",
       "..    ...    ...     ...   ...                   ...\n",
       "32  Blond  Green  Female     8  Blond, Green, Female\n",
       "32  Blond  Green  Female     8  Blond, Green, Female\n",
       "32  Blond  Green  Female     8  Blond, Green, Female\n",
       "32  Blond  Green  Female     8  Blond, Green, Female\n",
       "32  Blond  Green  Female     8  Blond, Green, Female\n",
       "\n",
       "[592 rows x 5 columns]"
      ]
     },
     "execution_count": 25,
     "metadata": {},
     "output_type": "execute_result"
    }
   ],
   "source": [
    "df.loc[df.index.repeat(df.Freq)]"
   ]
  },
  {
   "cell_type": "markdown",
   "metadata": {},
   "source": [
    "3. Finally, reset the index so that each row has a unique value from 0 to 591, and select only the 'Hair', 'Eye', and 'Sex' columns. "
   ]
  },
  {
   "cell_type": "code",
   "execution_count": null,
   "metadata": {},
   "outputs": [],
   "source": [
    "df = df.loc[df.index.repeat(df.Freq)].reset_index(drop=True)\n",
    "df = df[['Hair', 'Eye', 'Sex']]\n",
    "\n",
    "print(df.shape)\n",
    "df.head()"
   ]
  },
  {
   "cell_type": "code",
   "execution_count": null,
   "metadata": {},
   "outputs": [],
   "source": []
  },
  {
   "cell_type": "markdown",
   "metadata": {},
   "source": [
    "stretch this data out, so that each row represents a single student. \n",
    "\n",
    "To do so, we need to ... \n",
    "\n",
    "1. repeat each row by the frequency. \n",
    "\n",
    "2. remove the frequency column. \n",
    "\n",
    "We should end up the same number of rows as the total number of students represented, because...\n",
    "\n",
    "EACH ROW IS AN OBSERVATION AND EACH OBSERVATION IS A STUDENT. \n",
    "\n",
    "\n",
    "**Question:**\n",
    "\n",
    "So, how can I compute how many rows we will end up with? Or how many students were surveyed?\n",
    "\n",
    "If you need to take another peek at the data, go for it! `df.head()` is a quick and easy way. \n",
    "\n",
    "**Answer:**"
   ]
  },
  {
   "cell_type": "code",
   "execution_count": null,
   "metadata": {},
   "outputs": [],
   "source": [
    "# write code to compute how many students are represented in this dataset. \n",
    "\n",
    "df.Freq.sum()"
   ]
  },
  {
   "cell_type": "markdown",
   "metadata": {},
   "source": [
    "Cool, so we are looking to end up with that many rows\n",
    "\n",
    "___________________________________________\n",
    "_______________________________________\n",
    "\n",
    "To get there, we will want to repeat each combination of `Hair`, `Eye`, & `Sex` the number of times represented in the `Freq` field. We can get there in the following way:  \n",
    "\n",
    "1. Create a single column that concatenates Hair, Eye & Sex\n",
    "\n",
    "2. For the first unique combination of Hair, Eye & Sex, i.e. the first row which is Black, Brown, and Male, create a list that repeats that combination 32 times, which is the `Freq` value. \n",
    "\n",
    "3. We want to do that for each row, so once we made it work for one, we will do row two and make sure we can concatenate them, THEN we will put it in a loop to work for all. \n",
    "\n",
    "_______________________________________\n"
   ]
  },
  {
   "cell_type": "code",
   "execution_count": null,
   "metadata": {},
   "outputs": [],
   "source": []
  },
  {
   "cell_type": "markdown",
   "metadata": {},
   "source": [
    "___________________________________________________\n",
    "__________________________________________________\n",
    "\n",
    "\n",
    "2. Sample vs. Population\n",
    "\n",
    "\n",
    "According to heffingtons, the estimated population proportion of blue eyes in the U.S. is 27%\n",
    "\n",
    "https://heffingtons.com/interesting-facts-about-eye-color/\n",
    "\n",
    "- Brown Eyes: 45%\n",
    "\n",
    "- Blue Eyes: 27%\n",
    "\n",
    "- Hazel Eyes: 18% (Note: Hazel eyes consist of shades of brown and green.)\n",
    "\n",
    "- Green Eyes: 9%\n",
    "\n",
    "- Other: 1%"
   ]
  },
  {
   "cell_type": "code",
   "execution_count": null,
   "metadata": {},
   "outputs": [],
   "source": [
    "sum(obs_df.eye=='Blue')/len(obs_df)"
   ]
  },
  {
   "cell_type": "markdown",
   "metadata": {},
   "source": [
    "**Question:**\n",
    "\n",
    "What are some possible reasons why? \n",
    "\n",
    "- not large enough sample\n",
    "\n",
    "- sample probably from 1 location\n",
    "\n",
    "- self-selected to be in that stats class\n",
    "\n",
    "- demographic mis-representation\n",
    "\n",
    "- stats class in norway? \n",
    "\n",
    "- age of students? \n",
    "\n",
    "- self reported!\n"
   ]
  },
  {
   "cell_type": "markdown",
   "metadata": {},
   "source": [
    "\n",
    "This dataset claims to be a sample of statistics students. \n",
    "\n",
    "**Questions:**\n",
    "\n",
    "So is the population all statistics students? \n",
    "\n",
    "Across the world? \n",
    "\n",
    "All ages? \n",
    "\n",
    "Is it a representative sample of the population of all statistics students across the world of all ages? \n",
    "\n",
    "Or is it representative sample of the population of all people across the world of all ages? \n",
    "\n",
    "Or is it representative sample of the population of all people in the US of all ages? \n",
    "\n",
    "Or is it representative sample of the population of all statistics students in the US of all ages? \n",
    "\n",
    "Or is it representative sample of the population of all statistics students in the US of all ages? \n",
    "\n",
    "Or ...\n",
    "\n",
    "\n",
    "_________________________________________________________\n",
    "\n",
    "\n",
    "Hypothesis testing can help us answer these questions as well as many others. \n"
   ]
  },
  {
   "cell_type": "code",
   "execution_count": null,
   "metadata": {},
   "outputs": [],
   "source": [
    "stats.binom(592, .27).pmf(215)"
   ]
  },
  {
   "cell_type": "code",
   "execution_count": null,
   "metadata": {},
   "outputs": [],
   "source": [
    "plt.figure(figsize=(16,6))\n",
    "x = np.arange(1, 300)\n",
    "y = stats.binom(592, .27).pmf(x)\n",
    "plt.bar(x, y, width=1, color='green')\n",
    "\n",
    "plt.bar(215, stats.binom(592, .27).pmf(215), width=3, color='orange')\n",
    "\n",
    "plt.title('binomial distribution for n=592 p=.27')\n",
    "plt.xlabel('x')\n",
    "plt.ylabel('pmf(x)')\n",
    "\n",
    "plt.annotate('$P(X=215) = {:.10f}$'.format(stats.binom(592, .27).pmf(215)),\n",
    "             (215, stats.binom(592, .27).pmf(215)), xytext=(215, .010), \n",
    "             arrowprops={'arrowstyle': '->'})"
   ]
  },
  {
   "cell_type": "markdown",
   "metadata": {},
   "source": [
    "## Ways to answer questions that we will practice throughout your time here:\n",
    "\n",
    "1. data visualization \n",
    "\n",
    "2. hypothesis testing\n",
    "\n",
    "3. machine learning\n",
    "\n",
    "4. Saying I don't know, but I will try to find out. \n",
    "\n",
    "\n",
    "Ways that we will not cover:\n",
    "\n",
    "1. pulling it out of your arse\n",
    "\n",
    "2. using statistics to give you the answer you want. \n",
    "\n",
    "3. selecting biased samples to prove your point. \n",
    "\n"
   ]
  },
  {
   "cell_type": "code",
   "execution_count": null,
   "metadata": {},
   "outputs": [],
   "source": [
    "\n",
    "plt.figure(figsize=(16,10))\n",
    "plt.suptitle('There are more blue eyes in our sample than in the population.\\n Is this by chance? Or does our sample come from a different population?\\n', \n",
    "            size=18)\n",
    "\n",
    "plt.subplot(1, 2, 1)\n",
    "x = stats.binom.rvs(size=592, p=.27, n=1)\n",
    "sample = stats.binom.rvs(size=592, p=.36, n=1)\n",
    "plt.hist(x, width=1, bins=range(3), edgecolor='black', color='teal', alpha=1, align='left')\n",
    "x_ticks = [0, 1]\n",
    "x_labels = ['Other Colored Eyes', 'Blue Eyes']\n",
    "plt.title('Population: US Residents')\n",
    "plt.axhline(y=.27*592, color=\"lightgray\")\n",
    "y_ticks = [0,160, 215, 377, 432]\n",
    "y_labels = ['0%', '27%', '37%', '64%', '73%']\n",
    "plt.yticks(y_ticks, y_labels)\n",
    "plt.xticks(x_ticks, x_labels)\n",
    "\n",
    "plt.subplot(1, 2, 2)\n",
    "plt.hist(sample, width=1, bins=range(3), edgecolor='black', color='orange', alpha=.5, align='left')\n",
    "plt.title('Sample: 592 Statistics Students')\n",
    "y_ticks = [0,160, 215, 377, 432]\n",
    "y_labels = ['0%', '27%', '37%', '64%', '73%']\n",
    "plt.yticks(y_ticks, y_labels)\n",
    "plt.xticks(x_ticks, x_labels)\n",
    "plt.axhline(y=.27*592, color=\"darkgray\")\n",
    "plt.show()"
   ]
  },
  {
   "cell_type": "markdown",
   "metadata": {},
   "source": [
    "Cases for hypothesis testing\n",
    "\n",
    "1. Do those who churn spend more than those who do not churn? \n",
    "- Are customers with Fiber more likely to churn that those without?\n",
    "- Are sr. citizens more likely to churn?\n",
    "- Are students in stats class more likely to have blue eyes than students not taking stats? \n",
    "- Are customers without autopayment more likely to churn? \n",
    "- Do customers who churn have lower tenure? \n",
    "- Is there a linear relationship between tenure and total charges? \n",
    "- Is there a linear relationship between tenure and average monthly charges? "
   ]
  },
  {
   "cell_type": "markdown",
   "metadata": {},
   "source": [
    "The variables\n",
    "1. churn (boolean), average_monthly_charges (continuous/numeric)\n",
    "2. churn (boolean), has_fiber (boolean)\n",
    "3. churn (boolean), is_senior (boolean)\n",
    "4. eye_color (categorical), in_stats (boolean)\n",
    "5. churn (boolean), has_autopayment (boolean)\n",
    "6. churn (boolean), tenure (numeric)\n",
    "7. tenure (numeric), total_charges (numeric)\n",
    "8. tenure (numeric), avg_monththly_charges (numeric)"
   ]
  },
  {
   "cell_type": "markdown",
   "metadata": {},
   "source": [
    "The data types\n",
    "1. boolean x numeric\n",
    "2. boolean x boolean\n",
    "3. boolean x boolean\n",
    "4. categorical x boolean\n",
    "5. boolean x boolean\n",
    "6. boolean x numeric\n",
    "7. numeric x numeric\n",
    "8. numeric x numeric"
   ]
  },
  {
   "cell_type": "markdown",
   "metadata": {},
   "source": [
    "The types of tests\n",
    "\n",
    "1. comparison of means (t-test) across the 2 groups (churned customers vs. not churned customers)\n",
    "2. comparison of proportions/relationships (chi-square)\n",
    "3. comparison of proportions/relationships (chi-square)\n",
    "4. comparison of proportions/relationships (chi-square)\n",
    "5. comparison of proportions/relationships (chi-square)\n",
    "6. comparison of means (t-test) across the 2 groups (churned customers vs. not churned customers)\n",
    "7. linear correlation between two continuous values, does one affect the other. (pearson's correlation)\n",
    "8. linear correlation between two continuous values, does one affect the other. (pearson's correlation)"
   ]
  },
  {
   "cell_type": "markdown",
   "metadata": {},
   "source": [
    "**Null Hypothesis:** $H_{0}$\n",
    "\n",
    "the \"default\", no difference, no change, no effect. \n",
    "\n",
    "**Alternative Hypothesis:** $H_{a}$\n",
    "\n",
    "Generally what your hypothesis is, that there is a difference, an effect, etc. \n"
   ]
  },
  {
   "cell_type": "markdown",
   "metadata": {},
   "source": [
    "1. Do those who churn spend a different amount than those who do not churn?\n",
    "\n",
    "> $H_{0}$: avg spend for those who churn == avg spend for those who don't. \n",
    "\n",
    "> $H_{a}$: avg spend for thos who churn != avg spend for those who don't. \n",
    "\n",
    "t-test, p-value < .05\n",
    "\n",
    "1a. Do those who churn spend more than those who do not churn?\n",
    "\n",
    "\n",
    "$H_{0}$: avg spend for those who churn <= avg spend for those who don't. \n",
    "\n",
    "$H_{a}$: avg spend for thos who churn > avg spend for those who don't. \n",
    "\n",
    "2. Are customers with Fiber more or less likely to churn that those without?\n",
    "\n",
    "$H_{0}$: Customers with Fiber are equally likely to churn than those without. \n",
    "\n",
    "$H_{a}$: Customers with fiber are more or less likely to churn than those without. \n",
    "\n",
    "2a. Are customers with Fiber more likely to churn that those without?\n",
    "\n",
    "$H_{0}$: Customers with Fiber are less or equally likely to churn than those without. \n",
    "\n",
    "$H_{a}$: Customers with Fiber are more likely to churn than those without. \n",
    "\n",
    "3. Are sr. citizens more likely to churn?\n",
    "\n",
    "$H_{0}$: Sr. are less or equally likely to churn than non-sr.\n",
    "\n",
    "$H_{a}$: Sr. are more likely to churn than non-sr.\n",
    "\n",
    "4. Are students in stats class more likely to have blue eyes than students not taking stats?\n",
    "\n",
    "5. Are customers without autopayment more likely to churn?\n",
    "\n",
    "6. Do customers who churn have lower tenure?\n",
    "\n",
    "$H_{0}$: customers who churn have greater or equal tenure than those who don't. \n",
    "\n",
    "$H_{a}$: customers who churn have lower tenure. \n",
    "\n",
    "7. Is there a linear relationship between tenure and total charges?\n",
    "\n",
    "$H_{0}$: There is no linear relationship b/w tenure and total charges. \n",
    "\n",
    "$H_{a}$: There is a linear relationship b/w tenure and total charges. \n",
    "\n",
    "8. Is there a linear relationship between tenure and average monthly charges?"
   ]
  },
  {
   "cell_type": "markdown",
   "metadata": {},
   "source": [
    "1. id the question\n",
    "2. state the hypotheses\n",
    "3. validate assumptions\n",
    "4. run our test, set our significance level, $\\alpha$\n",
    "5. get results: test statistic & p-value\n",
    "6. evaluate results and draw conclusions\n"
   ]
  },
  {
   "cell_type": "markdown",
   "metadata": {},
   "source": [
    "### Key terms\n",
    "\n",
    "**p-value:** probability that we observed this result due to chance. if it's less than our alpha, we reject the null hypothesis...there IS a difference, or a relationship. \n",
    "\n",
    "**False Negative Rate:** P(FN) = P(Type II Error)\n",
    "False Negative: Failing to reject null hypothesis when it is false. \n",
    "i.e. there is a difference but test told you otherwise. \n",
    "\n",
    "**False Positive Rate:** P(FP) = P(Type I Error)\n",
    "False Positive: Said there was a difference where there wasn't. \n",
    "Alpha is your false positive rate. \n"
   ]
  },
  {
   "cell_type": "markdown",
   "metadata": {},
   "source": [
    "**Answers**\n",
    "\n",
    "1. What do you notice about the structure of this dataset? What does each row represent? *A unique combination of hair, eye and sex with the number of students in the class who have that combination.*\n",
    "\n",
    "2. In this scenario, based on the description of the dataset, a single observation should be what?  *A single statistic student!*\n",
    "\n",
    "3. So, if each row should be an observartion, and each observation should be a student, how many rows should we have in our dataframe? \n"
   ]
  },
  {
   "cell_type": "code",
   "execution_count": null,
   "metadata": {},
   "outputs": [],
   "source": []
  }
 ],
 "metadata": {
  "kernelspec": {
   "display_name": "Python 3",
   "language": "python",
   "name": "python3"
  },
  "language_info": {
   "codemirror_mode": {
    "name": "ipython",
    "version": 3
   },
   "file_extension": ".py",
   "mimetype": "text/x-python",
   "name": "python",
   "nbconvert_exporter": "python",
   "pygments_lexer": "ipython3",
   "version": "3.6.8"
  }
 },
 "nbformat": 4,
 "nbformat_minor": 2
}
