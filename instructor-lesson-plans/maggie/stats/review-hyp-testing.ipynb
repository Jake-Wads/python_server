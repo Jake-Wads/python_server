{
 "cells": [
  {
   "cell_type": "code",
   "execution_count": 1,
   "metadata": {},
   "outputs": [
    {
     "name": "stderr",
     "output_type": "stream",
     "text": [
      "/Users/maggiegiust/anaconda3/lib/python3.6/site-packages/statsmodels/tools/_testing.py:19: FutureWarning: pandas.util.testing is deprecated. Use the functions in the public API at pandas.testing instead.\n",
      "  import pandas.util.testing as tm\n"
     ]
    }
   ],
   "source": [
    "import pandas as pd\n",
    "from scipy import stats\n",
    "import matplotlib.pyplot as plt\n",
    "import seaborn as sns\n",
    "import env"
   ]
  },
  {
   "cell_type": "markdown",
   "metadata": {},
   "source": [
    "**Comparison tests compare the mean (or median) of a quantitative variable across different groups (often in a single categorical variable)**\n",
    "\n",
    "1 group to the population\n",
    "- 1-Sample T-Test: scipy.stats.ttest_1samp\n",
    "    \n",
    "1 group to itself at different points in time\n",
    "- Paired T-Test: scipy.stats.ttest_rel\n",
    "- Wilcoxon signed rank test: scipy.stats.wilcoxon\n",
    "\n",
    "2 groups \n",
    "- 2-Sample or Independent T-Test: scipy.stats.ttest_ind\n",
    "- Mann-Whitney U Test: scipy.stats.mannwhitneyu\n",
    "\n",
    "3 or more groups to each other \n",
    "- One-Way ANOVA: scipy.stats.f_oneway\n",
    "- Kruskal Wallis H Test: scipy.stats.kruskal\n",
    "\n",
    "Again, the \"groups\" often exist in a categorical variable, such as \"churn\", \"job title\", \"survived\", \"has_pool\"\n",
    "\n",
    "\n",
    "**Relationship tests test the relationship or dependency between two variables**\n",
    "\n",
    "Are two quantitative variables linearly correlated? \n",
    "\n",
    "A correlation test tests a linear relationship between two quantitative variables\n",
    "- Pearson's Correlation Test\n",
    "- Spearman's Correlation test\n",
    "\n",
    "\n",
    "A chi-squared test is used to test the relationship between 2 categorical variables. It is used to determine whether there is a statistically significant difference between the expected frequencies and the observed frequencies in two categorical variables. \n",
    "- Chi-Squared Test for Independence\n",
    "\n",
    "\n",
    "scipy.stats documentation contains really good information about these stistical tests, so don't forget to use it as a resource. \n",
    "\n",
    "her there are any statistically significant differences between the means of three or more independent (unrelated) groups. \n",
    "\n",
    "The Kruskal-Wallis H-test tests the null hypothesis that the population median of all of the groups are equal. It is a non-parametric version of ANOVA. The test works on 2 or more independent samples, which may have different sizes. Note that rejecting the null hypothesis does not indicate which of the groups differs. Post hoc comparisons between groups are required to determine which groups are different.\n"
   ]
  },
  {
   "cell_type": "code",
   "execution_count": 2,
   "metadata": {},
   "outputs": [],
   "source": [
    "def get_connection(db, user=env.user, host=env.host, password=env.password):\n",
    "    return f'mysql+pymysql://{user}:{password}@{host}/{db}'"
   ]
  },
  {
   "cell_type": "markdown",
   "metadata": {},
   "source": [
    "Is there a significant difference between title and salary? "
   ]
  },
  {
   "cell_type": "code",
   "execution_count": 3,
   "metadata": {},
   "outputs": [
    {
     "data": {
      "text/plain": [
       "Senior Engineer       85939\n",
       "Senior Staff          82024\n",
       "Engineer              30983\n",
       "Staff                 25526\n",
       "Technique Leader      12055\n",
       "Assistant Engineer     3588\n",
       "Manager                   9\n",
       "Name: title, dtype: int64"
      ]
     },
     "execution_count": 3,
     "metadata": {},
     "output_type": "execute_result"
    }
   ],
   "source": [
    "query = \"select s.salary, t.from_date, datediff(now(),t.from_date)/365 AS tenure_years, t.title \\\n",
    "            from salaries s \\\n",
    "            join titles t using (emp_no) \\\n",
    "            where s.to_date = '9999-01-01' and t.to_date = '9999-01-01';\"\n",
    "\n",
    "salaries = pd.read_sql(query, get_connection('employees'))\n",
    "salaries.title.value_counts()"
   ]
  },
  {
   "cell_type": "markdown",
   "metadata": {},
   "source": [
    "Because there are more than 2 titles to compare, we can do an anova test. "
   ]
  },
  {
   "cell_type": "code",
   "execution_count": null,
   "metadata": {},
   "outputs": [],
   "source": []
  },
  {
   "cell_type": "code",
   "execution_count": null,
   "metadata": {},
   "outputs": [],
   "source": [
    "df = pd.read_csv(\"bmi_activity.csv\")"
   ]
  },
  {
   "cell_type": "code",
   "execution_count": null,
   "metadata": {},
   "outputs": [],
   "source": [
    "df.head"
   ]
  },
  {
   "cell_type": "code",
   "execution_count": null,
   "metadata": {},
   "outputs": [],
   "source": [
    "# sns.scatterplot(x='steps', y='bmi', data=df, c='city', cmap='Greens')\n",
    "sa = df[df.city == 'san antonio']\n",
    "aus = df[df.city == 'austin']\n",
    "plt.scatter(sa.bmi, sa.steps, c='lightgreen')\n",
    "plt.scatter(aus.bmi, aus.steps, c='darkgreen')\n",
    "plt.show()"
   ]
  },
  {
   "cell_type": "markdown",
   "metadata": {},
   "source": [
    "# To Explore\n",
    "\n",
    "1. Is there a significant difference in the number of steps taken by austin residents vs. san antonio residents? Is there anything else you want to conclude from the dataset?  \n",
    "2. Does a negative correlation exist between the number of steps and BMI for SA Residents? Is there anything else you want to conclude from the dataset? \n",
    "3. Does a positive correlation exist between the number of steps and BMI for Austin Residents? Is there anything else you want to conclude from the dataset? \n",
    "4. What do you conclude from the dataset? \n",
    "\n",
    "\n",
    "## Is there a significant difference in the number of steps taken by austin residents vs. san antonio residents? Is there anything else you want to conclude from the dataset?**. "
   ]
  },
  {
   "cell_type": "code",
   "execution_count": null,
   "metadata": {},
   "outputs": [],
   "source": [
    "sns.boxplot(x='city', y='steps', data=df)"
   ]
  },
  {
   "cell_type": "markdown",
   "metadata": {},
   "source": [
    "Clearly a difference. But what is our sample size? \n",
    "And what are the descriptive statistics? The mean, median, and standard deviation especially. "
   ]
  },
  {
   "cell_type": "code",
   "execution_count": null,
   "metadata": {},
   "outputs": [],
   "source": [
    "df.groupby('city')['steps'].describe().T"
   ]
  },
  {
   "cell_type": "markdown",
   "metadata": {},
   "source": [
    "41 and 63 subjects...I could run a test to be sure with that sample size what our confidence is in that. \n",
    "I have 2 groups and 1 continuous variable. This means I can compare means or medians to see if there is a significant difference. Should I use an independent t-test or a Mann-Whitney U (aka Mann Whitney Wilcoxon Test or Wilcoxon Rank Sum test)? Depends on the assumptions, primarily the distribution. "
   ]
  },
  {
   "cell_type": "code",
   "execution_count": null,
   "metadata": {},
   "outputs": [],
   "source": [
    "plt.hist(sa.steps, color='lightgreen')\n",
    "plt.hist(aus.steps, color='darkgreen')\n",
    "plt.show()"
   ]
  },
  {
   "cell_type": "markdown",
   "metadata": {},
   "source": [
    "These are definitely NOT normally distributed! So we should do a non-parametric test, like the Mann-Whitney U test."
   ]
  },
  {
   "cell_type": "code",
   "execution_count": null,
   "metadata": {},
   "outputs": [],
   "source": [
    "stats.mannwhitneyu(sa.steps, aus.steps)"
   ]
  },
  {
   "cell_type": "markdown",
   "metadata": {},
   "source": [
    "**While we know the ttest isn't appropriate here due to violation of assumptions,** what happens when we use it? "
   ]
  },
  {
   "cell_type": "code",
   "execution_count": null,
   "metadata": {},
   "outputs": [],
   "source": [
    "stats.ttest_ind(sa.steps, aus.steps, equal_var=False)"
   ]
  },
  {
   "cell_type": "markdown",
   "metadata": {},
   "source": [
    "## Does a negative correlation exist between the number of steps and BMI for SA Residents? Is there anything else you want to conclude from the dataset? "
   ]
  },
  {
   "cell_type": "code",
   "execution_count": null,
   "metadata": {},
   "outputs": [],
   "source": [
    "# sns.scatterplot(x='steps', y='bmi', data=df, c='city', cmap='Greens')\n",
    "sa = df[df.city == 'san antonio']\n",
    "plt.scatter(sa.bmi, sa.steps, c='lightgreen')\n",
    "plt.show()"
   ]
  },
  {
   "cell_type": "code",
   "execution_count": null,
   "metadata": {},
   "outputs": [],
   "source": []
  }
 ],
 "metadata": {
  "kernelspec": {
   "display_name": "Python 3",
   "language": "python",
   "name": "python3"
  },
  "language_info": {
   "codemirror_mode": {
    "name": "ipython",
    "version": 3
   },
   "file_extension": ".py",
   "mimetype": "text/x-python",
   "name": "python",
   "nbconvert_exporter": "python",
   "pygments_lexer": "ipython3",
   "version": "3.6.8"
  }
 },
 "nbformat": 4,
 "nbformat_minor": 2
}
