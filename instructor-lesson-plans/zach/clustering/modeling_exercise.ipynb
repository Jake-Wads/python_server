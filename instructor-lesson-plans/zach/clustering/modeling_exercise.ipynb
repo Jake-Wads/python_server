{
 "cells": [
  {
   "cell_type": "code",
   "execution_count": null,
   "id": "632ee534",
   "metadata": {},
   "outputs": [],
   "source": [
    "import pandas as pd\n",
    "import numpy as np\n",
    "import seaborn as sns\n",
    "import matplotlib.pyplot as plt\n",
    "from sklearn.cluster import KMeans\n",
    "\n",
    "import wrangle_mall"
   ]
  },
  {
   "cell_type": "code",
   "execution_count": null,
   "id": "7b689cb3",
   "metadata": {},
   "outputs": [],
   "source": [
    "iris = sns.load_dataset('iris')"
   ]
  },
  {
   "cell_type": "code",
   "execution_count": null,
   "id": "64c1c89e",
   "metadata": {},
   "outputs": [],
   "source": [
    "X = iris[['petal_length', 'petal_width']]\n",
    "\n",
    "kmeans = KMeans(n_clusters=3)\n",
    "kmeans.fit(X)\n",
    "iris['cluster'] = kmeans.labels_\n",
    "iris.cluster = iris.cluster.astype('category')\n",
    "\n",
    "sns.relplot(data=iris, y='petal_length', x='petal_width', hue='cluster')"
   ]
  },
  {
   "cell_type": "code",
   "execution_count": null,
   "id": "760139fa",
   "metadata": {},
   "outputs": [],
   "source": [
    "inertias = {k: KMeans(n_clusters=k).fit(X).inertia_ for k in range(2, 11)}\n",
    "pd.Series(inertias).plot()\n",
    "plt.grid()"
   ]
  },
  {
   "cell_type": "code",
   "execution_count": null,
   "id": "5e040154",
   "metadata": {},
   "outputs": [],
   "source": [
    "X = iris[['petal_length', 'petal_width']]\n",
    "\n",
    "kmeans = KMeans(n_clusters=4)\n",
    "kmeans.fit(X)\n",
    "iris['cluster'] = kmeans.labels_\n",
    "iris.cluster = iris.cluster.astype('category')\n",
    "\n",
    "sns.relplot(data=iris, y='petal_length', x='petal_width', hue='cluster')"
   ]
  },
  {
   "cell_type": "code",
   "execution_count": null,
   "id": "eed8feb2",
   "metadata": {},
   "outputs": [],
   "source": [
    "X = iris[['sepal_length', 'sepal_width']]\n",
    "\n",
    "kmeans = KMeans(n_clusters=4)\n",
    "kmeans.fit(X)\n",
    "iris['cluster'] = kmeans.labels_\n",
    "iris.cluster = iris.cluster.astype('category')\n",
    "\n",
    "fig, (ax1, ax2, ax3) = plt.subplots(1, 3, figsize=(16, 5))\n",
    "\n",
    "sns.scatterplot(data=iris, y='petal_length', x='petal_width', hue='cluster', ax=ax1)\n",
    "sns.scatterplot(data=iris, y='sepal_length', x='sepal_width', hue='cluster', ax=ax2)\n",
    "sns.scatterplot(data=iris, y='sepal_width', x='petal_width', hue='cluster', ax=ax3)\n",
    "fig.suptitle(f'clusters based on {X.columns.tolist()}')"
   ]
  },
  {
   "cell_type": "markdown",
   "id": "3a7f3a7a",
   "metadata": {},
   "source": [
    "## Mall Customers"
   ]
  },
  {
   "cell_type": "code",
   "execution_count": null,
   "id": "f5f615d6",
   "metadata": {},
   "outputs": [],
   "source": [
    "customers = wrangle_mall.acquire()\n",
    "train, validate, test = wrangle_mall.split(customers)\n",
    "train_scaled, _, _ = wrangle_mall.scale(train, validate, test)"
   ]
  },
  {
   "cell_type": "code",
   "execution_count": null,
   "id": "b79e79eb",
   "metadata": {},
   "outputs": [],
   "source": [
    "X = train[['annual_income', 'spending_score']]\n",
    "\n",
    "kmeans = KMeans(n_clusters=5)\n",
    "kmeans.fit(X)\n",
    "train['cluster'] = kmeans.labels_\n",
    "train.cluster = train.cluster.astype('category')"
   ]
  },
  {
   "cell_type": "code",
   "execution_count": null,
   "id": "411d6ed8",
   "metadata": {},
   "outputs": [],
   "source": [
    "fig, (ax1, ax2, ax3) = plt.subplots(1, 3, figsize=(16, 5))\n",
    "\n",
    "sns.scatterplot(data=train, y='spending_score', x='age', hue='cluster', ax=ax1)\n",
    "sns.scatterplot(data=train, y='spending_score', x='annual_income', hue='cluster', ax=ax2)\n",
    "sns.scatterplot(data=train, y='annual_income', x='age', hue='cluster', ax=ax3)\n",
    "fig.suptitle(f'clusters based on {X.columns.tolist()}')\n",
    "\n",
    "means_by_cluster = (train\n",
    " .assign(is_female=train.gender == 'Female')\n",
    " .drop(columns=['gender', 'customer_id'])\n",
    " .groupby('cluster')\n",
    " .mean())\n",
    "pd.concat([\n",
    "    means_by_cluster,\n",
    "    train.cluster.value_counts().sort_index().rename('count')\n",
    "], axis=1)"
   ]
  },
  {
   "cell_type": "markdown",
   "id": "3ee92954",
   "metadata": {},
   "source": [
    "Takeaways:\n",
    "\n",
    "- most data points in cluster 4\n",
    "- clusters 0, 2, and 4 tend be quite varied wrt age\n",
    "- clusters 1 and 3, the high spenders, tend to be younger"
   ]
  },
  {
   "cell_type": "code",
   "execution_count": null,
   "id": "8dd8425a",
   "metadata": {},
   "outputs": [],
   "source": [
    "sns.relplot(data=train, hue='cluster', col='gender', y='spending_score', x='annual_income')"
   ]
  },
  {
   "cell_type": "markdown",
   "id": "7379691d",
   "metadata": {},
   "source": [
    "## Bonus: Scaling"
   ]
  },
  {
   "cell_type": "code",
   "execution_count": null,
   "id": "43946a4d",
   "metadata": {},
   "outputs": [],
   "source": [
    "url = 'https://docs.google.com/spreadsheets/d/1j5EgXVTR5ikUj3G5ZCQmkq6ziz_gvtASGAdw23-5_6M/export?format=csv'\n",
    "df = pd.read_csv(url)\n",
    "df.head()"
   ]
  },
  {
   "cell_type": "code",
   "execution_count": null,
   "id": "712aaa0e",
   "metadata": {},
   "outputs": [],
   "source": [
    "df.plot.scatter(y='y', x='x')"
   ]
  },
  {
   "cell_type": "code",
   "execution_count": null,
   "id": "5115b77b",
   "metadata": {},
   "outputs": [],
   "source": [
    "kmeans = KMeans(n_clusters=2)\n",
    "kmeans.fit(df[['x', 'y']])\n",
    "df['cluster'] = kmeans.labels_\n",
    "\n",
    "sns.relplot(data=df, y='y', x='x', hue='cluster')"
   ]
  },
  {
   "cell_type": "code",
   "execution_count": null,
   "id": "198c72c6",
   "metadata": {},
   "outputs": [],
   "source": [
    "from sklearn.preprocessing import MinMaxScaler, RobustScaler, StandardScaler"
   ]
  },
  {
   "cell_type": "code",
   "execution_count": null,
   "id": "dea220f4",
   "metadata": {},
   "outputs": [],
   "source": [
    "df_scaled = df.copy()\n",
    "scaler = StandardScaler()\n",
    "df_scaled[['x', 'y']] = scaler.fit_transform(df[['x', 'y']])\n",
    "\n",
    "kmeans = KMeans(n_clusters=2)\n",
    "kmeans.fit(df_scaled[['x', 'y']])\n",
    "df['cluster'] = kmeans.labels_\n",
    "\n",
    "sns.relplot(data=df, y='y', x='x', hue='cluster')"
   ]
  },
  {
   "cell_type": "code",
   "execution_count": null,
   "id": "4a0f4e9b",
   "metadata": {},
   "outputs": [],
   "source": [
    "kmeans.cluster_centers_\n",
    "kmeans.labels_\n",
    "kmeans.inertia_"
   ]
  }
 ],
 "metadata": {
  "kernelspec": {
   "display_name": "Python 3 (ipykernel)",
   "language": "python",
   "name": "python3"
  },
  "language_info": {
   "codemirror_mode": {
    "name": "ipython",
    "version": 3
   },
   "file_extension": ".py",
   "mimetype": "text/x-python",
   "name": "python",
   "nbconvert_exporter": "python",
   "pygments_lexer": "ipython3",
   "version": "3.9.7"
  }
 },
 "nbformat": 4,
 "nbformat_minor": 5
}
