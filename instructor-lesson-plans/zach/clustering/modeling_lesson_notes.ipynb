{
 "cells": [
  {
   "cell_type": "markdown",
   "metadata": {},
   "source": [
    "# Clustering\n",
    "\n",
    "- What is clustering? Identifying groups in our data.\n",
    "- Why might we do clustering?\n",
    "    - Exploration\n",
    "    - Labeling\n",
    "    - Features for Supervised Learning\n",
    "- KMeans Algorithm\n",
    "    1. Start with `k` random points\n",
    "    1. Assign every observation to the closest centroids.\n",
    "    1. Recalculate centroids\n",
    "    1. Repeat"
   ]
  },
  {
   "cell_type": "markdown",
   "metadata": {},
   "source": [
    "## Example 1: Mall Customers"
   ]
  },
  {
   "cell_type": "markdown",
   "metadata": {},
   "source": [
    "### Setup"
   ]
  },
  {
   "cell_type": "code",
   "execution_count": null,
   "metadata": {},
   "outputs": [],
   "source": [
    "import pandas as pd\n",
    "import numpy as np\n",
    "import matplotlib.pyplot as plt\n",
    "import seaborn as sns\n",
    "\n",
    "from sklearn.cluster import KMeans\n",
    "\n",
    "import wrangle_mall"
   ]
  },
  {
   "cell_type": "code",
   "execution_count": null,
   "metadata": {},
   "outputs": [],
   "source": [
    "customers = wrangle_mall.acquire()\n",
    "train, validate, test = wrangle_mall.split(customers)\n",
    "train_scaled, _, _ = wrangle_mall.scale(train, validate, test)"
   ]
  },
  {
   "cell_type": "markdown",
   "metadata": {},
   "source": [
    "### Cluster\n",
    "\n",
    "1. choose features to cluster on\n",
    "1. choose k\n",
    "1. create and fit the model"
   ]
  },
  {
   "cell_type": "code",
   "execution_count": null,
   "metadata": {},
   "outputs": [],
   "source": [
    "cols = ['spending_score', 'annual_income']\n",
    "X = train_scaled[cols]\n",
    "kmeans = KMeans(n_clusters=5).fit(X)"
   ]
  },
  {
   "cell_type": "markdown",
   "metadata": {},
   "source": [
    "1. Look at the model's output\n",
    "1. interpretation\n",
    "1. visualize"
   ]
  },
  {
   "cell_type": "code",
   "execution_count": null,
   "metadata": {},
   "outputs": [],
   "source": [
    "# NB. clusters were created on scaled data, but can be used to analyze unscaled\n",
    "train['cluster'] = kmeans.predict(X)\n",
    "train.cluster = train.cluster.astype('category')\n",
    "train.head()"
   ]
  },
  {
   "cell_type": "code",
   "execution_count": null,
   "metadata": {},
   "outputs": [],
   "source": [
    "sns.relplot(data=train, y='spending_score', x='annual_income', hue='cluster')"
   ]
  },
  {
   "cell_type": "code",
   "execution_count": null,
   "metadata": {},
   "outputs": [],
   "source": [
    "train.groupby('cluster').mean()"
   ]
  },
  {
   "cell_type": "markdown",
   "metadata": {},
   "source": [
    "### Example: Clusters for Supervised Model\n",
    "\n",
    "1. Do clustering\n",
    "1. Build a model with the *just* the produced clusters\n",
    "1. Look at the coefficients of the resulting model to determine which clusters are most important (most impactful on the model's predictions)\n",
    "1. Use the most impactful clusters in combination with other features"
   ]
  },
  {
   "cell_type": "code",
   "execution_count": null,
   "metadata": {},
   "outputs": [],
   "source": [
    "from sklearn.linear_model import LinearRegression"
   ]
  },
  {
   "cell_type": "code",
   "execution_count": null,
   "metadata": {},
   "outputs": [],
   "source": [
    "cols = ['age', 'annual_income']\n",
    "X = train_scaled[cols]\n",
    "kmeans = KMeans(n_clusters=5).fit(X)"
   ]
  },
  {
   "cell_type": "code",
   "execution_count": null,
   "metadata": {},
   "outputs": [],
   "source": [
    "train['cluster'] = kmeans.predict(X)\n",
    "\n",
    "cluster_df = pd.get_dummies(train.cluster)\n",
    "cluster_df.columns = [f'cluster_{n}' for n in cluster_df]\n",
    "cluster_df.head()"
   ]
  },
  {
   "cell_type": "code",
   "execution_count": null,
   "metadata": {},
   "outputs": [],
   "source": [
    "X = cluster_df\n",
    "y = train.spending_score\n",
    "\n",
    "lr = LinearRegression()\n",
    "lr.fit(X, y)\n",
    "lr.score(X, y)"
   ]
  },
  {
   "cell_type": "code",
   "execution_count": null,
   "metadata": {},
   "outputs": [],
   "source": [
    "lr.intercept_"
   ]
  },
  {
   "cell_type": "code",
   "execution_count": null,
   "metadata": {},
   "outputs": [],
   "source": [
    "pd.options.display.float_format = '{:15.2f}'.format"
   ]
  },
  {
   "cell_type": "code",
   "execution_count": null,
   "metadata": {},
   "outputs": [],
   "source": [
    "pd.Series(lr.coef_, index=X.columns).sort_values()"
   ]
  },
  {
   "cell_type": "code",
   "execution_count": null,
   "metadata": {},
   "outputs": [],
   "source": [
    "train['is_cluster_4'] = train['cluster'] == 4"
   ]
  },
  {
   "cell_type": "code",
   "execution_count": null,
   "metadata": {},
   "outputs": [],
   "source": [
    "X = train[['age', 'annual_income', 'is_cluster_4']]\n",
    "y = train.spending_score\n",
    "\n",
    "lr = LinearRegression()\n",
    "lr.fit(X, y)\n",
    "lr.score(X, y)"
   ]
  },
  {
   "cell_type": "markdown",
   "metadata": {},
   "source": [
    "Takeaway:\n",
    "\n",
    "- Adding cluster 4 was not helpful in our model\n",
    "- When using clustering for supervised learning, we could use clusters based on independent variables in place of those variables\n",
    "    - Ex. cluster on x1, x2, analyze clusters, build a model with clusters and x3 to predict y\n",
    "    - Ex. cluster on bedroom count and bathroom count, use those clusers in combination with square footage to predict home value"
   ]
  },
  {
   "cell_type": "markdown",
   "metadata": {},
   "source": [
    "### How do we choose a value for k?\n",
    "\n",
    "It's a judgement call\n",
    "\n",
    "- domain knowledge\n",
    "- educated guesses\n",
    "- the elbow method\n",
    "    - **inertia**: sum of squared distance from each point to its centroid"
   ]
  },
  {
   "cell_type": "markdown",
   "metadata": {},
   "source": [
    "Elbow Method Demo\n",
    "\n",
    "1. Choose a range of k values\n",
    "1. Create a model for each k and record **inertia**\n",
    "1. Visualize results (k vs inertia)"
   ]
  },
  {
   "cell_type": "code",
   "execution_count": null,
   "metadata": {},
   "outputs": [],
   "source": [
    "cols = ['spending_score', 'annual_income']\n",
    "X = train_scaled[cols]\n",
    "\n",
    "inertias = {}\n",
    "\n",
    "for k in range(2, 11):\n",
    "    kmeans = KMeans(n_clusters=k)\n",
    "    kmeans.fit(X)\n",
    "    inertias[k] = kmeans.inertia_\n",
    "\n",
    "pd.Series(inertias).plot(xlabel='k', ylabel='Inertia', figsize=(13, 7))\n",
    "plt.grid()"
   ]
  },
  {
   "cell_type": "markdown",
   "metadata": {},
   "source": [
    "## Example 2: Insurance Data"
   ]
  },
  {
   "cell_type": "markdown",
   "metadata": {},
   "source": [
    "### Setup"
   ]
  },
  {
   "cell_type": "code",
   "execution_count": null,
   "metadata": {},
   "outputs": [],
   "source": [
    "from sklearn.model_selection import train_test_split\n",
    "from sklearn.preprocessing import MinMaxScaler\n",
    "\n",
    "df = pd.read_csv('https://gist.githubusercontent.com/zgulde/ad9305acb30b00f768d4541a41f5ba19/raw/01f4ac8f158e68b0d293ff726c0c1dd08cdd501d/insurance.csv')\n",
    "df.head()"
   ]
  },
  {
   "cell_type": "code",
   "execution_count": null,
   "metadata": {},
   "outputs": [],
   "source": [
    "# data split\n",
    "train_and_validate, test = train_test_split(df, test_size=.1, random_state=123)\n",
    "train, validate = train_test_split(train_and_validate, test_size=.1, random_state=123)\n",
    "\n",
    "# scale\n",
    "scaler = MinMaxScaler()\n",
    "cols = ['age', 'bmi', 'children', 'charges']\n",
    "train_scaled = train.copy()\n",
    "train_scaled[cols] = scaler.fit_transform(train[cols])"
   ]
  },
  {
   "cell_type": "markdown",
   "metadata": {},
   "source": [
    "### Cluster"
   ]
  },
  {
   "cell_type": "markdown",
   "metadata": {},
   "source": [
    "1. Choose a k\n",
    "1. Create the model and produce clusters\n",
    "1. Interpret results"
   ]
  },
  {
   "cell_type": "code",
   "execution_count": null,
   "metadata": {},
   "outputs": [],
   "source": [
    "X = train_scaled[cols]\n",
    "kmeans = KMeans(n_clusters=4).fit(X)\n",
    "train['cluster'] = kmeans.predict(X)\n",
    "train.cluster = train.cluster.astype('category')"
   ]
  },
  {
   "cell_type": "code",
   "execution_count": null,
   "metadata": {},
   "outputs": [],
   "source": [
    "train.head()"
   ]
  },
  {
   "cell_type": "code",
   "execution_count": null,
   "metadata": {},
   "outputs": [],
   "source": [
    "sns.relplot(data=train, y='bmi', x='age', hue='cluster', col='smoker')"
   ]
  },
  {
   "cell_type": "code",
   "execution_count": null,
   "metadata": {},
   "outputs": [],
   "source": [
    "# clustering based on 'age', 'bmi', 'children', and 'charges'\n",
    "train.groupby('cluster').mean()"
   ]
  },
  {
   "cell_type": "code",
   "execution_count": null,
   "metadata": {},
   "outputs": [],
   "source": [
    "sns.catplot(data=train, hue='children', y='charges', x='cluster', kind='bar')"
   ]
  },
  {
   "cell_type": "code",
   "execution_count": null,
   "metadata": {},
   "outputs": [],
   "source": [
    "s = pd.Series(inertias).rename('Inertia')\n",
    "\n",
    "pd.concat([\n",
    "    s, s.pct_change(periods=1)\n",
    "], axis=1)"
   ]
  },
  {
   "cell_type": "code",
   "execution_count": null,
   "metadata": {},
   "outputs": [],
   "source": [
    "from sklearn.cluster import k_means"
   ]
  },
  {
   "cell_type": "code",
   "execution_count": null,
   "metadata": {},
   "outputs": [],
   "source": [
    "X = sns.load_dataset('iris').drop(columns='species')\n",
    "\n",
    "inertias = {}\n",
    "\n",
    "for k in range(2, 11):\n",
    "    centroids, labels, inertia = k_means(X, k)\n",
    "    inertias[k] = inertia\n",
    "    \n",
    "\n",
    "fig, (ax1, ax2) = plt.subplots(1, 2, figsize=(13, 7))\n",
    "s = pd.Series(inertias)\n",
    "s.plot(ax=ax1, title='Inertia Vs K')\n",
    "s.pct_change().plot(title='% Change in Inertia vs K', ax=ax2)"
   ]
  },
  {
   "cell_type": "code",
   "execution_count": null,
   "metadata": {},
   "outputs": [],
   "source": [
    "customers.head()"
   ]
  },
  {
   "cell_type": "code",
   "execution_count": null,
   "metadata": {},
   "outputs": [],
   "source": [
    "X = customers[['annual_income', 'spending_score']]\n",
    "\n",
    "inertias = {}\n",
    "\n",
    "for k in range(2, 11):\n",
    "    centroids, labels, inertia = k_means(X, k)\n",
    "    inertias[k] = inertia\n",
    "    \n",
    "\n",
    "fig, (ax1, ax2) = plt.subplots(1, 2, figsize=(13, 7))\n",
    "s = pd.Series(inertias)\n",
    "s.plot(ax=ax1, title='Inertia Vs K')\n",
    "s.pct_change().plot(title='% Change in Inertia vs K', ax=ax2)"
   ]
  },
  {
   "cell_type": "code",
   "execution_count": null,
   "metadata": {},
   "outputs": [],
   "source": [
    "bonus_df = pd.read_clipboard()"
   ]
  },
  {
   "cell_type": "code",
   "execution_count": null,
   "metadata": {},
   "outputs": [],
   "source": [
    "df = bonus_df.copy()"
   ]
  },
  {
   "cell_type": "code",
   "execution_count": null,
   "metadata": {},
   "outputs": [],
   "source": [
    "plt.scatter(df.x, df.y)"
   ]
  },
  {
   "cell_type": "code",
   "execution_count": null,
   "metadata": {},
   "outputs": [],
   "source": [
    "centroids, labels, inertia = k_means(df[['x', 'y']], 2)\n",
    "df['cluster'] = labels\n",
    "df.cluster = df.cluster.astype('category')\n",
    "sns.relplot(data=df, y='y', x='x', hue='cluster')"
   ]
  },
  {
   "cell_type": "code",
   "execution_count": null,
   "metadata": {},
   "outputs": [],
   "source": [
    "from sklearn.preprocessing import scale"
   ]
  },
  {
   "cell_type": "code",
   "execution_count": null,
   "metadata": {},
   "outputs": [],
   "source": [
    "centroids, labels, inertia = k_means(scale(df[['x', 'y']]), 2)\n",
    "df['cluster'] = labels\n",
    "df.cluster = df.cluster.astype('category')\n",
    "sns.relplot(data=df, y='y', x='x', hue='cluster')"
   ]
  }
 ],
 "metadata": {
  "kernelspec": {
   "display_name": "Python 3 (ipykernel)",
   "language": "python",
   "name": "python3"
  },
  "language_info": {
   "codemirror_mode": {
    "name": "ipython",
    "version": 3
   },
   "file_extension": ".py",
   "mimetype": "text/x-python",
   "name": "python",
   "nbconvert_exporter": "python",
   "pygments_lexer": "ipython3",
   "version": "3.9.7"
  }
 },
 "nbformat": 4,
 "nbformat_minor": 4
}
