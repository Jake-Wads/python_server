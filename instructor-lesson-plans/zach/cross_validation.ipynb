{
 "cells": [
  {
   "cell_type": "markdown",
   "id": "55a55f43-7a33-4892-9173-662a450ff52c",
   "metadata": {},
   "source": [
    "<div style=\"display: grid; grid-template-columns: repeat(4, 1fr); gap: 1em;\">\n",
    "    <div style=\"background: blue;\"></div>\n",
    "</div>"
   ]
  },
  {
   "cell_type": "markdown",
   "id": "86da1f31-2ddb-4ea0-83ec-47d6df9c4dbb",
   "metadata": {},
   "source": [
    "## Setup"
   ]
  },
  {
   "cell_type": "markdown",
   "id": "9f32a0ba-1196-4b31-a9c3-cacf25573d3a",
   "metadata": {},
   "source": [
    "We'll use the mpg dataset and predict whether a car has automatic or manual transmission."
   ]
  },
  {
   "cell_type": "code",
   "execution_count": null,
   "id": "5956f40e-49f1-4a8a-9696-fd652b9b5672",
   "metadata": {},
   "outputs": [],
   "source": [
    "import numpy as np\n",
    "import pandas as pd\n",
    "import matplotlib.pyplot as plt\n",
    "import pydataset\n",
    "\n",
    "from sklearn.model_selection import cross_val_score, GridSearchCV, train_test_split\n",
    "from sklearn.tree import DecisionTreeClassifier\n",
    "from sklearn.neighbors import KNeighborsClassifier"
   ]
  },
  {
   "cell_type": "code",
   "execution_count": null,
   "id": "c507430f-fde1-43d1-9943-a25452dcb312",
   "metadata": {},
   "outputs": [],
   "source": [
    "mpg = pydataset.data('mpg')\n",
    "mpg.trans = np.where(mpg.trans.str.startswith('auto'), 'auto', 'manual')"
   ]
  },
  {
   "cell_type": "code",
   "execution_count": null,
   "id": "f15de520-e4ea-4779-8b1c-42860c3d71db",
   "metadata": {},
   "outputs": [],
   "source": [
    "X, y = mpg[['displ', 'cyl', 'cty', 'hwy']], mpg.trans"
   ]
  },
  {
   "cell_type": "code",
   "execution_count": null,
   "id": "4a2933ce-a6de-42d9-b3a3-ed7ae942cf92",
   "metadata": {},
   "outputs": [],
   "source": [
    "X_train, X_test, y_train, y_test = train_test_split(X, y, random_state=123)"
   ]
  },
  {
   "cell_type": "markdown",
   "id": "47497abe-0d11-4e6e-813e-e24330e2fe5d",
   "metadata": {},
   "source": [
    "## `.cross_val_score`"
   ]
  },
  {
   "cell_type": "code",
   "execution_count": null,
   "id": "fe2322e6-2d6c-41a6-a640-01fc30cc1315",
   "metadata": {},
   "outputs": [],
   "source": [
    "clf = DecisionTreeClassifier(max_depth=4)\n",
    "cross_val_score(clf, X_train, y_train, cv=5).mean()"
   ]
  },
  {
   "cell_type": "code",
   "execution_count": null,
   "id": "aa2ab63d-c277-46c7-a2e6-e14e4eca4d17",
   "metadata": {},
   "outputs": [],
   "source": [
    "results = []\n",
    "for depth in range(1, 21):\n",
    "    clf = DecisionTreeClassifier(max_depth=depth)\n",
    "    result = {'depth': depth}\n",
    "    result['score'] = cross_val_score(clf, X_train, y_train, cv=5).mean()\n",
    "    results.append(result)\n",
    "        \n",
    "pd.DataFrame(results).set_index('depth').score.plot(xticks=range(1, 21))"
   ]
  },
  {
   "cell_type": "markdown",
   "id": "d703fff5-38b9-4528-b1a0-0e1bc52cfde2",
   "metadata": {},
   "source": [
    "## Grid Search"
   ]
  },
  {
   "cell_type": "code",
   "execution_count": null,
   "id": "d0a4b085-161b-4ca3-8ffb-43b5cde1ca52",
   "metadata": {},
   "outputs": [],
   "source": [
    "clf = KNeighborsClassifier()\n",
    "grid = GridSearchCV(clf, {'n_neighbors': range(1, 21)}, cv=5)\n",
    "grid.fit(X_train, y_train)"
   ]
  },
  {
   "cell_type": "code",
   "execution_count": null,
   "id": "6b132639-fbdb-49f6-a0fe-bff83b920841",
   "metadata": {},
   "outputs": [],
   "source": [
    "grid.cv_results_['mean_test_score']"
   ]
  },
  {
   "cell_type": "code",
   "execution_count": null,
   "id": "056a9d41-1bae-4dfc-a4c4-7269d2d89d88",
   "metadata": {},
   "outputs": [],
   "source": [
    "grid.cv_results_['params']"
   ]
  },
  {
   "cell_type": "code",
   "execution_count": null,
   "id": "79a56864-5cfd-4359-be87-8d13997a0ef1",
   "metadata": {},
   "outputs": [],
   "source": [
    "grid.best_score_, grid.best_params_"
   ]
  },
  {
   "cell_type": "code",
   "execution_count": null,
   "id": "36afca61-92f9-4578-a118-d3552769437f",
   "metadata": {},
   "outputs": [],
   "source": [
    "grid.best_estimator_"
   ]
  },
  {
   "cell_type": "code",
   "execution_count": null,
   "id": "d8b58770-9b11-4372-b628-647f10df0aff",
   "metadata": {},
   "outputs": [],
   "source": [
    "clf = DecisionTreeClassifier()\n",
    "grid = GridSearchCV(clf, {'max_depth': range(1, 21), 'min_samples_leaf': range(1, 11)}, cv=10)\n",
    "grid.fit(X_train, y_train)"
   ]
  },
  {
   "cell_type": "code",
   "execution_count": null,
   "id": "90534bd7-d94b-4781-8e84-bc65ab031ba2",
   "metadata": {},
   "outputs": [],
   "source": [
    "for params, score in zip(grid.cv_results_['params'], grid.cv_results_['mean_test_score']):\n",
    "    params['score'] = score"
   ]
  },
  {
   "cell_type": "code",
   "execution_count": null,
   "id": "24592e9d-9254-4d4a-b308-1dc22a37b46f",
   "metadata": {},
   "outputs": [],
   "source": [
    "pd.DataFrame(grid.cv_results_['params']).sort_values(by='score').tail(10)"
   ]
  },
  {
   "cell_type": "markdown",
   "id": "06f98a38-f02a-438a-9f24-bb01260f9597",
   "metadata": {},
   "source": [
    "## Custom Scoring"
   ]
  },
  {
   "cell_type": "code",
   "execution_count": null,
   "id": "07e44c51-3a79-411f-8f3c-d8e6b5a5804a",
   "metadata": {},
   "outputs": [],
   "source": [
    "from sklearn.metrics import make_scorer, precision_score\n",
    "\n",
    "clf = KNeighborsClassifier(n_neighbors=5)\n",
    "cross_val_score(clf, X_train, y_train, scoring=make_scorer(precision_score, pos_label='manual'))"
   ]
  }
 ],
 "metadata": {
  "kernelspec": {
   "display_name": "Python 3",
   "language": "python",
   "name": "python3"
  },
  "language_info": {
   "codemirror_mode": {
    "name": "ipython",
    "version": 3
   },
   "file_extension": ".py",
   "mimetype": "text/x-python",
   "name": "python",
   "nbconvert_exporter": "python",
   "pygments_lexer": "ipython3",
   "version": "3.8.5"
  }
 },
 "nbformat": 4,
 "nbformat_minor": 5
}
