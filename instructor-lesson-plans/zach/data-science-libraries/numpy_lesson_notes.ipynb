{
 "cells": [
  {
   "cell_type": "markdown",
   "metadata": {},
   "source": [
    "# Numpy"
   ]
  },
  {
   "cell_type": "code",
   "execution_count": null,
   "metadata": {},
   "outputs": [],
   "source": [
    "import numpy as np"
   ]
  },
  {
   "cell_type": "markdown",
   "metadata": {},
   "source": [
    "## Vectorized Operations\n",
    "\n",
    "Doing addition with every single list element requires a loop or a list comprehension:"
   ]
  },
  {
   "cell_type": "code",
   "execution_count": null,
   "metadata": {},
   "outputs": [],
   "source": [
    "[1, 2, 3] + 2"
   ]
  },
  {
   "cell_type": "markdown",
   "metadata": {},
   "source": [
    "Numpy can make this, and almost any other operation easier (**vectorized**):"
   ]
  },
  {
   "cell_type": "markdown",
   "metadata": {},
   "source": [
    "## Indexing\n",
    "\n",
    "Comparison operators produce boolean lists, or *masks*. These masks can be used to index into arrays to extract only the elements where the mask is true.\n",
    "\n",
    "Demo:\n",
    "\n",
    "1. Create a boolean mask\n",
    "2. Index into the array\n",
    "3. Negate the mask"
   ]
  },
  {
   "cell_type": "markdown",
   "metadata": {},
   "source": [
    "## Methods\n",
    "\n",
    "- `min`\n",
    "- `max`\n",
    "- `sum`\n",
    "- `std`"
   ]
  },
  {
   "cell_type": "markdown",
   "metadata": {},
   "source": [
    "## More Examples"
   ]
  },
  {
   "cell_type": "code",
   "execution_count": null,
   "metadata": {},
   "outputs": [],
   "source": [
    "# Generate 1000 random numbers between 1 and 100\n",
    "np.random.seed(123)\n",
    "a = np.random.randint(1, 101, 1000)"
   ]
  },
  {
   "cell_type": "markdown",
   "metadata": {},
   "source": [
    "We can use numpy to answer some questions:"
   ]
  },
  {
   "cell_type": "code",
   "execution_count": null,
   "metadata": {},
   "outputs": [],
   "source": [
    "# 1. How many data points are there?\n",
    "# 2. How many data points are greater than 70? (.shape + .sum)\n",
    "# 3. What is the sum of the odd numbers?\n",
    "# 4. Take all the numbers between 30 and 80 (inclusive), square them, what is the highest resulting number?\n",
    "# 5. Square the odd numbers in the array. What is the average of the resulting data set? (np.where)\n",
    "# 6. Square the even numbers in the array. Remove any odd number less than 40.\n",
    "#    Double odd numbers greater than 80. What is the sum of the resulting dataset?"
   ]
  },
  {
   "cell_type": "markdown",
   "metadata": {},
   "source": [
    "## Matrices\n",
    "\n",
    "- construction\n",
    "- manipulating\n",
    "- axis="
   ]
  },
  {
   "cell_type": "code",
   "execution_count": null,
   "metadata": {},
   "outputs": [],
   "source": [
    "m = [[1, 2, 3], [4, 5, 6], [7, 8, 9]]"
   ]
  }
 ],
 "metadata": {
  "kernelspec": {
   "display_name": "Python 3",
   "language": "python",
   "name": "python3"
  },
  "language_info": {
   "codemirror_mode": {
    "name": "ipython",
    "version": 3
   },
   "file_extension": ".py",
   "mimetype": "text/x-python",
   "name": "python",
   "nbconvert_exporter": "python",
   "pygments_lexer": "ipython3",
   "version": "3.7.3"
  }
 },
 "nbformat": 4,
 "nbformat_minor": 4
}
