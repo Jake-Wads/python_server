{
 "cells": [
  {
   "cell_type": "markdown",
   "metadata": {},
   "source": [
    "# Probability Distributions\n",
    "\n",
    "**probability distribution**: a mathematical function we use to representat a real-world process where the outcome is a **random variable**: a variable who's value in unknown\n",
    "\n",
    "Most distributions have **parameters** that define their shape.\n",
    "\n",
    "- uniform (randint): all outcomes are equally likely\n",
    "    - parameters: low + high cutoffs\n",
    "- binomial: number of sucesses after n trials\n",
    "    - assumes independence of trials\n",
    "    - n: number of trials\n",
    "    - p: probability of sucess\n",
    "- normal: the \"bell curve\"; values closer to the middle are more likely that values further away\n",
    "    - mean, $\\mu$: center point of the distribution\n",
    "    - standard deviation, $\\sigma$: the spread of the distribution, how wide or narrow it is\n",
    "- poisson: number of events that occur for a given time interval\n",
    "    - k, $\\lambda$: average rate over the time interval\n",
    "    - upper bound is infinite\n",
    "\n",
    "What we can get out of a scipy distribution object:\n",
    "\n",
    "- value -> probability\n",
    "    - **pmf**: equal to a point (only for discrete distributions!)\n",
    "    - **cdf**: less than or equal to a point\n",
    "    - **sf**: greater than a point\n",
    "- probability -> value\n",
    "    - **ppf**: less than or equal to a point\n",
    "    - **isf**: greater than a point\n",
    "- **rvs** for random values (could also use numpy)"
   ]
  },
  {
   "cell_type": "code",
   "execution_count": null,
   "metadata": {},
   "outputs": [],
   "source": [
    "import pandas as pd\n",
    "import numpy as np\n",
    "import matplotlib.pyplot as plt"
   ]
  },
  {
   "cell_type": "markdown",
   "metadata": {},
   "source": [
    "The `stats` module within [scipy](https://www.scipy.org/) gives a lot of functions and objects for statistical computation, including the functionality we'll need for working with probability distributions."
   ]
  },
  {
   "cell_type": "code",
   "execution_count": null,
   "metadata": {},
   "outputs": [],
   "source": [
    "from scipy import stats"
   ]
  },
  {
   "cell_type": "markdown",
   "metadata": {},
   "source": [
    "## Working with Probability Distributions"
   ]
  },
  {
   "cell_type": "markdown",
   "metadata": {},
   "source": [
    "`rvs` can be used to visualize a distribution"
   ]
  },
  {
   "cell_type": "code",
   "execution_count": null,
   "metadata": {},
   "outputs": [],
   "source": [
    "x = stats.randint(1, 7).rvs(100)\n",
    "pd.Series(x).value_counts().sort_index().plot.bar(\n",
    "    width=.9,\n",
    "    ec='black',\n",
    "    title='Outcome of 1,000 Dice Rolls',\n",
    ")"
   ]
  },
  {
   "cell_type": "markdown",
   "metadata": {},
   "source": [
    "Demo: using distribution methods\n",
    "\n",
    "- What is the probability we roll a 3?\n",
    "- What is the probability we roll a 3 or less?\n",
    "- What is the probability we roll greater than a 3?\n",
    "- There's a 50% chance we roll less than or equal to what number?\n",
    "- There's a 50% chance we roll greater than what number?"
   ]
  },
  {
   "cell_type": "markdown",
   "metadata": {},
   "source": [
    "## Examples"
   ]
  },
  {
   "cell_type": "markdown",
   "metadata": {},
   "source": [
    "Suppose the average high temperature in august is 98.2 ± 2.7 degrees farenheiht. How hot would it have to be for a day to be in the hottest 10% of all days? The lowest 25%? How likely is it that the temperature breaks 100 degrees?"
   ]
  },
  {
   "cell_type": "markdown",
   "metadata": {},
   "source": [
    "We know that the average number of messages in the zoom chat during a lecture is 25. During the probability distributions lecture, we observe that 29 chat messages were sent. How likely is it that we observed 29 chat messages? 29 or fewer? How likely is it we observed 29 or more chat messages?"
   ]
  },
  {
   "cell_type": "markdown",
   "metadata": {},
   "source": [
    "Suppose our company's weekly newsletter has been sent out, in its entire lifetime, 10,412 times. Of the times it has been sent out, it has been opened 2,598 times. This week we sent out 688 emails and found that 160 of them were opened. How likely is it that this many emails or fewer were opened?"
   ]
  }
 ],
 "metadata": {
  "kernelspec": {
   "display_name": "Python 3",
   "language": "python",
   "name": "python3"
  },
  "language_info": {
   "codemirror_mode": {
    "name": "ipython",
    "version": 3
   },
   "file_extension": ".py",
   "mimetype": "text/x-python",
   "name": "python",
   "nbconvert_exporter": "python",
   "pygments_lexer": "ipython3",
   "version": "3.7.3"
  }
 },
 "nbformat": 4,
 "nbformat_minor": 4
}
