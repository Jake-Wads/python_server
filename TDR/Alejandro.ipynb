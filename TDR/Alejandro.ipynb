{
 "cells": [
  {
   "cell_type": "markdown",
   "id": "8c909772",
   "metadata": {},
   "source": [
    "# Alejando"
   ]
  },
  {
   "cell_type": "markdown",
   "id": "d0701a1f",
   "metadata": {},
   "source": [
    "<hr style=\"border:2px solid gray\">"
   ]
  },
  {
   "cell_type": "code",
   "execution_count": 1,
   "id": "50f8dea2",
   "metadata": {},
   "outputs": [],
   "source": [
    "#imports\n",
    "import pandas as pd\n",
    "import matplotlib.pyplot as plt\n",
    "import numpy as np"
   ]
  },
  {
   "cell_type": "code",
   "execution_count": 2,
   "id": "ad897a72",
   "metadata": {},
   "outputs": [
    {
     "name": "stdout",
     "output_type": "stream",
     "text": [
      "The final grade for the student is: 50.68\n"
     ]
    }
   ],
   "source": [
    "def calculate_final_grade(exercise_grades, project_grades, attendance_grade, quiz_grades):\n",
    "    # Define the weights for each category\n",
    "    exercise_weight = 0.2\n",
    "    project_weight = 0.4\n",
    "    attendance_weight = 0.1\n",
    "    quiz_weight = 0.3\n",
    "\n",
    "    # Calculate the overall weighted score for each category\n",
    "    exercise_score = sum(exercise_grades) / len(exercise_grades)\n",
    "    project_score = sum(project_grades) / len(project_grades)\n",
    "    quiz_score = sum(quiz_grades) / len(quiz_grades)\n",
    "    \n",
    "    # Calculate the overall weighted score\n",
    "    final_grade = (exercise_score * exercise_weight) + (project_score * project_weight) + \\\n",
    "                             (attendance_grade * attendance_weight) + (quiz_score * quiz_weight)\n",
    "\n",
    "    return final_grade\n",
    "\n",
    "\n",
    "# Input the existing grades for the student\n",
    "exercise_grades = [100, 96, 91,95,0,51,24,80,40,33,50] \n",
    "project_grades = [93, 57, 80, 21, 0] \n",
    "attendance_grade = 82  \n",
    "quiz_grades = [67,37,0]  \n",
    "\n",
    "# Calculate the final grade\n",
    "final_grade = calculate_final_grade(exercise_grades, project_grades, attendance_grade, quiz_grades)\n",
    "\n",
    "# Print the final grade\n",
    "print(\"The final grade for the student is:\", final_grade)"
   ]
  },
  {
   "cell_type": "markdown",
   "id": "9bb5ba23",
   "metadata": {},
   "source": [
    "<hr style=\"border:2px solid gray\">"
   ]
  },
  {
   "cell_type": "markdown",
   "id": "c9838d62",
   "metadata": {},
   "source": [
    "## Evaluation of Alejandro's Performance to Date"
   ]
  },
  {
   "cell_type": "markdown",
   "id": "68da4965",
   "metadata": {},
   "source": [
    "To this point, Quintela has recieved grades for a total of:\n",
    "- 11 exercises (19 remaining)\n",
    "- 5 projects (5 remaining)\n",
    "- 3 quizzes (2 remaining)\n",
    "- 1 attendance grade"
   ]
  },
  {
   "cell_type": "code",
   "execution_count": 3,
   "id": "1d8d9fa0",
   "metadata": {},
   "outputs": [],
   "source": [
    "exercise_weight = 0.2\n",
    "project_weight = 0.4\n",
    "attendance_weight = 0.1\n",
    "quiz_weight = 0.3"
   ]
  },
  {
   "cell_type": "markdown",
   "id": "c236b7f1",
   "metadata": {},
   "source": [
    "<b>Current Overall Exercise Grade</b> (Out of 100)"
   ]
  },
  {
   "cell_type": "code",
   "execution_count": 4,
   "id": "d5344b13",
   "metadata": {},
   "outputs": [
    {
     "data": {
      "text/plain": [
       "60.0"
      ]
     },
     "execution_count": 4,
     "metadata": {},
     "output_type": "execute_result"
    }
   ],
   "source": [
    "exercise_score = sum(exercise_grades) / len(exercise_grades)\n",
    "exercise_score"
   ]
  },
  {
   "cell_type": "markdown",
   "id": "be586b2f",
   "metadata": {},
   "source": [
    "<b>Current Overall Project Grade</b> (Out of 100)"
   ]
  },
  {
   "cell_type": "code",
   "execution_count": 5,
   "id": "eb505a71",
   "metadata": {},
   "outputs": [
    {
     "data": {
      "text/plain": [
       "50.2"
      ]
     },
     "execution_count": 5,
     "metadata": {},
     "output_type": "execute_result"
    }
   ],
   "source": [
    "project_score = sum(project_grades) / len(project_grades)\n",
    "project_score"
   ]
  },
  {
   "cell_type": "markdown",
   "id": "148ef39f",
   "metadata": {},
   "source": [
    "<b>Current Overall Quize Grade</b> (Out of 100)"
   ]
  },
  {
   "cell_type": "code",
   "execution_count": 6,
   "id": "60c44a05",
   "metadata": {},
   "outputs": [
    {
     "data": {
      "text/plain": [
       "34.666666666666664"
      ]
     },
     "execution_count": 6,
     "metadata": {},
     "output_type": "execute_result"
    }
   ],
   "source": [
    "quiz_score = sum(quiz_grades) / len(quiz_grades)\n",
    "quiz_score"
   ]
  },
  {
   "cell_type": "markdown",
   "id": "9b949d9a",
   "metadata": {},
   "source": [
    "<b>Overall Final Grade</b> (Out of 100)"
   ]
  },
  {
   "cell_type": "code",
   "execution_count": 7,
   "id": "aeb3bc96",
   "metadata": {},
   "outputs": [
    {
     "data": {
      "text/plain": [
       "50.68"
      ]
     },
     "execution_count": 7,
     "metadata": {},
     "output_type": "execute_result"
    }
   ],
   "source": [
    "overall_weighted_score = (exercise_score * exercise_weight) + (project_score * project_weight) + \\\n",
    "                             (attendance_grade * attendance_weight) + (quiz_score * quiz_weight)\n",
    "overall_weighted_score"
   ]
  },
  {
   "cell_type": "markdown",
   "id": "e3c72b48",
   "metadata": {},
   "source": [
    "### Takeaways"
   ]
  },
  {
   "cell_type": "markdown",
   "id": "33ccf9c2",
   "metadata": {},
   "source": [
    "If the course were to end today, Alejandro would finish with a 50.68% grade. \n",
    "- Exercise grade: 60/100\n",
    "- Project Grade: 50.2/100\n",
    "- Quiz Grade: 34.66/100\n",
    "- Attendance: 82/100"
   ]
  },
  {
   "cell_type": "markdown",
   "id": "27677714",
   "metadata": {},
   "source": [
    "<hr style=\"border:2px solid gray\">"
   ]
  },
  {
   "cell_type": "markdown",
   "id": "14eebee3",
   "metadata": {},
   "source": [
    "## Projected through Regression Progress Report"
   ]
  },
  {
   "cell_type": "markdown",
   "id": "183e240d",
   "metadata": {},
   "source": [
    "We can project that through Regression Progress Report, Quintela will have a total of:\n",
    "- 18 exercises (7 more than current)\n",
    "- 7 projects (2 more than current)\n",
    "- 5 quizzes (no additional)\n",
    "- 1 attendance grade"
   ]
  },
  {
   "cell_type": "code",
   "execution_count": 11,
   "id": "69045268",
   "metadata": {},
   "outputs": [
    {
     "name": "stdout",
     "output_type": "stream",
     "text": [
      "The final grade for the student is: 67.32253968253968\n"
     ]
    }
   ],
   "source": [
    "def calculate_final_grade(exercise_grades, project_grades, attendance_grade, quiz_grades):\n",
    "    # Define the weights for each category\n",
    "    exercise_weight = 0.2\n",
    "    project_weight = 0.4\n",
    "    attendance_weight = 0.1\n",
    "    quiz_weight = 0.3\n",
    "\n",
    "    # Calculate the overall weighted score for each category\n",
    "    exercise_score = sum(exercise_grades) / len(exercise_grades)\n",
    "    project_score = sum(project_grades) / len(project_grades)\n",
    "    quiz_score = sum(quiz_grades) / len(quiz_grades)\n",
    "\n",
    "    # Calculate the overall weighted score\n",
    "    through_regression_grade = (exercise_score * exercise_weight) + (project_score * project_weight) + \\\n",
    "                             (attendance_grade * attendance_weight) + (quiz_score * quiz_weight)\n",
    "\n",
    "    return through_regression_grade\n",
    "\n",
    "\n",
    "# Input the existing grades for the student\n",
    "exercise_grades = [100, 96, 91,95,0,51,24,80,40,33,50,100,100,100,100,100,100,100] \n",
    "project_grades = [93, 57, 80, 21, 0, 100, 100] \n",
    "attendance_grade = 82  \n",
    "quiz_grades = [67,37,0, 100, 100]  \n",
    "\n",
    "# Calculate the final grade\n",
    "through_regression_grade = calculate_final_grade(exercise_grades, project_grades, attendance_grade, quiz_grades)\n",
    "\n",
    "# Print the final grade\n",
    "print(\"The final grade for the student is:\", through_regression_grade)"
   ]
  },
  {
   "cell_type": "code",
   "execution_count": 9,
   "id": "b0a531cc",
   "metadata": {},
   "outputs": [
    {
     "data": {
      "text/plain": [
       "(74.11764705882354, 64.42857142857143, 60.8)"
      ]
     },
     "execution_count": 9,
     "metadata": {},
     "output_type": "execute_result"
    }
   ],
   "source": [
    "through_regression_exercise_score = sum(exercise_grades) / len(exercise_grades)\n",
    "through_regression_project_score = sum(project_grades) / len(project_grades)\n",
    "through_regression_quiz_score = sum(quiz_grades) / len(quiz_grades)\n",
    "through_regression_exercise_score, through_regression_project_score, through_regression_quiz_score"
   ]
  },
  {
   "cell_type": "markdown",
   "id": "545e80c7",
   "metadata": {},
   "source": [
    "If we projected all assignments until the regression progress report to be 100%, Alejandro's grade at the end of the Regression progress report will be 67.32%. Unfortunetly, he is already on Academic Probation, so he will be removed from the program.\n",
    "\n",
    "- Exercise grade: 74.11/100\n",
    "- Project Grade: 64.42/100\n",
    "- Quiz Grade: 60.8/100\n",
    "- Attendance: 82/100"
   ]
  },
  {
   "cell_type": "markdown",
   "id": "ddba1e71",
   "metadata": {},
   "source": [
    "<hr style=\"border:2px solid gray\">"
   ]
  },
  {
   "cell_type": "markdown",
   "id": "82625e04",
   "metadata": {},
   "source": [
    "## Projected Through End of Course"
   ]
  },
  {
   "cell_type": "markdown",
   "id": "9d696b77",
   "metadata": {},
   "source": [
    "We can project that Quintela will have a total of:\n",
    "- 30 exercises\n",
    "- 10 projects\n",
    "- 5 quizzes\n",
    "- 1 attendance grade\n",
    "\n",
    "This is a simulation to show a grade of 100% on every single assignment (exercise, quiz, and project) until the end of the course."
   ]
  },
  {
   "cell_type": "code",
   "execution_count": null,
   "id": "4f14d948",
   "metadata": {},
   "outputs": [],
   "source": [
    "def calculate_final_grade(exercise_grades, project_grades, attendance_grade, quiz_grades):\n",
    "    # Define the weights for each category\n",
    "    exercise_weight = 0.2\n",
    "    project_weight = 0.4\n",
    "    attendance_weight = 0.1\n",
    "    quiz_weight = 0.3\n",
    "\n",
    "    # Calculate the overall weighted score for each category\n",
    "    exercise_score = sum(exercise_grades) / len(exercise_grades)\n",
    "    project_score = sum(project_grades) / len(project_grades)\n",
    "    quiz_score = sum(quiz_grades) / len(quiz_grades)\n",
    "\n",
    "    # Calculate the overall weighted score\n",
    "    possible_final_grade = (exercise_score * exercise_weight) + (project_score * project_weight) + \\\n",
    "                             (attendance_grade * attendance_weight) + (quiz_score * quiz_weight)\n",
    "\n",
    "    return possible_final_grade\n",
    "\n",
    "\n",
    "# Input the existing grades for the student\n",
    "exercise_grades = [100, 96, 91,95,0,51,24,80,40,33,50,100,100,100,100,100,100,100,100,100,100,100,100,100,100,100,100,100,100,100] \n",
    "project_grades = [93, 57, 80, 21, 0, 100, 100, 100, 100, 100] \n",
    "attendance_grade = 82  \n",
    "quiz_grades = [67,37,0, 100, 100]  \n",
    "\n",
    "# Calculate the final grade\n",
    "possible_final_grade = calculate_final_grade(exercise_grades, project_grades, attendance_grade, quiz_grades)\n",
    "\n",
    "# Print the final grade\n",
    "print(\"The final grade for the student is:\", possible_final_grade)"
   ]
  },
  {
   "cell_type": "code",
   "execution_count": null,
   "id": "e1d2abce",
   "metadata": {},
   "outputs": [],
   "source": [
    "possible_exercise_score = sum(exercise_grades) / len(exercise_grades)\n",
    "possible_project_score = sum(project_grades) / len(project_grades)\n",
    "possible_quiz_score = sum(quiz_grades) / len(quiz_grades)\n",
    "possible_exercise_score, possible_project_score, possible_quiz_score"
   ]
  },
  {
   "cell_type": "markdown",
   "id": "159c69df",
   "metadata": {},
   "source": [
    "If every single grade were projected to be 100%, Alejandro could technically pass with a 73.55%. \n",
    "\n",
    "- Exercise grade: 85.3/100\n",
    "- Project Grade: 75.1/100\n",
    "- Quiz Grade: 60.8/100\n",
    "- Attendance: 82/100\n",
    "\n",
    "There is literally no room here. If he gets anything other than a 100% on any of his assignments (project or quiz), he will drop well below 70% and fail the program."
   ]
  }
 ],
 "metadata": {
  "kernelspec": {
   "display_name": "Python 3 (ipykernel)",
   "language": "python",
   "name": "python3"
  },
  "language_info": {
   "codemirror_mode": {
    "name": "ipython",
    "version": 3
   },
   "file_extension": ".py",
   "mimetype": "text/x-python",
   "name": "python",
   "nbconvert_exporter": "python",
   "pygments_lexer": "ipython3",
   "version": "3.9.13"
  }
 },
 "nbformat": 4,
 "nbformat_minor": 5
}
