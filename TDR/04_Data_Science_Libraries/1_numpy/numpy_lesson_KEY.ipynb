{
 "cells": [
  {
   "cell_type": "markdown",
   "id": "fdba0d31",
   "metadata": {},
   "source": [
    "# Numpy"
   ]
  },
  {
   "cell_type": "markdown",
   "id": "ffb4fa6c",
   "metadata": {},
   "source": [
    "https://numpy.org/"
   ]
  },
  {
   "cell_type": "markdown",
   "id": "f6436770",
   "metadata": {},
   "source": [
    "### What is it? \n",
    "- Numpy is short for \"Numerical Python\"\n",
    "- Numpy is a Python library used for working with arrays\n",
    "\n",
    "### Why do we care? \n",
    "- Numpy arrays are super fast\n",
    "- Numpy arrays allows for vectorized operations\n",
    "- Numpy is one of the main reasons why Python is so powerful and popular for scientific computing"
   ]
  },
  {
   "cell_type": "markdown",
   "id": "a381c2ce",
   "metadata": {},
   "source": [
    "## Show us! "
   ]
  },
  {
   "cell_type": "markdown",
   "id": "2a7e6649",
   "metadata": {},
   "source": [
    "### Create a 1D array"
   ]
  },
  {
   "cell_type": "markdown",
   "id": "cb85fcb7",
   "metadata": {},
   "source": [
    "#### create a list"
   ]
  },
  {
   "cell_type": "code",
   "execution_count": 1,
   "id": "4b882350",
   "metadata": {},
   "outputs": [
    {
     "data": {
      "text/plain": [
       "[5, 22, 10, 313]"
      ]
     },
     "execution_count": 1,
     "metadata": {},
     "output_type": "execute_result"
    }
   ],
   "source": [
    "#create a list\n",
    "my_list = [5,22,10,313]\n",
    "my_list"
   ]
  },
  {
   "cell_type": "code",
   "execution_count": 2,
   "id": "cb92e31a",
   "metadata": {},
   "outputs": [
    {
     "data": {
      "text/plain": [
       "list"
      ]
     },
     "execution_count": 2,
     "metadata": {},
     "output_type": "execute_result"
    }
   ],
   "source": [
    "#whats the type\n",
    "type(my_list)"
   ]
  },
  {
   "cell_type": "markdown",
   "id": "4d0b8830",
   "metadata": {},
   "source": [
    "#### create an array\n",
    "FORMAT: `np.array()`"
   ]
  },
  {
   "cell_type": "code",
   "execution_count": 3,
   "id": "a4967a18",
   "metadata": {},
   "outputs": [],
   "source": [
    "#import numpy\n",
    "import numpy as np"
   ]
  },
  {
   "cell_type": "code",
   "execution_count": 4,
   "id": "09162454",
   "metadata": {},
   "outputs": [
    {
     "data": {
      "text/plain": [
       "array([  5,  22,  10, 313])"
      ]
     },
     "execution_count": 4,
     "metadata": {},
     "output_type": "execute_result"
    }
   ],
   "source": [
    "#create the array\n",
    "my_array = np.array(my_list)\n",
    "my_array"
   ]
  },
  {
   "cell_type": "code",
   "execution_count": 5,
   "id": "0c1e6ed0",
   "metadata": {},
   "outputs": [
    {
     "data": {
      "text/plain": [
       "numpy.ndarray"
      ]
     },
     "execution_count": 5,
     "metadata": {},
     "output_type": "execute_result"
    }
   ],
   "source": [
    "#whats the type\n",
    "type(my_array)"
   ]
  },
  {
   "cell_type": "code",
   "execution_count": 6,
   "id": "710136bd",
   "metadata": {},
   "outputs": [
    {
     "data": {
      "text/plain": [
       "(4,)"
      ]
     },
     "execution_count": 6,
     "metadata": {},
     "output_type": "execute_result"
    }
   ],
   "source": [
    "#whats the shape\n",
    "my_array.shape"
   ]
  },
  {
   "cell_type": "code",
   "execution_count": 7,
   "id": "64cdeddd",
   "metadata": {},
   "outputs": [
    {
     "data": {
      "text/plain": [
       "dtype('int64')"
      ]
     },
     "execution_count": 7,
     "metadata": {},
     "output_type": "execute_result"
    }
   ],
   "source": [
    "#dtype\n",
    "my_array.dtype #returns the datatype of the values inside of the array"
   ]
  },
  {
   "cell_type": "markdown",
   "id": "8625415b",
   "metadata": {},
   "source": [
    "#### access elements of our new array"
   ]
  },
  {
   "cell_type": "markdown",
   "id": "c4bbd06d",
   "metadata": {},
   "source": [
    "<div class=\"alert alert-block alert-info\">\n",
    "    <b>NOTE</b>: just like lists, the index of an array starts at 0\n",
    "</div>"
   ]
  },
  {
   "cell_type": "code",
   "execution_count": 8,
   "id": "afd4d40c",
   "metadata": {},
   "outputs": [
    {
     "data": {
      "text/plain": [
       "array([  5,  22,  10, 313])"
      ]
     },
     "execution_count": 8,
     "metadata": {},
     "output_type": "execute_result"
    }
   ],
   "source": [
    "my_array"
   ]
  },
  {
   "cell_type": "code",
   "execution_count": 9,
   "id": "5215628e",
   "metadata": {},
   "outputs": [
    {
     "data": {
      "text/plain": [
       "5"
      ]
     },
     "execution_count": 9,
     "metadata": {},
     "output_type": "execute_result"
    }
   ],
   "source": [
    "#call the first element in my array\n",
    "my_array[0] "
   ]
  },
  {
   "cell_type": "code",
   "execution_count": 10,
   "id": "91f2d5a8",
   "metadata": {},
   "outputs": [
    {
     "data": {
      "text/plain": [
       "313"
      ]
     },
     "execution_count": 10,
     "metadata": {},
     "output_type": "execute_result"
    }
   ],
   "source": [
    "#call the last element of my array\n",
    "my_array[-1] "
   ]
  },
  {
   "cell_type": "markdown",
   "id": "3f155d8b",
   "metadata": {},
   "source": [
    "#### slice the array"
   ]
  },
  {
   "cell_type": "markdown",
   "id": "acd5c099",
   "metadata": {},
   "source": [
    "<div class=\"alert alert-block alert-info\">\n",
    "    <b>inclusive</b>: includes the value that is stated\n",
    "    <br>\n",
    "    <b>exclusive</b>: excludes the value that is stated\n",
    "</div>"
   ]
  },
  {
   "cell_type": "code",
   "execution_count": 11,
   "id": "49422697",
   "metadata": {},
   "outputs": [
    {
     "data": {
      "text/plain": [
       "22"
      ]
     },
     "execution_count": 11,
     "metadata": {},
     "output_type": "execute_result"
    }
   ],
   "source": [
    "my_array[1]"
   ]
  },
  {
   "cell_type": "code",
   "execution_count": 12,
   "id": "73ba51ae",
   "metadata": {},
   "outputs": [
    {
     "data": {
      "text/plain": [
       "array([ 22,  10, 313])"
      ]
     },
     "execution_count": 12,
     "metadata": {},
     "output_type": "execute_result"
    }
   ],
   "source": [
    "my_array[1:] #inclusive for the first element"
   ]
  },
  {
   "cell_type": "code",
   "execution_count": 13,
   "id": "3dfd97fc",
   "metadata": {},
   "outputs": [
    {
     "data": {
      "text/plain": [
       "10"
      ]
     },
     "execution_count": 13,
     "metadata": {},
     "output_type": "execute_result"
    }
   ],
   "source": [
    "my_array[2]"
   ]
  },
  {
   "cell_type": "code",
   "execution_count": 14,
   "id": "02872655",
   "metadata": {},
   "outputs": [
    {
     "data": {
      "text/plain": [
       "array([ 5, 22])"
      ]
     },
     "execution_count": 14,
     "metadata": {},
     "output_type": "execute_result"
    }
   ],
   "source": [
    "my_array[:2] #exclusive for the last element "
   ]
  },
  {
   "cell_type": "code",
   "execution_count": 15,
   "id": "7dbd24a1",
   "metadata": {},
   "outputs": [
    {
     "data": {
      "text/plain": [
       "array([ 5, 22, 10])"
      ]
     },
     "execution_count": 15,
     "metadata": {},
     "output_type": "execute_result"
    }
   ],
   "source": [
    "my_array[0:3] #includes position 0, but doesnt include position 3"
   ]
  },
  {
   "cell_type": "markdown",
   "id": "6bbc75e3",
   "metadata": {},
   "source": [
    "#### create an array from 1 to 100"
   ]
  },
  {
   "cell_type": "markdown",
   "id": "5c3f9b87",
   "metadata": {},
   "source": [
    "FORMAT: `np.array()`"
   ]
  },
  {
   "cell_type": "code",
   "execution_count": 16,
   "id": "b9b7eeb8",
   "metadata": {},
   "outputs": [
    {
     "data": {
      "text/plain": [
       "array([  1,   2,   3,   4,   5,   6,   7,   8,   9,  10,  11,  12,  13,\n",
       "        14,  15,  16,  17,  18,  19,  20,  21,  22,  23,  24,  25,  26,\n",
       "        27,  28,  29,  30,  31,  32,  33,  34,  35,  36,  37,  38,  39,\n",
       "        40,  41,  42,  43,  44,  45,  46,  47,  48,  49,  50,  51,  52,\n",
       "        53,  54,  55,  56,  57,  58,  59,  60,  61,  62,  63,  64,  65,\n",
       "        66,  67,  68,  69,  70,  71,  72,  73,  74,  75,  76,  77,  78,\n",
       "        79,  80,  81,  82,  83,  84,  85,  86,  87,  88,  89,  90,  91,\n",
       "        92,  93,  94,  95,  96,  97,  98,  99, 100])"
      ]
     },
     "execution_count": 16,
     "metadata": {},
     "output_type": "execute_result"
    }
   ],
   "source": [
    "#np.array(?)\n",
    "big_array = np.array(range(1,101)) #the second arguement in the range function is exclusive\n",
    "big_array"
   ]
  },
  {
   "cell_type": "code",
   "execution_count": 17,
   "id": "558d0b56",
   "metadata": {},
   "outputs": [
    {
     "data": {
      "text/plain": [
       "1"
      ]
     },
     "execution_count": 17,
     "metadata": {},
     "output_type": "execute_result"
    }
   ],
   "source": [
    "#access single element\n",
    "big_array[0] "
   ]
  },
  {
   "cell_type": "code",
   "execution_count": 18,
   "id": "c82233df",
   "metadata": {},
   "outputs": [
    {
     "data": {
      "text/plain": [
       "100"
      ]
     },
     "execution_count": 18,
     "metadata": {},
     "output_type": "execute_result"
    }
   ],
   "source": [
    "big_array[-1]"
   ]
  },
  {
   "cell_type": "code",
   "execution_count": 19,
   "id": "4e829147",
   "metadata": {},
   "outputs": [
    {
     "data": {
      "text/plain": [
       "array([ 26,  27,  28,  29,  30,  31,  32,  33,  34,  35,  36,  37,  38,\n",
       "        39,  40,  41,  42,  43,  44,  45,  46,  47,  48,  49,  50,  51,\n",
       "        52,  53,  54,  55,  56,  57,  58,  59,  60,  61,  62,  63,  64,\n",
       "        65,  66,  67,  68,  69,  70,  71,  72,  73,  74,  75,  76,  77,\n",
       "        78,  79,  80,  81,  82,  83,  84,  85,  86,  87,  88,  89,  90,\n",
       "        91,  92,  93,  94,  95,  96,  97,  98,  99, 100])"
      ]
     },
     "execution_count": 19,
     "metadata": {},
     "output_type": "execute_result"
    }
   ],
   "source": [
    "#slice the array! \n",
    "big_array[25:]"
   ]
  },
  {
   "cell_type": "code",
   "execution_count": 20,
   "id": "7d69b417",
   "metadata": {},
   "outputs": [
    {
     "data": {
      "text/plain": [
       "array([ 6,  7,  8,  9, 10, 11, 12, 13, 14, 15])"
      ]
     },
     "execution_count": 20,
     "metadata": {},
     "output_type": "execute_result"
    }
   ],
   "source": [
    "big_array[5:15]"
   ]
  },
  {
   "cell_type": "markdown",
   "id": "f03284c8",
   "metadata": {},
   "source": [
    "### Create a 2D array"
   ]
  },
  {
   "cell_type": "code",
   "execution_count": 21,
   "id": "fdfdbc66",
   "metadata": {},
   "outputs": [
    {
     "data": {
      "text/plain": [
       "[[11, 222, 3], [2, 3, 4], [6, 7, 8], [4, 5, 6]]"
      ]
     },
     "execution_count": 21,
     "metadata": {},
     "output_type": "execute_result"
    }
   ],
   "source": [
    "#build a list of lists\n",
    "matrix = [[11,222,3],\n",
    "[2,3,4],\n",
    "[6,7,8],\n",
    "[4,5,6]]\n",
    "matrix"
   ]
  },
  {
   "cell_type": "code",
   "execution_count": 22,
   "id": "f3887627",
   "metadata": {},
   "outputs": [
    {
     "data": {
      "text/plain": [
       "list"
      ]
     },
     "execution_count": 22,
     "metadata": {},
     "output_type": "execute_result"
    }
   ],
   "source": [
    "type(matrix)"
   ]
  },
  {
   "cell_type": "code",
   "execution_count": 23,
   "id": "82508d69",
   "metadata": {},
   "outputs": [
    {
     "data": {
      "text/plain": [
       "array([[ 11, 222,   3],\n",
       "       [  2,   3,   4],\n",
       "       [  6,   7,   8],\n",
       "       [  4,   5,   6]])"
      ]
     },
     "execution_count": 23,
     "metadata": {},
     "output_type": "execute_result"
    }
   ],
   "source": [
    "#turn it into an array! \n",
    "matrix_array = np.array(matrix)\n",
    "matrix_array"
   ]
  },
  {
   "cell_type": "code",
   "execution_count": 24,
   "id": "7dadbd11",
   "metadata": {},
   "outputs": [
    {
     "data": {
      "text/plain": [
       "numpy.ndarray"
      ]
     },
     "execution_count": 24,
     "metadata": {},
     "output_type": "execute_result"
    }
   ],
   "source": [
    "#type\n",
    "type(matrix_array)"
   ]
  },
  {
   "cell_type": "code",
   "execution_count": 25,
   "id": "ea4127bc",
   "metadata": {},
   "outputs": [
    {
     "data": {
      "text/plain": [
       "(4, 3)"
      ]
     },
     "execution_count": 25,
     "metadata": {},
     "output_type": "execute_result"
    }
   ],
   "source": [
    "matrix_array.shape"
   ]
  },
  {
   "cell_type": "code",
   "execution_count": 26,
   "id": "43b8d2c8",
   "metadata": {},
   "outputs": [
    {
     "data": {
      "text/plain": [
       "dtype('int64')"
      ]
     },
     "execution_count": 26,
     "metadata": {},
     "output_type": "execute_result"
    }
   ],
   "source": [
    "matrix_array.dtype"
   ]
  },
  {
   "cell_type": "markdown",
   "id": "de7bb601",
   "metadata": {},
   "source": [
    "#### access elements"
   ]
  },
  {
   "cell_type": "code",
   "execution_count": 27,
   "id": "590bcac4",
   "metadata": {},
   "outputs": [
    {
     "data": {
      "text/plain": [
       "array([[ 11, 222,   3],\n",
       "       [  2,   3,   4],\n",
       "       [  6,   7,   8],\n",
       "       [  4,   5,   6]])"
      ]
     },
     "execution_count": 27,
     "metadata": {},
     "output_type": "execute_result"
    }
   ],
   "source": [
    "matrix_array"
   ]
  },
  {
   "cell_type": "code",
   "execution_count": 28,
   "id": "27f88c6f",
   "metadata": {},
   "outputs": [
    {
     "data": {
      "text/plain": [
       "array([ 11, 222,   3])"
      ]
     },
     "execution_count": 28,
     "metadata": {},
     "output_type": "execute_result"
    }
   ],
   "source": [
    "matrix_array[0]"
   ]
  },
  {
   "cell_type": "code",
   "execution_count": 29,
   "id": "a00de21b",
   "metadata": {},
   "outputs": [
    {
     "data": {
      "text/plain": [
       "array([4, 5, 6])"
      ]
     },
     "execution_count": 29,
     "metadata": {},
     "output_type": "execute_result"
    }
   ],
   "source": [
    "matrix_array[-1]"
   ]
  },
  {
   "cell_type": "code",
   "execution_count": 30,
   "id": "5d5afc6d",
   "metadata": {},
   "outputs": [
    {
     "data": {
      "text/plain": [
       "11"
      ]
     },
     "execution_count": 30,
     "metadata": {},
     "output_type": "execute_result"
    }
   ],
   "source": [
    "matrix_array[0][0]"
   ]
  },
  {
   "cell_type": "code",
   "execution_count": 31,
   "id": "497e10fe",
   "metadata": {},
   "outputs": [
    {
     "data": {
      "text/plain": [
       "11"
      ]
     },
     "execution_count": 31,
     "metadata": {},
     "output_type": "execute_result"
    }
   ],
   "source": [
    "matrix_array[0,0]"
   ]
  },
  {
   "cell_type": "code",
   "execution_count": 32,
   "id": "c75b970c",
   "metadata": {},
   "outputs": [
    {
     "data": {
      "text/plain": [
       "7"
      ]
     },
     "execution_count": 32,
     "metadata": {},
     "output_type": "execute_result"
    }
   ],
   "source": [
    "matrix_array[2,1]"
   ]
  },
  {
   "cell_type": "markdown",
   "id": "842b3eca",
   "metadata": {},
   "source": [
    "### Descriptive Stats"
   ]
  },
  {
   "cell_type": "code",
   "execution_count": 33,
   "id": "cceba44c",
   "metadata": {},
   "outputs": [
    {
     "data": {
      "text/plain": [
       "array([  1,   2,   3,   4,   5,   6,   7,   8,   9,  10,  11,  12,  13,\n",
       "        14,  15,  16,  17,  18,  19,  20,  21,  22,  23,  24,  25,  26,\n",
       "        27,  28,  29,  30,  31,  32,  33,  34,  35,  36,  37,  38,  39,\n",
       "        40,  41,  42,  43,  44,  45,  46,  47,  48,  49,  50,  51,  52,\n",
       "        53,  54,  55,  56,  57,  58,  59,  60,  61,  62,  63,  64,  65,\n",
       "        66,  67,  68,  69,  70,  71,  72,  73,  74,  75,  76,  77,  78,\n",
       "        79,  80,  81,  82,  83,  84,  85,  86,  87,  88,  89,  90,  91,\n",
       "        92,  93,  94,  95,  96,  97,  98,  99, 100])"
      ]
     },
     "execution_count": 33,
     "metadata": {},
     "output_type": "execute_result"
    }
   ],
   "source": [
    "#pulling back my big array from 1 - 100\n",
    "big_array"
   ]
  },
  {
   "cell_type": "markdown",
   "id": "fcc42e8e",
   "metadata": {},
   "source": [
    "#### using methods: the method is called on the numpy object\n",
    "FORMAT: `object.method()`"
   ]
  },
  {
   "cell_type": "code",
   "execution_count": 34,
   "id": "428d1c07",
   "metadata": {},
   "outputs": [
    {
     "data": {
      "text/plain": [
       "1"
      ]
     },
     "execution_count": 34,
     "metadata": {},
     "output_type": "execute_result"
    }
   ],
   "source": [
    "big_array.min()"
   ]
  },
  {
   "cell_type": "code",
   "execution_count": 35,
   "id": "b1cef613",
   "metadata": {},
   "outputs": [
    {
     "data": {
      "text/plain": [
       "100"
      ]
     },
     "execution_count": 35,
     "metadata": {},
     "output_type": "execute_result"
    }
   ],
   "source": [
    "big_array.max()"
   ]
  },
  {
   "cell_type": "code",
   "execution_count": 36,
   "id": "b18ab695",
   "metadata": {},
   "outputs": [
    {
     "data": {
      "text/plain": [
       "50.5"
      ]
     },
     "execution_count": 36,
     "metadata": {},
     "output_type": "execute_result"
    }
   ],
   "source": [
    "big_array.mean()"
   ]
  },
  {
   "cell_type": "code",
   "execution_count": 37,
   "id": "40b46275",
   "metadata": {},
   "outputs": [
    {
     "data": {
      "text/plain": [
       "5050"
      ]
     },
     "execution_count": 37,
     "metadata": {},
     "output_type": "execute_result"
    }
   ],
   "source": [
    "big_array.sum()"
   ]
  },
  {
   "cell_type": "markdown",
   "id": "5edf5a39",
   "metadata": {},
   "source": [
    "#### using functions: using numpy to call functions\n",
    "\n",
    "FORMAT: `np.function(object)`"
   ]
  },
  {
   "cell_type": "code",
   "execution_count": 38,
   "id": "54fd9440",
   "metadata": {},
   "outputs": [
    {
     "data": {
      "text/plain": [
       "1"
      ]
     },
     "execution_count": 38,
     "metadata": {},
     "output_type": "execute_result"
    }
   ],
   "source": [
    "np.min(big_array)"
   ]
  },
  {
   "cell_type": "code",
   "execution_count": 39,
   "id": "1a800d7a",
   "metadata": {},
   "outputs": [
    {
     "data": {
      "text/plain": [
       "100"
      ]
     },
     "execution_count": 39,
     "metadata": {},
     "output_type": "execute_result"
    }
   ],
   "source": [
    "np.max(big_array)"
   ]
  },
  {
   "cell_type": "code",
   "execution_count": 40,
   "id": "93ed20d2",
   "metadata": {},
   "outputs": [
    {
     "data": {
      "text/plain": [
       "50.5"
      ]
     },
     "execution_count": 40,
     "metadata": {},
     "output_type": "execute_result"
    }
   ],
   "source": [
    "np.mean(big_array)"
   ]
  },
  {
   "cell_type": "code",
   "execution_count": 41,
   "id": "a8362e3b",
   "metadata": {},
   "outputs": [
    {
     "data": {
      "text/plain": [
       "5050"
      ]
     },
     "execution_count": 41,
     "metadata": {},
     "output_type": "execute_result"
    }
   ],
   "source": [
    "np.sum(big_array)"
   ]
  },
  {
   "cell_type": "markdown",
   "id": "2a7326ab",
   "metadata": {},
   "source": [
    "## Boolean Masks"
   ]
  },
  {
   "cell_type": "markdown",
   "id": "d9d9ae65",
   "metadata": {},
   "source": [
    "filtering values in numpy arrays: [slides](https://www.canva.com/design/DAFyRkfu4rE/gqzNP3tKiF9U1YKmwhqUtA/view?utm_content=DAFyRkfu4rE&utm_campaign=designshare&utm_medium=link&utm_source=editor)"
   ]
  },
  {
   "cell_type": "markdown",
   "id": "66230c3e",
   "metadata": {},
   "source": [
    "1. create an array\n",
    "2. create a boolean mask\n",
    "3. combine to filter\n",
    "\n",
    "    FORMAT: `array [boolean_mask]`"
   ]
  },
  {
   "cell_type": "code",
   "execution_count": 42,
   "id": "a27286c7",
   "metadata": {},
   "outputs": [
    {
     "data": {
      "text/plain": [
       "array([  5,  22,  10, 313])"
      ]
     },
     "execution_count": 42,
     "metadata": {},
     "output_type": "execute_result"
    }
   ],
   "source": [
    "#pull back our small array\n",
    "my_array"
   ]
  },
  {
   "cell_type": "code",
   "execution_count": 43,
   "id": "066dd1d7",
   "metadata": {},
   "outputs": [
    {
     "data": {
      "text/plain": [
       "[True, False, False, True]"
      ]
     },
     "execution_count": 43,
     "metadata": {},
     "output_type": "execute_result"
    }
   ],
   "source": [
    "#make our mask aka list of booleans\n",
    "mask = [True, False, False, True]\n",
    "mask"
   ]
  },
  {
   "cell_type": "code",
   "execution_count": 44,
   "id": "5d37b049",
   "metadata": {},
   "outputs": [
    {
     "data": {
      "text/plain": [
       "array([  5, 313])"
      ]
     },
     "execution_count": 44,
     "metadata": {},
     "output_type": "execute_result"
    }
   ],
   "source": [
    "#combine to filter \n",
    "my_array [mask]"
   ]
  },
  {
   "cell_type": "markdown",
   "id": "b58913b2",
   "metadata": {},
   "source": [
    "#### how else can we get our boolean mask?\n",
    "\n",
    "A: write a conditional statement with our array"
   ]
  },
  {
   "cell_type": "code",
   "execution_count": 45,
   "id": "0c0033ec",
   "metadata": {},
   "outputs": [
    {
     "data": {
      "text/plain": [
       "array([  5,  22,  10, 313])"
      ]
     },
     "execution_count": 45,
     "metadata": {},
     "output_type": "execute_result"
    }
   ],
   "source": [
    "#array\n",
    "my_array"
   ]
  },
  {
   "cell_type": "code",
   "execution_count": 46,
   "id": "2a917641",
   "metadata": {},
   "outputs": [
    {
     "data": {
      "text/plain": [
       "array([False,  True, False,  True])"
      ]
     },
     "execution_count": 46,
     "metadata": {},
     "output_type": "execute_result"
    }
   ],
   "source": [
    "#write a conditional with the array\n",
    "my_array > 20"
   ]
  },
  {
   "cell_type": "code",
   "execution_count": 47,
   "id": "1129e997",
   "metadata": {},
   "outputs": [
    {
     "data": {
      "text/plain": [
       "array([False,  True, False,  True])"
      ]
     },
     "execution_count": 47,
     "metadata": {},
     "output_type": "execute_result"
    }
   ],
   "source": [
    "#create boolean mask\n",
    "mask = (my_array > 20)\n",
    "mask"
   ]
  },
  {
   "cell_type": "code",
   "execution_count": 48,
   "id": "de976885",
   "metadata": {},
   "outputs": [
    {
     "data": {
      "text/plain": [
       "array([ 22, 313])"
      ]
     },
     "execution_count": 48,
     "metadata": {},
     "output_type": "execute_result"
    }
   ],
   "source": [
    "#combine them!\n",
    "my_array[mask]"
   ]
  },
  {
   "cell_type": "code",
   "execution_count": 49,
   "id": "3a5fb885",
   "metadata": {},
   "outputs": [
    {
     "data": {
      "text/plain": [
       "array([  5,  22,  10, 313])"
      ]
     },
     "execution_count": 49,
     "metadata": {},
     "output_type": "execute_result"
    }
   ],
   "source": [
    "my_array #havent changed my initial array"
   ]
  },
  {
   "cell_type": "markdown",
   "id": "9d5c6a8a",
   "metadata": {},
   "source": [
    "#### let's try with our big array"
   ]
  },
  {
   "cell_type": "code",
   "execution_count": 50,
   "id": "8909c028",
   "metadata": {},
   "outputs": [
    {
     "data": {
      "text/plain": [
       "array([  1,   2,   3,   4,   5,   6,   7,   8,   9,  10,  11,  12,  13,\n",
       "        14,  15,  16,  17,  18,  19,  20,  21,  22,  23,  24,  25,  26,\n",
       "        27,  28,  29,  30,  31,  32,  33,  34,  35,  36,  37,  38,  39,\n",
       "        40,  41,  42,  43,  44,  45,  46,  47,  48,  49,  50,  51,  52,\n",
       "        53,  54,  55,  56,  57,  58,  59,  60,  61,  62,  63,  64,  65,\n",
       "        66,  67,  68,  69,  70,  71,  72,  73,  74,  75,  76,  77,  78,\n",
       "        79,  80,  81,  82,  83,  84,  85,  86,  87,  88,  89,  90,  91,\n",
       "        92,  93,  94,  95,  96,  97,  98,  99, 100])"
      ]
     },
     "execution_count": 50,
     "metadata": {},
     "output_type": "execute_result"
    }
   ],
   "source": [
    "#array\n",
    "big_array"
   ]
  },
  {
   "cell_type": "code",
   "execution_count": 51,
   "id": "bc3abb47",
   "metadata": {},
   "outputs": [
    {
     "data": {
      "text/plain": [
       "array([False, False, False, False, False, False, False, False, False,\n",
       "       False, False, False, False, False, False, False, False, False,\n",
       "       False, False, False, False, False, False, False, False, False,\n",
       "       False, False, False, False, False, False, False, False, False,\n",
       "       False, False, False, False, False, False, False, False, False,\n",
       "       False, False, False, False, False, False, False, False, False,\n",
       "       False, False, False, False, False, False, False, False, False,\n",
       "       False, False, False, False, False, False, False, False, False,\n",
       "       False, False, False, False, False, False, False, False, False,\n",
       "       False, False, False, False, False, False, False, False,  True,\n",
       "        True,  True,  True,  True,  True,  True,  True,  True,  True,\n",
       "        True])"
      ]
     },
     "execution_count": 51,
     "metadata": {},
     "output_type": "execute_result"
    }
   ],
   "source": [
    "#mask\n",
    "mask = big_array >= 90\n",
    "mask"
   ]
  },
  {
   "cell_type": "code",
   "execution_count": 52,
   "id": "aa23c5c6",
   "metadata": {},
   "outputs": [
    {
     "data": {
      "text/plain": [
       "array([ 90,  91,  92,  93,  94,  95,  96,  97,  98,  99, 100])"
      ]
     },
     "execution_count": 52,
     "metadata": {},
     "output_type": "execute_result"
    }
   ],
   "source": [
    "#combine\n",
    "big_array [mask]"
   ]
  },
  {
   "cell_type": "markdown",
   "id": "1d88321c",
   "metadata": {},
   "source": [
    "#### what about with multiple conditions?"
   ]
  },
  {
   "cell_type": "markdown",
   "id": "90062761",
   "metadata": {},
   "source": [
    "<div class=\"alert alert-block alert-info\">\n",
    "    <b>combining arrays</b><br>\n",
    "    use & instead of AND\n",
    "    <br>\n",
    "    use | instead of OR\n",
    "</div>"
   ]
  },
  {
   "cell_type": "markdown",
   "id": "889db558",
   "metadata": {},
   "source": [
    "#### get all values that are greater than 5 and less than 15"
   ]
  },
  {
   "cell_type": "code",
   "execution_count": 53,
   "id": "512a02a1",
   "metadata": {},
   "outputs": [
    {
     "data": {
      "text/plain": [
       "array([  1,   2,   3,   4,   5,   6,   7,   8,   9,  10,  11,  12,  13,\n",
       "        14,  15,  16,  17,  18,  19,  20,  21,  22,  23,  24,  25,  26,\n",
       "        27,  28,  29,  30,  31,  32,  33,  34,  35,  36,  37,  38,  39,\n",
       "        40,  41,  42,  43,  44,  45,  46,  47,  48,  49,  50,  51,  52,\n",
       "        53,  54,  55,  56,  57,  58,  59,  60,  61,  62,  63,  64,  65,\n",
       "        66,  67,  68,  69,  70,  71,  72,  73,  74,  75,  76,  77,  78,\n",
       "        79,  80,  81,  82,  83,  84,  85,  86,  87,  88,  89,  90,  91,\n",
       "        92,  93,  94,  95,  96,  97,  98,  99, 100])"
      ]
     },
     "execution_count": 53,
     "metadata": {},
     "output_type": "execute_result"
    }
   ],
   "source": [
    "#array\n",
    "big_array"
   ]
  },
  {
   "cell_type": "code",
   "execution_count": 54,
   "id": "98a98113",
   "metadata": {},
   "outputs": [
    {
     "data": {
      "text/plain": [
       "array([False, False, False, False, False,  True,  True,  True,  True,\n",
       "        True,  True,  True,  True,  True, False, False, False, False,\n",
       "       False, False, False, False, False, False, False, False, False,\n",
       "       False, False, False, False, False, False, False, False, False,\n",
       "       False, False, False, False, False, False, False, False, False,\n",
       "       False, False, False, False, False, False, False, False, False,\n",
       "       False, False, False, False, False, False, False, False, False,\n",
       "       False, False, False, False, False, False, False, False, False,\n",
       "       False, False, False, False, False, False, False, False, False,\n",
       "       False, False, False, False, False, False, False, False, False,\n",
       "       False, False, False, False, False, False, False, False, False,\n",
       "       False])"
      ]
     },
     "execution_count": 54,
     "metadata": {},
     "output_type": "execute_result"
    }
   ],
   "source": [
    "#make boolean mask\n",
    "mask = (big_array > 5) & (big_array < 15) #using & instead of AND\n",
    "mask"
   ]
  },
  {
   "cell_type": "code",
   "execution_count": 55,
   "id": "474a2daf",
   "metadata": {},
   "outputs": [
    {
     "data": {
      "text/plain": [
       "array([ 6,  7,  8,  9, 10, 11, 12, 13, 14])"
      ]
     },
     "execution_count": 55,
     "metadata": {},
     "output_type": "execute_result"
    }
   ],
   "source": [
    "#combine\n",
    "big_array[mask]"
   ]
  },
  {
   "cell_type": "markdown",
   "id": "c27198dc",
   "metadata": {},
   "source": [
    "#### get all values that are less than 10 or greater than 90"
   ]
  },
  {
   "cell_type": "code",
   "execution_count": 56,
   "id": "85bdefc6",
   "metadata": {},
   "outputs": [
    {
     "data": {
      "text/plain": [
       "array([ True,  True,  True,  True,  True,  True,  True,  True,  True,\n",
       "       False, False, False, False, False, False, False, False, False,\n",
       "       False, False, False, False, False, False, False, False, False,\n",
       "       False, False, False, False, False, False, False, False, False,\n",
       "       False, False, False, False, False, False, False, False, False,\n",
       "       False, False, False, False, False, False, False, False, False,\n",
       "       False, False, False, False, False, False, False, False, False,\n",
       "       False, False, False, False, False, False, False, False, False,\n",
       "       False, False, False, False, False, False, False, False, False,\n",
       "       False, False, False, False, False, False, False, False, False,\n",
       "        True,  True,  True,  True,  True,  True,  True,  True,  True,\n",
       "        True])"
      ]
     },
     "execution_count": 56,
     "metadata": {},
     "output_type": "execute_result"
    }
   ],
   "source": [
    "#make boolean mask\n",
    "mask = (big_array <10) | (big_array > 90) #using | instead of OR\n",
    "mask"
   ]
  },
  {
   "cell_type": "code",
   "execution_count": 57,
   "id": "3ee9666b",
   "metadata": {},
   "outputs": [
    {
     "data": {
      "text/plain": [
       "array([  1,   2,   3,   4,   5,   6,   7,   8,   9,  91,  92,  93,  94,\n",
       "        95,  96,  97,  98,  99, 100])"
      ]
     },
     "execution_count": 57,
     "metadata": {},
     "output_type": "execute_result"
    }
   ],
   "source": [
    "#combine\n",
    "big_array[mask]"
   ]
  },
  {
   "cell_type": "markdown",
   "id": "661a7105",
   "metadata": {},
   "source": [
    "#### what if we wanted the opposite of our mask?"
   ]
  },
  {
   "cell_type": "code",
   "execution_count": 58,
   "id": "b417e242",
   "metadata": {},
   "outputs": [
    {
     "data": {
      "text/plain": [
       "array([ True,  True,  True,  True,  True,  True,  True,  True,  True,\n",
       "       False, False, False, False, False, False, False, False, False,\n",
       "       False, False, False, False, False, False, False, False, False,\n",
       "       False, False, False, False, False, False, False, False, False,\n",
       "       False, False, False, False, False, False, False, False, False,\n",
       "       False, False, False, False, False, False, False, False, False,\n",
       "       False, False, False, False, False, False, False, False, False,\n",
       "       False, False, False, False, False, False, False, False, False,\n",
       "       False, False, False, False, False, False, False, False, False,\n",
       "       False, False, False, False, False, False, False, False, False,\n",
       "        True,  True,  True,  True,  True,  True,  True,  True,  True,\n",
       "        True])"
      ]
     },
     "execution_count": 58,
     "metadata": {},
     "output_type": "execute_result"
    }
   ],
   "source": [
    "#regular mask\n",
    "mask"
   ]
  },
  {
   "cell_type": "code",
   "execution_count": 59,
   "id": "03511369",
   "metadata": {},
   "outputs": [
    {
     "data": {
      "text/plain": [
       "array([False, False, False, False, False, False, False, False, False,\n",
       "        True,  True,  True,  True,  True,  True,  True,  True,  True,\n",
       "        True,  True,  True,  True,  True,  True,  True,  True,  True,\n",
       "        True,  True,  True,  True,  True,  True,  True,  True,  True,\n",
       "        True,  True,  True,  True,  True,  True,  True,  True,  True,\n",
       "        True,  True,  True,  True,  True,  True,  True,  True,  True,\n",
       "        True,  True,  True,  True,  True,  True,  True,  True,  True,\n",
       "        True,  True,  True,  True,  True,  True,  True,  True,  True,\n",
       "        True,  True,  True,  True,  True,  True,  True,  True,  True,\n",
       "        True,  True,  True,  True,  True,  True,  True,  True,  True,\n",
       "       False, False, False, False, False, False, False, False, False,\n",
       "       False])"
      ]
     },
     "execution_count": 59,
     "metadata": {},
     "output_type": "execute_result"
    }
   ],
   "source": [
    "#opposite mask\n",
    "~mask"
   ]
  },
  {
   "cell_type": "code",
   "execution_count": 60,
   "id": "06486905",
   "metadata": {},
   "outputs": [
    {
     "data": {
      "text/plain": [
       "array([10, 11, 12, 13, 14, 15, 16, 17, 18, 19, 20, 21, 22, 23, 24, 25, 26,\n",
       "       27, 28, 29, 30, 31, 32, 33, 34, 35, 36, 37, 38, 39, 40, 41, 42, 43,\n",
       "       44, 45, 46, 47, 48, 49, 50, 51, 52, 53, 54, 55, 56, 57, 58, 59, 60,\n",
       "       61, 62, 63, 64, 65, 66, 67, 68, 69, 70, 71, 72, 73, 74, 75, 76, 77,\n",
       "       78, 79, 80, 81, 82, 83, 84, 85, 86, 87, 88, 89, 90])"
      ]
     },
     "execution_count": 60,
     "metadata": {},
     "output_type": "execute_result"
    }
   ],
   "source": [
    "# the ~ notates the opposite of\n",
    "big_array[~mask]"
   ]
  },
  {
   "cell_type": "markdown",
   "id": "6c8f57f1",
   "metadata": {},
   "source": [
    "> this is returning all values between 10 and 90"
   ]
  },
  {
   "cell_type": "markdown",
   "id": "medium-generation",
   "metadata": {},
   "source": [
    "## Vectorization Operations\n",
    "- makes looping over math so easy and fast!"
   ]
  },
  {
   "cell_type": "markdown",
   "id": "d541e2ad",
   "metadata": {},
   "source": [
    "### Add one to every element"
   ]
  },
  {
   "cell_type": "markdown",
   "id": "bcea4a95",
   "metadata": {},
   "source": [
    "#### hard way: doing it in a list"
   ]
  },
  {
   "cell_type": "code",
   "execution_count": 61,
   "id": "95df3309",
   "metadata": {},
   "outputs": [
    {
     "data": {
      "text/plain": [
       "[5, 22, 10, 313]"
      ]
     },
     "execution_count": 61,
     "metadata": {},
     "output_type": "execute_result"
    }
   ],
   "source": [
    "#list\n",
    "my_list"
   ]
  },
  {
   "cell_type": "code",
   "execution_count": 62,
   "id": "04078af0",
   "metadata": {},
   "outputs": [
    {
     "ename": "TypeError",
     "evalue": "can only concatenate list (not \"int\") to list",
     "output_type": "error",
     "traceback": [
      "\u001b[0;31m---------------------------------------------------------------------------\u001b[0m",
      "\u001b[0;31mTypeError\u001b[0m                                 Traceback (most recent call last)",
      "Input \u001b[0;32mIn [62]\u001b[0m, in \u001b[0;36m<cell line: 2>\u001b[0;34m()\u001b[0m\n\u001b[1;32m      1\u001b[0m \u001b[38;5;66;03m#add one\u001b[39;00m\n\u001b[0;32m----> 2\u001b[0m \u001b[43mmy_list\u001b[49m\u001b[43m \u001b[49m\u001b[38;5;241;43m+\u001b[39;49m\u001b[43m \u001b[49m\u001b[38;5;241;43m1\u001b[39;49m\n",
      "\u001b[0;31mTypeError\u001b[0m: can only concatenate list (not \"int\") to list"
     ]
    }
   ],
   "source": [
    "#add one\n",
    "my_list + 1"
   ]
  },
  {
   "cell_type": "code",
   "execution_count": null,
   "id": "6f244c40",
   "metadata": {},
   "outputs": [],
   "source": [
    "#using a for loop\n",
    "new_list = []\n",
    "\n",
    "for x in my_list:\n",
    "    new_list.append(x+1)\n",
    "new_list"
   ]
  },
  {
   "cell_type": "code",
   "execution_count": 63,
   "id": "ca05d10f",
   "metadata": {},
   "outputs": [
    {
     "data": {
      "text/plain": [
       "[6, 23, 11, 314]"
      ]
     },
     "execution_count": 63,
     "metadata": {},
     "output_type": "execute_result"
    }
   ],
   "source": [
    "#using a list comprehension\n",
    "[x+1 for x in my_list]"
   ]
  },
  {
   "cell_type": "markdown",
   "id": "0155af60",
   "metadata": {},
   "source": [
    "#### easy way: doing it with an array"
   ]
  },
  {
   "cell_type": "code",
   "execution_count": 64,
   "id": "e40a0a17",
   "metadata": {},
   "outputs": [
    {
     "data": {
      "text/plain": [
       "array([  5,  22,  10, 313])"
      ]
     },
     "execution_count": 64,
     "metadata": {},
     "output_type": "execute_result"
    }
   ],
   "source": [
    "#array\n",
    "my_array"
   ]
  },
  {
   "cell_type": "code",
   "execution_count": 65,
   "id": "71d33bf2",
   "metadata": {},
   "outputs": [
    {
     "data": {
      "text/plain": [
       "array([  6,  23,  11, 314])"
      ]
     },
     "execution_count": 65,
     "metadata": {},
     "output_type": "execute_result"
    }
   ],
   "source": [
    "#using vectorization operations\n",
    "my_array + 1"
   ]
  },
  {
   "cell_type": "markdown",
   "id": "1a361b80",
   "metadata": {},
   "source": [
    "### more operations"
   ]
  },
  {
   "cell_type": "code",
   "execution_count": 66,
   "id": "f4c10174",
   "metadata": {},
   "outputs": [
    {
     "data": {
      "text/plain": [
       "array([  5,  22,  10, 313])"
      ]
     },
     "execution_count": 66,
     "metadata": {},
     "output_type": "execute_result"
    }
   ],
   "source": [
    "my_array"
   ]
  },
  {
   "cell_type": "code",
   "execution_count": 67,
   "id": "92c50996",
   "metadata": {},
   "outputs": [
    {
     "data": {
      "text/plain": [
       "array([ 10,  44,  20, 626])"
      ]
     },
     "execution_count": 67,
     "metadata": {},
     "output_type": "execute_result"
    }
   ],
   "source": [
    "my_array * 2"
   ]
  },
  {
   "cell_type": "code",
   "execution_count": 68,
   "id": "cdf71e1f",
   "metadata": {},
   "outputs": [
    {
     "data": {
      "text/plain": [
       "array([   25,   484,   100, 97969])"
      ]
     },
     "execution_count": 68,
     "metadata": {},
     "output_type": "execute_result"
    }
   ],
   "source": [
    "my_array ** 2"
   ]
  },
  {
   "cell_type": "code",
   "execution_count": 69,
   "id": "60e27a89",
   "metadata": {},
   "outputs": [
    {
     "data": {
      "text/plain": [
       "array([ 2.5,  4.2,  3. , 33.3])"
      ]
     },
     "execution_count": 69,
     "metadata": {},
     "output_type": "execute_result"
    }
   ],
   "source": [
    "(my_array/10) + 2"
   ]
  },
  {
   "cell_type": "markdown",
   "id": "6c03b23e",
   "metadata": {},
   "source": [
    "### show us the speed"
   ]
  },
  {
   "cell_type": "code",
   "execution_count": 70,
   "id": "4e8d6e6b",
   "metadata": {},
   "outputs": [
    {
     "data": {
      "text/plain": [
       "[0, 1, 2, 3, 4, 5, 6, 7, 8, 9]"
      ]
     },
     "execution_count": 70,
     "metadata": {},
     "output_type": "execute_result"
    }
   ],
   "source": [
    "#make a really big list\n",
    "big_list = list(range(1_000_001))\n",
    "big_list[:10]"
   ]
  },
  {
   "cell_type": "code",
   "execution_count": 71,
   "id": "2fdfdf98",
   "metadata": {},
   "outputs": [
    {
     "name": "stdout",
     "output_type": "stream",
     "text": [
      "188 ms ± 988 µs per loop (mean ± std. dev. of 7 runs, 1 loop each)\n"
     ]
    }
   ],
   "source": [
    "%%timeit\n",
    "\n",
    "#square everything\n",
    "for x in big_list:\n",
    "    x**2"
   ]
  },
  {
   "cell_type": "code",
   "execution_count": 72,
   "id": "a88f270b",
   "metadata": {},
   "outputs": [
    {
     "data": {
      "text/plain": [
       "array([      0,       1,       2, ...,  999998,  999999, 1000000])"
      ]
     },
     "execution_count": 72,
     "metadata": {},
     "output_type": "execute_result"
    }
   ],
   "source": [
    "#make a really big array\n",
    "big_array = np.array(range(1_000_001))\n",
    "big_array"
   ]
  },
  {
   "cell_type": "code",
   "execution_count": 73,
   "id": "0624e8ac",
   "metadata": {},
   "outputs": [
    {
     "name": "stdout",
     "output_type": "stream",
     "text": [
      "620 µs ± 4.63 µs per loop (mean ± std. dev. of 7 runs, 1,000 loops each)\n"
     ]
    }
   ],
   "source": [
    "%%timeit\n",
    "\n",
    "#square everything\n",
    "big_array ** 2"
   ]
  },
  {
   "cell_type": "markdown",
   "id": "e1c5b579",
   "metadata": {},
   "source": [
    "## Numpy ways to create arrays"
   ]
  },
  {
   "cell_type": "markdown",
   "id": "05ec3f5e",
   "metadata": {},
   "source": [
    "#### full of zeros"
   ]
  },
  {
   "cell_type": "code",
   "execution_count": 74,
   "id": "2886e0fc",
   "metadata": {},
   "outputs": [],
   "source": [
    "#see documentation\n",
    "np.zeros?"
   ]
  },
  {
   "cell_type": "code",
   "execution_count": 75,
   "id": "25dbbaf9",
   "metadata": {},
   "outputs": [
    {
     "data": {
      "text/plain": [
       "array([0., 0., 0., 0., 0., 0., 0., 0., 0., 0.])"
      ]
     },
     "execution_count": 75,
     "metadata": {},
     "output_type": "execute_result"
    }
   ],
   "source": [
    "np.zeros(10) #agrument = shape"
   ]
  },
  {
   "cell_type": "code",
   "execution_count": 76,
   "id": "c9ae2085",
   "metadata": {},
   "outputs": [
    {
     "data": {
      "text/plain": [
       "array([[0., 0.],\n",
       "       [0., 0.],\n",
       "       [0., 0.],\n",
       "       [0., 0.],\n",
       "       [0., 0.],\n",
       "       [0., 0.],\n",
       "       [0., 0.],\n",
       "       [0., 0.],\n",
       "       [0., 0.],\n",
       "       [0., 0.]])"
      ]
     },
     "execution_count": 76,
     "metadata": {},
     "output_type": "execute_result"
    }
   ],
   "source": [
    "np.zeros((10,2)) #agrument = shape"
   ]
  },
  {
   "cell_type": "markdown",
   "id": "e31600ff",
   "metadata": {},
   "source": [
    "#### full of ones"
   ]
  },
  {
   "cell_type": "code",
   "execution_count": 77,
   "id": "afaebdbc",
   "metadata": {},
   "outputs": [
    {
     "data": {
      "text/plain": [
       "array([1., 1., 1., 1., 1.])"
      ]
     },
     "execution_count": 77,
     "metadata": {},
     "output_type": "execute_result"
    }
   ],
   "source": [
    "np.ones(5)"
   ]
  },
  {
   "cell_type": "code",
   "execution_count": 78,
   "id": "dd0de723",
   "metadata": {},
   "outputs": [
    {
     "data": {
      "text/plain": [
       "10000"
      ]
     },
     "execution_count": 78,
     "metadata": {},
     "output_type": "execute_result"
    }
   ],
   "source": [
    "len(np.ones(10_000))"
   ]
  },
  {
   "cell_type": "markdown",
   "id": "ffdfa56c",
   "metadata": {},
   "source": [
    "#### full of whatever you want "
   ]
  },
  {
   "cell_type": "code",
   "execution_count": 79,
   "id": "9ac25559",
   "metadata": {},
   "outputs": [
    {
     "data": {
      "text/plain": [
       "array([3, 3, 3, 3, 3, 3, 3, 3, 3, 3])"
      ]
     },
     "execution_count": 79,
     "metadata": {},
     "output_type": "execute_result"
    }
   ],
   "source": [
    "np.full(10, 3) #agrument = shape, what to send"
   ]
  },
  {
   "cell_type": "code",
   "execution_count": 80,
   "id": "aa51b168",
   "metadata": {},
   "outputs": [
    {
     "data": {
      "text/plain": [
       "array([ True,  True,  True,  True,  True,  True,  True,  True,  True,\n",
       "        True])"
      ]
     },
     "execution_count": 80,
     "metadata": {},
     "output_type": "execute_result"
    }
   ],
   "source": [
    "np.full(10,True)"
   ]
  },
  {
   "cell_type": "code",
   "execution_count": 81,
   "id": "1cf9da97",
   "metadata": {},
   "outputs": [
    {
     "data": {
      "text/plain": [
       "array([5.5, 5.5, 5.5, 5.5, 5.5, 5.5, 5.5, 5.5, 5.5, 5.5])"
      ]
     },
     "execution_count": 81,
     "metadata": {},
     "output_type": "execute_result"
    }
   ],
   "source": [
    "np.full(10,5.5)"
   ]
  },
  {
   "cell_type": "code",
   "execution_count": 82,
   "id": "2cccf2a2",
   "metadata": {},
   "outputs": [
    {
     "data": {
      "text/plain": [
       "array(['hello', 'hello', 'hello', 'hello', 'hello', 'hello', 'hello',\n",
       "       'hello', 'hello', 'hello'], dtype='<U5')"
      ]
     },
     "execution_count": 82,
     "metadata": {},
     "output_type": "execute_result"
    }
   ],
   "source": [
    "np.full(10,'hello')"
   ]
  },
  {
   "cell_type": "code",
   "execution_count": 83,
   "id": "1d6fa7f4",
   "metadata": {},
   "outputs": [
    {
     "data": {
      "text/plain": [
       "array([[9, 9],\n",
       "       [9, 9],\n",
       "       [9, 9],\n",
       "       [9, 9],\n",
       "       [9, 9],\n",
       "       [9, 9],\n",
       "       [9, 9],\n",
       "       [9, 9],\n",
       "       [9, 9],\n",
       "       [9, 9]])"
      ]
     },
     "execution_count": 83,
     "metadata": {},
     "output_type": "execute_result"
    }
   ],
   "source": [
    "np.full((10,2),9)"
   ]
  },
  {
   "cell_type": "markdown",
   "id": "d9e58643",
   "metadata": {},
   "source": [
    "#### another way to make a range"
   ]
  },
  {
   "cell_type": "code",
   "execution_count": 84,
   "id": "4823dbbf",
   "metadata": {},
   "outputs": [
    {
     "data": {
      "text/plain": [
       "array([0, 1, 2, 3, 4, 5, 6, 7, 8, 9])"
      ]
     },
     "execution_count": 84,
     "metadata": {},
     "output_type": "execute_result"
    }
   ],
   "source": [
    "#what we've already seen\n",
    "np.array(range(10))"
   ]
  },
  {
   "cell_type": "code",
   "execution_count": 85,
   "id": "b2534803",
   "metadata": {},
   "outputs": [
    {
     "data": {
      "text/plain": [
       "array([0, 1, 2, 3, 4, 5, 6, 7, 8, 9])"
      ]
     },
     "execution_count": 85,
     "metadata": {},
     "output_type": "execute_result"
    }
   ],
   "source": [
    "#using numpy function\n",
    "np.arange(10)"
   ]
  },
  {
   "cell_type": "code",
   "execution_count": 86,
   "id": "bbf50098",
   "metadata": {},
   "outputs": [
    {
     "data": {
      "text/plain": [
       "array([ 1,  2,  3,  4,  5,  6,  7,  8,  9, 10])"
      ]
     },
     "execution_count": 86,
     "metadata": {},
     "output_type": "execute_result"
    }
   ],
   "source": [
    "np.arange(1,11)"
   ]
  },
  {
   "cell_type": "markdown",
   "id": "a3d2b7e0",
   "metadata": {},
   "source": [
    "#### an array of random integers"
   ]
  },
  {
   "cell_type": "code",
   "execution_count": 87,
   "id": "e3b1b659",
   "metadata": {},
   "outputs": [
    {
     "data": {
      "text/plain": [
       "9"
      ]
     },
     "execution_count": 87,
     "metadata": {},
     "output_type": "execute_result"
    }
   ],
   "source": [
    "np.random.randint(2,20) #argument = low value, high value"
   ]
  },
  {
   "cell_type": "code",
   "execution_count": 88,
   "id": "a401e3d3",
   "metadata": {},
   "outputs": [
    {
     "data": {
      "text/plain": [
       "array([16, 19,  2, 17, 14,  3, 19,  7,  6, 13])"
      ]
     },
     "execution_count": 88,
     "metadata": {},
     "output_type": "execute_result"
    }
   ],
   "source": [
    "np.random.randint(2, 20, 10) #argument = low value, high value, how many"
   ]
  },
  {
   "cell_type": "code",
   "execution_count": 89,
   "id": "69c627b4",
   "metadata": {},
   "outputs": [
    {
     "data": {
      "text/plain": [
       "array([ 1, -1,  0,  3,  7, -1,  7,  4,  6,  0,  8,  7,  2,  4,  9,  3,  1,\n",
       "        4, -1,  4,  8])"
      ]
     },
     "execution_count": 89,
     "metadata": {},
     "output_type": "execute_result"
    }
   ],
   "source": [
    "np.random.randint(-1,10, 21)"
   ]
  },
  {
   "cell_type": "markdown",
   "id": "495446b1",
   "metadata": {},
   "source": [
    "#### an array of random numbers from the standard distribution"
   ]
  },
  {
   "cell_type": "code",
   "execution_count": 90,
   "id": "c9e259bc",
   "metadata": {},
   "outputs": [
    {
     "data": {
      "text/plain": [
       "array([ 0.2361829 ,  0.77429433, -0.31490356,  1.07565858, -0.44254788,\n",
       "        0.23338742, -0.77749735,  0.32047799,  0.26425617,  1.30641109])"
      ]
     },
     "execution_count": 90,
     "metadata": {},
     "output_type": "execute_result"
    }
   ],
   "source": [
    "np.random.randn(10) #argument = how many"
   ]
  },
  {
   "cell_type": "code",
   "execution_count": 91,
   "id": "d95571b3",
   "metadata": {},
   "outputs": [
    {
     "data": {
      "text/plain": [
       "array([-0.01066891,  0.95029138, -0.1468151 , ...,  0.82573901,\n",
       "        0.14017559,  0.72627685])"
      ]
     },
     "execution_count": 91,
     "metadata": {},
     "output_type": "execute_result"
    }
   ],
   "source": [
    "normal_array = np.random.randn(10_000_000)\n",
    "normal_array"
   ]
  },
  {
   "cell_type": "code",
   "execution_count": 92,
   "id": "af3f43f1",
   "metadata": {},
   "outputs": [],
   "source": [
    "import matplotlib.pyplot as plt"
   ]
  },
  {
   "cell_type": "code",
   "execution_count": 93,
   "id": "4fd9e5f6",
   "metadata": {},
   "outputs": [
    {
     "data": {
      "image/png": "[encoded data removed]",
      "text/plain": [
       "<Figure size 640x480 with 1 Axes>"
      ]
     },
     "metadata": {},
     "output_type": "display_data"
    }
   ],
   "source": [
    "plt.hist(normal_array, bins=300);"
   ]
  },
  {
   "cell_type": "code",
   "execution_count": 94,
   "id": "00157ee4",
   "metadata": {},
   "outputs": [
    {
     "data": {
      "text/plain": [
       "0.00040975135317008354"
      ]
     },
     "execution_count": 94,
     "metadata": {},
     "output_type": "execute_result"
    }
   ],
   "source": [
    "np.mean(normal_array)"
   ]
  },
  {
   "cell_type": "code",
   "execution_count": 95,
   "id": "c9bb84d5",
   "metadata": {},
   "outputs": [
    {
     "data": {
      "text/plain": [
       "0.0007870358618195234"
      ]
     },
     "execution_count": 95,
     "metadata": {},
     "output_type": "execute_result"
    }
   ],
   "source": [
    "np.median(normal_array)"
   ]
  },
  {
   "cell_type": "code",
   "execution_count": 96,
   "id": "166c9072",
   "metadata": {},
   "outputs": [],
   "source": [
    "from scipy import stats"
   ]
  },
  {
   "cell_type": "code",
   "execution_count": 97,
   "id": "19b43a35",
   "metadata": {},
   "outputs": [
    {
     "data": {
      "text/plain": [
       "ModeResult(mode=-5.461981543026998, count=1)"
      ]
     },
     "execution_count": 97,
     "metadata": {},
     "output_type": "execute_result"
    }
   ],
   "source": [
    "stats.mode(normal_array, keepdims=False)"
   ]
  },
  {
   "cell_type": "code",
   "execution_count": null,
   "id": "39b87c2a",
   "metadata": {},
   "outputs": [],
   "source": []
  }
 ],
 "metadata": {
  "kernelspec": {
   "display_name": "Python 3 (ipykernel)",
   "language": "python",
   "name": "python3"
  },
  "language_info": {
   "codemirror_mode": {
    "name": "ipython",
    "version": 3
   },
   "file_extension": ".py",
   "mimetype": "text/x-python",
   "name": "python",
   "nbconvert_exporter": "python",
   "pygments_lexer": "ipython3",
   "version": "3.9.12"
  }
 },
 "nbformat": 4,
 "nbformat_minor": 5
}
