{
 "cells": [
  {
   "cell_type": "markdown",
   "id": "fdba0d31",
   "metadata": {},
   "source": [
    "# Numpy"
   ]
  },
  {
   "cell_type": "markdown",
   "id": "ffb4fa6c",
   "metadata": {},
   "source": [
    "https://numpy.org/"
   ]
  },
  {
   "cell_type": "markdown",
   "id": "f6436770",
   "metadata": {},
   "source": [
    "### What is it? \n",
    "- Numpy is short for \"Numerical Python\"\n",
    "- Numpy is a Python library used for working with arrays\n",
    "\n",
    "### Why do we care? \n",
    "- Numpy arrays are super fast\n",
    "- Numpy arrays allows for vectorized operations\n",
    "- Numpy is one of the main reasons why Python is so powerful and popular for scientific computing"
   ]
  },
  {
   "cell_type": "markdown",
   "id": "a381c2ce",
   "metadata": {},
   "source": [
    "## Show us! "
   ]
  },
  {
   "cell_type": "markdown",
   "id": "2a7e6649",
   "metadata": {},
   "source": [
    "### Create a 1D array"
   ]
  },
  {
   "cell_type": "markdown",
   "id": "cb85fcb7",
   "metadata": {},
   "source": [
    "#### create a list"
   ]
  },
  {
   "cell_type": "code",
   "execution_count": null,
   "id": "4b882350",
   "metadata": {},
   "outputs": [],
   "source": [
    "#create a list\n",
    "my_list = [5,22,10,313]\n"
   ]
  },
  {
   "cell_type": "code",
   "execution_count": null,
   "id": "cb92e31a",
   "metadata": {},
   "outputs": [],
   "source": [
    "#whats the type\n"
   ]
  },
  {
   "cell_type": "markdown",
   "id": "4d0b8830",
   "metadata": {},
   "source": [
    "#### create an array\n",
    "FORMAT: `np.array()`"
   ]
  },
  {
   "cell_type": "code",
   "execution_count": null,
   "id": "a4967a18",
   "metadata": {},
   "outputs": [],
   "source": [
    "#import numpy library\n"
   ]
  },
  {
   "cell_type": "code",
   "execution_count": null,
   "id": "09162454",
   "metadata": {},
   "outputs": [],
   "source": [
    "#create the array\n"
   ]
  },
  {
   "cell_type": "code",
   "execution_count": null,
   "id": "0c1e6ed0",
   "metadata": {},
   "outputs": [],
   "source": [
    "#whats the type\n"
   ]
  },
  {
   "cell_type": "code",
   "execution_count": null,
   "id": "64cdeddd",
   "metadata": {},
   "outputs": [],
   "source": [
    "#whats the datatype of the values inside?\n"
   ]
  },
  {
   "cell_type": "code",
   "execution_count": null,
   "id": "710136bd",
   "metadata": {},
   "outputs": [],
   "source": [
    "#whats the shape\n"
   ]
  },
  {
   "cell_type": "markdown",
   "id": "8625415b",
   "metadata": {},
   "source": [
    "#### access elements of our new array"
   ]
  },
  {
   "cell_type": "markdown",
   "id": "881b85db",
   "metadata": {},
   "source": [
    "<div class=\"alert alert-block alert-info\">\n",
    "    <b>NOTE</b>: just like lists, the index of an array starts at 0\n",
    "</div>"
   ]
  },
  {
   "cell_type": "code",
   "execution_count": null,
   "id": "0ae95059",
   "metadata": {},
   "outputs": [],
   "source": []
  },
  {
   "cell_type": "code",
   "execution_count": null,
   "id": "5215628e",
   "metadata": {},
   "outputs": [],
   "source": [
    "#call the first element in my array\n"
   ]
  },
  {
   "cell_type": "code",
   "execution_count": null,
   "id": "91f2d5a8",
   "metadata": {},
   "outputs": [],
   "source": [
    "#call the last element of my array\n"
   ]
  },
  {
   "cell_type": "markdown",
   "id": "3f155d8b",
   "metadata": {},
   "source": [
    "#### slice the array"
   ]
  },
  {
   "cell_type": "markdown",
   "id": "522fbf6f",
   "metadata": {},
   "source": [
    "<div class=\"alert alert-block alert-info\">\n",
    "    <b>inclusive</b>: includes the value that is stated\n",
    "    <br>\n",
    "    <b>exclusive</b>: excludes the value that is stated\n",
    "</div>"
   ]
  },
  {
   "cell_type": "code",
   "execution_count": null,
   "id": "cbd0f411",
   "metadata": {},
   "outputs": [],
   "source": []
  },
  {
   "cell_type": "code",
   "execution_count": null,
   "id": "24e0112d",
   "metadata": {},
   "outputs": [],
   "source": []
  },
  {
   "cell_type": "code",
   "execution_count": null,
   "id": "9d0d74d0",
   "metadata": {},
   "outputs": [],
   "source": []
  },
  {
   "cell_type": "code",
   "execution_count": null,
   "id": "be7d63eb",
   "metadata": {},
   "outputs": [],
   "source": []
  },
  {
   "cell_type": "markdown",
   "id": "6bbc75e3",
   "metadata": {},
   "source": [
    "#### make it bigger - create an array from 1 to 100"
   ]
  },
  {
   "cell_type": "markdown",
   "id": "099ea6e6",
   "metadata": {},
   "source": [
    "FORMAT: `np.array()`"
   ]
  },
  {
   "cell_type": "code",
   "execution_count": null,
   "id": "3edb6ae4",
   "metadata": {},
   "outputs": [],
   "source": [
    "#create it\n"
   ]
  },
  {
   "cell_type": "code",
   "execution_count": null,
   "id": "558d0b56",
   "metadata": {},
   "outputs": [],
   "source": [
    "#access single element\n"
   ]
  },
  {
   "cell_type": "code",
   "execution_count": null,
   "id": "4e829147",
   "metadata": {},
   "outputs": [],
   "source": [
    "#slice the array! \n"
   ]
  },
  {
   "cell_type": "markdown",
   "id": "f03284c8",
   "metadata": {},
   "source": [
    "### Create a 2D array"
   ]
  },
  {
   "cell_type": "code",
   "execution_count": null,
   "id": "fdfdbc66",
   "metadata": {},
   "outputs": [],
   "source": [
    "#build a list of lists\n",
    "matrix = [[11,222,3],\n",
    "[2,3,4],\n",
    "[6,7,8],\n",
    "[4,5,6]]\n",
    "matrix"
   ]
  },
  {
   "cell_type": "code",
   "execution_count": null,
   "id": "f3887627",
   "metadata": {},
   "outputs": [],
   "source": [
    "#type\n"
   ]
  },
  {
   "cell_type": "code",
   "execution_count": null,
   "id": "82508d69",
   "metadata": {},
   "outputs": [],
   "source": [
    "#turn it into an array! \n"
   ]
  },
  {
   "cell_type": "code",
   "execution_count": null,
   "id": "7dadbd11",
   "metadata": {},
   "outputs": [],
   "source": [
    "#type\n"
   ]
  },
  {
   "cell_type": "code",
   "execution_count": null,
   "id": "1caf4d86",
   "metadata": {},
   "outputs": [],
   "source": [
    "#dtype\n"
   ]
  },
  {
   "cell_type": "code",
   "execution_count": null,
   "id": "5d5c34be",
   "metadata": {},
   "outputs": [],
   "source": [
    "#shape\n"
   ]
  },
  {
   "cell_type": "markdown",
   "id": "de7bb601",
   "metadata": {},
   "source": [
    "#### access elements"
   ]
  },
  {
   "cell_type": "code",
   "execution_count": null,
   "id": "a69fba5c",
   "metadata": {},
   "outputs": [],
   "source": []
  },
  {
   "cell_type": "code",
   "execution_count": null,
   "id": "adb66de4",
   "metadata": {},
   "outputs": [],
   "source": []
  },
  {
   "cell_type": "code",
   "execution_count": null,
   "id": "034bcba3",
   "metadata": {},
   "outputs": [],
   "source": []
  },
  {
   "cell_type": "markdown",
   "id": "842b3eca",
   "metadata": {},
   "source": [
    "### Descriptive Stats"
   ]
  },
  {
   "cell_type": "code",
   "execution_count": null,
   "id": "cceba44c",
   "metadata": {},
   "outputs": [],
   "source": [
    "#pulling back my big array\n"
   ]
  },
  {
   "cell_type": "markdown",
   "id": "fcc42e8e",
   "metadata": {},
   "source": [
    "#### using methods: the method is called on the numpy object\n",
    "FORMAT: `object.method()`"
   ]
  },
  {
   "cell_type": "code",
   "execution_count": null,
   "id": "a331d764",
   "metadata": {},
   "outputs": [],
   "source": []
  },
  {
   "cell_type": "code",
   "execution_count": null,
   "id": "8bd0556b",
   "metadata": {},
   "outputs": [],
   "source": []
  },
  {
   "cell_type": "code",
   "execution_count": null,
   "id": "e6ebe5c3",
   "metadata": {},
   "outputs": [],
   "source": []
  },
  {
   "cell_type": "code",
   "execution_count": null,
   "id": "5464ef96",
   "metadata": {},
   "outputs": [],
   "source": []
  },
  {
   "cell_type": "markdown",
   "id": "5edf5a39",
   "metadata": {},
   "source": [
    "#### using functions: using numpy to call functions\n",
    "\n",
    "FORMAT: `np.function(object)`"
   ]
  },
  {
   "cell_type": "code",
   "execution_count": null,
   "id": "a61108f7",
   "metadata": {},
   "outputs": [],
   "source": []
  },
  {
   "cell_type": "code",
   "execution_count": null,
   "id": "3960a7bb",
   "metadata": {},
   "outputs": [],
   "source": []
  },
  {
   "cell_type": "code",
   "execution_count": null,
   "id": "0fb823d2",
   "metadata": {},
   "outputs": [],
   "source": []
  },
  {
   "cell_type": "code",
   "execution_count": null,
   "id": "7a9e416d",
   "metadata": {},
   "outputs": [],
   "source": []
  },
  {
   "cell_type": "markdown",
   "id": "2a7326ab",
   "metadata": {},
   "source": [
    "## Boolean Masks"
   ]
  },
  {
   "cell_type": "markdown",
   "id": "3eedc691",
   "metadata": {},
   "source": [
    "filtering values in numpy arrays: [slides](https://www.canva.com/design/DAFyRkfu4rE/gqzNP3tKiF9U1YKmwhqUtA/view?utm_content=DAFyRkfu4rE&utm_campaign=designshare&utm_medium=link&utm_source=editor)"
   ]
  },
  {
   "cell_type": "markdown",
   "id": "66230c3e",
   "metadata": {},
   "source": [
    "1. create an array\n",
    "2. create a boolean mask\n",
    "3. combine to filter\n",
    "\n",
    "    FORMAT: `array [boolean_mask]`"
   ]
  },
  {
   "cell_type": "code",
   "execution_count": null,
   "id": "a27286c7",
   "metadata": {},
   "outputs": [],
   "source": [
    "#pull back our small array\n"
   ]
  },
  {
   "cell_type": "code",
   "execution_count": null,
   "id": "066dd1d7",
   "metadata": {},
   "outputs": [],
   "source": [
    "#make our mask aka list of booleans\n"
   ]
  },
  {
   "cell_type": "code",
   "execution_count": null,
   "id": "5d37b049",
   "metadata": {},
   "outputs": [],
   "source": [
    "#combine to filter \n"
   ]
  },
  {
   "cell_type": "markdown",
   "id": "b58913b2",
   "metadata": {},
   "source": [
    "#### how else can we get our boolean mask?\n",
    "\n",
    "A: write a conditional statement with our array"
   ]
  },
  {
   "cell_type": "code",
   "execution_count": null,
   "id": "0c0033ec",
   "metadata": {},
   "outputs": [],
   "source": [
    "#array\n"
   ]
  },
  {
   "cell_type": "code",
   "execution_count": null,
   "id": "2a917641",
   "metadata": {},
   "outputs": [],
   "source": [
    "#write a conditional with the array\n"
   ]
  },
  {
   "cell_type": "code",
   "execution_count": null,
   "id": "1129e997",
   "metadata": {},
   "outputs": [],
   "source": [
    "#save my boolean mask\n"
   ]
  },
  {
   "cell_type": "code",
   "execution_count": null,
   "id": "de976885",
   "metadata": {},
   "outputs": [],
   "source": [
    "#combine them!\n"
   ]
  },
  {
   "cell_type": "code",
   "execution_count": null,
   "id": "9a43cd84",
   "metadata": {},
   "outputs": [],
   "source": []
  },
  {
   "cell_type": "markdown",
   "id": "9d5c6a8a",
   "metadata": {},
   "source": [
    "#### let's try with our big array"
   ]
  },
  {
   "cell_type": "code",
   "execution_count": null,
   "id": "8909c028",
   "metadata": {},
   "outputs": [],
   "source": [
    "#array\n"
   ]
  },
  {
   "cell_type": "code",
   "execution_count": null,
   "id": "bc3abb47",
   "metadata": {},
   "outputs": [],
   "source": [
    "#mask\n"
   ]
  },
  {
   "cell_type": "code",
   "execution_count": null,
   "id": "dd47118c",
   "metadata": {},
   "outputs": [],
   "source": [
    "#combine\n"
   ]
  },
  {
   "cell_type": "markdown",
   "id": "1d88321c",
   "metadata": {},
   "source": [
    "#### what about with multiple conditions?"
   ]
  },
  {
   "cell_type": "markdown",
   "id": "f0543c29",
   "metadata": {},
   "source": [
    "<div class=\"alert alert-block alert-info\">\n",
    "    <b>combining arrays</b><br>\n",
    "    use & instead of AND\n",
    "    <br>\n",
    "    use | instead of OR\n",
    "</div>"
   ]
  },
  {
   "cell_type": "markdown",
   "id": "c30545af",
   "metadata": {},
   "source": [
    "#### get all values that are greater than 5 and less than 15"
   ]
  },
  {
   "cell_type": "code",
   "execution_count": null,
   "id": "512a02a1",
   "metadata": {},
   "outputs": [],
   "source": [
    "#array\n"
   ]
  },
  {
   "cell_type": "code",
   "execution_count": null,
   "id": "98a98113",
   "metadata": {},
   "outputs": [],
   "source": [
    "#make boolean mask\n"
   ]
  },
  {
   "cell_type": "code",
   "execution_count": null,
   "id": "474a2daf",
   "metadata": {},
   "outputs": [],
   "source": [
    "#combine\n"
   ]
  },
  {
   "cell_type": "markdown",
   "id": "ab026b74",
   "metadata": {},
   "source": [
    "#### get all values that are less than 10 or greater than 90"
   ]
  },
  {
   "cell_type": "code",
   "execution_count": null,
   "id": "79eec774",
   "metadata": {},
   "outputs": [],
   "source": [
    "#make boolean mask\n"
   ]
  },
  {
   "cell_type": "code",
   "execution_count": null,
   "id": "679af407",
   "metadata": {},
   "outputs": [],
   "source": [
    "#combine\n"
   ]
  },
  {
   "cell_type": "markdown",
   "id": "661a7105",
   "metadata": {},
   "source": [
    "#### what if we wanted the opposite of our mask?"
   ]
  },
  {
   "cell_type": "code",
   "execution_count": null,
   "id": "b417e242",
   "metadata": {},
   "outputs": [],
   "source": [
    "#regular mask\n"
   ]
  },
  {
   "cell_type": "code",
   "execution_count": null,
   "id": "03511369",
   "metadata": {},
   "outputs": [],
   "source": [
    "#opposite mask\n"
   ]
  },
  {
   "cell_type": "code",
   "execution_count": null,
   "id": "06486905",
   "metadata": {},
   "outputs": [],
   "source": [
    "#the ~ notates the opposite of\n"
   ]
  },
  {
   "cell_type": "markdown",
   "id": "medium-generation",
   "metadata": {},
   "source": [
    "## Vectorization Operations\n",
    "- makes looping over math so easy and fast!"
   ]
  },
  {
   "cell_type": "markdown",
   "id": "d541e2ad",
   "metadata": {},
   "source": [
    "### Add one to every element"
   ]
  },
  {
   "cell_type": "markdown",
   "id": "bcea4a95",
   "metadata": {},
   "source": [
    "#### hard way: doing it in a list"
   ]
  },
  {
   "cell_type": "code",
   "execution_count": null,
   "id": "95df3309",
   "metadata": {},
   "outputs": [],
   "source": [
    "#list\n"
   ]
  },
  {
   "cell_type": "code",
   "execution_count": null,
   "id": "db87f985",
   "metadata": {},
   "outputs": [],
   "source": [
    "#add one\n"
   ]
  },
  {
   "cell_type": "code",
   "execution_count": null,
   "id": "6f244c40",
   "metadata": {},
   "outputs": [],
   "source": [
    "#using a for loop\n"
   ]
  },
  {
   "cell_type": "code",
   "execution_count": null,
   "id": "ca05d10f",
   "metadata": {},
   "outputs": [],
   "source": [
    "#using a list comprehension\n"
   ]
  },
  {
   "cell_type": "markdown",
   "id": "0155af60",
   "metadata": {},
   "source": [
    "#### easy way: doing it with an array"
   ]
  },
  {
   "cell_type": "code",
   "execution_count": null,
   "id": "e40a0a17",
   "metadata": {},
   "outputs": [],
   "source": [
    "#array\n"
   ]
  },
  {
   "cell_type": "code",
   "execution_count": null,
   "id": "71d33bf2",
   "metadata": {},
   "outputs": [],
   "source": [
    "#using vectorization operations\n"
   ]
  },
  {
   "cell_type": "markdown",
   "id": "1a361b80",
   "metadata": {},
   "source": [
    "### more operations"
   ]
  },
  {
   "cell_type": "code",
   "execution_count": null,
   "id": "ff402806",
   "metadata": {},
   "outputs": [],
   "source": []
  },
  {
   "cell_type": "code",
   "execution_count": null,
   "id": "795af2eb",
   "metadata": {},
   "outputs": [],
   "source": []
  },
  {
   "cell_type": "code",
   "execution_count": null,
   "id": "cbc0d6d1",
   "metadata": {},
   "outputs": [],
   "source": []
  },
  {
   "cell_type": "markdown",
   "id": "6c03b23e",
   "metadata": {},
   "source": [
    "### show us the speed"
   ]
  },
  {
   "cell_type": "code",
   "execution_count": null,
   "id": "bbed7917",
   "metadata": {},
   "outputs": [],
   "source": [
    "#make a really big list\n"
   ]
  },
  {
   "cell_type": "code",
   "execution_count": null,
   "id": "2fdfdf98",
   "metadata": {},
   "outputs": [],
   "source": [
    "# %%timeit\n",
    "\n",
    "#square everything\n"
   ]
  },
  {
   "cell_type": "code",
   "execution_count": null,
   "id": "a88f270b",
   "metadata": {},
   "outputs": [],
   "source": [
    "#make a really big array\n"
   ]
  },
  {
   "cell_type": "code",
   "execution_count": null,
   "id": "0624e8ac",
   "metadata": {},
   "outputs": [],
   "source": [
    "# %%timeit\n",
    "\n",
    "#square everything\n"
   ]
  },
  {
   "cell_type": "markdown",
   "id": "e1c5b579",
   "metadata": {},
   "source": [
    "## Numpy ways to create arrays"
   ]
  },
  {
   "cell_type": "markdown",
   "id": "05ec3f5e",
   "metadata": {},
   "source": [
    "#### full of zeros"
   ]
  },
  {
   "cell_type": "code",
   "execution_count": null,
   "id": "2886e0fc",
   "metadata": {},
   "outputs": [],
   "source": [
    "#see documentation\n"
   ]
  },
  {
   "cell_type": "code",
   "execution_count": null,
   "id": "25dbbaf9",
   "metadata": {},
   "outputs": [],
   "source": []
  },
  {
   "cell_type": "code",
   "execution_count": null,
   "id": "c9ae2085",
   "metadata": {},
   "outputs": [],
   "source": []
  },
  {
   "cell_type": "markdown",
   "id": "e31600ff",
   "metadata": {},
   "source": [
    "#### full of ones"
   ]
  },
  {
   "cell_type": "code",
   "execution_count": null,
   "id": "afaebdbc",
   "metadata": {},
   "outputs": [],
   "source": []
  },
  {
   "cell_type": "code",
   "execution_count": null,
   "id": "dd0de723",
   "metadata": {},
   "outputs": [],
   "source": []
  },
  {
   "cell_type": "markdown",
   "id": "ffdfa56c",
   "metadata": {},
   "source": [
    "#### full of whatever you want "
   ]
  },
  {
   "cell_type": "code",
   "execution_count": null,
   "id": "9ac25559",
   "metadata": {},
   "outputs": [],
   "source": []
  },
  {
   "cell_type": "code",
   "execution_count": null,
   "id": "dbc6aea3",
   "metadata": {},
   "outputs": [],
   "source": []
  },
  {
   "cell_type": "code",
   "execution_count": null,
   "id": "341ce325",
   "metadata": {},
   "outputs": [],
   "source": []
  },
  {
   "cell_type": "code",
   "execution_count": null,
   "id": "d4133857",
   "metadata": {},
   "outputs": [],
   "source": []
  },
  {
   "cell_type": "markdown",
   "id": "d9e58643",
   "metadata": {},
   "source": [
    "#### another way to make a range"
   ]
  },
  {
   "cell_type": "code",
   "execution_count": null,
   "id": "4823dbbf",
   "metadata": {},
   "outputs": [],
   "source": [
    "#what we've already seen\n"
   ]
  },
  {
   "cell_type": "code",
   "execution_count": null,
   "id": "b2534803",
   "metadata": {},
   "outputs": [],
   "source": [
    "#using numpy function\n"
   ]
  },
  {
   "cell_type": "code",
   "execution_count": null,
   "id": "bbf50098",
   "metadata": {},
   "outputs": [],
   "source": []
  },
  {
   "cell_type": "markdown",
   "id": "a3d2b7e0",
   "metadata": {},
   "source": [
    "#### an array of random integers"
   ]
  },
  {
   "cell_type": "code",
   "execution_count": null,
   "id": "aa77c234",
   "metadata": {},
   "outputs": [],
   "source": []
  },
  {
   "cell_type": "code",
   "execution_count": null,
   "id": "80b1a90c",
   "metadata": {},
   "outputs": [],
   "source": []
  },
  {
   "cell_type": "code",
   "execution_count": null,
   "id": "397b4f7a",
   "metadata": {},
   "outputs": [],
   "source": []
  },
  {
   "cell_type": "markdown",
   "id": "495446b1",
   "metadata": {},
   "source": [
    "#### an array of random numbers from the standard distribution"
   ]
  },
  {
   "cell_type": "code",
   "execution_count": null,
   "id": "6fa9e6cc",
   "metadata": {},
   "outputs": [],
   "source": []
  },
  {
   "cell_type": "code",
   "execution_count": null,
   "id": "f9bad489",
   "metadata": {},
   "outputs": [],
   "source": []
  },
  {
   "cell_type": "code",
   "execution_count": null,
   "id": "644caca3",
   "metadata": {},
   "outputs": [],
   "source": []
  }
 ],
 "metadata": {
  "kernelspec": {
   "display_name": "Python 3 (ipykernel)",
   "language": "python",
   "name": "python3"
  },
  "language_info": {
   "codemirror_mode": {
    "name": "ipython",
    "version": 3
   },
   "file_extension": ".py",
   "mimetype": "text/x-python",
   "name": "python",
   "nbconvert_exporter": "python",
   "pygments_lexer": "ipython3",
   "version": "3.9.12"
  }
 },
 "nbformat": 4,
 "nbformat_minor": 5
}
