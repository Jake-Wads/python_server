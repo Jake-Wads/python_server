{
 "cells": [
  {
   "cell_type": "markdown",
   "id": "66955324",
   "metadata": {},
   "source": [
    "# Advanced Dataframes"
   ]
  },
  {
   "cell_type": "markdown",
   "id": "dd8262cd",
   "metadata": {},
   "source": [
    "What is advanced dataframes? \n",
    "- Part 1: how to create dataframes\n",
    "- Part 2: manipulate the dataframes\n",
    "- Part 3: transform the dataframes\n",
    "\n",
    "Why do we care? \n",
    "- Now that we understand more about what a dataframe is, these tools will allow us to wrangle our dataframes to get the data we need!"
   ]
  },
  {
   "cell_type": "markdown",
   "id": "bf7007a0",
   "metadata": {},
   "source": [
    "## Part 1 - Creating Dataframes\n",
    "- from lists\n",
    "- from dictionaries\n",
    "- from sql"
   ]
  },
  {
   "cell_type": "code",
   "execution_count": 1,
   "id": "e26e613d",
   "metadata": {},
   "outputs": [],
   "source": [
    "#standard imports\n",
    "import pandas as pd\n",
    "import numpy as np"
   ]
  },
  {
   "cell_type": "markdown",
   "id": "fae6f7a0",
   "metadata": {},
   "source": [
    "FORMAT: `pd.DataFrame(data)`"
   ]
  },
  {
   "cell_type": "markdown",
   "id": "1c9a4d6e",
   "metadata": {},
   "source": [
    "## From lists"
   ]
  },
  {
   "cell_type": "code",
   "execution_count": 2,
   "id": "a78cc14e",
   "metadata": {},
   "outputs": [
    {
     "data": {
      "text/plain": [
       "[1, 34, 23, -2]"
      ]
     },
     "execution_count": 2,
     "metadata": {},
     "output_type": "execute_result"
    }
   ],
   "source": [
    "#build a list\n",
    "ls = [1,34,23,-2]\n",
    "ls"
   ]
  },
  {
   "cell_type": "code",
   "execution_count": 3,
   "id": "bfad9140",
   "metadata": {},
   "outputs": [
    {
     "data": {
      "text/html": [
       "<div>\n",
       "<style scoped>\n",
       "    .dataframe tbody tr th:only-of-type {\n",
       "        vertical-align: middle;\n",
       "    }\n",
       "\n",
       "    .dataframe tbody tr th {\n",
       "        vertical-align: top;\n",
       "    }\n",
       "\n",
       "    .dataframe thead th {\n",
       "        text-align: right;\n",
       "    }\n",
       "</style>\n",
       "<table border=\"1\" class=\"dataframe\">\n",
       "  <thead>\n",
       "    <tr style=\"text-align: right;\">\n",
       "      <th></th>\n",
       "      <th>0</th>\n",
       "    </tr>\n",
       "  </thead>\n",
       "  <tbody>\n",
       "    <tr>\n",
       "      <th>0</th>\n",
       "      <td>1</td>\n",
       "    </tr>\n",
       "    <tr>\n",
       "      <th>1</th>\n",
       "      <td>34</td>\n",
       "    </tr>\n",
       "    <tr>\n",
       "      <th>2</th>\n",
       "      <td>23</td>\n",
       "    </tr>\n",
       "    <tr>\n",
       "      <th>3</th>\n",
       "      <td>-2</td>\n",
       "    </tr>\n",
       "  </tbody>\n",
       "</table>\n",
       "</div>"
      ],
      "text/plain": [
       "    0\n",
       "0   1\n",
       "1  34\n",
       "2  23\n",
       "3  -2"
      ]
     },
     "execution_count": 3,
     "metadata": {},
     "output_type": "execute_result"
    }
   ],
   "source": [
    "#convert to df\n",
    "pd.DataFrame(ls) #in the pretty format tells us its a df, even though its one column"
   ]
  },
  {
   "cell_type": "code",
   "execution_count": 4,
   "id": "c5560bbc",
   "metadata": {},
   "outputs": [
    {
     "data": {
      "text/plain": [
       "0     1\n",
       "1    34\n",
       "2    23\n",
       "3    -2\n",
       "dtype: int64"
      ]
     },
     "execution_count": 4,
     "metadata": {},
     "output_type": "execute_result"
    }
   ],
   "source": [
    "pd.Series(ls) #less pretty format is a series"
   ]
  },
  {
   "cell_type": "code",
   "execution_count": 5,
   "id": "2c3df5a6",
   "metadata": {},
   "outputs": [
    {
     "data": {
      "text/plain": [
       "[[1, 2, 3], [777, 3, 45], [435, 12, 333]]"
      ]
     },
     "execution_count": 5,
     "metadata": {},
     "output_type": "execute_result"
    }
   ],
   "source": [
    "#build a matrix (list of lists)\n",
    "matrix = [[1,2,3],[777,3,45],[435,12,333]] \n",
    "matrix"
   ]
  },
  {
   "cell_type": "code",
   "execution_count": 6,
   "id": "a58c8e72",
   "metadata": {},
   "outputs": [
    {
     "data": {
      "text/html": [
       "<div>\n",
       "<style scoped>\n",
       "    .dataframe tbody tr th:only-of-type {\n",
       "        vertical-align: middle;\n",
       "    }\n",
       "\n",
       "    .dataframe tbody tr th {\n",
       "        vertical-align: top;\n",
       "    }\n",
       "\n",
       "    .dataframe thead th {\n",
       "        text-align: right;\n",
       "    }\n",
       "</style>\n",
       "<table border=\"1\" class=\"dataframe\">\n",
       "  <thead>\n",
       "    <tr style=\"text-align: right;\">\n",
       "      <th></th>\n",
       "      <th>0</th>\n",
       "      <th>1</th>\n",
       "      <th>2</th>\n",
       "    </tr>\n",
       "  </thead>\n",
       "  <tbody>\n",
       "    <tr>\n",
       "      <th>0</th>\n",
       "      <td>1</td>\n",
       "      <td>2</td>\n",
       "      <td>3</td>\n",
       "    </tr>\n",
       "    <tr>\n",
       "      <th>1</th>\n",
       "      <td>777</td>\n",
       "      <td>3</td>\n",
       "      <td>45</td>\n",
       "    </tr>\n",
       "    <tr>\n",
       "      <th>2</th>\n",
       "      <td>435</td>\n",
       "      <td>12</td>\n",
       "      <td>333</td>\n",
       "    </tr>\n",
       "  </tbody>\n",
       "</table>\n",
       "</div>"
      ],
      "text/plain": [
       "     0   1    2\n",
       "0    1   2    3\n",
       "1  777   3   45\n",
       "2  435  12  333"
      ]
     },
     "execution_count": 6,
     "metadata": {},
     "output_type": "execute_result"
    }
   ],
   "source": [
    "#convert to df\n",
    "pd.DataFrame(matrix) #each element in the list is a new row\n",
    "#column names default to 0,1,2,..."
   ]
  },
  {
   "cell_type": "code",
   "execution_count": 7,
   "id": "e4ad5abe",
   "metadata": {},
   "outputs": [
    {
     "data": {
      "text/plain": [
       "['first', 'second', 'third']"
      ]
     },
     "execution_count": 7,
     "metadata": {},
     "output_type": "execute_result"
    }
   ],
   "source": [
    "#define column names\n",
    "column_names = ['first','second','third'] #saved as a list\n",
    "column_names"
   ]
  },
  {
   "cell_type": "code",
   "execution_count": 8,
   "id": "f24a3f91",
   "metadata": {},
   "outputs": [
    {
     "data": {
      "text/html": [
       "<div>\n",
       "<style scoped>\n",
       "    .dataframe tbody tr th:only-of-type {\n",
       "        vertical-align: middle;\n",
       "    }\n",
       "\n",
       "    .dataframe tbody tr th {\n",
       "        vertical-align: top;\n",
       "    }\n",
       "\n",
       "    .dataframe thead th {\n",
       "        text-align: right;\n",
       "    }\n",
       "</style>\n",
       "<table border=\"1\" class=\"dataframe\">\n",
       "  <thead>\n",
       "    <tr style=\"text-align: right;\">\n",
       "      <th></th>\n",
       "      <th>first</th>\n",
       "      <th>second</th>\n",
       "      <th>third</th>\n",
       "    </tr>\n",
       "  </thead>\n",
       "  <tbody>\n",
       "    <tr>\n",
       "      <th>0</th>\n",
       "      <td>1</td>\n",
       "      <td>2</td>\n",
       "      <td>3</td>\n",
       "    </tr>\n",
       "    <tr>\n",
       "      <th>1</th>\n",
       "      <td>777</td>\n",
       "      <td>3</td>\n",
       "      <td>45</td>\n",
       "    </tr>\n",
       "    <tr>\n",
       "      <th>2</th>\n",
       "      <td>435</td>\n",
       "      <td>12</td>\n",
       "      <td>333</td>\n",
       "    </tr>\n",
       "  </tbody>\n",
       "</table>\n",
       "</div>"
      ],
      "text/plain": [
       "   first  second  third\n",
       "0      1       2      3\n",
       "1    777       3     45\n",
       "2    435      12    333"
      ]
     },
     "execution_count": 8,
     "metadata": {},
     "output_type": "execute_result"
    }
   ],
   "source": [
    "#define column names when creating df\n",
    "pd.DataFrame(matrix, columns=column_names)"
   ]
  },
  {
   "cell_type": "code",
   "execution_count": 9,
   "id": "c66b39c6",
   "metadata": {},
   "outputs": [
    {
     "data": {
      "text/plain": [
       "array([[  1,   2,   3],\n",
       "       [777,   3,  45],\n",
       "       [435,  12, 333]])"
      ]
     },
     "execution_count": 9,
     "metadata": {},
     "output_type": "execute_result"
    }
   ],
   "source": [
    "#make the matrix an array\n",
    "my_array = np.array(matrix)\n",
    "my_array"
   ]
  },
  {
   "cell_type": "code",
   "execution_count": 10,
   "id": "4a5275aa",
   "metadata": {},
   "outputs": [
    {
     "data": {
      "text/html": [
       "<div>\n",
       "<style scoped>\n",
       "    .dataframe tbody tr th:only-of-type {\n",
       "        vertical-align: middle;\n",
       "    }\n",
       "\n",
       "    .dataframe tbody tr th {\n",
       "        vertical-align: top;\n",
       "    }\n",
       "\n",
       "    .dataframe thead th {\n",
       "        text-align: right;\n",
       "    }\n",
       "</style>\n",
       "<table border=\"1\" class=\"dataframe\">\n",
       "  <thead>\n",
       "    <tr style=\"text-align: right;\">\n",
       "      <th></th>\n",
       "      <th>first</th>\n",
       "      <th>second</th>\n",
       "      <th>third</th>\n",
       "    </tr>\n",
       "  </thead>\n",
       "  <tbody>\n",
       "    <tr>\n",
       "      <th>0</th>\n",
       "      <td>1</td>\n",
       "      <td>2</td>\n",
       "      <td>3</td>\n",
       "    </tr>\n",
       "    <tr>\n",
       "      <th>1</th>\n",
       "      <td>777</td>\n",
       "      <td>3</td>\n",
       "      <td>45</td>\n",
       "    </tr>\n",
       "    <tr>\n",
       "      <th>2</th>\n",
       "      <td>435</td>\n",
       "      <td>12</td>\n",
       "      <td>333</td>\n",
       "    </tr>\n",
       "  </tbody>\n",
       "</table>\n",
       "</div>"
      ],
      "text/plain": [
       "   first  second  third\n",
       "0      1       2      3\n",
       "1    777       3     45\n",
       "2    435      12    333"
      ]
     },
     "execution_count": 10,
     "metadata": {},
     "output_type": "execute_result"
    }
   ],
   "source": [
    "#convert to df\n",
    "pd.DataFrame(my_array, columns=column_names)"
   ]
  },
  {
   "cell_type": "markdown",
   "id": "d84ac401",
   "metadata": {},
   "source": [
    "## From dictionaries"
   ]
  },
  {
   "cell_type": "code",
   "execution_count": 11,
   "id": "72b32979",
   "metadata": {},
   "outputs": [
    {
     "data": {
      "text/plain": [
       "{'A': [1, 2, 3], 'B': [777, 234, 33]}"
      ]
     },
     "execution_count": 11,
     "metadata": {},
     "output_type": "execute_result"
    }
   ],
   "source": [
    "#create a dictionary with a list as keys\n",
    "#dictionary format: {key:value}\n",
    "new_dt = {'A':[1,2,3], 'B':[777,234,33]}\n",
    "new_dt"
   ]
  },
  {
   "cell_type": "code",
   "execution_count": 12,
   "id": "b4636b50",
   "metadata": {},
   "outputs": [
    {
     "data": {
      "text/html": [
       "<div>\n",
       "<style scoped>\n",
       "    .dataframe tbody tr th:only-of-type {\n",
       "        vertical-align: middle;\n",
       "    }\n",
       "\n",
       "    .dataframe tbody tr th {\n",
       "        vertical-align: top;\n",
       "    }\n",
       "\n",
       "    .dataframe thead th {\n",
       "        text-align: right;\n",
       "    }\n",
       "</style>\n",
       "<table border=\"1\" class=\"dataframe\">\n",
       "  <thead>\n",
       "    <tr style=\"text-align: right;\">\n",
       "      <th></th>\n",
       "      <th>A</th>\n",
       "      <th>B</th>\n",
       "    </tr>\n",
       "  </thead>\n",
       "  <tbody>\n",
       "    <tr>\n",
       "      <th>0</th>\n",
       "      <td>1</td>\n",
       "      <td>777</td>\n",
       "    </tr>\n",
       "    <tr>\n",
       "      <th>1</th>\n",
       "      <td>2</td>\n",
       "      <td>234</td>\n",
       "    </tr>\n",
       "    <tr>\n",
       "      <th>2</th>\n",
       "      <td>3</td>\n",
       "      <td>33</td>\n",
       "    </tr>\n",
       "  </tbody>\n",
       "</table>\n",
       "</div>"
      ],
      "text/plain": [
       "   A    B\n",
       "0  1  777\n",
       "1  2  234\n",
       "2  3   33"
      ]
     },
     "execution_count": 12,
     "metadata": {},
     "output_type": "execute_result"
    }
   ],
   "source": [
    "#create df!\n",
    "pd.DataFrame(new_dt) #the keys become column names"
   ]
  },
  {
   "cell_type": "markdown",
   "id": "76c5e6db",
   "metadata": {},
   "source": [
    "#### make it more complex"
   ]
  },
  {
   "cell_type": "code",
   "execution_count": 13,
   "id": "88fcdab4",
   "metadata": {},
   "outputs": [],
   "source": [
    "#set random seed\n",
    "np.random.seed(123)\n",
    "\n",
    "#this ensures people get the same results when running random functions"
   ]
  },
  {
   "cell_type": "code",
   "execution_count": 14,
   "id": "153ccb3b",
   "metadata": {},
   "outputs": [],
   "source": [
    "# Create list of values for names column\n",
    "students = ['Sally', 'Jane', 'Suzie', 'Billy', 'Ada', 'John', 'Thomas',\n",
    "            'Marie', 'Albert', 'Richard', 'Isaac', 'Alan']"
   ]
  },
  {
   "cell_type": "code",
   "execution_count": 15,
   "id": "33525ff2",
   "metadata": {},
   "outputs": [],
   "source": [
    "# Randomly generate arrays of scores for each student for each subject.\n",
    "# Note that all the values need to have the same length here.\n",
    "math_grades = np.random.randint(low=60, high=100, size=len(students))\n",
    "\n",
    "english_grades = np.random.randint(low=60, high=100, size=len(students))\n",
    "\n",
    "reading_grades = np.random.randint(low=60, high=100, size=len(students))"
   ]
  },
  {
   "cell_type": "code",
   "execution_count": 16,
   "id": "a6926dbf",
   "metadata": {},
   "outputs": [
    {
     "data": {
      "text/plain": [
       "array([62, 88, 94, 98, 77, 79, 82, 93, 92, 69, 92, 92])"
      ]
     },
     "execution_count": 16,
     "metadata": {},
     "output_type": "execute_result"
    }
   ],
   "source": [
    "math_grades"
   ]
  },
  {
   "cell_type": "code",
   "execution_count": 17,
   "id": "25675412",
   "metadata": {},
   "outputs": [
    {
     "data": {
      "text/plain": [
       "array([2, 5, 4, 7, 2, 5, 4, 4, 4, 8])"
      ]
     },
     "execution_count": 17,
     "metadata": {},
     "output_type": "execute_result"
    }
   ],
   "source": [
    "np.random.randint(2,10, size=10)"
   ]
  },
  {
   "cell_type": "code",
   "execution_count": 18,
   "id": "59b163ac",
   "metadata": {},
   "outputs": [],
   "source": [
    "# Randomly generate if a student is in classroom A or classroom B\n",
    "classroom = np.random.choice(['A', 'B'], len(students))"
   ]
  },
  {
   "cell_type": "code",
   "execution_count": 19,
   "id": "a8aaea5a",
   "metadata": {},
   "outputs": [
    {
     "data": {
      "text/plain": [
       "{'student': ['Sally',\n",
       "  'Jane',\n",
       "  'Suzie',\n",
       "  'Billy',\n",
       "  'Ada',\n",
       "  'John',\n",
       "  'Thomas',\n",
       "  'Marie',\n",
       "  'Albert',\n",
       "  'Richard',\n",
       "  'Isaac',\n",
       "  'Alan'],\n",
       " 'math_grade': array([62, 88, 94, 98, 77, 79, 82, 93, 92, 69, 92, 92]),\n",
       " 'english_grade': array([85, 79, 74, 96, 92, 76, 64, 63, 62, 80, 99, 62]),\n",
       " 'reading_grade': array([80, 67, 95, 88, 98, 93, 81, 90, 87, 94, 93, 72]),\n",
       " 'room': array(['B', 'A', 'A', 'B', 'B', 'B', 'B', 'A', 'A', 'A', 'A', 'B'],\n",
       "       dtype='<U1')}"
      ]
     },
     "execution_count": 19,
     "metadata": {},
     "output_type": "execute_result"
    }
   ],
   "source": [
    "#combine all values into a dictionary\n",
    "student_dict = {\n",
    "    'student': students, #column name: variable name\n",
    "    'math_grade': math_grades,\n",
    "    'english_grade': english_grades,\n",
    "    'reading_grade': reading_grades,\n",
    "    'room': classroom\n",
    "}\n",
    "student_dict"
   ]
  },
  {
   "cell_type": "code",
   "execution_count": 20,
   "id": "af12d6bc",
   "metadata": {},
   "outputs": [
    {
     "data": {
      "text/html": [
       "<div>\n",
       "<style scoped>\n",
       "    .dataframe tbody tr th:only-of-type {\n",
       "        vertical-align: middle;\n",
       "    }\n",
       "\n",
       "    .dataframe tbody tr th {\n",
       "        vertical-align: top;\n",
       "    }\n",
       "\n",
       "    .dataframe thead th {\n",
       "        text-align: right;\n",
       "    }\n",
       "</style>\n",
       "<table border=\"1\" class=\"dataframe\">\n",
       "  <thead>\n",
       "    <tr style=\"text-align: right;\">\n",
       "      <th></th>\n",
       "      <th>student</th>\n",
       "      <th>math_grade</th>\n",
       "      <th>english_grade</th>\n",
       "      <th>reading_grade</th>\n",
       "      <th>room</th>\n",
       "    </tr>\n",
       "  </thead>\n",
       "  <tbody>\n",
       "    <tr>\n",
       "      <th>0</th>\n",
       "      <td>Sally</td>\n",
       "      <td>62</td>\n",
       "      <td>85</td>\n",
       "      <td>80</td>\n",
       "      <td>B</td>\n",
       "    </tr>\n",
       "    <tr>\n",
       "      <th>1</th>\n",
       "      <td>Jane</td>\n",
       "      <td>88</td>\n",
       "      <td>79</td>\n",
       "      <td>67</td>\n",
       "      <td>A</td>\n",
       "    </tr>\n",
       "    <tr>\n",
       "      <th>2</th>\n",
       "      <td>Suzie</td>\n",
       "      <td>94</td>\n",
       "      <td>74</td>\n",
       "      <td>95</td>\n",
       "      <td>A</td>\n",
       "    </tr>\n",
       "    <tr>\n",
       "      <th>3</th>\n",
       "      <td>Billy</td>\n",
       "      <td>98</td>\n",
       "      <td>96</td>\n",
       "      <td>88</td>\n",
       "      <td>B</td>\n",
       "    </tr>\n",
       "    <tr>\n",
       "      <th>4</th>\n",
       "      <td>Ada</td>\n",
       "      <td>77</td>\n",
       "      <td>92</td>\n",
       "      <td>98</td>\n",
       "      <td>B</td>\n",
       "    </tr>\n",
       "    <tr>\n",
       "      <th>5</th>\n",
       "      <td>John</td>\n",
       "      <td>79</td>\n",
       "      <td>76</td>\n",
       "      <td>93</td>\n",
       "      <td>B</td>\n",
       "    </tr>\n",
       "    <tr>\n",
       "      <th>6</th>\n",
       "      <td>Thomas</td>\n",
       "      <td>82</td>\n",
       "      <td>64</td>\n",
       "      <td>81</td>\n",
       "      <td>B</td>\n",
       "    </tr>\n",
       "    <tr>\n",
       "      <th>7</th>\n",
       "      <td>Marie</td>\n",
       "      <td>93</td>\n",
       "      <td>63</td>\n",
       "      <td>90</td>\n",
       "      <td>A</td>\n",
       "    </tr>\n",
       "    <tr>\n",
       "      <th>8</th>\n",
       "      <td>Albert</td>\n",
       "      <td>92</td>\n",
       "      <td>62</td>\n",
       "      <td>87</td>\n",
       "      <td>A</td>\n",
       "    </tr>\n",
       "    <tr>\n",
       "      <th>9</th>\n",
       "      <td>Richard</td>\n",
       "      <td>69</td>\n",
       "      <td>80</td>\n",
       "      <td>94</td>\n",
       "      <td>A</td>\n",
       "    </tr>\n",
       "    <tr>\n",
       "      <th>10</th>\n",
       "      <td>Isaac</td>\n",
       "      <td>92</td>\n",
       "      <td>99</td>\n",
       "      <td>93</td>\n",
       "      <td>A</td>\n",
       "    </tr>\n",
       "    <tr>\n",
       "      <th>11</th>\n",
       "      <td>Alan</td>\n",
       "      <td>92</td>\n",
       "      <td>62</td>\n",
       "      <td>72</td>\n",
       "      <td>B</td>\n",
       "    </tr>\n",
       "  </tbody>\n",
       "</table>\n",
       "</div>"
      ],
      "text/plain": [
       "    student  math_grade  english_grade  reading_grade room\n",
       "0     Sally          62             85             80    B\n",
       "1      Jane          88             79             67    A\n",
       "2     Suzie          94             74             95    A\n",
       "3     Billy          98             96             88    B\n",
       "4       Ada          77             92             98    B\n",
       "5      John          79             76             93    B\n",
       "6    Thomas          82             64             81    B\n",
       "7     Marie          93             63             90    A\n",
       "8    Albert          92             62             87    A\n",
       "9   Richard          69             80             94    A\n",
       "10    Isaac          92             99             93    A\n",
       "11     Alan          92             62             72    B"
      ]
     },
     "execution_count": 20,
     "metadata": {},
     "output_type": "execute_result"
    }
   ],
   "source": [
    "#create df! \n",
    "pd.DataFrame(student_dict)"
   ]
  },
  {
   "cell_type": "markdown",
   "id": "d07e78bb",
   "metadata": {},
   "source": [
    "## From SQL"
   ]
  },
  {
   "cell_type": "markdown",
   "id": "d24d6296",
   "metadata": {},
   "source": [
    "We can connect to sql to create a dataframe!! yay!"
   ]
  },
  {
   "cell_type": "markdown",
   "id": "d6202436",
   "metadata": {},
   "source": [
    "### Process\n",
    "\n",
    "0. install driver (only need to do this one time on your computer)\n",
    "1. create a connection string with server credentials\n",
    "2. use connection string to connect to SQL via python and pull in results"
   ]
  },
  {
   "cell_type": "markdown",
   "id": "81966281",
   "metadata": {},
   "source": [
    "---"
   ]
  },
  {
   "cell_type": "markdown",
   "id": "429ec744",
   "metadata": {},
   "source": [
    "### 0. install driver (only need to do this one time on your computer)"
   ]
  },
  {
   "cell_type": "markdown",
   "id": "77e7951f",
   "metadata": {},
   "source": [
    "To do this we will use a driver to connect the database to our python code using pymysql driver packages"
   ]
  },
  {
   "cell_type": "markdown",
   "id": "9fd48e50",
   "metadata": {},
   "source": [
    "<div class=\"alert alert-block alert-info\">\n",
    "    Type this in the command line\n",
    "    \n",
    "    python -m pip install pymysql\n",
    "</div>"
   ]
  },
  {
   "cell_type": "markdown",
   "id": "9eef7d13",
   "metadata": {},
   "source": [
    "### 1. create a connection string with server credentials"
   ]
  },
  {
   "cell_type": "markdown",
   "id": "2e4f2e13",
   "metadata": {},
   "source": [
    "Now that this is installed, we will create a **CONNECTION STRING**"
   ]
  },
  {
   "cell_type": "markdown",
   "id": "107e8e6a",
   "metadata": {},
   "source": [
    "This is a what a **CONNECTION STRING** looks like: "
   ]
  },
  {
   "cell_type": "markdown",
   "id": "102ee04e",
   "metadata": {},
   "source": [
    "`[protocol]://[user]:[password]@[host]/[database_name]`"
   ]
  },
  {
   "cell_type": "markdown",
   "id": "b565ddb7",
   "metadata": {},
   "source": [
    "Example:"
   ]
  },
  {
   "cell_type": "markdown",
   "id": "8ed5a973",
   "metadata": {},
   "source": [
    "- protocol = 'mysql+pymysql'\n",
    "- user = 'codeup'\n",
    "- password = 'p@assw0rd'\n",
    "- host = '123.123.123.123'\n",
    "- database_name = 'some_db'"
   ]
  },
  {
   "cell_type": "code",
   "execution_count": 21,
   "id": "bfeb9cac",
   "metadata": {},
   "outputs": [
    {
     "data": {
      "text/plain": [
       "'mysql+pymysql://codeup:p@assw0rd@123.123.123/some_db'"
      ]
     },
     "execution_count": 21,
     "metadata": {},
     "output_type": "execute_result"
    }
   ],
   "source": [
    "#example\n",
    "url = 'mysql+pymysql://codeup:p@assw0rd@123.123.123/some_db'\n",
    "url"
   ]
  },
  {
   "cell_type": "markdown",
   "id": "0950fa4b",
   "metadata": {},
   "source": [
    "- This **CONNECTION STRING** is unique to this example user\n",
    "- You will each make a unique **CONNECTION STRING** with your credentials"
   ]
  },
  {
   "cell_type": "markdown",
   "id": "5b1a6ec3",
   "metadata": {},
   "source": [
    "<div class=\"alert alert-block alert-warning\">\n",
    "    Do you see any issues with typing your username and password in your .py or .ipynb?\n",
    "</div>"
   ]
  },
  {
   "cell_type": "markdown",
   "id": "29f425e8",
   "metadata": {},
   "source": [
    "How to avoid this? "
   ]
  },
  {
   "cell_type": "markdown",
   "id": "c0f6020b",
   "metadata": {},
   "source": [
    "1. Create a separate file called `env.py`\n",
    "2. Enter in your credentials\n",
    "3. Ensure your `env.py` is in the same folder as your working file\n",
    "4. Import your `env.py`\n",
    "5. Create your connection string from imported variables"
   ]
  },
  {
   "cell_type": "markdown",
   "id": "1c31a1d6",
   "metadata": {},
   "source": [
    "#### SAMPLE ENV\n",
    "\n",
    "    host = '123.123.123'\n",
    "    user = 'bayes_1023'\n",
    "    password = 'tHl5!ls#r4N0oM'\n"
   ]
  },
  {
   "cell_type": "markdown",
   "id": "3a99ca11",
   "metadata": {},
   "source": [
    "<div class=\"alert alert-block alert-warning\">\n",
    "    Should you push your env.py file to github?\n",
    "</div>"
   ]
  },
  {
   "cell_type": "code",
   "execution_count": 22,
   "id": "43442da1",
   "metadata": {},
   "outputs": [],
   "source": [
    "#get my credentials \n",
    "import env"
   ]
  },
  {
   "cell_type": "code",
   "execution_count": 23,
   "id": "3df81afb",
   "metadata": {},
   "outputs": [],
   "source": [
    "#pull in the hostname\n",
    "# env.host"
   ]
  },
  {
   "cell_type": "code",
   "execution_count": 24,
   "id": "b48d17ae",
   "metadata": {},
   "outputs": [],
   "source": [
    "#pull in the username\n",
    "# env.user"
   ]
  },
  {
   "cell_type": "code",
   "execution_count": 25,
   "id": "91f7cdcb",
   "metadata": {},
   "outputs": [],
   "source": [
    "#pull in the password\n",
    "# env.password"
   ]
  },
  {
   "cell_type": "markdown",
   "id": "d6b65b9c",
   "metadata": {},
   "source": [
    "<div class=\"alert alert-block alert-warning\">\n",
    "    Should you leave your username and password printed out on your .ipynb?\n",
    "</div>"
   ]
  },
  {
   "cell_type": "markdown",
   "id": "82827aaa",
   "metadata": {},
   "source": [
    "lets create our **CONNECTION STRING** saved into a variable called url"
   ]
  },
  {
   "cell_type": "code",
   "execution_count": 26,
   "id": "de458224",
   "metadata": {},
   "outputs": [],
   "source": [
    "#create connection string\n",
    "url = f'mysql+pymysql://{env.user}:{env.password}@{env.host}/some_db'"
   ]
  },
  {
   "cell_type": "code",
   "execution_count": 27,
   "id": "baf0dfa9",
   "metadata": {},
   "outputs": [],
   "source": [
    "# url \n",
    "#dont leave our url variable printed out on our screen"
   ]
  },
  {
   "cell_type": "markdown",
   "id": "96988f13",
   "metadata": {},
   "source": [
    "<div class=\"alert alert-block alert-warning\">\n",
    "    Should you print out on your connection string?\n",
    "</div>"
   ]
  },
  {
   "cell_type": "markdown",
   "id": "62eefde7",
   "metadata": {},
   "source": [
    "### 2. use connection string to connect to SQL via python"
   ]
  },
  {
   "cell_type": "markdown",
   "id": "304f89f0",
   "metadata": {},
   "source": [
    "Now that we have created our **CONNECTION STRING**, we can connect to SQL"
   ]
  },
  {
   "cell_type": "markdown",
   "id": "ed616657",
   "metadata": {},
   "source": [
    "#### Let's connect to the employees database and pull the first 5 rows"
   ]
  },
  {
   "cell_type": "markdown",
   "id": "5e2354cc",
   "metadata": {},
   "source": [
    "FORMAT: `pd.read_sql('literal sql syntax to pull query', connection_string)`"
   ]
  },
  {
   "cell_type": "code",
   "execution_count": 28,
   "id": "4a696ada",
   "metadata": {},
   "outputs": [],
   "source": [
    "url = f'mysql+pymysql://{env.user}:{env.password}@{env.host}/employees'\n",
    "# url"
   ]
  },
  {
   "cell_type": "markdown",
   "id": "c604ae98",
   "metadata": {},
   "source": [
    "<div class=\"alert alert-block alert-warning\">\n",
    "    Do you notice any issues with my current connection string?\n",
    "</div>"
   ]
  },
  {
   "cell_type": "code",
   "execution_count": 30,
   "id": "e9c74752",
   "metadata": {},
   "outputs": [
    {
     "data": {
      "text/html": [
       "<div>\n",
       "<style scoped>\n",
       "    .dataframe tbody tr th:only-of-type {\n",
       "        vertical-align: middle;\n",
       "    }\n",
       "\n",
       "    .dataframe tbody tr th {\n",
       "        vertical-align: top;\n",
       "    }\n",
       "\n",
       "    .dataframe thead th {\n",
       "        text-align: right;\n",
       "    }\n",
       "</style>\n",
       "<table border=\"1\" class=\"dataframe\">\n",
       "  <thead>\n",
       "    <tr style=\"text-align: right;\">\n",
       "      <th></th>\n",
       "      <th>emp_no</th>\n",
       "      <th>birth_date</th>\n",
       "      <th>first_name</th>\n",
       "      <th>last_name</th>\n",
       "      <th>gender</th>\n",
       "      <th>hire_date</th>\n",
       "    </tr>\n",
       "  </thead>\n",
       "  <tbody>\n",
       "    <tr>\n",
       "      <th>0</th>\n",
       "      <td>10001</td>\n",
       "      <td>1953-09-02</td>\n",
       "      <td>Georgi</td>\n",
       "      <td>Facello</td>\n",
       "      <td>M</td>\n",
       "      <td>1986-06-26</td>\n",
       "    </tr>\n",
       "    <tr>\n",
       "      <th>1</th>\n",
       "      <td>10002</td>\n",
       "      <td>1964-06-02</td>\n",
       "      <td>Bezalel</td>\n",
       "      <td>Simmel</td>\n",
       "      <td>F</td>\n",
       "      <td>1985-11-21</td>\n",
       "    </tr>\n",
       "    <tr>\n",
       "      <th>2</th>\n",
       "      <td>10003</td>\n",
       "      <td>1959-12-03</td>\n",
       "      <td>Parto</td>\n",
       "      <td>Bamford</td>\n",
       "      <td>M</td>\n",
       "      <td>1986-08-28</td>\n",
       "    </tr>\n",
       "    <tr>\n",
       "      <th>3</th>\n",
       "      <td>10004</td>\n",
       "      <td>1954-05-01</td>\n",
       "      <td>Chirstian</td>\n",
       "      <td>Koblick</td>\n",
       "      <td>M</td>\n",
       "      <td>1986-12-01</td>\n",
       "    </tr>\n",
       "    <tr>\n",
       "      <th>4</th>\n",
       "      <td>10005</td>\n",
       "      <td>1955-01-21</td>\n",
       "      <td>Kyoichi</td>\n",
       "      <td>Maliniak</td>\n",
       "      <td>M</td>\n",
       "      <td>1989-09-12</td>\n",
       "    </tr>\n",
       "    <tr>\n",
       "      <th>5</th>\n",
       "      <td>10006</td>\n",
       "      <td>1953-04-20</td>\n",
       "      <td>Anneke</td>\n",
       "      <td>Preusig</td>\n",
       "      <td>F</td>\n",
       "      <td>1989-06-02</td>\n",
       "    </tr>\n",
       "    <tr>\n",
       "      <th>6</th>\n",
       "      <td>10007</td>\n",
       "      <td>1957-05-23</td>\n",
       "      <td>Tzvetan</td>\n",
       "      <td>Zielinski</td>\n",
       "      <td>F</td>\n",
       "      <td>1989-02-10</td>\n",
       "    </tr>\n",
       "    <tr>\n",
       "      <th>7</th>\n",
       "      <td>10008</td>\n",
       "      <td>1958-02-19</td>\n",
       "      <td>Saniya</td>\n",
       "      <td>Kalloufi</td>\n",
       "      <td>M</td>\n",
       "      <td>1994-09-15</td>\n",
       "    </tr>\n",
       "    <tr>\n",
       "      <th>8</th>\n",
       "      <td>10009</td>\n",
       "      <td>1952-04-19</td>\n",
       "      <td>Sumant</td>\n",
       "      <td>Peac</td>\n",
       "      <td>F</td>\n",
       "      <td>1985-02-18</td>\n",
       "    </tr>\n",
       "    <tr>\n",
       "      <th>9</th>\n",
       "      <td>10010</td>\n",
       "      <td>1963-06-01</td>\n",
       "      <td>Duangkaew</td>\n",
       "      <td>Piveteau</td>\n",
       "      <td>F</td>\n",
       "      <td>1989-08-24</td>\n",
       "    </tr>\n",
       "  </tbody>\n",
       "</table>\n",
       "</div>"
      ],
      "text/plain": [
       "   emp_no  birth_date first_name  last_name gender   hire_date\n",
       "0   10001  1953-09-02     Georgi    Facello      M  1986-06-26\n",
       "1   10002  1964-06-02    Bezalel     Simmel      F  1985-11-21\n",
       "2   10003  1959-12-03      Parto    Bamford      M  1986-08-28\n",
       "3   10004  1954-05-01  Chirstian    Koblick      M  1986-12-01\n",
       "4   10005  1955-01-21    Kyoichi   Maliniak      M  1989-09-12\n",
       "5   10006  1953-04-20     Anneke    Preusig      F  1989-06-02\n",
       "6   10007  1957-05-23    Tzvetan  Zielinski      F  1989-02-10\n",
       "7   10008  1958-02-19     Saniya   Kalloufi      M  1994-09-15\n",
       "8   10009  1952-04-19     Sumant       Peac      F  1985-02-18\n",
       "9   10010  1963-06-01  Duangkaew   Piveteau      F  1989-08-24"
      ]
     },
     "execution_count": 30,
     "metadata": {},
     "output_type": "execute_result"
    }
   ],
   "source": [
    "#connect to sql and pull query into df\n",
    "pd.read_sql('select * from employees limit 10', url)"
   ]
  },
  {
   "cell_type": "markdown",
   "id": "a8b53004",
   "metadata": {},
   "source": [
    "#### I like my sql querys formatted with line breaks"
   ]
  },
  {
   "cell_type": "code",
   "execution_count": 31,
   "id": "35da1c4a",
   "metadata": {},
   "outputs": [
    {
     "data": {
      "text/html": [
       "<div>\n",
       "<style scoped>\n",
       "    .dataframe tbody tr th:only-of-type {\n",
       "        vertical-align: middle;\n",
       "    }\n",
       "\n",
       "    .dataframe tbody tr th {\n",
       "        vertical-align: top;\n",
       "    }\n",
       "\n",
       "    .dataframe thead th {\n",
       "        text-align: right;\n",
       "    }\n",
       "</style>\n",
       "<table border=\"1\" class=\"dataframe\">\n",
       "  <thead>\n",
       "    <tr style=\"text-align: right;\">\n",
       "      <th></th>\n",
       "      <th>emp_no</th>\n",
       "      <th>birth_date</th>\n",
       "      <th>first_name</th>\n",
       "      <th>last_name</th>\n",
       "      <th>gender</th>\n",
       "      <th>hire_date</th>\n",
       "    </tr>\n",
       "  </thead>\n",
       "  <tbody>\n",
       "    <tr>\n",
       "      <th>0</th>\n",
       "      <td>10001</td>\n",
       "      <td>1953-09-02</td>\n",
       "      <td>Georgi</td>\n",
       "      <td>Facello</td>\n",
       "      <td>M</td>\n",
       "      <td>1986-06-26</td>\n",
       "    </tr>\n",
       "    <tr>\n",
       "      <th>1</th>\n",
       "      <td>10002</td>\n",
       "      <td>1964-06-02</td>\n",
       "      <td>Bezalel</td>\n",
       "      <td>Simmel</td>\n",
       "      <td>F</td>\n",
       "      <td>1985-11-21</td>\n",
       "    </tr>\n",
       "    <tr>\n",
       "      <th>2</th>\n",
       "      <td>10003</td>\n",
       "      <td>1959-12-03</td>\n",
       "      <td>Parto</td>\n",
       "      <td>Bamford</td>\n",
       "      <td>M</td>\n",
       "      <td>1986-08-28</td>\n",
       "    </tr>\n",
       "    <tr>\n",
       "      <th>3</th>\n",
       "      <td>10004</td>\n",
       "      <td>1954-05-01</td>\n",
       "      <td>Chirstian</td>\n",
       "      <td>Koblick</td>\n",
       "      <td>M</td>\n",
       "      <td>1986-12-01</td>\n",
       "    </tr>\n",
       "    <tr>\n",
       "      <th>4</th>\n",
       "      <td>10005</td>\n",
       "      <td>1955-01-21</td>\n",
       "      <td>Kyoichi</td>\n",
       "      <td>Maliniak</td>\n",
       "      <td>M</td>\n",
       "      <td>1989-09-12</td>\n",
       "    </tr>\n",
       "  </tbody>\n",
       "</table>\n",
       "</div>"
      ],
      "text/plain": [
       "   emp_no  birth_date first_name last_name gender   hire_date\n",
       "0   10001  1953-09-02     Georgi   Facello      M  1986-06-26\n",
       "1   10002  1964-06-02    Bezalel    Simmel      F  1985-11-21\n",
       "2   10003  1959-12-03      Parto   Bamford      M  1986-08-28\n",
       "3   10004  1954-05-01  Chirstian   Koblick      M  1986-12-01\n",
       "4   10005  1955-01-21    Kyoichi  Maliniak      M  1989-09-12"
      ]
     },
     "execution_count": 31,
     "metadata": {},
     "output_type": "execute_result"
    }
   ],
   "source": [
    "#write our query with three quotes opening and closing\n",
    "pd.read_sql(''' \n",
    "    select *\n",
    "    from employees\n",
    "    limit 5\n",
    "    ''', url)"
   ]
  },
  {
   "cell_type": "markdown",
   "id": "efc162e0",
   "metadata": {},
   "source": [
    "#### Let's make a bigger query:"
   ]
  },
  {
   "cell_type": "markdown",
   "id": "9f7f32c4",
   "metadata": {},
   "source": [
    "- I want a dataframe with emp_no, first_name, last_name, and dept_name\n",
    "- I want it only for women and their current department\n",
    "- Only pull back the first 10 employees"
   ]
  },
  {
   "cell_type": "code",
   "execution_count": 32,
   "id": "3ff08a5c",
   "metadata": {},
   "outputs": [],
   "source": [
    "#query\n",
    "query = '''\n",
    "select emp_no, first_name, last_name, dept_name\n",
    "from employees\n",
    "\tjoin dept_emp\n",
    "\t\tusing (emp_no)\n",
    "\tjoin departments\n",
    "\t\tusing (dept_no)\n",
    "where gender = 'F'\n",
    "\tand to_date > now()\n",
    "'''"
   ]
  },
  {
   "cell_type": "code",
   "execution_count": 33,
   "id": "ef54c444",
   "metadata": {},
   "outputs": [],
   "source": [
    "#connect to sql and pull query into df\n",
    "df = pd.read_sql(query, url)"
   ]
  },
  {
   "cell_type": "code",
   "execution_count": 34,
   "id": "ced2bc53",
   "metadata": {},
   "outputs": [
    {
     "data": {
      "text/html": [
       "<div>\n",
       "<style scoped>\n",
       "    .dataframe tbody tr th:only-of-type {\n",
       "        vertical-align: middle;\n",
       "    }\n",
       "\n",
       "    .dataframe tbody tr th {\n",
       "        vertical-align: top;\n",
       "    }\n",
       "\n",
       "    .dataframe thead th {\n",
       "        text-align: right;\n",
       "    }\n",
       "</style>\n",
       "<table border=\"1\" class=\"dataframe\">\n",
       "  <thead>\n",
       "    <tr style=\"text-align: right;\">\n",
       "      <th></th>\n",
       "      <th>emp_no</th>\n",
       "      <th>first_name</th>\n",
       "      <th>last_name</th>\n",
       "      <th>dept_name</th>\n",
       "    </tr>\n",
       "  </thead>\n",
       "  <tbody>\n",
       "    <tr>\n",
       "      <th>96005</th>\n",
       "      <td>499926</td>\n",
       "      <td>Youpyo</td>\n",
       "      <td>Perfilyeva</td>\n",
       "      <td>Sales</td>\n",
       "    </tr>\n",
       "    <tr>\n",
       "      <th>96006</th>\n",
       "      <td>499960</td>\n",
       "      <td>Gaetan</td>\n",
       "      <td>Veldwijk</td>\n",
       "      <td>Sales</td>\n",
       "    </tr>\n",
       "    <tr>\n",
       "      <th>96007</th>\n",
       "      <td>499966</td>\n",
       "      <td>Mihalis</td>\n",
       "      <td>Crabtree</td>\n",
       "      <td>Sales</td>\n",
       "    </tr>\n",
       "    <tr>\n",
       "      <th>96008</th>\n",
       "      <td>499986</td>\n",
       "      <td>Nathan</td>\n",
       "      <td>Ranta</td>\n",
       "      <td>Sales</td>\n",
       "    </tr>\n",
       "    <tr>\n",
       "      <th>96009</th>\n",
       "      <td>499987</td>\n",
       "      <td>Rimli</td>\n",
       "      <td>Dusink</td>\n",
       "      <td>Sales</td>\n",
       "    </tr>\n",
       "  </tbody>\n",
       "</table>\n",
       "</div>"
      ],
      "text/plain": [
       "       emp_no first_name   last_name dept_name\n",
       "96005  499926     Youpyo  Perfilyeva     Sales\n",
       "96006  499960     Gaetan    Veldwijk     Sales\n",
       "96007  499966    Mihalis    Crabtree     Sales\n",
       "96008  499986     Nathan       Ranta     Sales\n",
       "96009  499987      Rimli      Dusink     Sales"
      ]
     },
     "execution_count": 34,
     "metadata": {},
     "output_type": "execute_result"
    }
   ],
   "source": [
    "df.tail()"
   ]
  },
  {
   "cell_type": "markdown",
   "id": "c22217af",
   "metadata": {},
   "source": [
    "<div class=\"alert alert-block alert-info\">\n",
    "    <b>Important Recap Dos</b>\n",
    "\n",
    "I will put my credentials in an `env` file.\n",
    "    \n",
    "I will put `env.py` in my .gitignore.\n",
    " \n",
    "</div>"
   ]
  },
  {
   "cell_type": "markdown",
   "id": "ceea894f",
   "metadata": {},
   "source": [
    "<div class=\"alert alert-block alert-danger\">\n",
    "    <b>Important Recap Don'ts</b>\n",
    "\n",
    "I will not push my password to GitHub.\n",
    "\n",
    "I will not type my password in my code editor.     \n",
    "    \n",
    "I will not print out my password variable.\n",
    "    \n",
    "I will not print out my CONNECTION STRING which contains my password. \n",
    "    \n",
    "I will not push my `env` file to GitHub.\n",
    " \n",
    "</div>"
   ]
  },
  {
   "cell_type": "markdown",
   "id": "fdfdef64",
   "metadata": {},
   "source": [
    "Note: your personal username and password are saved in the google classroom under MySQL Server Credentials"
   ]
  }
 ],
 "metadata": {
  "kernelspec": {
   "display_name": "Python 3 (ipykernel)",
   "language": "python",
   "name": "python3"
  },
  "language_info": {
   "codemirror_mode": {
    "name": "ipython",
    "version": 3
   },
   "file_extension": ".py",
   "mimetype": "text/x-python",
   "name": "python",
   "nbconvert_exporter": "python",
   "pygments_lexer": "ipython3",
   "version": "3.9.12"
  }
 },
 "nbformat": 4,
 "nbformat_minor": 5
}
