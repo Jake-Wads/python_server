{
 "cells": [
  {
   "cell_type": "markdown",
   "id": "66955324",
   "metadata": {},
   "source": [
    "# Advanced Dataframes"
   ]
  },
  {
   "cell_type": "markdown",
   "id": "dd8262cd",
   "metadata": {},
   "source": [
    "What is advanced dataframes? \n",
    "- Part 1: how to create dataframes\n",
    "- Part 2: manipulate the dataframes\n",
    "- Part 3: transform the dataframes\n",
    "\n",
    "Why do we care? \n",
    "- Now that we understand more about what a dataframe is, these tools will allow us to wrangle our dataframes to get the data we need!"
   ]
  },
  {
   "cell_type": "markdown",
   "id": "bf7007a0",
   "metadata": {},
   "source": [
    "## Part 1 - Creating Dataframes\n",
    "- from lists\n",
    "- from dictionaries\n",
    "- from sql"
   ]
  },
  {
   "cell_type": "code",
   "execution_count": null,
   "id": "e26e613d",
   "metadata": {},
   "outputs": [],
   "source": [
    "#standard imports\n"
   ]
  },
  {
   "cell_type": "markdown",
   "id": "fae6f7a0",
   "metadata": {},
   "source": [
    "FORMAT: `pd.DataFrame(data)`"
   ]
  },
  {
   "cell_type": "markdown",
   "id": "1c9a4d6e",
   "metadata": {},
   "source": [
    "## From lists"
   ]
  },
  {
   "cell_type": "code",
   "execution_count": null,
   "id": "a78cc14e",
   "metadata": {},
   "outputs": [],
   "source": [
    "#build a list\n"
   ]
  },
  {
   "cell_type": "code",
   "execution_count": null,
   "id": "bfad9140",
   "metadata": {},
   "outputs": [],
   "source": [
    "#convert to df\n"
   ]
  },
  {
   "cell_type": "code",
   "execution_count": null,
   "id": "c5560bbc",
   "metadata": {},
   "outputs": [],
   "source": []
  },
  {
   "cell_type": "code",
   "execution_count": null,
   "id": "2c3df5a6",
   "metadata": {},
   "outputs": [],
   "source": [
    "#build a matrix (list of lists)\n"
   ]
  },
  {
   "cell_type": "code",
   "execution_count": null,
   "id": "a58c8e72",
   "metadata": {},
   "outputs": [],
   "source": [
    "#convert to df\n"
   ]
  },
  {
   "cell_type": "code",
   "execution_count": null,
   "id": "e4ad5abe",
   "metadata": {},
   "outputs": [],
   "source": [
    "#define column names\n"
   ]
  },
  {
   "cell_type": "code",
   "execution_count": null,
   "id": "f24a3f91",
   "metadata": {},
   "outputs": [],
   "source": [
    "#define column names when creating df\n"
   ]
  },
  {
   "cell_type": "code",
   "execution_count": null,
   "id": "c66b39c6",
   "metadata": {},
   "outputs": [],
   "source": [
    "#make the matrix an array\n"
   ]
  },
  {
   "cell_type": "code",
   "execution_count": null,
   "id": "4a5275aa",
   "metadata": {},
   "outputs": [],
   "source": [
    "#convert to df\n"
   ]
  },
  {
   "cell_type": "markdown",
   "id": "d84ac401",
   "metadata": {},
   "source": [
    "## From dictionaries"
   ]
  },
  {
   "cell_type": "code",
   "execution_count": null,
   "id": "72b32979",
   "metadata": {},
   "outputs": [],
   "source": [
    "#create a dictionary with a list as keys\n",
    "#dictionary format: {key:value}\n",
    "new_dt = {'A':[1,2,3], 'B':[777,234,33], 'C':[42,42,42]}\n",
    "new_dt"
   ]
  },
  {
   "cell_type": "code",
   "execution_count": null,
   "id": "b4636b50",
   "metadata": {},
   "outputs": [],
   "source": [
    "#create df!\n"
   ]
  },
  {
   "cell_type": "markdown",
   "id": "76c5e6db",
   "metadata": {},
   "source": [
    "#### make it more complex"
   ]
  },
  {
   "cell_type": "code",
   "execution_count": null,
   "id": "88fcdab4",
   "metadata": {},
   "outputs": [],
   "source": [
    "#set random seed\n"
   ]
  },
  {
   "cell_type": "code",
   "execution_count": null,
   "id": "153ccb3b",
   "metadata": {},
   "outputs": [],
   "source": [
    "# Create list of values for names column\n",
    "students = ['Sally', 'Jane', 'Suzie', 'Billy', 'Ada', 'John', 'Thomas',\n",
    "            'Marie', 'Albert', 'Richard', 'Isaac', 'Alan']"
   ]
  },
  {
   "cell_type": "code",
   "execution_count": null,
   "id": "33525ff2",
   "metadata": {},
   "outputs": [],
   "source": [
    "# Randomly generate arrays of scores for each student for each subject.\n",
    "# Note that all the values need to have the same length here.\n",
    "math_grades = np.random.randint(low=60, high=100, size=len(students))\n",
    "\n",
    "english_grades = np.random.randint(low=60, high=100, size=len(students))\n",
    "\n",
    "reading_grades = np.random.randint(low=60, high=100, size=len(students))"
   ]
  },
  {
   "cell_type": "code",
   "execution_count": null,
   "id": "59b163ac",
   "metadata": {},
   "outputs": [],
   "source": [
    "# Randomly generate if a student is in classroom A or classroom B\n",
    "classroom = np.random.choice(['A', 'B'], len(students))"
   ]
  },
  {
   "cell_type": "code",
   "execution_count": null,
   "id": "a8aaea5a",
   "metadata": {},
   "outputs": [],
   "source": [
    "#combine all values into a dictionary\n"
   ]
  },
  {
   "cell_type": "code",
   "execution_count": null,
   "id": "af12d6bc",
   "metadata": {},
   "outputs": [],
   "source": [
    "#create df! \n"
   ]
  },
  {
   "cell_type": "markdown",
   "id": "d07e78bb",
   "metadata": {},
   "source": [
    "## From SQL"
   ]
  },
  {
   "cell_type": "markdown",
   "id": "d24d6296",
   "metadata": {},
   "source": [
    "We can connect to sql to create a dataframe!! yay!"
   ]
  },
  {
   "cell_type": "markdown",
   "id": "d6202436",
   "metadata": {},
   "source": [
    "### Process\n",
    "\n",
    "0. install driver (only need to do this one time on your computer)\n",
    "1. create a connection string with server credentials\n",
    "2. use connection string to connect to SQL via python and pull in results"
   ]
  },
  {
   "cell_type": "markdown",
   "id": "81966281",
   "metadata": {},
   "source": [
    "---"
   ]
  },
  {
   "cell_type": "markdown",
   "id": "429ec744",
   "metadata": {},
   "source": [
    "### 0. install driver (only need to do this one time on your computer)"
   ]
  },
  {
   "cell_type": "markdown",
   "id": "77e7951f",
   "metadata": {},
   "source": [
    "To do this we will use a driver to connect the database to our python code using pymysql driver packages"
   ]
  },
  {
   "cell_type": "markdown",
   "id": "9fd48e50",
   "metadata": {},
   "source": [
    "<div class=\"alert alert-block alert-info\">\n",
    "    Type this in the command line\n",
    "    \n",
    "    python -m pip install pymysql\n",
    "</div>"
   ]
  },
  {
   "cell_type": "markdown",
   "id": "9eef7d13",
   "metadata": {},
   "source": [
    "### 1. create a connection string with server credentials"
   ]
  },
  {
   "cell_type": "markdown",
   "id": "2e4f2e13",
   "metadata": {},
   "source": [
    "Now that this is installed, we will create a **CONNECTION STRING**"
   ]
  },
  {
   "cell_type": "markdown",
   "id": "107e8e6a",
   "metadata": {},
   "source": [
    "This is a what a **CONNECTION STRING** looks like: "
   ]
  },
  {
   "cell_type": "markdown",
   "id": "102ee04e",
   "metadata": {},
   "source": [
    "`[protocol]://[user]:[password]@[host]/[database_name]`"
   ]
  },
  {
   "cell_type": "markdown",
   "id": "b565ddb7",
   "metadata": {},
   "source": [
    "Example:"
   ]
  },
  {
   "cell_type": "markdown",
   "id": "8ed5a973",
   "metadata": {},
   "source": [
    "- protocol = 'mysql+pymysql'\n",
    "- user = 'codeup'\n",
    "- password = 'p@assw0rd'\n",
    "- host = '123.123.123.123'\n",
    "- database_name = 'some_db'"
   ]
  },
  {
   "cell_type": "code",
   "execution_count": null,
   "id": "bfeb9cac",
   "metadata": {},
   "outputs": [],
   "source": [
    "#example\n"
   ]
  },
  {
   "cell_type": "markdown",
   "id": "0950fa4b",
   "metadata": {},
   "source": [
    "- This **CONNECTION STRING** is unique to this example user\n",
    "- You will each make a unique **CONNECTION STRING** with your credentials"
   ]
  },
  {
   "cell_type": "markdown",
   "id": "5b1a6ec3",
   "metadata": {},
   "source": [
    "<div class=\"alert alert-block alert-warning\">\n",
    "    Do you see any issues with typing your username and password in your .py or .ipynb?\n",
    "</div>"
   ]
  },
  {
   "cell_type": "markdown",
   "id": "29f425e8",
   "metadata": {},
   "source": [
    "How to avoid this? "
   ]
  },
  {
   "cell_type": "markdown",
   "id": "c0f6020b",
   "metadata": {},
   "source": [
    "1. Create a separate file called `env.py`\n",
    "2. Enter in your credentials\n",
    "3. Ensure your `env.py` is in the same folder as your working file\n",
    "4. Import your `env.py`\n",
    "5. Create your connection string from imported variables"
   ]
  },
  {
   "cell_type": "markdown",
   "id": "1c31a1d6",
   "metadata": {},
   "source": [
    "#### SAMPLE ENV\n",
    "\n",
    "    host = '123.123.123'\n",
    "    user = 'bayes_1023'\n",
    "    password = 'tHl5!ls#r4N0oM'\n"
   ]
  },
  {
   "cell_type": "markdown",
   "id": "3a99ca11",
   "metadata": {},
   "source": [
    "<div class=\"alert alert-block alert-warning\">\n",
    "    Should you push your env.py file to github?\n",
    "</div>"
   ]
  },
  {
   "cell_type": "code",
   "execution_count": null,
   "id": "43442da1",
   "metadata": {},
   "outputs": [],
   "source": [
    "#get my credentials \n"
   ]
  },
  {
   "cell_type": "code",
   "execution_count": null,
   "id": "3df81afb",
   "metadata": {},
   "outputs": [],
   "source": [
    "#pull in the hostname\n"
   ]
  },
  {
   "cell_type": "code",
   "execution_count": null,
   "id": "b48d17ae",
   "metadata": {},
   "outputs": [],
   "source": [
    "#pull in the username\n"
   ]
  },
  {
   "cell_type": "code",
   "execution_count": null,
   "id": "91f7cdcb",
   "metadata": {},
   "outputs": [],
   "source": [
    "#pull in the password\n"
   ]
  },
  {
   "cell_type": "markdown",
   "id": "d6b65b9c",
   "metadata": {},
   "source": [
    "<div class=\"alert alert-block alert-warning\">\n",
    "    Should you leave your username and password printed out on your .ipynb?\n",
    "</div>"
   ]
  },
  {
   "cell_type": "markdown",
   "id": "82827aaa",
   "metadata": {},
   "source": [
    "lets create our **CONNECTION STRING** saved into a variable called url"
   ]
  },
  {
   "cell_type": "code",
   "execution_count": null,
   "id": "de458224",
   "metadata": {},
   "outputs": [],
   "source": [
    "#create connection string\n"
   ]
  },
  {
   "cell_type": "code",
   "execution_count": null,
   "id": "baf0dfa9",
   "metadata": {},
   "outputs": [],
   "source": [
    "# url "
   ]
  },
  {
   "cell_type": "markdown",
   "id": "96988f13",
   "metadata": {},
   "source": [
    "<div class=\"alert alert-block alert-warning\">\n",
    "    Should you print out on your connection string?\n",
    "</div>"
   ]
  },
  {
   "cell_type": "markdown",
   "id": "62eefde7",
   "metadata": {},
   "source": [
    "### 2. use connection string to connect to SQL via python"
   ]
  },
  {
   "cell_type": "markdown",
   "id": "304f89f0",
   "metadata": {},
   "source": [
    "Now that we have created our **CONNECTION STRING**, we can connect to SQL"
   ]
  },
  {
   "cell_type": "markdown",
   "id": "ed616657",
   "metadata": {},
   "source": [
    "#### Let's connect to the employees database and pull the first 5 rows"
   ]
  },
  {
   "cell_type": "markdown",
   "id": "5e2354cc",
   "metadata": {},
   "source": [
    "FORMAT: `pd.read_sql('literal sql syntax to pull query', connection_string)`"
   ]
  },
  {
   "cell_type": "code",
   "execution_count": null,
   "id": "4a696ada",
   "metadata": {},
   "outputs": [],
   "source": [
    "#url\n"
   ]
  },
  {
   "cell_type": "markdown",
   "id": "c604ae98",
   "metadata": {},
   "source": [
    "<div class=\"alert alert-block alert-warning\">\n",
    "    Do you notice any issues with my current connection string?\n",
    "</div>"
   ]
  },
  {
   "cell_type": "code",
   "execution_count": null,
   "id": "e9c74752",
   "metadata": {},
   "outputs": [],
   "source": [
    "#connect to sql and pull query into df\n"
   ]
  },
  {
   "cell_type": "markdown",
   "id": "a8b53004",
   "metadata": {},
   "source": [
    "#### I like my sql querys formatted with line breaks"
   ]
  },
  {
   "cell_type": "code",
   "execution_count": null,
   "id": "35da1c4a",
   "metadata": {},
   "outputs": [],
   "source": [
    "#write our query with three quotes opening and closing\n"
   ]
  },
  {
   "cell_type": "markdown",
   "id": "efc162e0",
   "metadata": {},
   "source": [
    "#### Let's make a bigger query:"
   ]
  },
  {
   "cell_type": "markdown",
   "id": "9f7f32c4",
   "metadata": {},
   "source": [
    "- I want a dataframe with emp_no, first_name, last_name, and dept_name\n",
    "- I want it only for women and their current department\n",
    "- Only pull back the first 10 employees"
   ]
  },
  {
   "cell_type": "code",
   "execution_count": null,
   "id": "3ff08a5c",
   "metadata": {},
   "outputs": [],
   "source": [
    "#query\n"
   ]
  },
  {
   "cell_type": "code",
   "execution_count": null,
   "id": "ef54c444",
   "metadata": {},
   "outputs": [],
   "source": [
    "#connect to sql and pull query into df\n"
   ]
  },
  {
   "cell_type": "code",
   "execution_count": null,
   "id": "ced2bc53",
   "metadata": {},
   "outputs": [],
   "source": []
  },
  {
   "cell_type": "markdown",
   "id": "c22217af",
   "metadata": {},
   "source": [
    "<div class=\"alert alert-block alert-info\">\n",
    "    <b>Important Recap Dos</b>\n",
    "\n",
    "I will put my credentials in an `env` file.\n",
    "    \n",
    "I will put `env.py` in my .gitignore.\n",
    " \n",
    "</div>"
   ]
  },
  {
   "cell_type": "markdown",
   "id": "ceea894f",
   "metadata": {},
   "source": [
    "<div class=\"alert alert-block alert-danger\">\n",
    "    <b>Important Recap Don'ts</b>\n",
    "\n",
    "I will not push my password to GitHub.\n",
    "\n",
    "I will not type my password in my code editor.     \n",
    "    \n",
    "I will not print out my password variable.\n",
    "    \n",
    "I will not print out my CONNECTION STRING which contains my password. \n",
    "    \n",
    "I will not push my `env` file to GitHub.\n",
    " \n",
    "</div>"
   ]
  },
  {
   "cell_type": "markdown",
   "id": "fdfdef64",
   "metadata": {},
   "source": [
    "Note: your personal username and password are saved in the google classroom under MySQL Server Credentials"
   ]
  }
 ],
 "metadata": {
  "kernelspec": {
   "display_name": "Python 3 (ipykernel)",
   "language": "python",
   "name": "python3"
  },
  "language_info": {
   "codemirror_mode": {
    "name": "ipython",
    "version": 3
   },
   "file_extension": ".py",
   "mimetype": "text/x-python",
   "name": "python",
   "nbconvert_exporter": "python",
   "pygments_lexer": "ipython3",
   "version": "3.9.12"
  }
 },
 "nbformat": 4,
 "nbformat_minor": 5
}
