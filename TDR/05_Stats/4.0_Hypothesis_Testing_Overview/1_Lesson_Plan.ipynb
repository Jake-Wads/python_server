{
 "cells": [
  {
   "cell_type": "markdown",
   "id": "0a23679a",
   "metadata": {},
   "source": [
    "# Lesson Plan: Hypothesis Testing Overview"
   ]
  },
  {
   "cell_type": "markdown",
   "id": "54aea691",
   "metadata": {},
   "source": [
    "<hr style=\"border:2px solid gray\">"
   ]
  },
  {
   "cell_type": "markdown",
   "id": "4dc33e6d",
   "metadata": {},
   "source": [
    "### 1. Lesson Objective"
   ]
  },
  {
   "cell_type": "markdown",
   "id": "bee17f37",
   "metadata": {},
   "source": [
    "<b>Statistical Overview Learning Objectives:</b>\n",
    "1. Students will be able to differentiate between null hypothesis and alternate hypothesis.\n",
    "2. Students will be able to differentiate between population, sample and observations.\n",
    "3. Students will be able to determine confidence intervals and significance levels.\n",
    "4. Students will gain an understanding of hypothesis testing errors."
   ]
  },
  {
   "cell_type": "markdown",
   "id": "95089a93",
   "metadata": {},
   "source": [
    "<hr style=\"border:1px solid black\">"
   ]
  },
  {
   "cell_type": "markdown",
   "id": "e61cd878",
   "metadata": {},
   "source": [
    "### 2. Pacing/timing of lectures/exercises"
   ]
  },
  {
   "cell_type": "markdown",
   "id": "9ae9169d",
   "metadata": {},
   "source": [
    "N/A"
   ]
  },
  {
   "cell_type": "markdown",
   "id": "ffcf3cee",
   "metadata": {},
   "source": [
    "<hr style=\"border:1px solid black\">"
   ]
  },
  {
   "cell_type": "markdown",
   "id": "899c52a2",
   "metadata": {},
   "source": [
    "### 3. Materials"
   ]
  },
  {
   "cell_type": "markdown",
   "id": "e63a4bd3",
   "metadata": {},
   "source": [
    "- Laptop\n",
    "- Codeup curriculum\n",
    "- Python (version 3 or greater)\n",
    "- Jupyter notebook"
   ]
  },
  {
   "cell_type": "markdown",
   "id": "738aee26",
   "metadata": {},
   "source": [
    "<hr style=\"border:1px solid black\">"
   ]
  },
  {
   "cell_type": "markdown",
   "id": "f11b3e54",
   "metadata": {},
   "source": [
    "### 4. Vocabulary"
   ]
  },
  {
   "cell_type": "markdown",
   "id": "b3f6dfb9",
   "metadata": {},
   "source": [
    "- <b>Population</b>: the entire group that you want to draw conclusions about. \n",
    "- <b>Sample</b>: the specific group that you will collect data from. The size of the sample is always less than the total size of the population\n",
    "- <b>Observation</b>: a fact or figure we collect about a given variable. A single instance.\n",
    "- <b>Confidence Interval</b>: a range of values within we are sure our statistic will fall a certain percent of the time, for our testing before we begin. Typical values for our confidence interval are 95%, 99% and 99.9%.\n",
    "- <b>Significance Level, α (alpha)</b>: is defined as 1 - our confidence level.\n",
    "- <b>Type I Error</b>: when we reject the null hypothesis, but, in reality, the null hypothesis is true.\n",
    "- <b>Type II Error</b>: when we fail to reject the null hypothesis when it is actually false."
   ]
  },
  {
   "cell_type": "markdown",
   "id": "b4efbe58",
   "metadata": {},
   "source": [
    "| Term                                   |  Formula/Symbol     | Description                                        |\n",
    "|:---------------------------------------|:--------------------|:---------------------------------------------------|\n",
    "|Null Hypothesis                         |  $H_{0}$            | The \"default\" hypothesis; usually no change, no effect, etc |\n",
    "|                                        |                     |                                                    |\n",
    "|Alternative Hypothesis                  |  $H_{1}$ or $H_{a}$ |                                                    |\n",
    "|                                        |                     |                                                    |\n",
    "|Significance Level/ False Positive Rate |  $α$                | P(FP) = P(Type I Error)                            |\n",
    "|                                        |                     |                                                    |\n",
    "|Statistical Power                       |  $1-β$              | P(Reject $H_{0}$ when $H_{0}$ is false)            |\n",
    "|                                        |                     |                                                    |\n",
    "|False Negative Rate                     |  $β$                | P(FN) = P(Type II Error)                           |\n",
    "|                                        |                     |                                                    |\n",
    "|p-value                                 |  $p$                | P(We observe this result due to chance / $H_{0}$ is true)   |\n",
    "|                                        |                     |                                                    |"
   ]
  },
  {
   "cell_type": "markdown",
   "id": "ab5deba4",
   "metadata": {},
   "source": [
    "|                   |  $H_{0}$ is true                | $H_{0}$ is false                  |\n",
    "|:------------------|:--------------------------------|:----------------------------------|\n",
    "|                   |                                 |                                   | \n",
    "| Accept $H_{0}$    |  True Negative                  |  False Negative (Type II Error)   |\n",
    "|                   |                                 |                                   |\n",
    "| Reject $H_{0}$    |  False Positive (Type I Error)  |  True Positive                    |\n",
    "|                   |                                 |                                   |"
   ]
  },
  {
   "cell_type": "markdown",
   "id": "418e19c4",
   "metadata": {},
   "source": [
    "<hr style=\"border:1px solid black\">"
   ]
  },
  {
   "cell_type": "markdown",
   "id": "f514ef37",
   "metadata": {},
   "source": [
    "### 5. Assessments (what are they)"
   ]
  },
  {
   "cell_type": "markdown",
   "id": "3b1bbd1c",
   "metadata": {},
   "source": [
    "N/A"
   ]
  },
  {
   "cell_type": "markdown",
   "id": "4b76ab73",
   "metadata": {},
   "source": [
    "<hr style=\"border:1px solid black\">"
   ]
  },
  {
   "cell_type": "markdown",
   "id": "ec6be5ac",
   "metadata": {},
   "source": [
    "### 6. Table of Contents"
   ]
  },
  {
   "cell_type": "markdown",
   "id": "f3e95689",
   "metadata": {},
   "source": [
    "- Sample vs. Population\n",
    "- Null and Alternate Hypothesis\n",
    "- Hypothesis Test Results\n",
    "    - p-values\n",
    "- Hypothesis Testing Errors\n",
    "- In Practice\n",
    "- Exercises"
   ]
  },
  {
   "cell_type": "code",
   "execution_count": null,
   "id": "f9ca77b3",
   "metadata": {},
   "outputs": [],
   "source": []
  }
 ],
 "metadata": {
  "kernelspec": {
   "display_name": "Python 3 (ipykernel)",
   "language": "python",
   "name": "python3"
  },
  "language_info": {
   "codemirror_mode": {
    "name": "ipython",
    "version": 3
   },
   "file_extension": ".py",
   "mimetype": "text/x-python",
   "name": "python",
   "nbconvert_exporter": "python",
   "pygments_lexer": "ipython3",
   "version": "3.9.13"
  }
 },
 "nbformat": 4,
 "nbformat_minor": 5
}
