{
 "cells": [
  {
   "cell_type": "markdown",
   "id": "03ab820a",
   "metadata": {},
   "source": [
    "# Probability Distribution"
   ]
  },
  {
   "cell_type": "markdown",
   "id": "a950d121",
   "metadata": {},
   "source": [
    "“Probability theory is nothing more than common sense reduced to calculation. -1819”\n",
    "― Pierre Simon Laplace"
   ]
  },
  {
   "cell_type": "code",
   "execution_count": null,
   "id": "3f1bedbe",
   "metadata": {},
   "outputs": [],
   "source": [
    "import matplotlib.pyplot as plt\n",
    "import numpy as np\n",
    "import pandas as pd\n",
    "from scipy import stats"
   ]
  },
  {
   "cell_type": "markdown",
   "id": "ab01da13",
   "metadata": {},
   "source": [
    "### Lesson Objectives:\n",
    "- Understand and recognize these distributions\n",
    "- Understand parameters we need to generate these distribution\n",
    "- Given a distribution, calculate probabilities for certain value of the random variable"
   ]
  },
  {
   "cell_type": "markdown",
   "id": "b8d4f800",
   "metadata": {},
   "source": [
    "<hr style=\"border:2px solid gray\">"
   ]
  },
  {
   "cell_type": "markdown",
   "id": "a9d7c24f",
   "metadata": {},
   "source": [
    "### Probabiity Distributions: Mathematical functions that we can use to model real-world processes"
   ]
  },
  {
   "cell_type": "markdown",
   "id": "f7c845ba",
   "metadata": {},
   "source": [
    "- Random Variable: The unknown\n",
    "- A probability distribution is a list of all of the possible outcomes of a random variable along with their corresponding probability values.\n",
    "    - Defines the probability of every outcome in the sample space (in our experiment)\n",
    "    - Sample space: it is set of all outcomes. For dice, we have 6 outcomes.\n",
    "    - Sum of all probabilties in your sample space = 1 (Seems trivial, but incredibly powerful)"
   ]
  },
  {
   "cell_type": "markdown",
   "id": "b47f8e03",
   "metadata": {},
   "source": [
    "<b>Discrete Distribution Examples</b>:\n",
    "\n",
    "- Number of customer complaints\n",
    "- Number of calls received in a call-center per hour\n",
    "- Number of food trucks at Travis Park in a day"
   ]
  },
  {
   "cell_type": "markdown",
   "id": "2fe9fb48",
   "metadata": {},
   "source": [
    "<b>Continuous Distribution Examples</b>:\n",
    "\n",
    "- Height\n",
    "- Temperature\n",
    "- Employee salaries"
   ]
  },
  {
   "cell_type": "markdown",
   "id": "ced417ad",
   "metadata": {},
   "source": [
    "<hr style=\"border:2px solid black\">"
   ]
  },
  {
   "cell_type": "markdown",
   "id": "3598c086",
   "metadata": {},
   "source": [
    "## Types of Distributions:\n",
    "1. Uniform distribution\n",
    "2. Normal distribution\n",
    "3. Binomial distribution\n",
    "4. Poisson distrbution"
   ]
  },
  {
   "cell_type": "markdown",
   "id": "ef2c9870",
   "metadata": {},
   "source": [
    "#### scipy distribution object: What can we calculate from distribution?\n",
    "- value -> probability\n",
    "    - pmf: probability at a particular value of random variable (only for discrete distributions!)\n",
    "    - pdf: probability at a particular value of random variable (for continuous distributions)\n",
    "    - cdf: cumulative probablity for less than or equal to value of random variable\n",
    "    - sf: probability for a random variable greater than certain value\n",
    "- probability -> value\n",
    "    - ppf: less than or equal to a point\n",
    "    - isf: greater than a point\n",
    "- rvs for random values"
   ]
  },
  {
   "cell_type": "markdown",
   "id": "4ff8d10d",
   "metadata": {},
   "source": [
    "<hr style=\"border:1.5px solid gray\">"
   ]
  },
  {
   "cell_type": "markdown",
   "id": "19850cd2",
   "metadata": {},
   "source": [
    "### 1. Uniform Distribution\n",
    "- Examples:\n",
    "    - rolling a dice\n",
    "    - flipping a coin\n",
    "    - lucky draw\n"
   ]
  },
  {
   "cell_type": "markdown",
   "id": "90947c8a",
   "metadata": {},
   "source": [
    "#### Working in Scipy stats module"
   ]
  },
  {
   "cell_type": "code",
   "execution_count": null,
   "id": "3e0c61ed",
   "metadata": {},
   "outputs": [],
   "source": [
    "# create a scipy object for underlying distribution\n",
    "\n",
    "# die roll is being assigned the stats object tht will pick a random\n",
    "# interger between 1 and 6\n",
    "die_roll = stats.randint(1,7)"
   ]
  },
  {
   "cell_type": "code",
   "execution_count": null,
   "id": "a66cad76",
   "metadata": {},
   "outputs": [],
   "source": [
    "# die_roll is just a stats object\n",
    "die_roll"
   ]
  },
  {
   "cell_type": "code",
   "execution_count": null,
   "id": "bc5ae567",
   "metadata": {},
   "outputs": [],
   "source": [
    "# if we want to run simulations, we can utilize rvs for random values\n",
    "# random values will be called with a single\n",
    "# a single positional argument of 10 will represent ten die rolls\n",
    "die_roll.rvs(10)"
   ]
  },
  {
   "cell_type": "code",
   "execution_count": null,
   "id": "166c837f",
   "metadata": {},
   "outputs": [],
   "source": [
    " 1/6 + 1/6 + 1/6 + 1/6 + 1/6 + 1/6 == 1"
   ]
  },
  {
   "cell_type": "code",
   "execution_count": null,
   "id": "3e29a53e",
   "metadata": {},
   "outputs": [],
   "source": [
    "1/6"
   ]
  },
  {
   "cell_type": "code",
   "execution_count": null,
   "id": "7102befd",
   "metadata": {},
   "outputs": [],
   "source": [
    "# the actual object\n",
    "die_roll"
   ]
  },
  {
   "cell_type": "code",
   "execution_count": null,
   "id": "0c1427e2",
   "metadata": {},
   "outputs": [],
   "source": [
    "# roll random values 10,000 times, see how often it hits 3\n",
    "(die_roll.rvs(10_000) == 3).mean()"
   ]
  },
  {
   "cell_type": "code",
   "execution_count": null,
   "id": "915cd483",
   "metadata": {},
   "outputs": [],
   "source": [
    "# What is probability of rolling 3?\n",
    "# theoretically: pmf\n",
    "# I want to get the probability for:\n",
    "# the specific roll value of 3\n",
    "# i know this is a discrete distribution,\n",
    "# because i can only get the values 1, 2, 3, 4, 5 or 6\n",
    "die_roll.pmf(3)"
   ]
  },
  {
   "cell_type": "code",
   "execution_count": null,
   "id": "c27b7cac",
   "metadata": {},
   "outputs": [],
   "source": [
    "# let's introduce directionality\n",
    "# What is probability of rolling 3 or less?\n",
    "die_roll.cdf(3)"
   ]
  },
  {
   "cell_type": "code",
   "execution_count": null,
   "id": "d09b9801",
   "metadata": {},
   "outputs": [],
   "source": [
    "(die_roll.rvs(10_000_000) < 4).mean()"
   ]
  },
  {
   "cell_type": "code",
   "execution_count": null,
   "id": "f7f68932",
   "metadata": {},
   "outputs": [],
   "source": [
    "# ppf: just inverse of cdf. \n",
    "# Given a probability calculate value of \n",
    "# random variable\n",
    "\n",
    "# what value or lower can I get in the lower 50%\n",
    "die_roll.ppf(.5)"
   ]
  },
  {
   "cell_type": "code",
   "execution_count": null,
   "id": "53152820",
   "metadata": {},
   "outputs": [],
   "source": [
    "# What is the likelihood we \n",
    "# roll a value higher than 4?\n",
    "\n",
    "#  we're testing for prob of getting higher ======>  (this means survival function!!)\n",
    "die_roll.sf(4)"
   ]
  },
  {
   "cell_type": "code",
   "execution_count": null,
   "id": "70690689",
   "metadata": {},
   "outputs": [],
   "source": [
    "# What is the likelihood we \n",
    "# roll a value 4 or greater?\n",
    "\n",
    "#  we're testing for prob of getting higher ======>  (this means survival function!!)\n",
    "die_roll.sf(3)"
   ]
  },
  {
   "cell_type": "code",
   "execution_count": null,
   "id": "b1d604e2",
   "metadata": {},
   "outputs": [],
   "source": [
    "1/6 + 1/6"
   ]
  },
  {
   "cell_type": "code",
   "execution_count": null,
   "id": "6680ed03",
   "metadata": {},
   "outputs": [],
   "source": [
    "# There is a 1/3 chance a dice \n",
    "# roll will be higher than what value\n",
    "# greater than direction ==>, survival oriented\n",
    "# but we have a prob instead and want a value\n",
    "# inverse survival function to the rescue!\n",
    "die_roll.isf(.333333333333333333333334)"
   ]
  },
  {
   "cell_type": "markdown",
   "id": "9579cb24",
   "metadata": {},
   "source": [
    "<hr style=\"border:.5px solid black\">"
   ]
  },
  {
   "cell_type": "markdown",
   "id": "0acd9cbd",
   "metadata": {},
   "source": [
    "### 2. Normal Distribution\n",
    "- Bell shaped\n",
    "- Most observations are closer to the mean\n",
    "- Common in nature \n",
    "- 2 parameters\n",
    "    - mean (μ)\n",
    "    - std dev (σ)\n",
    "- Examples\n",
    "    - Height\n",
    "    - time a flight takes from point A to B\n",
    "    - manufacturing"
   ]
  },
  {
   "cell_type": "markdown",
   "id": "a30cec0f",
   "metadata": {},
   "source": [
    "Suppose that a store's daily sales are normally distributed with a mean of 12,000 dollars and standard deviation of 2000 dollars.\n",
    "- What is the probability that sales are 10,000 dollars on a certain day.\n",
    "- What is the probability that sales are 10,000 dollars or less on a certain day.\n",
    "- What is the probability that sales are greater than 15,000 dollars on a certain day.\n",
    "- How much would the daily sales have to be to be in the top 10% of all days?"
   ]
  },
  {
   "cell_type": "code",
   "execution_count": null,
   "id": "bfad6976",
   "metadata": {},
   "outputs": [],
   "source": []
  },
  {
   "cell_type": "code",
   "execution_count": null,
   "id": "ab5ebe73",
   "metadata": {},
   "outputs": [],
   "source": []
  },
  {
   "cell_type": "code",
   "execution_count": null,
   "id": "28208215",
   "metadata": {},
   "outputs": [],
   "source": []
  },
  {
   "cell_type": "code",
   "execution_count": null,
   "id": "e31a448c",
   "metadata": {},
   "outputs": [],
   "source": []
  },
  {
   "cell_type": "code",
   "execution_count": null,
   "id": "373eff8c",
   "metadata": {},
   "outputs": [],
   "source": []
  },
  {
   "cell_type": "markdown",
   "id": "7cfe1fbc",
   "metadata": {},
   "source": [
    "<hr style=\"border:.5px solid black\">"
   ]
  },
  {
   "cell_type": "markdown",
   "id": "f270898c",
   "metadata": {},
   "source": [
    "### 3. Binomial Distribution"
   ]
  },
  {
   "cell_type": "markdown",
   "id": "6a8c0e10",
   "metadata": {},
   "source": []
  },
  {
   "cell_type": "markdown",
   "id": "f5db505e",
   "metadata": {},
   "source": [
    "<hr style=\"border:.5px solid black\">"
   ]
  },
  {
   "cell_type": "markdown",
   "id": "34750356",
   "metadata": {},
   "source": [
    "### 4. Poisson Distribution"
   ]
  },
  {
   "cell_type": "code",
   "execution_count": null,
   "id": "b819e70b",
   "metadata": {},
   "outputs": [],
   "source": []
  },
  {
   "cell_type": "code",
   "execution_count": null,
   "id": "a1d6735e",
   "metadata": {},
   "outputs": [],
   "source": []
  },
  {
   "cell_type": "markdown",
   "id": "4a5bb2bc",
   "metadata": {},
   "source": [
    "<hr style=\"border:1.5px solid black\">"
   ]
  },
  {
   "cell_type": "markdown",
   "id": "198f5165",
   "metadata": {},
   "source": [
    "#### Helpful Links:\n",
    "[Probability distributions](https://en.wikipedia.org/wiki/List_of_probability_distributions) \n",
    "<br>\n",
    "[More Probability distributions](https://www.kdnuggets.com/2020/02/probability-distributions-data-science.html)"
   ]
  },
  {
   "cell_type": "code",
   "execution_count": null,
   "id": "28a5eff2",
   "metadata": {},
   "outputs": [],
   "source": []
  }
 ],
 "metadata": {
  "kernelspec": {
   "display_name": "Python 3 (ipykernel)",
   "language": "python",
   "name": "python3"
  },
  "language_info": {
   "codemirror_mode": {
    "name": "ipython",
    "version": 3
   },
   "file_extension": ".py",
   "mimetype": "text/x-python",
   "name": "python",
   "nbconvert_exporter": "python",
   "pygments_lexer": "ipython3",
   "version": "3.9.13"
  }
 },
 "nbformat": 4,
 "nbformat_minor": 5
}
