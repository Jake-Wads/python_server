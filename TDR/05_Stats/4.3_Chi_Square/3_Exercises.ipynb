{
 "cells": [
  {
   "cell_type": "markdown",
   "id": "8f76468f",
   "metadata": {},
   "source": [
    "# Chi Squared Exercises"
   ]
  },
  {
   "cell_type": "code",
   "execution_count": null,
   "id": "38dbd149",
   "metadata": {},
   "outputs": [],
   "source": []
  }
 ],
 "metadata": {
  "kernelspec": {
   "display_name": "Python 3 (ipykernel)",
   "language": "python",
   "name": "python3"
  },
  "language_info": {
   "codemirror_mode": {
    "name": "ipython",
    "version": 3
   },
   "file_extension": ".py",
   "mimetype": "text/x-python",
   "name": "python",
   "nbconvert_exporter": "python",
   "pygments_lexer": "ipython3",
   "version": "3.9.13"
  }
 },
 "nbformat": 4,
 "nbformat_minor": 5
}
