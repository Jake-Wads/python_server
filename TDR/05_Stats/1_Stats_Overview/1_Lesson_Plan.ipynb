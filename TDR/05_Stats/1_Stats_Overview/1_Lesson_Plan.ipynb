{
 "cells": [
  {
   "cell_type": "markdown",
   "id": "0a23679a",
   "metadata": {},
   "source": [
    "# Lesson Plan: Statistics Overview"
   ]
  },
  {
   "cell_type": "markdown",
   "id": "54aea691",
   "metadata": {},
   "source": [
    "<hr style=\"border:2px solid gray\">"
   ]
  },
  {
   "cell_type": "markdown",
   "id": "4dc33e6d",
   "metadata": {},
   "source": [
    "### 1. Lesson Objective"
   ]
  },
  {
   "cell_type": "markdown",
   "id": "bee17f37",
   "metadata": {},
   "source": [
    "<b>Statistics Overview Learning Objectives:</b>\n",
    "1. Students will be able to build on top of the statistics knowledge from the khan academy prework\n",
    "2. Students will understand how to use the uniform, binomial, poisson, and normal distributions to model real-world scenarios\n",
    "3. Students will understand how hypothesis testing is performed\n",
    "4. Students will know when to use a t-test, correlation test, and chi squared test\n",
    "5. Write python code that simulates experiments in order to calculate an experimental probability\n",
    "6. Students will be able to use various statistical distributions in python through ```scipy.stats```\n",
    "7. Students will be able to perform hypothesis testing using python code"
   ]
  },
  {
   "cell_type": "markdown",
   "id": "95089a93",
   "metadata": {},
   "source": [
    "<hr style=\"border:1px solid black\">"
   ]
  },
  {
   "cell_type": "markdown",
   "id": "e61cd878",
   "metadata": {},
   "source": [
    "### 2. Pacing/timing of lectures/exercises"
   ]
  },
  {
   "cell_type": "markdown",
   "id": "9ae9169d",
   "metadata": {},
   "source": [
    "N/A"
   ]
  },
  {
   "cell_type": "markdown",
   "id": "ffcf3cee",
   "metadata": {},
   "source": [
    "<hr style=\"border:1px solid black\">"
   ]
  },
  {
   "cell_type": "markdown",
   "id": "899c52a2",
   "metadata": {},
   "source": [
    "### 3. Materials"
   ]
  },
  {
   "cell_type": "markdown",
   "id": "e63a4bd3",
   "metadata": {},
   "source": [
    "- Laptop\n",
    "- Codeup Curriculum\n",
    "- Python (version 3 or newer)\n",
    "- jupyter notebook"
   ]
  },
  {
   "cell_type": "markdown",
   "id": "738aee26",
   "metadata": {},
   "source": [
    "<hr style=\"border:1px solid black\">"
   ]
  },
  {
   "cell_type": "markdown",
   "id": "f11b3e54",
   "metadata": {},
   "source": [
    "### 4. Vocabulary"
   ]
  },
  {
   "cell_type": "markdown",
   "id": "b4efbe58",
   "metadata": {},
   "source": [
    "- <b>mean</b>: the average value\n",
    "\n",
    "- <b>expected value</b>: similar to the average, except that each value is weighted by its probability\n",
    "\n",
    "- <b>median</b>: The center, or middle value. When there are an even number of data points, the average of the two middle points.\n",
    "\n",
    "- <b>mode</b>: the most frequently occuring value\n",
    "\n",
    "- <b>bi-modal</b>: when two values tie for the mode\n",
    "\n",
    "- <b>trimmed mean</b>: The average after removing a certain percentage of outliers.\n",
    "\n",
    "- <b>Min</b>: smallest value\n",
    "\n",
    "- <b>Max</b>: largest value\n",
    "\n",
    "- <b>Range</b>: The difference between the max and the min\n",
    "\n",
    "- <b>Mean Absolute Deviation</b>: The average of deviations from a central point, usually the mean. \n",
    "\n",
    "- <b>Quantile</b>: The cut points that divide a probability distribution into equally sized continuous intervals. To divide our distribution into n equally sized intervals, there are n-1 quantiles.\n",
    "\n",
    "- <b>Quartile</b>: The cut points on a distrubtion to subdivide it into 4 equally sized intervals are called the quartiles. \n",
    "\n",
    "- <b>Percentile</b>: A quantile cut into 100 equally sized intervals\n",
    "\n",
    "- <b>IQR</b>: The Interquartile Range, Q3-Q1 (75th percentile - 25th percentile)\n",
    "\n",
    "- <b>Variance</b>: The average squared distance between each point and the mean\n",
    "\n",
    "- <b>Standard Deviation</b>: The square root of the variance\n",
    "\n",
    "\n",
    "<b>Skew</b>\n",
    "\n",
    "- Symmetric\n",
    "- <b>Left-skewed</b>: A set of data values in which the mean is generally less than the median. The left tail of the distribution is longer than the right tail of the distribution.\n",
    "- <b>Right-skewed</b>: A set of data values in which the mean is generally greater than the median. The right tail of the distribution is longer than the left tail of the distribution."
   ]
  },
  {
   "cell_type": "markdown",
   "id": "418e19c4",
   "metadata": {},
   "source": [
    "<hr style=\"border:1px solid black\">"
   ]
  },
  {
   "cell_type": "markdown",
   "id": "f514ef37",
   "metadata": {},
   "source": [
    "### 5. Assessments (what are they)"
   ]
  },
  {
   "cell_type": "markdown",
   "id": "3b1bbd1c",
   "metadata": {},
   "source": [
    "N/A"
   ]
  },
  {
   "cell_type": "markdown",
   "id": "4b76ab73",
   "metadata": {},
   "source": [
    "<hr style=\"border:1px solid black\">"
   ]
  },
  {
   "cell_type": "markdown",
   "id": "ec6be5ac",
   "metadata": {},
   "source": [
    "### 6. Table of Contents"
   ]
  },
  {
   "cell_type": "markdown",
   "id": "f3e95689",
   "metadata": {},
   "source": [
    "- Goals\n",
    "- A Note on Visualizations, the viz module\n",
    "- Descriptive Statistics\n",
    "    - Measures of Central Tendency\n",
    "    - Measures of Spread"
   ]
  },
  {
   "cell_type": "code",
   "execution_count": null,
   "id": "557d78e6",
   "metadata": {},
   "outputs": [],
   "source": []
  }
 ],
 "metadata": {
  "kernelspec": {
   "display_name": "Python 3 (ipykernel)",
   "language": "python",
   "name": "python3"
  },
  "language_info": {
   "codemirror_mode": {
    "name": "ipython",
    "version": 3
   },
   "file_extension": ".py",
   "mimetype": "text/x-python",
   "name": "python",
   "nbconvert_exporter": "python",
   "pygments_lexer": "ipython3",
   "version": "3.9.13"
  }
 },
 "nbformat": 4,
 "nbformat_minor": 5
}
