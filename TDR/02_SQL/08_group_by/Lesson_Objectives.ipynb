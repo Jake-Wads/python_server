{
 "cells": [
  {
   "cell_type": "markdown",
   "id": "peripheral-disclaimer",
   "metadata": {},
   "source": [
    "### *Group By*\n",
    "\n",
    "1. Students will write queries that return only unique instances in a given column using\n",
    "- DISTINCT\n",
    "- GROUP BY\n",
    "\n",
    "2. Students will write queries that produce data aggregations by subgroup using\n",
    "- GROUP BY\n",
    "- MIN()\n",
    "- MAX()\n",
    "- AVG()\n",
    "- SUM()\n",
    "- COUNT()\n",
    "- STDDEV()\n",
    "- VARIANCE()\n",
    "\n",
    "3. Students will write queries that filter grouped data using \n",
    "- HAVING"
   ]
  }
 ],
 "metadata": {
  "kernelspec": {
   "display_name": "Python 3",
   "language": "python",
   "name": "python3"
  },
  "language_info": {
   "codemirror_mode": {
    "name": "ipython",
    "version": 3
   },
   "file_extension": ".py",
   "mimetype": "text/x-python",
   "name": "python",
   "nbconvert_exporter": "python",
   "pygments_lexer": "ipython3",
   "version": "3.7.4"
  }
 },
 "nbformat": 4,
 "nbformat_minor": 5
}
