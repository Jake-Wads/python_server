{
 "cells": [
  {
   "cell_type": "markdown",
   "id": "wicked-donor",
   "metadata": {},
   "source": [
    "### *Introduction*\n",
    "\n",
    "1. Students will gain a basic understanding of Relational Database Management Systems (RDMS) including the following vocabulary\n",
    "- Relational Database Management Systems (RDBMS)\n",
    "- Database\n",
    "- Schema\n",
    "- Database Client\n",
    "- Database Server\n",
    "- Data Definition Language (DDL)\n",
    "- Data manipulation language (DML)\n",
    "- Structured Query Language (SQL)\n",
    "- Query\n",
    "\n",
    "2. Students will connect to a MySQL server through:\n",
    "- Terminal\n",
    "- Sequel Ace\n",
    "- Other GUI clients"
   ]
  }
 ],
 "metadata": {
  "kernelspec": {
   "display_name": "Python 3",
   "language": "python",
   "name": "python3"
  },
  "language_info": {
   "codemirror_mode": {
    "name": "ipython",
    "version": 3
   },
   "file_extension": ".py",
   "mimetype": "text/x-python",
   "name": "python",
   "nbconvert_exporter": "python",
   "pygments_lexer": "ipython3",
   "version": "3.7.4"
  }
 },
 "nbformat": 4,
 "nbformat_minor": 5
}
