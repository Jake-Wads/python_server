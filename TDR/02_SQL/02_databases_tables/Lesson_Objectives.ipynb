{
 "cells": [
  {
   "cell_type": "markdown",
   "id": "joined-terror",
   "metadata": {},
   "source": [
    "### *Databases and Tables*\n",
    "\n",
    "1. Students will navigate MySQL’s organizational structure while writing queries to gather specified data\n",
    "- Students will know what a database is and interact with them using the following commands\n",
    "    - SHOW DATABASES to show databases\n",
    "    - USE to select the database they want to use\n",
    "    - SELECT database() to check currently selected database\n",
    "    - SHOW CREATE DATABASE to display the query that created the database\n",
    "- Students will know what a table is and interact with them using the following commands\n",
    "    - FROM\n",
    "    - SHOW TABLES to show all the tables in the currently selected database\n",
    "    - Database_name.table_name to reference a table from a database that is different from the currently selected database \n",
    "\n",
    "2. Students will know that columns in a table contain data of a designated type and apply this knowledge to writing SQL queries. The types of data include\n",
    "    - NumericTypes\n",
    "- INT\n",
    "- FLOAT\n",
    "- DECIMAL\n",
    "- Unsigned\n",
    "- Boolean\n",
    "    - String Types\n",
    "- CHAR\n",
    "- VARCHAR\n",
    "- TEXT\n",
    "    - Date Types\n",
    "- DATE\n",
    "- TIME\n",
    "- DATETIME\n",
    "- NULL\n",
    "\n",
    "3. Students will understand how to create tables using\n",
    "- CREATE TABLE\n",
    "\n",
    "4. Students will define and identify Primary Keys\n",
    "- A column in a table with\n",
    "- All unique values\n",
    "- No Null values\n",
    "- There can only be one in a table\n",
    "\n",
    "5. Students will understand that you can use backticks to add reserved words and spaces as database and table names. However there is good reason not to, and it is rarely worth the trouble."
   ]
  }
 ],
 "metadata": {
  "kernelspec": {
   "display_name": "Python 3",
   "language": "python",
   "name": "python3"
  },
  "language_info": {
   "codemirror_mode": {
    "name": "ipython",
    "version": 3
   },
   "file_extension": ".py",
   "mimetype": "text/x-python",
   "name": "python",
   "nbconvert_exporter": "python",
   "pygments_lexer": "ipython3",
   "version": "3.7.4"
  }
 },
 "nbformat": 4,
 "nbformat_minor": 5
}
