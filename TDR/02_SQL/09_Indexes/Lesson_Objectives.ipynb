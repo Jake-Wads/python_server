{
 "cells": [
  {
   "cell_type": "markdown",
   "id": "protecting-toyota",
   "metadata": {},
   "source": [
    "### *Indexes*\n",
    "\n",
    "1. Students will understand the following about Indices and what they are used for\n",
    "- Added to almost every table\n",
    "- Reduces the computational cost of using the table\n",
    "- Provides a unique identifier for each row\n",
    "- Can be added to a Table as a primary key\n",
    "\n",
    "2. Students will understand how to add primary keys when creating tables including \n",
    "- Using PRIMARY KEY when making a table from scratch\n",
    "- Using AUTO_INCRAMENT to account for varying numbers of rows\n",
    "- Using ALTER TABLE and ADD UNIQUE to add a primary key to an existing table\n",
    "- Adding multiple-Column indices \n",
    "\n",
    "3. Students will understand that unique indices can be used as foreign keys to link tables that have matching values"
   ]
  }
 ],
 "metadata": {
  "kernelspec": {
   "display_name": "Python 3",
   "language": "python",
   "name": "python3"
  },
  "language_info": {
   "codemirror_mode": {
    "name": "ipython",
    "version": 3
   },
   "file_extension": ".py",
   "mimetype": "text/x-python",
   "name": "python",
   "nbconvert_exporter": "python",
   "pygments_lexer": "ipython3",
   "version": "3.7.4"
  }
 },
 "nbformat": 4,
 "nbformat_minor": 5
}
