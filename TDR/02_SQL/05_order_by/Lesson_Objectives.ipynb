{
 "cells": [
  {
   "cell_type": "markdown",
   "id": "unique-large",
   "metadata": {},
   "source": [
    "### *Order By*\n",
    "\n",
    "1. Students will write queries with ordered results using\n",
    "- ORDER BY\n",
    "- DESC\n",
    "- ASC"
   ]
  }
 ],
 "metadata": {
  "kernelspec": {
   "display_name": "Python 3",
   "language": "python",
   "name": "python3"
  },
  "language_info": {
   "codemirror_mode": {
    "name": "ipython",
    "version": 3
   },
   "file_extension": ".py",
   "mimetype": "text/x-python",
   "name": "python",
   "nbconvert_exporter": "python",
   "pygments_lexer": "ipython3",
   "version": "3.7.4"
  }
 },
 "nbformat": 4,
 "nbformat_minor": 5
}
