{
 "cells": [
  {
   "cell_type": "markdown",
   "id": "changing-softball",
   "metadata": {},
   "source": [
    "### *Subqueries* \n",
    "\n",
    "1. Students will know the advantages of using subqueries\n",
    "- Structured in a way that make it possible to isolate each part of a statement\n",
    "- Alternative to more complex joins\n",
    "    - Less complexity\n",
    "    - Easier to read\n",
    "\n",
    "\n",
    "2. Students will write queries that utilize subqueries to gather specified data.sThey will use the following types of subqueries\n",
    "- Scalar subqueries\n",
    "- Column subqueries\n",
    "- Row subqueries\n",
    "- Table subqueries"
   ]
  },
  {
   "cell_type": "code",
   "execution_count": null,
   "id": "stone-relationship",
   "metadata": {},
   "outputs": [],
   "source": [
    "|"
   ]
  }
 ],
 "metadata": {
  "kernelspec": {
   "display_name": "Python 3",
   "language": "python",
   "name": "python3"
  },
  "language_info": {
   "codemirror_mode": {
    "name": "ipython",
    "version": 3
   },
   "file_extension": ".py",
   "mimetype": "text/x-python",
   "name": "python",
   "nbconvert_exporter": "python",
   "pygments_lexer": "ipython3",
   "version": "3.7.4"
  }
 },
 "nbformat": 4,
 "nbformat_minor": 5
}
