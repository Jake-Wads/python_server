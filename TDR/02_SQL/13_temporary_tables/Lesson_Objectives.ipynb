{
 "cells": [
  {
   "cell_type": "markdown",
   "id": "sunset-spiritual",
   "metadata": {},
   "source": [
    "### *Temporary Tables*\n",
    "\n",
    "1. Students will write queries that create temporary tables from scratch and modify them using\n",
    "- CREATE TEMPORARY TABLE\n",
    "- INSERT INTO\n",
    "- UPDATE\n",
    "- DELETE FROM\n",
    "\n",
    "2. Students will write queries that generate temporary tables from the result of their query\n",
    "\n",
    "3. Students will make updates to temp tables using\n",
    "- ALTER TABLE\n",
    "- UPDATE\n",
    "- SET"
   ]
  }
 ],
 "metadata": {
  "kernelspec": {
   "display_name": "Python 3",
   "language": "python",
   "name": "python3"
  },
  "language_info": {
   "codemirror_mode": {
    "name": "ipython",
    "version": 3
   },
   "file_extension": ".py",
   "mimetype": "text/x-python",
   "name": "python",
   "nbconvert_exporter": "python",
   "pygments_lexer": "ipython3",
   "version": "3.7.4"
  }
 },
 "nbformat": 4,
 "nbformat_minor": 5
}
