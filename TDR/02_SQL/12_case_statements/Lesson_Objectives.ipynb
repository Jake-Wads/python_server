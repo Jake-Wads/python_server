{
 "cells": [
  {
   "cell_type": "markdown",
   "id": "broke-rachel",
   "metadata": {},
   "source": [
    "### *Case Statements*\n",
    "\n",
    "1. Students will write SQL queries that transform data based on a condition using\n",
    "- CASE\n",
    "- WHEN\n",
    "- ELSE\n",
    "- END AS\n",
    "- IF()"
   ]
  }
 ],
 "metadata": {
  "kernelspec": {
   "display_name": "Python 3",
   "language": "python",
   "name": "python3"
  },
  "language_info": {
   "codemirror_mode": {
    "name": "ipython",
    "version": 3
   },
   "file_extension": ".py",
   "mimetype": "text/x-python",
   "name": "python",
   "nbconvert_exporter": "python",
   "pygments_lexer": "ipython3",
   "version": "3.7.4"
  }
 },
 "nbformat": 4,
 "nbformat_minor": 5
}
