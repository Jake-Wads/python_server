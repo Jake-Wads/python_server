{
 "cells": [
  {
   "cell_type": "markdown",
   "id": "little-milton",
   "metadata": {},
   "source": [
    "### *WHERE Advanced*\n",
    "\n",
    "1. Students will write more complex queries using\n",
    "- AND\n",
    "- OR\n",
    "- BETWEEN\n",
    "- LIKE / NOT LIKE\n",
    "- IN\n",
    "- NULL / NOT NULL"
   ]
  }
 ],
 "metadata": {
  "kernelspec": {
   "display_name": "Python 3",
   "language": "python",
   "name": "python3"
  },
  "language_info": {
   "codemirror_mode": {
    "name": "ipython",
    "version": 3
   },
   "file_extension": ".py",
   "mimetype": "text/x-python",
   "name": "python",
   "nbconvert_exporter": "python",
   "pygments_lexer": "ipython3",
   "version": "3.7.4"
  }
 },
 "nbformat": 4,
 "nbformat_minor": 5
}
