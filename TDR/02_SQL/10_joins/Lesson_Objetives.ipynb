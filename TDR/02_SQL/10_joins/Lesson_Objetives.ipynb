{
 "cells": [
  {
   "cell_type": "markdown",
   "id": "concerned-concentration",
   "metadata": {},
   "source": [
    "### *Joins*\n",
    "1. Students will understand the effect that each type of join will have on their query results such as\n",
    "- Left\n",
    "- Right\n",
    "- Inner\n",
    "- Outer\n",
    "\n",
    "2. Students will learn identify row relationships types including\n",
    "- One to many\n",
    "- Many to many\n",
    "\n",
    "3. Students will write queries that join two or more tables using \n",
    "- JOIN\n",
    "- LEFT JOIN\n",
    "- RIGHT JOIN\n",
    "- INNER JOIN\n",
    "- OUTER JOIN\n",
    "- USING"
   ]
  }
 ],
 "metadata": {
  "kernelspec": {
   "display_name": "Python 3",
   "language": "python",
   "name": "python3"
  },
  "language_info": {
   "codemirror_mode": {
    "name": "ipython",
    "version": 3
   },
   "file_extension": ".py",
   "mimetype": "text/x-python",
   "name": "python",
   "nbconvert_exporter": "python",
   "pygments_lexer": "ipython3",
   "version": "3.7.4"
  }
 },
 "nbformat": 4,
 "nbformat_minor": 5
}
