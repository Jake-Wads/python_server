{
 "cells": [
  {
   "cell_type": "markdown",
   "id": "0a23679a",
   "metadata": {},
   "source": [
    "# Lesson: Time Series Overview"
   ]
  },
  {
   "cell_type": "markdown",
   "id": "54aea691",
   "metadata": {},
   "source": [
    "<hr style=\"border:2px solid gray\">"
   ]
  },
  {
   "cell_type": "markdown",
   "id": "17dbcbd4",
   "metadata": {},
   "source": [
    "There is not a notebook lesson for time series overview. \n",
    "\n",
    "Follow these steps: \n",
    "   - look over new vocabulary\n",
    "   - look over curriculum\n",
    "   - look over slide deck"
   ]
  },
  {
   "cell_type": "markdown",
   "id": "828c2fcc",
   "metadata": {},
   "source": [
    "### Vocabulary from lesson plan\n",
    "[Time Series Overview - Lesson Plan](https://github.com/gocodeup/data-science-curriculum/blob/master/TDR/10_Time_Series/1_Time_Series_Overview/1_Lesson_Plan.ipynb)"
   ]
  },
  {
   "cell_type": "markdown",
   "id": "ad58c5fc",
   "metadata": {},
   "source": [
    "### Curriculum\n",
    "[Time Series Overview - Curriculum](https://ds.codeup.com/timeseries/overview/)"
   ]
  },
  {
   "cell_type": "markdown",
   "id": "473829f7",
   "metadata": {},
   "source": [
    "### Slides\n",
    "[Time Series Overview by Maggie G](https://www.canva.com/design/DAFc0DoOBew/rxFzzlAAAmvu_JSbYJ7-WQ/view?utm_content=DAFc0DoOBew&utm_campaign=designshare&utm_medium=link2&utm_source=sharebutton)\n",
    "\n",
    "[Overview Slides by Amanda](https://www.canva.com/design/DAFj2wnSX84/Gibg04q38q_o5ryh-_a40g/edit)"
   ]
  },
  {
   "cell_type": "code",
   "execution_count": null,
   "id": "fe204e3f-8f2d-4b80-837e-6d4a7af49fc6",
   "metadata": {},
   "outputs": [],
   "source": []
  }
 ],
 "metadata": {
  "kernelspec": {
   "display_name": "Python 3 (ipykernel)",
   "language": "python",
   "name": "python3"
  },
  "language_info": {
   "codemirror_mode": {
    "name": "ipython",
    "version": 3
   },
   "file_extension": ".py",
   "mimetype": "text/x-python",
   "name": "python",
   "nbconvert_exporter": "python",
   "pygments_lexer": "ipython3",
   "version": "3.9.13"
  }
 },
 "nbformat": 4,
 "nbformat_minor": 5
}
