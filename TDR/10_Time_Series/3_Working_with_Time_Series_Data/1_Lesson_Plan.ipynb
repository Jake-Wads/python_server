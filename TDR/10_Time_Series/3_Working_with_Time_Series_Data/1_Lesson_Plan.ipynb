{
 "cells": [
  {
   "cell_type": "markdown",
   "id": "0a23679a",
   "metadata": {},
   "source": [
    "# Lesson Plan: Working with Time Series Data"
   ]
  },
  {
   "cell_type": "markdown",
   "id": "54aea691",
   "metadata": {},
   "source": [
    "<hr style=\"border:2px solid gray\">"
   ]
  },
  {
   "cell_type": "markdown",
   "id": "4dc33e6d",
   "metadata": {},
   "source": [
    "### 1. Lesson Objectives"
   ]
  },
  {
   "cell_type": "markdown",
   "id": "bee17f37",
   "metadata": {},
   "source": [
    "<b>Working with Time Series Data Learning Objectives:</b>\n",
    "1. \n",
    "2. "
   ]
  },
  {
   "cell_type": "markdown",
   "id": "95089a93",
   "metadata": {},
   "source": [
    "<hr style=\"border:1px solid black\">"
   ]
  },
  {
   "cell_type": "markdown",
   "id": "e61cd878",
   "metadata": {},
   "source": [
    "### 2. Pacing/timing of lectures/exercises"
   ]
  },
  {
   "cell_type": "markdown",
   "id": "9ae9169d",
   "metadata": {},
   "source": [
    "- Lecture: 1 hour, 35 minutes\n",
    "- Exercise Time: 2 hours, 30 minutes\n",
    "- Exercise Review: 35 minutes"
   ]
  },
  {
   "cell_type": "markdown",
   "id": "ffcf3cee",
   "metadata": {},
   "source": [
    "<hr style=\"border:1px solid black\">"
   ]
  },
  {
   "cell_type": "markdown",
   "id": "899c52a2",
   "metadata": {},
   "source": [
    "### 3. Materials"
   ]
  },
  {
   "cell_type": "markdown",
   "id": "e63a4bd3",
   "metadata": {},
   "source": [
    "- Laptop\n",
    "- Codeup Curriculum\n",
    "- Python (version 3 or newer)\n",
    "- Jupyter notebook"
   ]
  },
  {
   "cell_type": "markdown",
   "id": "738aee26",
   "metadata": {},
   "source": [
    "<hr style=\"border:1px solid black\">"
   ]
  },
  {
   "cell_type": "markdown",
   "id": "f11b3e54",
   "metadata": {},
   "source": [
    "### 4. Vocabulary"
   ]
  },
  {
   "cell_type": "markdown",
   "id": "b4efbe58",
   "metadata": {},
   "source": [
    "N/A"
   ]
  },
  {
   "cell_type": "markdown",
   "id": "418e19c4",
   "metadata": {},
   "source": [
    "<hr style=\"border:1px solid black\">"
   ]
  },
  {
   "cell_type": "markdown",
   "id": "f514ef37",
   "metadata": {},
   "source": [
    "### 5. Assessments (what are they)"
   ]
  },
  {
   "cell_type": "markdown",
   "id": "3b1bbd1c",
   "metadata": {},
   "source": [
    "None"
   ]
  },
  {
   "cell_type": "markdown",
   "id": "4b76ab73",
   "metadata": {},
   "source": [
    "<hr style=\"border:1px solid black\">"
   ]
  },
  {
   "cell_type": "markdown",
   "id": "ec6be5ac",
   "metadata": {},
   "source": [
    "### 6. Table of Contents"
   ]
  },
  {
   "cell_type": "markdown",
   "id": "f3e95689",
   "metadata": {},
   "source": [
    "- Converting to DateTime Type\n",
    "- Working with DateTime Series\n",
    "- DateTime Indexes\n",
    "    - Changing the Period\n",
    "    - Filling Missing Values\n",
    "    - Resampling\n",
    "- Plotting\n",
    "    - Rolling Windows\n",
    "    - Lagging and Lead\n",
    "- Strftime\n",
    "- Timezones\n",
    "- Timedeltas\n",
    "- Further Reading\n",
    "- Exercises\n",
    "    - Bonus"
   ]
  }
 ],
 "metadata": {
  "kernelspec": {
   "display_name": "Python 3 (ipykernel)",
   "language": "python",
   "name": "python3"
  },
  "language_info": {
   "codemirror_mode": {
    "name": "ipython",
    "version": 3
   },
   "file_extension": ".py",
   "mimetype": "text/x-python",
   "name": "python",
   "nbconvert_exporter": "python",
   "pygments_lexer": "ipython3",
   "version": "3.9.13"
  }
 },
 "nbformat": 4,
 "nbformat_minor": 5
}
