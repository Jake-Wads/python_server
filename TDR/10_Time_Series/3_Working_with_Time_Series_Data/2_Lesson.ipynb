{
 "cells": [
  {
   "cell_type": "markdown",
   "id": "7b18e2f9",
   "metadata": {},
   "source": [
    "# Lesson: Working with Time Series Data"
   ]
  },
  {
   "cell_type": "markdown",
   "id": "c9919f2c",
   "metadata": {},
   "source": [
    "<hr style=\"border:2px solid gray\">"
   ]
  },
  {
   "cell_type": "code",
   "execution_count": 3,
   "id": "7fff70c8",
   "metadata": {},
   "outputs": [],
   "source": [
    "#standard ds imports\n",
    "import pandas as pd\n",
    "import matplotlib.pyplot as plt\n",
    "\n",
    "#specify visuals\n",
    "plt.rcParams[\"figure.figsize\"] = (16,9)\n",
    "plt.rcParams[\"font.size\"] = 20\n",
    "\n",
    "#ignore warnings import\n",
    "import warnings\n",
    "warnings.filterwarnings('ignore')"
   ]
  },
  {
   "cell_type": "markdown",
   "id": "2b17893a",
   "metadata": {},
   "source": [
    "## Convertime to DateTime Type"
   ]
  },
  {
   "cell_type": "code",
   "execution_count": 1,
   "id": "7b6ebb51",
   "metadata": {},
   "outputs": [],
   "source": [
    "#assign variable date\n",
    "date = 'Jan 1 1970'"
   ]
  },
  {
   "cell_type": "code",
   "execution_count": 7,
   "id": "805cb9fe",
   "metadata": {},
   "outputs": [
    {
     "data": {
      "text/plain": [
       "str"
      ]
     },
     "execution_count": 7,
     "metadata": {},
     "output_type": "execute_result"
    }
   ],
   "source": [
    "#find out what kind of datatype 'date' is\n",
    "type(date)"
   ]
  },
  {
   "cell_type": "markdown",
   "id": "b87e1928",
   "metadata": {},
   "source": [
    "<div class=\"alert alert-block alert-info\">\n",
    "<b>Note:</b>\n",
    "<br>\n",
    "\n",
    "Pandas does <u>not</u> understand that the 'date' we put in is an actual date and not a <b>string</b>.\n",
    "\n",
    "<br>      \n",
    "How do we get pandas to understand this date and work with it??    \n",
    "<br>\n",
    "    \n",
    "We must convert our 'date' to a datetime using Pandas to_datetime\n",
    "</div>"
   ]
  },
  {
   "cell_type": "code",
   "execution_count": 4,
   "id": "15fe5fdb",
   "metadata": {},
   "outputs": [
    {
     "data": {
      "text/plain": [
       "Timestamp('1970-01-01 00:00:00')"
      ]
     },
     "execution_count": 4,
     "metadata": {},
     "output_type": "execute_result"
    }
   ],
   "source": [
    "#use pandas to_datetime to convert\n",
    "pd.to_datetime('Jan 1 1970')"
   ]
  },
  {
   "cell_type": "markdown",
   "id": "5bd836d1",
   "metadata": {},
   "source": [
    "<div class=\"alert alert-block alert-info\">\n",
    "<b>Note:</b>\n",
    "<br>\n",
    "Sometimes pandas isn't able to infer the format of our date so we need to tell pandas what format to use for our date"
   ]
  },
  {
   "cell_type": "code",
   "execution_count": 8,
   "id": "1f4627ca",
   "metadata": {},
   "outputs": [
    {
     "name": "stdout",
     "output_type": "stream",
     "text": [
      "ValueError Unknown string format: Jan:1:1970\n"
     ]
    }
   ],
   "source": [
    "try:\n",
    "    pd.to_datetime('Jan:1:1970')\n",
    "except ValueError as e:\n",
    "    print('ValueError', e)"
   ]
  },
  {
   "cell_type": "code",
   "execution_count": 9,
   "id": "2b74a1d0",
   "metadata": {},
   "outputs": [
    {
     "data": {
      "text/plain": [
       "Timestamp('1970-01-01 00:00:00')"
      ]
     },
     "execution_count": 9,
     "metadata": {},
     "output_type": "execute_result"
    }
   ],
   "source": [
    "#tell pandas the format we need for our date\n",
    "pd.to_datetime('Jan:1:1970', format='%b:%d:%Y')"
   ]
  },
  {
   "cell_type": "markdown",
   "id": "0036e91a",
   "metadata": {},
   "source": [
    "<b>There are all sorts of format codes and you can find them here</b>: \n",
    "[Pandas Datetime format](https://docs.python.org/3/library/datetime.html#strftime-and-strptime-behavior)"
   ]
  },
  {
   "cell_type": "markdown",
   "id": "d041135a",
   "metadata": {},
   "source": [
    "<hr style=\"border:2px solid black\">"
   ]
  },
  {
   "cell_type": "markdown",
   "id": "b9140801",
   "metadata": {},
   "source": [
    "## What about a whole column of dates?"
   ]
  },
  {
   "cell_type": "code",
   "execution_count": 10,
   "id": "f696a6ee",
   "metadata": {},
   "outputs": [
    {
     "name": "stdout",
     "output_type": "stream",
     "text": [
      "date                   object\n",
      "coffee_consumption    float64\n",
      "dtype: object\n"
     ]
    },
    {
     "data": {
      "text/html": [
       "<div>\n",
       "<style scoped>\n",
       "    .dataframe tbody tr th:only-of-type {\n",
       "        vertical-align: middle;\n",
       "    }\n",
       "\n",
       "    .dataframe tbody tr th {\n",
       "        vertical-align: top;\n",
       "    }\n",
       "\n",
       "    .dataframe thead th {\n",
       "        text-align: right;\n",
       "    }\n",
       "</style>\n",
       "<table border=\"1\" class=\"dataframe\">\n",
       "  <thead>\n",
       "    <tr style=\"text-align: right;\">\n",
       "      <th></th>\n",
       "      <th>date</th>\n",
       "      <th>coffee_consumption</th>\n",
       "    </tr>\n",
       "  </thead>\n",
       "  <tbody>\n",
       "    <tr>\n",
       "      <th>0</th>\n",
       "      <td>2019-01-01</td>\n",
       "      <td>14.301915</td>\n",
       "    </tr>\n",
       "    <tr>\n",
       "      <th>1</th>\n",
       "      <td>2019-01-02</td>\n",
       "      <td>12.905900</td>\n",
       "    </tr>\n",
       "    <tr>\n",
       "      <th>2</th>\n",
       "      <td>2019-01-03</td>\n",
       "      <td>10.046015</td>\n",
       "    </tr>\n",
       "    <tr>\n",
       "      <th>3</th>\n",
       "      <td>2019-01-04</td>\n",
       "      <td>6.354805</td>\n",
       "    </tr>\n",
       "    <tr>\n",
       "      <th>4</th>\n",
       "      <td>2019-01-07</td>\n",
       "      <td>8.545563</td>\n",
       "    </tr>\n",
       "  </tbody>\n",
       "</table>\n",
       "</div>"
      ],
      "text/plain": [
       "         date  coffee_consumption\n",
       "0  2019-01-01           14.301915\n",
       "1  2019-01-02           12.905900\n",
       "2  2019-01-03           10.046015\n",
       "3  2019-01-04            6.354805\n",
       "4  2019-01-07            8.545563"
      ]
     },
     "execution_count": 10,
     "metadata": {},
     "output_type": "execute_result"
    }
   ],
   "source": [
    "#assign url variable\n",
    "url = \"https://gist.githubusercontent.com/ryanorsinger/b309f8db19e0ca71b213d4877d835e77/raw/f5841017310e2f4ca070b313529ceec2375336ba/coffee_consumption.csv\"\n",
    "\n",
    "#read in csv of the url above\n",
    "df = pd.read_csv(url)\n",
    "\n",
    "#find the datatypes for each column\n",
    "print(df.dtypes)\n",
    "\n",
    "#take a look at the dataframe\n",
    "df.head()"
   ]
  },
  {
   "cell_type": "markdown",
   "id": "39c8952f",
   "metadata": {},
   "source": [
    "### using ```pd.to_datetime```"
   ]
  },
  {
   "cell_type": "code",
   "execution_count": 4,
   "id": "f6e290f4",
   "metadata": {},
   "outputs": [
    {
     "data": {
      "text/plain": [
       "date                  datetime64[ns]\n",
       "coffee_consumption           float64\n",
       "dtype: object"
      ]
     },
     "execution_count": 4,
     "metadata": {},
     "output_type": "execute_result"
    }
   ],
   "source": [
    "df['date'] = pd.to_datetime(df['date'])\n",
    "\n",
    "df.dtypes"
   ]
  },
  {
   "cell_type": "markdown",
   "id": "241a4d1f",
   "metadata": {},
   "source": [
    "### using ``` .dt```\n",
    "- This allows us to extract parts of the date"
   ]
  },
  {
   "cell_type": "code",
   "execution_count": 5,
   "id": "deadacf4",
   "metadata": {},
   "outputs": [
    {
     "data": {
      "text/plain": [
       "0       1\n",
       "1       2\n",
       "2       3\n",
       "3       4\n",
       "4       7\n",
       "       ..\n",
       "256    25\n",
       "257    26\n",
       "258    27\n",
       "259    30\n",
       "260    31\n",
       "Name: date, Length: 261, dtype: int64"
      ]
     },
     "execution_count": 5,
     "metadata": {},
     "output_type": "execute_result"
    }
   ],
   "source": [
    "#extract day\n",
    "df['date'].dt.day"
   ]
  },
  {
   "cell_type": "code",
   "execution_count": 6,
   "id": "57fc73c8",
   "metadata": {},
   "outputs": [
    {
     "data": {
      "text/plain": [
       "0       1\n",
       "1       1\n",
       "2       1\n",
       "3       1\n",
       "4       1\n",
       "       ..\n",
       "256    12\n",
       "257    12\n",
       "258    12\n",
       "259    12\n",
       "260    12\n",
       "Name: date, Length: 261, dtype: int64"
      ]
     },
     "execution_count": 6,
     "metadata": {},
     "output_type": "execute_result"
    }
   ],
   "source": [
    "#extract month\n",
    "df['date'].dt.month"
   ]
  },
  {
   "cell_type": "code",
   "execution_count": 9,
   "id": "ebccf1ab",
   "metadata": {},
   "outputs": [
    {
     "data": {
      "text/html": [
       "<div>\n",
       "<style scoped>\n",
       "    .dataframe tbody tr th:only-of-type {\n",
       "        vertical-align: middle;\n",
       "    }\n",
       "\n",
       "    .dataframe tbody tr th {\n",
       "        vertical-align: top;\n",
       "    }\n",
       "\n",
       "    .dataframe thead th {\n",
       "        text-align: right;\n",
       "    }\n",
       "</style>\n",
       "<table border=\"1\" class=\"dataframe\">\n",
       "  <thead>\n",
       "    <tr style=\"text-align: right;\">\n",
       "      <th></th>\n",
       "      <th>date</th>\n",
       "      <th>coffee_consumption</th>\n",
       "      <th>day_of_week</th>\n",
       "    </tr>\n",
       "  </thead>\n",
       "  <tbody>\n",
       "    <tr>\n",
       "      <th>0</th>\n",
       "      <td>2019-01-01</td>\n",
       "      <td>14.301915</td>\n",
       "      <td>Tuesday</td>\n",
       "    </tr>\n",
       "    <tr>\n",
       "      <th>1</th>\n",
       "      <td>2019-01-02</td>\n",
       "      <td>12.905900</td>\n",
       "      <td>Wednesday</td>\n",
       "    </tr>\n",
       "    <tr>\n",
       "      <th>2</th>\n",
       "      <td>2019-01-03</td>\n",
       "      <td>10.046015</td>\n",
       "      <td>Thursday</td>\n",
       "    </tr>\n",
       "    <tr>\n",
       "      <th>3</th>\n",
       "      <td>2019-01-04</td>\n",
       "      <td>6.354805</td>\n",
       "      <td>Friday</td>\n",
       "    </tr>\n",
       "    <tr>\n",
       "      <th>4</th>\n",
       "      <td>2019-01-07</td>\n",
       "      <td>8.545563</td>\n",
       "      <td>Monday</td>\n",
       "    </tr>\n",
       "  </tbody>\n",
       "</table>\n",
       "</div>"
      ],
      "text/plain": [
       "        date  coffee_consumption day_of_week\n",
       "0 2019-01-01           14.301915     Tuesday\n",
       "1 2019-01-02           12.905900   Wednesday\n",
       "2 2019-01-03           10.046015    Thursday\n",
       "3 2019-01-04            6.354805      Friday\n",
       "4 2019-01-07            8.545563      Monday"
      ]
     },
     "execution_count": 9,
     "metadata": {},
     "output_type": "execute_result"
    }
   ],
   "source": [
    "#create a column by extracting day name\n",
    "df['day_of_week'] = df['date'].dt.day_name()\n",
    "\n",
    "#take a look\n",
    "df.head()"
   ]
  },
  {
   "cell_type": "code",
   "execution_count": 12,
   "id": "418e36f3",
   "metadata": {},
   "outputs": [
    {
     "data": {
      "text/html": [
       "<div>\n",
       "<style scoped>\n",
       "    .dataframe tbody tr th:only-of-type {\n",
       "        vertical-align: middle;\n",
       "    }\n",
       "\n",
       "    .dataframe tbody tr th {\n",
       "        vertical-align: top;\n",
       "    }\n",
       "\n",
       "    .dataframe thead th {\n",
       "        text-align: right;\n",
       "    }\n",
       "</style>\n",
       "<table border=\"1\" class=\"dataframe\">\n",
       "  <thead>\n",
       "    <tr style=\"text-align: right;\">\n",
       "      <th></th>\n",
       "      <th>coffee_consumption</th>\n",
       "      <th>day_of_week</th>\n",
       "    </tr>\n",
       "    <tr>\n",
       "      <th>date</th>\n",
       "      <th></th>\n",
       "      <th></th>\n",
       "    </tr>\n",
       "  </thead>\n",
       "  <tbody>\n",
       "    <tr>\n",
       "      <th>2019-01-01</th>\n",
       "      <td>14.301915</td>\n",
       "      <td>Tuesday</td>\n",
       "    </tr>\n",
       "    <tr>\n",
       "      <th>2019-01-02</th>\n",
       "      <td>12.905900</td>\n",
       "      <td>Wednesday</td>\n",
       "    </tr>\n",
       "    <tr>\n",
       "      <th>2019-01-03</th>\n",
       "      <td>10.046015</td>\n",
       "      <td>Thursday</td>\n",
       "    </tr>\n",
       "    <tr>\n",
       "      <th>2019-01-04</th>\n",
       "      <td>6.354805</td>\n",
       "      <td>Friday</td>\n",
       "    </tr>\n",
       "    <tr>\n",
       "      <th>2019-01-07</th>\n",
       "      <td>8.545563</td>\n",
       "      <td>Monday</td>\n",
       "    </tr>\n",
       "  </tbody>\n",
       "</table>\n",
       "</div>"
      ],
      "text/plain": [
       "            coffee_consumption day_of_week\n",
       "date                                      \n",
       "2019-01-01           14.301915     Tuesday\n",
       "2019-01-02           12.905900   Wednesday\n",
       "2019-01-03           10.046015    Thursday\n",
       "2019-01-04            6.354805      Friday\n",
       "2019-01-07            8.545563      Monday"
      ]
     },
     "execution_count": 12,
     "metadata": {},
     "output_type": "execute_result"
    }
   ],
   "source": [
    "#reset the index as the date\n",
    "df = df.set_index('date')\n",
    "\n",
    "#take a look\n",
    "df.head()"
   ]
  },
  {
   "cell_type": "markdown",
   "id": "f38a650a",
   "metadata": {},
   "source": [
    "###  using ```asfreq``` to resample"
   ]
  },
  {
   "cell_type": "code",
   "execution_count": 18,
   "id": "aea4c653",
   "metadata": {},
   "outputs": [
    {
     "data": {
      "text/html": [
       "<div>\n",
       "<style scoped>\n",
       "    .dataframe tbody tr th:only-of-type {\n",
       "        vertical-align: middle;\n",
       "    }\n",
       "\n",
       "    .dataframe tbody tr th {\n",
       "        vertical-align: top;\n",
       "    }\n",
       "\n",
       "    .dataframe thead th {\n",
       "        text-align: right;\n",
       "    }\n",
       "</style>\n",
       "<table border=\"1\" class=\"dataframe\">\n",
       "  <thead>\n",
       "    <tr style=\"text-align: right;\">\n",
       "      <th></th>\n",
       "      <th>coffee_consumption</th>\n",
       "      <th>day_of_week</th>\n",
       "    </tr>\n",
       "    <tr>\n",
       "      <th>date</th>\n",
       "      <th></th>\n",
       "      <th></th>\n",
       "    </tr>\n",
       "  </thead>\n",
       "  <tbody>\n",
       "    <tr>\n",
       "      <th>2019-01-01</th>\n",
       "      <td>14.301915</td>\n",
       "      <td>Tuesday</td>\n",
       "    </tr>\n",
       "    <tr>\n",
       "      <th>2019-01-02</th>\n",
       "      <td>12.905900</td>\n",
       "      <td>Wednesday</td>\n",
       "    </tr>\n",
       "    <tr>\n",
       "      <th>2019-01-03</th>\n",
       "      <td>10.046015</td>\n",
       "      <td>Thursday</td>\n",
       "    </tr>\n",
       "    <tr>\n",
       "      <th>2019-01-04</th>\n",
       "      <td>6.354805</td>\n",
       "      <td>Friday</td>\n",
       "    </tr>\n",
       "    <tr>\n",
       "      <th>2019-01-05</th>\n",
       "      <td>NaN</td>\n",
       "      <td>NaN</td>\n",
       "    </tr>\n",
       "    <tr>\n",
       "      <th>...</th>\n",
       "      <td>...</td>\n",
       "      <td>...</td>\n",
       "    </tr>\n",
       "    <tr>\n",
       "      <th>2019-12-27</th>\n",
       "      <td>9.464345</td>\n",
       "      <td>Friday</td>\n",
       "    </tr>\n",
       "    <tr>\n",
       "      <th>2019-12-28</th>\n",
       "      <td>NaN</td>\n",
       "      <td>NaN</td>\n",
       "    </tr>\n",
       "    <tr>\n",
       "      <th>2019-12-29</th>\n",
       "      <td>NaN</td>\n",
       "      <td>NaN</td>\n",
       "    </tr>\n",
       "    <tr>\n",
       "      <th>2019-12-30</th>\n",
       "      <td>14.623106</td>\n",
       "      <td>Monday</td>\n",
       "    </tr>\n",
       "    <tr>\n",
       "      <th>2019-12-31</th>\n",
       "      <td>10.168315</td>\n",
       "      <td>Tuesday</td>\n",
       "    </tr>\n",
       "  </tbody>\n",
       "</table>\n",
       "<p>365 rows × 2 columns</p>\n",
       "</div>"
      ],
      "text/plain": [
       "            coffee_consumption day_of_week\n",
       "date                                      \n",
       "2019-01-01           14.301915     Tuesday\n",
       "2019-01-02           12.905900   Wednesday\n",
       "2019-01-03           10.046015    Thursday\n",
       "2019-01-04            6.354805      Friday\n",
       "2019-01-05                 NaN         NaN\n",
       "...                        ...         ...\n",
       "2019-12-27            9.464345      Friday\n",
       "2019-12-28                 NaN         NaN\n",
       "2019-12-29                 NaN         NaN\n",
       "2019-12-30           14.623106      Monday\n",
       "2019-12-31           10.168315     Tuesday\n",
       "\n",
       "[365 rows x 2 columns]"
      ]
     },
     "execution_count": 18,
     "metadata": {},
     "output_type": "execute_result"
    }
   ],
   "source": [
    "fill_df = df.asfreq('D')\n",
    "fill_df"
   ]
  },
  {
   "cell_type": "code",
   "execution_count": 17,
   "id": "f9546736",
   "metadata": {},
   "outputs": [
    {
     "data": {
      "text/html": [
       "<div>\n",
       "<style scoped>\n",
       "    .dataframe tbody tr th:only-of-type {\n",
       "        vertical-align: middle;\n",
       "    }\n",
       "\n",
       "    .dataframe tbody tr th {\n",
       "        vertical-align: top;\n",
       "    }\n",
       "\n",
       "    .dataframe thead th {\n",
       "        text-align: right;\n",
       "    }\n",
       "</style>\n",
       "<table border=\"1\" class=\"dataframe\">\n",
       "  <thead>\n",
       "    <tr style=\"text-align: right;\">\n",
       "      <th></th>\n",
       "      <th>coffee_consumption</th>\n",
       "      <th>day_of_week</th>\n",
       "    </tr>\n",
       "    <tr>\n",
       "      <th>date</th>\n",
       "      <th></th>\n",
       "      <th></th>\n",
       "    </tr>\n",
       "  </thead>\n",
       "  <tbody>\n",
       "    <tr>\n",
       "      <th>2019-01-31</th>\n",
       "      <td>9.035046</td>\n",
       "      <td>Thursday</td>\n",
       "    </tr>\n",
       "    <tr>\n",
       "      <th>2019-02-28</th>\n",
       "      <td>9.093397</td>\n",
       "      <td>Thursday</td>\n",
       "    </tr>\n",
       "    <tr>\n",
       "      <th>2019-03-31</th>\n",
       "      <td>NaN</td>\n",
       "      <td>NaN</td>\n",
       "    </tr>\n",
       "    <tr>\n",
       "      <th>2019-04-30</th>\n",
       "      <td>7.086039</td>\n",
       "      <td>Tuesday</td>\n",
       "    </tr>\n",
       "    <tr>\n",
       "      <th>2019-05-31</th>\n",
       "      <td>10.818797</td>\n",
       "      <td>Friday</td>\n",
       "    </tr>\n",
       "    <tr>\n",
       "      <th>2019-06-30</th>\n",
       "      <td>NaN</td>\n",
       "      <td>NaN</td>\n",
       "    </tr>\n",
       "    <tr>\n",
       "      <th>2019-07-31</th>\n",
       "      <td>10.790037</td>\n",
       "      <td>Wednesday</td>\n",
       "    </tr>\n",
       "    <tr>\n",
       "      <th>2019-08-31</th>\n",
       "      <td>NaN</td>\n",
       "      <td>NaN</td>\n",
       "    </tr>\n",
       "    <tr>\n",
       "      <th>2019-09-30</th>\n",
       "      <td>11.282275</td>\n",
       "      <td>Monday</td>\n",
       "    </tr>\n",
       "    <tr>\n",
       "      <th>2019-10-31</th>\n",
       "      <td>11.734257</td>\n",
       "      <td>Thursday</td>\n",
       "    </tr>\n",
       "    <tr>\n",
       "      <th>2019-11-30</th>\n",
       "      <td>NaN</td>\n",
       "      <td>NaN</td>\n",
       "    </tr>\n",
       "    <tr>\n",
       "      <th>2019-12-31</th>\n",
       "      <td>10.168315</td>\n",
       "      <td>Tuesday</td>\n",
       "    </tr>\n",
       "  </tbody>\n",
       "</table>\n",
       "</div>"
      ],
      "text/plain": [
       "            coffee_consumption day_of_week\n",
       "date                                      \n",
       "2019-01-31            9.035046    Thursday\n",
       "2019-02-28            9.093397    Thursday\n",
       "2019-03-31                 NaN         NaN\n",
       "2019-04-30            7.086039     Tuesday\n",
       "2019-05-31           10.818797      Friday\n",
       "2019-06-30                 NaN         NaN\n",
       "2019-07-31           10.790037   Wednesday\n",
       "2019-08-31                 NaN         NaN\n",
       "2019-09-30           11.282275      Monday\n",
       "2019-10-31           11.734257    Thursday\n",
       "2019-11-30                 NaN         NaN\n",
       "2019-12-31           10.168315     Tuesday"
      ]
     },
     "execution_count": 17,
     "metadata": {},
     "output_type": "execute_result"
    }
   ],
   "source": [
    "df.asfreq('M')"
   ]
  },
  {
   "cell_type": "code",
   "execution_count": 21,
   "id": "052c55ae",
   "metadata": {},
   "outputs": [
    {
     "data": {
      "text/html": [
       "<div>\n",
       "<style scoped>\n",
       "    .dataframe tbody tr th:only-of-type {\n",
       "        vertical-align: middle;\n",
       "    }\n",
       "\n",
       "    .dataframe tbody tr th {\n",
       "        vertical-align: top;\n",
       "    }\n",
       "\n",
       "    .dataframe thead th {\n",
       "        text-align: right;\n",
       "    }\n",
       "</style>\n",
       "<table border=\"1\" class=\"dataframe\">\n",
       "  <thead>\n",
       "    <tr style=\"text-align: right;\">\n",
       "      <th></th>\n",
       "      <th>coffee_consumption</th>\n",
       "    </tr>\n",
       "    <tr>\n",
       "      <th>date</th>\n",
       "      <th></th>\n",
       "    </tr>\n",
       "  </thead>\n",
       "  <tbody>\n",
       "    <tr>\n",
       "      <th>2019-01-01</th>\n",
       "      <td>10.902159</td>\n",
       "    </tr>\n",
       "    <tr>\n",
       "      <th>2019-01-06</th>\n",
       "      <td>8.628348</td>\n",
       "    </tr>\n",
       "    <tr>\n",
       "      <th>2019-01-11</th>\n",
       "      <td>10.941607</td>\n",
       "    </tr>\n",
       "    <tr>\n",
       "      <th>2019-01-16</th>\n",
       "      <td>10.124445</td>\n",
       "    </tr>\n",
       "    <tr>\n",
       "      <th>2019-01-21</th>\n",
       "      <td>9.690260</td>\n",
       "    </tr>\n",
       "    <tr>\n",
       "      <th>...</th>\n",
       "      <td>...</td>\n",
       "    </tr>\n",
       "    <tr>\n",
       "      <th>2019-12-07</th>\n",
       "      <td>10.418495</td>\n",
       "    </tr>\n",
       "    <tr>\n",
       "      <th>2019-12-12</th>\n",
       "      <td>11.798295</td>\n",
       "    </tr>\n",
       "    <tr>\n",
       "      <th>2019-12-17</th>\n",
       "      <td>9.251785</td>\n",
       "    </tr>\n",
       "    <tr>\n",
       "      <th>2019-12-22</th>\n",
       "      <td>9.824736</td>\n",
       "    </tr>\n",
       "    <tr>\n",
       "      <th>2019-12-27</th>\n",
       "      <td>11.418589</td>\n",
       "    </tr>\n",
       "  </tbody>\n",
       "</table>\n",
       "<p>73 rows × 1 columns</p>\n",
       "</div>"
      ],
      "text/plain": [
       "            coffee_consumption\n",
       "date                          \n",
       "2019-01-01           10.902159\n",
       "2019-01-06            8.628348\n",
       "2019-01-11           10.941607\n",
       "2019-01-16           10.124445\n",
       "2019-01-21            9.690260\n",
       "...                        ...\n",
       "2019-12-07           10.418495\n",
       "2019-12-12           11.798295\n",
       "2019-12-17            9.251785\n",
       "2019-12-22            9.824736\n",
       "2019-12-27           11.418589\n",
       "\n",
       "[73 rows x 1 columns]"
      ]
     },
     "execution_count": 21,
     "metadata": {},
     "output_type": "execute_result"
    }
   ],
   "source": [
    "df.resample('5D').mean()"
   ]
  },
  {
   "cell_type": "markdown",
   "id": "2c2e5d00",
   "metadata": {},
   "source": [
    "### using  ``` forward``` and ```back fill```"
   ]
  },
  {
   "cell_type": "code",
   "execution_count": 24,
   "id": "931e276c",
   "metadata": {},
   "outputs": [],
   "source": [
    "fill_df['forward'] = fill_df['coffee_consumption'].ffill()"
   ]
  },
  {
   "cell_type": "code",
   "execution_count": 25,
   "id": "d1eb9381",
   "metadata": {},
   "outputs": [],
   "source": [
    "fill_df['backward'] = fill_df['coffee_consumption'].bfill()"
   ]
  },
  {
   "cell_type": "code",
   "execution_count": 26,
   "id": "f3a8d37d",
   "metadata": {},
   "outputs": [
    {
     "data": {
      "text/html": [
       "<div>\n",
       "<style scoped>\n",
       "    .dataframe tbody tr th:only-of-type {\n",
       "        vertical-align: middle;\n",
       "    }\n",
       "\n",
       "    .dataframe tbody tr th {\n",
       "        vertical-align: top;\n",
       "    }\n",
       "\n",
       "    .dataframe thead th {\n",
       "        text-align: right;\n",
       "    }\n",
       "</style>\n",
       "<table border=\"1\" class=\"dataframe\">\n",
       "  <thead>\n",
       "    <tr style=\"text-align: right;\">\n",
       "      <th></th>\n",
       "      <th>coffee_consumption</th>\n",
       "      <th>day_of_week</th>\n",
       "      <th>forward</th>\n",
       "      <th>backward</th>\n",
       "    </tr>\n",
       "    <tr>\n",
       "      <th>date</th>\n",
       "      <th></th>\n",
       "      <th></th>\n",
       "      <th></th>\n",
       "      <th></th>\n",
       "    </tr>\n",
       "  </thead>\n",
       "  <tbody>\n",
       "    <tr>\n",
       "      <th>2019-01-01</th>\n",
       "      <td>14.301915</td>\n",
       "      <td>Tuesday</td>\n",
       "      <td>14.301915</td>\n",
       "      <td>14.301915</td>\n",
       "    </tr>\n",
       "    <tr>\n",
       "      <th>2019-01-02</th>\n",
       "      <td>12.905900</td>\n",
       "      <td>Wednesday</td>\n",
       "      <td>12.905900</td>\n",
       "      <td>12.905900</td>\n",
       "    </tr>\n",
       "    <tr>\n",
       "      <th>2019-01-03</th>\n",
       "      <td>10.046015</td>\n",
       "      <td>Thursday</td>\n",
       "      <td>10.046015</td>\n",
       "      <td>10.046015</td>\n",
       "    </tr>\n",
       "    <tr>\n",
       "      <th>2019-01-04</th>\n",
       "      <td>6.354805</td>\n",
       "      <td>Friday</td>\n",
       "      <td>6.354805</td>\n",
       "      <td>6.354805</td>\n",
       "    </tr>\n",
       "    <tr>\n",
       "      <th>2019-01-05</th>\n",
       "      <td>NaN</td>\n",
       "      <td>NaN</td>\n",
       "      <td>6.354805</td>\n",
       "      <td>8.545563</td>\n",
       "    </tr>\n",
       "    <tr>\n",
       "      <th>2019-01-06</th>\n",
       "      <td>NaN</td>\n",
       "      <td>NaN</td>\n",
       "      <td>6.354805</td>\n",
       "      <td>8.545563</td>\n",
       "    </tr>\n",
       "    <tr>\n",
       "      <th>2019-01-07</th>\n",
       "      <td>8.545563</td>\n",
       "      <td>Monday</td>\n",
       "      <td>8.545563</td>\n",
       "      <td>8.545563</td>\n",
       "    </tr>\n",
       "    <tr>\n",
       "      <th>2019-01-08</th>\n",
       "      <td>9.410101</td>\n",
       "      <td>Tuesday</td>\n",
       "      <td>9.410101</td>\n",
       "      <td>9.410101</td>\n",
       "    </tr>\n",
       "    <tr>\n",
       "      <th>2019-01-09</th>\n",
       "      <td>7.219271</td>\n",
       "      <td>Wednesday</td>\n",
       "      <td>7.219271</td>\n",
       "      <td>7.219271</td>\n",
       "    </tr>\n",
       "    <tr>\n",
       "      <th>2019-01-10</th>\n",
       "      <td>9.338456</td>\n",
       "      <td>Thursday</td>\n",
       "      <td>9.338456</td>\n",
       "      <td>9.338456</td>\n",
       "    </tr>\n",
       "  </tbody>\n",
       "</table>\n",
       "</div>"
      ],
      "text/plain": [
       "            coffee_consumption day_of_week    forward   backward\n",
       "date                                                            \n",
       "2019-01-01           14.301915     Tuesday  14.301915  14.301915\n",
       "2019-01-02           12.905900   Wednesday  12.905900  12.905900\n",
       "2019-01-03           10.046015    Thursday  10.046015  10.046015\n",
       "2019-01-04            6.354805      Friday   6.354805   6.354805\n",
       "2019-01-05                 NaN         NaN   6.354805   8.545563\n",
       "2019-01-06                 NaN         NaN   6.354805   8.545563\n",
       "2019-01-07            8.545563      Monday   8.545563   8.545563\n",
       "2019-01-08            9.410101     Tuesday   9.410101   9.410101\n",
       "2019-01-09            7.219271   Wednesday   7.219271   7.219271\n",
       "2019-01-10            9.338456    Thursday   9.338456   9.338456"
      ]
     },
     "execution_count": 26,
     "metadata": {},
     "output_type": "execute_result"
    }
   ],
   "source": [
    "fill_df.head(10)"
   ]
  },
  {
   "cell_type": "code",
   "execution_count": 27,
   "id": "fc00efee",
   "metadata": {},
   "outputs": [
    {
     "data": {
      "text/html": [
       "<div>\n",
       "<style scoped>\n",
       "    .dataframe tbody tr th:only-of-type {\n",
       "        vertical-align: middle;\n",
       "    }\n",
       "\n",
       "    .dataframe tbody tr th {\n",
       "        vertical-align: top;\n",
       "    }\n",
       "\n",
       "    .dataframe thead th {\n",
       "        text-align: right;\n",
       "    }\n",
       "</style>\n",
       "<table border=\"1\" class=\"dataframe\">\n",
       "  <thead>\n",
       "    <tr style=\"text-align: right;\">\n",
       "      <th></th>\n",
       "      <th>coffee_consumption</th>\n",
       "      <th>day_of_week</th>\n",
       "      <th>forward</th>\n",
       "      <th>backward</th>\n",
       "    </tr>\n",
       "    <tr>\n",
       "      <th>date</th>\n",
       "      <th></th>\n",
       "      <th></th>\n",
       "      <th></th>\n",
       "      <th></th>\n",
       "    </tr>\n",
       "  </thead>\n",
       "  <tbody>\n",
       "    <tr>\n",
       "      <th>2019-01-01</th>\n",
       "      <td>14.301915</td>\n",
       "      <td>Tuesday</td>\n",
       "      <td>14.301915</td>\n",
       "      <td>14.301915</td>\n",
       "    </tr>\n",
       "    <tr>\n",
       "      <th>2019-01-02</th>\n",
       "      <td>12.905900</td>\n",
       "      <td>Wednesday</td>\n",
       "      <td>12.905900</td>\n",
       "      <td>12.905900</td>\n",
       "    </tr>\n",
       "    <tr>\n",
       "      <th>2019-01-03</th>\n",
       "      <td>10.046015</td>\n",
       "      <td>Thursday</td>\n",
       "      <td>10.046015</td>\n",
       "      <td>10.046015</td>\n",
       "    </tr>\n",
       "    <tr>\n",
       "      <th>2019-01-04</th>\n",
       "      <td>6.354805</td>\n",
       "      <td>Friday</td>\n",
       "      <td>6.354805</td>\n",
       "      <td>6.354805</td>\n",
       "    </tr>\n",
       "    <tr>\n",
       "      <th>2019-01-05</th>\n",
       "      <td>NaN</td>\n",
       "      <td>Saturday</td>\n",
       "      <td>6.354805</td>\n",
       "      <td>8.545563</td>\n",
       "    </tr>\n",
       "    <tr>\n",
       "      <th>2019-01-06</th>\n",
       "      <td>NaN</td>\n",
       "      <td>Sunday</td>\n",
       "      <td>6.354805</td>\n",
       "      <td>8.545563</td>\n",
       "    </tr>\n",
       "    <tr>\n",
       "      <th>2019-01-07</th>\n",
       "      <td>8.545563</td>\n",
       "      <td>Monday</td>\n",
       "      <td>8.545563</td>\n",
       "      <td>8.545563</td>\n",
       "    </tr>\n",
       "    <tr>\n",
       "      <th>2019-01-08</th>\n",
       "      <td>9.410101</td>\n",
       "      <td>Tuesday</td>\n",
       "      <td>9.410101</td>\n",
       "      <td>9.410101</td>\n",
       "    </tr>\n",
       "    <tr>\n",
       "      <th>2019-01-09</th>\n",
       "      <td>7.219271</td>\n",
       "      <td>Wednesday</td>\n",
       "      <td>7.219271</td>\n",
       "      <td>7.219271</td>\n",
       "    </tr>\n",
       "    <tr>\n",
       "      <th>2019-01-10</th>\n",
       "      <td>9.338456</td>\n",
       "      <td>Thursday</td>\n",
       "      <td>9.338456</td>\n",
       "      <td>9.338456</td>\n",
       "    </tr>\n",
       "  </tbody>\n",
       "</table>\n",
       "</div>"
      ],
      "text/plain": [
       "            coffee_consumption day_of_week    forward   backward\n",
       "date                                                            \n",
       "2019-01-01           14.301915     Tuesday  14.301915  14.301915\n",
       "2019-01-02           12.905900   Wednesday  12.905900  12.905900\n",
       "2019-01-03           10.046015    Thursday  10.046015  10.046015\n",
       "2019-01-04            6.354805      Friday   6.354805   6.354805\n",
       "2019-01-05                 NaN    Saturday   6.354805   8.545563\n",
       "2019-01-06                 NaN      Sunday   6.354805   8.545563\n",
       "2019-01-07            8.545563      Monday   8.545563   8.545563\n",
       "2019-01-08            9.410101     Tuesday   9.410101   9.410101\n",
       "2019-01-09            7.219271   Wednesday   7.219271   7.219271\n",
       "2019-01-10            9.338456    Thursday   9.338456   9.338456"
      ]
     },
     "execution_count": 27,
     "metadata": {},
     "output_type": "execute_result"
    }
   ],
   "source": [
    "fill_df['day_of_week'] = fill_df.index.day_name()\n",
    "fill_df.head(10)"
   ]
  },
  {
   "cell_type": "code",
   "execution_count": 30,
   "id": "301ea56d",
   "metadata": {},
   "outputs": [
    {
     "data": {
      "text/html": [
       "<div>\n",
       "<style scoped>\n",
       "    .dataframe tbody tr th:only-of-type {\n",
       "        vertical-align: middle;\n",
       "    }\n",
       "\n",
       "    .dataframe tbody tr th {\n",
       "        vertical-align: top;\n",
       "    }\n",
       "\n",
       "    .dataframe thead th {\n",
       "        text-align: right;\n",
       "    }\n",
       "</style>\n",
       "<table border=\"1\" class=\"dataframe\">\n",
       "  <thead>\n",
       "    <tr style=\"text-align: right;\">\n",
       "      <th></th>\n",
       "      <th>coffee_consumption</th>\n",
       "      <th>day_of_week</th>\n",
       "      <th>forward</th>\n",
       "      <th>backward</th>\n",
       "    </tr>\n",
       "    <tr>\n",
       "      <th>date</th>\n",
       "      <th></th>\n",
       "      <th></th>\n",
       "      <th></th>\n",
       "      <th></th>\n",
       "    </tr>\n",
       "  </thead>\n",
       "  <tbody>\n",
       "    <tr>\n",
       "      <th>2019-01-01</th>\n",
       "      <td>14.301915</td>\n",
       "      <td>Tuesday</td>\n",
       "      <td>14.301915</td>\n",
       "      <td>14.301915</td>\n",
       "    </tr>\n",
       "    <tr>\n",
       "      <th>2019-01-02</th>\n",
       "      <td>12.905900</td>\n",
       "      <td>Wednesday</td>\n",
       "      <td>12.905900</td>\n",
       "      <td>12.905900</td>\n",
       "    </tr>\n",
       "    <tr>\n",
       "      <th>2019-01-03</th>\n",
       "      <td>10.046015</td>\n",
       "      <td>Thursday</td>\n",
       "      <td>10.046015</td>\n",
       "      <td>10.046015</td>\n",
       "    </tr>\n",
       "    <tr>\n",
       "      <th>2019-01-04</th>\n",
       "      <td>6.354805</td>\n",
       "      <td>Friday</td>\n",
       "      <td>6.354805</td>\n",
       "      <td>6.354805</td>\n",
       "    </tr>\n",
       "    <tr>\n",
       "      <th>2019-01-05</th>\n",
       "      <td>0.000000</td>\n",
       "      <td>Saturday</td>\n",
       "      <td>6.354805</td>\n",
       "      <td>8.545563</td>\n",
       "    </tr>\n",
       "  </tbody>\n",
       "</table>\n",
       "</div>"
      ],
      "text/plain": [
       "            coffee_consumption day_of_week    forward   backward\n",
       "date                                                            \n",
       "2019-01-01           14.301915     Tuesday  14.301915  14.301915\n",
       "2019-01-02           12.905900   Wednesday  12.905900  12.905900\n",
       "2019-01-03           10.046015    Thursday  10.046015  10.046015\n",
       "2019-01-04            6.354805      Friday   6.354805   6.354805\n",
       "2019-01-05            0.000000    Saturday   6.354805   8.545563"
      ]
     },
     "execution_count": 30,
     "metadata": {},
     "output_type": "execute_result"
    }
   ],
   "source": [
    "fill_df['coffee_consumption'] = fill_df['coffee_consumption'].fillna(0)\n",
    "fill_df.head()"
   ]
  },
  {
   "cell_type": "markdown",
   "id": "e276fcf5",
   "metadata": {},
   "source": [
    "### Now, let's plot our data"
   ]
  },
  {
   "cell_type": "code",
   "execution_count": 31,
   "id": "185469d0",
   "metadata": {},
   "outputs": [
    {
     "data": {
      "text/plain": [
       "<AxesSubplot:xlabel='date'>"
      ]
     },
     "execution_count": 31,
     "metadata": {},
     "output_type": "execute_result"
    },
    {
     "data": {
      "image/png": "[encoded data removed]",
      "text/plain": [
       "<Figure size 432x288 with 1 Axes>"
      ]
     },
     "metadata": {
      "needs_background": "light"
     },
     "output_type": "display_data"
    }
   ],
   "source": [
    "fill_df['coffee_consumption'].plot()"
   ]
  },
  {
   "cell_type": "code",
   "execution_count": 34,
   "id": "26f9256f",
   "metadata": {},
   "outputs": [
    {
     "data": {
      "text/plain": [
       "<AxesSubplot:xlabel='date'>"
      ]
     },
     "execution_count": 34,
     "metadata": {},
     "output_type": "execute_result"
    },
    {
     "data": {
      "image/png": "[encoded data removed]",
      "text/plain": [
       "<Figure size 432x288 with 1 Axes>"
      ]
     },
     "metadata": {
      "needs_background": "light"
     },
     "output_type": "display_data"
    }
   ],
   "source": [
    "fill_df.resample('W').median()['coffee_consumption'].plot()"
   ]
  },
  {
   "cell_type": "code",
   "execution_count": 35,
   "id": "cf0c59b3",
   "metadata": {},
   "outputs": [
    {
     "data": {
      "text/plain": [
       "<AxesSubplot:xlabel='date'>"
      ]
     },
     "execution_count": 35,
     "metadata": {},
     "output_type": "execute_result"
    },
    {
     "data": {
      "image/png": "[encoded data removed]",
      "text/plain": [
       "<Figure size 432x288 with 1 Axes>"
      ]
     },
     "metadata": {
      "needs_background": "light"
     },
     "output_type": "display_data"
    }
   ],
   "source": [
    "fill_df.resample('M').median()['coffee_consumption'].plot()"
   ]
  },
  {
   "cell_type": "code",
   "execution_count": 36,
   "id": "3f5db579",
   "metadata": {},
   "outputs": [
    {
     "name": "stderr",
     "output_type": "stream",
     "text": [
      "/opt/homebrew/anaconda3/lib/python3.9/site-packages/pandas/plotting/_matplotlib/core.py:1244: UserWarning: Attempting to set identical left == right == 49.0 results in singular transformations; automatically expanding.\n",
      "  ax.set_xlim(left, right)\n"
     ]
    },
    {
     "data": {
      "text/plain": [
       "<AxesSubplot:xlabel='date'>"
      ]
     },
     "execution_count": 36,
     "metadata": {},
     "output_type": "execute_result"
    },
    {
     "data": {
      "image/png": "[encoded data removed]",
      "text/plain": [
       "<Figure size 432x288 with 1 Axes>"
      ]
     },
     "metadata": {
      "needs_background": "light"
     },
     "output_type": "display_data"
    }
   ],
   "source": [
    "fill_df.resample('Y').median()['coffee_consumption'].plot()"
   ]
  },
  {
   "cell_type": "markdown",
   "id": "37d2c3b9",
   "metadata": {},
   "source": [
    "### rolling"
   ]
  },
  {
   "cell_type": "code",
   "execution_count": 38,
   "id": "bbffc518",
   "metadata": {},
   "outputs": [
    {
     "data": {
      "text/html": [
       "<div>\n",
       "<style scoped>\n",
       "    .dataframe tbody tr th:only-of-type {\n",
       "        vertical-align: middle;\n",
       "    }\n",
       "\n",
       "    .dataframe tbody tr th {\n",
       "        vertical-align: top;\n",
       "    }\n",
       "\n",
       "    .dataframe thead th {\n",
       "        text-align: right;\n",
       "    }\n",
       "</style>\n",
       "<table border=\"1\" class=\"dataframe\">\n",
       "  <thead>\n",
       "    <tr style=\"text-align: right;\">\n",
       "      <th></th>\n",
       "      <th>coffee_consumption</th>\n",
       "      <th>day_of_week</th>\n",
       "      <th>forward</th>\n",
       "      <th>backward</th>\n",
       "      <th>rolling_week_avg</th>\n",
       "    </tr>\n",
       "    <tr>\n",
       "      <th>date</th>\n",
       "      <th></th>\n",
       "      <th></th>\n",
       "      <th></th>\n",
       "      <th></th>\n",
       "      <th></th>\n",
       "    </tr>\n",
       "  </thead>\n",
       "  <tbody>\n",
       "    <tr>\n",
       "      <th>2019-01-01</th>\n",
       "      <td>14.301915</td>\n",
       "      <td>Tuesday</td>\n",
       "      <td>14.301915</td>\n",
       "      <td>14.301915</td>\n",
       "      <td>NaN</td>\n",
       "    </tr>\n",
       "    <tr>\n",
       "      <th>2019-01-02</th>\n",
       "      <td>12.905900</td>\n",
       "      <td>Wednesday</td>\n",
       "      <td>12.905900</td>\n",
       "      <td>12.905900</td>\n",
       "      <td>NaN</td>\n",
       "    </tr>\n",
       "    <tr>\n",
       "      <th>2019-01-03</th>\n",
       "      <td>10.046015</td>\n",
       "      <td>Thursday</td>\n",
       "      <td>10.046015</td>\n",
       "      <td>10.046015</td>\n",
       "      <td>NaN</td>\n",
       "    </tr>\n",
       "    <tr>\n",
       "      <th>2019-01-04</th>\n",
       "      <td>6.354805</td>\n",
       "      <td>Friday</td>\n",
       "      <td>6.354805</td>\n",
       "      <td>6.354805</td>\n",
       "      <td>NaN</td>\n",
       "    </tr>\n",
       "    <tr>\n",
       "      <th>2019-01-05</th>\n",
       "      <td>0.000000</td>\n",
       "      <td>Saturday</td>\n",
       "      <td>6.354805</td>\n",
       "      <td>8.545563</td>\n",
       "      <td>NaN</td>\n",
       "    </tr>\n",
       "    <tr>\n",
       "      <th>2019-01-06</th>\n",
       "      <td>0.000000</td>\n",
       "      <td>Sunday</td>\n",
       "      <td>6.354805</td>\n",
       "      <td>8.545563</td>\n",
       "      <td>NaN</td>\n",
       "    </tr>\n",
       "    <tr>\n",
       "      <th>2019-01-07</th>\n",
       "      <td>8.545563</td>\n",
       "      <td>Monday</td>\n",
       "      <td>8.545563</td>\n",
       "      <td>8.545563</td>\n",
       "      <td>7.450600</td>\n",
       "    </tr>\n",
       "    <tr>\n",
       "      <th>2019-01-08</th>\n",
       "      <td>9.410101</td>\n",
       "      <td>Tuesday</td>\n",
       "      <td>9.410101</td>\n",
       "      <td>9.410101</td>\n",
       "      <td>6.751769</td>\n",
       "    </tr>\n",
       "    <tr>\n",
       "      <th>2019-01-09</th>\n",
       "      <td>7.219271</td>\n",
       "      <td>Wednesday</td>\n",
       "      <td>7.219271</td>\n",
       "      <td>7.219271</td>\n",
       "      <td>5.939394</td>\n",
       "    </tr>\n",
       "    <tr>\n",
       "      <th>2019-01-10</th>\n",
       "      <td>9.338456</td>\n",
       "      <td>Thursday</td>\n",
       "      <td>9.338456</td>\n",
       "      <td>9.338456</td>\n",
       "      <td>5.838314</td>\n",
       "    </tr>\n",
       "  </tbody>\n",
       "</table>\n",
       "</div>"
      ],
      "text/plain": [
       "            coffee_consumption day_of_week    forward   backward  \\\n",
       "date                                                               \n",
       "2019-01-01           14.301915     Tuesday  14.301915  14.301915   \n",
       "2019-01-02           12.905900   Wednesday  12.905900  12.905900   \n",
       "2019-01-03           10.046015    Thursday  10.046015  10.046015   \n",
       "2019-01-04            6.354805      Friday   6.354805   6.354805   \n",
       "2019-01-05            0.000000    Saturday   6.354805   8.545563   \n",
       "2019-01-06            0.000000      Sunday   6.354805   8.545563   \n",
       "2019-01-07            8.545563      Monday   8.545563   8.545563   \n",
       "2019-01-08            9.410101     Tuesday   9.410101   9.410101   \n",
       "2019-01-09            7.219271   Wednesday   7.219271   7.219271   \n",
       "2019-01-10            9.338456    Thursday   9.338456   9.338456   \n",
       "\n",
       "            rolling_week_avg  \n",
       "date                          \n",
       "2019-01-01               NaN  \n",
       "2019-01-02               NaN  \n",
       "2019-01-03               NaN  \n",
       "2019-01-04               NaN  \n",
       "2019-01-05               NaN  \n",
       "2019-01-06               NaN  \n",
       "2019-01-07          7.450600  \n",
       "2019-01-08          6.751769  \n",
       "2019-01-09          5.939394  \n",
       "2019-01-10          5.838314  "
      ]
     },
     "execution_count": 38,
     "metadata": {},
     "output_type": "execute_result"
    }
   ],
   "source": [
    "fill_df['rolling_week_avg'] = fill_df['coffee_consumption'].rolling(7).mean()\n",
    "fill_df.head(10)"
   ]
  },
  {
   "cell_type": "code",
   "execution_count": 39,
   "id": "060dab7a",
   "metadata": {},
   "outputs": [
    {
     "data": {
      "text/plain": [
       "date\n",
       "2019-01-01          NaN\n",
       "2019-01-02          NaN\n",
       "2019-01-03    37.253830\n",
       "2019-01-04    29.306721\n",
       "2019-01-05    16.400821\n",
       "                ...    \n",
       "2019-12-27    29.228426\n",
       "2019-12-28    16.977551\n",
       "2019-12-29     9.464345\n",
       "2019-12-30    14.623106\n",
       "2019-12-31    24.791422\n",
       "Freq: D, Name: coffee_consumption, Length: 365, dtype: float64"
      ]
     },
     "execution_count": 39,
     "metadata": {},
     "output_type": "execute_result"
    }
   ],
   "source": [
    "fill_df['coffee_consumption'].rolling(3).sum()"
   ]
  },
  {
   "cell_type": "markdown",
   "id": "3cc8eadf",
   "metadata": {},
   "source": [
    "### using ```strftime```\n",
    "\n",
    "https://docs.python.org/3/library/datetime.html#strftime-and-strptime-behavior"
   ]
  },
  {
   "cell_type": "code",
   "execution_count": 41,
   "id": "863ff91b",
   "metadata": {},
   "outputs": [
    {
     "data": {
      "text/plain": [
       "Index(['Tuesday, January 2019', 'Wednesday, January 2019',\n",
       "       'Thursday, January 2019', 'Friday, January 2019',\n",
       "       'Saturday, January 2019', 'Sunday, January 2019',\n",
       "       'Monday, January 2019', 'Tuesday, January 2019',\n",
       "       'Wednesday, January 2019', 'Thursday, January 2019',\n",
       "       ...\n",
       "       'Sunday, December 2019', 'Monday, December 2019',\n",
       "       'Tuesday, December 2019', 'Wednesday, December 2019',\n",
       "       'Thursday, December 2019', 'Friday, December 2019',\n",
       "       'Saturday, December 2019', 'Sunday, December 2019',\n",
       "       'Monday, December 2019', 'Tuesday, December 2019'],\n",
       "      dtype='object', name='date', length=365)"
      ]
     },
     "execution_count": 41,
     "metadata": {},
     "output_type": "execute_result"
    }
   ],
   "source": [
    "fill_df.index.strftime('%A, %B %Y')"
   ]
  },
  {
   "cell_type": "markdown",
   "id": "0d4b66e6",
   "metadata": {},
   "source": [
    "### using ``` timedeltas```"
   ]
  },
  {
   "cell_type": "code",
   "execution_count": 42,
   "id": "3270f7ca",
   "metadata": {},
   "outputs": [
    {
     "data": {
      "text/plain": [
       "(Timestamp('2019-01-01 00:00:00', freq='D'),\n",
       " Timestamp('2019-12-31 00:00:00', freq='D'))"
      ]
     },
     "execution_count": 42,
     "metadata": {},
     "output_type": "execute_result"
    }
   ],
   "source": [
    "fill_df.index.min(), fill_df.index.max()"
   ]
  },
  {
   "cell_type": "code",
   "execution_count": 43,
   "id": "94a7daba",
   "metadata": {},
   "outputs": [
    {
     "data": {
      "text/plain": [
       "Timedelta('364 days 00:00:00')"
      ]
     },
     "execution_count": 43,
     "metadata": {},
     "output_type": "execute_result"
    }
   ],
   "source": [
    "fill_df.index.max() - fill_df.index.min()"
   ]
  },
  {
   "cell_type": "markdown",
   "id": "e76cf59e",
   "metadata": {},
   "source": [
    "### using ```idxmax``` and ```idxmin```"
   ]
  },
  {
   "cell_type": "code",
   "execution_count": 44,
   "id": "bfee71df",
   "metadata": {},
   "outputs": [
    {
     "data": {
      "text/plain": [
       "Timestamp('2019-07-29 00:00:00', freq='D')"
      ]
     },
     "execution_count": 44,
     "metadata": {},
     "output_type": "execute_result"
    }
   ],
   "source": [
    "fill_df['coffee_consumption'].idxmax()"
   ]
  },
  {
   "cell_type": "code",
   "execution_count": 45,
   "id": "5047ce7c",
   "metadata": {},
   "outputs": [
    {
     "data": {
      "text/plain": [
       "17.0434447448351"
      ]
     },
     "execution_count": 45,
     "metadata": {},
     "output_type": "execute_result"
    }
   ],
   "source": [
    "fill_df['coffee_consumption'].max()"
   ]
  },
  {
   "cell_type": "code",
   "execution_count": 46,
   "id": "6653f5be",
   "metadata": {},
   "outputs": [
    {
     "data": {
      "text/plain": [
       "Timestamp('2019-01-05 00:00:00', freq='D')"
      ]
     },
     "execution_count": 46,
     "metadata": {},
     "output_type": "execute_result"
    }
   ],
   "source": [
    "fill_df['coffee_consumption'].idxmin()"
   ]
  }
 ],
 "metadata": {
  "kernelspec": {
   "display_name": "Python 3 (ipykernel)",
   "language": "python",
   "name": "python3"
  },
  "language_info": {
   "codemirror_mode": {
    "name": "ipython",
    "version": 3
   },
   "file_extension": ".py",
   "mimetype": "text/x-python",
   "name": "python",
   "nbconvert_exporter": "python",
   "pygments_lexer": "ipython3",
   "version": "3.9.13"
  }
 },
 "nbformat": 4,
 "nbformat_minor": 5
}
