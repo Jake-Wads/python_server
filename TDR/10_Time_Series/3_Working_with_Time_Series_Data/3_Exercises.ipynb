{
 "cells": [
  {
   "cell_type": "markdown",
   "id": "a3f04668",
   "metadata": {},
   "source": [
    "# Exercises: Working with Time Series Data"
   ]
  },
  {
   "cell_type": "markdown",
   "id": "2ade4007",
   "metadata": {},
   "source": [
    "<hr style=\"border:2px solid gray\">"
   ]
  },
  {
   "cell_type": "markdown",
   "id": "1ef3ec90",
   "metadata": {},
   "source": [
    "<b>Exercises</b>\n",
    "- Part I: ```sf_temps```\n",
    "- Part II: ```seattle_weather```\n",
    "- Part IIII: ```flights_20k```\n",
    "<hr style=\"border:1px solid black\">   \n",
    "\n",
    "<b>Bonus Exercises</b>\n",
    "- Bonus I: ```iowa_electricity```\n",
    "- Bonus II: ```sf_temps```\n",
    "- Bonus III: ```birdstrikes```"
   ]
  },
  {
   "cell_type": "code",
   "execution_count": 1,
   "id": "b5891a05",
   "metadata": {},
   "outputs": [],
   "source": [
    "#standard ds imports\n",
    "import matplotlib.pyplot as plt\n",
    "import pandas as pd\n",
    "import numpy as np\n",
    "import seaborn as sns\n",
    "\n",
    "#import data\n",
    "from vega_datasets import data\n",
    "\n",
    "#time series import\n",
    "import datetime"
   ]
  },
  {
   "cell_type": "markdown",
   "id": "8313405b",
   "metadata": {},
   "source": [
    "<hr style=\"border:2px solid gray\">"
   ]
  },
  {
   "cell_type": "markdown",
   "id": "7f9c7c76",
   "metadata": {},
   "source": [
    "### Part I: ```sf_temps```"
   ]
  },
  {
   "cell_type": "markdown",
   "id": "9b3ccf3e",
   "metadata": {},
   "source": [
    "Use the ```sf_temps``` dataset for the following exercises:\n",
    "\n",
    "1. Resample by the day and take the average temperature. Visualize the average temperature over time.\n",
    "2. Write the code necessary to visualize the minimum temperature over time.\n",
    "3. Write the code necessary to visualize the maximum temperature over time.\n",
    "4. Which month is the coldest, on average?\n",
    "5. Which month has the highest average temperature?\n",
    "6. Resample by the day and calculate the min and max temp for the day (Hint: .agg(['min', 'max'])). Use this resampled dataframe to calculate the change in temperature for the day. Which month has the highest daily temperature variability?\n",
    "7. <b>Bonus</b>: Visualize the daily min, average, and max temperature over time on a single line plot, i.e. the min, average, and maximum temperature should be 3 seperate lines.\n"
   ]
  },
  {
   "cell_type": "code",
   "execution_count": 2,
   "id": "660be895",
   "metadata": {},
   "outputs": [
    {
     "data": {
      "text/html": [
       "<div>\n",
       "<style scoped>\n",
       "    .dataframe tbody tr th:only-of-type {\n",
       "        vertical-align: middle;\n",
       "    }\n",
       "\n",
       "    .dataframe tbody tr th {\n",
       "        vertical-align: top;\n",
       "    }\n",
       "\n",
       "    .dataframe thead th {\n",
       "        text-align: right;\n",
       "    }\n",
       "</style>\n",
       "<table border=\"1\" class=\"dataframe\">\n",
       "  <thead>\n",
       "    <tr style=\"text-align: right;\">\n",
       "      <th></th>\n",
       "      <th>temp</th>\n",
       "      <th>date</th>\n",
       "    </tr>\n",
       "  </thead>\n",
       "  <tbody>\n",
       "    <tr>\n",
       "      <th>5400</th>\n",
       "      <td>57.8</td>\n",
       "      <td>2010-08-14 01:00:00</td>\n",
       "    </tr>\n",
       "    <tr>\n",
       "      <th>3166</th>\n",
       "      <td>54.0</td>\n",
       "      <td>2010-05-12 23:00:00</td>\n",
       "    </tr>\n",
       "    <tr>\n",
       "      <th>1842</th>\n",
       "      <td>54.1</td>\n",
       "      <td>2010-03-18 19:00:00</td>\n",
       "    </tr>\n",
       "  </tbody>\n",
       "</table>\n",
       "</div>"
      ],
      "text/plain": [
       "      temp                date\n",
       "5400  57.8 2010-08-14 01:00:00\n",
       "3166  54.0 2010-05-12 23:00:00\n",
       "1842  54.1 2010-03-18 19:00:00"
      ]
     },
     "execution_count": 2,
     "metadata": {},
     "output_type": "execute_result"
    }
   ],
   "source": [
    "#acquire the data from vega_datasets\n",
    "sf_temps= data.sf_temps()\n",
    "\n",
    "#let's look at the data\n",
    "sf_temps.sample(3)"
   ]
  },
  {
   "cell_type": "code",
   "execution_count": 3,
   "id": "73c92275",
   "metadata": {},
   "outputs": [
    {
     "name": "stdout",
     "output_type": "stream",
     "text": [
      "<class 'pandas.core.frame.DataFrame'>\n",
      "RangeIndex: 8759 entries, 0 to 8758\n",
      "Data columns (total 2 columns):\n",
      " #   Column  Non-Null Count  Dtype         \n",
      "---  ------  --------------  -----         \n",
      " 0   temp    8759 non-null   float64       \n",
      " 1   date    8759 non-null   datetime64[ns]\n",
      "dtypes: datetime64[ns](1), float64(1)\n",
      "memory usage: 137.0 KB\n"
     ]
    }
   ],
   "source": [
    "#check dtype. if date is not datetime, must convert\n",
    "sf_temps.info()"
   ]
  },
  {
   "cell_type": "markdown",
   "id": "20fe25b3",
   "metadata": {},
   "source": [
    "<div class=\"alert alert-block alert-success\">\n",
    "<b>Takeaways:</b>\n",
    "<br>\n",
    "\n",
    "- The dataframe only has two columns (date and temperature)\n",
    "<br>\n",
    "\n",
    "- We want to set the date to our index\n",
    "<br>\n",
    "\n",
    "- If date was not already a datetime64[ns], we would need to convert it to one \n",
    "\n",
    "</div>"
   ]
  },
  {
   "cell_type": "code",
   "execution_count": 4,
   "id": "16e229cd",
   "metadata": {},
   "outputs": [],
   "source": [
    "#set date as index and sort\n",
    "sf_temps = sf_temps.set_index('date').sort_index()"
   ]
  },
  {
   "cell_type": "code",
   "execution_count": 5,
   "id": "68c7a7b4",
   "metadata": {},
   "outputs": [
    {
     "data": {
      "text/plain": [
       "pandas.core.indexes.datetimes.DatetimeIndex"
      ]
     },
     "execution_count": 5,
     "metadata": {},
     "output_type": "execute_result"
    }
   ],
   "source": [
    "#confirm index is set to datetime\n",
    "type(sf_temps.index)"
   ]
  },
  {
   "cell_type": "markdown",
   "id": "cdd85586",
   "metadata": {},
   "source": [
    "<b> #1. Resample by the day and take the average temperature. Visualize the average temperature over time. </b>"
   ]
  },
  {
   "cell_type": "markdown",
   "id": "e3128af2",
   "metadata": {},
   "source": [
    "<div class=\"alert alert-block alert-info\">\n",
    "<b>Note:</b> \n",
    "\n",
    "- This question is asking for average- so we know we'll be using mean\n",
    "- We also know that we'll have to resample by day ('D')\n",
    "</div>"
   ]
  },
  {
   "cell_type": "code",
   "execution_count": 6,
   "id": "a214cbeb",
   "metadata": {},
   "outputs": [
    {
     "data": {
      "text/html": [
       "<div>\n",
       "<style scoped>\n",
       "    .dataframe tbody tr th:only-of-type {\n",
       "        vertical-align: middle;\n",
       "    }\n",
       "\n",
       "    .dataframe tbody tr th {\n",
       "        vertical-align: top;\n",
       "    }\n",
       "\n",
       "    .dataframe thead th {\n",
       "        text-align: right;\n",
       "    }\n",
       "</style>\n",
       "<table border=\"1\" class=\"dataframe\">\n",
       "  <thead>\n",
       "    <tr style=\"text-align: right;\">\n",
       "      <th></th>\n",
       "      <th>temp</th>\n",
       "    </tr>\n",
       "    <tr>\n",
       "      <th>date</th>\n",
       "      <th></th>\n",
       "    </tr>\n",
       "  </thead>\n",
       "  <tbody>\n",
       "    <tr>\n",
       "      <th>2010-01-01</th>\n",
       "      <td>49.170833</td>\n",
       "    </tr>\n",
       "    <tr>\n",
       "      <th>2010-01-02</th>\n",
       "      <td>49.304167</td>\n",
       "    </tr>\n",
       "    <tr>\n",
       "      <th>2010-01-03</th>\n",
       "      <td>49.391667</td>\n",
       "    </tr>\n",
       "    <tr>\n",
       "      <th>2010-01-04</th>\n",
       "      <td>49.445833</td>\n",
       "    </tr>\n",
       "    <tr>\n",
       "      <th>2010-01-05</th>\n",
       "      <td>49.491667</td>\n",
       "    </tr>\n",
       "  </tbody>\n",
       "</table>\n",
       "</div>"
      ],
      "text/plain": [
       "                 temp\n",
       "date                 \n",
       "2010-01-01  49.170833\n",
       "2010-01-02  49.304167\n",
       "2010-01-03  49.391667\n",
       "2010-01-04  49.445833\n",
       "2010-01-05  49.491667"
      ]
     },
     "execution_count": 6,
     "metadata": {},
     "output_type": "execute_result"
    }
   ],
   "source": [
    "#take a look at the new data\n",
    "sf_temps.resample('D').mean().head()"
   ]
  },
  {
   "cell_type": "code",
   "execution_count": 7,
   "id": "c5f335fd",
   "metadata": {},
   "outputs": [
    {
     "data": {
      "image/png": "[encoded data removed]",
      "text/plain": [
       "<Figure size 640x480 with 1 Axes>"
      ]
     },
     "metadata": {},
     "output_type": "display_data"
    }
   ],
   "source": [
    "#we will plot our daily averages\n",
    "sf_temps.resample('D').mean().plot()\n",
    "plt.title('SF Temperatures in 2010')\n",
    "plt.ylabel('Temperature')\n",
    "plt.show()"
   ]
  },
  {
   "cell_type": "markdown",
   "id": "fc482d19",
   "metadata": {},
   "source": [
    "<b> #2. Write the code necessary to visualize the minimum temperature over time. </b>"
   ]
  },
  {
   "cell_type": "code",
   "execution_count": 8,
   "id": "61fd540a",
   "metadata": {},
   "outputs": [
    {
     "data": {
      "image/png": "[encoded data removed]",
      "text/plain": [
       "<Figure size 640x480 with 1 Axes>"
      ]
     },
     "metadata": {},
     "output_type": "display_data"
    }
   ],
   "source": [
    "#We will now need to get the daily minimum\n",
    "sf_temps.resample('D').min().plot()\n",
    "plt.title('Minimum SF Temperatures in 2010')\n",
    "plt.ylabel('Temperature')\n",
    "plt.show()"
   ]
  },
  {
   "cell_type": "markdown",
   "id": "8db049bf",
   "metadata": {},
   "source": [
    "<b> #3. Write the code necessary to visualize the maximum temperature over time. </b>"
   ]
  },
  {
   "cell_type": "code",
   "execution_count": 9,
   "id": "d7ccdf9c",
   "metadata": {},
   "outputs": [
    {
     "data": {
      "image/png": "[encoded data removed]",
      "text/plain": [
       "<Figure size 640x480 with 1 Axes>"
      ]
     },
     "metadata": {},
     "output_type": "display_data"
    }
   ],
   "source": [
    "#and the daily max temp\n",
    "sf_temps.resample('D').max().plot()\n",
    "plt.title('Maximum Temperatures in 2010')\n",
    "plt.ylabel('Temperature')\n",
    "plt.show()"
   ]
  },
  {
   "cell_type": "markdown",
   "id": "8b247427",
   "metadata": {},
   "source": [
    "<b>#4. Which month is the coldest, on average?</b>\n",
    "- <b>Answer</b>: January (2010-01-31)"
   ]
  },
  {
   "cell_type": "markdown",
   "id": "9cc52103",
   "metadata": {},
   "source": [
    "<div class=\"alert alert-block alert-info\">\n",
    "<b>Note:</b> \n",
    "\n",
    "- This question is asking for average- so we know we'll be using mean\n",
    "- We also know that we'll have to resample by month ('M')\n",
    "</div>"
   ]
  },
  {
   "cell_type": "code",
   "execution_count": 10,
   "id": "b799839e",
   "metadata": {},
   "outputs": [
    {
     "data": {
      "text/plain": [
       "date\n",
       "2010-01-31    49.98414\n",
       "Name: temp, dtype: float64"
      ]
     },
     "execution_count": 10,
     "metadata": {},
     "output_type": "execute_result"
    }
   ],
   "source": [
    "#Get the monthly average temp\n",
    "sf_temps.temp.resample('M').mean().sort_values().head(1)"
   ]
  },
  {
   "cell_type": "code",
   "execution_count": 11,
   "id": "6ff3e24f",
   "metadata": {},
   "outputs": [],
   "source": [
    "#assign average temps to a variable\n",
    "average_temps = sf_temps.resample('M').mean()"
   ]
  },
  {
   "cell_type": "code",
   "execution_count": 12,
   "id": "f1fe4109",
   "metadata": {},
   "outputs": [
    {
     "data": {
      "text/plain": [
       "temp    49.98414\n",
       "dtype: float64"
      ]
     },
     "execution_count": 12,
     "metadata": {},
     "output_type": "execute_result"
    }
   ],
   "source": [
    "#now let's call that variable and get the min\n",
    "average_temps.min()"
   ]
  },
  {
   "cell_type": "code",
   "execution_count": 13,
   "id": "866f6a74",
   "metadata": {},
   "outputs": [
    {
     "data": {
      "text/html": [
       "<div>\n",
       "<style scoped>\n",
       "    .dataframe tbody tr th:only-of-type {\n",
       "        vertical-align: middle;\n",
       "    }\n",
       "\n",
       "    .dataframe tbody tr th {\n",
       "        vertical-align: top;\n",
       "    }\n",
       "\n",
       "    .dataframe thead th {\n",
       "        text-align: right;\n",
       "    }\n",
       "</style>\n",
       "<table border=\"1\" class=\"dataframe\">\n",
       "  <thead>\n",
       "    <tr style=\"text-align: right;\">\n",
       "      <th></th>\n",
       "      <th>temp</th>\n",
       "    </tr>\n",
       "  </thead>\n",
       "  <tbody>\n",
       "    <tr>\n",
       "      <th>count</th>\n",
       "      <td>12.000000</td>\n",
       "    </tr>\n",
       "    <tr>\n",
       "      <th>mean</th>\n",
       "      <td>56.902309</td>\n",
       "    </tr>\n",
       "    <tr>\n",
       "      <th>std</th>\n",
       "      <td>4.610790</td>\n",
       "    </tr>\n",
       "    <tr>\n",
       "      <th>min</th>\n",
       "      <td>49.984140</td>\n",
       "    </tr>\n",
       "    <tr>\n",
       "      <th>25%</th>\n",
       "      <td>53.528370</td>\n",
       "    </tr>\n",
       "    <tr>\n",
       "      <th>50%</th>\n",
       "      <td>56.802012</td>\n",
       "    </tr>\n",
       "    <tr>\n",
       "      <th>75%</th>\n",
       "      <td>60.774906</td>\n",
       "    </tr>\n",
       "    <tr>\n",
       "      <th>max</th>\n",
       "      <td>62.487083</td>\n",
       "    </tr>\n",
       "  </tbody>\n",
       "</table>\n",
       "</div>"
      ],
      "text/plain": [
       "            temp\n",
       "count  12.000000\n",
       "mean   56.902309\n",
       "std     4.610790\n",
       "min    49.984140\n",
       "25%    53.528370\n",
       "50%    56.802012\n",
       "75%    60.774906\n",
       "max    62.487083"
      ]
     },
     "execution_count": 13,
     "metadata": {},
     "output_type": "execute_result"
    }
   ],
   "source": [
    "#another way to do this might be to get the descriptive stats\n",
    "#but this will only give us the temp, not the month\n",
    "average_temps.describe()"
   ]
  },
  {
   "cell_type": "markdown",
   "id": "c3ad482e",
   "metadata": {},
   "source": [
    "<b> #5. Which month has the highest average temperature?</b>\n",
    "- <b>Answer</b>: September (2010-09-30)"
   ]
  },
  {
   "cell_type": "code",
   "execution_count": 14,
   "id": "603b0a02",
   "metadata": {},
   "outputs": [
    {
     "data": {
      "text/plain": [
       "date\n",
       "2010-09-30    62.487083\n",
       "2010-08-31    62.405376\n",
       "2010-07-31    61.765457\n",
       "2010-06-30    60.444722\n",
       "2010-10-31    60.253091\n",
       "2010-05-31    57.970968\n",
       "2010-04-30    55.633056\n",
       "2010-11-30    55.185139\n",
       "2010-03-31    53.956528\n",
       "2010-02-28    52.243899\n",
       "2010-12-31    50.498253\n",
       "2010-01-31    49.984140\n",
       "Name: temp, dtype: float64"
      ]
     },
     "execution_count": 14,
     "metadata": {},
     "output_type": "execute_result"
    }
   ],
   "source": [
    "#get average temps by month\n",
    "sf_temps.temp.resample('M').mean().sort_values(ascending=False)"
   ]
  },
  {
   "cell_type": "code",
   "execution_count": 15,
   "id": "f4fc800c",
   "metadata": {},
   "outputs": [
    {
     "data": {
      "text/plain": [
       "date\n",
       "2010-09-30    62.487083\n",
       "Name: temp, dtype: float64"
      ]
     },
     "execution_count": 15,
     "metadata": {},
     "output_type": "execute_result"
    }
   ],
   "source": [
    "#Another way to accomplish this\n",
    "sf_temps.temp.resample('M').mean().sort_values().tail(1)"
   ]
  },
  {
   "cell_type": "code",
   "execution_count": 16,
   "id": "ba2c2ace",
   "metadata": {},
   "outputs": [
    {
     "data": {
      "text/html": [
       "<div>\n",
       "<style scoped>\n",
       "    .dataframe tbody tr th:only-of-type {\n",
       "        vertical-align: middle;\n",
       "    }\n",
       "\n",
       "    .dataframe tbody tr th {\n",
       "        vertical-align: top;\n",
       "    }\n",
       "\n",
       "    .dataframe thead th {\n",
       "        text-align: right;\n",
       "    }\n",
       "</style>\n",
       "<table border=\"1\" class=\"dataframe\">\n",
       "  <thead>\n",
       "    <tr style=\"text-align: right;\">\n",
       "      <th></th>\n",
       "      <th>temp</th>\n",
       "    </tr>\n",
       "  </thead>\n",
       "  <tbody>\n",
       "    <tr>\n",
       "      <th>count</th>\n",
       "      <td>12.000000</td>\n",
       "    </tr>\n",
       "    <tr>\n",
       "      <th>mean</th>\n",
       "      <td>56.902309</td>\n",
       "    </tr>\n",
       "    <tr>\n",
       "      <th>std</th>\n",
       "      <td>4.610790</td>\n",
       "    </tr>\n",
       "    <tr>\n",
       "      <th>min</th>\n",
       "      <td>49.984140</td>\n",
       "    </tr>\n",
       "    <tr>\n",
       "      <th>25%</th>\n",
       "      <td>53.528370</td>\n",
       "    </tr>\n",
       "    <tr>\n",
       "      <th>50%</th>\n",
       "      <td>56.802012</td>\n",
       "    </tr>\n",
       "    <tr>\n",
       "      <th>75%</th>\n",
       "      <td>60.774906</td>\n",
       "    </tr>\n",
       "    <tr>\n",
       "      <th>max</th>\n",
       "      <td>62.487083</td>\n",
       "    </tr>\n",
       "  </tbody>\n",
       "</table>\n",
       "</div>"
      ],
      "text/plain": [
       "            temp\n",
       "count  12.000000\n",
       "mean   56.902309\n",
       "std     4.610790\n",
       "min    49.984140\n",
       "25%    53.528370\n",
       "50%    56.802012\n",
       "75%    60.774906\n",
       "max    62.487083"
      ]
     },
     "execution_count": 16,
     "metadata": {},
     "output_type": "execute_result"
    }
   ],
   "source": [
    "#descriptive stats\n",
    "average_temps.describe()"
   ]
  },
  {
   "cell_type": "markdown",
   "id": "d4a6f909",
   "metadata": {},
   "source": [
    "<b> #6. Resample by the day and calculate the min and max temp for the day (Hint: ```.agg(['min', 'max'])```). Use this resampled dataframe to calculate the change in temperature for the day. Which month has the highest daily temperature variability?</b>\n",
    "- <b>Answer</b>: August (2010-08-31) with 15.00 degrees"
   ]
  },
  {
   "cell_type": "code",
   "execution_count": 17,
   "id": "cd06538c",
   "metadata": {},
   "outputs": [],
   "source": [
    "#resample temps by day- add min max columns\n",
    "daily_temps = sf_temps.temp.resample('D').agg(['min', 'max'])"
   ]
  },
  {
   "cell_type": "code",
   "execution_count": 18,
   "id": "336c37f6",
   "metadata": {},
   "outputs": [
    {
     "data": {
      "text/html": [
       "<div>\n",
       "<style scoped>\n",
       "    .dataframe tbody tr th:only-of-type {\n",
       "        vertical-align: middle;\n",
       "    }\n",
       "\n",
       "    .dataframe tbody tr th {\n",
       "        vertical-align: top;\n",
       "    }\n",
       "\n",
       "    .dataframe thead th {\n",
       "        text-align: right;\n",
       "    }\n",
       "</style>\n",
       "<table border=\"1\" class=\"dataframe\">\n",
       "  <thead>\n",
       "    <tr style=\"text-align: right;\">\n",
       "      <th></th>\n",
       "      <th>min</th>\n",
       "      <th>max</th>\n",
       "    </tr>\n",
       "    <tr>\n",
       "      <th>date</th>\n",
       "      <th></th>\n",
       "      <th></th>\n",
       "    </tr>\n",
       "  </thead>\n",
       "  <tbody>\n",
       "    <tr>\n",
       "      <th>2010-01-01</th>\n",
       "      <td>45.8</td>\n",
       "      <td>53.3</td>\n",
       "    </tr>\n",
       "    <tr>\n",
       "      <th>2010-01-02</th>\n",
       "      <td>46.0</td>\n",
       "      <td>53.4</td>\n",
       "    </tr>\n",
       "    <tr>\n",
       "      <th>2010-01-03</th>\n",
       "      <td>46.1</td>\n",
       "      <td>53.5</td>\n",
       "    </tr>\n",
       "    <tr>\n",
       "      <th>2010-01-04</th>\n",
       "      <td>46.1</td>\n",
       "      <td>53.6</td>\n",
       "    </tr>\n",
       "    <tr>\n",
       "      <th>2010-01-05</th>\n",
       "      <td>46.1</td>\n",
       "      <td>53.8</td>\n",
       "    </tr>\n",
       "    <tr>\n",
       "      <th>...</th>\n",
       "      <td>...</td>\n",
       "      <td>...</td>\n",
       "    </tr>\n",
       "    <tr>\n",
       "      <th>2010-12-27</th>\n",
       "      <td>45.6</td>\n",
       "      <td>53.2</td>\n",
       "    </tr>\n",
       "    <tr>\n",
       "      <th>2010-12-28</th>\n",
       "      <td>45.6</td>\n",
       "      <td>53.2</td>\n",
       "    </tr>\n",
       "    <tr>\n",
       "      <th>2010-12-29</th>\n",
       "      <td>45.6</td>\n",
       "      <td>53.2</td>\n",
       "    </tr>\n",
       "    <tr>\n",
       "      <th>2010-12-30</th>\n",
       "      <td>45.6</td>\n",
       "      <td>53.2</td>\n",
       "    </tr>\n",
       "    <tr>\n",
       "      <th>2010-12-31</th>\n",
       "      <td>45.8</td>\n",
       "      <td>53.2</td>\n",
       "    </tr>\n",
       "  </tbody>\n",
       "</table>\n",
       "<p>365 rows × 2 columns</p>\n",
       "</div>"
      ],
      "text/plain": [
       "             min   max\n",
       "date                  \n",
       "2010-01-01  45.8  53.3\n",
       "2010-01-02  46.0  53.4\n",
       "2010-01-03  46.1  53.5\n",
       "2010-01-04  46.1  53.6\n",
       "2010-01-05  46.1  53.8\n",
       "...          ...   ...\n",
       "2010-12-27  45.6  53.2\n",
       "2010-12-28  45.6  53.2\n",
       "2010-12-29  45.6  53.2\n",
       "2010-12-30  45.6  53.2\n",
       "2010-12-31  45.8  53.2\n",
       "\n",
       "[365 rows x 2 columns]"
      ]
     },
     "execution_count": 18,
     "metadata": {},
     "output_type": "execute_result"
    }
   ],
   "source": [
    "#take a look\n",
    "daily_temps"
   ]
  },
  {
   "cell_type": "code",
   "execution_count": 19,
   "id": "1f4e6271",
   "metadata": {},
   "outputs": [],
   "source": [
    "#create column that shows the temp difference between min and max\n",
    "daily_temps['temp_diff'] = daily_temps['max'] - daily_temps['min']"
   ]
  },
  {
   "cell_type": "code",
   "execution_count": 20,
   "id": "f7c99d68",
   "metadata": {},
   "outputs": [
    {
     "data": {
      "text/html": [
       "<div>\n",
       "<style scoped>\n",
       "    .dataframe tbody tr th:only-of-type {\n",
       "        vertical-align: middle;\n",
       "    }\n",
       "\n",
       "    .dataframe tbody tr th {\n",
       "        vertical-align: top;\n",
       "    }\n",
       "\n",
       "    .dataframe thead th {\n",
       "        text-align: right;\n",
       "    }\n",
       "</style>\n",
       "<table border=\"1\" class=\"dataframe\">\n",
       "  <thead>\n",
       "    <tr style=\"text-align: right;\">\n",
       "      <th></th>\n",
       "      <th>min</th>\n",
       "      <th>max</th>\n",
       "      <th>temp_diff</th>\n",
       "    </tr>\n",
       "    <tr>\n",
       "      <th>date</th>\n",
       "      <th></th>\n",
       "      <th></th>\n",
       "      <th></th>\n",
       "    </tr>\n",
       "  </thead>\n",
       "  <tbody>\n",
       "    <tr>\n",
       "      <th>2010-01-01</th>\n",
       "      <td>45.8</td>\n",
       "      <td>53.3</td>\n",
       "      <td>7.5</td>\n",
       "    </tr>\n",
       "    <tr>\n",
       "      <th>2010-01-02</th>\n",
       "      <td>46.0</td>\n",
       "      <td>53.4</td>\n",
       "      <td>7.4</td>\n",
       "    </tr>\n",
       "    <tr>\n",
       "      <th>2010-01-03</th>\n",
       "      <td>46.1</td>\n",
       "      <td>53.5</td>\n",
       "      <td>7.4</td>\n",
       "    </tr>\n",
       "    <tr>\n",
       "      <th>2010-01-04</th>\n",
       "      <td>46.1</td>\n",
       "      <td>53.6</td>\n",
       "      <td>7.5</td>\n",
       "    </tr>\n",
       "    <tr>\n",
       "      <th>2010-01-05</th>\n",
       "      <td>46.1</td>\n",
       "      <td>53.8</td>\n",
       "      <td>7.7</td>\n",
       "    </tr>\n",
       "    <tr>\n",
       "      <th>...</th>\n",
       "      <td>...</td>\n",
       "      <td>...</td>\n",
       "      <td>...</td>\n",
       "    </tr>\n",
       "    <tr>\n",
       "      <th>2010-12-27</th>\n",
       "      <td>45.6</td>\n",
       "      <td>53.2</td>\n",
       "      <td>7.6</td>\n",
       "    </tr>\n",
       "    <tr>\n",
       "      <th>2010-12-28</th>\n",
       "      <td>45.6</td>\n",
       "      <td>53.2</td>\n",
       "      <td>7.6</td>\n",
       "    </tr>\n",
       "    <tr>\n",
       "      <th>2010-12-29</th>\n",
       "      <td>45.6</td>\n",
       "      <td>53.2</td>\n",
       "      <td>7.6</td>\n",
       "    </tr>\n",
       "    <tr>\n",
       "      <th>2010-12-30</th>\n",
       "      <td>45.6</td>\n",
       "      <td>53.2</td>\n",
       "      <td>7.6</td>\n",
       "    </tr>\n",
       "    <tr>\n",
       "      <th>2010-12-31</th>\n",
       "      <td>45.8</td>\n",
       "      <td>53.2</td>\n",
       "      <td>7.4</td>\n",
       "    </tr>\n",
       "  </tbody>\n",
       "</table>\n",
       "<p>365 rows × 3 columns</p>\n",
       "</div>"
      ],
      "text/plain": [
       "             min   max  temp_diff\n",
       "date                             \n",
       "2010-01-01  45.8  53.3        7.5\n",
       "2010-01-02  46.0  53.4        7.4\n",
       "2010-01-03  46.1  53.5        7.4\n",
       "2010-01-04  46.1  53.6        7.5\n",
       "2010-01-05  46.1  53.8        7.7\n",
       "...          ...   ...        ...\n",
       "2010-12-27  45.6  53.2        7.6\n",
       "2010-12-28  45.6  53.2        7.6\n",
       "2010-12-29  45.6  53.2        7.6\n",
       "2010-12-30  45.6  53.2        7.6\n",
       "2010-12-31  45.8  53.2        7.4\n",
       "\n",
       "[365 rows x 3 columns]"
      ]
     },
     "execution_count": 20,
     "metadata": {},
     "output_type": "execute_result"
    }
   ],
   "source": [
    "#make sure new column was created\n",
    "daily_temps"
   ]
  },
  {
   "cell_type": "code",
   "execution_count": 21,
   "id": "d9952b33",
   "metadata": {},
   "outputs": [
    {
     "data": {
      "text/plain": [
       "date\n",
       "2010-08-31    15.0\n",
       "2010-09-30    14.9\n",
       "2010-06-30    14.8\n",
       "2010-07-31    14.8\n",
       "2010-10-31    14.4\n",
       "2010-05-31    13.1\n",
       "2010-04-30    13.0\n",
       "2010-03-31    12.0\n",
       "2010-11-30    11.8\n",
       "2010-02-28     9.9\n",
       "2010-01-31     9.3\n",
       "2010-12-31     8.9\n",
       "Name: temp_diff, dtype: float64"
      ]
     },
     "execution_count": 21,
     "metadata": {},
     "output_type": "execute_result"
    }
   ],
   "source": [
    "#sort the values to see temp difference to answer question\n",
    "daily_temps.temp_diff.resample('M').max().sort_values(ascending=False)"
   ]
  },
  {
   "cell_type": "markdown",
   "id": "cd158084",
   "metadata": {},
   "source": [
    "<b> #7. Bonus: Visualize the daily min, average, and max temperature over time on a single line plot, i.e. the min, average, and maximum temperature should be 3 seperate lines.</b>"
   ]
  },
  {
   "cell_type": "code",
   "execution_count": 22,
   "id": "0edb5681",
   "metadata": {},
   "outputs": [
    {
     "data": {
      "image/png": "[encoded data removed]",
      "text/plain": [
       "<Figure size 640x480 with 1 Axes>"
      ]
     },
     "metadata": {},
     "output_type": "display_data"
    }
   ],
   "source": [
    "#resample temperatures by day- get min max and average\n",
    "sf_temps.temp.resample('D').agg(['min', 'mean', 'max']).plot()\n",
    "plt.title('Min, Max & Mean Temperatures in 2010')\n",
    "plt.ylabel('Temperature')\n",
    "plt.show()"
   ]
  },
  {
   "cell_type": "markdown",
   "id": "4008b522",
   "metadata": {},
   "source": [
    "<hr style=\"border:2px solid gray\">"
   ]
  },
  {
   "cell_type": "markdown",
   "id": "bc9f297e",
   "metadata": {},
   "source": [
    "### Part II: ```seattle_weather```"
   ]
  },
  {
   "cell_type": "markdown",
   "id": "39db66b8",
   "metadata": {},
   "source": [
    "Use the ```seattle_weather``` dataset for the following exercises:\n",
    "\n",
    "1. Which year and month combination has the highest amount of precipitation?\n",
    "2. Visualize the amount of monthly precipitation over time.\n",
    "3. Visualize the amount of wind over time. Choose a time interval you think is appropriate.\n",
    "4. Which year-month combination is the windiest?\n",
    "5. What's the sunniest year? (Hint: which day has the highest number of days where weather == sun?)\n",
    "6. In which month does it rain the most?\n",
    "7. Which month has the most number of days with a non-zero amount of precipitation?"
   ]
  },
  {
   "cell_type": "code",
   "execution_count": 23,
   "id": "fc36b90b",
   "metadata": {},
   "outputs": [
    {
     "data": {
      "text/html": [
       "<div>\n",
       "<style scoped>\n",
       "    .dataframe tbody tr th:only-of-type {\n",
       "        vertical-align: middle;\n",
       "    }\n",
       "\n",
       "    .dataframe tbody tr th {\n",
       "        vertical-align: top;\n",
       "    }\n",
       "\n",
       "    .dataframe thead th {\n",
       "        text-align: right;\n",
       "    }\n",
       "</style>\n",
       "<table border=\"1\" class=\"dataframe\">\n",
       "  <thead>\n",
       "    <tr style=\"text-align: right;\">\n",
       "      <th></th>\n",
       "      <th>date</th>\n",
       "      <th>precipitation</th>\n",
       "      <th>temp_max</th>\n",
       "      <th>temp_min</th>\n",
       "      <th>wind</th>\n",
       "      <th>weather</th>\n",
       "    </tr>\n",
       "  </thead>\n",
       "  <tbody>\n",
       "    <tr>\n",
       "      <th>53</th>\n",
       "      <td>2012-02-23</td>\n",
       "      <td>0.0</td>\n",
       "      <td>8.3</td>\n",
       "      <td>2.8</td>\n",
       "      <td>3.9</td>\n",
       "      <td>sun</td>\n",
       "    </tr>\n",
       "    <tr>\n",
       "      <th>13</th>\n",
       "      <td>2012-01-14</td>\n",
       "      <td>4.1</td>\n",
       "      <td>4.4</td>\n",
       "      <td>0.6</td>\n",
       "      <td>5.3</td>\n",
       "      <td>snow</td>\n",
       "    </tr>\n",
       "    <tr>\n",
       "      <th>43</th>\n",
       "      <td>2012-02-13</td>\n",
       "      <td>11.4</td>\n",
       "      <td>7.2</td>\n",
       "      <td>4.4</td>\n",
       "      <td>1.4</td>\n",
       "      <td>rain</td>\n",
       "    </tr>\n",
       "    <tr>\n",
       "      <th>709</th>\n",
       "      <td>2013-12-10</td>\n",
       "      <td>0.0</td>\n",
       "      <td>5.6</td>\n",
       "      <td>0.6</td>\n",
       "      <td>1.5</td>\n",
       "      <td>sun</td>\n",
       "    </tr>\n",
       "    <tr>\n",
       "      <th>1391</th>\n",
       "      <td>2015-10-23</td>\n",
       "      <td>0.0</td>\n",
       "      <td>12.8</td>\n",
       "      <td>7.2</td>\n",
       "      <td>2.6</td>\n",
       "      <td>fog</td>\n",
       "    </tr>\n",
       "  </tbody>\n",
       "</table>\n",
       "</div>"
      ],
      "text/plain": [
       "           date  precipitation  temp_max  temp_min  wind weather\n",
       "53   2012-02-23            0.0       8.3       2.8   3.9     sun\n",
       "13   2012-01-14            4.1       4.4       0.6   5.3    snow\n",
       "43   2012-02-13           11.4       7.2       4.4   1.4    rain\n",
       "709  2013-12-10            0.0       5.6       0.6   1.5     sun\n",
       "1391 2015-10-23            0.0      12.8       7.2   2.6     fog"
      ]
     },
     "execution_count": 23,
     "metadata": {},
     "output_type": "execute_result"
    }
   ],
   "source": [
    "from vega_datasets import data\n",
    "seattle = data.seattle_weather()\n",
    "seattle.sample(5)"
   ]
  },
  {
   "cell_type": "code",
   "execution_count": 24,
   "id": "247069e9",
   "metadata": {},
   "outputs": [
    {
     "name": "stdout",
     "output_type": "stream",
     "text": [
      "<class 'pandas.core.frame.DataFrame'>\n",
      "RangeIndex: 1461 entries, 0 to 1460\n",
      "Data columns (total 6 columns):\n",
      " #   Column         Non-Null Count  Dtype         \n",
      "---  ------         --------------  -----         \n",
      " 0   date           1461 non-null   datetime64[ns]\n",
      " 1   precipitation  1461 non-null   float64       \n",
      " 2   temp_max       1461 non-null   float64       \n",
      " 3   temp_min       1461 non-null   float64       \n",
      " 4   wind           1461 non-null   float64       \n",
      " 5   weather        1461 non-null   object        \n",
      "dtypes: datetime64[ns](1), float64(4), object(1)\n",
      "memory usage: 68.6+ KB\n"
     ]
    }
   ],
   "source": [
    "#make sure the dtype is correct\n",
    "seattle.info()"
   ]
  },
  {
   "cell_type": "code",
   "execution_count": 25,
   "id": "84e65eee",
   "metadata": {},
   "outputs": [
    {
     "data": {
      "text/plain": [
       "pandas.core.indexes.range.RangeIndex"
      ]
     },
     "execution_count": 25,
     "metadata": {},
     "output_type": "execute_result"
    }
   ],
   "source": [
    "#check the index- should be date\n",
    "type(seattle.index)\n",
    "\n",
    "#it is not, must change that"
   ]
  },
  {
   "cell_type": "code",
   "execution_count": 26,
   "id": "3757a085",
   "metadata": {},
   "outputs": [],
   "source": [
    "#must complete step 2&3 (set date as index and sort)\n",
    "seattle = seattle.set_index('date').sort_index()"
   ]
  },
  {
   "cell_type": "code",
   "execution_count": 27,
   "id": "1e04e401",
   "metadata": {},
   "outputs": [
    {
     "data": {
      "text/plain": [
       "pandas.core.indexes.datetimes.DatetimeIndex"
      ]
     },
     "execution_count": 27,
     "metadata": {},
     "output_type": "execute_result"
    }
   ],
   "source": [
    "#make sure index was reset\n",
    "type(seattle.index)"
   ]
  },
  {
   "cell_type": "markdown",
   "id": "fb1bcf07",
   "metadata": {},
   "source": [
    "<b>1. Which year and month combination has the highest amount of precipitation?</b>\n",
    "- <b>Answer</b>: March 2015"
   ]
  },
  {
   "cell_type": "code",
   "execution_count": 28,
   "id": "697dec6e",
   "metadata": {},
   "outputs": [
    {
     "data": {
      "text/plain": [
       "date\n",
       "2015-12-31    9.177419\n",
       "2014-03-31    7.741935\n",
       "2015-11-30    7.086667\n",
       "2012-11-30    7.016667\n",
       "2012-03-31    5.903226\n",
       "2012-12-31    5.612903\n",
       "2012-01-31    5.590323\n",
       "2014-02-28    5.542857\n",
       "2014-10-31    5.532258\n",
       "2012-10-31    5.493548\n",
       "2013-09-30    5.226667\n",
       "2013-04-30    4.986667\n",
       "2015-02-28    4.792857\n",
       "2014-11-30    4.103333\n",
       "2015-10-31    3.948387\n",
       "2014-12-31    3.929032\n",
       "2015-03-31    3.661290\n",
       "2014-04-30    3.536667\n",
       "2013-01-31    3.409677\n",
       "2013-11-30    3.210000\n",
       "2012-02-29    3.182759\n",
       "2014-01-31    3.032258\n",
       "2015-01-31    3.000000\n",
       "2015-08-31    2.687097\n",
       "2014-05-31    2.580645\n",
       "2012-06-30    2.503333\n",
       "2012-04-30    2.270000\n",
       "2013-03-31    2.248387\n",
       "2013-05-31    1.951613\n",
       "2014-09-30    1.890000\n",
       "2015-04-30    1.720000\n",
       "2012-05-31    1.683871\n",
       "2014-08-31    1.483871\n",
       "2013-02-28    1.439286\n",
       "2013-12-31    1.367742\n",
       "2013-10-31    1.264516\n",
       "2013-08-31    1.109677\n",
       "2013-06-30    1.103333\n",
       "2012-07-31    0.848387\n",
       "2015-09-30    0.703333\n",
       "2014-07-31    0.632258\n",
       "2014-06-30    0.626667\n",
       "2015-05-31    0.477419\n",
       "2015-06-30    0.196667\n",
       "2015-07-31    0.074194\n",
       "2012-09-30    0.030000\n",
       "2013-07-31    0.000000\n",
       "2012-08-31    0.000000\n",
       "Name: precipitation, dtype: float64"
      ]
     },
     "execution_count": 28,
     "metadata": {},
     "output_type": "execute_result"
    }
   ],
   "source": [
    "seattle.precipitation.resample('M').mean().sort_values(ascending=False)"
   ]
  },
  {
   "cell_type": "code",
   "execution_count": 29,
   "id": "1aa09a90",
   "metadata": {},
   "outputs": [
    {
     "data": {
      "text/plain": [
       "55.9"
      ]
     },
     "execution_count": 29,
     "metadata": {},
     "output_type": "execute_result"
    }
   ],
   "source": [
    "seattle.precipitation.max()"
   ]
  },
  {
   "cell_type": "code",
   "execution_count": 30,
   "id": "bf19afc9",
   "metadata": {},
   "outputs": [
    {
     "data": {
      "text/plain": [
       "date\n",
       "2015-03-15    55.9\n",
       "Name: precipitation, dtype: float64"
      ]
     },
     "execution_count": 30,
     "metadata": {},
     "output_type": "execute_result"
    }
   ],
   "source": [
    "seattle.precipitation.sort_values(ascending=False).head(1)"
   ]
  },
  {
   "cell_type": "markdown",
   "id": "75f28916",
   "metadata": {},
   "source": [
    "<b>2. Visualize the amount of monthly precipitation over time."
   ]
  },
  {
   "cell_type": "code",
   "execution_count": 31,
   "id": "67ee3800",
   "metadata": {},
   "outputs": [
    {
     "data": {
      "image/png": "[encoded data removed]",
      "text/plain": [
       "<Figure size 640x480 with 1 Axes>"
      ]
     },
     "metadata": {},
     "output_type": "display_data"
    }
   ],
   "source": [
    "seattle.precipitation.resample('M').mean().plot()\n",
    "plt.title('Precipitation Rates in Seattle')\n",
    "plt.ylabel('Precipiation')\n",
    "plt.show()"
   ]
  },
  {
   "cell_type": "markdown",
   "id": "4352a9a3",
   "metadata": {},
   "source": [
    "<b>3. Visualize the amount of wind over time. Choose a time interval you think is appropriate."
   ]
  },
  {
   "cell_type": "code",
   "execution_count": 32,
   "id": "e1d0a198",
   "metadata": {},
   "outputs": [
    {
     "data": {
      "image/png": "[encoded data removed]",
      "text/plain": [
       "<Figure size 640x480 with 1 Axes>"
      ]
     },
     "metadata": {},
     "output_type": "display_data"
    }
   ],
   "source": [
    "seattle.wind.resample('M').mean().plot()\n",
    "plt.title('Wind Rates in Seattle')\n",
    "plt.ylabel('Wind')\n",
    "plt.show()"
   ]
  },
  {
   "cell_type": "markdown",
   "id": "72277350",
   "metadata": {},
   "source": [
    "<b>4. Which year-month combination is the windiest?</b>\n",
    "- <b>Answer</b>: December 2012 (2012-12-17) with 9.50"
   ]
  },
  {
   "cell_type": "code",
   "execution_count": 33,
   "id": "2c18f6d9",
   "metadata": {},
   "outputs": [
    {
     "data": {
      "text/plain": [
       "date\n",
       "2012-12-17    9.5\n",
       "Name: wind, dtype: float64"
      ]
     },
     "execution_count": 33,
     "metadata": {},
     "output_type": "execute_result"
    }
   ],
   "source": [
    "seattle.wind.sort_values(ascending=False).head(1)"
   ]
  },
  {
   "cell_type": "markdown",
   "id": "d0a0767c",
   "metadata": {},
   "source": [
    "<b>5. What's the sunniest year? (Hint: which day has the highest number of days where weather == sun?)</b>\n",
    "- <b>Answer</b>: 2014 (2014-12-31) with 211 days of sun"
   ]
  },
  {
   "cell_type": "code",
   "execution_count": 34,
   "id": "1d813669",
   "metadata": {},
   "outputs": [
    {
     "data": {
      "text/plain": [
       "array(['drizzle', 'rain', 'sun', 'snow', 'fog'], dtype=object)"
      ]
     },
     "execution_count": 34,
     "metadata": {},
     "output_type": "execute_result"
    }
   ],
   "source": [
    "#take a look at weather types\n",
    "seattle.weather.unique()"
   ]
  },
  {
   "cell_type": "code",
   "execution_count": 35,
   "id": "d2360865",
   "metadata": {},
   "outputs": [
    {
     "data": {
      "text/plain": [
       "sun        714\n",
       "fog        411\n",
       "rain       259\n",
       "drizzle     54\n",
       "snow        23\n",
       "Name: weather, dtype: int64"
      ]
     },
     "execution_count": 35,
     "metadata": {},
     "output_type": "execute_result"
    }
   ],
   "source": [
    "#see the counts for each type\n",
    "seattle.weather.value_counts()"
   ]
  },
  {
   "cell_type": "code",
   "execution_count": 36,
   "id": "7fa5b8bc",
   "metadata": {},
   "outputs": [],
   "source": [
    "#create a column for days that are sunny\n",
    "seattle['sunny_day'] = seattle.weather == 'sun'"
   ]
  },
  {
   "cell_type": "code",
   "execution_count": 37,
   "id": "02507fd4",
   "metadata": {},
   "outputs": [
    {
     "data": {
      "text/html": [
       "<div>\n",
       "<style scoped>\n",
       "    .dataframe tbody tr th:only-of-type {\n",
       "        vertical-align: middle;\n",
       "    }\n",
       "\n",
       "    .dataframe tbody tr th {\n",
       "        vertical-align: top;\n",
       "    }\n",
       "\n",
       "    .dataframe thead th {\n",
       "        text-align: right;\n",
       "    }\n",
       "</style>\n",
       "<table border=\"1\" class=\"dataframe\">\n",
       "  <thead>\n",
       "    <tr style=\"text-align: right;\">\n",
       "      <th></th>\n",
       "      <th>precipitation</th>\n",
       "      <th>temp_max</th>\n",
       "      <th>temp_min</th>\n",
       "      <th>wind</th>\n",
       "      <th>weather</th>\n",
       "      <th>sunny_day</th>\n",
       "    </tr>\n",
       "    <tr>\n",
       "      <th>date</th>\n",
       "      <th></th>\n",
       "      <th></th>\n",
       "      <th></th>\n",
       "      <th></th>\n",
       "      <th></th>\n",
       "      <th></th>\n",
       "    </tr>\n",
       "  </thead>\n",
       "  <tbody>\n",
       "    <tr>\n",
       "      <th>2012-01-01</th>\n",
       "      <td>0.0</td>\n",
       "      <td>12.8</td>\n",
       "      <td>5.0</td>\n",
       "      <td>4.7</td>\n",
       "      <td>drizzle</td>\n",
       "      <td>False</td>\n",
       "    </tr>\n",
       "    <tr>\n",
       "      <th>2012-01-02</th>\n",
       "      <td>10.9</td>\n",
       "      <td>10.6</td>\n",
       "      <td>2.8</td>\n",
       "      <td>4.5</td>\n",
       "      <td>rain</td>\n",
       "      <td>False</td>\n",
       "    </tr>\n",
       "    <tr>\n",
       "      <th>2012-01-03</th>\n",
       "      <td>0.8</td>\n",
       "      <td>11.7</td>\n",
       "      <td>7.2</td>\n",
       "      <td>2.3</td>\n",
       "      <td>rain</td>\n",
       "      <td>False</td>\n",
       "    </tr>\n",
       "    <tr>\n",
       "      <th>2012-01-04</th>\n",
       "      <td>20.3</td>\n",
       "      <td>12.2</td>\n",
       "      <td>5.6</td>\n",
       "      <td>4.7</td>\n",
       "      <td>rain</td>\n",
       "      <td>False</td>\n",
       "    </tr>\n",
       "    <tr>\n",
       "      <th>2012-01-05</th>\n",
       "      <td>1.3</td>\n",
       "      <td>8.9</td>\n",
       "      <td>2.8</td>\n",
       "      <td>6.1</td>\n",
       "      <td>rain</td>\n",
       "      <td>False</td>\n",
       "    </tr>\n",
       "  </tbody>\n",
       "</table>\n",
       "</div>"
      ],
      "text/plain": [
       "            precipitation  temp_max  temp_min  wind  weather  sunny_day\n",
       "date                                                                   \n",
       "2012-01-01            0.0      12.8       5.0   4.7  drizzle      False\n",
       "2012-01-02           10.9      10.6       2.8   4.5     rain      False\n",
       "2012-01-03            0.8      11.7       7.2   2.3     rain      False\n",
       "2012-01-04           20.3      12.2       5.6   4.7     rain      False\n",
       "2012-01-05            1.3       8.9       2.8   6.1     rain      False"
      ]
     },
     "execution_count": 37,
     "metadata": {},
     "output_type": "execute_result"
    }
   ],
   "source": [
    "#take a look at the new column\n",
    "seattle.head()"
   ]
  },
  {
   "cell_type": "code",
   "execution_count": 38,
   "id": "81914f85",
   "metadata": {},
   "outputs": [
    {
     "data": {
      "text/plain": [
       "date\n",
       "2014-12-31    211\n",
       "2013-12-31    205\n",
       "2015-12-31    180\n",
       "2012-12-31    118\n",
       "Name: sunny_day, dtype: int64"
      ]
     },
     "execution_count": 38,
     "metadata": {},
     "output_type": "execute_result"
    }
   ],
   "source": [
    "#resample by year to answer question\n",
    "seattle.sunny_day.resample('Y').sum().sort_values(ascending=False)"
   ]
  },
  {
   "cell_type": "code",
   "execution_count": 39,
   "id": "6ba320b5",
   "metadata": {},
   "outputs": [
    {
     "data": {
      "text/plain": [
       "date\n",
       "2014-12-31    0.578082\n",
       "2013-12-31    0.561644\n",
       "2015-12-31    0.493151\n",
       "2012-12-31    0.322404\n",
       "Name: sunny_day, dtype: float64"
      ]
     },
     "execution_count": 39,
     "metadata": {},
     "output_type": "execute_result"
    }
   ],
   "source": [
    "#can also look at average\n",
    "seattle.sunny_day.resample('Y').mean().sort_values(ascending=False)"
   ]
  },
  {
   "cell_type": "markdown",
   "id": "ef037adf",
   "metadata": {},
   "source": [
    "<b>6. In which month does it rain the most?</b>"
   ]
  },
  {
   "cell_type": "markdown",
   "id": "73bc1094",
   "metadata": {},
   "source": [
    "<div class=\"alert alert-block alert-info\">\n",
    "<b>Note:</b> \n",
    "<br>\n",
    "This question could be interpreted in many different ways:\n",
    "<br>\n",
    "\n",
    "- Which month has the most days of rainfall (combined) between 2012 and 2015?\n",
    "    - <b>Answer</b>: February (2) with 40 total days of rain.\n",
    "- Which month has the most precipitation (combined) between 2012 and 2015?\n",
    "    - <b>Answer</b>: November (11) with 642.50cm of total precipation.\n",
    "- Which month has the highest average rainfall? \n",
    "    - <b>Answer</b>: November (11) with an average of 5.35cm of precipation.\n",
    "</div>"
   ]
  },
  {
   "cell_type": "code",
   "execution_count": 40,
   "id": "77e94877",
   "metadata": {},
   "outputs": [],
   "source": [
    "#create a column for days that are sunny\n",
    "seattle['rainy_day'] = seattle.weather == 'rain'"
   ]
  },
  {
   "cell_type": "code",
   "execution_count": 41,
   "id": "1a511af2",
   "metadata": {},
   "outputs": [
    {
     "data": {
      "text/html": [
       "<div>\n",
       "<style scoped>\n",
       "    .dataframe tbody tr th:only-of-type {\n",
       "        vertical-align: middle;\n",
       "    }\n",
       "\n",
       "    .dataframe tbody tr th {\n",
       "        vertical-align: top;\n",
       "    }\n",
       "\n",
       "    .dataframe thead th {\n",
       "        text-align: right;\n",
       "    }\n",
       "</style>\n",
       "<table border=\"1\" class=\"dataframe\">\n",
       "  <thead>\n",
       "    <tr style=\"text-align: right;\">\n",
       "      <th></th>\n",
       "      <th>precipitation</th>\n",
       "      <th>temp_max</th>\n",
       "      <th>temp_min</th>\n",
       "      <th>wind</th>\n",
       "      <th>weather</th>\n",
       "      <th>sunny_day</th>\n",
       "      <th>rainy_day</th>\n",
       "    </tr>\n",
       "    <tr>\n",
       "      <th>date</th>\n",
       "      <th></th>\n",
       "      <th></th>\n",
       "      <th></th>\n",
       "      <th></th>\n",
       "      <th></th>\n",
       "      <th></th>\n",
       "      <th></th>\n",
       "    </tr>\n",
       "  </thead>\n",
       "  <tbody>\n",
       "    <tr>\n",
       "      <th>2012-01-01</th>\n",
       "      <td>0.0</td>\n",
       "      <td>12.8</td>\n",
       "      <td>5.0</td>\n",
       "      <td>4.7</td>\n",
       "      <td>drizzle</td>\n",
       "      <td>False</td>\n",
       "      <td>False</td>\n",
       "    </tr>\n",
       "    <tr>\n",
       "      <th>2012-01-02</th>\n",
       "      <td>10.9</td>\n",
       "      <td>10.6</td>\n",
       "      <td>2.8</td>\n",
       "      <td>4.5</td>\n",
       "      <td>rain</td>\n",
       "      <td>False</td>\n",
       "      <td>True</td>\n",
       "    </tr>\n",
       "    <tr>\n",
       "      <th>2012-01-03</th>\n",
       "      <td>0.8</td>\n",
       "      <td>11.7</td>\n",
       "      <td>7.2</td>\n",
       "      <td>2.3</td>\n",
       "      <td>rain</td>\n",
       "      <td>False</td>\n",
       "      <td>True</td>\n",
       "    </tr>\n",
       "    <tr>\n",
       "      <th>2012-01-04</th>\n",
       "      <td>20.3</td>\n",
       "      <td>12.2</td>\n",
       "      <td>5.6</td>\n",
       "      <td>4.7</td>\n",
       "      <td>rain</td>\n",
       "      <td>False</td>\n",
       "      <td>True</td>\n",
       "    </tr>\n",
       "    <tr>\n",
       "      <th>2012-01-05</th>\n",
       "      <td>1.3</td>\n",
       "      <td>8.9</td>\n",
       "      <td>2.8</td>\n",
       "      <td>6.1</td>\n",
       "      <td>rain</td>\n",
       "      <td>False</td>\n",
       "      <td>True</td>\n",
       "    </tr>\n",
       "  </tbody>\n",
       "</table>\n",
       "</div>"
      ],
      "text/plain": [
       "            precipitation  temp_max  temp_min  wind  weather  sunny_day  \\\n",
       "date                                                                      \n",
       "2012-01-01            0.0      12.8       5.0   4.7  drizzle      False   \n",
       "2012-01-02           10.9      10.6       2.8   4.5     rain      False   \n",
       "2012-01-03            0.8      11.7       7.2   2.3     rain      False   \n",
       "2012-01-04           20.3      12.2       5.6   4.7     rain      False   \n",
       "2012-01-05            1.3       8.9       2.8   6.1     rain      False   \n",
       "\n",
       "            rainy_day  \n",
       "date                   \n",
       "2012-01-01      False  \n",
       "2012-01-02       True  \n",
       "2012-01-03       True  \n",
       "2012-01-04       True  \n",
       "2012-01-05       True  "
      ]
     },
     "execution_count": 41,
     "metadata": {},
     "output_type": "execute_result"
    }
   ],
   "source": [
    "#take a look at the new column\n",
    "seattle.head()"
   ]
  },
  {
   "cell_type": "code",
   "execution_count": 42,
   "id": "d1d16466",
   "metadata": {},
   "outputs": [],
   "source": [
    "#create column to identify month!\n",
    "seattle['month'] = seattle.index.month_name()"
   ]
  },
  {
   "cell_type": "code",
   "execution_count": 43,
   "id": "1516e452",
   "metadata": {},
   "outputs": [
    {
     "data": {
      "text/html": [
       "<div>\n",
       "<style scoped>\n",
       "    .dataframe tbody tr th:only-of-type {\n",
       "        vertical-align: middle;\n",
       "    }\n",
       "\n",
       "    .dataframe tbody tr th {\n",
       "        vertical-align: top;\n",
       "    }\n",
       "\n",
       "    .dataframe thead th {\n",
       "        text-align: right;\n",
       "    }\n",
       "</style>\n",
       "<table border=\"1\" class=\"dataframe\">\n",
       "  <thead>\n",
       "    <tr style=\"text-align: right;\">\n",
       "      <th></th>\n",
       "      <th>precipitation</th>\n",
       "      <th>temp_max</th>\n",
       "      <th>temp_min</th>\n",
       "      <th>wind</th>\n",
       "      <th>weather</th>\n",
       "      <th>sunny_day</th>\n",
       "      <th>rainy_day</th>\n",
       "      <th>month</th>\n",
       "    </tr>\n",
       "    <tr>\n",
       "      <th>date</th>\n",
       "      <th></th>\n",
       "      <th></th>\n",
       "      <th></th>\n",
       "      <th></th>\n",
       "      <th></th>\n",
       "      <th></th>\n",
       "      <th></th>\n",
       "      <th></th>\n",
       "    </tr>\n",
       "  </thead>\n",
       "  <tbody>\n",
       "    <tr>\n",
       "      <th>2012-01-01</th>\n",
       "      <td>0.0</td>\n",
       "      <td>12.8</td>\n",
       "      <td>5.0</td>\n",
       "      <td>4.7</td>\n",
       "      <td>drizzle</td>\n",
       "      <td>False</td>\n",
       "      <td>False</td>\n",
       "      <td>January</td>\n",
       "    </tr>\n",
       "    <tr>\n",
       "      <th>2012-01-02</th>\n",
       "      <td>10.9</td>\n",
       "      <td>10.6</td>\n",
       "      <td>2.8</td>\n",
       "      <td>4.5</td>\n",
       "      <td>rain</td>\n",
       "      <td>False</td>\n",
       "      <td>True</td>\n",
       "      <td>January</td>\n",
       "    </tr>\n",
       "    <tr>\n",
       "      <th>2012-01-03</th>\n",
       "      <td>0.8</td>\n",
       "      <td>11.7</td>\n",
       "      <td>7.2</td>\n",
       "      <td>2.3</td>\n",
       "      <td>rain</td>\n",
       "      <td>False</td>\n",
       "      <td>True</td>\n",
       "      <td>January</td>\n",
       "    </tr>\n",
       "    <tr>\n",
       "      <th>2012-01-04</th>\n",
       "      <td>20.3</td>\n",
       "      <td>12.2</td>\n",
       "      <td>5.6</td>\n",
       "      <td>4.7</td>\n",
       "      <td>rain</td>\n",
       "      <td>False</td>\n",
       "      <td>True</td>\n",
       "      <td>January</td>\n",
       "    </tr>\n",
       "    <tr>\n",
       "      <th>2012-01-05</th>\n",
       "      <td>1.3</td>\n",
       "      <td>8.9</td>\n",
       "      <td>2.8</td>\n",
       "      <td>6.1</td>\n",
       "      <td>rain</td>\n",
       "      <td>False</td>\n",
       "      <td>True</td>\n",
       "      <td>January</td>\n",
       "    </tr>\n",
       "  </tbody>\n",
       "</table>\n",
       "</div>"
      ],
      "text/plain": [
       "            precipitation  temp_max  temp_min  wind  weather  sunny_day  \\\n",
       "date                                                                      \n",
       "2012-01-01            0.0      12.8       5.0   4.7  drizzle      False   \n",
       "2012-01-02           10.9      10.6       2.8   4.5     rain      False   \n",
       "2012-01-03            0.8      11.7       7.2   2.3     rain      False   \n",
       "2012-01-04           20.3      12.2       5.6   4.7     rain      False   \n",
       "2012-01-05            1.3       8.9       2.8   6.1     rain      False   \n",
       "\n",
       "            rainy_day    month  \n",
       "date                            \n",
       "2012-01-01      False  January  \n",
       "2012-01-02       True  January  \n",
       "2012-01-03       True  January  \n",
       "2012-01-04       True  January  \n",
       "2012-01-05       True  January  "
      ]
     },
     "execution_count": 43,
     "metadata": {},
     "output_type": "execute_result"
    }
   ],
   "source": [
    "#take a look at the new column\n",
    "seattle.head()"
   ]
  },
  {
   "cell_type": "code",
   "execution_count": 44,
   "id": "a625744c",
   "metadata": {},
   "outputs": [
    {
     "data": {
      "text/plain": [
       "date\n",
       "2012-11-30    25\n",
       "2012-12-31    23\n",
       "2013-02-28    23\n",
       "2012-03-31    19\n",
       "2012-04-30    19\n",
       "2012-06-30    19\n",
       "2013-03-31    18\n",
       "2012-01-31    18\n",
       "2012-10-31    17\n",
       "2012-02-29    17\n",
       "2013-01-31    16\n",
       "2012-05-31    16\n",
       "2012-07-31    12\n",
       "2012-09-30     4\n",
       "2012-08-31     2\n",
       "2015-08-31     2\n",
       "2013-10-31     1\n",
       "2014-08-31     1\n",
       "2014-07-31     1\n",
       "2015-01-31     1\n",
       "2015-04-30     1\n",
       "2014-10-31     1\n",
       "2013-08-31     1\n",
       "2013-07-31     1\n",
       "2015-10-31     1\n",
       "2015-07-31     0\n",
       "2015-06-30     0\n",
       "2015-05-31     0\n",
       "2015-03-31     0\n",
       "2015-02-28     0\n",
       "2014-11-30     0\n",
       "2015-11-30     0\n",
       "2014-12-31     0\n",
       "2015-09-30     0\n",
       "2014-01-31     0\n",
       "2014-09-30     0\n",
       "2014-06-30     0\n",
       "2014-05-31     0\n",
       "2014-04-30     0\n",
       "2014-03-31     0\n",
       "2014-02-28     0\n",
       "2013-12-31     0\n",
       "2013-11-30     0\n",
       "2013-09-30     0\n",
       "2013-06-30     0\n",
       "2013-05-31     0\n",
       "2013-04-30     0\n",
       "2015-12-31     0\n",
       "Name: rainy_day, dtype: int64"
      ]
     },
     "execution_count": 44,
     "metadata": {},
     "output_type": "execute_result"
    }
   ],
   "source": [
    "#resample by month to answer question\n",
    "#this only gives me monthly totals individuals\n",
    "seattle.rainy_day.resample('M').sum().sort_values(ascending=False)"
   ]
  },
  {
   "cell_type": "code",
   "execution_count": 45,
   "id": "426c45f5",
   "metadata": {},
   "outputs": [
    {
     "data": {
      "text/plain": [
       "January      124\n",
       "March        124\n",
       "May          124\n",
       "July         124\n",
       "August       124\n",
       "October      124\n",
       "December     124\n",
       "April        120\n",
       "June         120\n",
       "September    120\n",
       "November     120\n",
       "February     113\n",
       "Name: month, dtype: int64"
      ]
     },
     "execution_count": 45,
     "metadata": {},
     "output_type": "execute_result"
    }
   ],
   "source": [
    "seattle.month.value_counts()"
   ]
  },
  {
   "cell_type": "code",
   "execution_count": 46,
   "id": "763fee73",
   "metadata": {},
   "outputs": [
    {
     "data": {
      "text/plain": [
       "month\n",
       "November     642.5\n",
       "December     622.7\n",
       "March        606.2\n",
       "October      503.4\n",
       "January      466.0\n",
       "February     422.0\n",
       "April        375.4\n",
       "September    235.5\n",
       "May          207.5\n",
       "August       163.7\n",
       "June         132.9\n",
       "July          48.2\n",
       "Name: precipitation, dtype: float64"
      ]
     },
     "execution_count": 46,
     "metadata": {},
     "output_type": "execute_result"
    }
   ],
   "source": [
    "#by month... descending precipiation amounts\n",
    "seattle.groupby('month').precipitation.sum().sort_values(ascending=False)\n",
    "\n",
    "#November had 642.5 days of rain between 2012 and 2015"
   ]
  },
  {
   "cell_type": "code",
   "execution_count": 47,
   "id": "09800a8f",
   "metadata": {},
   "outputs": [
    {
     "data": {
      "text/plain": [
       "month\n",
       "February     40\n",
       "March        37\n",
       "January      35\n",
       "November     25\n",
       "December     23\n",
       "April        20\n",
       "October      20\n",
       "June         19\n",
       "May          16\n",
       "July         14\n",
       "August        6\n",
       "September     4\n",
       "Name: rainy_day, dtype: int64"
      ]
     },
     "execution_count": 47,
     "metadata": {},
     "output_type": "execute_result"
    }
   ],
   "source": [
    "#if we are asking... which month has the most days with rain\n",
    "#answer is February\n",
    "seattle.groupby('month').rainy_day.sum().sort_values(ascending=False)"
   ]
  },
  {
   "cell_type": "code",
   "execution_count": 48,
   "id": "580b0b4f",
   "metadata": {},
   "outputs": [
    {
     "data": {
      "text/plain": [
       "month\n",
       "November     5.354167\n",
       "December     5.021774\n",
       "March        4.888710\n",
       "October      4.059677\n",
       "January      3.758065\n",
       "February     3.734513\n",
       "April        3.128333\n",
       "September    1.962500\n",
       "May          1.673387\n",
       "August       1.320161\n",
       "June         1.107500\n",
       "July         0.388710\n",
       "Name: precipitation, dtype: float64"
      ]
     },
     "execution_count": 48,
     "metadata": {},
     "output_type": "execute_result"
    }
   ],
   "source": [
    "seattle.groupby('month').precipitation.mean().sort_values(ascending=False)"
   ]
  },
  {
   "cell_type": "markdown",
   "id": "44dd1c26",
   "metadata": {},
   "source": [
    "<b>7. Which month has the most number of days with a non-zero amount of precipitation?</b>\n",
    "- <b>Answer</b>: if using 'rain' from weather- February has the most rain\n",
    "- <b>Answer</b>: if using 'precipiation' column > 0, December has most rain"
   ]
  },
  {
   "cell_type": "code",
   "execution_count": 49,
   "id": "960d5678",
   "metadata": {},
   "outputs": [
    {
     "data": {
      "text/plain": [
       "month\n",
       "February     0.353982\n",
       "March        0.298387\n",
       "January      0.282258\n",
       "November     0.208333\n",
       "December     0.185484\n",
       "April        0.166667\n",
       "October      0.161290\n",
       "June         0.158333\n",
       "May          0.129032\n",
       "July         0.112903\n",
       "August       0.048387\n",
       "September    0.033333\n",
       "Name: rainy_day, dtype: float64"
      ]
     },
     "execution_count": 49,
     "metadata": {},
     "output_type": "execute_result"
    }
   ],
   "source": [
    "seattle.groupby('month').rainy_day.mean().sort_values(ascending=False)"
   ]
  },
  {
   "cell_type": "code",
   "execution_count": 50,
   "id": "13d58e21",
   "metadata": {},
   "outputs": [],
   "source": [
    "## Can also use precipitation\n",
    "seattle['precip_amnt'] = seattle.precipitation > 0"
   ]
  },
  {
   "cell_type": "code",
   "execution_count": 51,
   "id": "3a60ee64",
   "metadata": {},
   "outputs": [
    {
     "data": {
      "text/html": [
       "<div>\n",
       "<style scoped>\n",
       "    .dataframe tbody tr th:only-of-type {\n",
       "        vertical-align: middle;\n",
       "    }\n",
       "\n",
       "    .dataframe tbody tr th {\n",
       "        vertical-align: top;\n",
       "    }\n",
       "\n",
       "    .dataframe thead th {\n",
       "        text-align: right;\n",
       "    }\n",
       "</style>\n",
       "<table border=\"1\" class=\"dataframe\">\n",
       "  <thead>\n",
       "    <tr style=\"text-align: right;\">\n",
       "      <th></th>\n",
       "      <th>precipitation</th>\n",
       "      <th>temp_max</th>\n",
       "      <th>temp_min</th>\n",
       "      <th>wind</th>\n",
       "      <th>weather</th>\n",
       "      <th>sunny_day</th>\n",
       "      <th>rainy_day</th>\n",
       "      <th>month</th>\n",
       "      <th>precip_amnt</th>\n",
       "    </tr>\n",
       "    <tr>\n",
       "      <th>date</th>\n",
       "      <th></th>\n",
       "      <th></th>\n",
       "      <th></th>\n",
       "      <th></th>\n",
       "      <th></th>\n",
       "      <th></th>\n",
       "      <th></th>\n",
       "      <th></th>\n",
       "      <th></th>\n",
       "    </tr>\n",
       "  </thead>\n",
       "  <tbody>\n",
       "    <tr>\n",
       "      <th>2012-01-01</th>\n",
       "      <td>0.0</td>\n",
       "      <td>12.8</td>\n",
       "      <td>5.0</td>\n",
       "      <td>4.7</td>\n",
       "      <td>drizzle</td>\n",
       "      <td>False</td>\n",
       "      <td>False</td>\n",
       "      <td>January</td>\n",
       "      <td>False</td>\n",
       "    </tr>\n",
       "    <tr>\n",
       "      <th>2012-01-02</th>\n",
       "      <td>10.9</td>\n",
       "      <td>10.6</td>\n",
       "      <td>2.8</td>\n",
       "      <td>4.5</td>\n",
       "      <td>rain</td>\n",
       "      <td>False</td>\n",
       "      <td>True</td>\n",
       "      <td>January</td>\n",
       "      <td>True</td>\n",
       "    </tr>\n",
       "    <tr>\n",
       "      <th>2012-01-03</th>\n",
       "      <td>0.8</td>\n",
       "      <td>11.7</td>\n",
       "      <td>7.2</td>\n",
       "      <td>2.3</td>\n",
       "      <td>rain</td>\n",
       "      <td>False</td>\n",
       "      <td>True</td>\n",
       "      <td>January</td>\n",
       "      <td>True</td>\n",
       "    </tr>\n",
       "    <tr>\n",
       "      <th>2012-01-04</th>\n",
       "      <td>20.3</td>\n",
       "      <td>12.2</td>\n",
       "      <td>5.6</td>\n",
       "      <td>4.7</td>\n",
       "      <td>rain</td>\n",
       "      <td>False</td>\n",
       "      <td>True</td>\n",
       "      <td>January</td>\n",
       "      <td>True</td>\n",
       "    </tr>\n",
       "    <tr>\n",
       "      <th>2012-01-05</th>\n",
       "      <td>1.3</td>\n",
       "      <td>8.9</td>\n",
       "      <td>2.8</td>\n",
       "      <td>6.1</td>\n",
       "      <td>rain</td>\n",
       "      <td>False</td>\n",
       "      <td>True</td>\n",
       "      <td>January</td>\n",
       "      <td>True</td>\n",
       "    </tr>\n",
       "  </tbody>\n",
       "</table>\n",
       "</div>"
      ],
      "text/plain": [
       "            precipitation  temp_max  temp_min  wind  weather  sunny_day  \\\n",
       "date                                                                      \n",
       "2012-01-01            0.0      12.8       5.0   4.7  drizzle      False   \n",
       "2012-01-02           10.9      10.6       2.8   4.5     rain      False   \n",
       "2012-01-03            0.8      11.7       7.2   2.3     rain      False   \n",
       "2012-01-04           20.3      12.2       5.6   4.7     rain      False   \n",
       "2012-01-05            1.3       8.9       2.8   6.1     rain      False   \n",
       "\n",
       "            rainy_day    month  precip_amnt  \n",
       "date                                         \n",
       "2012-01-01      False  January        False  \n",
       "2012-01-02       True  January         True  \n",
       "2012-01-03       True  January         True  \n",
       "2012-01-04       True  January         True  \n",
       "2012-01-05       True  January         True  "
      ]
     },
     "execution_count": 51,
     "metadata": {},
     "output_type": "execute_result"
    }
   ],
   "source": [
    "#look at column\n",
    "seattle.head()"
   ]
  },
  {
   "cell_type": "code",
   "execution_count": 52,
   "id": "eaafffa5",
   "metadata": {},
   "outputs": [
    {
     "data": {
      "text/plain": [
       "month\n",
       "December     0.653226\n",
       "February     0.646018\n",
       "November     0.591667\n",
       "March        0.588710\n",
       "January      0.532258\n",
       "October      0.491935\n",
       "April        0.491667\n",
       "June         0.308333\n",
       "September    0.291667\n",
       "May          0.274194\n",
       "August       0.177419\n",
       "July         0.088710\n",
       "Name: precip_amnt, dtype: float64"
      ]
     },
     "execution_count": 52,
     "metadata": {},
     "output_type": "execute_result"
    }
   ],
   "source": [
    "seattle.groupby('month').precip_amnt.mean().sort_values(ascending=False)"
   ]
  },
  {
   "cell_type": "markdown",
   "id": "60a3d443",
   "metadata": {},
   "source": [
    "<hr style=\"border:2px solid gray\">"
   ]
  },
  {
   "cell_type": "markdown",
   "id": "de8033f8",
   "metadata": {},
   "source": [
    "### Part III: ```flights_20k```"
   ]
  },
  {
   "cell_type": "markdown",
   "id": "8ec8ffec",
   "metadata": {},
   "source": [
    "Use the ```flights_20k``` dataset for the following exercises:\n",
    "\n",
    "1. Convert any negative delays to 0.\n",
    "2. Which hour of the day has the highest average delay?\n",
    "3. Does the day of the week make a difference in the delay amount?\n",
    "4. Does the month make a difference in the delay amount?"
   ]
  },
  {
   "cell_type": "code",
   "execution_count": 53,
   "id": "b837287a",
   "metadata": {},
   "outputs": [
    {
     "data": {
      "text/html": [
       "<div>\n",
       "<style scoped>\n",
       "    .dataframe tbody tr th:only-of-type {\n",
       "        vertical-align: middle;\n",
       "    }\n",
       "\n",
       "    .dataframe tbody tr th {\n",
       "        vertical-align: top;\n",
       "    }\n",
       "\n",
       "    .dataframe thead th {\n",
       "        text-align: right;\n",
       "    }\n",
       "</style>\n",
       "<table border=\"1\" class=\"dataframe\">\n",
       "  <thead>\n",
       "    <tr style=\"text-align: right;\">\n",
       "      <th></th>\n",
       "      <th>date</th>\n",
       "      <th>delay</th>\n",
       "      <th>distance</th>\n",
       "      <th>origin</th>\n",
       "      <th>destination</th>\n",
       "    </tr>\n",
       "  </thead>\n",
       "  <tbody>\n",
       "    <tr>\n",
       "      <th>0</th>\n",
       "      <td>2001-01-13 14:56:00</td>\n",
       "      <td>32</td>\n",
       "      <td>417</td>\n",
       "      <td>SAN</td>\n",
       "      <td>SJC</td>\n",
       "    </tr>\n",
       "    <tr>\n",
       "      <th>1</th>\n",
       "      <td>2001-01-31 16:40:00</td>\n",
       "      <td>-5</td>\n",
       "      <td>1093</td>\n",
       "      <td>FLL</td>\n",
       "      <td>ISP</td>\n",
       "    </tr>\n",
       "    <tr>\n",
       "      <th>2</th>\n",
       "      <td>2001-02-11 18:39:00</td>\n",
       "      <td>3</td>\n",
       "      <td>293</td>\n",
       "      <td>LBB</td>\n",
       "      <td>DAL</td>\n",
       "    </tr>\n",
       "    <tr>\n",
       "      <th>3</th>\n",
       "      <td>2001-01-10 21:00:00</td>\n",
       "      <td>-15</td>\n",
       "      <td>550</td>\n",
       "      <td>MSY</td>\n",
       "      <td>MCO</td>\n",
       "    </tr>\n",
       "    <tr>\n",
       "      <th>4</th>\n",
       "      <td>2001-03-30 21:45:00</td>\n",
       "      <td>-2</td>\n",
       "      <td>229</td>\n",
       "      <td>STL</td>\n",
       "      <td>IND</td>\n",
       "    </tr>\n",
       "  </tbody>\n",
       "</table>\n",
       "</div>"
      ],
      "text/plain": [
       "                 date  delay  distance origin destination\n",
       "0 2001-01-13 14:56:00     32       417    SAN         SJC\n",
       "1 2001-01-31 16:40:00     -5      1093    FLL         ISP\n",
       "2 2001-02-11 18:39:00      3       293    LBB         DAL\n",
       "3 2001-01-10 21:00:00    -15       550    MSY         MCO\n",
       "4 2001-03-30 21:45:00     -2       229    STL         IND"
      ]
     },
     "execution_count": 53,
     "metadata": {},
     "output_type": "execute_result"
    }
   ],
   "source": [
    "flights = data.flights_20k()\n",
    "flights.head()"
   ]
  },
  {
   "cell_type": "code",
   "execution_count": 54,
   "id": "46952c31",
   "metadata": {},
   "outputs": [
    {
     "name": "stdout",
     "output_type": "stream",
     "text": [
      "<class 'pandas.core.frame.DataFrame'>\n",
      "RangeIndex: 20000 entries, 0 to 19999\n",
      "Data columns (total 5 columns):\n",
      " #   Column       Non-Null Count  Dtype         \n",
      "---  ------       --------------  -----         \n",
      " 0   date         20000 non-null  datetime64[ns]\n",
      " 1   delay        20000 non-null  int64         \n",
      " 2   distance     20000 non-null  int64         \n",
      " 3   origin       20000 non-null  object        \n",
      " 4   destination  20000 non-null  object        \n",
      "dtypes: datetime64[ns](1), int64(2), object(2)\n",
      "memory usage: 781.4+ KB\n"
     ]
    }
   ],
   "source": [
    "#check dtypes\n",
    "flights.info()"
   ]
  },
  {
   "cell_type": "code",
   "execution_count": 55,
   "id": "71a8ecd9",
   "metadata": {},
   "outputs": [
    {
     "data": {
      "text/plain": [
       "pandas.core.indexes.range.RangeIndex"
      ]
     },
     "execution_count": 55,
     "metadata": {},
     "output_type": "execute_result"
    }
   ],
   "source": [
    "#check the index- should be date\n",
    "type(flights.index)"
   ]
  },
  {
   "cell_type": "code",
   "execution_count": 56,
   "id": "1c4a9979",
   "metadata": {},
   "outputs": [],
   "source": [
    "#must complete step 2&3 (set date as index and sort)\n",
    "flights = flights.set_index('date').sort_index()"
   ]
  },
  {
   "cell_type": "code",
   "execution_count": 57,
   "id": "7380a7d4",
   "metadata": {},
   "outputs": [
    {
     "data": {
      "text/plain": [
       "pandas.core.indexes.datetimes.DatetimeIndex"
      ]
     },
     "execution_count": 57,
     "metadata": {},
     "output_type": "execute_result"
    }
   ],
   "source": [
    "#confirm the change\n",
    "type(flights.index)"
   ]
  },
  {
   "cell_type": "markdown",
   "id": "112ccdd3",
   "metadata": {},
   "source": [
    "<b>1. Convert any negative delays to 0.</b>"
   ]
  },
  {
   "cell_type": "code",
   "execution_count": 58,
   "id": "9b4cd111",
   "metadata": {},
   "outputs": [
    {
     "data": {
      "text/html": [
       "<div>\n",
       "<style scoped>\n",
       "    .dataframe tbody tr th:only-of-type {\n",
       "        vertical-align: middle;\n",
       "    }\n",
       "\n",
       "    .dataframe tbody tr th {\n",
       "        vertical-align: top;\n",
       "    }\n",
       "\n",
       "    .dataframe thead th {\n",
       "        text-align: right;\n",
       "    }\n",
       "</style>\n",
       "<table border=\"1\" class=\"dataframe\">\n",
       "  <thead>\n",
       "    <tr style=\"text-align: right;\">\n",
       "      <th></th>\n",
       "      <th>delay</th>\n",
       "      <th>distance</th>\n",
       "      <th>origin</th>\n",
       "      <th>destination</th>\n",
       "    </tr>\n",
       "    <tr>\n",
       "      <th>date</th>\n",
       "      <th></th>\n",
       "      <th></th>\n",
       "      <th></th>\n",
       "      <th></th>\n",
       "    </tr>\n",
       "  </thead>\n",
       "  <tbody>\n",
       "    <tr>\n",
       "      <th>2001-02-06 17:45:00</th>\n",
       "      <td>0</td>\n",
       "      <td>787</td>\n",
       "      <td>MCO</td>\n",
       "      <td>BWI</td>\n",
       "    </tr>\n",
       "    <tr>\n",
       "      <th>2001-01-04 09:25:00</th>\n",
       "      <td>0</td>\n",
       "      <td>288</td>\n",
       "      <td>ALB</td>\n",
       "      <td>BWI</td>\n",
       "    </tr>\n",
       "    <tr>\n",
       "      <th>2001-02-23 20:25:00</th>\n",
       "      <td>57</td>\n",
       "      <td>180</td>\n",
       "      <td>OAK</td>\n",
       "      <td>RNO</td>\n",
       "    </tr>\n",
       "    <tr>\n",
       "      <th>2001-03-17 08:05:00</th>\n",
       "      <td>8</td>\n",
       "      <td>314</td>\n",
       "      <td>BWI</td>\n",
       "      <td>CLE</td>\n",
       "    </tr>\n",
       "    <tr>\n",
       "      <th>2001-03-06 12:55:00</th>\n",
       "      <td>0</td>\n",
       "      <td>1069</td>\n",
       "      <td>SAT</td>\n",
       "      <td>LAS</td>\n",
       "    </tr>\n",
       "  </tbody>\n",
       "</table>\n",
       "</div>"
      ],
      "text/plain": [
       "                     delay  distance origin destination\n",
       "date                                                   \n",
       "2001-02-06 17:45:00      0       787    MCO         BWI\n",
       "2001-01-04 09:25:00      0       288    ALB         BWI\n",
       "2001-02-23 20:25:00     57       180    OAK         RNO\n",
       "2001-03-17 08:05:00      8       314    BWI         CLE\n",
       "2001-03-06 12:55:00      0      1069    SAT         LAS"
      ]
     },
     "execution_count": 58,
     "metadata": {},
     "output_type": "execute_result"
    }
   ],
   "source": [
    "#Correct all negative delays to 0 using np.where\n",
    "flights['delay'] = np.where(flights['delay'] < 0, 0, flights['delay'])\n",
    "\n",
    "#make sure it worked\n",
    "flights.sample(5)"
   ]
  },
  {
   "cell_type": "markdown",
   "id": "0ce3b157",
   "metadata": {},
   "source": [
    "<b>2. Which hour of the day has the highest average delay?</b>\n",
    "- <b>Answer</b>: 3am (03) with 302.6 average minutes of delay"
   ]
  },
  {
   "cell_type": "code",
   "execution_count": 59,
   "id": "41e78de7",
   "metadata": {},
   "outputs": [
    {
     "data": {
      "text/html": [
       "<div>\n",
       "<style scoped>\n",
       "    .dataframe tbody tr th:only-of-type {\n",
       "        vertical-align: middle;\n",
       "    }\n",
       "\n",
       "    .dataframe tbody tr th {\n",
       "        vertical-align: top;\n",
       "    }\n",
       "\n",
       "    .dataframe thead th {\n",
       "        text-align: right;\n",
       "    }\n",
       "</style>\n",
       "<table border=\"1\" class=\"dataframe\">\n",
       "  <thead>\n",
       "    <tr style=\"text-align: right;\">\n",
       "      <th></th>\n",
       "      <th>delay</th>\n",
       "      <th>distance</th>\n",
       "      <th>origin</th>\n",
       "      <th>destination</th>\n",
       "      <th>hour</th>\n",
       "    </tr>\n",
       "    <tr>\n",
       "      <th>date</th>\n",
       "      <th></th>\n",
       "      <th></th>\n",
       "      <th></th>\n",
       "      <th></th>\n",
       "      <th></th>\n",
       "    </tr>\n",
       "  </thead>\n",
       "  <tbody>\n",
       "    <tr>\n",
       "      <th>2001-03-02 14:00:00</th>\n",
       "      <td>0</td>\n",
       "      <td>192</td>\n",
       "      <td>HOU</td>\n",
       "      <td>SAT</td>\n",
       "      <td>14</td>\n",
       "    </tr>\n",
       "    <tr>\n",
       "      <th>2001-03-11 19:01:00</th>\n",
       "      <td>29</td>\n",
       "      <td>239</td>\n",
       "      <td>DAL</td>\n",
       "      <td>HOU</td>\n",
       "      <td>19</td>\n",
       "    </tr>\n",
       "    <tr>\n",
       "      <th>2001-02-01 10:05:00</th>\n",
       "      <td>0</td>\n",
       "      <td>217</td>\n",
       "      <td>IAH</td>\n",
       "      <td>DAL</td>\n",
       "      <td>10</td>\n",
       "    </tr>\n",
       "  </tbody>\n",
       "</table>\n",
       "</div>"
      ],
      "text/plain": [
       "                     delay  distance origin destination hour\n",
       "date                                                        \n",
       "2001-03-02 14:00:00      0       192    HOU         SAT   14\n",
       "2001-03-11 19:01:00     29       239    DAL         HOU   19\n",
       "2001-02-01 10:05:00      0       217    IAH         DAL   10"
      ]
     },
     "execution_count": 59,
     "metadata": {},
     "output_type": "execute_result"
    }
   ],
   "source": [
    "#Create an hour column\n",
    "flights['hour'] = flights.index.strftime('%H')\n",
    "flights.sample(3)"
   ]
  },
  {
   "cell_type": "code",
   "execution_count": 60,
   "id": "611fb7e0",
   "metadata": {},
   "outputs": [
    {
     "data": {
      "text/plain": [
       "hour\n",
       "03    302.5\n",
       "Name: delay, dtype: float64"
      ]
     },
     "execution_count": 60,
     "metadata": {},
     "output_type": "execute_result"
    }
   ],
   "source": [
    "#Group by hour to find the hour with the greatest average delay\n",
    "flights.groupby('hour').delay.mean().sort_values(ascending=False).head(1)"
   ]
  },
  {
   "cell_type": "code",
   "execution_count": 61,
   "id": "0f304a27",
   "metadata": {},
   "outputs": [
    {
     "data": {
      "text/plain": [
       "'03'"
      ]
     },
     "execution_count": 61,
     "metadata": {},
     "output_type": "execute_result"
    }
   ],
   "source": [
    "#Use idxmax to return the hour\n",
    "flights.groupby('hour').delay.mean().idxmax()"
   ]
  },
  {
   "cell_type": "markdown",
   "id": "e0e55df1",
   "metadata": {},
   "source": [
    "<b>3. Does the day of the week make a difference in the delay amount?</b>\n",
    "- <b>Answer</b>: Yes. The weekday does matter\n",
    "    - Friday has the longest delay. Monday has the shortest delay.\n",
    "    - BUT Wednesday has the most delays and Saturday has the least delays"
   ]
  },
  {
   "cell_type": "code",
   "execution_count": 62,
   "id": "bdd5dc47",
   "metadata": {},
   "outputs": [
    {
     "data": {
      "text/plain": [
       "date\n",
       "2001-01-01     8.747126\n",
       "2001-01-02    21.808411\n",
       "2001-01-03    17.150000\n",
       "2001-01-04     7.176724\n",
       "2001-01-05     9.294118\n",
       "                ...    \n",
       "2001-03-27     4.669683\n",
       "2001-03-28     3.551282\n",
       "2001-03-29    13.545455\n",
       "2001-03-30     8.893162\n",
       "2001-03-31     7.000000\n",
       "Freq: D, Name: delay, Length: 90, dtype: float64"
      ]
     },
     "execution_count": 62,
     "metadata": {},
     "output_type": "execute_result"
    }
   ],
   "source": [
    "flights.resample('D').delay.mean()"
   ]
  },
  {
   "cell_type": "code",
   "execution_count": 63,
   "id": "a38c6b1b",
   "metadata": {},
   "outputs": [],
   "source": [
    "flights['day'] = flights.index.day_name()"
   ]
  },
  {
   "cell_type": "code",
   "execution_count": 64,
   "id": "695782b2",
   "metadata": {},
   "outputs": [
    {
     "data": {
      "text/html": [
       "<div>\n",
       "<style scoped>\n",
       "    .dataframe tbody tr th:only-of-type {\n",
       "        vertical-align: middle;\n",
       "    }\n",
       "\n",
       "    .dataframe tbody tr th {\n",
       "        vertical-align: top;\n",
       "    }\n",
       "\n",
       "    .dataframe thead th {\n",
       "        text-align: right;\n",
       "    }\n",
       "</style>\n",
       "<table border=\"1\" class=\"dataframe\">\n",
       "  <thead>\n",
       "    <tr style=\"text-align: right;\">\n",
       "      <th></th>\n",
       "      <th>delay</th>\n",
       "      <th>distance</th>\n",
       "      <th>origin</th>\n",
       "      <th>destination</th>\n",
       "      <th>hour</th>\n",
       "      <th>day</th>\n",
       "    </tr>\n",
       "    <tr>\n",
       "      <th>date</th>\n",
       "      <th></th>\n",
       "      <th></th>\n",
       "      <th></th>\n",
       "      <th></th>\n",
       "      <th></th>\n",
       "      <th></th>\n",
       "    </tr>\n",
       "  </thead>\n",
       "  <tbody>\n",
       "    <tr>\n",
       "      <th>2001-03-09 08:20:00</th>\n",
       "      <td>0</td>\n",
       "      <td>407</td>\n",
       "      <td>LAS</td>\n",
       "      <td>OAK</td>\n",
       "      <td>08</td>\n",
       "      <td>Friday</td>\n",
       "    </tr>\n",
       "    <tr>\n",
       "      <th>2001-02-19 09:10:00</th>\n",
       "      <td>0</td>\n",
       "      <td>628</td>\n",
       "      <td>SAN</td>\n",
       "      <td>ABQ</td>\n",
       "      <td>09</td>\n",
       "      <td>Monday</td>\n",
       "    </tr>\n",
       "    <tr>\n",
       "      <th>2001-03-21 20:25:00</th>\n",
       "      <td>0</td>\n",
       "      <td>842</td>\n",
       "      <td>TPA</td>\n",
       "      <td>BWI</td>\n",
       "      <td>20</td>\n",
       "      <td>Wednesday</td>\n",
       "    </tr>\n",
       "    <tr>\n",
       "      <th>2001-01-04 11:50:00</th>\n",
       "      <td>20</td>\n",
       "      <td>370</td>\n",
       "      <td>LAX</td>\n",
       "      <td>PHX</td>\n",
       "      <td>11</td>\n",
       "      <td>Thursday</td>\n",
       "    </tr>\n",
       "    <tr>\n",
       "      <th>2001-02-16 10:30:00</th>\n",
       "      <td>0</td>\n",
       "      <td>1444</td>\n",
       "      <td>MDW</td>\n",
       "      <td>PHX</td>\n",
       "      <td>10</td>\n",
       "      <td>Friday</td>\n",
       "    </tr>\n",
       "  </tbody>\n",
       "</table>\n",
       "</div>"
      ],
      "text/plain": [
       "                     delay  distance origin destination hour        day\n",
       "date                                                                   \n",
       "2001-03-09 08:20:00      0       407    LAS         OAK   08     Friday\n",
       "2001-02-19 09:10:00      0       628    SAN         ABQ   09     Monday\n",
       "2001-03-21 20:25:00      0       842    TPA         BWI   20  Wednesday\n",
       "2001-01-04 11:50:00     20       370    LAX         PHX   11   Thursday\n",
       "2001-02-16 10:30:00      0      1444    MDW         PHX   10     Friday"
      ]
     },
     "execution_count": 64,
     "metadata": {},
     "output_type": "execute_result"
    }
   ],
   "source": [
    "flights.sample(5)"
   ]
  },
  {
   "cell_type": "code",
   "execution_count": 65,
   "id": "6e7150ae",
   "metadata": {},
   "outputs": [
    {
     "data": {
      "text/plain": [
       "day\n",
       "Friday       17.757596\n",
       "Thursday     12.821322\n",
       "Wednesday    11.032478\n",
       "Sunday       10.413542\n",
       "Tuesday       9.410866\n",
       "Saturday      8.431498\n",
       "Monday        7.165772\n",
       "Name: delay, dtype: float64"
      ]
     },
     "execution_count": 65,
     "metadata": {},
     "output_type": "execute_result"
    }
   ],
   "source": [
    "weekday_delay = flights.groupby('day').delay.mean().sort_values(ascending=False)\n",
    "weekday_delay"
   ]
  },
  {
   "cell_type": "code",
   "execution_count": 66,
   "id": "294f908d",
   "metadata": {},
   "outputs": [
    {
     "data": {
      "text/plain": [
       "Wednesday    3079\n",
       "Friday       3028\n",
       "Thursday     3011\n",
       "Monday       2980\n",
       "Tuesday      2945\n",
       "Sunday       2614\n",
       "Saturday     2343\n",
       "Name: day, dtype: int64"
      ]
     },
     "execution_count": 66,
     "metadata": {},
     "output_type": "execute_result"
    }
   ],
   "source": [
    "#see what days have what number of delays\n",
    "flights.day.value_counts()"
   ]
  },
  {
   "cell_type": "code",
   "execution_count": 67,
   "id": "77cdd425",
   "metadata": {},
   "outputs": [
    {
     "data": {
      "image/png": "[encoded data removed]",
      "text/plain": [
       "<Figure size 640x480 with 1 Axes>"
      ]
     },
     "metadata": {},
     "output_type": "display_data"
    }
   ],
   "source": [
    "#plot the average delay time by day\n",
    "weekday_delay.plot()\n",
    "plt.title('Average Delay (in minutes) by Weekday')\n",
    "plt.ylabel('Average Delay in Minutes')\n",
    "plt.show()"
   ]
  },
  {
   "cell_type": "markdown",
   "id": "becdb6ad",
   "metadata": {},
   "source": [
    "<b>4. Does the month make a difference in the delay amount?</b>"
   ]
  },
  {
   "cell_type": "code",
   "execution_count": 68,
   "id": "92558fc6",
   "metadata": {},
   "outputs": [],
   "source": [
    "#create a column for month\n",
    "flights['month'] = flights.index.month_name()"
   ]
  },
  {
   "cell_type": "code",
   "execution_count": 69,
   "id": "470396e5",
   "metadata": {},
   "outputs": [
    {
     "data": {
      "text/html": [
       "<div>\n",
       "<style scoped>\n",
       "    .dataframe tbody tr th:only-of-type {\n",
       "        vertical-align: middle;\n",
       "    }\n",
       "\n",
       "    .dataframe tbody tr th {\n",
       "        vertical-align: top;\n",
       "    }\n",
       "\n",
       "    .dataframe thead th {\n",
       "        text-align: right;\n",
       "    }\n",
       "</style>\n",
       "<table border=\"1\" class=\"dataframe\">\n",
       "  <thead>\n",
       "    <tr style=\"text-align: right;\">\n",
       "      <th></th>\n",
       "      <th>delay</th>\n",
       "      <th>distance</th>\n",
       "      <th>origin</th>\n",
       "      <th>destination</th>\n",
       "      <th>hour</th>\n",
       "      <th>day</th>\n",
       "      <th>month</th>\n",
       "    </tr>\n",
       "    <tr>\n",
       "      <th>date</th>\n",
       "      <th></th>\n",
       "      <th></th>\n",
       "      <th></th>\n",
       "      <th></th>\n",
       "      <th></th>\n",
       "      <th></th>\n",
       "      <th></th>\n",
       "    </tr>\n",
       "  </thead>\n",
       "  <tbody>\n",
       "    <tr>\n",
       "      <th>2001-03-02 21:00:00</th>\n",
       "      <td>38</td>\n",
       "      <td>373</td>\n",
       "      <td>SMF</td>\n",
       "      <td>LAX</td>\n",
       "      <td>21</td>\n",
       "      <td>Friday</td>\n",
       "      <td>March</td>\n",
       "    </tr>\n",
       "    <tr>\n",
       "      <th>2001-01-19 14:35:00</th>\n",
       "      <td>0</td>\n",
       "      <td>682</td>\n",
       "      <td>BHM</td>\n",
       "      <td>BWI</td>\n",
       "      <td>14</td>\n",
       "      <td>Friday</td>\n",
       "      <td>January</td>\n",
       "    </tr>\n",
       "    <tr>\n",
       "      <th>2001-03-07 19:45:00</th>\n",
       "      <td>0</td>\n",
       "      <td>351</td>\n",
       "      <td>STL</td>\n",
       "      <td>TUL</td>\n",
       "      <td>19</td>\n",
       "      <td>Wednesday</td>\n",
       "      <td>March</td>\n",
       "    </tr>\n",
       "    <tr>\n",
       "      <th>2001-03-27 18:05:00</th>\n",
       "      <td>0</td>\n",
       "      <td>236</td>\n",
       "      <td>LAX</td>\n",
       "      <td>LAS</td>\n",
       "      <td>18</td>\n",
       "      <td>Tuesday</td>\n",
       "      <td>March</td>\n",
       "    </tr>\n",
       "    <tr>\n",
       "      <th>2001-01-21 17:50:00</th>\n",
       "      <td>0</td>\n",
       "      <td>389</td>\n",
       "      <td>ONT</td>\n",
       "      <td>SMF</td>\n",
       "      <td>17</td>\n",
       "      <td>Sunday</td>\n",
       "      <td>January</td>\n",
       "    </tr>\n",
       "  </tbody>\n",
       "</table>\n",
       "</div>"
      ],
      "text/plain": [
       "                     delay  distance origin destination hour        day  \\\n",
       "date                                                                      \n",
       "2001-03-02 21:00:00     38       373    SMF         LAX   21     Friday   \n",
       "2001-01-19 14:35:00      0       682    BHM         BWI   14     Friday   \n",
       "2001-03-07 19:45:00      0       351    STL         TUL   19  Wednesday   \n",
       "2001-03-27 18:05:00      0       236    LAX         LAS   18    Tuesday   \n",
       "2001-01-21 17:50:00      0       389    ONT         SMF   17     Sunday   \n",
       "\n",
       "                       month  \n",
       "date                          \n",
       "2001-03-02 21:00:00    March  \n",
       "2001-01-19 14:35:00  January  \n",
       "2001-03-07 19:45:00    March  \n",
       "2001-03-27 18:05:00    March  \n",
       "2001-01-21 17:50:00  January  "
      ]
     },
     "execution_count": 69,
     "metadata": {},
     "output_type": "execute_result"
    }
   ],
   "source": [
    "#make sure column was created\n",
    "flights.sample(5)"
   ]
  },
  {
   "cell_type": "code",
   "execution_count": 70,
   "id": "ed0cdbc8",
   "metadata": {},
   "outputs": [
    {
     "data": {
      "text/plain": [
       "month\n",
       "February    12.306106\n",
       "January     11.301592\n",
       "March        9.875287\n",
       "Name: delay, dtype: float64"
      ]
     },
     "execution_count": 70,
     "metadata": {},
     "output_type": "execute_result"
    }
   ],
   "source": [
    "#see average minutes of delay by month\n",
    "monthly_delay = flights.groupby('month').delay.mean()\n",
    "monthly_delay"
   ]
  },
  {
   "cell_type": "code",
   "execution_count": 71,
   "id": "20f2c4f0",
   "metadata": {},
   "outputs": [
    {
     "data": {
      "text/plain": [
       "March       6960\n",
       "January     6784\n",
       "February    6256\n",
       "Name: month, dtype: int64"
      ]
     },
     "execution_count": 71,
     "metadata": {},
     "output_type": "execute_result"
    }
   ],
   "source": [
    "#see how many delays are in each month\n",
    "flights.month.value_counts()"
   ]
  },
  {
   "cell_type": "code",
   "execution_count": 72,
   "id": "11239d7a",
   "metadata": {},
   "outputs": [
    {
     "data": {
      "image/png": "[encoded data removed]",
      "text/plain": [
       "<Figure size 640x480 with 1 Axes>"
      ]
     },
     "metadata": {},
     "output_type": "display_data"
    }
   ],
   "source": [
    "monthly_delay.plot()\n",
    "plt.title('Average Delay (in minutes) by Month')\n",
    "plt.ylabel('Average Delay in Minutes')\n",
    "plt.show()"
   ]
  },
  {
   "cell_type": "markdown",
   "id": "b4eeef10",
   "metadata": {},
   "source": [
    "<hr style=\"border:2px solid gray\">\n",
    "<hr style=\"border:2px solid gray\">"
   ]
  },
  {
   "cell_type": "markdown",
   "id": "54022e99",
   "metadata": {},
   "source": [
    "### Bonus I : ```iowa_electricity```"
   ]
  },
  {
   "cell_type": "markdown",
   "id": "f8e0c7c6",
   "metadata": {},
   "source": [
    "Use the ```iowa_electricity``` dataset for the following exercises:\n",
    "\n",
    "1. For each row, calculate the percentage of the year's total that energy source provided.\n",
    "2. Lineplot of generation over time, color by source\n",
    "3. Display the data as table where years are columns, and energy source is rows (Hint: df.pivot_table)\n",
    "4. Make a line plot that shows the amount of energy generated over time. Each source should be a separate line?\n",
    "5. Is the total generation increasing over time?\n",
    "- How would you control for increasing consumption over time when considering how much energy is coming from each source?\n",
    "- Express each number as a % of the year's total"
   ]
  },
  {
   "cell_type": "code",
   "execution_count": 73,
   "id": "a4abac24",
   "metadata": {},
   "outputs": [
    {
     "data": {
      "text/html": [
       "<div>\n",
       "<style scoped>\n",
       "    .dataframe tbody tr th:only-of-type {\n",
       "        vertical-align: middle;\n",
       "    }\n",
       "\n",
       "    .dataframe tbody tr th {\n",
       "        vertical-align: top;\n",
       "    }\n",
       "\n",
       "    .dataframe thead th {\n",
       "        text-align: right;\n",
       "    }\n",
       "</style>\n",
       "<table border=\"1\" class=\"dataframe\">\n",
       "  <thead>\n",
       "    <tr style=\"text-align: right;\">\n",
       "      <th></th>\n",
       "      <th>year</th>\n",
       "      <th>source</th>\n",
       "      <th>net_generation</th>\n",
       "    </tr>\n",
       "  </thead>\n",
       "  <tbody>\n",
       "    <tr>\n",
       "      <th>47</th>\n",
       "      <td>2014-01-01</td>\n",
       "      <td>Renewables</td>\n",
       "      <td>17452</td>\n",
       "    </tr>\n",
       "    <tr>\n",
       "      <th>38</th>\n",
       "      <td>2005-01-01</td>\n",
       "      <td>Renewables</td>\n",
       "      <td>2724</td>\n",
       "    </tr>\n",
       "    <tr>\n",
       "      <th>11</th>\n",
       "      <td>2012-01-01</td>\n",
       "      <td>Fossil Fuels</td>\n",
       "      <td>37379</td>\n",
       "    </tr>\n",
       "    <tr>\n",
       "      <th>7</th>\n",
       "      <td>2008-01-01</td>\n",
       "      <td>Fossil Fuels</td>\n",
       "      <td>42734</td>\n",
       "    </tr>\n",
       "    <tr>\n",
       "      <th>40</th>\n",
       "      <td>2007-01-01</td>\n",
       "      <td>Renewables</td>\n",
       "      <td>3870</td>\n",
       "    </tr>\n",
       "  </tbody>\n",
       "</table>\n",
       "</div>"
      ],
      "text/plain": [
       "         year        source  net_generation\n",
       "47 2014-01-01    Renewables           17452\n",
       "38 2005-01-01    Renewables            2724\n",
       "11 2012-01-01  Fossil Fuels           37379\n",
       "7  2008-01-01  Fossil Fuels           42734\n",
       "40 2007-01-01    Renewables            3870"
      ]
     },
     "execution_count": 73,
     "metadata": {},
     "output_type": "execute_result"
    }
   ],
   "source": [
    "#acquire data and assign to variable\n",
    "iowa = data.iowa_electricity()\n",
    "\n",
    "#take a look\n",
    "iowa.sample(5)"
   ]
  },
  {
   "cell_type": "code",
   "execution_count": 74,
   "id": "98ac2f0f",
   "metadata": {},
   "outputs": [
    {
     "name": "stdout",
     "output_type": "stream",
     "text": [
      "<class 'pandas.core.frame.DataFrame'>\n",
      "RangeIndex: 51 entries, 0 to 50\n",
      "Data columns (total 3 columns):\n",
      " #   Column          Non-Null Count  Dtype         \n",
      "---  ------          --------------  -----         \n",
      " 0   year            51 non-null     datetime64[ns]\n",
      " 1   source          51 non-null     object        \n",
      " 2   net_generation  51 non-null     int64         \n",
      "dtypes: datetime64[ns](1), int64(1), object(1)\n",
      "memory usage: 1.3+ KB\n"
     ]
    }
   ],
   "source": [
    "#check dtypes\n",
    "iowa.info()"
   ]
  },
  {
   "cell_type": "markdown",
   "id": "f7775946",
   "metadata": {},
   "source": [
    "<div class=\"alert alert-block alert-success\">\n",
    "<b>Takeaways:</b>\n",
    "<br>\n",
    "\n",
    "- The dataframe only has three columns (year, source and net)\n",
    "<br>\n",
    "\n",
    "- We want to set the year to our index\n",
    "<br>\n",
    "\n",
    "- If year was not already a datetime64[ns], we would need to convert it to one \n",
    "\n",
    "</div>"
   ]
  },
  {
   "cell_type": "code",
   "execution_count": 75,
   "id": "76a3ab72",
   "metadata": {},
   "outputs": [
    {
     "data": {
      "text/plain": [
       "pandas.core.indexes.range.RangeIndex"
      ]
     },
     "execution_count": 75,
     "metadata": {},
     "output_type": "execute_result"
    }
   ],
   "source": [
    "#check index, make sure it's set to year\n",
    "type(iowa.index)"
   ]
  },
  {
   "cell_type": "code",
   "execution_count": 76,
   "id": "fa1b4426",
   "metadata": {},
   "outputs": [],
   "source": [
    "#set date as index and sort\n",
    "iowa = iowa.set_index('year').sort_index()"
   ]
  },
  {
   "cell_type": "code",
   "execution_count": 77,
   "id": "e62c20f3",
   "metadata": {},
   "outputs": [
    {
     "data": {
      "text/plain": [
       "pandas.core.indexes.datetimes.DatetimeIndex"
      ]
     },
     "execution_count": 77,
     "metadata": {},
     "output_type": "execute_result"
    }
   ],
   "source": [
    "#confirm index is changed\n",
    "type(iowa.index)"
   ]
  },
  {
   "cell_type": "code",
   "execution_count": 78,
   "id": "a0192f89",
   "metadata": {},
   "outputs": [
    {
     "data": {
      "text/html": [
       "<div>\n",
       "<style scoped>\n",
       "    .dataframe tbody tr th:only-of-type {\n",
       "        vertical-align: middle;\n",
       "    }\n",
       "\n",
       "    .dataframe tbody tr th {\n",
       "        vertical-align: top;\n",
       "    }\n",
       "\n",
       "    .dataframe thead th {\n",
       "        text-align: right;\n",
       "    }\n",
       "</style>\n",
       "<table border=\"1\" class=\"dataframe\">\n",
       "  <thead>\n",
       "    <tr style=\"text-align: right;\">\n",
       "      <th></th>\n",
       "      <th>source</th>\n",
       "      <th>net_generation</th>\n",
       "    </tr>\n",
       "    <tr>\n",
       "      <th>year</th>\n",
       "      <th></th>\n",
       "      <th></th>\n",
       "    </tr>\n",
       "  </thead>\n",
       "  <tbody>\n",
       "    <tr>\n",
       "      <th>2002-01-01</th>\n",
       "      <td>Nuclear Energy</td>\n",
       "      <td>4574</td>\n",
       "    </tr>\n",
       "    <tr>\n",
       "      <th>2009-01-01</th>\n",
       "      <td>Fossil Fuels</td>\n",
       "      <td>38620</td>\n",
       "    </tr>\n",
       "    <tr>\n",
       "      <th>2002-01-01</th>\n",
       "      <td>Fossil Fuels</td>\n",
       "      <td>35991</td>\n",
       "    </tr>\n",
       "  </tbody>\n",
       "</table>\n",
       "</div>"
      ],
      "text/plain": [
       "                    source  net_generation\n",
       "year                                      \n",
       "2002-01-01  Nuclear Energy            4574\n",
       "2009-01-01    Fossil Fuels           38620\n",
       "2002-01-01    Fossil Fuels           35991"
      ]
     },
     "execution_count": 78,
     "metadata": {},
     "output_type": "execute_result"
    }
   ],
   "source": [
    "#we can see that year is now our index\n",
    "iowa.sample(3)"
   ]
  },
  {
   "cell_type": "markdown",
   "id": "b06b04da",
   "metadata": {},
   "source": [
    "<b> #1. For each row, calculate the percentage of the year's total that energy source provided</b>"
   ]
  },
  {
   "cell_type": "code",
   "execution_count": 79,
   "id": "de875a47",
   "metadata": {},
   "outputs": [],
   "source": [
    "#create column for year only\n",
    "iowa['number_year'] = iowa.index.year"
   ]
  },
  {
   "cell_type": "code",
   "execution_count": 80,
   "id": "a8c8ece7",
   "metadata": {},
   "outputs": [
    {
     "data": {
      "text/html": [
       "<div>\n",
       "<style scoped>\n",
       "    .dataframe tbody tr th:only-of-type {\n",
       "        vertical-align: middle;\n",
       "    }\n",
       "\n",
       "    .dataframe tbody tr th {\n",
       "        vertical-align: top;\n",
       "    }\n",
       "\n",
       "    .dataframe thead th {\n",
       "        text-align: right;\n",
       "    }\n",
       "</style>\n",
       "<table border=\"1\" class=\"dataframe\">\n",
       "  <thead>\n",
       "    <tr style=\"text-align: right;\">\n",
       "      <th></th>\n",
       "      <th>source</th>\n",
       "      <th>net_generation</th>\n",
       "      <th>number_year</th>\n",
       "    </tr>\n",
       "    <tr>\n",
       "      <th>year</th>\n",
       "      <th></th>\n",
       "      <th></th>\n",
       "      <th></th>\n",
       "    </tr>\n",
       "  </thead>\n",
       "  <tbody>\n",
       "    <tr>\n",
       "      <th>2013-01-01</th>\n",
       "      <td>Renewables</td>\n",
       "      <td>16476</td>\n",
       "      <td>2013</td>\n",
       "    </tr>\n",
       "    <tr>\n",
       "      <th>2008-01-01</th>\n",
       "      <td>Nuclear Energy</td>\n",
       "      <td>5282</td>\n",
       "      <td>2008</td>\n",
       "    </tr>\n",
       "    <tr>\n",
       "      <th>2001-01-01</th>\n",
       "      <td>Fossil Fuels</td>\n",
       "      <td>35361</td>\n",
       "      <td>2001</td>\n",
       "    </tr>\n",
       "  </tbody>\n",
       "</table>\n",
       "</div>"
      ],
      "text/plain": [
       "                    source  net_generation  number_year\n",
       "year                                                   \n",
       "2013-01-01      Renewables           16476         2013\n",
       "2008-01-01  Nuclear Energy            5282         2008\n",
       "2001-01-01    Fossil Fuels           35361         2001"
      ]
     },
     "execution_count": 80,
     "metadata": {},
     "output_type": "execute_result"
    }
   ],
   "source": [
    "iowa.sample(3)"
   ]
  },
  {
   "cell_type": "code",
   "execution_count": 81,
   "id": "061b96ef",
   "metadata": {
    "scrolled": true
   },
   "outputs": [
    {
     "data": {
      "text/plain": [
       "number_year\n",
       "2001    13550.333333\n",
       "2002    14176.000000\n",
       "2003    14035.666667\n",
       "2004    14412.000000\n",
       "2005    14715.000000\n",
       "2006    15157.666667\n",
       "2007    16592.666667\n",
       "2008    17695.333333\n",
       "2009    17286.333333\n",
       "2010    19169.666667\n",
       "2011    18790.333333\n",
       "2012    18891.666667\n",
       "2013    18890.000000\n",
       "2014    18951.333333\n",
       "2015    18884.333333\n",
       "2016    18127.000000\n",
       "2017    18825.333333\n",
       "Name: net_generation, dtype: float64"
      ]
     },
     "execution_count": 81,
     "metadata": {},
     "output_type": "execute_result"
    }
   ],
   "source": [
    "#this gives average by year for all source types\n",
    "iowa.groupby('number_year').net_generation.mean()"
   ]
  },
  {
   "cell_type": "code",
   "execution_count": 82,
   "id": "4c85777f",
   "metadata": {},
   "outputs": [
    {
     "data": {
      "text/plain": [
       "source\n",
       "Fossil Fuels      36478.176471\n",
       "Nuclear Energy     4711.941176\n",
       "Renewables         9660.000000\n",
       "Name: net_generation, dtype: float64"
      ]
     },
     "execution_count": 82,
     "metadata": {},
     "output_type": "execute_result"
    }
   ],
   "source": [
    "#this gives average generation by source type\n",
    "iowa.groupby('source').net_generation.mean()"
   ]
  },
  {
   "cell_type": "markdown",
   "id": "ba40f6b5",
   "metadata": {},
   "source": [
    "<b> #2. Lineplot of generation over time, color by source</b>"
   ]
  },
  {
   "cell_type": "code",
   "execution_count": null,
   "id": "8aa7baf1",
   "metadata": {},
   "outputs": [],
   "source": []
  },
  {
   "cell_type": "code",
   "execution_count": null,
   "id": "e03ca84c",
   "metadata": {},
   "outputs": [],
   "source": []
  },
  {
   "cell_type": "markdown",
   "id": "71801668",
   "metadata": {},
   "source": [
    "<b> #3. Display the data as table where years are columns, and energy source is rows (Hint: df.pivot_table)</b>"
   ]
  },
  {
   "cell_type": "code",
   "execution_count": 83,
   "id": "de8382a4",
   "metadata": {},
   "outputs": [],
   "source": [
    "table = pd.pivot_table(iowa, values='source',\n",
    "                    columns=['year'], aggfunc=np.sum, fill_value=0)"
   ]
  },
  {
   "cell_type": "code",
   "execution_count": 85,
   "id": "265fbd33",
   "metadata": {},
   "outputs": [
    {
     "data": {
      "text/html": [
       "<div>\n",
       "<style scoped>\n",
       "    .dataframe tbody tr th:only-of-type {\n",
       "        vertical-align: middle;\n",
       "    }\n",
       "\n",
       "    .dataframe tbody tr th {\n",
       "        vertical-align: top;\n",
       "    }\n",
       "\n",
       "    .dataframe thead th {\n",
       "        text-align: right;\n",
       "    }\n",
       "</style>\n",
       "<table border=\"1\" class=\"dataframe\">\n",
       "  <thead>\n",
       "    <tr style=\"text-align: right;\">\n",
       "      <th>year</th>\n",
       "      <th>2001-01-01</th>\n",
       "      <th>2002-01-01</th>\n",
       "      <th>2003-01-01</th>\n",
       "      <th>2004-01-01</th>\n",
       "      <th>2005-01-01</th>\n",
       "      <th>2006-01-01</th>\n",
       "      <th>2007-01-01</th>\n",
       "      <th>2008-01-01</th>\n",
       "      <th>2009-01-01</th>\n",
       "      <th>2010-01-01</th>\n",
       "      <th>2011-01-01</th>\n",
       "      <th>2012-01-01</th>\n",
       "      <th>2013-01-01</th>\n",
       "      <th>2014-01-01</th>\n",
       "      <th>2015-01-01</th>\n",
       "      <th>2016-01-01</th>\n",
       "      <th>2017-01-01</th>\n",
       "    </tr>\n",
       "  </thead>\n",
       "  <tbody>\n",
       "    <tr>\n",
       "      <th>source</th>\n",
       "      <td>Fossil FuelsNuclear EnergyRenewables</td>\n",
       "      <td>Fossil FuelsNuclear EnergyRenewables</td>\n",
       "      <td>Fossil FuelsNuclear EnergyRenewables</td>\n",
       "      <td>Fossil FuelsNuclear EnergyRenewables</td>\n",
       "      <td>Nuclear EnergyRenewablesFossil Fuels</td>\n",
       "      <td>RenewablesFossil FuelsNuclear Energy</td>\n",
       "      <td>RenewablesFossil FuelsNuclear Energy</td>\n",
       "      <td>RenewablesFossil FuelsNuclear Energy</td>\n",
       "      <td>RenewablesNuclear EnergyFossil Fuels</td>\n",
       "      <td>Nuclear EnergyRenewablesFossil Fuels</td>\n",
       "      <td>Nuclear EnergyRenewablesFossil Fuels</td>\n",
       "      <td>Nuclear EnergyRenewablesFossil Fuels</td>\n",
       "      <td>RenewablesFossil FuelsNuclear Energy</td>\n",
       "      <td>Nuclear EnergyRenewablesFossil Fuels</td>\n",
       "      <td>Fossil FuelsNuclear EnergyRenewables</td>\n",
       "      <td>RenewablesFossil FuelsNuclear Energy</td>\n",
       "      <td>Fossil FuelsNuclear EnergyRenewables</td>\n",
       "    </tr>\n",
       "  </tbody>\n",
       "</table>\n",
       "</div>"
      ],
      "text/plain": [
       "year                              2001-01-01  \\\n",
       "source  Fossil FuelsNuclear EnergyRenewables   \n",
       "\n",
       "year                              2002-01-01  \\\n",
       "source  Fossil FuelsNuclear EnergyRenewables   \n",
       "\n",
       "year                              2003-01-01  \\\n",
       "source  Fossil FuelsNuclear EnergyRenewables   \n",
       "\n",
       "year                              2004-01-01  \\\n",
       "source  Fossil FuelsNuclear EnergyRenewables   \n",
       "\n",
       "year                              2005-01-01  \\\n",
       "source  Nuclear EnergyRenewablesFossil Fuels   \n",
       "\n",
       "year                              2006-01-01  \\\n",
       "source  RenewablesFossil FuelsNuclear Energy   \n",
       "\n",
       "year                              2007-01-01  \\\n",
       "source  RenewablesFossil FuelsNuclear Energy   \n",
       "\n",
       "year                              2008-01-01  \\\n",
       "source  RenewablesFossil FuelsNuclear Energy   \n",
       "\n",
       "year                              2009-01-01  \\\n",
       "source  RenewablesNuclear EnergyFossil Fuels   \n",
       "\n",
       "year                              2010-01-01  \\\n",
       "source  Nuclear EnergyRenewablesFossil Fuels   \n",
       "\n",
       "year                              2011-01-01  \\\n",
       "source  Nuclear EnergyRenewablesFossil Fuels   \n",
       "\n",
       "year                              2012-01-01  \\\n",
       "source  Nuclear EnergyRenewablesFossil Fuels   \n",
       "\n",
       "year                              2013-01-01  \\\n",
       "source  RenewablesFossil FuelsNuclear Energy   \n",
       "\n",
       "year                              2014-01-01  \\\n",
       "source  Nuclear EnergyRenewablesFossil Fuels   \n",
       "\n",
       "year                              2015-01-01  \\\n",
       "source  Fossil FuelsNuclear EnergyRenewables   \n",
       "\n",
       "year                              2016-01-01  \\\n",
       "source  RenewablesFossil FuelsNuclear Energy   \n",
       "\n",
       "year                              2017-01-01  \n",
       "source  Fossil FuelsNuclear EnergyRenewables  "
      ]
     },
     "execution_count": 85,
     "metadata": {},
     "output_type": "execute_result"
    }
   ],
   "source": [
    "table"
   ]
  },
  {
   "cell_type": "code",
   "execution_count": 87,
   "id": "fba4f5a9",
   "metadata": {},
   "outputs": [
    {
     "data": {
      "text/html": [
       "<div>\n",
       "<style scoped>\n",
       "    .dataframe tbody tr th:only-of-type {\n",
       "        vertical-align: middle;\n",
       "    }\n",
       "\n",
       "    .dataframe tbody tr th {\n",
       "        vertical-align: top;\n",
       "    }\n",
       "\n",
       "    .dataframe thead th {\n",
       "        text-align: right;\n",
       "    }\n",
       "</style>\n",
       "<table border=\"1\" class=\"dataframe\">\n",
       "  <thead>\n",
       "    <tr style=\"text-align: right;\">\n",
       "      <th></th>\n",
       "      <th>source</th>\n",
       "      <th>net_generation</th>\n",
       "      <th>number_year</th>\n",
       "    </tr>\n",
       "    <tr>\n",
       "      <th>year</th>\n",
       "      <th></th>\n",
       "      <th></th>\n",
       "      <th></th>\n",
       "    </tr>\n",
       "  </thead>\n",
       "  <tbody>\n",
       "    <tr>\n",
       "      <th>2001-01-01</th>\n",
       "      <td>Fossil Fuels</td>\n",
       "      <td>35361</td>\n",
       "      <td>2001</td>\n",
       "    </tr>\n",
       "    <tr>\n",
       "      <th>2001-01-01</th>\n",
       "      <td>Nuclear Energy</td>\n",
       "      <td>3853</td>\n",
       "      <td>2001</td>\n",
       "    </tr>\n",
       "    <tr>\n",
       "      <th>2001-01-01</th>\n",
       "      <td>Renewables</td>\n",
       "      <td>1437</td>\n",
       "      <td>2001</td>\n",
       "    </tr>\n",
       "    <tr>\n",
       "      <th>2002-01-01</th>\n",
       "      <td>Fossil Fuels</td>\n",
       "      <td>35991</td>\n",
       "      <td>2002</td>\n",
       "    </tr>\n",
       "    <tr>\n",
       "      <th>2002-01-01</th>\n",
       "      <td>Nuclear Energy</td>\n",
       "      <td>4574</td>\n",
       "      <td>2002</td>\n",
       "    </tr>\n",
       "  </tbody>\n",
       "</table>\n",
       "</div>"
      ],
      "text/plain": [
       "                    source  net_generation  number_year\n",
       "year                                                   \n",
       "2001-01-01    Fossil Fuels           35361         2001\n",
       "2001-01-01  Nuclear Energy            3853         2001\n",
       "2001-01-01      Renewables            1437         2001\n",
       "2002-01-01    Fossil Fuels           35991         2002\n",
       "2002-01-01  Nuclear Energy            4574         2002"
      ]
     },
     "execution_count": 87,
     "metadata": {},
     "output_type": "execute_result"
    }
   ],
   "source": [
    "iowa.head()"
   ]
  },
  {
   "cell_type": "markdown",
   "id": "1f3eb1e3",
   "metadata": {},
   "source": [
    "<b> #4. Make a line plot that shows the amount of energy generated over time. Each source should be a separate line?</b>"
   ]
  },
  {
   "cell_type": "code",
   "execution_count": 90,
   "id": "c615559f",
   "metadata": {},
   "outputs": [
    {
     "data": {
      "image/png": "[encoded data removed]",
      "text/plain": [
       "<Figure size 640x480 with 1 Axes>"
      ]
     },
     "metadata": {},
     "output_type": "display_data"
    }
   ],
   "source": [
    "#resample temperatures by day- get min max and average\n",
    "iowa.net_generation.resample('D').sum().plot()\n",
    "plt.title('Net Generation over Time')\n",
    "plt.ylabel('Net Generation')\n",
    "plt.show()"
   ]
  },
  {
   "cell_type": "markdown",
   "id": "36d0956f",
   "metadata": {},
   "source": [
    "<b> 5. Is the total generation increasing over time?</b>"
   ]
  },
  {
   "cell_type": "code",
   "execution_count": null,
   "id": "d9345a5b",
   "metadata": {},
   "outputs": [],
   "source": []
  },
  {
   "cell_type": "markdown",
   "id": "cf41de6c",
   "metadata": {},
   "source": [
    "<b> - How would you control for increasing consumption over time when considering how much energy is coming from each source?</b>"
   ]
  },
  {
   "cell_type": "code",
   "execution_count": null,
   "id": "93e9279b",
   "metadata": {},
   "outputs": [],
   "source": []
  },
  {
   "cell_type": "markdown",
   "id": "5989836a",
   "metadata": {},
   "source": [
    "<b> - Express each number as a % of the year's total</b>"
   ]
  },
  {
   "cell_type": "code",
   "execution_count": null,
   "id": "4efcadec",
   "metadata": {},
   "outputs": [],
   "source": []
  },
  {
   "cell_type": "markdown",
   "id": "d592baff",
   "metadata": {},
   "source": [
    "<hr style=\"border:2px solid gray\">"
   ]
  },
  {
   "cell_type": "markdown",
   "id": "3c62e6ce",
   "metadata": {},
   "source": [
    "### Bonus II: ```sf_temps```"
   ]
  },
  {
   "cell_type": "markdown",
   "id": "eb9ba67d",
   "metadata": {},
   "source": [
    "Use the ```sf_temps``` dataset\n",
    "1. Create 4 categories for temperature, cold, cool, warm, hot (hint: use pd.cut or pd.qcut for this)\n",
    "2. How does the occurances of these 4 categories change month over month? i.e. how many days have each distinction? Visualize this and give the visual appropriate colors for each category.\n",
    "3. Create pretty labels for time plots\n",
    "4. Visualize the number of days of each month that fall into each bin by year (e.g. x=month, y=n_days, hue=temp_bin) or st similar"
   ]
  },
  {
   "cell_type": "code",
   "execution_count": 91,
   "id": "39a82094",
   "metadata": {},
   "outputs": [],
   "source": [
    "sf = sf_temps"
   ]
  },
  {
   "cell_type": "markdown",
   "id": "d954242c",
   "metadata": {},
   "source": [
    "<b> #1. Create 4 categories for temperature, cold, cool, warm, hot (hint: use pd.cut or pd.qcut for this)</b>"
   ]
  },
  {
   "cell_type": "code",
   "execution_count": 92,
   "id": "8c36d744",
   "metadata": {},
   "outputs": [
    {
     "data": {
      "text/html": [
       "<div>\n",
       "<style scoped>\n",
       "    .dataframe tbody tr th:only-of-type {\n",
       "        vertical-align: middle;\n",
       "    }\n",
       "\n",
       "    .dataframe tbody tr th {\n",
       "        vertical-align: top;\n",
       "    }\n",
       "\n",
       "    .dataframe thead th {\n",
       "        text-align: right;\n",
       "    }\n",
       "</style>\n",
       "<table border=\"1\" class=\"dataframe\">\n",
       "  <thead>\n",
       "    <tr style=\"text-align: right;\">\n",
       "      <th></th>\n",
       "      <th>temp</th>\n",
       "    </tr>\n",
       "    <tr>\n",
       "      <th>temp_bin</th>\n",
       "      <th></th>\n",
       "    </tr>\n",
       "  </thead>\n",
       "  <tbody>\n",
       "    <tr>\n",
       "      <th>cold</th>\n",
       "      <td>50.893705</td>\n",
       "    </tr>\n",
       "    <tr>\n",
       "      <th>cool</th>\n",
       "      <td>54.996323</td>\n",
       "    </tr>\n",
       "    <tr>\n",
       "      <th>warm</th>\n",
       "      <td>59.632280</td>\n",
       "    </tr>\n",
       "    <tr>\n",
       "      <th>hot</th>\n",
       "      <td>62.239194</td>\n",
       "    </tr>\n",
       "  </tbody>\n",
       "</table>\n",
       "</div>"
      ],
      "text/plain": [
       "               temp\n",
       "temp_bin           \n",
       "cold      50.893705\n",
       "cool      54.996323\n",
       "warm      59.632280\n",
       "hot       62.239194"
      ]
     },
     "execution_count": 92,
     "metadata": {},
     "output_type": "execute_result"
    }
   ],
   "source": [
    "sf = sf.resample('D').mean()\n",
    "# create a categorical feature\n",
    "sf['temp_bin'] = pd.qcut(sf.temp, 4, labels=['cold', 'cool', 'warm', 'hot'])\n",
    "sf.groupby('temp_bin').mean()"
   ]
  },
  {
   "cell_type": "markdown",
   "id": "19701622",
   "metadata": {},
   "source": [
    "<b> #2. How does the occurances of these 4 categories change month over month? i.e. how many days have each distinction? Visualize this and give the visual appropriate colors for each category.</b>"
   ]
  },
  {
   "cell_type": "code",
   "execution_count": 96,
   "id": "304f50c3",
   "metadata": {},
   "outputs": [
    {
     "data": {
      "text/plain": [
       "<AxesSubplot:xlabel='date'>"
      ]
     },
     "execution_count": 96,
     "metadata": {},
     "output_type": "execute_result"
    },
    {
     "data": {
      "image/png": "[encoded data removed]",
      "text/plain": [
       "<Figure size 640x480 with 1 Axes>"
      ]
     },
     "metadata": {},
     "output_type": "display_data"
    }
   ],
   "source": [
    "(sf.groupby('temp_bin')\n",
    " .resample('M')\n",
    " .size()\n",
    " .unstack(0)\n",
    " .apply(lambda row: row / row.sum(), axis=1)\n",
    " .plot.area()\n",
    ")"
   ]
  },
  {
   "cell_type": "markdown",
   "id": "15b6ed81",
   "metadata": {},
   "source": [
    "<b> #3. Create pretty labels for time plots</b>"
   ]
  },
  {
   "cell_type": "code",
   "execution_count": 97,
   "id": "4596bf98",
   "metadata": {},
   "outputs": [
    {
     "data": {
      "text/plain": [
       "Text(0, 0.5, '% of days in the month')"
      ]
     },
     "execution_count": 97,
     "metadata": {},
     "output_type": "execute_result"
    },
    {
     "data": {
      "image/png": "[encoded data removed]",
      "text/plain": [
       "<Figure size 640x480 with 1 Axes>"
      ]
     },
     "metadata": {},
     "output_type": "display_data"
    }
   ],
   "source": [
    "(sf.groupby('temp_bin')\n",
    " .resample('M')\n",
    " .size()\n",
    " .unstack(0)\n",
    " .apply(lambda row: row / row.sum(), axis=1)\n",
    " .plot.area()\n",
    ")\n",
    "\n",
    "plt.ylabel('% of days in the month')"
   ]
  },
  {
   "cell_type": "markdown",
   "id": "c39c0cb7",
   "metadata": {},
   "source": [
    "<b> #4. Visualize the number of days of each month that fall into each bin by year (e.g. x=month, y=n_days, hue=temp_bin) or st similar</b>"
   ]
  },
  {
   "cell_type": "code",
   "execution_count": null,
   "id": "3281084e",
   "metadata": {},
   "outputs": [],
   "source": []
  },
  {
   "cell_type": "code",
   "execution_count": null,
   "id": "25c1cab5",
   "metadata": {},
   "outputs": [],
   "source": []
  },
  {
   "cell_type": "markdown",
   "id": "15ab6a81",
   "metadata": {},
   "source": [
    "<hr style=\"border:2px solid gray\">"
   ]
  },
  {
   "cell_type": "markdown",
   "id": "3f34e2d2",
   "metadata": {},
   "source": [
    "### Bonus III: ```birdstrikes```"
   ]
  },
  {
   "cell_type": "markdown",
   "id": "df31a36f",
   "metadata": {},
   "source": [
    "1. Explore the ```birdstrikes``` dataset"
   ]
  },
  {
   "cell_type": "code",
   "execution_count": 98,
   "id": "91a0a3bc",
   "metadata": {},
   "outputs": [],
   "source": [
    "birds_df = data.birdstrikes()"
   ]
  },
  {
   "cell_type": "code",
   "execution_count": 99,
   "id": "98bc459b",
   "metadata": {},
   "outputs": [
    {
     "data": {
      "text/html": [
       "<div>\n",
       "<style scoped>\n",
       "    .dataframe tbody tr th:only-of-type {\n",
       "        vertical-align: middle;\n",
       "    }\n",
       "\n",
       "    .dataframe tbody tr th {\n",
       "        vertical-align: top;\n",
       "    }\n",
       "\n",
       "    .dataframe thead th {\n",
       "        text-align: right;\n",
       "    }\n",
       "</style>\n",
       "<table border=\"1\" class=\"dataframe\">\n",
       "  <thead>\n",
       "    <tr style=\"text-align: right;\">\n",
       "      <th></th>\n",
       "      <th>Airport__Name</th>\n",
       "      <th>Aircraft__Make_Model</th>\n",
       "      <th>Effect__Amount_of_damage</th>\n",
       "      <th>Flight_Date</th>\n",
       "      <th>Aircraft__Airline_Operator</th>\n",
       "      <th>Origin_State</th>\n",
       "      <th>When__Phase_of_flight</th>\n",
       "      <th>Wildlife__Size</th>\n",
       "      <th>Wildlife__Species</th>\n",
       "      <th>When__Time_of_day</th>\n",
       "      <th>Cost__Other</th>\n",
       "      <th>Cost__Repair</th>\n",
       "      <th>Cost__Total_$</th>\n",
       "      <th>Speed_IAS_in_knots</th>\n",
       "    </tr>\n",
       "  </thead>\n",
       "  <tbody>\n",
       "    <tr>\n",
       "      <th>9151</th>\n",
       "      <td>JOHN F KENNEDY INTL</td>\n",
       "      <td>B-767-200</td>\n",
       "      <td>None</td>\n",
       "      <td>10/3/01 0:00</td>\n",
       "      <td>AMERICAN AIRLINES</td>\n",
       "      <td>New York</td>\n",
       "      <td>Take-off run</td>\n",
       "      <td>Medium</td>\n",
       "      <td>Herring gull</td>\n",
       "      <td>Day</td>\n",
       "      <td>0</td>\n",
       "      <td>0</td>\n",
       "      <td>0</td>\n",
       "      <td>NaN</td>\n",
       "    </tr>\n",
       "    <tr>\n",
       "      <th>190</th>\n",
       "      <td>SALT LAKE CITY INTL</td>\n",
       "      <td>MD-87</td>\n",
       "      <td>None</td>\n",
       "      <td>8/13/90 0:00</td>\n",
       "      <td>AMERICAN AIRLINES</td>\n",
       "      <td>Utah</td>\n",
       "      <td>Climb</td>\n",
       "      <td>Small</td>\n",
       "      <td>Unknown bird - small</td>\n",
       "      <td>Day</td>\n",
       "      <td>0</td>\n",
       "      <td>0</td>\n",
       "      <td>0</td>\n",
       "      <td>150.0</td>\n",
       "    </tr>\n",
       "    <tr>\n",
       "      <th>5605</th>\n",
       "      <td>PHOENIX SKY HARBOR</td>\n",
       "      <td>B-737-300</td>\n",
       "      <td>None</td>\n",
       "      <td>5/26/98 0:00</td>\n",
       "      <td>AMERICA WEST AIRLINES</td>\n",
       "      <td>Arizona</td>\n",
       "      <td>Approach</td>\n",
       "      <td>Small</td>\n",
       "      <td>Unknown bird - small</td>\n",
       "      <td>Day</td>\n",
       "      <td>0</td>\n",
       "      <td>0</td>\n",
       "      <td>0</td>\n",
       "      <td>NaN</td>\n",
       "    </tr>\n",
       "  </tbody>\n",
       "</table>\n",
       "</div>"
      ],
      "text/plain": [
       "            Airport__Name Aircraft__Make_Model Effect__Amount_of_damage  \\\n",
       "9151  JOHN F KENNEDY INTL            B-767-200                     None   \n",
       "190   SALT LAKE CITY INTL                MD-87                     None   \n",
       "5605   PHOENIX SKY HARBOR            B-737-300                     None   \n",
       "\n",
       "       Flight_Date Aircraft__Airline_Operator Origin_State  \\\n",
       "9151  10/3/01 0:00          AMERICAN AIRLINES     New York   \n",
       "190   8/13/90 0:00          AMERICAN AIRLINES         Utah   \n",
       "5605  5/26/98 0:00      AMERICA WEST AIRLINES      Arizona   \n",
       "\n",
       "     When__Phase_of_flight Wildlife__Size     Wildlife__Species  \\\n",
       "9151          Take-off run         Medium          Herring gull   \n",
       "190                  Climb          Small  Unknown bird - small   \n",
       "5605              Approach          Small  Unknown bird - small   \n",
       "\n",
       "     When__Time_of_day  Cost__Other  Cost__Repair  Cost__Total_$  \\\n",
       "9151               Day            0             0              0   \n",
       "190                Day            0             0              0   \n",
       "5605               Day            0             0              0   \n",
       "\n",
       "      Speed_IAS_in_knots  \n",
       "9151                 NaN  \n",
       "190                150.0  \n",
       "5605                 NaN  "
      ]
     },
     "execution_count": 99,
     "metadata": {},
     "output_type": "execute_result"
    }
   ],
   "source": [
    "birds_df.sample(3)"
   ]
  },
  {
   "cell_type": "code",
   "execution_count": 100,
   "id": "0da9b233",
   "metadata": {},
   "outputs": [
    {
     "name": "stdout",
     "output_type": "stream",
     "text": [
      "<class 'pandas.core.frame.DataFrame'>\n",
      "RangeIndex: 10000 entries, 0 to 9999\n",
      "Data columns (total 14 columns):\n",
      " #   Column                      Non-Null Count  Dtype  \n",
      "---  ------                      --------------  -----  \n",
      " 0   Airport__Name               10000 non-null  object \n",
      " 1   Aircraft__Make_Model        10000 non-null  object \n",
      " 2   Effect__Amount_of_damage    10000 non-null  object \n",
      " 3   Flight_Date                 10000 non-null  object \n",
      " 4   Aircraft__Airline_Operator  10000 non-null  object \n",
      " 5   Origin_State                10000 non-null  object \n",
      " 6   When__Phase_of_flight       10000 non-null  object \n",
      " 7   Wildlife__Size              10000 non-null  object \n",
      " 8   Wildlife__Species           10000 non-null  object \n",
      " 9   When__Time_of_day           10000 non-null  object \n",
      " 10  Cost__Other                 10000 non-null  int64  \n",
      " 11  Cost__Repair                10000 non-null  int64  \n",
      " 12  Cost__Total_$               10000 non-null  int64  \n",
      " 13  Speed_IAS_in_knots          7164 non-null   float64\n",
      "dtypes: float64(1), int64(3), object(10)\n",
      "memory usage: 1.1+ MB\n"
     ]
    }
   ],
   "source": [
    "birds_df.info()"
   ]
  },
  {
   "cell_type": "markdown",
   "id": "1ea7bd61",
   "metadata": {},
   "source": [
    "<b>Ask questions of the data</b>\n",
    "- Should we convert Flight_Date to datetime and set to index?\n",
    "- How many different airports are represented?\n",
    "- What is the average size of the birdstrike?"
   ]
  },
  {
   "cell_type": "code",
   "execution_count": 101,
   "id": "3711d668",
   "metadata": {},
   "outputs": [],
   "source": [
    "#convert Flight_Date to datetime\n",
    "birds_df.Flight_Date = pd.to_datetime(birds_df.Flight_Date)"
   ]
  },
  {
   "cell_type": "code",
   "execution_count": 102,
   "id": "ad919b22",
   "metadata": {},
   "outputs": [
    {
     "name": "stdout",
     "output_type": "stream",
     "text": [
      "<class 'pandas.core.frame.DataFrame'>\n",
      "RangeIndex: 10000 entries, 0 to 9999\n",
      "Data columns (total 14 columns):\n",
      " #   Column                      Non-Null Count  Dtype         \n",
      "---  ------                      --------------  -----         \n",
      " 0   Airport__Name               10000 non-null  object        \n",
      " 1   Aircraft__Make_Model        10000 non-null  object        \n",
      " 2   Effect__Amount_of_damage    10000 non-null  object        \n",
      " 3   Flight_Date                 10000 non-null  datetime64[ns]\n",
      " 4   Aircraft__Airline_Operator  10000 non-null  object        \n",
      " 5   Origin_State                10000 non-null  object        \n",
      " 6   When__Phase_of_flight       10000 non-null  object        \n",
      " 7   Wildlife__Size              10000 non-null  object        \n",
      " 8   Wildlife__Species           10000 non-null  object        \n",
      " 9   When__Time_of_day           10000 non-null  object        \n",
      " 10  Cost__Other                 10000 non-null  int64         \n",
      " 11  Cost__Repair                10000 non-null  int64         \n",
      " 12  Cost__Total_$               10000 non-null  int64         \n",
      " 13  Speed_IAS_in_knots          7164 non-null   float64       \n",
      "dtypes: datetime64[ns](1), float64(1), int64(3), object(9)\n",
      "memory usage: 1.1+ MB\n"
     ]
    }
   ],
   "source": [
    "birds_df.info()"
   ]
  },
  {
   "cell_type": "code",
   "execution_count": 103,
   "id": "4cb9ef0d",
   "metadata": {},
   "outputs": [],
   "source": [
    "#set to index?\n",
    "birds_df = birds_df.set_index('Flight_Date').sort_index()"
   ]
  },
  {
   "cell_type": "code",
   "execution_count": 104,
   "id": "0b4bfe1d",
   "metadata": {},
   "outputs": [
    {
     "data": {
      "text/plain": [
       "pandas.core.indexes.datetimes.DatetimeIndex"
      ]
     },
     "execution_count": 104,
     "metadata": {},
     "output_type": "execute_result"
    }
   ],
   "source": [
    "#make sure index was reset\n",
    "type(birds_df.index)"
   ]
  },
  {
   "cell_type": "code",
   "execution_count": 105,
   "id": "1c6abae1",
   "metadata": {},
   "outputs": [
    {
     "name": "stdout",
     "output_type": "stream",
     "text": [
      "<class 'pandas.core.frame.DataFrame'>\n",
      "DatetimeIndex: 10000 entries, 1990-01-08 to 2002-07-25\n",
      "Data columns (total 13 columns):\n",
      " #   Column                      Non-Null Count  Dtype  \n",
      "---  ------                      --------------  -----  \n",
      " 0   Airport__Name               10000 non-null  object \n",
      " 1   Aircraft__Make_Model        10000 non-null  object \n",
      " 2   Effect__Amount_of_damage    10000 non-null  object \n",
      " 3   Aircraft__Airline_Operator  10000 non-null  object \n",
      " 4   Origin_State                10000 non-null  object \n",
      " 5   When__Phase_of_flight       10000 non-null  object \n",
      " 6   Wildlife__Size              10000 non-null  object \n",
      " 7   Wildlife__Species           10000 non-null  object \n",
      " 8   When__Time_of_day           10000 non-null  object \n",
      " 9   Cost__Other                 10000 non-null  int64  \n",
      " 10  Cost__Repair                10000 non-null  int64  \n",
      " 11  Cost__Total_$               10000 non-null  int64  \n",
      " 12  Speed_IAS_in_knots          7164 non-null   float64\n",
      "dtypes: float64(1), int64(3), object(9)\n",
      "memory usage: 1.1+ MB\n"
     ]
    }
   ],
   "source": [
    "birds_df.info()"
   ]
  },
  {
   "cell_type": "code",
   "execution_count": 106,
   "id": "e19889f4",
   "metadata": {},
   "outputs": [
    {
     "data": {
      "text/plain": [
       "Small     4910\n",
       "Medium    4346\n",
       "Large      744\n",
       "Name: Wildlife__Size, dtype: int64"
      ]
     },
     "execution_count": 106,
     "metadata": {},
     "output_type": "execute_result"
    }
   ],
   "source": [
    "# What is the average size of the birdstrike?\n",
    "birds_df.Wildlife__Size .value_counts()"
   ]
  },
  {
   "cell_type": "code",
   "execution_count": 107,
   "id": "7a012870",
   "metadata": {},
   "outputs": [
    {
     "data": {
      "text/plain": [
       "<AxesSubplot:xlabel='Wildlife__Size', ylabel='count'>"
      ]
     },
     "execution_count": 107,
     "metadata": {},
     "output_type": "execute_result"
    },
    {
     "data": {
      "image/png": "[encoded data removed]",
      "text/plain": [
       "<Figure size 640x480 with 1 Axes>"
      ]
     },
     "metadata": {},
     "output_type": "display_data"
    }
   ],
   "source": [
    "import seaborn as sns\n",
    "sns.countplot(x=birds_df[\"Wildlife__Size\"])"
   ]
  },
  {
   "cell_type": "code",
   "execution_count": 108,
   "id": "20be18dd",
   "metadata": {},
   "outputs": [
    {
     "data": {
      "text/plain": [
       "Texas             1495\n",
       "California         890\n",
       "Louisiana          618\n",
       "Tennessee          569\n",
       "Kentucky           535\n",
       "Pennsylvania       514\n",
       "Illinois           505\n",
       "DC                 475\n",
       "New York           391\n",
       "Missouri           376\n",
       "Hawaii             352\n",
       "New Jersey         351\n",
       "North Carolina     269\n",
       "Florida            246\n",
       "Oregon             245\n",
       "South Carolina     242\n",
       "Utah               236\n",
       "Georgia            211\n",
       "Ohio               210\n",
       "Maryland           201\n",
       "Colorado           187\n",
       "Massachusetts      146\n",
       "Indiana            144\n",
       "Nebraska           118\n",
       "Arizona            111\n",
       "Minnesota          103\n",
       "Washington         103\n",
       "Oklahoma            83\n",
       "Michigan            74\n",
       "Name: Origin_State, dtype: int64"
      ]
     },
     "execution_count": 108,
     "metadata": {},
     "output_type": "execute_result"
    }
   ],
   "source": [
    "#How many different states are represented?\n",
    "birds_df.Origin_State.value_counts()"
   ]
  },
  {
   "cell_type": "code",
   "execution_count": 109,
   "id": "721cee98",
   "metadata": {},
   "outputs": [
    {
     "data": {
      "text/plain": [
       "AMERICAN AIRLINES                 2171\n",
       "US AIRWAYS*                       1084\n",
       "DELTA AIR LINES                    865\n",
       "SOUTHWEST AIRLINES                 844\n",
       "MILITARY                           829\n",
       "UNITED AIRLINES                    534\n",
       "BUSINESS                           371\n",
       "FEDEX EXPRESS                      365\n",
       "AMERICA WEST AIRLINES              275\n",
       "NORTHWEST AIRLINES                 256\n",
       "AMERICAN EAGLE AIRLINES            223\n",
       "UPS AIRLINES                       223\n",
       "CONTINENTAL AIRLINES               187\n",
       "ALOHA AIRLINES                     184\n",
       "TRANS WORLD AIRLINES               163\n",
       "ATLANTIC COAST AIRLINES            138\n",
       "COMAIR AIRLINES                    113\n",
       "EXPRESSJET (CONTINENTAL EXPRS)     106\n",
       "ALASKA AIRLINES                    102\n",
       "HORIZON AIR                        102\n",
       "HAWAIIAN AIR                        97\n",
       "ABX AIR                             76\n",
       "UNKNOWN                             72\n",
       "AIR CANADA                          69\n",
       "SKYWEST AIRLINES                    68\n",
       "MESABA AIRLINES                     41\n",
       "ATLANTIC SOUTHEAST                  37\n",
       "EXECUTIVE JET AVIATION              36\n",
       "PRIVATELY OWNED                     36\n",
       "PIEDMONT AIRLINES                   32\n",
       "GREAT LAKES AIRLINES                30\n",
       "ASTAR AIR CARGO                     29\n",
       "TRANS STATES AIRLINES               28\n",
       "PSA AIRLINES                        27\n",
       "AIRTRAN AIRWAYS                     25\n",
       "MESA AIRLINES                       23\n",
       "FRONTIER AIRLINES                   23\n",
       "ALLEGHENYAIRLINES                   22\n",
       "CHAUTAUQUA AIRLINES                 18\n",
       "AIR WISCONSIN AIRLINES              17\n",
       "PINNACLE                            17\n",
       "GOVERNMENT                          15\n",
       "JAPAN AIRLINES                      13\n",
       "SPIRIT AIRLINES                      7\n",
       "JETBLUE AIRWAYS                      4\n",
       "COMMUTAIR                            3\n",
       "Name: Aircraft__Airline_Operator, dtype: int64"
      ]
     },
     "execution_count": 109,
     "metadata": {},
     "output_type": "execute_result"
    }
   ],
   "source": [
    "birds_df.Aircraft__Airline_Operator.value_counts()"
   ]
  },
  {
   "cell_type": "code",
   "execution_count": null,
   "id": "dfec554f",
   "metadata": {},
   "outputs": [],
   "source": []
  }
 ],
 "metadata": {
  "kernelspec": {
   "display_name": "Python 3 (ipykernel)",
   "language": "python",
   "name": "python3"
  },
  "language_info": {
   "codemirror_mode": {
    "name": "ipython",
    "version": 3
   },
   "file_extension": ".py",
   "mimetype": "text/x-python",
   "name": "python",
   "nbconvert_exporter": "python",
   "pygments_lexer": "ipython3",
   "version": "3.9.13"
  }
 },
 "nbformat": 4,
 "nbformat_minor": 5
}
