{
 "cells": [
  {
   "cell_type": "markdown",
   "id": "3dc463d1",
   "metadata": {},
   "source": [
    "# Data Types, Operators and Variables"
   ]
  },
  {
   "cell_type": "markdown",
   "id": "8859b2d5",
   "metadata": {},
   "source": [
    "<div class=\"alert alert-block alert-info\">\n",
    "<b>Data Types:</b>\n",
    "    \n",
    "<br>\n",
    "    \n",
    "<b>bool</b>: boolean values, either True or False; an answer to a yes/no question\n",
    "str (string) a sequence of characters \"strung\" together\n",
    "    <br>\n",
    "<b>int</b>: whole, or counting numbers\n",
    "    <br>\n",
    "<b>float</b>: decimal numbers\n",
    "    <br>\n",
    "<b>list</b>: an ordered sequence of objects\n",
    "    <br>\n",
    "<b>dict</b>: a collection of values that have names\n",
    "    <br>\n",
    "<b>NoneType</b>: a special value that indicates absence of a value\n",
    "\n",
    "</div>"
   ]
  },
  {
   "cell_type": "markdown",
   "id": "5460880d",
   "metadata": {},
   "source": [
    "<hr style=\"border:0.5px solid gray\">\n",
    "<hr style=\"border:0.5px solid gray\">"
   ]
  },
  {
   "cell_type": "markdown",
   "id": "163f73a5",
   "metadata": {},
   "source": [
    "## Python Data Types"
   ]
  },
  {
   "cell_type": "markdown",
   "id": "5da5b09b",
   "metadata": {},
   "source": [
    "You can find the type of any object by calling the type function with the object as the argument:"
   ]
  },
  {
   "cell_type": "code",
   "execution_count": 1,
   "id": "f469ff27",
   "metadata": {},
   "outputs": [
    {
     "data": {
      "text/plain": [
       "int"
      ]
     },
     "execution_count": 1,
     "metadata": {},
     "output_type": "execute_result"
    }
   ],
   "source": [
    "type(1)"
   ]
  },
  {
   "cell_type": "code",
   "execution_count": 2,
   "id": "535ccb6c",
   "metadata": {},
   "outputs": [
    {
     "data": {
      "text/plain": [
       "str"
      ]
     },
     "execution_count": 2,
     "metadata": {},
     "output_type": "execute_result"
    }
   ],
   "source": [
    "type(' Hello World')"
   ]
  },
  {
   "cell_type": "code",
   "execution_count": 3,
   "id": "361a9e9a",
   "metadata": {},
   "outputs": [
    {
     "data": {
      "text/plain": [
       "bool"
      ]
     },
     "execution_count": 3,
     "metadata": {},
     "output_type": "execute_result"
    }
   ],
   "source": [
    "type(True)"
   ]
  },
  {
   "cell_type": "markdown",
   "id": "1d965150",
   "metadata": {},
   "source": [
    "<hr style=\"border:1px solid black\">"
   ]
  },
  {
   "cell_type": "markdown",
   "id": "addb96c1",
   "metadata": {},
   "source": [
    "## Booleans"
   ]
  },
  {
   "cell_type": "code",
   "execution_count": 4,
   "id": "ec46adc6",
   "metadata": {},
   "outputs": [
    {
     "data": {
      "text/plain": [
       "True"
      ]
     },
     "execution_count": 4,
     "metadata": {},
     "output_type": "execute_result"
    }
   ],
   "source": [
    "True"
   ]
  },
  {
   "cell_type": "code",
   "execution_count": 5,
   "id": "a4795851",
   "metadata": {},
   "outputs": [
    {
     "data": {
      "text/plain": [
       "False"
      ]
     },
     "execution_count": 5,
     "metadata": {},
     "output_type": "execute_result"
    }
   ],
   "source": [
    "False"
   ]
  },
  {
   "cell_type": "code",
   "execution_count": 6,
   "id": "6855d9a7",
   "metadata": {},
   "outputs": [
    {
     "data": {
      "text/plain": [
       "True"
      ]
     },
     "execution_count": 6,
     "metadata": {},
     "output_type": "execute_result"
    }
   ],
   "source": [
    "True == True"
   ]
  },
  {
   "cell_type": "code",
   "execution_count": 7,
   "id": "92a1c389",
   "metadata": {},
   "outputs": [
    {
     "data": {
      "text/plain": [
       "False"
      ]
     },
     "execution_count": 7,
     "metadata": {},
     "output_type": "execute_result"
    }
   ],
   "source": [
    "True == False"
   ]
  },
  {
   "cell_type": "code",
   "execution_count": 8,
   "id": "ed39d730",
   "metadata": {},
   "outputs": [
    {
     "data": {
      "text/plain": [
       "True"
      ]
     },
     "execution_count": 8,
     "metadata": {},
     "output_type": "execute_result"
    }
   ],
   "source": [
    "True != False"
   ]
  },
  {
   "cell_type": "code",
   "execution_count": 9,
   "id": "888fa14c",
   "metadata": {},
   "outputs": [
    {
     "data": {
      "text/plain": [
       "False"
      ]
     },
     "execution_count": 9,
     "metadata": {},
     "output_type": "execute_result"
    }
   ],
   "source": [
    "True != True"
   ]
  },
  {
   "cell_type": "code",
   "execution_count": 10,
   "id": "4b99dba5",
   "metadata": {},
   "outputs": [
    {
     "data": {
      "text/plain": [
       "False"
      ]
     },
     "execution_count": 10,
     "metadata": {},
     "output_type": "execute_result"
    }
   ],
   "source": [
    "not True"
   ]
  },
  {
   "cell_type": "code",
   "execution_count": 11,
   "id": "672138e7",
   "metadata": {},
   "outputs": [
    {
     "data": {
      "text/plain": [
       "True"
      ]
     },
     "execution_count": 11,
     "metadata": {},
     "output_type": "execute_result"
    }
   ],
   "source": [
    "not False"
   ]
  },
  {
   "cell_type": "code",
   "execution_count": 12,
   "id": "84b31723",
   "metadata": {},
   "outputs": [
    {
     "data": {
      "text/plain": [
       "True"
      ]
     },
     "execution_count": 12,
     "metadata": {},
     "output_type": "execute_result"
    }
   ],
   "source": [
    "True and True"
   ]
  },
  {
   "cell_type": "code",
   "execution_count": 13,
   "id": "8b8d29bf",
   "metadata": {},
   "outputs": [
    {
     "data": {
      "text/plain": [
       "False"
      ]
     },
     "execution_count": 13,
     "metadata": {},
     "output_type": "execute_result"
    }
   ],
   "source": [
    "True and False"
   ]
  },
  {
   "cell_type": "code",
   "execution_count": 14,
   "id": "3bc8124c",
   "metadata": {},
   "outputs": [
    {
     "data": {
      "text/plain": [
       "True"
      ]
     },
     "execution_count": 14,
     "metadata": {},
     "output_type": "execute_result"
    }
   ],
   "source": [
    "True or True"
   ]
  },
  {
   "cell_type": "code",
   "execution_count": 15,
   "id": "d3d39bb5",
   "metadata": {},
   "outputs": [
    {
     "data": {
      "text/plain": [
       "True"
      ]
     },
     "execution_count": 15,
     "metadata": {},
     "output_type": "execute_result"
    }
   ],
   "source": [
    "True or False"
   ]
  },
  {
   "cell_type": "code",
   "execution_count": 16,
   "id": "ea14e8af",
   "metadata": {},
   "outputs": [
    {
     "data": {
      "text/plain": [
       "True"
      ]
     },
     "execution_count": 16,
     "metadata": {},
     "output_type": "execute_result"
    }
   ],
   "source": [
    "False or False or False or False or False or False or True"
   ]
  },
  {
   "cell_type": "markdown",
   "id": "fd6c24cb",
   "metadata": {},
   "source": [
    "<hr style=\"border:1px solid black\">"
   ]
  },
  {
   "cell_type": "markdown",
   "id": "3efc01c5",
   "metadata": {},
   "source": [
    "## An interlude about variable assignment"
   ]
  },
  {
   "cell_type": "code",
   "execution_count": null,
   "id": "ea2682ba",
   "metadata": {},
   "outputs": [],
   "source": [
    "x = 1"
   ]
  },
  {
   "cell_type": "code",
   "execution_count": null,
   "id": "54a51df4",
   "metadata": {},
   "outputs": [],
   "source": [
    "x"
   ]
  },
  {
   "cell_type": "code",
   "execution_count": null,
   "id": "3f99dfa9",
   "metadata": {},
   "outputs": [],
   "source": [
    "is_first_of_the_month = True\n",
    "report_has_been_sent = False"
   ]
  },
  {
   "cell_type": "code",
   "execution_count": null,
   "id": "6c37f301",
   "metadata": {},
   "outputs": [],
   "source": [
    "is_first_of_the_month"
   ]
  },
  {
   "cell_type": "code",
   "execution_count": null,
   "id": "bb984f20",
   "metadata": {},
   "outputs": [],
   "source": [
    "should_process_report = is_first_of_the_month and not report_has_been_sent"
   ]
  },
  {
   "cell_type": "code",
   "execution_count": null,
   "id": "b972c0f7",
   "metadata": {},
   "outputs": [],
   "source": [
    "print(should_process_report)"
   ]
  },
  {
   "cell_type": "markdown",
   "id": "5d0f0043",
   "metadata": {},
   "source": [
    "<hr style=\"border:1px solid black\">"
   ]
  },
  {
   "cell_type": "markdown",
   "id": "5922efa0",
   "metadata": {},
   "source": [
    "## Numbers"
   ]
  },
  {
   "cell_type": "code",
   "execution_count": null,
   "id": "decb2a23",
   "metadata": {},
   "outputs": [],
   "source": [
    "1"
   ]
  },
  {
   "cell_type": "code",
   "execution_count": null,
   "id": "6fd7bc84",
   "metadata": {},
   "outputs": [],
   "source": [
    "type(1)"
   ]
  },
  {
   "cell_type": "code",
   "execution_count": null,
   "id": "53a90bfc",
   "metadata": {},
   "outputs": [],
   "source": [
    "1.0"
   ]
  },
  {
   "cell_type": "code",
   "execution_count": null,
   "id": "7dfabb3c",
   "metadata": {},
   "outputs": [],
   "source": [
    "type(1.0)"
   ]
  },
  {
   "cell_type": "code",
   "execution_count": null,
   "id": "af7a3cf6",
   "metadata": {},
   "outputs": [],
   "source": [
    "4+6"
   ]
  },
  {
   "cell_type": "code",
   "execution_count": null,
   "id": "06cbcd65",
   "metadata": {},
   "outputs": [],
   "source": [
    "0.4 + 0.6"
   ]
  },
  {
   "cell_type": "code",
   "execution_count": null,
   "id": "eaff751b",
   "metadata": {},
   "outputs": [],
   "source": [
    "5-6"
   ]
  },
  {
   "cell_type": "code",
   "execution_count": null,
   "id": "8bb721bc",
   "metadata": {},
   "outputs": [],
   "source": [
    "4/2"
   ]
  },
  {
   "cell_type": "code",
   "execution_count": null,
   "id": "182d2f59",
   "metadata": {},
   "outputs": [],
   "source": [
    "4//2"
   ]
  },
  {
   "cell_type": "code",
   "execution_count": null,
   "id": "4ff952e1",
   "metadata": {},
   "outputs": [],
   "source": [
    "5//2"
   ]
  },
  {
   "cell_type": "code",
   "execution_count": null,
   "id": "d53613fb",
   "metadata": {},
   "outputs": [],
   "source": [
    "5%2"
   ]
  },
  {
   "cell_type": "code",
   "execution_count": null,
   "id": "fc16c7e0",
   "metadata": {},
   "outputs": [],
   "source": [
    "x=4"
   ]
  },
  {
   "cell_type": "code",
   "execution_count": null,
   "id": "283fea42",
   "metadata": {},
   "outputs": [],
   "source": [
    "x/2"
   ]
  },
  {
   "cell_type": "code",
   "execution_count": null,
   "id": "aacc753c",
   "metadata": {},
   "outputs": [],
   "source": [
    "x"
   ]
  },
  {
   "cell_type": "code",
   "execution_count": null,
   "id": "33e4c183",
   "metadata": {},
   "outputs": [],
   "source": [
    "x=x/2"
   ]
  },
  {
   "cell_type": "code",
   "execution_count": null,
   "id": "70e597e8",
   "metadata": {},
   "outputs": [],
   "source": [
    "x"
   ]
  },
  {
   "cell_type": "code",
   "execution_count": null,
   "id": "b4077fb5",
   "metadata": {},
   "outputs": [],
   "source": [
    "2.0"
   ]
  },
  {
   "cell_type": "code",
   "execution_count": null,
   "id": "9e280f6c",
   "metadata": {},
   "outputs": [],
   "source": [
    "int(2.0)"
   ]
  },
  {
   "cell_type": "code",
   "execution_count": null,
   "id": "d0e8edd5",
   "metadata": {},
   "outputs": [],
   "source": [
    "float(2)"
   ]
  },
  {
   "cell_type": "code",
   "execution_count": null,
   "id": "1313dcc6",
   "metadata": {},
   "outputs": [],
   "source": [
    "bool(0)"
   ]
  },
  {
   "cell_type": "code",
   "execution_count": null,
   "id": "b300456a",
   "metadata": {},
   "outputs": [],
   "source": [
    "bool(1)"
   ]
  },
  {
   "cell_type": "code",
   "execution_count": null,
   "id": "45d8d96f",
   "metadata": {},
   "outputs": [],
   "source": [
    "bool(2)"
   ]
  },
  {
   "cell_type": "code",
   "execution_count": null,
   "id": "f63b12bf",
   "metadata": {},
   "outputs": [],
   "source": [
    "bool(-1)"
   ]
  },
  {
   "cell_type": "code",
   "execution_count": null,
   "id": "a5c8d1e9",
   "metadata": {},
   "outputs": [],
   "source": [
    "9*2"
   ]
  },
  {
   "cell_type": "code",
   "execution_count": null,
   "id": "c28889d5",
   "metadata": {},
   "outputs": [],
   "source": [
    "8**2"
   ]
  },
  {
   "cell_type": "code",
   "execution_count": null,
   "id": "04d25880",
   "metadata": {},
   "outputs": [],
   "source": [
    "9>2"
   ]
  },
  {
   "cell_type": "code",
   "execution_count": null,
   "id": "b5a189f2",
   "metadata": {},
   "outputs": [],
   "source": [
    "9>=9"
   ]
  },
  {
   "cell_type": "code",
   "execution_count": null,
   "id": "72565c89",
   "metadata": {},
   "outputs": [],
   "source": [
    "9<=9"
   ]
  },
  {
   "cell_type": "code",
   "execution_count": null,
   "id": "7b52b752",
   "metadata": {},
   "outputs": [],
   "source": [
    "9!=3"
   ]
  },
  {
   "cell_type": "code",
   "execution_count": null,
   "id": "a4fd82c7",
   "metadata": {},
   "outputs": [],
   "source": [
    "9<1 or 8+3 == 1"
   ]
  },
  {
   "cell_type": "code",
   "execution_count": null,
   "id": "0a2255c6",
   "metadata": {},
   "outputs": [],
   "source": [
    "9 < 1 and 8 + 3 == 11"
   ]
  },
  {
   "cell_type": "code",
   "execution_count": null,
   "id": "e04a460e",
   "metadata": {},
   "outputs": [],
   "source": [
    "0.1 + 0.2"
   ]
  },
  {
   "cell_type": "code",
   "execution_count": null,
   "id": "ac776f16",
   "metadata": {},
   "outputs": [],
   "source": [
    "0.1 + 0.2 == 0.3"
   ]
  },
  {
   "cell_type": "markdown",
   "id": "5cd0dded",
   "metadata": {},
   "source": [
    "<hr style=\"border:1px solid black\">"
   ]
  },
  {
   "cell_type": "markdown",
   "id": "396966d1",
   "metadata": {},
   "source": [
    "## Strings"
   ]
  },
  {
   "cell_type": "code",
   "execution_count": 17,
   "id": "ba2bd6ad",
   "metadata": {},
   "outputs": [
    {
     "data": {
      "text/plain": [
       "'Hello World'"
      ]
     },
     "execution_count": 17,
     "metadata": {},
     "output_type": "execute_result"
    }
   ],
   "source": [
    "#string with single quotes\n",
    "'Hello World'"
   ]
  },
  {
   "cell_type": "code",
   "execution_count": 18,
   "id": "d710ae47",
   "metadata": {},
   "outputs": [
    {
     "data": {
      "text/plain": [
       "'Hello World'"
      ]
     },
     "execution_count": 18,
     "metadata": {},
     "output_type": "execute_result"
    }
   ],
   "source": [
    "#string with double quotes\n",
    "\"Hello World\""
   ]
  },
  {
   "cell_type": "code",
   "execution_count": 19,
   "id": "b3abb44c",
   "metadata": {},
   "outputs": [
    {
     "data": {
      "text/plain": [
       "\"Bobby's computer is cool\""
      ]
     },
     "execution_count": 19,
     "metadata": {},
     "output_type": "execute_result"
    }
   ],
   "source": [
    "#double quotes work with an apostrophe\n",
    "\"Bobby's computer is cool\""
   ]
  },
  {
   "cell_type": "code",
   "execution_count": 20,
   "id": "30801ae2",
   "metadata": {},
   "outputs": [
    {
     "ename": "SyntaxError",
     "evalue": "invalid syntax (3628040834.py, line 2)",
     "output_type": "error",
     "traceback": [
      "\u001b[0;36m  Input \u001b[0;32mIn [20]\u001b[0;36m\u001b[0m\n\u001b[0;31m    'Bobby's computer is cool'\u001b[0m\n\u001b[0m           ^\u001b[0m\n\u001b[0;31mSyntaxError\u001b[0m\u001b[0;31m:\u001b[0m invalid syntax\n"
     ]
    }
   ],
   "source": [
    "#on the other hand, an apostrophe will NOT work if you use single quotes\n",
    "#Python thinks that the apostrophe is the end of the string\n",
    "'Bobby's computer is cool'"
   ]
  },
  {
   "cell_type": "code",
   "execution_count": null,
   "id": "9dd58f05",
   "metadata": {},
   "outputs": [],
   "source": []
  },
  {
   "cell_type": "code",
   "execution_count": null,
   "id": "54e8b0a4",
   "metadata": {},
   "outputs": [],
   "source": []
  },
  {
   "cell_type": "code",
   "execution_count": null,
   "id": "dafe5289",
   "metadata": {},
   "outputs": [],
   "source": []
  },
  {
   "cell_type": "code",
   "execution_count": null,
   "id": "44bd5460",
   "metadata": {},
   "outputs": [],
   "source": []
  },
  {
   "cell_type": "code",
   "execution_count": null,
   "id": "6a653f8c",
   "metadata": {},
   "outputs": [],
   "source": []
  }
 ],
 "metadata": {
  "kernelspec": {
   "display_name": "Python 3 (ipykernel)",
   "language": "python",
   "name": "python3"
  },
  "language_info": {
   "codemirror_mode": {
    "name": "ipython",
    "version": 3
   },
   "file_extension": ".py",
   "mimetype": "text/x-python",
   "name": "python",
   "nbconvert_exporter": "python",
   "pygments_lexer": "ipython3",
   "version": "3.9.13"
  }
 },
 "nbformat": 4,
 "nbformat_minor": 5
}
