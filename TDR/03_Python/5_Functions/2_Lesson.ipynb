{
 "cells": [
  {
   "cell_type": "markdown",
   "id": "64ded0b3",
   "metadata": {},
   "source": [
    "# Functions Lesson"
   ]
  },
  {
   "cell_type": "markdown",
   "id": "84944b22",
   "metadata": {},
   "source": [
    "[Python Functions Canva](https://docs.google.com/presentation/d/1UDVYZg-Mxut3esRuA9nCLu-YREpzFzvFat2GIkaAiz0/edit#slide=id.gc93fc46d17_0_310)"
   ]
  },
  {
   "cell_type": "code",
   "execution_count": null,
   "id": "4bc00aee",
   "metadata": {},
   "outputs": [],
   "source": []
  }
 ],
 "metadata": {
  "kernelspec": {
   "display_name": "Python 3 (ipykernel)",
   "language": "python",
   "name": "python3"
  },
  "language_info": {
   "codemirror_mode": {
    "name": "ipython",
    "version": 3
   },
   "file_extension": ".py",
   "mimetype": "text/x-python",
   "name": "python",
   "nbconvert_exporter": "python",
   "pygments_lexer": "ipython3",
   "version": "3.9.13"
  }
 },
 "nbformat": 4,
 "nbformat_minor": 5
}
