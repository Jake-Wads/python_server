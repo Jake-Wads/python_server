{
 "cells": [
  {
   "cell_type": "markdown",
   "id": "b5991a89",
   "metadata": {},
   "source": [
    "# Control Structures Lesson"
   ]
  },
  {
   "cell_type": "markdown",
   "id": "b6bf6509",
   "metadata": {},
   "source": [
    "[Control Structures Canva](https://www.canva.com/design/DAEa1F7lW_Q/hOTop5pyXtmupC0VzcqMng/edit?utm_content=DAEa1F7lW_Q&utm_campaign=designshare&utm_medium=link2&utm_source=sharebutton)"
   ]
  },
  {
   "cell_type": "markdown",
   "id": "f57824ba",
   "metadata": {},
   "source": [
    "<div class=\"alert alert-block alert-info\">\n",
    "<b>Note:</b> In this lesson, we'll discuss 2 primary ways of controlling the flow of execution of our Python scripts:\n",
    "    <br>\n",
    "- <b>conditionals</b>: allow us to execute code conditionally\n",
    "    <br>\n",
    "    - <b>loops</b>: allow us to execute code repeatedly\n",
    "        </div>"
   ]
  },
  {
   "cell_type": "markdown",
   "id": "eb1f08bc",
   "metadata": {},
   "source": [
    "<hr style=\"border:2px solid black\">"
   ]
  },
  {
   "cell_type": "markdown",
   "id": "a818ea72",
   "metadata": {},
   "source": [
    "## if conditions\n",
    "The if statement is the most basic way to execute code conditionally."
   ]
  },
  {
   "cell_type": "markdown",
   "id": "d8a6874e",
   "metadata": {},
   "source": [
    "<div class=\"alert alert-block alert-info\">\n",
    "<b>Note:</b> If statement:\n",
    "    <br>\n",
    "- If <i>this</i> then <i>that</i>\n",
    "    <br>\n",
    "- If True, do thing.\n",
    "      </div>"
   ]
  },
  {
   "cell_type": "markdown",
   "id": "89972f36",
   "metadata": {},
   "source": [
    "An if statement consist of several parts:\n",
    "\n",
    "1. the keyword if\n",
    "2. a condition that evaluates to a boolean value followed by a colon (:)\n",
    "3. the body of the statement indented by 4 spaces"
   ]
  },
  {
   "cell_type": "code",
   "execution_count": 60,
   "id": "7f0910f0",
   "metadata": {},
   "outputs": [
    {
     "name": "stdout",
     "output_type": "stream",
     "text": [
      "I like coffee!\n",
      "Coffee is the best!\n"
     ]
    }
   ],
   "source": [
    "i_like_coffee = True\n",
    "\n",
    "if i_like_coffee:\n",
    "    print('I like coffee!')\n",
    "    print('Coffee is the best!')"
   ]
  },
  {
   "cell_type": "code",
   "execution_count": 61,
   "id": "ab143bf3",
   "metadata": {},
   "outputs": [],
   "source": [
    "#change condition to False and see what happens\n",
    "i_like_coffee = False\n",
    "\n",
    "if i_like_coffee:\n",
    "    print('I like coffee!')\n",
    "    print('Coffee is the best!')"
   ]
  },
  {
   "cell_type": "code",
   "execution_count": 5,
   "id": "bdd504b3",
   "metadata": {},
   "outputs": [
    {
     "name": "stdout",
     "output_type": "stream",
     "text": [
      "yes its tuesday\n"
     ]
    }
   ],
   "source": [
    "is_tuesday = True\n",
    "\n",
    "if is_tuesday:\n",
    "    print('yes its tuesday')"
   ]
  },
  {
   "cell_type": "markdown",
   "id": "c598ffd9",
   "metadata": {},
   "source": [
    "<hr style=\"border:1px solid black\">"
   ]
  },
  {
   "cell_type": "markdown",
   "id": "719e327c",
   "metadata": {},
   "source": [
    "## Else Statements"
   ]
  },
  {
   "cell_type": "markdown",
   "id": "0603043e",
   "metadata": {},
   "source": [
    "<div class=\"alert alert-block alert-info\">\n",
    "<b>Note:</b> Else, Elif Statements:\n",
    "    <br>\n",
    "        If the parameters of my first things don't work,\n",
    "        <br>\n",
    "        do another thing.\n",
    "        </div>"
   ]
  },
  {
   "cell_type": "code",
   "execution_count": 6,
   "id": "b754d2f4",
   "metadata": {},
   "outputs": [],
   "source": [
    "day_of_week = 'tuesday'"
   ]
  },
  {
   "cell_type": "code",
   "execution_count": 7,
   "id": "438457d8",
   "metadata": {},
   "outputs": [
    {
     "name": "stdout",
     "output_type": "stream",
     "text": [
      "that's today!\n"
     ]
    }
   ],
   "source": [
    "if day_of_week == 'tuesday':\n",
    "    print('that\\'s today!')\n",
    "else:\n",
    "    print('more boring day')"
   ]
  },
  {
   "cell_type": "code",
   "execution_count": 8,
   "id": "6132bb48",
   "metadata": {},
   "outputs": [],
   "source": [
    "day_of_week = 'wednesday'"
   ]
  },
  {
   "cell_type": "code",
   "execution_count": 9,
   "id": "c560328e",
   "metadata": {},
   "outputs": [
    {
     "name": "stdout",
     "output_type": "stream",
     "text": [
      "more boring day\n"
     ]
    }
   ],
   "source": [
    "if day_of_week == 'tuesday':\n",
    "    print('that\\'s today!')\n",
    "else:\n",
    "    print('more boring day')"
   ]
  },
  {
   "cell_type": "markdown",
   "id": "2c52d752",
   "metadata": {},
   "source": [
    "## Elif Statements\n",
    "- elif statements are more complex"
   ]
  },
  {
   "cell_type": "code",
   "execution_count": 10,
   "id": "0623b5a1",
   "metadata": {},
   "outputs": [],
   "source": [
    "day_of_week = 'tuesday'"
   ]
  },
  {
   "cell_type": "code",
   "execution_count": 11,
   "id": "0d2d6c55",
   "metadata": {},
   "outputs": [],
   "source": [
    "second_thing = 'nearly_fiveish'"
   ]
  },
  {
   "cell_type": "code",
   "execution_count": 12,
   "id": "3ad2b86e",
   "metadata": {},
   "outputs": [
    {
     "name": "stdout",
     "output_type": "stream",
     "text": [
      "thats today!\n"
     ]
    }
   ],
   "source": [
    "if day_of_week == 'tuesday':\n",
    "    print('thats today!')\n",
    "elif day_of_week == 'wednesday':\n",
    "    print('tomorrow!')\n",
    "if second_thing == 'nearly_five':\n",
    "    print('dismiss')\n",
    "elif day_of_week == 'monday':\n",
    "    print('garfield')\n",
    "else:\n",
    "    'what day is it???'"
   ]
  },
  {
   "cell_type": "code",
   "execution_count": 13,
   "id": "23425121",
   "metadata": {},
   "outputs": [
    {
     "name": "stdout",
     "output_type": "stream",
     "text": [
      "what day is it???\n"
     ]
    }
   ],
   "source": [
    "if day_of_week == 'tuesday' and second_thing == 'nearly_five':\n",
    "    print('thats today!')\n",
    "elif day_of_week == 'wednesday':\n",
    "    print('tomorrow!')\n",
    "elif day_of_week == 'monday':\n",
    "    print('garfield')\n",
    "else:\n",
    "    print('what day is it???')"
   ]
  },
  {
   "cell_type": "code",
   "execution_count": 14,
   "id": "6f82e9d6",
   "metadata": {},
   "outputs": [
    {
     "name": "stdout",
     "output_type": "stream",
     "text": [
      "thats today!\n"
     ]
    }
   ],
   "source": [
    "if day_of_week == 'tuesday':\n",
    "    print('thats today!')\n",
    "elif second_thing == 'nearly_five':\n",
    "    print('dismiss')\n",
    "elif day_of_week == 'monday':\n",
    "    print('garfield')\n",
    "else:\n",
    "    'what day is it???'"
   ]
  },
  {
   "cell_type": "code",
   "execution_count": 15,
   "id": "fa1af8ee",
   "metadata": {},
   "outputs": [
    {
     "name": "stdout",
     "output_type": "stream",
     "text": [
      "Medium Term Customer\n"
     ]
    }
   ],
   "source": [
    "number_of_items_purchased_month = 2\n",
    "years_as_customer = 10\n",
    "\n",
    "if number_of_items_purchased_month > 4:\n",
    "    print('High Volume Customer')\n",
    "elif years_as_customer > 2:\n",
    "    print('Medium Term Customer')\n",
    "elif years_as_customer > 5:\n",
    "    print('Long Term Customer')\n",
    "else:\n",
    "    print('Target Customer')"
   ]
  },
  {
   "cell_type": "code",
   "execution_count": 16,
   "id": "2b2b5613",
   "metadata": {},
   "outputs": [
    {
     "name": "stdout",
     "output_type": "stream",
     "text": [
      "Long Term Customer\n"
     ]
    }
   ],
   "source": [
    "number_of_items_purchased_month = 2\n",
    "years_as_customer = 10\n",
    "\n",
    "if number_of_items_purchased_month > 4:\n",
    "    print('High Volume Customer')\n",
    "elif years_as_customer > 2 and years_as_customer < 5:\n",
    "    print('Medium Term Customer')\n",
    "elif years_as_customer >= 5:\n",
    "    print('Long Term Customer')\n",
    "else:\n",
    "    print('Target Customer')"
   ]
  },
  {
   "cell_type": "markdown",
   "id": "55e8bc52",
   "metadata": {},
   "source": [
    "<hr style=\"border:1px solid gray\">"
   ]
  },
  {
   "cell_type": "markdown",
   "id": "e21edb28",
   "metadata": {},
   "source": [
    "### Review of topics already covered:"
   ]
  },
  {
   "cell_type": "markdown",
   "id": "dd0f5961",
   "metadata": {},
   "source": [
    "<div class=\"alert alert-block alert-info\">\n",
    "<b>if</b> statements posit a condition\n",
    "<br>\n",
    "    if condition is true, do a thing\n",
    "    <br>\n",
    "<br>\n",
    "<b>else</b>: \n",
    "    <br>\n",
    "if first thing is not true, do this other thing\n",
    "\n",
    "<b>elif</b>:\n",
    "<br> \n",
    "lives between those two, and we say\n",
    "<br>\n",
    "with it, if thing 1 is not true, check to see,\n",
    "<br>\n",
    "if this second is true. if so, do this second instead\n",
    "<br>\n",
    "otherwise, if we make it through all ifs and elifs,\n",
    "<br>\n",
    "do the else\n",
    "    <br>\n",
    "        </div>"
   ]
  },
  {
   "cell_type": "code",
   "execution_count": 17,
   "id": "3c9e6576",
   "metadata": {},
   "outputs": [],
   "source": [
    "beverage_of_choice = 'coffee'"
   ]
  },
  {
   "cell_type": "code",
   "execution_count": 18,
   "id": "e81e6dec",
   "metadata": {},
   "outputs": [],
   "source": [
    "# a single if statement with no else,\n",
    "# will parse the condition,\n",
    "# if it is not true, it will just pass by it\n",
    "if beverage_of_choice == 'monster':\n",
    "    print('oof')"
   ]
  },
  {
   "cell_type": "code",
   "execution_count": 19,
   "id": "2d9a0cdc",
   "metadata": {},
   "outputs": [
    {
     "name": "stdout",
     "output_type": "stream",
     "text": [
      "well what are you drinking then\n"
     ]
    }
   ],
   "source": [
    "# a single if statement with one else,\n",
    "# will parse the condition,\n",
    "# if it is not true, it will go to the else action\n",
    "if beverage_of_choice == 'monster':\n",
    "    print('oof')\n",
    "else:\n",
    "    print('well what are you drinking then')"
   ]
  },
  {
   "cell_type": "code",
   "execution_count": 20,
   "id": "513d7c03",
   "metadata": {},
   "outputs": [
    {
     "name": "stdout",
     "output_type": "stream",
     "text": [
      "good and based\n"
     ]
    }
   ],
   "source": [
    "# a single if statement with an else if (elif)\n",
    "# will parse the condition,\n",
    "# check the second condition in the elif\n",
    "# if both are not true, it will go to the else action\n",
    "if beverage_of_choice == 'monster':\n",
    "    print('oof')\n",
    "elif beverage_of_choice == 'coffee':\n",
    "    print('good and based')\n",
    "else:\n",
    "    print('well what are you drinking then')"
   ]
  },
  {
   "cell_type": "markdown",
   "id": "0e3c8dd5",
   "metadata": {},
   "source": [
    "## Careful of stacking ifs"
   ]
  },
  {
   "cell_type": "code",
   "execution_count": 21,
   "id": "8238de52",
   "metadata": {},
   "outputs": [
    {
     "name": "stdout",
     "output_type": "stream",
     "text": [
      "Long Term Customer\n",
      "Medium Term Customer\n"
     ]
    }
   ],
   "source": [
    "number_of_items_purchased_month = 2\n",
    "years_as_customer = 6\n",
    "\n",
    "if number_of_items_purchased_month > 4:\n",
    "    \n",
    "    print('High Volume Customer')\n",
    "    \n",
    "elif years_as_customer > 2:\n",
    "    \n",
    "    if years_as_customer > 5:\n",
    "        \n",
    "        print('Long Term Customer')\n",
    "        \n",
    "    print('Medium Term Customer')\n",
    "    \n",
    "else:\n",
    "    \n",
    "    print('Target Customer')"
   ]
  },
  {
   "cell_type": "markdown",
   "id": "7990d19a",
   "metadata": {},
   "source": [
    "<hr style=\"border:1px solid gray\">"
   ]
  },
  {
   "cell_type": "markdown",
   "id": "32ac54c9",
   "metadata": {},
   "source": [
    "## Loops:"
   ]
  },
  {
   "cell_type": "markdown",
   "id": "d54f4fdb",
   "metadata": {},
   "source": [
    "In addition to executing code conditionally, we can also execute code over and over again, that is, in a loop.\n",
    "<br>\n",
    "<br>\n",
    "Python has 2 primary looping mechanisms:\n",
    "<br>\n",
    "<br>\n",
    "- for for running a block of code a set number of times\n",
    "- while for running a block of code until a condition is met"
   ]
  },
  {
   "cell_type": "markdown",
   "id": "a40b344b",
   "metadata": {},
   "source": [
    "### Two main flavors: for and while"
   ]
  },
  {
   "cell_type": "markdown",
   "id": "75a732bf",
   "metadata": {},
   "source": [
    "<div class=\"alert alert-block alert-info\">\n",
    "<b>basic for loop structure:</b> \n",
    "<br>\n",
    "- get an iterable?\n",
    "<br>\n",
    "- get a range, a list of values, etc. something we can flip through.\n",
    "<br>\n",
    "- determine a name for how you iterate.\n",
    "<br> \n",
    "- for ____ in your iterable\n",
    "<br>\n",
    "- determine an action\n",
    "<br>\n",
    "- it will happen once each cycle of the list\n",
    "    <br>\n",
    "        </div>"
   ]
  },
  {
   "cell_type": "code",
   "execution_count": 22,
   "id": "15ee44ba",
   "metadata": {},
   "outputs": [],
   "source": [
    "# initialize and assign a list.  this will be an iterable\n",
    "my_little_list = ['coffee',\n",
    "                 'monster',\n",
    "                 'water',\n",
    "                 'tea']"
   ]
  },
  {
   "cell_type": "code",
   "execution_count": 23,
   "id": "266d5361",
   "metadata": {},
   "outputs": [
    {
     "data": {
      "text/plain": [
       "'coffee'"
      ]
     },
     "execution_count": 23,
     "metadata": {},
     "output_type": "execute_result"
    }
   ],
   "source": [
    "# reference the first element of the list\n",
    "my_little_list[0]"
   ]
  },
  {
   "cell_type": "code",
   "execution_count": 24,
   "id": "6783abec",
   "metadata": {},
   "outputs": [
    {
     "data": {
      "text/plain": [
       "'drink coffee'"
      ]
     },
     "execution_count": 24,
     "metadata": {},
     "output_type": "execute_result"
    }
   ],
   "source": [
    "# step one: do a thing\n",
    "my_morning_routine = 'drink ' + my_little_list[0]\n",
    "my_morning_routine"
   ]
  },
  {
   "cell_type": "code",
   "execution_count": 25,
   "id": "1d6620c4",
   "metadata": {},
   "outputs": [],
   "source": [
    "# step two: do the thing again\n",
    "my_morning_routine = 'drink ' + my_little_list[1]"
   ]
  },
  {
   "cell_type": "code",
   "execution_count": 26,
   "id": "ea617bf5",
   "metadata": {},
   "outputs": [
    {
     "data": {
      "text/plain": [
       "'drink monster'"
      ]
     },
     "execution_count": 26,
     "metadata": {},
     "output_type": "execute_result"
    }
   ],
   "source": [
    "# takeaway: we need to change the index in the list,\n",
    "# the action we are taking is concatenating 'drink '\n",
    "my_morning_routine"
   ]
  },
  {
   "cell_type": "code",
   "execution_count": 27,
   "id": "d2611545",
   "metadata": {},
   "outputs": [
    {
     "data": {
      "text/plain": [
       "2"
      ]
     },
     "execution_count": 27,
     "metadata": {},
     "output_type": "execute_result"
    }
   ],
   "source": [
    "# quick note on jupyter notebooks:\n",
    "# unlike a .py script, we get feedback output on returns\n",
    "# from expressions and statements\n",
    "1 + 1"
   ]
  },
  {
   "cell_type": "code",
   "execution_count": 28,
   "id": "0697a05e",
   "metadata": {},
   "outputs": [
    {
     "data": {
      "text/plain": [
       "10"
      ]
     },
     "execution_count": 28,
     "metadata": {},
     "output_type": "execute_result"
    }
   ],
   "source": [
    "# if we have two statements or expressions,\n",
    "# we will only see the last line.\n",
    "3 + 4\n",
    "5 + 5"
   ]
  },
  {
   "cell_type": "code",
   "execution_count": 29,
   "id": "c834aaa6",
   "metadata": {},
   "outputs": [
    {
     "name": "stdout",
     "output_type": "stream",
     "text": [
      "hi\n"
     ]
    },
    {
     "data": {
      "text/plain": [
       "10"
      ]
     },
     "execution_count": 29,
     "metadata": {},
     "output_type": "execute_result"
    }
   ],
   "source": [
    "# if we have two statements or expressions,\n",
    "# we will only see the last line.\n",
    "# this is different frome expressly writing a print to console.\n",
    "3 + 4\n",
    "print('hi')\n",
    "5 + 5"
   ]
  },
  {
   "cell_type": "markdown",
   "id": "41858880",
   "metadata": {},
   "source": [
    "## For Loops"
   ]
  },
  {
   "cell_type": "markdown",
   "id": "cbaeca82",
   "metadata": {},
   "source": [
    "<div class=\"alert alert-block alert-info\">\n",
    "<b>Building out a for loop</b> \n",
    "<br>\n",
    "- What action do I want to do?\n",
    "<br>\n",
    "- How may I want to repeat that action?\n",
    "<br>\n",
    "<br>\n",
    "<b>How to write a loop:</b> \n",
    "<br> \n",
    "1. Do a thing\n",
    "<br>\n",
    "2. Do that thing again\n",
    "<br>\n",
    "3. Put it in a loop\n",
    "    <br>\n",
    "        </div>"
   ]
  },
  {
   "cell_type": "code",
   "execution_count": 30,
   "id": "781485f8",
   "metadata": {},
   "outputs": [
    {
     "name": "stdout",
     "output_type": "stream",
     "text": [
      "0\n",
      "1\n",
      "2\n",
      "3\n",
      "4\n",
      "5\n",
      "6\n",
      "7\n",
      "8\n",
      "9\n"
     ]
    }
   ],
   "source": [
    "#see how the for loop works\n",
    "for number in range(10):\n",
    "    print(number)"
   ]
  },
  {
   "cell_type": "code",
   "execution_count": 31,
   "id": "0cebc9b1",
   "metadata": {},
   "outputs": [
    {
     "data": {
      "text/plain": [
       "'H'"
      ]
     },
     "execution_count": 31,
     "metadata": {},
     "output_type": "execute_result"
    }
   ],
   "source": [
    "#look at the indexes in a basic word\n",
    "hello = 'Hello'\n",
    "hello[0]"
   ]
  },
  {
   "cell_type": "code",
   "execution_count": 32,
   "id": "6a0d461f",
   "metadata": {},
   "outputs": [
    {
     "data": {
      "text/plain": [
       "'llo'"
      ]
     },
     "execution_count": 32,
     "metadata": {},
     "output_type": "execute_result"
    }
   ],
   "source": [
    "#call a specific index\n",
    "hello[2:]"
   ]
  },
  {
   "cell_type": "code",
   "execution_count": 33,
   "id": "2c1343ef",
   "metadata": {},
   "outputs": [
    {
     "name": "stdout",
     "output_type": "stream",
     "text": [
      "H\n",
      "e\n",
      "l\n",
      "l\n",
      "o\n"
     ]
    }
   ],
   "source": [
    "#use a for loop on words\n",
    "for letter in 'Hello':\n",
    "    print(letter)"
   ]
  },
  {
   "cell_type": "code",
   "execution_count": 34,
   "id": "4866dba2",
   "metadata": {},
   "outputs": [
    {
     "name": "stdout",
     "output_type": "stream",
     "text": [
      "coffee\n",
      "monster\n",
      "water\n",
      "tea\n"
     ]
    }
   ],
   "source": [
    "# putting it in a loop\n",
    "for i in my_little_list:\n",
    "    print(i)"
   ]
  },
  {
   "cell_type": "code",
   "execution_count": 35,
   "id": "f731716b",
   "metadata": {},
   "outputs": [
    {
     "name": "stdout",
     "output_type": "stream",
     "text": [
      "i:  0\n",
      "thing:  coffee\n",
      "------\n",
      "i:  1\n",
      "thing:  monster\n",
      "------\n",
      "i:  2\n",
      "thing:  water\n",
      "------\n",
      "i:  3\n",
      "thing:  tea\n",
      "------\n"
     ]
    }
   ],
   "source": [
    "#for loop with print statement\n",
    "for i, thing in enumerate(my_little_list):\n",
    "    print('i: ', i)\n",
    "    print('thing: ', thing)\n",
    "    print('------')"
   ]
  },
  {
   "cell_type": "code",
   "execution_count": 36,
   "id": "edf91984",
   "metadata": {},
   "outputs": [
    {
     "name": "stdout",
     "output_type": "stream",
     "text": [
      "hamsandwich:  3\n",
      "pizza:  tea\n",
      "------\n",
      "hamsandwich:  3\n",
      "pizza:  tea\n",
      "------\n",
      "hamsandwich:  3\n",
      "pizza:  tea\n",
      "------\n",
      "hamsandwich:  3\n",
      "pizza:  tea\n",
      "------\n"
     ]
    }
   ],
   "source": [
    "#more complex\n",
    "for hamsandwich, pizza in enumerate(my_little_list):\n",
    "    print('hamsandwich: ', i)\n",
    "    print('pizza: ', thing)\n",
    "    print('------')"
   ]
  },
  {
   "cell_type": "code",
   "execution_count": 37,
   "id": "5e128051",
   "metadata": {},
   "outputs": [
    {
     "data": {
      "text/plain": [
       "'tea'"
      ]
     },
     "execution_count": 37,
     "metadata": {},
     "output_type": "execute_result"
    }
   ],
   "source": [
    "#what is the last 'thing' called\n",
    "thing"
   ]
  },
  {
   "cell_type": "code",
   "execution_count": 38,
   "id": "4689a131",
   "metadata": {},
   "outputs": [],
   "source": [
    "# for every element in my list:\n",
    "# that is to say: coffee, monster, etc\n",
    "# concatenate 'drink ' to that element\n",
    "# do it for every element until i run out of things\n",
    "for bev in my_little_list:\n",
    "    my_morning_routine = 'drink ' + bev"
   ]
  },
  {
   "cell_type": "code",
   "execution_count": 39,
   "id": "7626d9ea",
   "metadata": {},
   "outputs": [
    {
     "data": {
      "text/plain": [
       "'drink tea'"
      ]
     },
     "execution_count": 39,
     "metadata": {},
     "output_type": "execute_result"
    }
   ],
   "source": [
    "#call \n",
    "my_morning_routine"
   ]
  },
  {
   "cell_type": "code",
   "execution_count": 40,
   "id": "df655cba",
   "metadata": {},
   "outputs": [
    {
     "name": "stdout",
     "output_type": "stream",
     "text": [
      "bev is currently: coffee\n",
      "we are now moving to the next element\n",
      "bev is currently: monster\n",
      "we are now moving to the next element\n",
      "bev is currently: water\n",
      "we are now moving to the next element\n",
      "bev is currently: tea\n",
      "we are now moving to the next element\n",
      "we finished looping\n"
     ]
    }
   ],
   "source": [
    "# for every element in my list:\n",
    "# that is to say: coffee, monster, etc\n",
    "# concatenate 'drink ' to that element\n",
    "# do it for every element until i run out of things\n",
    "\n",
    "# start with initializing an \n",
    "# empty list called my_morning_routines\n",
    "my_morning_routines =[]\n",
    "# we will cycle through the loop the same way\n",
    "for bev in my_little_list:\n",
    "    print(f'bev is currently: {bev}')\n",
    "    my_morning_routines.append('drink ' + bev)\n",
    "    print('we are now moving to the next element')\n",
    "print('we finished looping')"
   ]
  },
  {
   "cell_type": "code",
   "execution_count": 41,
   "id": "908bc567",
   "metadata": {},
   "outputs": [
    {
     "data": {
      "text/plain": [
       "['drink coffee', 'drink monster', 'drink water', 'drink tea']"
      ]
     },
     "execution_count": 41,
     "metadata": {},
     "output_type": "execute_result"
    }
   ],
   "source": [
    "my_morning_routines"
   ]
  },
  {
   "cell_type": "code",
   "execution_count": 42,
   "id": "06ee0431",
   "metadata": {},
   "outputs": [],
   "source": [
    "# lets do it with numbers:\n",
    "my_new_numbers = []\n",
    "\n",
    "for i in range(1,10, 2):\n",
    "    x = i * 5\n",
    "    my_new_numbers.append(x)"
   ]
  },
  {
   "cell_type": "code",
   "execution_count": 43,
   "id": "eadbeb84",
   "metadata": {},
   "outputs": [
    {
     "data": {
      "text/plain": [
       "[5, 15, 25, 35, 45]"
      ]
     },
     "execution_count": 43,
     "metadata": {},
     "output_type": "execute_result"
    }
   ],
   "source": [
    "my_new_numbers"
   ]
  },
  {
   "cell_type": "markdown",
   "id": "90c2e8f0",
   "metadata": {},
   "source": [
    "<hr style=\"border:1px solid gray\">"
   ]
  },
  {
   "cell_type": "markdown",
   "id": "7a74d616",
   "metadata": {},
   "source": [
    "## While Loops"
   ]
  },
  {
   "cell_type": "markdown",
   "id": "8438d130",
   "metadata": {},
   "source": [
    "The while loop will execute it's body until the condition evaluates to false. Usually this means that the code in the loop condition is being modified somewhere in the loop body."
   ]
  },
  {
   "cell_type": "markdown",
   "id": "e0286f94",
   "metadata": {},
   "source": [
    "<div class=\"alert alert-block alert-info\">\n",
    "<b>While loop structure</b> \n",
    "<br>\n",
    "- a condition with a statement of truth\n",
    "<br>\n",
    "- this condition acts an on/off switch\n",
    "<br>\n",
    "<br>\n",
    "<br> \n",
    "<b>thereby:</b>  do an action as long as that condition is true\n",
    "    <br>\n",
    "        </div>"
   ]
  },
  {
   "cell_type": "code",
   "execution_count": 46,
   "id": "fa9e6b48",
   "metadata": {},
   "outputs": [
    {
     "name": "stdout",
     "output_type": "stream",
     "text": [
      "4\n",
      "------\n",
      "14\n",
      "------\n",
      "24\n",
      "------\n",
      "34\n",
      "------\n",
      "44\n",
      "------\n",
      "54\n",
      "------\n",
      "64\n",
      "------\n",
      "74\n",
      "------\n",
      "84\n",
      "------\n",
      "94\n",
      "------\n"
     ]
    }
   ],
   "source": [
    "x = 4\n",
    "\n",
    "while x < 100:\n",
    "    print(x)\n",
    "    print('------')\n",
    "    x += 10"
   ]
  },
  {
   "cell_type": "code",
   "execution_count": 47,
   "id": "1e91ce4d",
   "metadata": {},
   "outputs": [
    {
     "data": {
      "text/plain": [
       "104"
      ]
     },
     "execution_count": 47,
     "metadata": {},
     "output_type": "execute_result"
    }
   ],
   "source": [
    "x"
   ]
  },
  {
   "cell_type": "code",
   "execution_count": 48,
   "id": "11579843",
   "metadata": {},
   "outputs": [],
   "source": [
    "number = 5\n",
    "\n",
    "while number <= 4:\n",
    "    print(number)\n",
    "    number += 1"
   ]
  },
  {
   "cell_type": "code",
   "execution_count": 49,
   "id": "c337db54",
   "metadata": {},
   "outputs": [
    {
     "name": "stdout",
     "output_type": "stream",
     "text": [
      "10\n",
      "9\n",
      "8\n",
      "7\n",
      "6\n",
      "5\n",
      "4\n",
      "3\n",
      "2\n"
     ]
    }
   ],
   "source": [
    "greater_than_1 = True\n",
    "\n",
    "number = 10\n",
    "\n",
    "while greater_than_1:\n",
    "    print(number)\n",
    "    #shorthand for number = number - 1\n",
    "    number -= 1\n",
    "    greater_than_1 = number > 1"
   ]
  },
  {
   "cell_type": "markdown",
   "id": "7cf1cc8b",
   "metadata": {},
   "source": [
    "<hr style=\"border:1px solid gray\">"
   ]
  },
  {
   "cell_type": "markdown",
   "id": "135be30e",
   "metadata": {},
   "source": [
    "## Infinite loops:\n"
   ]
  },
  {
   "cell_type": "markdown",
   "id": "725c18e7",
   "metadata": {},
   "source": [
    "<div class=\"alert alert-block alert-info\">\n",
    "<b>DO NOT</b> run an infinate loop! \n",
    "<br>    \n",
    "<br>\n",
    "An 'infinite' loop will run \"forever\"!\n",
    "    <br>\n",
    "You MUST set parameters to get the loop to stop\n",
    "</div>"
   ]
  },
  {
   "cell_type": "markdown",
   "id": "c917a847",
   "metadata": {},
   "source": [
    "**Example of Infinite Loop**"
   ]
  },
  {
   "cell_type": "raw",
   "id": "4a2325e5",
   "metadata": {},
   "source": [
    "while True\n",
    "    print('Infinite')"
   ]
  },
  {
   "cell_type": "markdown",
   "id": "d0f3facf",
   "metadata": {},
   "source": [
    "<hr style=\"border:1px solid gray\">"
   ]
  },
  {
   "cell_type": "markdown",
   "id": "4084278e",
   "metadata": {},
   "source": [
    "## Break and Continue:"
   ]
  },
  {
   "cell_type": "markdown",
   "id": "15738d5f",
   "metadata": {},
   "source": [
    "<div class=\"alert alert-block alert-info\">\n",
    "<b>Break:</b> \n",
    "<br>\n",
    "- will stop a loop in its tracks and exit\n",
    "<br>\n",
    "<b>Continue:</b> \n",
    "<br>\n",
    "- go forward into the next iteration.\n",
    "</div>"
   ]
  },
  {
   "cell_type": "code",
   "execution_count": 51,
   "id": "8542f2d8",
   "metadata": {},
   "outputs": [],
   "source": [
    "for i in range(5, 100):\n",
    "    if i > 4:\n",
    "        break\n",
    "    print(i)"
   ]
  },
  {
   "cell_type": "code",
   "execution_count": 52,
   "id": "c7e133fc",
   "metadata": {},
   "outputs": [
    {
     "name": "stdout",
     "output_type": "stream",
     "text": [
      "1\n",
      "2\n",
      "3\n",
      "2\n"
     ]
    }
   ],
   "source": [
    "for i in [1, 2, 3, 2]:\n",
    "    if i > 4:\n",
    "        break\n",
    "    print(i)"
   ]
  },
  {
   "cell_type": "code",
   "execution_count": 53,
   "id": "6b9c43b4",
   "metadata": {},
   "outputs": [
    {
     "name": "stdout",
     "output_type": "stream",
     "text": [
      "i:  1\n",
      "False\n",
      "we are here\n",
      "x:  5\n",
      "i:  3\n",
      "True\n",
      "i:  5\n",
      "True\n",
      "i:  7\n",
      "True\n",
      "i:  9\n",
      "False\n",
      "we are here\n",
      "x:  45\n"
     ]
    }
   ],
   "source": [
    "# lets do it with numbers:\n",
    "my_new_numbers = []\n",
    "\n",
    "for i in range(1,10, 2):\n",
    "    # we are living in each iteration of the loop\n",
    "    print('i: ', i)\n",
    "    #every iteration of the loop has an i\n",
    "    #my_bool gets a truth assessing if i is in the middle nums\n",
    "    my_bool = i in [3,5,7]\n",
    "    print(my_bool)\n",
    "    #if that bool is true, go up to the next iteration\n",
    "    # continue means *go to the next iteration NOW*\n",
    "    # not do the rest of the things under\n",
    "    if my_bool:\n",
    "        continue\n",
    "    #if its not true, do this next stuff\n",
    "    x = i * 5\n",
    "    print('we are here')\n",
    "    print('x: ', x)\n",
    "    my_new_numbers.append(x)"
   ]
  },
  {
   "cell_type": "code",
   "execution_count": 54,
   "id": "03411fc0",
   "metadata": {},
   "outputs": [
    {
     "data": {
      "text/plain": [
       "[5, 45]"
      ]
     },
     "execution_count": 54,
     "metadata": {},
     "output_type": "execute_result"
    }
   ],
   "source": [
    "my_new_numbers"
   ]
  },
  {
   "cell_type": "code",
   "execution_count": 55,
   "id": "172ebc0d",
   "metadata": {
    "scrolled": true
   },
   "outputs": [
    {
     "data": {
      "text/plain": [
       "False"
      ]
     },
     "execution_count": 55,
     "metadata": {},
     "output_type": "execute_result"
    }
   ],
   "source": [
    "10 in [1,3,5,7,9]"
   ]
  }
 ],
 "metadata": {
  "kernelspec": {
   "display_name": "Python 3 (ipykernel)",
   "language": "python",
   "name": "python3"
  },
  "language_info": {
   "codemirror_mode": {
    "name": "ipython",
    "version": 3
   },
   "file_extension": ".py",
   "mimetype": "text/x-python",
   "name": "python",
   "nbconvert_exporter": "python",
   "pygments_lexer": "ipython3",
   "version": "3.9.13"
  }
 },
 "nbformat": 4,
 "nbformat_minor": 5
}
