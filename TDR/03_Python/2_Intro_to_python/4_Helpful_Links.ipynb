{
 "cells": [
  {
   "cell_type": "markdown",
   "id": "c8e3bb3a",
   "metadata": {},
   "source": [
    "# Helpful Links: Introduction to Python"
   ]
  },
  {
   "cell_type": "markdown",
   "id": "85fbe320",
   "metadata": {},
   "source": [
    "<hr style=\"border:2px solid gray\">"
   ]
  },
  {
   "cell_type": "markdown",
   "id": "c837d65d",
   "metadata": {},
   "source": [
    "### Links to Lesson Notebooks"
   ]
  },
  {
   "cell_type": "markdown",
   "id": "43690e6c",
   "metadata": {},
   "source": [
    "N/A"
   ]
  },
  {
   "cell_type": "markdown",
   "id": "16c7a82b",
   "metadata": {},
   "source": [
    "<hr style=\"border:1px solid black\">"
   ]
  },
  {
   "cell_type": "markdown",
   "id": "f150b7ea",
   "metadata": {},
   "source": [
    "### Links to Exercises Notebooks"
   ]
  },
  {
   "cell_type": "markdown",
   "id": "0e8055ff",
   "metadata": {},
   "source": [
    "N/A"
   ]
  },
  {
   "cell_type": "markdown",
   "id": "196160ea",
   "metadata": {},
   "source": [
    "<hr style=\"border:1px solid black\">"
   ]
  },
  {
   "cell_type": "markdown",
   "id": "54732b28",
   "metadata": {},
   "source": [
    "### Links to Slideshow"
   ]
  },
  {
   "cell_type": "markdown",
   "id": "71cc8017",
   "metadata": {},
   "source": [
    "The following a slide deck created by Madeleine:"
   ]
  },
  {
   "cell_type": "markdown",
   "id": "30dd51b7",
   "metadata": {},
   "source": [
    "[Intro to Python Canva](https://www.canva.com/design/DAFGH-58VJI/p_SAGq4YNG7ANv8wPZq7RA/edit?utm_content=DAFGH-58VJI&utm_campaign=designshare&utm_medium=link2&utm_source=sharebutton)"
   ]
  },
  {
   "cell_type": "markdown",
   "id": "a8239706",
   "metadata": {},
   "source": [
    "<hr style=\"border:1px solid black\">"
   ]
  },
  {
   "cell_type": "markdown",
   "id": "19321499",
   "metadata": {},
   "source": [
    "### Links to Video Recording"
   ]
  },
  {
   "cell_type": "markdown",
   "id": "135027f5",
   "metadata": {},
   "source": [
    "[Setting up Python environment by Ryan O.](https://youtu.be/0aRE1x_xHIY)"
   ]
  },
  {
   "cell_type": "markdown",
   "id": "85263d92",
   "metadata": {},
   "source": [
    "[How to write a Python script by Ryan O.](https://youtu.be/2HVJX7Gt5mM)"
   ]
  },
  {
   "cell_type": "markdown",
   "id": "0647333e",
   "metadata": {},
   "source": [
    "<hr style=\"border:1px solid black\">"
   ]
  },
  {
   "cell_type": "markdown",
   "id": "ef553d62",
   "metadata": {},
   "source": [
    "### Video Tutorials"
   ]
  },
  {
   "cell_type": "markdown",
   "id": "69fe467a",
   "metadata": {},
   "source": [
    "N/A"
   ]
  },
  {
   "cell_type": "markdown",
   "id": "6d9b62db",
   "metadata": {},
   "source": [
    "<hr style=\"border:1px solid black\">"
   ]
  },
  {
   "cell_type": "markdown",
   "id": "8791a6d9",
   "metadata": {},
   "source": [
    "### Link to Curriculum Page"
   ]
  },
  {
   "cell_type": "markdown",
   "id": "394eb8a1",
   "metadata": {},
   "source": [
    "[Introduction to Python](https://ds.codeup.com/python/introduction-to-python/)"
   ]
  },
  {
   "cell_type": "markdown",
   "id": "96654790",
   "metadata": {},
   "source": [
    "<hr style=\"border:1px solid black\">"
   ]
  },
  {
   "cell_type": "markdown",
   "id": "9a6856ab",
   "metadata": {},
   "source": [
    "### Other"
   ]
  },
  {
   "cell_type": "markdown",
   "id": "b684668a",
   "metadata": {},
   "source": [
    "N/A"
   ]
  }
 ],
 "metadata": {
  "kernelspec": {
   "display_name": "Python 3 (ipykernel)",
   "language": "python",
   "name": "python3"
  },
  "language_info": {
   "codemirror_mode": {
    "name": "ipython",
    "version": 3
   },
   "file_extension": ".py",
   "mimetype": "text/x-python",
   "name": "python",
   "nbconvert_exporter": "python",
   "pygments_lexer": "ipython3",
   "version": "3.9.13"
  }
 },
 "nbformat": 4,
 "nbformat_minor": 5
}
