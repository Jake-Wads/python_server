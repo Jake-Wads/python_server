{
 "cells": [
  {
   "cell_type": "markdown",
   "id": "0a23679a",
   "metadata": {},
   "source": [
    "# Lesson Plan: Introduction to Python\n"
   ]
  },
  {
   "cell_type": "markdown",
   "id": "54aea691",
   "metadata": {},
   "source": [
    "<hr style=\"border:2px solid gray\">"
   ]
  },
  {
   "cell_type": "markdown",
   "id": "4dc33e6d",
   "metadata": {},
   "source": [
    "### 1. Lesson Objective"
   ]
  },
  {
   "cell_type": "markdown",
   "id": "bee17f37",
   "metadata": {},
   "source": [
    "<b>Introduction to Python Learning Objectives:</b>\n",
    "1. Student will be able to set up a Python environment on their laptops\n",
    "1. Student will understand how to perform python scripts directly for the terminal with a REPL\n",
    "2. Student will understand how to utilize the help() function\n",
    "3. Student will begin to utilize Jupyter Notebook for performing tasks"
   ]
  },
  {
   "cell_type": "markdown",
   "id": "95089a93",
   "metadata": {},
   "source": [
    "<hr style=\"border:1px solid black\">"
   ]
  },
  {
   "cell_type": "markdown",
   "id": "e61cd878",
   "metadata": {},
   "source": [
    "### 2. Pacing/timing of lectures/exercises"
   ]
  },
  {
   "cell_type": "markdown",
   "id": "9ae9169d",
   "metadata": {},
   "source": [
    "N/A"
   ]
  },
  {
   "cell_type": "markdown",
   "id": "ffcf3cee",
   "metadata": {},
   "source": [
    "<hr style=\"border:1px solid black\">"
   ]
  },
  {
   "cell_type": "markdown",
   "id": "899c52a2",
   "metadata": {},
   "source": [
    "### 3. Materials"
   ]
  },
  {
   "cell_type": "markdown",
   "id": "e63a4bd3",
   "metadata": {},
   "source": [
    "- Laptop\n",
    "- Codeup Curriculum\n",
    "- Python (version 3 or newer)\n",
    "- Jupyter Notebook"
   ]
  },
  {
   "cell_type": "markdown",
   "id": "738aee26",
   "metadata": {},
   "source": [
    "<hr style=\"border:1px solid black\">"
   ]
  },
  {
   "cell_type": "markdown",
   "id": "f11b3e54",
   "metadata": {},
   "source": [
    "### 4. Vocabulary"
   ]
  },
  {
   "cell_type": "markdown",
   "id": "b4efbe58",
   "metadata": {},
   "source": [
    "- <b>Python</b>:\n",
    "- <b>REPL</b>:\n",
    "- <b>Script</b>:\n",
    "- <b>Jupyter Notebook</b>:\n",
    "- <b>package</b>: a directory that consists of one or more python modules, and possibly additional packages in subdirectories. Packages are typically a grouping of related python code to perform a specific task or tasks.\n",
    "- <b>library</b>: a package bundled together to be distributed for others to use."
   ]
  },
  {
   "cell_type": "markdown",
   "id": "418e19c4",
   "metadata": {},
   "source": [
    "<hr style=\"border:1px solid black\">"
   ]
  },
  {
   "cell_type": "markdown",
   "id": "f514ef37",
   "metadata": {},
   "source": [
    "### 5. Assessments (what are they)"
   ]
  },
  {
   "cell_type": "markdown",
   "id": "3b1bbd1c",
   "metadata": {},
   "source": [
    "N/A"
   ]
  },
  {
   "cell_type": "markdown",
   "id": "4b76ab73",
   "metadata": {},
   "source": [
    "<hr style=\"border:1px solid black\">"
   ]
  },
  {
   "cell_type": "markdown",
   "id": "ec6be5ac",
   "metadata": {},
   "source": [
    "### 6. Table of Contents"
   ]
  },
  {
   "cell_type": "markdown",
   "id": "f3e95689",
   "metadata": {},
   "source": [
    "- Python 2 vs 3\n",
    "- Setting Up a Python Environment\n",
    "- Using Python\n",
    "    - Starting A REPL\n",
    "    - Getting Help\n",
    "    - Writing Python Scripts\n",
    "    - Jupyter Notebooks\n",
    "- Installing Packages\n",
    "- More Resources\n",
    "- Exercises"
   ]
  },
  {
   "cell_type": "code",
   "execution_count": null,
   "id": "e1a89f3d",
   "metadata": {},
   "outputs": [],
   "source": []
  }
 ],
 "metadata": {
  "kernelspec": {
   "display_name": "Python 3 (ipykernel)",
   "language": "python",
   "name": "python3"
  },
  "language_info": {
   "codemirror_mode": {
    "name": "ipython",
    "version": 3
   },
   "file_extension": ".py",
   "mimetype": "text/x-python",
   "name": "python",
   "nbconvert_exporter": "python",
   "pygments_lexer": "ipython3",
   "version": "3.9.13"
  }
 },
 "nbformat": 4,
 "nbformat_minor": 5
}
