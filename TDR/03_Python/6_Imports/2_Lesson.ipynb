{
 "cells": [
  {
   "cell_type": "markdown",
   "id": "a0fc9ada",
   "metadata": {},
   "source": [
    "# Imports"
   ]
  },
  {
   "cell_type": "markdown",
   "id": "8427030e",
   "metadata": {},
   "source": [
    "We import libraries or modules into our current Python session in order to use the functions, methods, or variables within it. We can also directly import specific functions, methods or variables, as opposed to the entire module. The goal is to avoid reinventing the wheel. Practitioners use imports all the time."
   ]
  },
  {
   "cell_type": "markdown",
   "id": "2c0aeb20",
   "metadata": {},
   "source": [
    "<hr style=\"border:2px solid gray\">"
   ]
  },
  {
   "cell_type": "markdown",
   "id": "db66913d",
   "metadata": {},
   "source": [
    "Create Slide Show\n",
    "https://github.com/CodeupClassroom/mirzakhani-python-exercises/blob/main/imports_lecture.ipynb"
   ]
  },
  {
   "cell_type": "code",
   "execution_count": 5,
   "id": "8fdbc895",
   "metadata": {},
   "outputs": [],
   "source": [
    "import math"
   ]
  },
  {
   "cell_type": "code",
   "execution_count": 6,
   "id": "0a152929",
   "metadata": {},
   "outputs": [
    {
     "data": {
      "text/plain": [
       "2.0"
      ]
     },
     "execution_count": 6,
     "metadata": {},
     "output_type": "execute_result"
    }
   ],
   "source": [
    "math.sqrt(4)"
   ]
  },
  {
   "cell_type": "markdown",
   "id": "96c8fb30",
   "metadata": {},
   "source": [
    "### Alias the imported module\n",
    "We can alias the name of the import using the as reserved word"
   ]
  },
  {
   "cell_type": "code",
   "execution_count": 2,
   "id": "0d720b49",
   "metadata": {},
   "outputs": [],
   "source": [
    "import math as m"
   ]
  },
  {
   "cell_type": "code",
   "execution_count": 4,
   "id": "35acbfbb",
   "metadata": {},
   "outputs": [
    {
     "data": {
      "text/plain": [
       "2.0"
      ]
     },
     "execution_count": 4,
     "metadata": {},
     "output_type": "execute_result"
    }
   ],
   "source": [
    "m.sqrt(4)"
   ]
  },
  {
   "cell_type": "markdown",
   "id": "b68628b6",
   "metadata": {},
   "source": [
    "### Importing just certain functions from a module\n",
    "We can import only specific functions from a module using the from reserved word"
   ]
  },
  {
   "cell_type": "code",
   "execution_count": 7,
   "id": "1ec7618f",
   "metadata": {},
   "outputs": [],
   "source": [
    "from math import sqrt"
   ]
  },
  {
   "cell_type": "code",
   "execution_count": 8,
   "id": "806c93b1",
   "metadata": {},
   "outputs": [
    {
     "data": {
      "text/plain": [
       "2.0"
      ]
     },
     "execution_count": 8,
     "metadata": {},
     "output_type": "execute_result"
    }
   ],
   "source": [
    "sqrt(4)"
   ]
  },
  {
   "cell_type": "markdown",
   "id": "7b0cb5af",
   "metadata": {},
   "source": [
    "### Importing your own code\n",
    "If I have a file in the same directory as this notebook called my_function.py, I can import it using import and using my file as the module name, minus the .py"
   ]
  },
  {
   "cell_type": "code",
   "execution_count": 12,
   "id": "973876b1",
   "metadata": {},
   "outputs": [],
   "source": [
    "import my_function"
   ]
  },
  {
   "cell_type": "code",
   "execution_count": 13,
   "id": "7afc9a33",
   "metadata": {},
   "outputs": [
    {
     "data": {
      "text/plain": [
       "3"
      ]
     },
     "execution_count": 13,
     "metadata": {},
     "output_type": "execute_result"
    }
   ],
   "source": [
    "my_function.iterate(2)"
   ]
  }
 ],
 "metadata": {
  "kernelspec": {
   "display_name": "Python 3 (ipykernel)",
   "language": "python",
   "name": "python3"
  },
  "language_info": {
   "codemirror_mode": {
    "name": "ipython",
    "version": 3
   },
   "file_extension": ".py",
   "mimetype": "text/x-python",
   "name": "python",
   "nbconvert_exporter": "python",
   "pygments_lexer": "ipython3",
   "version": "3.9.13"
  }
 },
 "nbformat": 4,
 "nbformat_minor": 5
}
