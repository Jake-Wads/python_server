{
 "cells": [
  {
   "cell_type": "markdown",
   "id": "0a23679a",
   "metadata": {},
   "source": [
    "# Lesson Plan: Imports"
   ]
  },
  {
   "cell_type": "markdown",
   "id": "54aea691",
   "metadata": {},
   "source": [
    "<hr style=\"border:2px solid gray\">"
   ]
  },
  {
   "cell_type": "markdown",
   "id": "4dc33e6d",
   "metadata": {},
   "source": [
    "### 1. Lesson Objective"
   ]
  },
  {
   "cell_type": "markdown",
   "id": "bee17f37",
   "metadata": {},
   "source": [
    "<b>Imports Learning Objectives:</b>\n",
    "1. Students gain a basic understanding of how imports work and how to use them\n",
    "<br>\n",
    "\n",
    "2. Students gain a basic understanding of the purpose of, and have a basic working knowledge of the following libraries:\n",
    "- matplotlib\n",
    "- numpy\n",
    "- pandas\n",
    "- seaborn\n",
    "- sklearn\n",
    "- scipy\n",
    "- stats"
   ]
  },
  {
   "cell_type": "markdown",
   "id": "95089a93",
   "metadata": {},
   "source": [
    "<hr style=\"border:1px solid black\">"
   ]
  },
  {
   "cell_type": "markdown",
   "id": "e61cd878",
   "metadata": {},
   "source": [
    "### 2. Pacing/timing of lectures/exercises"
   ]
  },
  {
   "cell_type": "markdown",
   "id": "9ae9169d",
   "metadata": {},
   "source": [
    "N/A"
   ]
  },
  {
   "cell_type": "markdown",
   "id": "ffcf3cee",
   "metadata": {},
   "source": [
    "<hr style=\"border:1px solid black\">"
   ]
  },
  {
   "cell_type": "markdown",
   "id": "899c52a2",
   "metadata": {},
   "source": [
    "### 3. Materials"
   ]
  },
  {
   "cell_type": "markdown",
   "id": "e63a4bd3",
   "metadata": {},
   "source": [
    "- Laptop\n",
    "- Codeup Curriculum\n",
    "- Python (version 3 or newer)\n",
    "- Jupyter Notebook\n",
    "- Function created by student named: my_functions.py"
   ]
  },
  {
   "cell_type": "markdown",
   "id": "738aee26",
   "metadata": {},
   "source": [
    "<hr style=\"border:1px solid black\">"
   ]
  },
  {
   "cell_type": "markdown",
   "id": "f11b3e54",
   "metadata": {},
   "source": [
    "### 4. Vocabulary"
   ]
  },
  {
   "cell_type": "markdown",
   "id": "b4efbe58",
   "metadata": {},
   "source": [
    "A <b>Module</b> is an python file with a .py extension.\n",
    "- Modules contain functions and variables. A module can exist in:\n",
    "    - The python standard library\n",
    "    - Community developed packages\n",
    "    - Your working directory as a file that you have created. For example, this capstone project from the Darden cohort has modules named acquire, prepare, explore, preprocessing, and model that are imported into their jupyter notebook.\n",
    "<br>\n",
    "\n",
    "A <b>Package</b> is a directory that contains modules.\n",
    "- It can also consist of other packages, or 'sub-packages'. Packages are a way to distribute one or more modules. We install packages in order to be able to import modules or libraries for use.\n",
    "<br>\n",
    "\n",
    "A <b>Library</b> is a collection of code, data, documentation, and configuration, usually purpose built for specific tasks.\n",
    "- Libraries can be very large in scope like numpy, a library the forms the base for most other scientific packages in python, or matplotlib, the library we'll use for data visualization. Other libraries are smaller in scope, like requests, a library for sending HTTP requests.\n",
    "<br>\n",
    "\n",
    "The <b>Python Package Index</b>, PyPI, https://pypi.org/, is a repository of community developed Python packages.\n",
    "<br>\n",
    "\n",
    "Anaconda's <b>Conda</b> product is a package manager. It helps you find and install 3rd party packages."
   ]
  },
  {
   "cell_type": "markdown",
   "id": "418e19c4",
   "metadata": {},
   "source": [
    "<hr style=\"border:1px solid black\">"
   ]
  },
  {
   "cell_type": "markdown",
   "id": "f514ef37",
   "metadata": {},
   "source": [
    "### 5. Assessments (what are they)"
   ]
  },
  {
   "cell_type": "markdown",
   "id": "3b1bbd1c",
   "metadata": {},
   "source": [
    "N/A"
   ]
  },
  {
   "cell_type": "markdown",
   "id": "4b76ab73",
   "metadata": {},
   "source": [
    "<hr style=\"border:1px solid black\">"
   ]
  },
  {
   "cell_type": "markdown",
   "id": "ec6be5ac",
   "metadata": {},
   "source": [
    "### 6. Table of Contents"
   ]
  },
  {
   "cell_type": "markdown",
   "id": "f3e95689",
   "metadata": {},
   "source": [
    "- Goals\n",
    "- Terminology\n",
    "- Import Sources\n",
    "- Installing Packages\n",
    "- Importing\n",
    "    - Importing Your Own Code\n",
    "- Examples\n",
    "- Code Execution of Imported Files\n",
    "- Further Reading\n",
    "- Exercises"
   ]
  },
  {
   "cell_type": "code",
   "execution_count": null,
   "id": "11b46b54",
   "metadata": {},
   "outputs": [],
   "source": []
  }
 ],
 "metadata": {
  "kernelspec": {
   "display_name": "Python 3 (ipykernel)",
   "language": "python",
   "name": "python3"
  },
  "language_info": {
   "codemirror_mode": {
    "name": "ipython",
    "version": 3
   },
   "file_extension": ".py",
   "mimetype": "text/x-python",
   "name": "python",
   "nbconvert_exporter": "python",
   "pygments_lexer": "ipython3",
   "version": "3.9.13"
  }
 },
 "nbformat": 4,
 "nbformat_minor": 5
}
