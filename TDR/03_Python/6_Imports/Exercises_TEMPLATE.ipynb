{
 "cells": [
  {
   "cell_type": "markdown",
   "id": "c6247c8e-e42b-484b-94c8-309b63818d8b",
   "metadata": {},
   "source": [
    "# Import Exercises\n",
    "You will need to use imports to complete each exercise; in addition, these exercise will strengthen your problem solving and python coding skills.\n",
    "\n",
    "You will be directed to create specific files in part 1, for the rest you may do your work in either `import_exercises.py` or `import_exercises.ipynb`."
   ]
  },
  {
   "cell_type": "markdown",
   "id": "64c29c1d-a626-48b0-ae28-709310dc7107",
   "metadata": {
    "tags": []
   },
   "source": [
    "___\n",
    "## Exercise # 1 \n",
    "### Import and test 3 of the functions from your `functions exercise file`. Import each function in a different way:"
   ]
  },
  {
   "cell_type": "markdown",
   "id": "ca102d1d-8ac4-4c5d-9d22-1ece35495c80",
   "metadata": {},
   "source": [
    "### <div class=\"alert alert-warning\" role=\"alert\">Make sure your code that tests the function imports, is run from the same directory that your functions exercise file is in.\n",
    "</div>"
   ]
  },
  {
   "cell_type": "markdown",
   "id": "14be3b4a-3c0d-4a94-9200-4c7674d7eff2",
   "metadata": {},
   "source": [
    "> #### a) Run an interactive python session **IN TERMINAL** and import the module. \n",
    ">#### Call the `is_vowel` function using the `.` syntax."
   ]
  },
  {
   "cell_type": "code",
   "execution_count": null,
   "id": "c1a5658f-93dc-490d-a397-f010f9939aad",
   "metadata": {},
   "outputs": [],
   "source": []
  },
  {
   "cell_type": "markdown",
   "id": "1d46af77-574f-4a25-bf10-f4a955c7e1b4",
   "metadata": {},
   "source": [
    "> #### b)  Create a file named `import_exercises.py`. \n",
    "> #### Within this file, use `from` to import the `calculate_tip` function directly. \n",
    "> #### Call this function with values you choose and print the result."
   ]
  },
  {
   "cell_type": "code",
   "execution_count": null,
   "id": "b8118c38-bdfb-4de2-b7d6-6e221bafce5c",
   "metadata": {},
   "outputs": [],
   "source": []
  },
  {
   "cell_type": "markdown",
   "id": "0d8494dc-2e15-4e5f-b0a7-c1f52743f26a",
   "metadata": {},
   "source": [
    ">#### c) Create a jupyter notebook named `import_exercises.ipynb`. \n",
    ">#### Use from to import the `get_letter_grade` function and give it an ***alias***. \n",
    ">#### Test this function in your notebook."
   ]
  },
  {
   "cell_type": "code",
   "execution_count": null,
   "id": "250224cc-fa13-4335-9913-c2a083540f60",
   "metadata": {},
   "outputs": [],
   "source": [
    "# import"
   ]
  },
  {
   "cell_type": "code",
   "execution_count": null,
   "id": "4f1fc366-0fee-4919-826d-fc5004b897fb",
   "metadata": {},
   "outputs": [],
   "source": []
  },
  {
   "cell_type": "markdown",
   "id": "1fcf81a1-30c8-458c-9747-e3627963d04d",
   "metadata": {
    "tags": []
   },
   "source": [
    "___\n",
    "## Exercise # 2 \n",
    "### Read about and use the <a href='https://docs.python.org/3/library/itertools.html'>`itertools` module</a> from the python standard library to help you solve the following problems \n",
    "(Hint: wrap the itertools results in a list to see the results)."
   ]
  },
  {
   "cell_type": "code",
   "execution_count": null,
   "id": "0085183a-af7f-450d-afaa-cd443f002516",
   "metadata": {},
   "outputs": [],
   "source": [
    "# import"
   ]
  },
  {
   "cell_type": "code",
   "execution_count": null,
   "id": "e8214aa9-6456-4d94-ab80-55a7ff9df998",
   "metadata": {},
   "outputs": [],
   "source": []
  },
  {
   "cell_type": "markdown",
   "id": "14ab9909-9671-4b3b-a6ce-505d6a3cab77",
   "metadata": {},
   "source": [
    ">#### a) How many different ways can you combine a single letter from \"abc\" with either 1, 2, or 3?\n",
    "> - This can be visualized as a <a href ='https://www.sqlshack.com/wp-content/uploads/2020/02/sql-cross-join-working-mechanism.png'>SQL Cross Join</a> or a <a href = 'https://miro.medium.com/v2/resize:fit:1400/1*ofgbRmZT2avae5mqvU6c2Q.jpeg'>Cartesian Product</a>"
   ]
  },
  {
   "cell_type": "code",
   "execution_count": null,
   "id": "c58e9f19-ce83-498c-a631-d6fcb459c64c",
   "metadata": {},
   "outputs": [],
   "source": []
  },
  {
   "cell_type": "markdown",
   "id": "d199798e-b7ac-46c6-8c64-1f176453894e",
   "metadata": {},
   "source": [
    ">#### b) How many different combinations are there of 2 letters from \"abcd\"?"
   ]
  },
  {
   "cell_type": "code",
   "execution_count": null,
   "id": "2eed7fda-19f2-47c7-a1c0-b29ac31138b2",
   "metadata": {},
   "outputs": [],
   "source": []
  },
  {
   "cell_type": "markdown",
   "id": "fc2d1055-fbd4-4e49-8ace-b7f7b62ae338",
   "metadata": {},
   "source": [
    ">#### c) How many different permutations are there of 2 letters from \"abcd\"?"
   ]
  },
  {
   "cell_type": "code",
   "execution_count": null,
   "id": "3d653658-4843-436b-bc9d-80be0d2c4cf6",
   "metadata": {},
   "outputs": [],
   "source": []
  },
  {
   "attachments": {
    "b7d5344b-d155-4697-8bcc-c860f78126ef.png": {
     "image/png": "[encoded data removed]"
    }
   },
   "cell_type": "markdown",
   "id": "be9ccfb6-4968-4bea-ba8a-5f71bc17a06a",
   "metadata": {
    "tags": []
   },
   "source": [
    "\n",
    "___\n",
    "## Exercise # 3\n",
    "### Save <a href='https://gist.githubusercontent.com/misty-garcia/bf100f7418eb26446507166b4f50a18a/raw/a48b7071dabf32991ff5de3c91b633ecd1a95e42/profiles.json'>this</a> file as `profiles.json` inside of your exercises directory.\n",
    "(right click -> save file as...)\n",
    "\n",
    "Use the `load` function from the `json` module to open this file.\n",
    "\n",
    "<img src=\"attachment:b7d5344b-d155-4697-8bcc-c860f78126ef.png\" width=\"300\" height=\"150\">\n",
    "\n",
    "Your code should produce a list of dictionaries. \n",
    "Using this data, write some code that calculates and outputs the following information:"
   ]
  },
  {
   "cell_type": "code",
   "execution_count": null,
   "id": "e64ac9dc-ab6a-4568-a388-fdddf7bf82e7",
   "metadata": {},
   "outputs": [],
   "source": [
    "#import\n"
   ]
  },
  {
   "cell_type": "code",
   "execution_count": null,
   "id": "e908ba28-643d-48b6-9703-d9dfa482febd",
   "metadata": {},
   "outputs": [],
   "source": [
    "#Save json file for reference\n",
    "\n"
   ]
  },
  {
   "cell_type": "code",
   "execution_count": null,
   "id": "a44fdcba-4600-4ab4-b127-a6da240c3524",
   "metadata": {},
   "outputs": [],
   "source": []
  },
  {
   "cell_type": "markdown",
   "id": "af85c59f-57ae-4d2a-a0b9-1525a57ca21a",
   "metadata": {},
   "source": [
    ">#### 3.1) Total number of users"
   ]
  },
  {
   "cell_type": "code",
   "execution_count": null,
   "id": "82aba890-3a03-4d53-85bd-4fcab777018b",
   "metadata": {},
   "outputs": [],
   "source": []
  },
  {
   "cell_type": "markdown",
   "id": "8642d050-6e28-4c05-9291-daeefac34f4d",
   "metadata": {},
   "source": [
    ">#### 3.2) Number of active users"
   ]
  },
  {
   "cell_type": "code",
   "execution_count": null,
   "id": "bb38bdfd-7d2f-47e4-836c-9e9b6cc1f1d5",
   "metadata": {},
   "outputs": [],
   "source": []
  },
  {
   "cell_type": "markdown",
   "id": "8561a72e-995c-4e34-b1fd-c84879bd6171",
   "metadata": {},
   "source": [
    ">#### 3.3) Number of inactive users"
   ]
  },
  {
   "cell_type": "code",
   "execution_count": null,
   "id": "6c75b3a3-bd49-4e58-8563-3eacfd015699",
   "metadata": {},
   "outputs": [],
   "source": []
  },
  {
   "cell_type": "markdown",
   "id": "11758b58-974c-46b9-a234-0cf56afc86a3",
   "metadata": {},
   "source": [
    ">#### 3.4) Grand total of balances for all users"
   ]
  },
  {
   "cell_type": "code",
   "execution_count": null,
   "id": "b123fd67-697f-49b6-8f39-085d27f26eda",
   "metadata": {},
   "outputs": [],
   "source": []
  },
  {
   "cell_type": "markdown",
   "id": "66973bb7-e5ed-4670-b2cd-68db766b3b0c",
   "metadata": {},
   "source": [
    ">#### 3.5) Average balance per user"
   ]
  },
  {
   "cell_type": "code",
   "execution_count": null,
   "id": "5bf7f2dc-603b-41a5-b84d-c0159d37d811",
   "metadata": {},
   "outputs": [],
   "source": []
  },
  {
   "cell_type": "markdown",
   "id": "e9edf0f1-beff-4fe7-8642-67a82cb7818b",
   "metadata": {},
   "source": [
    ">#### 3.6) User with the lowest balance"
   ]
  },
  {
   "cell_type": "code",
   "execution_count": null,
   "id": "a24885aa-533b-40e5-b3b4-aef34477ec92",
   "metadata": {},
   "outputs": [],
   "source": []
  },
  {
   "cell_type": "markdown",
   "id": "07bb5a19-7eae-4a9a-8dcd-4d71e98ad1f1",
   "metadata": {},
   "source": [
    ">#### 3.7) User with the highest balance"
   ]
  },
  {
   "cell_type": "code",
   "execution_count": null,
   "id": "0b5c4d6c-a5c0-4e84-bee5-69bc874ccee9",
   "metadata": {},
   "outputs": [],
   "source": []
  },
  {
   "cell_type": "markdown",
   "id": "b86154ae-ef43-4867-a0ad-3615c30bf3a9",
   "metadata": {},
   "source": [
    ">#### 3.8) Most common favorite fruit"
   ]
  },
  {
   "cell_type": "code",
   "execution_count": null,
   "id": "58b0725f-77cd-4da1-8fb2-813e94f86578",
   "metadata": {},
   "outputs": [],
   "source": []
  },
  {
   "cell_type": "markdown",
   "id": "6aad3260-59bf-4f4b-b320-c7dcd0da4af5",
   "metadata": {},
   "source": [
    ">#### 3.9) Least most common favorite fruit"
   ]
  },
  {
   "cell_type": "code",
   "execution_count": null,
   "id": "712e6df0-0610-41d3-bbed-9785d3125e55",
   "metadata": {},
   "outputs": [],
   "source": []
  },
  {
   "cell_type": "markdown",
   "id": "42a97d58-383c-4b68-88a3-2e5d07cfb903",
   "metadata": {},
   "source": [
    ">#### 3.10) Total number of unread messages for all users"
   ]
  },
  {
   "cell_type": "code",
   "execution_count": null,
   "id": "0acbdad0-a53b-4560-adef-f9a04f0e019e",
   "metadata": {},
   "outputs": [],
   "source": []
  }
 ],
 "metadata": {
  "kernelspec": {
   "display_name": "Python 3 (ipykernel)",
   "language": "python",
   "name": "python3"
  },
  "language_info": {
   "codemirror_mode": {
    "name": "ipython",
    "version": 3
   },
   "file_extension": ".py",
   "mimetype": "text/x-python",
   "name": "python",
   "nbconvert_exporter": "python",
   "pygments_lexer": "ipython3",
   "version": "3.9.13"
  }
 },
 "nbformat": 4,
 "nbformat_minor": 5
}
