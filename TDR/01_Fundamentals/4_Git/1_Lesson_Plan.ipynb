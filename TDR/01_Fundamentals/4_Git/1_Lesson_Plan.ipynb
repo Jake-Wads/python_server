{
 "cells": [
  {
   "cell_type": "markdown",
   "id": "0a23679a",
   "metadata": {},
   "source": [
    "# Lesson Plan: Git"
   ]
  },
  {
   "cell_type": "markdown",
   "id": "54aea691",
   "metadata": {},
   "source": [
    "<hr style=\"border:2px solid gray\">"
   ]
  },
  {
   "cell_type": "markdown",
   "id": "4dc33e6d",
   "metadata": {},
   "source": [
    "### 1. Lesson Objective"
   ]
  },
  {
   "cell_type": "markdown",
   "id": "74df8df4",
   "metadata": {},
   "source": [
    "<b>Version Control With Git Learning Objectives</b>\n",
    "\n",
    "1. Students will understand what version control is and why it is important\n",
    "<br>\n",
    "<br>\n",
    "2. Students will understand what git is and how it is used including the following vocabulary:\n",
    "    - Local\n",
    "    - Remote\n",
    "    - Repository\n",
    "    - Add\n",
    "    - Commit\n",
    "    - Push\n",
    "    - Clone\n",
    "<br>\n",
    "<br>\n",
    "3. Students will set up an initial repository using the following steps:\n",
    "    - Create GitHub account\n",
    "    - Create new repository\n",
    "    - Copy SSH link to clipboard\n",
    "    - Create directory that will contain you repository\n",
    "    - Navigate to that directory\n",
    "    - Use git clone to clone your repository into the directory\n",
    "<br>\n",
    "<br>\n",
    "4. Students will understand and perform Daily Git Workflow including the following steps\n",
    "    - Do work in repository\n",
    "    - Stage changes using git add\n",
    "    - Commit the staged changes to Git using git commit\n",
    "    - Push committed changes to Git using git push\n",
    "    - Students will follow this workflow each day they are in class and working on code related exercises\n",
    "<br> \n",
    "<br>\n",
    "5. Students will configure their GitHub to include the following configurations\n",
    "    - Email\n",
    "    - Name\n",
    "    - Global gitignore file\n",
    "<br>\n",
    "<br>\n",
    "6. Students will create the following and understand why they are important\n",
    "    - GitHub Repository\n",
    "    - Notebook file\n",
    "    - VS Code file\n",
    "    - README file\n",
    "    - .gitignore\n"
   ]
  },
  {
   "cell_type": "markdown",
   "id": "95089a93",
   "metadata": {},
   "source": [
    "<hr style=\"border:1px solid black\">"
   ]
  },
  {
   "cell_type": "markdown",
   "id": "e61cd878",
   "metadata": {},
   "source": [
    "### 2. Pacing/timing of lectures/exercises"
   ]
  },
  {
   "cell_type": "markdown",
   "id": "9ae9169d",
   "metadata": {},
   "source": [
    "N/A"
   ]
  },
  {
   "cell_type": "markdown",
   "id": "ffcf3cee",
   "metadata": {},
   "source": [
    "<hr style=\"border:1px solid black\">"
   ]
  },
  {
   "cell_type": "markdown",
   "id": "899c52a2",
   "metadata": {},
   "source": [
    "### 3. Materials"
   ]
  },
  {
   "cell_type": "markdown",
   "id": "e63a4bd3",
   "metadata": {},
   "source": [
    "N/A"
   ]
  },
  {
   "cell_type": "markdown",
   "id": "738aee26",
   "metadata": {},
   "source": [
    "<hr style=\"border:1px solid black\">"
   ]
  },
  {
   "cell_type": "markdown",
   "id": "f11b3e54",
   "metadata": {},
   "source": [
    "### 4. Vocabulary"
   ]
  },
  {
   "cell_type": "markdown",
   "id": "b4efbe58",
   "metadata": {},
   "source": [
    "- <b>local</b>: means your computer, your laptop or desktop.\n",
    "- <b>remote</b>: means another computer, a server, or service (like GitHub) where you back up your code and push changes.\n",
    "- <b>repository</b>: a directory managed by git.\n",
    "- <b>add</b>: to tell git which files we wish to look at for the next commit. Adding files is like putting documents in an envelope.\n",
    "- <b>commit</b>: to create a \"save point\", to formally take a snapshot of a repository. Commiting means sealing the envelope w/ your own wax seal and a timestamp. Think of commits like hard save points.\n",
    "- <b>push</b>: to copy the state of a local repository elsewhere, most commonly, to send your work with github. Pushing means uploading.\n",
    "- <b>clone</b>: to copy an entire repository's content along with the fact that the folder is a repository."
   ]
  },
  {
   "cell_type": "markdown",
   "id": "418e19c4",
   "metadata": {},
   "source": [
    "<hr style=\"border:1px solid black\">"
   ]
  },
  {
   "cell_type": "markdown",
   "id": "f514ef37",
   "metadata": {},
   "source": [
    "### 5. Assessments (what are they)"
   ]
  },
  {
   "cell_type": "markdown",
   "id": "3b1bbd1c",
   "metadata": {},
   "source": [
    "N/A"
   ]
  },
  {
   "cell_type": "markdown",
   "id": "4b76ab73",
   "metadata": {},
   "source": [
    "<hr style=\"border:1px solid black\">"
   ]
  },
  {
   "cell_type": "markdown",
   "id": "ec6be5ac",
   "metadata": {},
   "source": [
    "### 6. Table of Contents"
   ]
  },
  {
   "cell_type": "markdown",
   "id": "f3e95689",
   "metadata": {},
   "source": [
    "- What is Version Control?\n",
    "- So what? Why should you care about Git?\n",
    "- Key Vocabulary and Concepts\n",
    "- Initial Repository Setup (the GitHub First Approach)\n",
    "    - Flowchart for Initial Repository Setup\n",
    "- Regular Workflow with Git\n",
    "- Where are we again?\n",
    "- Configuring GitHub\n",
    "    - Email and Name\n",
    "    - Global gitignore File\n",
    "- Further Resources\n",
    "- Exercises\n",
    "    - Configuration setup exercises\n",
    "    - Make a Hello_World repository and orient yourself\n",
    "    - Adding to files in your Hello_World Repository\n",
    "    - Exercise for removing content from files in Hello_World\n",
    "    - Exercise to setup or restore a repository from GitHub\n",
    "    - Make a Profile README repo\n",
    "    - Create a repository for your notes\n",
    "- Gitignore Exercises\n",
    "    - Gitignore Exercise 1\n",
    "    - Gitignore Exercise 2\n",
    "    - Gitignore Exercise 3"
   ]
  },
  {
   "cell_type": "code",
   "execution_count": null,
   "id": "3ec09fbd",
   "metadata": {},
   "outputs": [],
   "source": []
  }
 ],
 "metadata": {
  "kernelspec": {
   "display_name": "Python 3",
   "language": "python",
   "name": "python3"
  },
  "language_info": {
   "codemirror_mode": {
    "name": "ipython",
    "version": 3
   },
   "file_extension": ".py",
   "mimetype": "text/x-python",
   "name": "python",
   "nbconvert_exporter": "python",
   "pygments_lexer": "ipython3",
   "version": "3.7.4"
  }
 },
 "nbformat": 4,
 "nbformat_minor": 5
}
