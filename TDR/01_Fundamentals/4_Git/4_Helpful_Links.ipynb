{
 "cells": [
  {
   "cell_type": "markdown",
   "id": "c8e3bb3a",
   "metadata": {},
   "source": [
    "# Helpful Links: Git"
   ]
  },
  {
   "cell_type": "markdown",
   "id": "85fbe320",
   "metadata": {},
   "source": [
    "<hr style=\"border:2px solid gray\">"
   ]
  },
  {
   "cell_type": "markdown",
   "id": "c837d65d",
   "metadata": {},
   "source": [
    "### Links to Lesson Notebooks"
   ]
  },
  {
   "cell_type": "markdown",
   "id": "43690e6c",
   "metadata": {},
   "source": [
    "N/A"
   ]
  },
  {
   "cell_type": "markdown",
   "id": "16c7a82b",
   "metadata": {},
   "source": [
    "<hr style=\"border:1px solid black\">"
   ]
  },
  {
   "cell_type": "markdown",
   "id": "f150b7ea",
   "metadata": {},
   "source": [
    "### Links to Exercises Notebooks"
   ]
  },
  {
   "cell_type": "markdown",
   "id": "0e8055ff",
   "metadata": {},
   "source": [
    "N/A"
   ]
  },
  {
   "cell_type": "markdown",
   "id": "196160ea",
   "metadata": {},
   "source": [
    "<hr style=\"border:1px solid black\">"
   ]
  },
  {
   "cell_type": "markdown",
   "id": "54732b28",
   "metadata": {},
   "source": [
    "### Links to Slideshow"
   ]
  },
  {
   "cell_type": "markdown",
   "id": "71cc8017",
   "metadata": {},
   "source": [
    "The following are slide decks created by Zach G:"
   ]
  },
  {
   "cell_type": "markdown",
   "id": "30dd51b7",
   "metadata": {},
   "source": [
    "[Git Slide Deck](https://docs.google.com/presentation/d/1P0CvZNCr77P9FXAF4RqmgUb90D5F-GEVOa1cJWLzaMA/edit#slide=id.g10b75ddfd75_0_342)"
   ]
  },
  {
   "cell_type": "markdown",
   "id": "ea2349b6",
   "metadata": {},
   "source": [
    "Teamwork/Merge Issue Slide Deck:"
   ]
  },
  {
   "cell_type": "markdown",
   "id": "b61dea8a",
   "metadata": {},
   "source": [
    "[Git Teamwork and Merge Conflicts Slide Deck](https://docs.google.com/presentation/d/1An9a3EgeBFeLc2SmKAGt0yooNNmlZsWE5kzLPU7MXlI/edit#slide=id.p)"
   ]
  },
  {
   "cell_type": "markdown",
   "id": "a8239706",
   "metadata": {},
   "source": [
    "<hr style=\"border:1px solid black\">"
   ]
  },
  {
   "cell_type": "markdown",
   "id": "19321499",
   "metadata": {},
   "source": [
    "### Links to Video Recording"
   ]
  },
  {
   "cell_type": "markdown",
   "id": "6d3fafc5",
   "metadata": {},
   "source": [
    "[Git + Github Intro by Madeleine](https://youtu.be/akT73MBYBvg)"
   ]
  },
  {
   "cell_type": "markdown",
   "id": "76d7e434",
   "metadata": {},
   "source": [
    "[Intro to Gitignore by Ryan O.](https://youtu.be/orp03xihHso)"
   ]
  },
  {
   "cell_type": "markdown",
   "id": "5c5711ef",
   "metadata": {},
   "source": [
    "[Make a new repo on GitHub first by Ryan O.](https://youtu.be/unsc7Yutct0)"
   ]
  },
  {
   "cell_type": "markdown",
   "id": "c2237f5c",
   "metadata": {},
   "source": [
    "[Making a new repo locally first by Ryan O.](https://youtu.be/L7vzPm3_Im8)"
   ]
  },
  {
   "cell_type": "markdown",
   "id": "3d0574c7",
   "metadata": {},
   "source": [
    "[Making a new repo on GitHub 1st by Ryan O.](https://youtu.be/AhUFVuuQVBo)"
   ]
  },
  {
   "cell_type": "markdown",
   "id": "30f19f46",
   "metadata": {},
   "source": [
    "[Remove Sensitive Info from Git by Ryan O.](https://www.youtube.com/watch?v=liCAFV8Rmbs)"
   ]
  },
  {
   "cell_type": "markdown",
   "id": "135027f5",
   "metadata": {},
   "source": [
    "[Git Teamwork Video](https://drive.google.com/drive/u/0/folders/1AzB7sLXcHs8yau_Xv4DEyOtuRZOas6LG)"
   ]
  },
  {
   "cell_type": "markdown",
   "id": "0647333e",
   "metadata": {},
   "source": [
    "<hr style=\"border:1px solid black\">"
   ]
  },
  {
   "cell_type": "markdown",
   "id": "ef553d62",
   "metadata": {},
   "source": [
    "### Video Tutorials"
   ]
  },
  {
   "cell_type": "markdown",
   "id": "69fe467a",
   "metadata": {},
   "source": [
    "N/A"
   ]
  },
  {
   "cell_type": "markdown",
   "id": "6d9b62db",
   "metadata": {},
   "source": [
    "<hr style=\"border:1px solid black\">"
   ]
  },
  {
   "cell_type": "markdown",
   "id": "8791a6d9",
   "metadata": {},
   "source": [
    "### Link to Curriculum Page"
   ]
  },
  {
   "cell_type": "markdown",
   "id": "394eb8a1",
   "metadata": {},
   "source": [
    "[Git](https://ds.codeup.com/fundamentals/git/)"
   ]
  },
  {
   "cell_type": "markdown",
   "id": "96654790",
   "metadata": {},
   "source": [
    "<hr style=\"border:1px solid black\">"
   ]
  },
  {
   "cell_type": "markdown",
   "id": "9a6856ab",
   "metadata": {},
   "source": [
    "### Handouts"
   ]
  },
  {
   "cell_type": "markdown",
   "id": "b684668a",
   "metadata": {},
   "source": [
    "[Teamwork Handout](https://drive.google.com/drive/u/0/folders/1AzB7sLXcHs8yau_Xv4DEyOtuRZOas6LG)"
   ]
  },
  {
   "cell_type": "markdown",
   "id": "56de2c12",
   "metadata": {},
   "source": [
    "<hr style=\"border:1px solid black\">"
   ]
  },
  {
   "cell_type": "markdown",
   "id": "2cc2e145",
   "metadata": {},
   "source": [
    "### Other"
   ]
  },
  {
   "cell_type": "markdown",
   "id": "1fd6f6a3",
   "metadata": {},
   "source": [
    "[Git Student Activity Tracker](https://docs.google.com/spreadsheets/d/1wZJTcsk3JoKCM8Cd2c3-CFZFQQ9um6SZF66pM1oE4Xw/edit#gid=2017736879)"
   ]
  }
 ],
 "metadata": {
  "kernelspec": {
   "display_name": "Python 3 (ipykernel)",
   "language": "python",
   "name": "python3"
  },
  "language_info": {
   "codemirror_mode": {
    "name": "ipython",
    "version": 3
   },
   "file_extension": ".py",
   "mimetype": "text/x-python",
   "name": "python",
   "nbconvert_exporter": "python",
   "pygments_lexer": "ipython3",
   "version": "3.9.13"
  }
 },
 "nbformat": 4,
 "nbformat_minor": 5
}
