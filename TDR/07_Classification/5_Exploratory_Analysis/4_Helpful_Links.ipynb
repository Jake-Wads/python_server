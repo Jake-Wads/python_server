{
 "cells": [
  {
   "cell_type": "markdown",
   "id": "c8e3bb3a",
   "metadata": {},
   "source": [
    "# Helpful Links: Exploratory Data Analysis"
   ]
  },
  {
   "cell_type": "markdown",
   "id": "85fbe320",
   "metadata": {},
   "source": [
    "<hr style=\"border:2px solid gray\">"
   ]
  },
  {
   "cell_type": "markdown",
   "id": "c837d65d",
   "metadata": {},
   "source": [
    "### Links to Lesson Notebooks"
   ]
  },
  {
   "cell_type": "markdown",
   "id": "43690e6c",
   "metadata": {},
   "source": [
    "- [Noether](https://github.com/CodeupClassroom/noether-classification-exercises/blob/main/explore_lesson.ipynb)\n",
    "- [Mirzakhani](https://github.com/CodeupClassroom/mirzakhani-classification-exercises/blob/main/explore_lesson.ipynb)\n",
    "- [Leavitt](https://github.com/CodeupClassroom/leavitt-classification-exercises/blob/main/explore.ipynb)\n",
    "- [Kalpana](https://github.com/CodeupClassroom/kalpana-classification-exercises/blob/main/explore.ipynb)\n",
    "- Jemison: None\n",
    "- Innis: None"
   ]
  },
  {
   "cell_type": "markdown",
   "id": "16c7a82b",
   "metadata": {},
   "source": [
    "<hr style=\"border:1px solid black\">"
   ]
  },
  {
   "cell_type": "markdown",
   "id": "f150b7ea",
   "metadata": {},
   "source": [
    "### Links to Exercises Notebooks"
   ]
  },
  {
   "cell_type": "markdown",
   "id": "0e8055ff",
   "metadata": {},
   "source": [
    "- [Noether](https://github.com/CodeupClassroom/noether-classification-exercises/blob/main/explore_exercises.ipynb)\n",
    "- [Mirzakhani](https://github.com/CodeupClassroom/mirzakhani-classification-exercises/blob/main/explore_exercises.ipynb)\n",
    "- [Leavitt](https://github.com/CodeupClassroom/leavitt-classification-exercises/blob/main/explore_exercises.ipynb)\n",
    "- [Kalpana](https://github.com/CodeupClassroom/kalpana-classification-exercises/blob/main/explore_exercises.ipynb)\n",
    "- [Jemison](https://github.com/CodeupClassroom/jemison-classification-exercises/blob/main/explore_exercises.ipynb)\n",
    "- [Innis](https://github.com/CodeupClassroom/innis-classification-exercises/blob/main/explore_exercises.ipynb)"
   ]
  },
  {
   "cell_type": "markdown",
   "id": "196160ea",
   "metadata": {},
   "source": [
    "<hr style=\"border:1px solid black\">"
   ]
  },
  {
   "cell_type": "markdown",
   "id": "54732b28",
   "metadata": {},
   "source": [
    "### Links to Slideshow"
   ]
  },
  {
   "cell_type": "markdown",
   "id": "71cc8017",
   "metadata": {},
   "source": [
    "None"
   ]
  },
  {
   "cell_type": "markdown",
   "id": "a8239706",
   "metadata": {},
   "source": [
    "<hr style=\"border:1px solid black\">"
   ]
  },
  {
   "cell_type": "markdown",
   "id": "19321499",
   "metadata": {},
   "source": [
    "### Links to Video Recording"
   ]
  },
  {
   "cell_type": "markdown",
   "id": "135027f5",
   "metadata": {},
   "source": [
    "None"
   ]
  },
  {
   "cell_type": "markdown",
   "id": "0647333e",
   "metadata": {},
   "source": [
    "<hr style=\"border:1px solid black\">"
   ]
  },
  {
   "cell_type": "markdown",
   "id": "ef553d62",
   "metadata": {},
   "source": [
    "### Video Tutorials"
   ]
  },
  {
   "cell_type": "markdown",
   "id": "69fe467a",
   "metadata": {},
   "source": [
    "None"
   ]
  },
  {
   "cell_type": "markdown",
   "id": "6d9b62db",
   "metadata": {},
   "source": [
    "<hr style=\"border:1px solid black\">"
   ]
  },
  {
   "cell_type": "markdown",
   "id": "8791a6d9",
   "metadata": {},
   "source": [
    "### Link to Curriculum Page"
   ]
  },
  {
   "cell_type": "markdown",
   "id": "394eb8a1",
   "metadata": {},
   "source": [
    "[Exploratory Data Analysis](https://ds.codeup.com/classification/explore/)"
   ]
  },
  {
   "cell_type": "markdown",
   "id": "96654790",
   "metadata": {},
   "source": [
    "<hr style=\"border:1px solid black\">"
   ]
  },
  {
   "cell_type": "markdown",
   "id": "9a6856ab",
   "metadata": {},
   "source": [
    "### Handout"
   ]
  },
  {
   "cell_type": "markdown",
   "id": "b684668a",
   "metadata": {},
   "source": [
    "![](classification_explore.png)"
   ]
  }
 ],
 "metadata": {
  "kernelspec": {
   "display_name": "Python 3 (ipykernel)",
   "language": "python",
   "name": "python3"
  },
  "language_info": {
   "codemirror_mode": {
    "name": "ipython",
    "version": 3
   },
   "file_extension": ".py",
   "mimetype": "text/x-python",
   "name": "python",
   "nbconvert_exporter": "python",
   "pygments_lexer": "ipython3",
   "version": "3.9.13"
  }
 },
 "nbformat": 4,
 "nbformat_minor": 5
}
