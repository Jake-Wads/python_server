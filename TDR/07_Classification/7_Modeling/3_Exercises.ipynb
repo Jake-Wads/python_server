{
 "cells": [
  {
   "cell_type": "markdown",
   "id": "0a23679a",
   "metadata": {},
   "source": [
    "# Exercises: Modeling"
   ]
  },
  {
   "cell_type": "markdown",
   "id": "54aea691",
   "metadata": {},
   "source": [
    "<hr style=\"border:2px solid gray\">"
   ]
  },
  {
   "cell_type": "markdown",
   "id": "4902a8e6",
   "metadata": {},
   "source": [
    "The modeling exercise is split into four separate exercises:\n",
    "\n",
    "   - [Decision Tree](https://github.com/gocodeup/data-science-curriculum/blob/master/TDR/7_Classification/7.1_Decision_Tree/3_Exercises.ipynb)\n",
    "   - [Random Forest](https://github.com/gocodeup/data-science-curriculum/blob/master/TDR/7_Classification/7.2_Random_Forest/3_Exercises.ipynb)\n",
    "   - [KNN](https://github.com/gocodeup/data-science-curriculum/blob/master/TDR/7_Classification/7.3_KNN/3_Exercises.ipynb)\n",
    "   - [Logistic Regression](https://github.com/gocodeup/data-science-curriculum/blob/master/TDR/7_Classification/7.4_Logistic_Regression/3_Exercise.ipynb)"
   ]
  }
 ],
 "metadata": {
  "kernelspec": {
   "display_name": "Python 3 (ipykernel)",
   "language": "python",
   "name": "python3"
  },
  "language_info": {
   "codemirror_mode": {
    "name": "ipython",
    "version": 3
   },
   "file_extension": ".py",
   "mimetype": "text/x-python",
   "name": "python",
   "nbconvert_exporter": "python",
   "pygments_lexer": "ipython3",
   "version": "3.9.13"
  }
 },
 "nbformat": 4,
 "nbformat_minor": 5
}
