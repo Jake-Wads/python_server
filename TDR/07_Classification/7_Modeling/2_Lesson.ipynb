{
 "cells": [
  {
   "cell_type": "markdown",
   "id": "0a23679a",
   "metadata": {},
   "source": [
    "# Lesson: Modeling"
   ]
  },
  {
   "cell_type": "markdown",
   "id": "54aea691",
   "metadata": {},
   "source": [
    "<hr style=\"border:2px solid gray\">"
   ]
  },
  {
   "cell_type": "markdown",
   "id": "d8004a2c",
   "metadata": {},
   "source": [
    "The modeling lesson is split into four separate lessons:\n",
    "\n",
    "   - [Decision Tree](https://github.com/gocodeup/data-science-curriculum/tree/master/TDR/7_Classification/7.1_Decision_Tree)\n",
    "   - [Random Forest](https://github.com/gocodeup/data-science-curriculum/tree/master/TDR/7_Classification/7.2_Random_Forest)\n",
    "   - [KNN](https://github.com/gocodeup/data-science-curriculum/tree/master/TDR/7_Classification/7.3_KNN)\n",
    "   - [Logistic Regression](https://github.com/gocodeup/data-science-curriculum/tree/master/TDR/7_Classification/7.4_Logistic_Regression)"
   ]
  }
 ],
 "metadata": {
  "kernelspec": {
   "display_name": "Python 3 (ipykernel)",
   "language": "python",
   "name": "python3"
  },
  "language_info": {
   "codemirror_mode": {
    "name": "ipython",
    "version": 3
   },
   "file_extension": ".py",
   "mimetype": "text/x-python",
   "name": "python",
   "nbconvert_exporter": "python",
   "pygments_lexer": "ipython3",
   "version": "3.9.13"
  }
 },
 "nbformat": 4,
 "nbformat_minor": 5
}
