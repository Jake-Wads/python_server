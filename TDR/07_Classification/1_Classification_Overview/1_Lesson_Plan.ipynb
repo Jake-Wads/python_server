{
 "cells": [
  {
   "cell_type": "markdown",
   "id": "0a23679a",
   "metadata": {},
   "source": [
    "# Lesson Plan: Classification Overview"
   ]
  },
  {
   "cell_type": "markdown",
   "id": "54aea691",
   "metadata": {},
   "source": [
    "<hr style=\"border:2px solid gray\">"
   ]
  },
  {
   "cell_type": "markdown",
   "id": "4dc33e6d",
   "metadata": {},
   "source": [
    "### 1. Lesson Objective"
   ]
  },
  {
   "cell_type": "markdown",
   "id": "bee17f37",
   "metadata": {},
   "source": [
    "<b>Classification Overview Learning Objectives:</b>\n",
    "1. Students will gain a basic understanding of what types of questions can be answered through data science.\n",
    "2. Students will gain an understanding of what classification is and what types of algorithms they can use.\n",
    "3. Students will recognize common algorithms used with sklearn.\n",
    "4. Students will gain a basic understanding of the pros/cons of Logistic Regression, Decision Tree, Random Forest and KNN algorithms."
   ]
  },
  {
   "cell_type": "markdown",
   "id": "95089a93",
   "metadata": {},
   "source": [
    "<hr style=\"border:1px solid black\">"
   ]
  },
  {
   "cell_type": "markdown",
   "id": "e61cd878",
   "metadata": {},
   "source": [
    "### 2. Pacing/timing of lectures/exercises"
   ]
  },
  {
   "cell_type": "markdown",
   "id": "9ae9169d",
   "metadata": {},
   "source": [
    "- Student reading time: 30 minutes\n",
    "- Lecture/slide presentation: 1.5 hours\n",
    "- Exercise: N/A"
   ]
  },
  {
   "cell_type": "markdown",
   "id": "ffcf3cee",
   "metadata": {},
   "source": [
    "<hr style=\"border:1px solid black\">"
   ]
  },
  {
   "cell_type": "markdown",
   "id": "899c52a2",
   "metadata": {},
   "source": [
    "### 3. Materials"
   ]
  },
  {
   "cell_type": "markdown",
   "id": "e63a4bd3",
   "metadata": {},
   "source": [
    "- Laptop\n",
    "- Codeup Curriculum\n",
    "- Python (version 3 or newer)\n",
    "- Jupyter notebook\n",
    "- Slide deck to present to class"
   ]
  },
  {
   "cell_type": "markdown",
   "id": "738aee26",
   "metadata": {},
   "source": [
    "<hr style=\"border:1px solid black\">"
   ]
  },
  {
   "cell_type": "markdown",
   "id": "f11b3e54",
   "metadata": {},
   "source": [
    "### 4. Vocabulary"
   ]
  },
  {
   "cell_type": "markdown",
   "id": "b4efbe58",
   "metadata": {},
   "source": [
    "- <b>Classifier</b>: An algorithm that maps the input data to a specific category.\n",
    "<br>\n",
    "\n",
    "- <b>Binary Classification</b>: Classification with two possible outcomes, e.g. pass/fail.\n",
    "<br>\n",
    "\n",
    "- <b>Multiclass Classification</b>: Classification with more than two classes, where each sample is assigned to one and only one target label, e.g. Grade levels of students in school (1st-12th).\n",
    "<br>\n",
    "\n",
    "- <b>Classification Model</b>: A series of steps that takes the patterns of input variables, generalizes those patterns, and applies them to new data in order to predict the class.\n",
    "<br>\n",
    "\n",
    "- <b>Algorithm</b>:  a process or set of rules to be followed in calculations or other problem-solving operations, especially by a computer.\n",
    "<br>\n",
    "\n",
    "- <b>Model</b>:\n",
    "\n",
    "    - <b>Decision Tree</b>: a non-parametric supervised learning algorithm, which is utilized for both classification and regression tasks. It has a hierarchical, tree structure, which consists of a root node, branches, internal nodes and leaf nodes.\n",
    "\n",
    "    - <b>Random Forest</b>: a classification algorithm consisting of many decisions trees. It uses bagging and feature randomness when building each individual tree to try to create an uncorrelated forest of trees whose prediction by committee is more accurate than that of any individual tree.\n",
    "\n",
    "    - <b>KNN</b>: a non-parametric, supervised learning classifier, which uses proximity to make classifications or predictions about the grouping of an individual data point.\n",
    "\n",
    "    - <b>Logistic Regression</b>: a statistical model that models the probability of an event taking place by having the log-odds for the event be a linear combination of one or more independent variables.\n",
    "<br>\n",
    "\n",
    "- <b>Feature</b>: is an individual measurable property of a phenomenon being observed (aka: input/independent variable)\n",
    "<br>\n",
    "\n",
    "- <b>Database</b>: a structured set of data held in a computer, especially one that is accessible in various ways.\n",
    "<br>\n",
    "\n",
    "- <b>Dataset</b>: a collection of related sets of information that is composed of separate elements but can be manipulated as a unit by a computer.\n",
    "<br>\n",
    "\n",
    "- <b>Bootstrapping</b>: a statistical method for estimating a quantity from a data sample (aka: bagging)\n",
    "<br>\n",
    "\n",
    "- <b>Margin</b>: shortest distance between the observations and the threshold"
   ]
  },
  {
   "cell_type": "markdown",
   "id": "418e19c4",
   "metadata": {},
   "source": [
    "<hr style=\"border:1px solid black\">"
   ]
  },
  {
   "cell_type": "markdown",
   "id": "f514ef37",
   "metadata": {},
   "source": [
    "### 5. Assessments (what are they)"
   ]
  },
  {
   "cell_type": "markdown",
   "id": "3b1bbd1c",
   "metadata": {},
   "source": [
    "- The only written assessment for this section is a cumulative quiz at the end of the classification section.\n",
    "    - Classification Quiz [found here](https://docs.google.com/forms/d/e/1FAIpQLSe3nnuXfzXYJ6DOhlmRTVU5s9DvOLoUbNO9RLuUpkcky8ZN3A/viewform)"
   ]
  },
  {
   "cell_type": "markdown",
   "id": "4b76ab73",
   "metadata": {},
   "source": [
    "<hr style=\"border:1px solid black\">"
   ]
  },
  {
   "cell_type": "markdown",
   "id": "ec6be5ac",
   "metadata": {},
   "source": [
    "### 6. Table of Contents"
   ]
  },
  {
   "cell_type": "markdown",
   "id": "f3e95689",
   "metadata": {},
   "source": [
    "- What is Machine Learning\n",
    "- Questions that Data Science Methods Can Answer\n",
    "- What are Classification algorithms?\n",
    "- Main Ideas\n",
    "- Vocab\n",
    "- Common Classification Algorithms\n",
    "- Data Preparation Needs\n",
    "    - Logistic Regression\n",
    "    - Decision Tree (CART: Classification And Regression Trees)\n",
    "    - Random Forest\n",
    "    - K-Nearest Neighbor\n",
    "- Description\n",
    "- Support Vector Machine\n",
    "- Naïve Bayes\n",
    "- Predicting Categorical Outcomes"
   ]
  }
 ],
 "metadata": {
  "kernelspec": {
   "display_name": "Python 3 (ipykernel)",
   "language": "python",
   "name": "python3"
  },
  "language_info": {
   "codemirror_mode": {
    "name": "ipython",
    "version": 3
   },
   "file_extension": ".py",
   "mimetype": "text/x-python",
   "name": "python",
   "nbconvert_exporter": "python",
   "pygments_lexer": "ipython3",
   "version": "3.9.13"
  }
 },
 "nbformat": 4,
 "nbformat_minor": 5
}
