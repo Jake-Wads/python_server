{
 "cells": [
  {
   "cell_type": "markdown",
   "id": "0a23679a",
   "metadata": {},
   "source": [
    "# Lesson: Classification Overview"
   ]
  },
  {
   "cell_type": "markdown",
   "id": "dc8209f1",
   "metadata": {},
   "source": [
    "This lesson is just an overview of Classification. Therefore, there is not any coding that will be done in a notebook."
   ]
  },
  {
   "cell_type": "markdown",
   "id": "54aea691",
   "metadata": {},
   "source": [
    "<hr style=\"border:2px solid gray\">"
   ]
  },
  {
   "cell_type": "markdown",
   "id": "101b6ef1",
   "metadata": {},
   "source": [
    "1. Give students time to read through the curriculum independantly (30 minutes)\n",
    "    - [Classification Overview](https://ds.codeup.com/classification/overview/)\n",
    "    \n",
    "    <br>\n",
    "    \n",
    "2. Pull up whichever slide deck you prefer from above to present to class (1 hour)\n",
    "    - [Classification Overview by Zach](https://www.canva.com/design/DAFT7Jho4o0/Z3mCrvEdv6P239OU8myt-A/view?utm_content=DAFT7Jho4o0&utm_campaign=designshare&utm_medium=link2&utm_source=sharebutton)\n",
    "    - [Classification Overview by Tasha](https://www.canva.com/design/DAFT7Jho4o0/Z3mCrvEdv6P239OU8myt-A/view?utm_content=DAFT7Jho4o0&utm_campaign=designshare&utm_medium=link2&utm_source=sharebutton)\n",
    "    - [Classification Overview by Ryan](https://docs.google.com/presentation/d/10if6Rsuru9AynRky3UMrZTmPhc3Q3xYNRs2a02xdoAA/edit#slide=id.p)\n",
    "    \n",
    "    <br>\n",
    "    \n",
    "3. Allow time for class questions and discussion (30 minutes)"
   ]
  }
 ],
 "metadata": {
  "kernelspec": {
   "display_name": "Python 3 (ipykernel)",
   "language": "python",
   "name": "python3"
  },
  "language_info": {
   "codemirror_mode": {
    "name": "ipython",
    "version": 3
   },
   "file_extension": ".py",
   "mimetype": "text/x-python",
   "name": "python",
   "nbconvert_exporter": "python",
   "pygments_lexer": "ipython3",
   "version": "3.9.13"
  }
 },
 "nbformat": 4,
 "nbformat_minor": 5
}
