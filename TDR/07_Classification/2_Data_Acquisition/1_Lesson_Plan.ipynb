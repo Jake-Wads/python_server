{
 "cells": [
  {
   "cell_type": "markdown",
   "id": "0a23679a",
   "metadata": {},
   "source": [
    "# Lesson Plan: Data Acquisition"
   ]
  },
  {
   "cell_type": "markdown",
   "id": "54aea691",
   "metadata": {},
   "source": [
    "<hr style=\"border:2px solid gray\">"
   ]
  },
  {
   "cell_type": "markdown",
   "id": "4dc33e6d",
   "metadata": {},
   "source": [
    "### 1. Lesson Objective"
   ]
  },
  {
   "cell_type": "markdown",
   "id": "bee17f37",
   "metadata": {},
   "source": [
    "<b>Data Acquisition Learning Objectives:</b>\n",
    "1. Student will understand how read data from a csv using read_csv.\n",
    "2. Student will understand how to read data from your local clipboard using read_clipboard.\n",
    "3. Students will understand how to read data from Microsoft Excel using read_excel.\n",
    "4. Students will understand how to read data from a mySQL server using read_sql."
   ]
  },
  {
   "cell_type": "markdown",
   "id": "95089a93",
   "metadata": {},
   "source": [
    "<hr style=\"border:1px solid black\">"
   ]
  },
  {
   "cell_type": "markdown",
   "id": "e61cd878",
   "metadata": {},
   "source": [
    "### 2. Pacing/timing of lectures/exercises"
   ]
  },
  {
   "cell_type": "markdown",
   "id": "9ae9169d",
   "metadata": {},
   "source": [
    "- <b>Student reading time</b>: 15 minutes\n",
    "- <b>Lecture</b>: 45 minutes\n",
    "- <b>Exercise work time</b>: 3 hours\n",
    "- <b>Exercise review</b>: 1 hour"
   ]
  },
  {
   "cell_type": "markdown",
   "id": "ffcf3cee",
   "metadata": {},
   "source": [
    "<hr style=\"border:1px solid black\">"
   ]
  },
  {
   "cell_type": "markdown",
   "id": "899c52a2",
   "metadata": {},
   "source": [
    "### 3. Materials"
   ]
  },
  {
   "cell_type": "markdown",
   "id": "e63a4bd3",
   "metadata": {},
   "source": [
    "- Laptop\n",
    "- Codeup curriculum\n",
    "- Python (version 3 or newer)\n",
    "- Jupyter notebook\n",
    "- Sequel Ace credentials\n",
    "- ```env.py``` file\n",
    "- ```.gitignore``` file\n",
    "- ```acquire.py``` file\n",
    "- [Google Sheet for Exercises](https://docs.google.com/spreadsheets/d/1Uhtml8KY19LILuZsrDtlsHHDC9wuDGUSe8LTEwvdI5g/edit#gid=341089357)"
   ]
  },
  {
   "cell_type": "markdown",
   "id": "738aee26",
   "metadata": {},
   "source": [
    "<hr style=\"border:1px solid black\">"
   ]
  },
  {
   "cell_type": "markdown",
   "id": "f11b3e54",
   "metadata": {},
   "source": [
    "### 4. Vocabulary"
   ]
  },
  {
   "cell_type": "markdown",
   "id": "b4efbe58",
   "metadata": {},
   "source": [
    "<b>Cache</b>: a high-speed data storage layer which stores a subset of data, typically transient in nature, so that future requests for that data are served up faster than is possible by accessing the data’s primary storage location. Caching allows you to efficiently reuse previously retrieved or computed data."
   ]
  },
  {
   "cell_type": "markdown",
   "id": "418e19c4",
   "metadata": {},
   "source": [
    "<hr style=\"border:1px solid black\">"
   ]
  },
  {
   "cell_type": "markdown",
   "id": "f514ef37",
   "metadata": {},
   "source": [
    "### 5. Assessments"
   ]
  },
  {
   "cell_type": "markdown",
   "id": "3b1bbd1c",
   "metadata": {},
   "source": [
    "- The only written assessment for Classification is comprehensive at the end of the section."
   ]
  },
  {
   "cell_type": "markdown",
   "id": "4b76ab73",
   "metadata": {},
   "source": [
    "<hr style=\"border:1px solid black\">"
   ]
  },
  {
   "cell_type": "markdown",
   "id": "ec6be5ac",
   "metadata": {},
   "source": [
    "### 6. Table of Contents"
   ]
  },
  {
   "cell_type": "markdown",
   "id": "f3e95689",
   "metadata": {},
   "source": [
    "- Goals\n",
    "- Local Clipboard\n",
    "- Google Sheets\n",
    "- Hosted or Local .CSV files\n",
    "- SQL\n",
    "- Caching Data\n",
    "- Exercises"
   ]
  }
 ],
 "metadata": {
  "kernelspec": {
   "display_name": "Python 3 (ipykernel)",
   "language": "python",
   "name": "python3"
  },
  "language_info": {
   "codemirror_mode": {
    "name": "ipython",
    "version": 3
   },
   "file_extension": ".py",
   "mimetype": "text/x-python",
   "name": "python",
   "nbconvert_exporter": "python",
   "pygments_lexer": "ipython3",
   "version": "3.9.13"
  }
 },
 "nbformat": 4,
 "nbformat_minor": 5
}
