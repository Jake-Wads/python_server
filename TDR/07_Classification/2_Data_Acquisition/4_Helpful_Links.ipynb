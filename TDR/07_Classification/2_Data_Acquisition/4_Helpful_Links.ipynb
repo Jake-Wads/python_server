{
 "cells": [
  {
   "cell_type": "markdown",
   "id": "c8e3bb3a",
   "metadata": {},
   "source": [
    "# Helpful Links: Data Acquisition"
   ]
  },
  {
   "cell_type": "markdown",
   "id": "85fbe320",
   "metadata": {},
   "source": [
    "<hr style=\"border:2px solid gray\">"
   ]
  },
  {
   "cell_type": "markdown",
   "id": "c837d65d",
   "metadata": {},
   "source": [
    "### Links to Lesson Notebooks"
   ]
  },
  {
   "cell_type": "markdown",
   "id": "8ddbcc78",
   "metadata": {},
   "source": [
    "[Noether](https://github.com/CodeupClassroom/noether-classification-exercises/blob/main/acquire_lesson.ipynb)"
   ]
  },
  {
   "cell_type": "markdown",
   "id": "1d77ec26",
   "metadata": {},
   "source": [
    "[Mirzakhani](https://github.com/CodeupClassroom/mirzakhani-classification-exercises/blob/main/acquire_lesson.ipynb)"
   ]
  },
  {
   "cell_type": "markdown",
   "id": "712949d2",
   "metadata": {},
   "source": [
    "[Leavitt](https://github.com/CodeupClassroom/leavitt-classification-exercises/blob/main/acquire_lesson.ipynb)"
   ]
  },
  {
   "cell_type": "markdown",
   "id": "5377db25",
   "metadata": {},
   "source": [
    "[Kalpana](https://github.com/CodeupClassroom/kalpana-classification-exercises/blob/main/acquire_lesson.ipynb)"
   ]
  },
  {
   "cell_type": "markdown",
   "id": "815e5bd1",
   "metadata": {},
   "source": [
    "[Jemison](https://github.com/CodeupClassroom/jemison-classification-exercises/blob/main/acquire_lesson_demo.ipynb)"
   ]
  },
  {
   "cell_type": "markdown",
   "id": "d672bb27",
   "metadata": {},
   "source": [
    "[Innis](https://github.com/CodeupClassroom/innis-classification-exercises/blob/main/acquire.ipynb)"
   ]
  },
  {
   "cell_type": "markdown",
   "id": "16c7a82b",
   "metadata": {},
   "source": [
    "<hr style=\"border:1px solid black\">"
   ]
  },
  {
   "cell_type": "markdown",
   "id": "f150b7ea",
   "metadata": {},
   "source": [
    "### Links to Exercises Notebooks"
   ]
  },
  {
   "cell_type": "markdown",
   "id": "02f274b2",
   "metadata": {},
   "source": [
    "[Noether](https://github.com/CodeupClassroom/noether-classification-exercises/blob/main/acquire_exercises.ipynb)"
   ]
  },
  {
   "cell_type": "markdown",
   "id": "942038c2",
   "metadata": {},
   "source": [
    "[Mirzakhani](https://github.com/CodeupClassroom/mirzakhani-classification-exercises/blob/main/acquire_exercises.ipynb)"
   ]
  },
  {
   "cell_type": "markdown",
   "id": "46829add",
   "metadata": {},
   "source": [
    "[Leavitt](https://github.com/CodeupClassroom/leavitt-classification-exercises/blob/main/acquire_exercises.ipynb)"
   ]
  },
  {
   "cell_type": "markdown",
   "id": "ff42bb10",
   "metadata": {},
   "source": [
    "[Kalpana](https://github.com/CodeupClassroom/kalpana-classification-exercises/blob/main/acquire_exercises.ipynb)"
   ]
  },
  {
   "cell_type": "markdown",
   "id": "fc585fe4",
   "metadata": {},
   "source": [
    "[Jemison](https://github.com/CodeupClassroom/jemison-classification-exercises/blob/main/acquire_exercises.ipynb)"
   ]
  },
  {
   "cell_type": "markdown",
   "id": "f7c999a2",
   "metadata": {},
   "source": [
    "[Innis](https://github.com/CodeupClassroom/innis-classification-exercises/blob/main/acquire.py)"
   ]
  },
  {
   "cell_type": "markdown",
   "id": "196160ea",
   "metadata": {},
   "source": [
    "<hr style=\"border:1px solid black\">"
   ]
  },
  {
   "cell_type": "markdown",
   "id": "54732b28",
   "metadata": {},
   "source": [
    "### Links to Slideshow"
   ]
  },
  {
   "cell_type": "markdown",
   "id": "4c50a022",
   "metadata": {},
   "source": [
    "None"
   ]
  },
  {
   "cell_type": "markdown",
   "id": "a8239706",
   "metadata": {},
   "source": [
    "<hr style=\"border:1px solid black\">"
   ]
  },
  {
   "cell_type": "markdown",
   "id": "19321499",
   "metadata": {},
   "source": [
    "### Links to Video Recording"
   ]
  },
  {
   "cell_type": "markdown",
   "id": "135027f5",
   "metadata": {},
   "source": [
    "None"
   ]
  },
  {
   "cell_type": "markdown",
   "id": "0647333e",
   "metadata": {},
   "source": [
    "<hr style=\"border:1px solid black\">"
   ]
  },
  {
   "cell_type": "markdown",
   "id": "ef553d62",
   "metadata": {},
   "source": [
    "### Video Tutorials"
   ]
  },
  {
   "cell_type": "markdown",
   "id": "69fe467a",
   "metadata": {},
   "source": [
    "None"
   ]
  },
  {
   "cell_type": "markdown",
   "id": "6d9b62db",
   "metadata": {},
   "source": [
    "<hr style=\"border:1px solid black\">"
   ]
  },
  {
   "cell_type": "markdown",
   "id": "8791a6d9",
   "metadata": {},
   "source": [
    "### Link to Curriculum Page"
   ]
  },
  {
   "cell_type": "markdown",
   "id": "394eb8a1",
   "metadata": {},
   "source": [
    "[Data Acquisition](https://ds.codeup.com/classification/acquire/)"
   ]
  },
  {
   "cell_type": "markdown",
   "id": "96654790",
   "metadata": {},
   "source": [
    "<hr style=\"border:1px solid black\">"
   ]
  },
  {
   "cell_type": "markdown",
   "id": "9a6856ab",
   "metadata": {},
   "source": [
    "### Other"
   ]
  },
  {
   "cell_type": "markdown",
   "id": "b684668a",
   "metadata": {},
   "source": [
    "N/A"
   ]
  }
 ],
 "metadata": {
  "kernelspec": {
   "display_name": "Python 3 (ipykernel)",
   "language": "python",
   "name": "python3"
  },
  "language_info": {
   "codemirror_mode": {
    "name": "ipython",
    "version": 3
   },
   "file_extension": ".py",
   "mimetype": "text/x-python",
   "name": "python",
   "nbconvert_exporter": "python",
   "pygments_lexer": "ipython3",
   "version": "3.9.13"
  }
 },
 "nbformat": 4,
 "nbformat_minor": 5
}
