{
 "cells": [
  {
   "cell_type": "markdown",
   "id": "0a23679a",
   "metadata": {},
   "source": [
    "# Lesson Plan: Project Part I"
   ]
  },
  {
   "cell_type": "markdown",
   "id": "54aea691",
   "metadata": {},
   "source": [
    "<hr style=\"border:2px solid gray\">"
   ]
  },
  {
   "cell_type": "markdown",
   "id": "4dc33e6d",
   "metadata": {},
   "source": [
    "### 1. Lesson Objective"
   ]
  },
  {
   "cell_type": "markdown",
   "id": "bee17f37",
   "metadata": {},
   "source": [
    "<b>Project Part I- Report Learning Objectives:</b>\n",
    "<br>\n",
    "\n",
    "1. Students will document code, process (data acquisition, preparation, exploratory data analysis and statistical testing, modeling, and model evaluation), findings, and key takeaways in a Jupyter Notebook Final Report.\n",
    "<br>\n",
    "\n",
    "2. Students will create modules (acquire.py, prepare.py) that make your process repeatable and your report (notebook) easier to read and follow.\n",
    "<br>\n",
    "\n",
    "3. Students will ask exploratory questions of your data that will help you understand more about the attributes and drivers of customers churning. Answer questions through charts and statistical tests.\n",
    "<br>\n",
    "\n",
    "4. Students will construct a model to predict customer churn using classification techniques, and make predictions for a group of customers.\n",
    "<br>\n",
    "\n",
    "5. Students will refine your work into a Report, in the form of a jupyter notebook, that you will walk through in a 5 minute presentation to a group of colleagues and managers about the work you did, why, goals, what you found, your methodologies, and your conclusions.\n",
    "<br>\n",
    "\n",
    "6. Students will be prepared to answer panel questions about your code, process, findings and key takeaways, and model."
   ]
  },
  {
   "cell_type": "markdown",
   "id": "95089a93",
   "metadata": {},
   "source": [
    "<hr style=\"border:1px solid black\">"
   ]
  },
  {
   "cell_type": "markdown",
   "id": "e61cd878",
   "metadata": {},
   "source": [
    "### 2. Pacing/timing of lectures/exercises"
   ]
  },
  {
   "cell_type": "markdown",
   "id": "9ae9169d",
   "metadata": {},
   "source": [
    "- <b>Lecture</b>: 1 hour 30 minutes\n",
    "    - project kickoff- 1 hour\n",
    "    - student questions- 20 minutes\n",
    "    - sample project- 10 minutes \n",
    "    \n",
    "<br>\n",
    "\n",
    "- <b>Student work time</b>: \n",
    "    - 4 days (including project kickoff day)\n",
    "    \n",
    "<br>\n",
    "\n",
    "- <b>Presentation time</b>: 8 minutes per student\n",
    "    - setup- 1 minute per student\n",
    "    - presentation- 5 minutes per student  \n",
    "    - questions- 2 minutes per presentation    "
   ]
  },
  {
   "cell_type": "markdown",
   "id": "ffcf3cee",
   "metadata": {},
   "source": [
    "<hr style=\"border:1px solid black\">"
   ]
  },
  {
   "cell_type": "markdown",
   "id": "899c52a2",
   "metadata": {},
   "source": [
    "### 3. Materials"
   ]
  },
  {
   "cell_type": "markdown",
   "id": "e63a4bd3",
   "metadata": {},
   "source": [
    "- Laptop\n",
    "- Codeup curriculum\n",
    "- Python (version 3 or newer)\n",
    "- Jupyter notebook\n",
    "- Sequel Ace and credentials\n",
    "- ```env.py``` file\n",
    "- ```.gitignore``` file\n",
    "- ```acquire.py``` file\n",
    "- ```prepare.py``` file"
   ]
  },
  {
   "cell_type": "markdown",
   "id": "738aee26",
   "metadata": {},
   "source": [
    "<hr style=\"border:1px solid black\">"
   ]
  },
  {
   "cell_type": "markdown",
   "id": "f11b3e54",
   "metadata": {},
   "source": [
    "### 4. Vocabulary"
   ]
  },
  {
   "cell_type": "markdown",
   "id": "b4efbe58",
   "metadata": {},
   "source": [
    "N/A"
   ]
  },
  {
   "cell_type": "markdown",
   "id": "418e19c4",
   "metadata": {},
   "source": [
    "<hr style=\"border:1px solid black\">"
   ]
  },
  {
   "cell_type": "markdown",
   "id": "f514ef37",
   "metadata": {},
   "source": [
    "### 5. Assessments"
   ]
  },
  {
   "cell_type": "markdown",
   "id": "3b1bbd1c",
   "metadata": {},
   "source": [
    "- This project has several deliverables\n",
    "    - Readme.MD\n",
    "    - Final notebook\n",
    "    - acquire and prepare modules\n",
    "    - predictions.csv file\n",
    "    - 5 minute live presentation\n",
    "    - video recording of presentation preparation\n",
    "    \n",
    "    <br>\n",
    "    \n",
    "- The only written assessment for Classification is comprehensive at the end of the section."
   ]
  },
  {
   "cell_type": "markdown",
   "id": "4b76ab73",
   "metadata": {},
   "source": [
    "<hr style=\"border:1px solid black\">"
   ]
  },
  {
   "cell_type": "markdown",
   "id": "ec6be5ac",
   "metadata": {},
   "source": [
    "### 6. Table of Contents"
   ]
  },
  {
   "cell_type": "markdown",
   "id": "f3e95689",
   "metadata": {},
   "source": [
    "- Project Objectives\n",
    "- Business Goals\n",
    "- Audience\n",
    "- Deliverables\n",
    "- Github repo with the following:\n",
    "- Live Presentation\n",
    "- Tips"
   ]
  }
 ],
 "metadata": {
  "kernelspec": {
   "display_name": "Python 3 (ipykernel)",
   "language": "python",
   "name": "python3"
  },
  "language_info": {
   "codemirror_mode": {
    "name": "ipython",
    "version": 3
   },
   "file_extension": ".py",
   "mimetype": "text/x-python",
   "name": "python",
   "nbconvert_exporter": "python",
   "pygments_lexer": "ipython3",
   "version": "3.9.13"
  }
 },
 "nbformat": 4,
 "nbformat_minor": 5
}
