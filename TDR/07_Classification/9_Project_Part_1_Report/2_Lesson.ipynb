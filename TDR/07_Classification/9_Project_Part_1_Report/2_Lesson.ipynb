{
 "cells": [
  {
   "cell_type": "markdown",
   "id": "0a23679a",
   "metadata": {},
   "source": [
    "# Lesson: Project Part I- Report"
   ]
  },
  {
   "cell_type": "markdown",
   "id": "54aea691",
   "metadata": {},
   "source": [
    "<hr style=\"border:2px solid gray\">"
   ]
  },
  {
   "cell_type": "markdown",
   "id": "fe2109b1",
   "metadata": {},
   "source": [
    "## Steps for Instructor to follow:\n",
    "\n",
    "### Prior to Lesson:\n",
    "\n",
    "1. Read CodeUp curriculum on \"Project Part I- Report\" to familiarize yourself with the content \n",
    "    - [Found here](https://ds.codeup.com/classification/project/)\n",
    "\n",
    "<br>\n",
    "\n",
    "### During Project:\n",
    "<br>\n",
    "\n",
    "1. Read over the \"Project Part I- Report\" lesson in curriculum with students.\n",
    "    - [Found here](https://ds.codeup.com/classification/project/)\n",
    "\n",
    "<br>\n",
    "\n",
    "2. Allow the students class time to work on the project (4 days total).\n",
    "\n",
    "<br>\n",
    "\n",
    "3. The day prior to presentations, allow students to break up into groups in order to practice their presentations (timing and final notebook).\n",
    "\n",
    "<br>\n",
    "\n",
    "4. Determine presentation order (voluntary or instructor decides order).\n",
    "\n",
    "<br>\n",
    "\n",
    "5. Begin presentations (allow time for setup, presentation and questions). "
   ]
  }
 ],
 "metadata": {
  "kernelspec": {
   "display_name": "Python 3 (ipykernel)",
   "language": "python",
   "name": "python3"
  },
  "language_info": {
   "codemirror_mode": {
    "name": "ipython",
    "version": 3
   },
   "file_extension": ".py",
   "mimetype": "text/x-python",
   "name": "python",
   "nbconvert_exporter": "python",
   "pygments_lexer": "ipython3",
   "version": "3.9.13"
  }
 },
 "nbformat": 4,
 "nbformat_minor": 5
}
