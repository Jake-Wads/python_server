{
 "cells": [
  {
   "cell_type": "markdown",
   "id": "c416baa5",
   "metadata": {},
   "source": [
    "# KNN Exercises\n",
    "\n",
    "Create a new notebook, knn_model, and work with the titanic dataset. \n"
   ]
  },
  {
   "cell_type": "markdown",
   "id": "e9846849",
   "metadata": {},
   "source": [
    "1. Fit a K-Nearest Neighbors classifier to your training sample and transform (i.e. make predictions on the training sample)\n",
    "\n",
    "2. Evaluate your results using the model score, confusion matrix, and classification report.\n",
    "\n",
    "3. Print and clearly label the following: Accuracy, true positive rate, false positive rate, true negative rate, false negative rate, precision, recall, f1-score, and support.\n",
    "\n",
    "4. Run through steps 1-3 setting k to 10\n",
    "\n",
    "5. Run through steps 1-3 setting k to 20\n",
    "\n",
    "6. What are the differences in the evaluation metrics? Which performs better on your in-sample data? Why?\n",
    "\n",
    "7. Which model performs best on our out-of-sample data from validate?"
   ]
  },
  {
   "cell_type": "markdown",
   "id": "7ca1973e",
   "metadata": {},
   "source": [
    "<hr style=\"border:2px solid gray\">"
   ]
  },
  {
   "cell_type": "markdown",
   "id": "fd3b607c",
   "metadata": {},
   "source": [
    "<b>Imports</b>"
   ]
  },
  {
   "cell_type": "code",
   "execution_count": 1,
   "id": "c289526a",
   "metadata": {},
   "outputs": [],
   "source": [
    "import numpy as np\n",
    "import pandas as pd\n",
    "from sklearn.neighbors import KNeighborsClassifier\n",
    "import acquire\n",
    "from prepare import prep_titanic_data\n",
    "import matplotlib.pyplot as plt\n",
    "from sklearn.metrics import classification_report, confusion_matrix\n",
    "\n",
    "import warnings\n",
    "warnings.filterwarnings(\"ignore\")"
   ]
  },
  {
   "cell_type": "markdown",
   "id": "27b6af76",
   "metadata": {},
   "source": [
    "**Acquire & Prepare**"
   ]
  },
  {
   "cell_type": "code",
   "execution_count": 5,
   "id": "08e7e74f",
   "metadata": {},
   "outputs": [
    {
     "data": {
      "text/plain": [
       "((498, 9), (214, 9), (179, 9))"
      ]
     },
     "execution_count": 5,
     "metadata": {},
     "output_type": "execute_result"
    }
   ],
   "source": [
    "# Acquire Step\n",
    "df = acquire.get_titanic_data()\n",
    "# prepare the data\n",
    "train, validate, test = prep_titanic_data(df)\n",
    "\n",
    "# drop object columns and create X_train of features only \n",
    "# and y_train of survived only. \n",
    "X_train = train.drop(columns=['survived'])\n",
    "y_train = train.survived\n",
    "\n",
    "X_validate = validate.drop(columns=['survived'])\n",
    "y_validate = validate.survived\n",
    "\n",
    "X_test = test.drop(columns=['survived'])\n",
    "y_test = test.survived\n",
    "\n",
    "# check the shape\n",
    "X_train.shape, X_validate.shape, X_test.shape"
   ]
  },
  {
   "cell_type": "markdown",
   "id": "5d84c94d",
   "metadata": {},
   "source": [
    "**Explore**\n",
    "\n",
    "* Think back to your Explore lesson and ask questions you want to know about the data\n",
    "* Make decisions on which varaibles to keep and which to discard\n",
    "* Accomplish feature engineering to provide the model with new variables"
   ]
  },
  {
   "cell_type": "markdown",
   "id": "42a425f7",
   "metadata": {},
   "source": [
    "**Model**\n",
    "\n",
    "0. Baseline (mode of the target for classification problems)\n",
    "1. Create Algorithm Object\n",
    "2. Create Model by fitting algorithm to X_train, y_train\n",
    "3. Run Model by predicting using X_train\n",
    "4. Evaluate Model by comparing y_train_pred with y_train (actual values)\n",
    "5. Run Model by predicting using X_validate\n",
    "6. Evaluate Model by comparing y_validate_pred with y_validate (actual values)"
   ]
  },
  {
   "cell_type": "markdown",
   "id": "8052ea60",
   "metadata": {},
   "source": [
    "**Baseline**\n",
    "\n",
    "Let's make this easier next time, by writing a function to compute the baseline accuracy for classification problems. "
   ]
  },
  {
   "cell_type": "code",
   "execution_count": 6,
   "id": "14356400",
   "metadata": {},
   "outputs": [],
   "source": [
    "# write a function to compute the baseline for a classification model\n",
    "\n",
    "def establish_baseline(y_train):\n",
    "    #  establish the value we will predict for all observations\n",
    "    baseline_prediction = y_train.mode()\n",
    "\n",
    "    # create a series of predictions with that value, \n",
    "    # the same length as our training set\n",
    "    y_train_pred = pd.Series([0]*len(y_train))\n",
    "\n",
    "    # compute accuracy of baseline\n",
    "    cm = confusion_matrix(y_train, y_train_pred)\n",
    "    tn, fp, fn, tp = cm.ravel()\n",
    "\n",
    "    accuracy = (tp+tn)/(tn+fp+fn+tp)\n",
    "    return accuracy"
   ]
  },
  {
   "cell_type": "code",
   "execution_count": 7,
   "id": "77fa0cab",
   "metadata": {},
   "outputs": [
    {
     "data": {
      "text/plain": [
       "0.6164658634538153"
      ]
     },
     "execution_count": 7,
     "metadata": {},
     "output_type": "execute_result"
    }
   ],
   "source": [
    "establish_baseline(y_train)"
   ]
  },
  {
   "cell_type": "code",
   "execution_count": 8,
   "id": "4e9ddc8e",
   "metadata": {},
   "outputs": [
    {
     "name": "stdout",
     "output_type": "stream",
     "text": [
      "Accuracy of KNN classifier on validate set: 0.62\n"
     ]
    }
   ],
   "source": [
    "#Make it look nicer with a print statement\n",
    "print('Accuracy of KNN classifier on validate set: {:.2f}'\n",
    "     .format(establish_baseline(y_train)))"
   ]
  },
  {
   "cell_type": "markdown",
   "id": "a96eab70",
   "metadata": {},
   "source": [
    "### #1. Fit a K-Nearest Neighbors classifier to your training sample and transform (i.e. make predictions on the training sample)"
   ]
  },
  {
   "cell_type": "code",
   "execution_count": 9,
   "id": "f1083da2",
   "metadata": {},
   "outputs": [],
   "source": [
    "knn = KNeighborsClassifier()\n",
    "knn.fit(X_train, y_train)\n",
    "y_train_pred = knn.predict(X_train)"
   ]
  },
  {
   "cell_type": "markdown",
   "id": "c23061a3",
   "metadata": {},
   "source": [
    "### #2. Evaluate your results using the model score, confusion matrix, and classification report."
   ]
  },
  {
   "cell_type": "code",
   "execution_count": 10,
   "id": "017e6e81",
   "metadata": {},
   "outputs": [
    {
     "data": {
      "text/plain": [
       "0.7951807228915663"
      ]
     },
     "execution_count": 10,
     "metadata": {},
     "output_type": "execute_result"
    }
   ],
   "source": [
    "#get the accuracy score of train set\n",
    "accuracy_train = knn.score(X_train, y_train)\n",
    "accuracy_train"
   ]
  },
  {
   "cell_type": "code",
   "execution_count": 11,
   "id": "8d5e3711",
   "metadata": {},
   "outputs": [
    {
     "data": {
      "text/html": [
       "<div>\n",
       "<style scoped>\n",
       "    .dataframe tbody tr th:only-of-type {\n",
       "        vertical-align: middle;\n",
       "    }\n",
       "\n",
       "    .dataframe tbody tr th {\n",
       "        vertical-align: top;\n",
       "    }\n",
       "\n",
       "    .dataframe thead th {\n",
       "        text-align: right;\n",
       "    }\n",
       "</style>\n",
       "<table border=\"1\" class=\"dataframe\">\n",
       "  <thead>\n",
       "    <tr style=\"text-align: right;\">\n",
       "      <th></th>\n",
       "      <th>Pred 0</th>\n",
       "      <th>Pred 1</th>\n",
       "    </tr>\n",
       "  </thead>\n",
       "  <tbody>\n",
       "    <tr>\n",
       "      <th>Actual 0</th>\n",
       "      <td>258</td>\n",
       "      <td>49</td>\n",
       "    </tr>\n",
       "    <tr>\n",
       "      <th>Actual 1</th>\n",
       "      <td>53</td>\n",
       "      <td>138</td>\n",
       "    </tr>\n",
       "  </tbody>\n",
       "</table>\n",
       "</div>"
      ],
      "text/plain": [
       "          Pred 0  Pred 1\n",
       "Actual 0     258      49\n",
       "Actual 1      53     138"
      ]
     },
     "execution_count": 11,
     "metadata": {},
     "output_type": "execute_result"
    }
   ],
   "source": [
    "#confusion matrix\n",
    "cm = confusion_matrix(y_train, y_train_pred)\n",
    "pd.DataFrame(cm, index=['Actual 0', 'Actual 1'], \n",
    "             columns=['Pred 0', 'Pred 1'])"
   ]
  },
  {
   "cell_type": "code",
   "execution_count": 12,
   "id": "e5315243",
   "metadata": {},
   "outputs": [
    {
     "data": {
      "text/html": [
       "<div>\n",
       "<style scoped>\n",
       "    .dataframe tbody tr th:only-of-type {\n",
       "        vertical-align: middle;\n",
       "    }\n",
       "\n",
       "    .dataframe tbody tr th {\n",
       "        vertical-align: top;\n",
       "    }\n",
       "\n",
       "    .dataframe thead th {\n",
       "        text-align: right;\n",
       "    }\n",
       "</style>\n",
       "<table border=\"1\" class=\"dataframe\">\n",
       "  <thead>\n",
       "    <tr style=\"text-align: right;\">\n",
       "      <th></th>\n",
       "      <th>0</th>\n",
       "      <th>1</th>\n",
       "      <th>accuracy</th>\n",
       "      <th>macro avg</th>\n",
       "      <th>weighted avg</th>\n",
       "    </tr>\n",
       "  </thead>\n",
       "  <tbody>\n",
       "    <tr>\n",
       "      <th>precision</th>\n",
       "      <td>0.829582</td>\n",
       "      <td>0.737968</td>\n",
       "      <td>0.795181</td>\n",
       "      <td>0.783775</td>\n",
       "      <td>0.794445</td>\n",
       "    </tr>\n",
       "    <tr>\n",
       "      <th>recall</th>\n",
       "      <td>0.840391</td>\n",
       "      <td>0.722513</td>\n",
       "      <td>0.795181</td>\n",
       "      <td>0.781452</td>\n",
       "      <td>0.795181</td>\n",
       "    </tr>\n",
       "    <tr>\n",
       "      <th>f1-score</th>\n",
       "      <td>0.834951</td>\n",
       "      <td>0.730159</td>\n",
       "      <td>0.795181</td>\n",
       "      <td>0.782555</td>\n",
       "      <td>0.794760</td>\n",
       "    </tr>\n",
       "    <tr>\n",
       "      <th>support</th>\n",
       "      <td>307.000000</td>\n",
       "      <td>191.000000</td>\n",
       "      <td>0.795181</td>\n",
       "      <td>498.000000</td>\n",
       "      <td>498.000000</td>\n",
       "    </tr>\n",
       "  </tbody>\n",
       "</table>\n",
       "</div>"
      ],
      "text/plain": [
       "                    0           1  accuracy   macro avg  weighted avg\n",
       "precision    0.829582    0.737968  0.795181    0.783775      0.794445\n",
       "recall       0.840391    0.722513  0.795181    0.781452      0.795181\n",
       "f1-score     0.834951    0.730159  0.795181    0.782555      0.794760\n",
       "support    307.000000  191.000000  0.795181  498.000000    498.000000"
      ]
     },
     "execution_count": 12,
     "metadata": {},
     "output_type": "execute_result"
    }
   ],
   "source": [
    "#classification report\n",
    "pd.DataFrame(classification_report(y_train, \n",
    "                                   y_train_pred, \n",
    "                                   output_dict=True))"
   ]
  },
  {
   "cell_type": "markdown",
   "id": "eebdf288",
   "metadata": {},
   "source": [
    "### #3. Print and clearly label the following: Accuracy, true positive rate, false positive rate, true negative rate, false negative rate, precision, recall, f1-score, and support."
   ]
  },
  {
   "cell_type": "code",
   "execution_count": 13,
   "id": "38155818",
   "metadata": {},
   "outputs": [
    {
     "name": "stdout",
     "output_type": "stream",
     "text": [
      "Accuracy: 0.7951807228915663\n",
      "True Positive Rate: 0.7225130890052356\n",
      "False Positive Rate: 0.15960912052117263\n",
      "True Negative Rate: 0.8403908794788274\n",
      "False Negative Rate: 0.2774869109947644\n",
      "Precision: 0.7379679144385026\n",
      "Recall: 0.7225130890052356\n",
      "F1 Score: 0.73015873015873\n",
      "Support (0): 191\n",
      "Support (1): 307\n"
     ]
    }
   ],
   "source": [
    "def print_cm_metrics(cm):\n",
    "    # extract tp, tn, fp, fn from the confusion matrix to use in calculations\n",
    "    tn, fp, fn, tp = cm.ravel()\n",
    "\n",
    "    accuracy = (tp + tn)/(tn + fp + fn + tp)\n",
    "    print(f\"Accuracy: {accuracy}\")\n",
    "\n",
    "    true_positive_rate = tp/(tp + fn)\n",
    "    print(f\"True Positive Rate: {true_positive_rate}\")\n",
    "\n",
    "    false_positive_rate = fp/(fp + tn)\n",
    "    print(f\"False Positive Rate: {false_positive_rate}\")\n",
    "\n",
    "    true_negative_rate = tn/(tn + fp)\n",
    "    print(f\"True Negative Rate: {true_negative_rate}\")\n",
    "\n",
    "    false_negative_rate = fn/(fn + tp)\n",
    "    print(f\"False Negative Rate: {false_negative_rate}\")\n",
    "\n",
    "    precision = tp/(tp + fp)\n",
    "    print(f\"Precision: {precision}\")\n",
    "\n",
    "    recall = tp/(tp + fn)\n",
    "    print(f\"Recall: {recall}\")\n",
    "\n",
    "    f1_score = 2*(precision*recall)/(precision+recall)\n",
    "    print(f\"F1 Score: {f1_score}\")\n",
    "\n",
    "    support_pos = tp + fn\n",
    "    print(f\"Support (0): {support_pos}\")\n",
    "\n",
    "    support_neg = fp + tn\n",
    "    print(f\"Support (1): {support_neg}\")\n",
    "    \n",
    "print_cm_metrics(cm)"
   ]
  },
  {
   "cell_type": "markdown",
   "id": "1578b5d7",
   "metadata": {},
   "source": [
    "### #4. Run through steps 1-3 setting k to 10"
   ]
  },
  {
   "cell_type": "markdown",
   "id": "525d9fd6",
   "metadata": {},
   "source": [
    "<b>First, let's create a few functions to help us out</b>"
   ]
  },
  {
   "cell_type": "code",
   "execution_count": 15,
   "id": "cfb25471",
   "metadata": {},
   "outputs": [],
   "source": [
    "def knn_fit_predict(k, X_train, y_train, X_validate):\n",
    "    '''\n",
    "    This function takes n_neighbors, X_train,  target  and X_val\n",
    "    and returns knn, predictions for train set and validate set\n",
    "    '''\n",
    "    # create the object\n",
    "    knn = KNeighborsClassifier(n_neighbors=k)\n",
    "\n",
    "    # create the model\n",
    "    knn.fit(X_train, y_train)\n",
    "\n",
    "    # run the model\n",
    "    y_train_pred = knn.predict(X_train)\n",
    "    y_validate_pred = knn.predict(X_validate)\n",
    "    \n",
    "    return knn, y_train_pred, y_validate_pred"
   ]
  },
  {
   "cell_type": "code",
   "execution_count": null,
   "id": "7cdf9428",
   "metadata": {},
   "outputs": [],
   "source": [
    "def evaluate_clf(model, X, y, y_pred):\n",
    "    '''\n",
    "    This function can be used on any classification model\n",
    "    It takes in a model, features, target and prediction\n",
    "    and returns the accuracy, confusion matrix and classification report\n",
    "    '''\n",
    "    # model score\n",
    "    accuracy = model.score(X, y)\n",
    "    print(f'Accuracy: {accuracy}')\n",
    "\n",
    "    # confusion matrix\n",
    "    cm = confusion_matrix(y, y_pred)\n",
    "    print('Confusion Matrix')\n",
    "    print(pd.DataFrame(cm, index=['Actual 0', 'Actual 1'], \n",
    "                       columns=['Pred 0', 'Pred 1']))\n",
    "\n",
    "    # classification report\n",
    "    print('Classification Report')\n",
    "    print(pd.DataFrame(classification_report(y, y_pred,\n",
    "                                             output_dict=True)))\n",
    "    # confusion matrix metrics\n",
    "    print_cm_metrics(cm)\n",
    "    \n",
    "    return accuracy"
   ]
  },
  {
   "cell_type": "code",
   "execution_count": 16,
   "id": "5cbd7e97",
   "metadata": {},
   "outputs": [
    {
     "name": "stdout",
     "output_type": "stream",
     "text": [
      "KNN where K = 10\n",
      "Train Evaluation\n",
      "\n",
      "Accuracy: 0.7449799196787149\n",
      "Confusion Matrix\n",
      "          Pred 0  Pred 1\n",
      "Actual 0     275      32\n",
      "Actual 1      95      96\n",
      "Classification Report\n",
      "                    0           1  accuracy   macro avg  weighted avg\n",
      "precision    0.743243    0.750000   0.74498    0.746622      0.745835\n",
      "recall       0.895765    0.502618   0.74498    0.699192      0.744980\n",
      "f1-score     0.812408    0.601881   0.74498    0.707144      0.731663\n",
      "support    307.000000  191.000000   0.74498  498.000000    498.000000\n",
      "Accuracy: 0.7449799196787149\n",
      "True Positive Rate: 0.5026178010471204\n",
      "False Positive Rate: 0.10423452768729642\n",
      "True Negative Rate: 0.8957654723127035\n",
      "False Negative Rate: 0.4973821989528796\n",
      "Precision: 0.75\n",
      "Recall: 0.5026178010471204\n",
      "F1 Score: 0.6018808777429466\n",
      "Support (0): 191\n",
      "Support (1): 307\n",
      "\n",
      "Validate Evaluation\n",
      "\n",
      "Accuracy: 0.7242990654205608\n",
      "Confusion Matrix\n",
      "          Pred 0  Pred 1\n",
      "Actual 0     115      17\n",
      "Actual 1      42      40\n",
      "Classification Report\n",
      "                    0          1  accuracy   macro avg  weighted avg\n",
      "precision    0.732484   0.701754  0.724299    0.717119      0.720709\n",
      "recall       0.871212   0.487805  0.724299    0.679508      0.724299\n",
      "f1-score     0.795848   0.575540  0.724299    0.685694      0.711431\n",
      "support    132.000000  82.000000  0.724299  214.000000    214.000000\n",
      "Accuracy: 0.7242990654205608\n",
      "True Positive Rate: 0.4878048780487805\n",
      "False Positive Rate: 0.12878787878787878\n",
      "True Negative Rate: 0.8712121212121212\n",
      "False Negative Rate: 0.5121951219512195\n",
      "Precision: 0.7017543859649122\n",
      "Recall: 0.4878048780487805\n",
      "F1 Score: 0.5755395683453237\n",
      "Support (0): 82\n",
      "Support (1): 132\n"
     ]
    }
   ],
   "source": [
    "k = 10\n",
    "print(f'KNN where K = {k}' )\n",
    "\n",
    "knn, y_train_pred, y_validate_pred = knn_fit_predict(k, \n",
    "                                                     X_train, \n",
    "                                                     y_train, \n",
    "                                                     X_validate)\n",
    "\n",
    "print('Train Evaluation\\n')\n",
    "train_accuracy = evaluate_clf(knn, X_train, y_train, y_train_pred)\n",
    "print('\\nValidate Evaluation\\n')\n",
    "validate_accuracy = evaluate_clf(knn, X_validate, \n",
    "                                 y_validate, y_validate_pred)"
   ]
  },
  {
   "cell_type": "markdown",
   "id": "aff2287a",
   "metadata": {},
   "source": [
    "### #5. Run through steps 1-3 setting k to 20"
   ]
  },
  {
   "cell_type": "code",
   "execution_count": 17,
   "id": "2b1f081a",
   "metadata": {},
   "outputs": [
    {
     "name": "stdout",
     "output_type": "stream",
     "text": [
      "KNN where K = 20\n",
      "Train Evaluation\n",
      "\n",
      "Accuracy: 0.7188755020080321\n",
      "Confusion Matrix\n",
      "          Pred 0  Pred 1\n",
      "Actual 0     269      38\n",
      "Actual 1     102      89\n",
      "Classification Report\n",
      "                    0           1  accuracy   macro avg  weighted avg\n",
      "precision    0.725067    0.700787  0.718876    0.712927      0.715755\n",
      "recall       0.876221    0.465969  0.718876    0.671095      0.718876\n",
      "f1-score     0.793510    0.559748  0.718876    0.676629      0.703855\n",
      "support    307.000000  191.000000  0.718876  498.000000    498.000000\n",
      "Accuracy: 0.7188755020080321\n",
      "True Positive Rate: 0.46596858638743455\n",
      "False Positive Rate: 0.1237785016286645\n",
      "True Negative Rate: 0.8762214983713354\n",
      "False Negative Rate: 0.5340314136125655\n",
      "Precision: 0.7007874015748031\n",
      "Recall: 0.46596858638743455\n",
      "F1 Score: 0.559748427672956\n",
      "Support (0): 191\n",
      "Support (1): 307\n",
      "\n",
      "Validate Evaluation\n",
      "\n",
      "Accuracy: 0.7149532710280374\n",
      "Confusion Matrix\n",
      "          Pred 0  Pred 1\n",
      "Actual 0     112      20\n",
      "Actual 1      41      41\n",
      "Classification Report\n",
      "                    0          1  accuracy   macro avg  weighted avg\n",
      "precision    0.732026   0.672131  0.714953    0.702079      0.709076\n",
      "recall       0.848485   0.500000  0.714953    0.674242      0.714953\n",
      "f1-score     0.785965   0.573427  0.714953    0.679696      0.704525\n",
      "support    132.000000  82.000000  0.714953  214.000000    214.000000\n",
      "Accuracy: 0.7149532710280374\n",
      "True Positive Rate: 0.5\n",
      "False Positive Rate: 0.15151515151515152\n",
      "True Negative Rate: 0.8484848484848485\n",
      "False Negative Rate: 0.5\n",
      "Precision: 0.6721311475409836\n",
      "Recall: 0.5\n",
      "F1 Score: 0.5734265734265733\n",
      "Support (0): 82\n",
      "Support (1): 132\n"
     ]
    }
   ],
   "source": [
    "k = 20\n",
    "print(f'KNN where K = {k}' )\n",
    "\n",
    "knn, y_train_pred, y_validate_pred = knn_fit_predict(k, \n",
    "                                                     X_train, \n",
    "                                                     y_train, \n",
    "                                                     X_validate)\n",
    "\n",
    "print('Train Evaluation\\n')\n",
    "train_accuracy = evaluate_clf(knn, X_train, y_train, y_train_pred)\n",
    "print('\\nValidate Evaluation\\n')\n",
    "validate_accuracy = evaluate_clf(knn, X_validate, \n",
    "                                 y_validate, y_validate_pred)"
   ]
  },
  {
   "cell_type": "markdown",
   "id": "0767f488",
   "metadata": {},
   "source": [
    "### #6. What are the differences in the evaluation metrics? Which performs better on your in-sample data? Why? "
   ]
  },
  {
   "cell_type": "code",
   "execution_count": 18,
   "id": "bd44590c",
   "metadata": {},
   "outputs": [
    {
     "data": {
      "text/html": [
       "<div>\n",
       "<style scoped>\n",
       "    .dataframe tbody tr th:only-of-type {\n",
       "        vertical-align: middle;\n",
       "    }\n",
       "\n",
       "    .dataframe tbody tr th {\n",
       "        vertical-align: top;\n",
       "    }\n",
       "\n",
       "    .dataframe thead th {\n",
       "        text-align: right;\n",
       "    }\n",
       "</style>\n",
       "<table border=\"1\" class=\"dataframe\">\n",
       "  <thead>\n",
       "    <tr style=\"text-align: right;\">\n",
       "      <th></th>\n",
       "      <th>k</th>\n",
       "      <th>train_accuracy</th>\n",
       "      <th>validate_accuracy</th>\n",
       "      <th>difference</th>\n",
       "    </tr>\n",
       "  </thead>\n",
       "  <tbody>\n",
       "    <tr>\n",
       "      <th>0</th>\n",
       "      <td>1</td>\n",
       "      <td>0.995984</td>\n",
       "      <td>0.700935</td>\n",
       "      <td>0.295049</td>\n",
       "    </tr>\n",
       "    <tr>\n",
       "      <th>1</th>\n",
       "      <td>2</td>\n",
       "      <td>0.827309</td>\n",
       "      <td>0.696262</td>\n",
       "      <td>0.131048</td>\n",
       "    </tr>\n",
       "    <tr>\n",
       "      <th>2</th>\n",
       "      <td>3</td>\n",
       "      <td>0.839357</td>\n",
       "      <td>0.742991</td>\n",
       "      <td>0.096367</td>\n",
       "    </tr>\n",
       "    <tr>\n",
       "      <th>3</th>\n",
       "      <td>4</td>\n",
       "      <td>0.797189</td>\n",
       "      <td>0.710280</td>\n",
       "      <td>0.086908</td>\n",
       "    </tr>\n",
       "    <tr>\n",
       "      <th>4</th>\n",
       "      <td>5</td>\n",
       "      <td>0.795181</td>\n",
       "      <td>0.714953</td>\n",
       "      <td>0.080227</td>\n",
       "    </tr>\n",
       "    <tr>\n",
       "      <th>5</th>\n",
       "      <td>6</td>\n",
       "      <td>0.765060</td>\n",
       "      <td>0.728972</td>\n",
       "      <td>0.036088</td>\n",
       "    </tr>\n",
       "    <tr>\n",
       "      <th>6</th>\n",
       "      <td>7</td>\n",
       "      <td>0.763052</td>\n",
       "      <td>0.705607</td>\n",
       "      <td>0.057445</td>\n",
       "    </tr>\n",
       "    <tr>\n",
       "      <th>7</th>\n",
       "      <td>8</td>\n",
       "      <td>0.746988</td>\n",
       "      <td>0.719626</td>\n",
       "      <td>0.027362</td>\n",
       "    </tr>\n",
       "    <tr>\n",
       "      <th>8</th>\n",
       "      <td>9</td>\n",
       "      <td>0.763052</td>\n",
       "      <td>0.696262</td>\n",
       "      <td>0.066791</td>\n",
       "    </tr>\n",
       "    <tr>\n",
       "      <th>9</th>\n",
       "      <td>10</td>\n",
       "      <td>0.744980</td>\n",
       "      <td>0.724299</td>\n",
       "      <td>0.020681</td>\n",
       "    </tr>\n",
       "    <tr>\n",
       "      <th>10</th>\n",
       "      <td>11</td>\n",
       "      <td>0.744980</td>\n",
       "      <td>0.733645</td>\n",
       "      <td>0.011335</td>\n",
       "    </tr>\n",
       "    <tr>\n",
       "      <th>11</th>\n",
       "      <td>12</td>\n",
       "      <td>0.736948</td>\n",
       "      <td>0.733645</td>\n",
       "      <td>0.003303</td>\n",
       "    </tr>\n",
       "    <tr>\n",
       "      <th>12</th>\n",
       "      <td>13</td>\n",
       "      <td>0.726908</td>\n",
       "      <td>0.728972</td>\n",
       "      <td>-0.002064</td>\n",
       "    </tr>\n",
       "    <tr>\n",
       "      <th>13</th>\n",
       "      <td>14</td>\n",
       "      <td>0.728916</td>\n",
       "      <td>0.738318</td>\n",
       "      <td>-0.009402</td>\n",
       "    </tr>\n",
       "    <tr>\n",
       "      <th>14</th>\n",
       "      <td>15</td>\n",
       "      <td>0.726908</td>\n",
       "      <td>0.738318</td>\n",
       "      <td>-0.011410</td>\n",
       "    </tr>\n",
       "    <tr>\n",
       "      <th>15</th>\n",
       "      <td>16</td>\n",
       "      <td>0.732932</td>\n",
       "      <td>0.733645</td>\n",
       "      <td>-0.000713</td>\n",
       "    </tr>\n",
       "    <tr>\n",
       "      <th>16</th>\n",
       "      <td>17</td>\n",
       "      <td>0.724900</td>\n",
       "      <td>0.714953</td>\n",
       "      <td>0.009946</td>\n",
       "    </tr>\n",
       "    <tr>\n",
       "      <th>17</th>\n",
       "      <td>18</td>\n",
       "      <td>0.732932</td>\n",
       "      <td>0.738318</td>\n",
       "      <td>-0.005386</td>\n",
       "    </tr>\n",
       "    <tr>\n",
       "      <th>18</th>\n",
       "      <td>19</td>\n",
       "      <td>0.712851</td>\n",
       "      <td>0.714953</td>\n",
       "      <td>-0.002102</td>\n",
       "    </tr>\n",
       "  </tbody>\n",
       "</table>\n",
       "</div>"
      ],
      "text/plain": [
       "     k  train_accuracy  validate_accuracy  difference\n",
       "0    1        0.995984           0.700935    0.295049\n",
       "1    2        0.827309           0.696262    0.131048\n",
       "2    3        0.839357           0.742991    0.096367\n",
       "3    4        0.797189           0.710280    0.086908\n",
       "4    5        0.795181           0.714953    0.080227\n",
       "5    6        0.765060           0.728972    0.036088\n",
       "6    7        0.763052           0.705607    0.057445\n",
       "7    8        0.746988           0.719626    0.027362\n",
       "8    9        0.763052           0.696262    0.066791\n",
       "9   10        0.744980           0.724299    0.020681\n",
       "10  11        0.744980           0.733645    0.011335\n",
       "11  12        0.736948           0.733645    0.003303\n",
       "12  13        0.726908           0.728972   -0.002064\n",
       "13  14        0.728916           0.738318   -0.009402\n",
       "14  15        0.726908           0.738318   -0.011410\n",
       "15  16        0.732932           0.733645   -0.000713\n",
       "16  17        0.724900           0.714953    0.009946\n",
       "17  18        0.732932           0.738318   -0.005386\n",
       "18  19        0.712851           0.714953   -0.002102"
      ]
     },
     "execution_count": 18,
     "metadata": {},
     "output_type": "execute_result"
    }
   ],
   "source": [
    "metrics = []\n",
    "\n",
    "for k in range(1,20):\n",
    "    knn, y_train_pred, y_val_pred = knn_fit_predict(k, X_train, \n",
    "                                                    y_train, \n",
    "                                                    X_validate)\n",
    "    train_acc = knn.score(X_train, y_train)\n",
    "    val_acc = knn.score(X_validate, y_validate)\n",
    "    \n",
    "    output = {\n",
    "            \"k\": k,\n",
    "            \"train_accuracy\": train_acc,\n",
    "            \"validate_accuracy\": val_acc\n",
    "    }\n",
    "\n",
    "    metrics.append(output)\n",
    "    \n",
    "eval_df = pd.DataFrame(metrics)\n",
    "eval_df['difference'] = eval_df['train_accuracy'] - eval_df['validate_accuracy']\n",
    "\n",
    "eval_df"
   ]
  },
  {
   "cell_type": "markdown",
   "id": "e20b4406",
   "metadata": {},
   "source": [
    "### #7. Which model performs best on our out-of-sample data from ```validate```?"
   ]
  },
  {
   "cell_type": "code",
   "execution_count": 19,
   "id": "303ca684",
   "metadata": {},
   "outputs": [
    {
     "data": {
      "image/png": "[encoded data removed]",
      "text/plain": [
       "<Figure size 1600x900 with 1 Axes>"
      ]
     },
     "metadata": {},
     "output_type": "display_data"
    }
   ],
   "source": [
    "# plot the data\n",
    "plt.figure(figsize=(16,9))\n",
    "plt.plot(eval_df.k, eval_df.train_accuracy, label='Train Accuracy')\n",
    "plt.plot(eval_df.k, eval_df.validate_accuracy, label='Validate Accuracy')\n",
    "plt.plot(eval_df.k, eval_df.difference, label='Accuracy Difference')\n",
    "plt.ylabel('Accuracy')\n",
    "plt.legend()\n",
    "plt.xticks(np.arange(0,21,1))\n",
    "plt.grid()\n",
    "plt.show()"
   ]
  },
  {
   "cell_type": "markdown",
   "id": "739caf99",
   "metadata": {},
   "source": [
    "<div class=\"alert alert-block alert-success\">\n",
    "<b>Takeaway:</b>\n",
    "    <br>\n",
    "Looking at this chart, I would select k=12 as the best model. \n",
    "    </div>"
   ]
  },
  {
   "cell_type": "code",
   "execution_count": 21,
   "id": "e29c9c81",
   "metadata": {},
   "outputs": [
    {
     "name": "stdout",
     "output_type": "stream",
     "text": [
      "KNN where K = 12\n",
      "Train Evaluation\n",
      "\n",
      "Accuracy: 0.7369477911646586\n",
      "Confusion Matrix\n",
      "          Pred 0  Pred 1\n",
      "Actual 0     275      32\n",
      "Actual 1      99      92\n",
      "Classification Report\n",
      "                    0           1  accuracy   macro avg  weighted avg\n",
      "precision    0.735294    0.741935  0.736948    0.738615      0.737841\n",
      "recall       0.895765    0.481675  0.736948    0.688720      0.736948\n",
      "f1-score     0.807636    0.584127  0.736948    0.695881      0.721913\n",
      "support    307.000000  191.000000  0.736948  498.000000    498.000000\n",
      "Accuracy: 0.7369477911646586\n",
      "True Positive Rate: 0.4816753926701571\n",
      "False Positive Rate: 0.10423452768729642\n",
      "True Negative Rate: 0.8957654723127035\n",
      "False Negative Rate: 0.518324607329843\n",
      "Precision: 0.7419354838709677\n",
      "Recall: 0.4816753926701571\n",
      "F1 Score: 0.584126984126984\n",
      "Support (0): 191\n",
      "Support (1): 307\n",
      "\n",
      "Validate Evaluation\n",
      "\n",
      "Accuracy: 0.7336448598130841\n",
      "Confusion Matrix\n",
      "          Pred 0  Pred 1\n",
      "Actual 0     115      17\n",
      "Actual 1      40      42\n",
      "Classification Report\n",
      "                    0          1  accuracy   macro avg  weighted avg\n",
      "precision    0.741935   0.711864  0.733645    0.726900      0.730413\n",
      "recall       0.871212   0.512195  0.733645    0.691704      0.733645\n",
      "f1-score     0.801394   0.595745  0.733645    0.698569      0.722594\n",
      "support    132.000000  82.000000  0.733645  214.000000    214.000000\n",
      "Accuracy: 0.7336448598130841\n",
      "True Positive Rate: 0.5121951219512195\n",
      "False Positive Rate: 0.12878787878787878\n",
      "True Negative Rate: 0.8712121212121212\n",
      "False Negative Rate: 0.4878048780487805\n",
      "Precision: 0.711864406779661\n",
      "Recall: 0.5121951219512195\n",
      "F1 Score: 0.5957446808510639\n",
      "Support (0): 82\n",
      "Support (1): 132\n"
     ]
    }
   ],
   "source": [
    "k = 12\n",
    "print(f'KNN where K = {k}' )\n",
    "\n",
    "knn, y_train_pred, y_validate_pred = knn_fit_predict(k, \n",
    "                                                     X_train, \n",
    "                                                     y_train, \n",
    "                                                     X_validate)\n",
    "\n",
    "print('Train Evaluation\\n')\n",
    "train_accuracy = evaluate_clf(knn, X_train, y_train, y_train_pred)\n",
    "\n",
    "print('\\nValidate Evaluation\\n')\n",
    "validate_accuracy = evaluate_clf(knn, X_validate, \n",
    "                                 y_validate, y_validate_pred)"
   ]
  },
  {
   "cell_type": "markdown",
   "id": "9cd17f91",
   "metadata": {},
   "source": [
    "<div class=\"alert alert-block alert-success\">\n",
    "<b>Takeaway:</b>\n",
    "    <br>\n",
    "12 nearest neighbors works best on the in-sample and out-of-sample data. However, the f1 score is better on the model where k = 20, so it is a bit more balanced. BUT, let's loop through different K's and see what number of neighbors gives us the best results. </div>"
   ]
  }
 ],
 "metadata": {
  "kernelspec": {
   "display_name": "Python 3 (ipykernel)",
   "language": "python",
   "name": "python3"
  },
  "language_info": {
   "codemirror_mode": {
    "name": "ipython",
    "version": 3
   },
   "file_extension": ".py",
   "mimetype": "text/x-python",
   "name": "python",
   "nbconvert_exporter": "python",
   "pygments_lexer": "ipython3",
   "version": "3.9.13"
  }
 },
 "nbformat": 4,
 "nbformat_minor": 5
}
