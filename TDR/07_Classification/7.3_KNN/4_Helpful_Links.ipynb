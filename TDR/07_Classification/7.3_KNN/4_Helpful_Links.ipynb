{
 "cells": [
  {
   "cell_type": "markdown",
   "id": "c8e3bb3a",
   "metadata": {},
   "source": [
    "# Helpful Links: K-Nearest Neighbors (KNN)"
   ]
  },
  {
   "cell_type": "markdown",
   "id": "85fbe320",
   "metadata": {},
   "source": [
    "<hr style=\"border:2px solid gray\">"
   ]
  },
  {
   "cell_type": "markdown",
   "id": "c837d65d",
   "metadata": {},
   "source": [
    "### Links to Lesson Notebooks"
   ]
  },
  {
   "cell_type": "markdown",
   "id": "43690e6c",
   "metadata": {},
   "source": [
    "- [Noether](https://github.com/CodeupClassroom/noether-classification-exercises/blob/main/knn_lesson.ipynb)\n",
    "- [Mirzakhani](https://github.com/CodeupClassroom/mirzakhani-classification-exercises/blob/main/k_nearest_neighbors_lesson.ipynb)\n",
    "- [Leavitt](https://github.com/CodeupClassroom/leavitt-classification-exercises/blob/main/k_nearest_neighbors_lesson.ipynb)\n",
    "- [Kalpana](https://github.com/CodeupClassroom/kalpana-classification-exercises/blob/main/k_nearest_neighbors_lesson.ipynb)\n",
    "- Jemison: None\n",
    "- [Innis](https://github.com/CodeupClassroom/innis-classification-exercises/blob/main/KNN_Walkthrough.ipynb)"
   ]
  },
  {
   "cell_type": "markdown",
   "id": "16c7a82b",
   "metadata": {},
   "source": [
    "<hr style=\"border:1px solid black\">"
   ]
  },
  {
   "cell_type": "markdown",
   "id": "f150b7ea",
   "metadata": {},
   "source": [
    "### Links to Exercises Notebooks"
   ]
  },
  {
   "cell_type": "markdown",
   "id": "0e8055ff",
   "metadata": {},
   "source": [
    "- [Noether](https://github.com/CodeupClassroom/noether-classification-exercises/blob/main/KNN_exercise.ipynb)\n",
    "- [Mirzakhani](https://github.com/CodeupClassroom/mirzakhani-classification-exercises/blob/main/knn_exercises.ipynb)\n",
    "- [Leavitt](https://github.com/CodeupClassroom/leavitt-classification-exercises/blob/main/k_nearest_neighbors_exercises.ipynb)\n",
    "- [Kalpana](https://github.com/CodeupClassroom/kalpana-classification-exercises/blob/main/knn_exercise.ipynb)\n",
    "- [Jemison](https://github.com/CodeupClassroom/jemison-classification-exercises/blob/main/knn_exercise.ipynb)\n",
    "- [Innis](https://github.com/CodeupClassroom/innis-classification-exercises/blob/main/knn_ex.ipynb)"
   ]
  },
  {
   "cell_type": "markdown",
   "id": "196160ea",
   "metadata": {},
   "source": [
    "<hr style=\"border:1px solid black\">"
   ]
  },
  {
   "cell_type": "markdown",
   "id": "54732b28",
   "metadata": {},
   "source": [
    "### Links to Slideshow"
   ]
  },
  {
   "cell_type": "markdown",
   "id": "30dd51b7",
   "metadata": {},
   "source": [
    "- [KNN slide deck by Madeleine](https://www.canva.com/design/DAFJfip1Wno/ttCggoMXlT0JODAMPKwsJA/edit?utm_content=DAFJfip1Wno&utm_campaign=designshare&utm_medium=link2&utm_source=sharebutton)"
   ]
  },
  {
   "cell_type": "markdown",
   "id": "a8239706",
   "metadata": {},
   "source": [
    "<hr style=\"border:1px solid black\">"
   ]
  },
  {
   "cell_type": "markdown",
   "id": "19321499",
   "metadata": {},
   "source": [
    "### Links to Video Recording"
   ]
  },
  {
   "cell_type": "markdown",
   "id": "135027f5",
   "metadata": {},
   "source": [
    "- [KNN video recording by Ravinder](https://youtu.be/nP_fOLisep4)"
   ]
  },
  {
   "cell_type": "markdown",
   "id": "763a35f8",
   "metadata": {},
   "source": [
    "- [KNN video recording by Ryan O](https://youtu.be/egq09V67xEg)"
   ]
  },
  {
   "cell_type": "markdown",
   "id": "0647333e",
   "metadata": {},
   "source": [
    "<hr style=\"border:1px solid black\">"
   ]
  },
  {
   "cell_type": "markdown",
   "id": "ef553d62",
   "metadata": {},
   "source": [
    "### Video Tutorials"
   ]
  },
  {
   "cell_type": "markdown",
   "id": "69fe467a",
   "metadata": {},
   "source": [
    "- [KNN by StatsQuest](https://www.youtube.com/watch?v=HVXime0nQeI)"
   ]
  },
  {
   "cell_type": "markdown",
   "id": "6d9b62db",
   "metadata": {},
   "source": [
    "<hr style=\"border:1px solid black\">"
   ]
  },
  {
   "cell_type": "markdown",
   "id": "8791a6d9",
   "metadata": {},
   "source": [
    "### Link to Curriculum Page"
   ]
  },
  {
   "cell_type": "markdown",
   "id": "394eb8a1",
   "metadata": {},
   "source": [
    "- [K-Nearest Neighbors](https://ds.codeup.com/classification/knn/)"
   ]
  },
  {
   "cell_type": "markdown",
   "id": "96654790",
   "metadata": {},
   "source": [
    "<hr style=\"border:1px solid black\">"
   ]
  },
  {
   "cell_type": "markdown",
   "id": "9a6856ab",
   "metadata": {},
   "source": [
    "### Other"
   ]
  },
  {
   "cell_type": "markdown",
   "id": "b684668a",
   "metadata": {},
   "source": [
    "N/A"
   ]
  }
 ],
 "metadata": {
  "kernelspec": {
   "display_name": "Python 3 (ipykernel)",
   "language": "python",
   "name": "python3"
  },
  "language_info": {
   "codemirror_mode": {
    "name": "ipython",
    "version": 3
   },
   "file_extension": ".py",
   "mimetype": "text/x-python",
   "name": "python",
   "nbconvert_exporter": "python",
   "pygments_lexer": "ipython3",
   "version": "3.9.13"
  }
 },
 "nbformat": 4,
 "nbformat_minor": 5
}
