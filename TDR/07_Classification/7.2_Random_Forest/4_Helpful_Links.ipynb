{
 "cells": [
  {
   "cell_type": "markdown",
   "id": "c8e3bb3a",
   "metadata": {},
   "source": [
    "# Helpful Links: Random Forest"
   ]
  },
  {
   "cell_type": "markdown",
   "id": "85fbe320",
   "metadata": {},
   "source": [
    "<hr style=\"border:2px solid gray\">"
   ]
  },
  {
   "cell_type": "markdown",
   "id": "c837d65d",
   "metadata": {},
   "source": [
    "### Links to Lesson Notebooks"
   ]
  },
  {
   "cell_type": "markdown",
   "id": "43690e6c",
   "metadata": {},
   "source": [
    "- Noether: None\n",
    "- [Mirzakhani](https://github.com/CodeupClassroom/mirzakhani-classification-exercises/blob/main/random_forest_lesson.ipynb)\n",
    "- [Leavitt](https://github.com/CodeupClassroom/leavitt-classification-exercises/blob/main/random-forest_lesson.ipynb)\n",
    "- [Kalpana](https://github.com/CodeupClassroom/kalpana-classification-exercises/blob/main/random-forest_lesson.ipynb)\n",
    "- [Jemison](https://github.com/CodeupClassroom/jemison-classification-exercises/blob/main/random-forests.ipynb)\n",
    "- Innis: None"
   ]
  },
  {
   "cell_type": "markdown",
   "id": "16c7a82b",
   "metadata": {},
   "source": [
    "<hr style=\"border:1px solid black\">"
   ]
  },
  {
   "cell_type": "markdown",
   "id": "f150b7ea",
   "metadata": {},
   "source": [
    "### Links to Exercises Notebooks"
   ]
  },
  {
   "cell_type": "markdown",
   "id": "0e8055ff",
   "metadata": {},
   "source": [
    "- [Noether](https://github.com/CodeupClassroom/noether-classification-exercises/blob/main/random_forest_exercises.ipynb)\n",
    "- [Mirzakhani](https://github.com/CodeupClassroom/mirzakhani-classification-exercises/blob/main/random_forest_exercises.ipynb)\n",
    "- [Leavitt](https://github.com/CodeupClassroom/leavitt-classification-exercises/blob/main/random_forest_exercise.ipynb)\n",
    "- [Kalpana](https://github.com/CodeupClassroom/kalpana-classification-exercises/blob/main/random_forest_exercise.ipynb)\n",
    "- [Jemison](https://github.com/CodeupClassroom/jemison-classification-exercises/blob/main/random_forest_exercise.ipynb)\n",
    "- Innis: None"
   ]
  },
  {
   "cell_type": "markdown",
   "id": "196160ea",
   "metadata": {},
   "source": [
    "<hr style=\"border:1px solid black\">"
   ]
  },
  {
   "cell_type": "markdown",
   "id": "54732b28",
   "metadata": {},
   "source": [
    "### Links to Slideshow"
   ]
  },
  {
   "cell_type": "markdown",
   "id": "30dd51b7",
   "metadata": {},
   "source": [
    "- [Random Forest slide deck by Madeleine](https://www.canva.com/design/DAEfHW3Tuqk/rqISUzcTJtb_L-s9NnYJ8g/edit?utm_content=DAEfHW3Tuqk&utm_campaign=designshare&utm_medium=link2&utm_source=sharebutton)"
   ]
  },
  {
   "cell_type": "markdown",
   "id": "96a75093",
   "metadata": {},
   "source": [
    "- [Random Forest slide deck by Ravinder](https://docs.google.com/presentation/d/17ddHmFv4Gk9NzlqjdmfYSYNF5Y_6Pnmz/edit#slide=id.p1)"
   ]
  },
  {
   "cell_type": "markdown",
   "id": "a8239706",
   "metadata": {},
   "source": [
    "<hr style=\"border:1px solid black\">"
   ]
  },
  {
   "cell_type": "markdown",
   "id": "19321499",
   "metadata": {},
   "source": [
    "### Links to Video Recording"
   ]
  },
  {
   "cell_type": "markdown",
   "id": "135027f5",
   "metadata": {},
   "source": [
    "- [Random Forest video recording by Ryan O](https://youtu.be/0pPfxskm3_Y)"
   ]
  },
  {
   "cell_type": "markdown",
   "id": "9b34810a",
   "metadata": {},
   "source": [
    "- [Random Forest video recording by Ravinder](https://youtu.be/A3JjPiAAz8g)"
   ]
  },
  {
   "cell_type": "markdown",
   "id": "4bbf1b82",
   "metadata": {},
   "source": [
    "- [Random Forest exercises video recording by Ryan O](https://youtu.be/nIC8yZKlzMI)"
   ]
  },
  {
   "cell_type": "markdown",
   "id": "0647333e",
   "metadata": {},
   "source": [
    "<hr style=\"border:1px solid black\">"
   ]
  },
  {
   "cell_type": "markdown",
   "id": "ef553d62",
   "metadata": {},
   "source": [
    "### Video Tutorials"
   ]
  },
  {
   "cell_type": "markdown",
   "id": "69fe467a",
   "metadata": {},
   "source": [
    "N/A"
   ]
  },
  {
   "cell_type": "markdown",
   "id": "6d9b62db",
   "metadata": {},
   "source": [
    "<hr style=\"border:1px solid black\">"
   ]
  },
  {
   "cell_type": "markdown",
   "id": "8791a6d9",
   "metadata": {},
   "source": [
    "### Link to Curriculum Page"
   ]
  },
  {
   "cell_type": "markdown",
   "id": "394eb8a1",
   "metadata": {},
   "source": [
    "[Random Forest](https://ds.codeup.com/classification/random-forests/)"
   ]
  },
  {
   "cell_type": "markdown",
   "id": "96654790",
   "metadata": {},
   "source": [
    "<hr style=\"border:1px solid black\">"
   ]
  },
  {
   "cell_type": "markdown",
   "id": "9a6856ab",
   "metadata": {},
   "source": [
    "### Other"
   ]
  },
  {
   "cell_type": "markdown",
   "id": "b684668a",
   "metadata": {},
   "source": [
    "N/A"
   ]
  }
 ],
 "metadata": {
  "kernelspec": {
   "display_name": "Python 3 (ipykernel)",
   "language": "python",
   "name": "python3"
  },
  "language_info": {
   "codemirror_mode": {
    "name": "ipython",
    "version": 3
   },
   "file_extension": ".py",
   "mimetype": "text/x-python",
   "name": "python",
   "nbconvert_exporter": "python",
   "pygments_lexer": "ipython3",
   "version": "3.9.13"
  }
 },
 "nbformat": 4,
 "nbformat_minor": 5
}
