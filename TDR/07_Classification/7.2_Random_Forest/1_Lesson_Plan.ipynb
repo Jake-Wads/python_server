{
 "cells": [
  {
   "cell_type": "markdown",
   "id": "0a23679a",
   "metadata": {},
   "source": [
    "# Lesson Plan: Random Forest"
   ]
  },
  {
   "cell_type": "markdown",
   "id": "54aea691",
   "metadata": {},
   "source": [
    "<hr style=\"border:2px solid gray\">"
   ]
  },
  {
   "cell_type": "markdown",
   "id": "4dc33e6d",
   "metadata": {},
   "source": [
    "### 1. Lesson Objective"
   ]
  },
  {
   "cell_type": "markdown",
   "id": "bee17f37",
   "metadata": {},
   "source": [
    "<b>Random Forest Learning Objectives:</b>\n",
    "1. Students will understand what a random forest classifier is and does.\n",
    "2. Students will be able to create, fit and use a random forest classifier.\n",
    "3. Students will understand what different hyperparameters of a random forest classifier allow (including but not limited to: max_depth, min_samples_leaf, class_weight, etc)\n",
    "4. Students will be able to evaluate importance of features.\n",
    "5. Students will be able to create confusion matrices and classification reports."
   ]
  },
  {
   "cell_type": "markdown",
   "id": "95089a93",
   "metadata": {},
   "source": [
    "<hr style=\"border:1px solid black\">"
   ]
  },
  {
   "cell_type": "markdown",
   "id": "e61cd878",
   "metadata": {},
   "source": [
    "### 2. Pacing/timing of lectures/exercises"
   ]
  },
  {
   "cell_type": "markdown",
   "id": "9ae9169d",
   "metadata": {},
   "source": [
    "- <b>Student reading time</b>: 15 minutes\n",
    "- <b>Lecture</b>: \n",
    "    - Slide Deck: 30 minutes \n",
    "    - Lesson: 30 minutes\n",
    "- <b>Exercise work time</b>: 1 hour\n",
    "- <b>Exercise review</b>: 30 minutes"
   ]
  },
  {
   "cell_type": "markdown",
   "id": "ffcf3cee",
   "metadata": {},
   "source": [
    "<hr style=\"border:1px solid black\">"
   ]
  },
  {
   "cell_type": "markdown",
   "id": "899c52a2",
   "metadata": {},
   "source": [
    "### 3. Materials"
   ]
  },
  {
   "cell_type": "markdown",
   "id": "e63a4bd3",
   "metadata": {},
   "source": [
    "- Laptop\n",
    "- Codeup curriculum\n",
    "- Python (version 3 or newer)\n",
    "- Jupyter notebook\n",
    "- Sequal Ace and credentials\n",
    "- ```env.py``` file\n",
    "- ```.gitignore.py``` file\n",
    "- ```acquire.py``` file\n",
    "- ```prepare.py``` file"
   ]
  },
  {
   "cell_type": "markdown",
   "id": "738aee26",
   "metadata": {},
   "source": [
    "<hr style=\"border:1px solid black\">"
   ]
  },
  {
   "cell_type": "markdown",
   "id": "f11b3e54",
   "metadata": {},
   "source": [
    "### 4. Vocabulary"
   ]
  },
  {
   "cell_type": "markdown",
   "id": "b4efbe58",
   "metadata": {},
   "source": [
    "<b>Ensemble</b>: A technique that combines many models to make predictions (ie: Random Forest is an ensemble of Decision Tree Classifier)\n",
    "<br>\n",
    "\n",
    "<b>Bootstrapping</b>: Random sampling of the training data set and using different samples to train each tree.\n",
    "<br>\n",
    "\n",
    "<b>Aggregation</b>: Combination of predictions from all trees to make one final prediction\n",
    "<br>\n",
    "\n",
    "<b>Bagging</b>: (bootstrapping aggregation) Technique that combines boostrapping and aggregation."
   ]
  },
  {
   "cell_type": "markdown",
   "id": "418e19c4",
   "metadata": {},
   "source": [
    "<hr style=\"border:1px solid black\">"
   ]
  },
  {
   "cell_type": "markdown",
   "id": "f514ef37",
   "metadata": {},
   "source": [
    "### 5. Assessments (what are they)"
   ]
  },
  {
   "cell_type": "markdown",
   "id": "3b1bbd1c",
   "metadata": {},
   "source": [
    "- The only written assessment for Classification is comprehensive at the end of the section."
   ]
  },
  {
   "cell_type": "markdown",
   "id": "4b76ab73",
   "metadata": {},
   "source": [
    "<hr style=\"border:1px solid black\">"
   ]
  },
  {
   "cell_type": "markdown",
   "id": "ec6be5ac",
   "metadata": {},
   "source": [
    "### 6. Table of Contents"
   ]
  },
  {
   "cell_type": "markdown",
   "id": "f3e95689",
   "metadata": {},
   "source": [
    "- Train Validate Test\n",
    "- Train Model\n",
    "- Evaluate Model\n",
    "- Validate Model\n",
    "- Exercises"
   ]
  }
 ],
 "metadata": {
  "kernelspec": {
   "display_name": "Python 3 (ipykernel)",
   "language": "python",
   "name": "python3"
  },
  "language_info": {
   "codemirror_mode": {
    "name": "ipython",
    "version": 3
   },
   "file_extension": ".py",
   "mimetype": "text/x-python",
   "name": "python",
   "nbconvert_exporter": "python",
   "pygments_lexer": "ipython3",
   "version": "3.9.13"
  }
 },
 "nbformat": 4,
 "nbformat_minor": 5
}
