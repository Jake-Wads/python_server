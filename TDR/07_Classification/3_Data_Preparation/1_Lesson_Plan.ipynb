{
 "cells": [
  {
   "cell_type": "markdown",
   "id": "0a23679a",
   "metadata": {},
   "source": [
    "# Lesson Plan: Data Preparation"
   ]
  },
  {
   "cell_type": "markdown",
   "id": "54aea691",
   "metadata": {},
   "source": [
    "<hr style=\"border:2px solid gray\">"
   ]
  },
  {
   "cell_type": "markdown",
   "id": "4dc33e6d",
   "metadata": {},
   "source": [
    "### 1. Lesson Objective"
   ]
  },
  {
   "cell_type": "markdown",
   "id": "bee17f37",
   "metadata": {},
   "source": [
    "<b>Data Preparation Learning Objectives:</b>\n",
    "1. Students will be able to summarize data using head(), describe(), info(), isnull(), value_counts(), etc\n",
    "2. Students will be able to create simple visualizations using plt.hist(), plt.boxplot(), etc\n",
    "3. Students will be able to determine how to deal with null data and outliers.\n",
    "4. Students will be able to change data types, rename columns and scale numeric data.\n",
    "5. Students will be able to split data into train, validate and split datasets."
   ]
  },
  {
   "cell_type": "markdown",
   "id": "95089a93",
   "metadata": {},
   "source": [
    "<hr style=\"border:1px solid black\">"
   ]
  },
  {
   "cell_type": "markdown",
   "id": "e61cd878",
   "metadata": {},
   "source": [
    "### 2. Pacing/timing of lectures/exercises"
   ]
  },
  {
   "cell_type": "markdown",
   "id": "9ae9169d",
   "metadata": {},
   "source": [
    "- <b>Student reading time</b>: 15 minutes\n",
    "- <b>Lecture</b>: 45 minutes\n",
    "- <b>Exercise work time</b>: 3 hours\n",
    "- <b>Exercise review</b>: 1 hour"
   ]
  },
  {
   "cell_type": "markdown",
   "id": "ffcf3cee",
   "metadata": {},
   "source": [
    "<hr style=\"border:1px solid black\">"
   ]
  },
  {
   "cell_type": "markdown",
   "id": "899c52a2",
   "metadata": {},
   "source": [
    "### 3. Materials"
   ]
  },
  {
   "cell_type": "markdown",
   "id": "e63a4bd3",
   "metadata": {},
   "source": [
    "- Laptop\n",
    "- Codeup curriculum\n",
    "- Python (version 3 or newer)\n",
    "- Jupyter notebook\n",
    "- Sequel Ace credentials\n",
    "- ```env.py``` file\n",
    "- ```.gitignore``` file\n",
    "- ```acquire.py``` file\n",
    "- tvt_split image [found here](https://github.com/gocodeup/data-science-curriculum/blob/master/TDR/7_Classification/3_Data_Preparation/tvt_split.png)"
   ]
  },
  {
   "cell_type": "markdown",
   "id": "738aee26",
   "metadata": {},
   "source": [
    "<hr style=\"border:1px solid black\">"
   ]
  },
  {
   "cell_type": "markdown",
   "id": "f11b3e54",
   "metadata": {},
   "source": [
    "### 4. Vocabulary"
   ]
  },
  {
   "cell_type": "markdown",
   "id": "b4efbe58",
   "metadata": {},
   "source": [
    "- <b>Splitting Data</b>: This refers to splitting a dataset into random samples for the train, validate, and test datasets. They consist of 80% train, validate (60% and 20% respectively) and 20% test.\n",
    "- <b>Imputing Missing Values</b>: the substitution of estimated values for missing or inconsistent data items (fields)."
   ]
  },
  {
   "cell_type": "markdown",
   "id": "418e19c4",
   "metadata": {},
   "source": [
    "<hr style=\"border:1px solid black\">"
   ]
  },
  {
   "cell_type": "markdown",
   "id": "f514ef37",
   "metadata": {},
   "source": [
    "### 5. Assessments (what are they)"
   ]
  },
  {
   "cell_type": "markdown",
   "id": "3b1bbd1c",
   "metadata": {},
   "source": [
    "- The only written assessment for Classification is comprehensive at the end of the section."
   ]
  },
  {
   "cell_type": "markdown",
   "id": "4b76ab73",
   "metadata": {},
   "source": [
    "<hr style=\"border:1px solid black\">"
   ]
  },
  {
   "cell_type": "markdown",
   "id": "ec6be5ac",
   "metadata": {},
   "source": [
    "### 6. Table of Contents"
   ]
  },
  {
   "cell_type": "markdown",
   "id": "f3e95689",
   "metadata": {},
   "source": [
    "- Overview\n",
    "- Summarize the Acquired Data\n",
    "- Clean the Data\n",
    "- Split the Data\n",
    "- Impute Missing Values\n",
    "- Exercises"
   ]
  }
 ],
 "metadata": {
  "kernelspec": {
   "display_name": "Python 3 (ipykernel)",
   "language": "python",
   "name": "python3"
  },
  "language_info": {
   "codemirror_mode": {
    "name": "ipython",
    "version": 3
   },
   "file_extension": ".py",
   "mimetype": "text/x-python",
   "name": "python",
   "nbconvert_exporter": "python",
   "pygments_lexer": "ipython3",
   "version": "3.9.13"
  }
 },
 "nbformat": 4,
 "nbformat_minor": 5
}
