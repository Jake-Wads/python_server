{
 "cells": [
  {
   "cell_type": "markdown",
   "id": "0b71f44e",
   "metadata": {},
   "source": [
    "# Logistic Regression Exercises\n",
    "\n",
    "**Imports**"
   ]
  },
  {
   "cell_type": "code",
   "execution_count": 81,
   "id": "8e84b610",
   "metadata": {},
   "outputs": [],
   "source": [
    "import numpy as np\n",
    "import pandas as pd\n",
    "from sklearn.linear_model import LogisticRegression\n",
    "import acquire\n",
    "from prepare import prep_titanic_data\n",
    "import matplotlib.pyplot as plt\n",
    "from sklearn.metrics import classification_report, confusion_matrix\n",
    "import seaborn as sns\n",
    "\n",
    "import warnings\n",
    "warnings.filterwarnings(\"ignore\")"
   ]
  },
  {
   "cell_type": "markdown",
   "id": "48bb4a5d",
   "metadata": {},
   "source": [
    "**Acquire & Prepare**"
   ]
  },
  {
   "cell_type": "code",
   "execution_count": 82,
   "id": "c3db643e",
   "metadata": {},
   "outputs": [
    {
     "data": {
      "text/plain": [
       "((498, 9), (214, 9), (179, 9))"
      ]
     },
     "execution_count": 82,
     "metadata": {},
     "output_type": "execute_result"
    }
   ],
   "source": [
    "# Acquire Step\n",
    "df = acquire.get_titanic_data()\n",
    "# prepare the data\n",
    "train, validate, test = prep_titanic_data(df)\n",
    "\n",
    "# drop object columns and create X_train of features only \n",
    "# and y_train of survived only. \n",
    "X_train = train.drop(columns=['survived','sex','embark_town'])\n",
    "y_train = train.survived\n",
    "\n",
    "X_validate = validate.drop(columns=['survived','sex', 'embark_town'])\n",
    "y_validate = validate.survived\n",
    "\n",
    "X_test = test.drop(columns=['survived','sex', 'embark_town'])\n",
    "y_test = test.survived\n",
    "\n",
    "# check the shape\n",
    "X_train.shape, X_validate.shape, X_test.shape"
   ]
  },
  {
   "cell_type": "markdown",
   "id": "2136e302",
   "metadata": {},
   "source": [
    "**Explore**\n",
    "\n",
    "* Think back to your Explore lesson and ask questions you want to know about the data\n",
    "* Make decisions on which varaibles to keep and which to discard\n",
    "* Accomplish feature engineering to provide the model with new variables\n",
    "\n",
    "**Model**\n",
    "\n",
    "0. Baseline (mode of the target for classification problems)\n",
    "1. Create Algorithm Object\n",
    "2. Create Model by fitting algorithm to X_train, y_train\n",
    "3. Run Model by predicting using X_train\n",
    "4. Evaluate Model by comparing y_train_pred with y_train (actual values)\n",
    "5. Run Model by predicting using X_validate\n",
    "6. Evaluate Model by comparing y_validate_pred with y_validate (actual values)\n",
    "\n",
    "**Baseline**"
   ]
  },
  {
   "cell_type": "code",
   "execution_count": 83,
   "id": "2a6f016b",
   "metadata": {},
   "outputs": [],
   "source": [
    "# write a function to compute the baseline for a classification model\n",
    "def establish_baseline(y_train):\n",
    "    #  establish the value we will predict for all observations\n",
    "    baseline_prediction = y_train.mode()\n",
    "\n",
    "    # create a series of predictions with that value, \n",
    "    # the same length as our training set\n",
    "    y_train_pred = pd.Series([0]*len(y_train))\n",
    "\n",
    "    # compute accuracy of baseline\n",
    "    cm = confusion_matrix(y_train, y_train_pred)\n",
    "    tn, fp, fn, tp = cm.ravel()\n",
    "\n",
    "    accuracy = (tp+tn)/(tn+fp+fn+tp)\n",
    "    return accuracy"
   ]
  },
  {
   "cell_type": "code",
   "execution_count": 84,
   "id": "f0cd48fa",
   "metadata": {},
   "outputs": [],
   "source": [
    "baseline_accuracy = establish_baseline(y_train)"
   ]
  },
  {
   "cell_type": "markdown",
   "id": "ebbf429e",
   "metadata": {},
   "source": [
    "In these exercises, we'll continue working with the titanic dataset and building logistic regression models. Throughout this exercise, be sure you are training, evaluation, and comparing models on the train and validate datasets. The test dataset should only be used for your final model.\n",
    "\n",
    "For all of the models you create, choose a threshold that optimizes for accuracy.\n",
    "\n",
    "### Question 1\n",
    "\n",
    "Create a model that includes only age, fare, and pclass. Does this model perform better than your baseline?"
   ]
  },
  {
   "cell_type": "code",
   "execution_count": 85,
   "id": "73a2677b",
   "metadata": {},
   "outputs": [
    {
     "name": "stdout",
     "output_type": "stream",
     "text": [
      "Train Accuracy: 0.6947791164658634\n",
      "Baseline Accuracy: 0.6164658634538153\n"
     ]
    }
   ],
   "source": [
    "# create algorithm object\n",
    "logit1 = LogisticRegression(C=1, \n",
    "                           random_state=123, \n",
    "                           intercept_scaling=1, \n",
    "                           solver='liblinear'\n",
    "                          )\n",
    "\n",
    "# fit model with age, pclass and fare as only features\n",
    "logit1.fit(X_train[['age', 'pclass', 'fare']], y_train)\n",
    "\n",
    "# compute accuracy\n",
    "train_accuracy = logit1.score(X_train[['age', 'pclass', 'fare']], \n",
    "                             y_train)\n",
    "\n",
    "# compare this model with baseline\n",
    "print(f'Train Accuracy: {train_accuracy}')\n",
    "print(f'Baseline Accuracy: {baseline_accuracy}')"
   ]
  },
  {
   "cell_type": "markdown",
   "id": "abbbab32",
   "metadata": {},
   "source": [
    "The model performs better than baseline with age, pclass and fare as the only features, when using the default hyperparameters. \n",
    "\n",
    "### Question 2\n",
    "\n",
    "Include sex in your model as well. Note that you'll need to encode or create a dummy variable of this feature before including it in a model."
   ]
  },
  {
   "cell_type": "code",
   "execution_count": 86,
   "id": "5e2d9f7d",
   "metadata": {},
   "outputs": [
    {
     "name": "stdout",
     "output_type": "stream",
     "text": [
      "Train Accuracy: 0.7971887550200804\n",
      "Baseline Accuracy: 0.6164658634538153\n"
     ]
    }
   ],
   "source": [
    "# create algorithm object\n",
    "logit2 = LogisticRegression(C=1,\n",
    "                           random_state=123, \n",
    "                           intercept_scaling=1, \n",
    "                           solver='liblinear'\n",
    "                          )\n",
    "\n",
    "# fit model with age, pclass, fare and sex_male as only features\n",
    "logit2.fit(X_train[['age', 'pclass', 'fare', 'sex_male']], \n",
    "          y_train)\n",
    "\n",
    "# compute accuracy\n",
    "train_accuracy = logit2.score(X_train[['age', 'pclass', 'fare', 'sex_male']], \n",
    "                             y_train)\n",
    "\n",
    "# compare this model with baseline\n",
    "print(f'Train Accuracy: {train_accuracy}')\n",
    "print(f'Baseline Accuracy: {baseline_accuracy}')"
   ]
  },
  {
   "cell_type": "markdown",
   "id": "7ccf241e",
   "metadata": {},
   "source": [
    "### Question 3\n",
    "\n",
    "Try out other combinations of features and models."
   ]
  },
  {
   "cell_type": "code",
   "execution_count": 87,
   "id": "d8d2fc73",
   "metadata": {},
   "outputs": [
    {
     "name": "stdout",
     "output_type": "stream",
     "text": [
      "Train Accuracy: 0.8072289156626506\n",
      "Baseline Accuracy: 0.6164658634538153\n"
     ]
    }
   ],
   "source": [
    "# create algorithm object\n",
    "logit3 = LogisticRegression(C=1, \n",
    "                           random_state=123, \n",
    "                           intercept_scaling=1, \n",
    "                           solver='liblinear'\n",
    "                          )\n",
    "\n",
    "# fit model with all features\n",
    "logit3.fit(X_train, y_train)\n",
    "\n",
    "# compute accuracy\n",
    "train_accuracy = logit3.score(X_train, y_train)\n",
    "\n",
    "# compare this model with baseline\n",
    "print(f'Train Accuracy: {train_accuracy}')\n",
    "print(f'Baseline Accuracy: {baseline_accuracy}')"
   ]
  },
  {
   "cell_type": "markdown",
   "id": "9fe1b4c7",
   "metadata": {},
   "source": [
    "For the next few models, we will use all the same features as in the 3rd model, but we will adjust the hyperparameters. \n",
    "\n",
    "First, change the solver to 'lbfgs'. "
   ]
  },
  {
   "cell_type": "code",
   "execution_count": 88,
   "id": "ca2ecb96",
   "metadata": {},
   "outputs": [
    {
     "name": "stdout",
     "output_type": "stream",
     "text": [
      "Train Accuracy: 0.8192771084337349\n",
      "Baseline Accuracy: 0.6164658634538153\n"
     ]
    }
   ],
   "source": [
    "# create algorithm object\n",
    "logit4 = LogisticRegression(C=1, \n",
    "                           random_state=123, \n",
    "                           intercept_scaling=1, \n",
    "                           solver='lbfgs'\n",
    "                          )\n",
    "\n",
    "# fit model with all features\n",
    "logit4.fit(X_train, y_train)\n",
    "\n",
    "# compute accuracy\n",
    "train_acc4 = logit4.score(X_train, y_train)\n",
    "\n",
    "# compare this model with baseline\n",
    "print(f'Train Accuracy: {train_acc4}')\n",
    "print(f'Baseline Accuracy: {baseline_accuracy}')"
   ]
  },
  {
   "cell_type": "markdown",
   "id": "656818bb",
   "metadata": {},
   "source": [
    "Next, change the class_weight to 'balanced'"
   ]
  },
  {
   "cell_type": "code",
   "execution_count": 89,
   "id": "89dea736",
   "metadata": {},
   "outputs": [
    {
     "name": "stdout",
     "output_type": "stream",
     "text": [
      "Train Accuracy: 0.8072289156626506\n",
      "Baseline Accuracy: 0.6164658634538153\n"
     ]
    }
   ],
   "source": [
    "# create algorithm object\n",
    "logit5 = LogisticRegression(C=1,\n",
    "                            class_weight='balanced',\n",
    "                            random_state=123, \n",
    "                            intercept_scaling=1, \n",
    "                            solver='lbfgs'\n",
    "                           )\n",
    "\n",
    "# fit model with all features\n",
    "logit5.fit(X_train, y_train)\n",
    "\n",
    "# compute accuracy\n",
    "train_acc5 = logit5.score(X_train, y_train)\n",
    "\n",
    "# compare this model with baseline\n",
    "print(f'Train Accuracy: {train_acc5}')\n",
    "print(f'Baseline Accuracy: {baseline_accuracy}')"
   ]
  },
  {
   "cell_type": "markdown",
   "id": "b1ac7f86",
   "metadata": {},
   "source": [
    "That reduced performance slightly. So I will revert back to the default of 'None'. \n",
    "Now, I will try adjusting the C value. "
   ]
  },
  {
   "cell_type": "code",
   "execution_count": 90,
   "id": "3bb10521",
   "metadata": {},
   "outputs": [
    {
     "name": "stdout",
     "output_type": "stream",
     "text": [
      "Train Accuracy: 0.8273092369477911\n",
      "Baseline Accuracy: 0.6164658634538153\n"
     ]
    }
   ],
   "source": [
    "# create algorithm object\n",
    "logit6 = LogisticRegression(C=0.1,\n",
    "                            random_state=123, \n",
    "                            intercept_scaling=1, \n",
    "                            solver='lbfgs'\n",
    "                           )\n",
    "\n",
    "# fit model with all features\n",
    "logit6.fit(X_train, y_train)\n",
    "\n",
    "# compute accuracy\n",
    "train_acc6 = logit6.score(X_train, y_train)\n",
    "\n",
    "# compare this model with baseline\n",
    "print(f'Train Accuracy: {train_acc6}')\n",
    "print(f'Baseline Accuracy: {baseline_accuracy}')"
   ]
  },
  {
   "cell_type": "markdown",
   "id": "dac3c5dd",
   "metadata": {},
   "source": [
    "Changing my C value to be closer to 0, meaning I'm increasing the regularization strength. \n",
    "\n",
    "My 3 best models are currently: logit4, logit5, logit6"
   ]
  },
  {
   "cell_type": "markdown",
   "id": "2ee8118b",
   "metadata": {},
   "source": [
    "### Question 4\n",
    "\n",
    "Use your best 3 models to predict and evaluate on your validate sample."
   ]
  },
  {
   "cell_type": "code",
   "execution_count": 91,
   "id": "6454396d",
   "metadata": {},
   "outputs": [
    {
     "data": {
      "text/html": [
       "<div>\n",
       "<style scoped>\n",
       "    .dataframe tbody tr th:only-of-type {\n",
       "        vertical-align: middle;\n",
       "    }\n",
       "\n",
       "    .dataframe tbody tr th {\n",
       "        vertical-align: top;\n",
       "    }\n",
       "\n",
       "    .dataframe thead th {\n",
       "        text-align: right;\n",
       "    }\n",
       "</style>\n",
       "<table border=\"1\" class=\"dataframe\">\n",
       "  <thead>\n",
       "    <tr style=\"text-align: right;\">\n",
       "      <th></th>\n",
       "      <th>model</th>\n",
       "      <th>in-sample accuracy</th>\n",
       "      <th>out-of-sample accuracy</th>\n",
       "    </tr>\n",
       "  </thead>\n",
       "  <tbody>\n",
       "    <tr>\n",
       "      <th>0</th>\n",
       "      <td>4</td>\n",
       "      <td>0.819277</td>\n",
       "      <td>0.775701</td>\n",
       "    </tr>\n",
       "    <tr>\n",
       "      <th>1</th>\n",
       "      <td>5</td>\n",
       "      <td>0.807229</td>\n",
       "      <td>0.771028</td>\n",
       "    </tr>\n",
       "    <tr>\n",
       "      <th>2</th>\n",
       "      <td>6</td>\n",
       "      <td>0.827309</td>\n",
       "      <td>0.789720</td>\n",
       "    </tr>\n",
       "  </tbody>\n",
       "</table>\n",
       "</div>"
      ],
      "text/plain": [
       "   model  in-sample accuracy  out-of-sample accuracy\n",
       "0      4            0.819277                0.775701\n",
       "1      5            0.807229                0.771028\n",
       "2      6            0.827309                0.789720"
      ]
     },
     "execution_count": 91,
     "metadata": {},
     "output_type": "execute_result"
    }
   ],
   "source": [
    "# use logit4 to make predictions for the X_validate observations\n",
    "y_val_pred4 = logit4.predict(X_validate)\n",
    "# compute accuracy\n",
    "val_acc4 = logit4.score(X_validate, y_validate)\n",
    "# create a list of model_number, training accuracy, validate accuracy\n",
    "# to add to a dataframe at the end comparing all the models. \n",
    "model4 = [4, train_acc4, val_acc4]\n",
    "\n",
    "# use logit5 to make predictions for the X_validate observations\n",
    "y_val_pred5 = logit5.predict(X_validate)\n",
    "# compute accuracy\n",
    "val_acc5 = logit5.score(X_validate, y_validate)\n",
    "# create a list of model_number, training accuracy, validate accuracy\n",
    "# to add to a dataframe at the end comparing all the models. \n",
    "model5 = [5, train_acc5, val_acc5]\n",
    "\n",
    "# use logit6 to make predictions for the X_validate observations\n",
    "y_val_pred6 = logit6.predict(X_validate)\n",
    "# compute accuracy\n",
    "val_acc6 = logit6.score(X_validate, y_validate)\n",
    "# create a list of model_number, training accuracy, validate accuracy\n",
    "# to add to a dataframe at the end comparing all the models. \n",
    "model6 = [6, train_acc6, val_acc6]\n",
    "\n",
    "pd.DataFrame([model4, model5, model6], columns=['model', \n",
    "                                                'in-sample accuracy',\n",
    "                                                'out-of-sample accuracy'\n",
    "                                               ])\n"
   ]
  },
  {
   "cell_type": "markdown",
   "id": "3ed50c3a",
   "metadata": {},
   "source": [
    "The best model of these is model 6, which has the highest accuracy in both training and validate, and a minimal difference between the two. "
   ]
  },
  {
   "cell_type": "markdown",
   "id": "23bb66b9",
   "metadata": {},
   "source": [
    "### Question 5\n",
    "\n",
    "Choose you best model from the validation performation, and evaluate it on the test dataset. How do the performance metrics compare to validate? to train?"
   ]
  },
  {
   "cell_type": "code",
   "execution_count": 92,
   "id": "117b7505",
   "metadata": {},
   "outputs": [
    {
     "data": {
      "text/plain": [
       "0.8044692737430168"
      ]
     },
     "execution_count": 92,
     "metadata": {},
     "output_type": "execute_result"
    }
   ],
   "source": [
    "# use logit6 to make predictions for the X_validate observations\n",
    "y_test_pred = logit6.predict(X_test)\n",
    "# compute accuracy\n",
    "test_acc = logit6.score(X_test, y_test)\n",
    "\n",
    "test_acc"
   ]
  },
  {
   "cell_type": "markdown",
   "id": "00a5015e",
   "metadata": {},
   "source": [
    "Feature Importance"
   ]
  },
  {
   "cell_type": "code",
   "execution_count": 94,
   "id": "eabd93e6",
   "metadata": {},
   "outputs": [
    {
     "name": "stdout",
     "output_type": "stream",
     "text": [
      "Coefficient: \n",
      " [[-8.13986730e-01 -2.69531283e-02 -3.35788586e-01 -1.51096212e-02\n",
      "   1.08585214e-03 -3.63943367e-01 -1.78010962e+00  3.18878593e-01\n",
      "  -1.28262363e-01]]\n",
      "Intercept: \n",
      " [3.67451859]\n"
     ]
    }
   ],
   "source": [
    "print('Coefficient: \\n', logit6.coef_)\n",
    "print('Intercept: \\n', logit6.intercept_)"
   ]
  },
  {
   "cell_type": "markdown",
   "id": "3f405539",
   "metadata": {},
   "source": [
    "Estimate Probability"
   ]
  },
  {
   "cell_type": "code",
   "execution_count": 96,
   "id": "a15ee938",
   "metadata": {},
   "outputs": [
    {
     "data": {
      "image/png": "[encoded data removed]",
      "text/plain": [
       "<Figure size 432x288 with 1 Axes>"
      ]
     },
     "metadata": {
      "needs_background": "light"
     },
     "output_type": "display_data"
    }
   ],
   "source": [
    "# Create an array of probabilities of surviving\n",
    "\n",
    "y_pred_proba = logit6.predict_proba(X_test)\n",
    "# select the 2nd item in the array to get prob of survival (1)\n",
    "y_pred_proba = np.array([i[1] for i in y_pred_proba])\n",
    "\n",
    "test_results = pd.DataFrame({'probability': y_pred_proba, \n",
    "                             'prediction': y_test_pred,\n",
    "                             'actual': y_test})\n",
    "\n",
    "sns.scatterplot(x='probability', y='prediction', \n",
    "                data=test_results, \n",
    "                hue='actual'\n",
    "               )\n",
    "plt.show()"
   ]
  },
  {
   "cell_type": "code",
   "execution_count": null,
   "id": "82a92a3d",
   "metadata": {},
   "outputs": [],
   "source": []
  },
  {
   "cell_type": "markdown",
   "id": "79f4917f",
   "metadata": {},
   "source": [
    "Accuracy is slightly higher on test than on validate, and it is slightly lower on test than train. "
   ]
  }
 ],
 "metadata": {
  "kernelspec": {
   "display_name": "Python 3",
   "language": "python",
   "name": "python3"
  },
  "language_info": {
   "codemirror_mode": {
    "name": "ipython",
    "version": 3
   },
   "file_extension": ".py",
   "mimetype": "text/x-python",
   "name": "python",
   "nbconvert_exporter": "python",
   "pygments_lexer": "ipython3",
   "version": "3.8.8"
  }
 },
 "nbformat": 4,
 "nbformat_minor": 5
}
