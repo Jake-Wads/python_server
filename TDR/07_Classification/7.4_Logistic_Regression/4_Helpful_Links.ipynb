{
 "cells": [
  {
   "cell_type": "markdown",
   "id": "c8e3bb3a",
   "metadata": {},
   "source": [
    "# Helpful Links: Logistic Regression"
   ]
  },
  {
   "cell_type": "markdown",
   "id": "85fbe320",
   "metadata": {},
   "source": [
    "<hr style=\"border:2px solid gray\">"
   ]
  },
  {
   "cell_type": "markdown",
   "id": "c837d65d",
   "metadata": {},
   "source": [
    "### Links to Lesson Notebooks"
   ]
  },
  {
   "cell_type": "markdown",
   "id": "43690e6c",
   "metadata": {},
   "source": [
    "- [Noether](https://github.com/CodeupClassroom/noether-classification-exercises/blob/main/logistic_reg_lesson.ipynb)\n",
    "- [Mirzakhani](https://github.com/CodeupClassroom/mirzakhani-classification-exercises/blob/main/logistic_regression_lesson.ipynb)\n",
    "- [Leavitt](https://github.com/CodeupClassroom/leavitt-classification-exercises/blob/main/logistic_regression_lesson.ipynb)\n",
    "- [Kalpana](https://github.com/CodeupClassroom/kalpana-classification-exercises/blob/main/logistic_regression_lesson.ipynb)\n",
    "- Jemison: None\n",
    "- [Innis](https://github.com/CodeupClassroom/innis-classification-exercises/blob/main/logistic_regression_lesson.ipynb)"
   ]
  },
  {
   "cell_type": "markdown",
   "id": "16c7a82b",
   "metadata": {},
   "source": [
    "<hr style=\"border:1px solid black\">"
   ]
  },
  {
   "cell_type": "markdown",
   "id": "f150b7ea",
   "metadata": {},
   "source": [
    "### Links to Exercises Notebooks"
   ]
  },
  {
   "cell_type": "markdown",
   "id": "0e8055ff",
   "metadata": {},
   "source": [
    "- [Noether](https://github.com/CodeupClassroom/noether-classification-exercises/blob/main/logistic_regression_exercise.ipynb)\n",
    "- [Mirzakhani](https://github.com/CodeupClassroom/mirzakhani-classification-exercises/blob/main/logistic_regression_exercise.ipynb)\n",
    "- [Leavitt](https://github.com/CodeupClassroom/leavitt-classification-exercises/blob/main/logistic_regression_exercise.ipynb)\n",
    "- [Kalpana](https://github.com/CodeupClassroom/kalpana-classification-exercises/blob/main/logistic_regression_exercise.ipynb)\n",
    "- [Jemison](https://github.com/CodeupClassroom/jemison-classification-exercises/blob/main/logistic_regression_exercise.ipynb)\n",
    "- [Innis](https://github.com/CodeupClassroom/innis-classification-exercises/blob/main/logistic_regression_exercise.ipynb)"
   ]
  },
  {
   "cell_type": "markdown",
   "id": "196160ea",
   "metadata": {},
   "source": [
    "<hr style=\"border:1px solid black\">"
   ]
  },
  {
   "cell_type": "markdown",
   "id": "54732b28",
   "metadata": {},
   "source": [
    "### Links to Slideshow"
   ]
  },
  {
   "cell_type": "markdown",
   "id": "71cc8017",
   "metadata": {},
   "source": [
    "- [Logistic Regression Slide Deck by Madeleine](https://www.canva.com/design/DAEfWtGKNgc/VqwX9iLNaf4TV7YJg6XflQ/view?utm_content=DAEfWtGKNgc&utm_campaign=designshare&utm_medium=link2&utm_source=sharebutton)"
   ]
  },
  {
   "cell_type": "markdown",
   "id": "35881f76",
   "metadata": {},
   "source": [
    "- [Logistic Regression slide deck by Ravinder](https://docs.google.com/presentation/d/1ydkeqgGd4fx7qpq8YsSYL4MBGjl73ykM/edit#slide=id.p1)"
   ]
  },
  {
   "cell_type": "markdown",
   "id": "a8239706",
   "metadata": {},
   "source": [
    "<hr style=\"border:1px solid black\">"
   ]
  },
  {
   "cell_type": "markdown",
   "id": "19321499",
   "metadata": {},
   "source": [
    "### Links to Video Recording"
   ]
  },
  {
   "cell_type": "markdown",
   "id": "135027f5",
   "metadata": {},
   "source": [
    "- [Logistic regression video recording by Ravinder](https://youtu.be/RnfqsAPDsjc)"
   ]
  },
  {
   "cell_type": "markdown",
   "id": "0647333e",
   "metadata": {},
   "source": [
    "<hr style=\"border:1px solid black\">"
   ]
  },
  {
   "cell_type": "markdown",
   "id": "ef553d62",
   "metadata": {},
   "source": [
    "### Video Tutorials"
   ]
  },
  {
   "cell_type": "markdown",
   "id": "69fe467a",
   "metadata": {},
   "source": [
    "- [Logistic Regression by StatsQuest](https://www.youtube.com/watch?v=yIYKR4sgzI8)"
   ]
  },
  {
   "cell_type": "markdown",
   "id": "6d9b62db",
   "metadata": {},
   "source": [
    "<hr style=\"border:1px solid black\">"
   ]
  },
  {
   "cell_type": "markdown",
   "id": "8791a6d9",
   "metadata": {},
   "source": [
    "### Link to Curriculum Page"
   ]
  },
  {
   "cell_type": "markdown",
   "id": "394eb8a1",
   "metadata": {},
   "source": [
    "- [Logistic Regression](https://ds.codeup.com/classification/logistic-regression/)"
   ]
  },
  {
   "cell_type": "markdown",
   "id": "96654790",
   "metadata": {},
   "source": [
    "<hr style=\"border:1px solid black\">"
   ]
  },
  {
   "cell_type": "markdown",
   "id": "9a6856ab",
   "metadata": {},
   "source": [
    "### Other"
   ]
  },
  {
   "cell_type": "markdown",
   "id": "b684668a",
   "metadata": {},
   "source": [
    "N/A"
   ]
  }
 ],
 "metadata": {
  "kernelspec": {
   "display_name": "Python 3 (ipykernel)",
   "language": "python",
   "name": "python3"
  },
  "language_info": {
   "codemirror_mode": {
    "name": "ipython",
    "version": 3
   },
   "file_extension": ".py",
   "mimetype": "text/x-python",
   "name": "python",
   "nbconvert_exporter": "python",
   "pygments_lexer": "ipython3",
   "version": "3.9.13"
  }
 },
 "nbformat": 4,
 "nbformat_minor": 5
}
