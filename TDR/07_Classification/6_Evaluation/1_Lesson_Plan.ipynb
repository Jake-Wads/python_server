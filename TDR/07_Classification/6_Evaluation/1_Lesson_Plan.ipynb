{
 "cells": [
  {
   "cell_type": "markdown",
   "id": "0a23679a",
   "metadata": {},
   "source": [
    "# Lesson Plan: Evaluation"
   ]
  },
  {
   "cell_type": "markdown",
   "id": "54aea691",
   "metadata": {},
   "source": [
    "<hr style=\"border:2px solid gray\">"
   ]
  },
  {
   "cell_type": "markdown",
   "id": "4dc33e6d",
   "metadata": {},
   "source": [
    "### 1. Lesson Objective"
   ]
  },
  {
   "cell_type": "markdown",
   "id": "bee17f37",
   "metadata": {},
   "source": [
    "<b>Evaluation Learning Objectives:</b>\n",
    "1. Students will understand the concept of confusion matrix.\n",
    "2. Students will be able to explain and differentiate between true positive, true negative, false positive and false negative.\n",
    "3. Students will understand how to create a baseline.\n",
    "4. Students will understand common evaluation metrics to include: accuracy, precision, and recall."
   ]
  },
  {
   "cell_type": "markdown",
   "id": "95089a93",
   "metadata": {},
   "source": [
    "<hr style=\"border:1px solid black\">"
   ]
  },
  {
   "cell_type": "markdown",
   "id": "e61cd878",
   "metadata": {},
   "source": [
    "### 2. Pacing/timing of lectures/exercises"
   ]
  },
  {
   "cell_type": "markdown",
   "id": "9ae9169d",
   "metadata": {},
   "source": [
    "- <b>Student reading time</b>: 15 minutes\n",
    "- <b>Lecture</b>: 45 minutes\n",
    "- <b>Exercise work time</b>: 3 hours\n",
    "- <b>Exercise review</b>: 1 hour"
   ]
  },
  {
   "cell_type": "markdown",
   "id": "ffcf3cee",
   "metadata": {},
   "source": [
    "<hr style=\"border:1px solid black\">"
   ]
  },
  {
   "cell_type": "markdown",
   "id": "899c52a2",
   "metadata": {},
   "source": [
    "### 3. Materials"
   ]
  },
  {
   "cell_type": "markdown",
   "id": "e63a4bd3",
   "metadata": {},
   "source": [
    "- Laptop\n",
    "- Codeup curriculum\n",
    "- Python (version 3 or newer)\n",
    "- Jupyter notebook\n",
    "- ```c3.csv``` file [found here](https://ds.codeup.com/classification/evaluation/) in the curriculum\n",
    "- ```gives_you_paws.csv``` file [found here](https://ds.codeup.com/classification/evaluation/) in the curriculum\n",
    "- Confusion Matrix visual [Found here](https://github.com/gocodeup/data-science-curriculum/blob/master/TDR/7_Classification/6_Evaluation/confusion_matrix.png)"
   ]
  },
  {
   "cell_type": "markdown",
   "id": "738aee26",
   "metadata": {},
   "source": [
    "<hr style=\"border:1px solid black\">"
   ]
  },
  {
   "cell_type": "markdown",
   "id": "f11b3e54",
   "metadata": {},
   "source": [
    "### 4. Vocabulary"
   ]
  },
  {
   "cell_type": "markdown",
   "id": "b4efbe58",
   "metadata": {},
   "source": [
    "- <b>Confusion Matrix</b>: a cross-tabulation of our model's predictions against the actual values.\n",
    "- <b>Baseline</b>: a model that simply predicts the most common class every single time.\n",
    "- <b>Accuracy</b>: the number of times we predicted correctly divided by the total number of observations.\n",
    "- <b>Precision</b>: the percentage of positive predictions that we made that are correct\n",
    "- <b>Recall</b>: the percentage of positive cases that we accurately predicted.\n",
    "- <b>Misclassification Rate</b>: 1 - accuracy; how often does the model get it wrong?\n",
    "- <b>Sensitivity</b>: aka True Positive Rate; how good is our model when the actual value is positive? recall for the positive class\n",
    "- <b>Specificity</b>: How good is our model when the actual value is negative? Recall for the negative class\n",
    "- <b>False positive rate</b>: How likely is it we get a false positive when the actual value is negative?\n",
    "- <b>F1 Score</b>: the harmonic mean of precision and recall\n",
    "- <b>Area Under ROC Curve</b>: A way to measure overall model performance for models that predict not just a class, but a probability as well."
   ]
  },
  {
   "cell_type": "markdown",
   "id": "418e19c4",
   "metadata": {},
   "source": [
    "<hr style=\"border:1px solid black\">"
   ]
  },
  {
   "cell_type": "markdown",
   "id": "f514ef37",
   "metadata": {},
   "source": [
    "### 5. Assessments (what are they)"
   ]
  },
  {
   "cell_type": "markdown",
   "id": "3b1bbd1c",
   "metadata": {},
   "source": [
    "- The only written assessment for Classification is comprehensive at the end of the section."
   ]
  },
  {
   "cell_type": "markdown",
   "id": "4b76ab73",
   "metadata": {},
   "source": [
    "<hr style=\"border:1px solid black\">"
   ]
  },
  {
   "cell_type": "markdown",
   "id": "ec6be5ac",
   "metadata": {},
   "source": [
    "### 6. Table of Contents"
   ]
  },
  {
   "cell_type": "markdown",
   "id": "f3e95689",
   "metadata": {},
   "source": [
    "- The Confusion Matrix\n",
    "- Baseline\n",
    "- Common Evaluation Metrics\n",
    "    - Accuracy\n",
    "    - Precision\n",
    "    - Recall\n",
    "    - Other Metrics\n",
    "- Evaluation\n",
    "- Multi-Class Classification\n",
    "- Further Reading\n",
    "- Exercises"
   ]
  }
 ],
 "metadata": {
  "kernelspec": {
   "display_name": "Python 3 (ipykernel)",
   "language": "python",
   "name": "python3"
  },
  "language_info": {
   "codemirror_mode": {
    "name": "ipython",
    "version": 3
   },
   "file_extension": ".py",
   "mimetype": "text/x-python",
   "name": "python",
   "nbconvert_exporter": "python",
   "pygments_lexer": "ipython3",
   "version": "3.9.13"
  }
 },
 "nbformat": 4,
 "nbformat_minor": 5
}
