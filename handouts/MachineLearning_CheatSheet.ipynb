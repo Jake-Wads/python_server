{
 "cells": [
  {
   "cell_type": "markdown",
   "metadata": {},
   "source": [
    "# Common Algorithms for Common Tasks\n",
    "\n",
    "## Predicting values (ordered + numeric)\n",
    "\n",
    "- Generalized Linear Model: \n",
    "- Ordinary Least Squares\n",
    "- SVM: sklearn.svm.SVR\n",
    "- K-Nearest Neighbors: sklearn.neighbors.KNeighborsRegressor\n",
    "- Stepwise Regression\n",
    "- Ridge Regression: sklearn.linear_model.Ridge\n",
    "- LASSO: sklearn.linear_model.Lasso\n",
    "- Elastic Net: sklearn.linear_model.ElasticNet\n",
    "- LARS - Least Angle Regression: sklearn.linear_model.Lars\n",
    "- LOESS - Locally Estimated Scatterplot Smoothing\n",
    "- AdaBoost: sklearn.ensemble.AdaBoostRegressor\n",
    "- Bagging: sklearn.ensemble.BaggingRegressor\n",
    "- Gradient Boosting: sklearn.ensemble.GradientBoostingRegressor\n",
    "- Random Forest: sklearn.ensemble.RandomForestRegressor\n",
    "\n",
    "## Predicting categories\n",
    "\n",
    "- Decision Tree: sklearn.tree.DecisionTreeClassifier\n",
    "- Support Vector Machines: sklearn.svm.SVC\n",
    "- Logistic Regression: sklearn.linear_model.LogisticRegression\n",
    "- K-Nearest Neighbors: sklearn.neighbors.KNeighborsClassifier\n",
    "- AdaBoost: sklearn.ensemble.AdaBoostClassifier\n",
    "- Bagging: sklearn.ensemble.BaggingClassifier\n",
    "- Gradient Boosting: sklearn.ensemble.GradientBoostingClassifier\n",
    "- Random Forest: sklearn.ensemble.RandomForestClassifier\n",
    "- Naive Bayes: sklearn.naive_bayes.BernoulliNB\n",
    "\n",
    "## Discovering structure\n",
    "\n",
    "- K-Means clustering: sklearn.cluster.KMeans\n",
    "- Hierarchical clustering: sklearn.clsuter.AgglomerativeClustering\n",
    "- DBSCAN - Density based clustering: sklearn.cluster.DBSCAN\n",
    "\n",
    "## Finding unusual data points\n",
    "\n",
    "- One-class SVM: sklearn.svm.OneClassSVM\n",
    "- PCA-based anomaly detection\n",
    "\n",
    "## Feature Engineering\n",
    "\n",
    "- PCA - Principle Components Analysis (sklearn.decomposition.PCA())\n",
    "- Factor Analysis (sklearn.decomposition.FactorAnalysis())\n",
    "- LDA - Linear Discriminant Analysis: sklearn.discriminant_analysis.LinearDiscriminantAnalysis\n",
    "\n",
    "## Deep Learning\n",
    "\n",
    "- CNN - Convolutional Neural Network\n",
    "- RNN - Recursive Neural Network\n",
    "- DBN - Deep Belief Networks\n",
    "- Stacked Auto-Encoders\n"
   ]
  },
  {
   "cell_type": "code",
   "execution_count": null,
   "metadata": {},
   "outputs": [],
   "source": []
  }
 ],
 "metadata": {
  "kernelspec": {
   "display_name": "Python 3",
   "language": "python",
   "name": "python3"
  },
  "language_info": {
   "codemirror_mode": {
    "name": "ipython",
    "version": 3
   },
   "file_extension": ".py",
   "mimetype": "text/x-python",
   "name": "python",
   "nbconvert_exporter": "python",
   "pygments_lexer": "ipython3",
   "version": "3.7.1"
  }
 },
 "nbformat": 4,
 "nbformat_minor": 2
}
