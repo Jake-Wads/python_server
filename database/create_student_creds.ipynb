{
 "cells": [
  {
   "cell_type": "markdown",
   "id": "2f8b36b2",
   "metadata": {},
   "source": [
    "#### to generate sql credentials"
   ]
  },
  {
   "cell_type": "markdown",
   "id": "32d90963",
   "metadata": {},
   "source": [
    "0. be in `data-science-curriculum/database` in the terminal\n",
    "1. go to the tools app and download the student info as a csv\n",
    "2. update the filename to the path and name of the downloaded csv\n",
    "3. set cohort name"
   ]
  },
  {
   "cell_type": "code",
   "execution_count": 3,
   "id": "f9abeafc",
   "metadata": {},
   "outputs": [],
   "source": [
    "#location of downloaded student info\n",
    "filename = '~/Downloads/Codeup Instructor Tools  Ursula.csv'\n",
    "cohort_name = 'ursula'"
   ]
  },
  {
   "cell_type": "code",
   "execution_count": 4,
   "id": "dd365caa",
   "metadata": {},
   "outputs": [],
   "source": [
    "#standard imports\n",
    "import pandas as pd\n",
    "import numpy as np\n",
    "import os\n",
    "import subprocess"
   ]
  },
  {
   "cell_type": "code",
   "execution_count": 5,
   "id": "9993eaf8",
   "metadata": {},
   "outputs": [],
   "source": [
    "#read in file\n",
    "df = pd.read_csv(filename)\n",
    "\n",
    "#format username\n",
    "df['username'] = cohort_name + '_' + df.ID.astype(str)"
   ]
  },
  {
   "cell_type": "code",
   "execution_count": 6,
   "id": "4e939959",
   "metadata": {},
   "outputs": [],
   "source": [
    "#establish filenames\n",
    "usernames_txt = cohort_name + '-usernames.txt'\n",
    "passwords_txt = cohort_name + '.txt'\n",
    "\n",
    "#write to a file for generation\n",
    "with open(usernames_txt, 'w+') as f:\n",
    "    f.write('header ')\n",
    "    \n",
    "for user in df.username: \n",
    "    with open(usernames_txt, 'a+') as f:\n",
    "        f.writelines(user + ' ')"
   ]
  },
  {
   "cell_type": "markdown",
   "id": "c5dfc89a",
   "metadata": {},
   "source": [
    "#### run this in the terminal!!!"
   ]
  },
  {
   "cell_type": "code",
   "execution_count": 8,
   "id": "f08082af",
   "metadata": {},
   "outputs": [
    {
     "name": "stdout",
     "output_type": "stream",
     "text": [
      "python create_users.py -f ursula.txt -u $(< ursula-usernames.txt)\n"
     ]
    }
   ],
   "source": [
    "print(f'python create_users.py -f {passwords_txt} -u $(< {usernames_txt})')"
   ]
  },
  {
   "cell_type": "markdown",
   "id": "f36d5b46",
   "metadata": {},
   "source": [
    "#### once this is finished running, proceed"
   ]
  },
  {
   "cell_type": "code",
   "execution_count": 9,
   "id": "50be9e5e",
   "metadata": {},
   "outputs": [],
   "source": [
    "#read in usernames and passwords\n",
    "with open(passwords_txt) as f:\n",
    "    data = f.readlines()\n",
    "    \n",
    "#format passwords\n",
    "pw = pd.Series(data).str.strip('\\n').str.split(':', expand=True)\n",
    "pw.columns = ['username','password']\n",
    "\n",
    "#merge with initial df\n",
    "dff = df.merge(pw, how='inner', on='username')\n",
    "\n",
    "#format\n",
    "dff = dff[['Name','username','password']].sort_values('Name')"
   ]
  },
  {
   "cell_type": "code",
   "execution_count": 10,
   "id": "fc03855d",
   "metadata": {},
   "outputs": [],
   "source": [
    "for x in range(len(dff)):\n",
    "    with open('creds_for_students.txt', 'a') as f:\n",
    "        f.write(f\"\"\"{dff.iloc[x].Name}\n",
    "host: data.codeup.com\n",
    "username: {dff.iloc[x].username}\n",
    "password: {dff.iloc[x].password}\\n\\n\n",
    "\"\"\")"
   ]
  },
  {
   "cell_type": "markdown",
   "id": "a46e657e",
   "metadata": {},
   "source": [
    "#### give these out to students in google classroom"
   ]
  },
  {
   "cell_type": "code",
   "execution_count": 11,
   "id": "5a7705d8",
   "metadata": {},
   "outputs": [
    {
     "data": {
      "text/plain": [
       "CompletedProcess(args=['code', 'creds_for_students.txt'], returncode=0)"
      ]
     },
     "execution_count": 11,
     "metadata": {},
     "output_type": "execute_result"
    }
   ],
   "source": [
    "subprocess.run([\"code\", \"creds_for_students.txt\"]) "
   ]
  },
  {
   "cell_type": "markdown",
   "id": "1dda5258",
   "metadata": {},
   "source": [
    "#### removes files from data-science-curriculum/database"
   ]
  },
  {
   "cell_type": "code",
   "execution_count": 12,
   "id": "dc514bb7",
   "metadata": {},
   "outputs": [],
   "source": [
    "os.remove('creds_for_students.txt')\n",
    "os.remove(usernames_txt)\n",
    "os.remove(passwords_txt)"
   ]
  },
  {
   "cell_type": "code",
   "execution_count": null,
   "id": "1f29b438",
   "metadata": {},
   "outputs": [],
   "source": []
  }
 ],
 "metadata": {
  "kernelspec": {
   "display_name": "Python 3 (ipykernel)",
   "language": "python",
   "name": "python3"
  },
  "language_info": {
   "codemirror_mode": {
    "name": "ipython",
    "version": 3
   },
   "file_extension": ".py",
   "mimetype": "text/x-python",
   "name": "python",
   "nbconvert_exporter": "python",
   "pygments_lexer": "ipython3",
   "version": "3.9.12"
  }
 },
 "nbformat": 4,
 "nbformat_minor": 5
}
